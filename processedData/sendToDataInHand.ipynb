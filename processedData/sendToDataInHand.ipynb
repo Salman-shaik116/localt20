{
 "cells": [
  {
   "cell_type": "code",
   "execution_count": 1,
   "metadata": {},
   "outputs": [],
   "source": [
    "import polars as pl"
   ]
  },
  {
   "cell_type": "code",
   "execution_count": 3,
   "metadata": {},
   "outputs": [],
   "source": [
    "matches = pl.read_csv(\"matches.csv\")\n",
    "deliveries = pl.read_parquet(\"deliveries.parquet\")\n",
    "matchPlayers = pl.read_csv(\"Matchplayers.csv\")\n",
    "playerStats = pl.read_csv(\"playerStats.csv\")\n",
    "teamStats = pl.read_csv(\"teamStats.csv\")"
   ]
  },
  {
   "cell_type": "code",
   "execution_count": 7,
   "metadata": {},
   "outputs": [],
   "source": [
    "import os\n",
    "directory = r\"D:\\github\\localt20\\dataInHandNow\\afterPreprocessed\"\n",
    "\n",
    "matches.write_csv(os.path.join(directory,\"matches.csv\"))\n",
    "deliveries.write_parquet(os.path.join(directory,\"deliveries.parquet\"))\n",
    "matchPlayers.write_csv(os.path.join(directory,\"Matchplayers.csv\"))\n",
    "playerStats.write_csv(os.path.join(directory,\"playerStats.csv\"))\n",
    "teamStats.write_csv(os.path.join(directory,\"teamStats.csv\"))"
   ]
  },
  {
   "cell_type": "code",
   "execution_count": null,
   "metadata": {},
   "outputs": [],
   "source": []
  }
 ],
 "metadata": {
  "kernelspec": {
   "display_name": "eda",
   "language": "python",
   "name": "python3"
  },
  "language_info": {
   "codemirror_mode": {
    "name": "ipython",
    "version": 3
   },
   "file_extension": ".py",
   "mimetype": "text/x-python",
   "name": "python",
   "nbconvert_exporter": "python",
   "pygments_lexer": "ipython3",
   "version": "3.8.19"
  }
 },
 "nbformat": 4,
 "nbformat_minor": 2
}
