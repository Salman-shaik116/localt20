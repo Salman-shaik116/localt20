{
 "cells": [
  {
   "cell_type": "code",
   "execution_count": 1,
   "metadata": {},
   "outputs": [
    {
     "name": "stderr",
     "output_type": "stream",
     "text": [
      "2024-11-02 10:50:27.027806: E external/local_xla/xla/stream_executor/cuda/cuda_fft.cc:485] Unable to register cuFFT factory: Attempting to register factory for plugin cuFFT when one has already been registered\n",
      "2024-11-02 10:50:27.204135: E external/local_xla/xla/stream_executor/cuda/cuda_dnn.cc:8454] Unable to register cuDNN factory: Attempting to register factory for plugin cuDNN when one has already been registered\n",
      "2024-11-02 10:50:27.249420: E external/local_xla/xla/stream_executor/cuda/cuda_blas.cc:1452] Unable to register cuBLAS factory: Attempting to register factory for plugin cuBLAS when one has already been registered\n",
      "2024-11-02 10:50:27.693927: I tensorflow/core/platform/cpu_feature_guard.cc:210] This TensorFlow binary is optimized to use available CPU instructions in performance-critical operations.\n",
      "To enable the following instructions: AVX2 FMA, in other operations, rebuild TensorFlow with the appropriate compiler flags.\n",
      "WARNING: All log messages before absl::InitializeLog() is called are written to STDERR\n",
      "I0000 00:00:1730544640.523646    1599 cuda_executor.cc:1001] could not open file to read NUMA node: /sys/bus/pci/devices/0000:01:00.0/numa_node\n",
      "Your kernel may have been built without NUMA support.\n",
      "I0000 00:00:1730544640.701857    1599 cuda_executor.cc:1001] could not open file to read NUMA node: /sys/bus/pci/devices/0000:01:00.0/numa_node\n",
      "Your kernel may have been built without NUMA support.\n",
      "I0000 00:00:1730544640.701992    1599 cuda_executor.cc:1001] could not open file to read NUMA node: /sys/bus/pci/devices/0000:01:00.0/numa_node\n",
      "Your kernel may have been built without NUMA support.\n"
     ]
    }
   ],
   "source": [
    "import tensorflow as tf\n",
    "import warnings\n",
    "warnings.filterwarnings(\"ignore\")\n",
    "import os\n",
    "\n",
    "physical_devices = tf.config.list_physical_devices('GPU')\n",
    "if physical_devices:\n",
    "    for gpu in physical_devices:\n",
    "        tf.config.experimental.set_memory_growth(gpu,True)"
   ]
  },
  {
   "cell_type": "code",
   "execution_count": 11,
   "metadata": {},
   "outputs": [
    {
     "data": {
      "text/html": [
       "<div><style>\n",
       ".dataframe > thead > tr,\n",
       ".dataframe > tbody > tr {\n",
       "  text-align: right;\n",
       "  white-space: pre-wrap;\n",
       "}\n",
       "</style>\n",
       "<small>shape: (267_455, 6)</small><table border=\"1\" class=\"dataframe\"><thead><tr><th>match_id</th><th>innings</th><th>ball</th><th>curr_score</th><th>curr_wickets</th><th>won</th></tr><tr><td>i64</td><td>i64</td><td>f64</td><td>i64</td><td>i64</td><td>i64</td></tr></thead><tbody><tr><td>1001349</td><td>1</td><td>0.1</td><td>0</td><td>0</td><td>0</td></tr><tr><td>1001349</td><td>1</td><td>0.2</td><td>0</td><td>0</td><td>0</td></tr><tr><td>1001349</td><td>1</td><td>0.3</td><td>1</td><td>0</td><td>0</td></tr><tr><td>1001349</td><td>1</td><td>0.4</td><td>3</td><td>0</td><td>0</td></tr><tr><td>1001349</td><td>1</td><td>0.5</td><td>3</td><td>0</td><td>0</td></tr><tr><td>&hellip;</td><td>&hellip;</td><td>&hellip;</td><td>&hellip;</td><td>&hellip;</td><td>&hellip;</td></tr><tr><td>995469</td><td>2</td><td>17.1</td><td>126</td><td>6</td><td>1</td></tr><tr><td>995469</td><td>2</td><td>17.2</td><td>129</td><td>6</td><td>1</td></tr><tr><td>995469</td><td>2</td><td>17.3</td><td>129</td><td>6</td><td>1</td></tr><tr><td>995469</td><td>2</td><td>17.4</td><td>129</td><td>6</td><td>1</td></tr><tr><td>995469</td><td>2</td><td>17.5</td><td>135</td><td>6</td><td>1</td></tr></tbody></table></div>"
      ],
      "text/plain": [
       "shape: (267_455, 6)\n",
       "┌──────────┬─────────┬──────┬────────────┬──────────────┬─────┐\n",
       "│ match_id ┆ innings ┆ ball ┆ curr_score ┆ curr_wickets ┆ won │\n",
       "│ ---      ┆ ---     ┆ ---  ┆ ---        ┆ ---          ┆ --- │\n",
       "│ i64      ┆ i64     ┆ f64  ┆ i64        ┆ i64          ┆ i64 │\n",
       "╞══════════╪═════════╪══════╪════════════╪══════════════╪═════╡\n",
       "│ 1001349  ┆ 1       ┆ 0.1  ┆ 0          ┆ 0            ┆ 0   │\n",
       "│ 1001349  ┆ 1       ┆ 0.2  ┆ 0          ┆ 0            ┆ 0   │\n",
       "│ 1001349  ┆ 1       ┆ 0.3  ┆ 1          ┆ 0            ┆ 0   │\n",
       "│ 1001349  ┆ 1       ┆ 0.4  ┆ 3          ┆ 0            ┆ 0   │\n",
       "│ 1001349  ┆ 1       ┆ 0.5  ┆ 3          ┆ 0            ┆ 0   │\n",
       "│ …        ┆ …       ┆ …    ┆ …          ┆ …            ┆ …   │\n",
       "│ 995469   ┆ 2       ┆ 17.1 ┆ 126        ┆ 6            ┆ 1   │\n",
       "│ 995469   ┆ 2       ┆ 17.2 ┆ 129        ┆ 6            ┆ 1   │\n",
       "│ 995469   ┆ 2       ┆ 17.3 ┆ 129        ┆ 6            ┆ 1   │\n",
       "│ 995469   ┆ 2       ┆ 17.4 ┆ 129        ┆ 6            ┆ 1   │\n",
       "│ 995469   ┆ 2       ┆ 17.5 ┆ 135        ┆ 6            ┆ 1   │\n",
       "└──────────┴─────────┴──────┴────────────┴──────────────┴─────┘"
      ]
     },
     "execution_count": 11,
     "metadata": {},
     "output_type": "execute_result"
    }
   ],
   "source": [
    "import numpy as np\n",
    "import tensorflow as tf\n",
    "import polars as pl\n",
    "\n",
    "# Load the data (assuming your data files are in the correct directory as specified)\n",
    "directory = '/app/finalDataSets'\n",
    "balltoball = pl.read_csv(os.path.join(directory, 'balltoball.csv'))\n",
    "teamStats = pl.read_csv(os.path.join(directory, 'team12Stats.csv'))\n",
    "balltoball"
   ]
  },
  {
   "cell_type": "code",
   "execution_count": 15,
   "metadata": {},
   "outputs": [
    {
     "data": {
      "text/html": [
       "<div><style>\n",
       ".dataframe > thead > tr,\n",
       ".dataframe > tbody > tr {\n",
       "  text-align: right;\n",
       "  white-space: pre-wrap;\n",
       "}\n",
       "</style>\n",
       "<small>shape: (250, 6)</small><table border=\"1\" class=\"dataframe\"><thead><tr><th>match_id</th><th>innings</th><th>ball</th><th>curr_score</th><th>curr_wickets</th><th>won</th></tr><tr><td>i64</td><td>i64</td><td>f64</td><td>i64</td><td>i64</td><td>i64</td></tr></thead><tbody><tr><td>1001349</td><td>1</td><td>0.1</td><td>0</td><td>0</td><td>0</td></tr><tr><td>1001349</td><td>1</td><td>0.2</td><td>0</td><td>0</td><td>0</td></tr><tr><td>1001349</td><td>1</td><td>0.3</td><td>1</td><td>0</td><td>0</td></tr><tr><td>1001349</td><td>1</td><td>0.4</td><td>3</td><td>0</td><td>0</td></tr><tr><td>1001349</td><td>1</td><td>0.5</td><td>3</td><td>0</td><td>0</td></tr><tr><td>&hellip;</td><td>&hellip;</td><td>&hellip;</td><td>&hellip;</td><td>&hellip;</td><td>&hellip;</td></tr><tr><td>1001349</td><td>2</td><td>19.2</td><td>177</td><td>5</td><td>1</td></tr><tr><td>1001349</td><td>2</td><td>19.3</td><td>178</td><td>5</td><td>1</td></tr><tr><td>1001349</td><td>2</td><td>19.4</td><td>179</td><td>5</td><td>1</td></tr><tr><td>1001349</td><td>2</td><td>19.5</td><td>181</td><td>5</td><td>1</td></tr><tr><td>1001349</td><td>2</td><td>19.6</td><td>185</td><td>5</td><td>1</td></tr></tbody></table></div>"
      ],
      "text/plain": [
       "shape: (250, 6)\n",
       "┌──────────┬─────────┬──────┬────────────┬──────────────┬─────┐\n",
       "│ match_id ┆ innings ┆ ball ┆ curr_score ┆ curr_wickets ┆ won │\n",
       "│ ---      ┆ ---     ┆ ---  ┆ ---        ┆ ---          ┆ --- │\n",
       "│ i64      ┆ i64     ┆ f64  ┆ i64        ┆ i64          ┆ i64 │\n",
       "╞══════════╪═════════╪══════╪════════════╪══════════════╪═════╡\n",
       "│ 1001349  ┆ 1       ┆ 0.1  ┆ 0          ┆ 0            ┆ 0   │\n",
       "│ 1001349  ┆ 1       ┆ 0.2  ┆ 0          ┆ 0            ┆ 0   │\n",
       "│ 1001349  ┆ 1       ┆ 0.3  ┆ 1          ┆ 0            ┆ 0   │\n",
       "│ 1001349  ┆ 1       ┆ 0.4  ┆ 3          ┆ 0            ┆ 0   │\n",
       "│ 1001349  ┆ 1       ┆ 0.5  ┆ 3          ┆ 0            ┆ 0   │\n",
       "│ …        ┆ …       ┆ …    ┆ …          ┆ …            ┆ …   │\n",
       "│ 1001349  ┆ 2       ┆ 19.2 ┆ 177        ┆ 5            ┆ 1   │\n",
       "│ 1001349  ┆ 2       ┆ 19.3 ┆ 178        ┆ 5            ┆ 1   │\n",
       "│ 1001349  ┆ 2       ┆ 19.4 ┆ 179        ┆ 5            ┆ 1   │\n",
       "│ 1001349  ┆ 2       ┆ 19.5 ┆ 181        ┆ 5            ┆ 1   │\n",
       "│ 1001349  ┆ 2       ┆ 19.6 ┆ 185        ┆ 5            ┆ 1   │\n",
       "└──────────┴─────────┴──────┴────────────┴──────────────┴─────┘"
      ]
     },
     "execution_count": 15,
     "metadata": {},
     "output_type": "execute_result"
    }
   ],
   "source": [
    "balltoball.filter(pl.col(\"match_id\") == 1001349)"
   ]
  },
  {
   "cell_type": "code",
   "execution_count": null,
   "metadata": {},
   "outputs": [],
   "source": []
  }
 ],
 "metadata": {
  "kernelspec": {
   "display_name": "Python 3 (ipykernel)",
   "language": "python",
   "name": "python3"
  },
  "language_info": {
   "codemirror_mode": {
    "name": "ipython",
    "version": 3
   },
   "file_extension": ".py",
   "mimetype": "text/x-python",
   "name": "python",
   "nbconvert_exporter": "python",
   "pygments_lexer": "ipython3",
   "version": "3.11.0rc1"
  }
 },
 "nbformat": 4,
 "nbformat_minor": 2
}
