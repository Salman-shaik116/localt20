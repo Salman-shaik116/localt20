{
 "cells": [
  {
   "cell_type": "code",
   "execution_count": 2,
   "metadata": {},
   "outputs": [
    {
     "name": "stderr",
     "output_type": "stream",
     "text": [
      "WARNING: All log messages before absl::InitializeLog() is called are written to STDERR\n",
      "I0000 00:00:1730490766.829527     244 cuda_executor.cc:1001] could not open file to read NUMA node: /sys/bus/pci/devices/0000:01:00.0/numa_node\n",
      "Your kernel may have been built without NUMA support.\n",
      "I0000 00:00:1730490766.952298     244 cuda_executor.cc:1001] could not open file to read NUMA node: /sys/bus/pci/devices/0000:01:00.0/numa_node\n",
      "Your kernel may have been built without NUMA support.\n",
      "I0000 00:00:1730490766.952436     244 cuda_executor.cc:1001] could not open file to read NUMA node: /sys/bus/pci/devices/0000:01:00.0/numa_node\n",
      "Your kernel may have been built without NUMA support.\n"
     ]
    }
   ],
   "source": [
    "import tensorflow as tf\n",
    "\n",
    "physical_devices = tf.config.list_physical_devices('GPU')\n",
    "if physical_devices:\n",
    "    tf.config.experimental.set_memory_growth(physical_devices[0], True)"
   ]
  },
  {
   "cell_type": "code",
   "execution_count": 4,
   "metadata": {},
   "outputs": [
    {
     "data": {
      "text/plain": [
       "(TensorShape([1156, 22, 23]),\n",
       " TensorShape([1156, 24]),\n",
       " TensorShape([267455, 6]))"
      ]
     },
     "execution_count": 4,
     "metadata": {},
     "output_type": "execute_result"
    }
   ],
   "source": [
    "import polars as pl\n",
    "import numpy as np\n",
    "import os\n",
    "directory = '/app/finalDataSets'\n",
    "# directory = r'D:\\github\\localt20'\n",
    "\n",
    "playerStats = tf.convert_to_tensor(np.load(os.path.join(directory,'playerStats.npy')))\n",
    "balltoball = tf.convert_to_tensor(pl.read_csv(os.path.join(directory,'balltoball.csv')))\n",
    "teamStats = tf.convert_to_tensor(pl.read_csv(os.path.join(directory,'team12Stats.csv')))\n",
    "\n",
    "# Shapes of the data\n",
    "playerStats_shape = playerStats.shape\n",
    "teamStats_shape = teamStats.shape\n",
    "balltoball_shape = balltoball.shape\n",
    "playerStats_shape,teamStats_shape,balltoball_shape"
   ]
  },
  {
   "cell_type": "code",
   "execution_count": 13,
   "metadata": {},
   "outputs": [
    {
     "data": {
      "text/plain": [
       "<_PrefetchDataset element_spec=TensorSpec(shape=(None, 22, 23), dtype=tf.float64, name=None)>"
      ]
     },
     "execution_count": 13,
     "metadata": {},
     "output_type": "execute_result"
    }
   ],
   "source": [
    "tfplayerStats = tf.data.Dataset.from_tensor_slices(playerStats).batch(32).prefetch(tf.data.AUTOTUNE)\n",
    "tfteamStats = tf.data.Dataset.from_tensor_slices(teamStats).batch(1).prefetch(tf.data.AUTOTUNE)\n",
    "tfplayerStats"
   ]
  },
  {
   "cell_type": "code",
   "execution_count": 20,
   "metadata": {},
   "outputs": [
    {
     "data": {
      "text/plain": [
       "'/job:localhost/replica:0/task:0/device:GPU:0'"
      ]
     },
     "execution_count": 20,
     "metadata": {},
     "output_type": "execute_result"
    }
   ],
   "source": [
    "balltoball.device"
   ]
  },
  {
   "cell_type": "code",
   "execution_count": 29,
   "metadata": {},
   "outputs": [
    {
     "data": {
      "text/plain": [
       "array([[2.110280e+05, 1.000000e+00, 1.000000e-01, 0.000000e+00,\n",
       "        0.000000e+00, 1.000000e+00],\n",
       "       [2.110280e+05, 2.000000e+00, 2.100000e+00, 2.000000e+01,\n",
       "        0.000000e+00, 0.000000e+00],\n",
       "       [2.110280e+05, 2.000000e+00, 2.200000e+00, 2.100000e+01,\n",
       "        0.000000e+00, 0.000000e+00],\n",
       "       ...,\n",
       "       [1.450765e+06, 1.000000e+00, 1.450000e+01, 7.500000e+01,\n",
       "        7.000000e+00, 1.000000e+00],\n",
       "       [1.450765e+06, 1.000000e+00, 1.240000e+01, 6.300000e+01,\n",
       "        7.000000e+00, 1.000000e+00],\n",
       "       [1.450765e+06, 1.000000e+00, 1.530000e+01, 7.900000e+01,\n",
       "        7.000000e+00, 1.000000e+00]])"
      ]
     },
     "execution_count": 29,
     "metadata": {},
     "output_type": "execute_result"
    }
   ],
   "source": [
    "balltoball = balltoball.numpy()\n",
    "balltoball[balltoball[:, 0].argsort()]"
   ]
  },
  {
   "cell_type": "code",
   "execution_count": 34,
   "metadata": {},
   "outputs": [
    {
     "data": {
      "text/plain": [
       "(267455, 6)"
      ]
     },
     "execution_count": 34,
     "metadata": {},
     "output_type": "execute_result"
    }
   ],
   "source": [
    "balltoball[balltoball[:, 0].argsort()].shape"
   ]
  },
  {
   "cell_type": "code",
   "execution_count": 35,
   "metadata": {},
   "outputs": [
    {
     "data": {
      "text/html": [
       "<div><style>\n",
       ".dataframe > thead > tr,\n",
       ".dataframe > tbody > tr {\n",
       "  text-align: right;\n",
       "  white-space: pre-wrap;\n",
       "}\n",
       "</style>\n",
       "<small>shape: (267_455, 6)</small><table border=\"1\" class=\"dataframe\"><thead><tr><th>column_0</th><th>column_1</th><th>column_2</th><th>column_3</th><th>column_4</th><th>column_5</th></tr><tr><td>f64</td><td>f64</td><td>f64</td><td>f64</td><td>f64</td><td>f64</td></tr></thead><tbody><tr><td>211028.0</td><td>1.0</td><td>0.1</td><td>0.0</td><td>0.0</td><td>1.0</td></tr><tr><td>211028.0</td><td>2.0</td><td>2.1</td><td>20.0</td><td>0.0</td><td>0.0</td></tr><tr><td>211028.0</td><td>2.0</td><td>2.2</td><td>21.0</td><td>0.0</td><td>0.0</td></tr><tr><td>211028.0</td><td>2.0</td><td>2.3</td><td>23.0</td><td>0.0</td><td>0.0</td></tr><tr><td>211028.0</td><td>2.0</td><td>2.4</td><td>25.0</td><td>0.0</td><td>0.0</td></tr><tr><td>&hellip;</td><td>&hellip;</td><td>&hellip;</td><td>&hellip;</td><td>&hellip;</td><td>&hellip;</td></tr><tr><td>1.450765e6</td><td>1.0</td><td>14.3</td><td>71.0</td><td>7.0</td><td>1.0</td></tr><tr><td>1.450765e6</td><td>1.0</td><td>14.4</td><td>75.0</td><td>7.0</td><td>1.0</td></tr><tr><td>1.450765e6</td><td>1.0</td><td>14.5</td><td>75.0</td><td>7.0</td><td>1.0</td></tr><tr><td>1.450765e6</td><td>1.0</td><td>12.4</td><td>63.0</td><td>7.0</td><td>1.0</td></tr><tr><td>1.450765e6</td><td>1.0</td><td>15.3</td><td>79.0</td><td>7.0</td><td>1.0</td></tr></tbody></table></div>"
      ],
      "text/plain": [
       "shape: (267_455, 6)\n",
       "┌────────────┬──────────┬──────────┬──────────┬──────────┬──────────┐\n",
       "│ column_0   ┆ column_1 ┆ column_2 ┆ column_3 ┆ column_4 ┆ column_5 │\n",
       "│ ---        ┆ ---      ┆ ---      ┆ ---      ┆ ---      ┆ ---      │\n",
       "│ f64        ┆ f64      ┆ f64      ┆ f64      ┆ f64      ┆ f64      │\n",
       "╞════════════╪══════════╪══════════╪══════════╪══════════╪══════════╡\n",
       "│ 211028.0   ┆ 1.0      ┆ 0.1      ┆ 0.0      ┆ 0.0      ┆ 1.0      │\n",
       "│ 211028.0   ┆ 2.0      ┆ 2.1      ┆ 20.0     ┆ 0.0      ┆ 0.0      │\n",
       "│ 211028.0   ┆ 2.0      ┆ 2.2      ┆ 21.0     ┆ 0.0      ┆ 0.0      │\n",
       "│ 211028.0   ┆ 2.0      ┆ 2.3      ┆ 23.0     ┆ 0.0      ┆ 0.0      │\n",
       "│ 211028.0   ┆ 2.0      ┆ 2.4      ┆ 25.0     ┆ 0.0      ┆ 0.0      │\n",
       "│ …          ┆ …        ┆ …        ┆ …        ┆ …        ┆ …        │\n",
       "│ 1.450765e6 ┆ 1.0      ┆ 14.3     ┆ 71.0     ┆ 7.0      ┆ 1.0      │\n",
       "│ 1.450765e6 ┆ 1.0      ┆ 14.4     ┆ 75.0     ┆ 7.0      ┆ 1.0      │\n",
       "│ 1.450765e6 ┆ 1.0      ┆ 14.5     ┆ 75.0     ┆ 7.0      ┆ 1.0      │\n",
       "│ 1.450765e6 ┆ 1.0      ┆ 12.4     ┆ 63.0     ┆ 7.0      ┆ 1.0      │\n",
       "│ 1.450765e6 ┆ 1.0      ┆ 15.3     ┆ 79.0     ┆ 7.0      ┆ 1.0      │\n",
       "└────────────┴──────────┴──────────┴──────────┴──────────┴──────────┘"
      ]
     },
     "execution_count": 35,
     "metadata": {},
     "output_type": "execute_result"
    }
   ],
   "source": [
    "pl.DataFrame(balltoball[balltoball[:, 0].argsort()])"
   ]
  },
  {
   "cell_type": "code",
   "execution_count": 36,
   "metadata": {},
   "outputs": [
    {
     "data": {
      "text/html": [
       "<div><style>\n",
       ".dataframe > thead > tr,\n",
       ".dataframe > tbody > tr {\n",
       "  text-align: right;\n",
       "  white-space: pre-wrap;\n",
       "}\n",
       "</style>\n",
       "<small>shape: (267_455, 6)</small><table border=\"1\" class=\"dataframe\"><thead><tr><th>column_0</th><th>column_1</th><th>column_2</th><th>column_3</th><th>column_4</th><th>column_5</th></tr><tr><td>f64</td><td>f64</td><td>f64</td><td>f64</td><td>f64</td><td>f64</td></tr></thead><tbody><tr><td>1.001349e6</td><td>1.0</td><td>0.1</td><td>0.0</td><td>0.0</td><td>0.0</td></tr><tr><td>1.001349e6</td><td>1.0</td><td>0.2</td><td>0.0</td><td>0.0</td><td>0.0</td></tr><tr><td>1.001349e6</td><td>1.0</td><td>0.3</td><td>1.0</td><td>0.0</td><td>0.0</td></tr><tr><td>1.001349e6</td><td>1.0</td><td>0.4</td><td>3.0</td><td>0.0</td><td>0.0</td></tr><tr><td>1.001349e6</td><td>1.0</td><td>0.5</td><td>3.0</td><td>0.0</td><td>0.0</td></tr><tr><td>&hellip;</td><td>&hellip;</td><td>&hellip;</td><td>&hellip;</td><td>&hellip;</td><td>&hellip;</td></tr><tr><td>995469.0</td><td>2.0</td><td>17.1</td><td>126.0</td><td>6.0</td><td>1.0</td></tr><tr><td>995469.0</td><td>2.0</td><td>17.2</td><td>129.0</td><td>6.0</td><td>1.0</td></tr><tr><td>995469.0</td><td>2.0</td><td>17.3</td><td>129.0</td><td>6.0</td><td>1.0</td></tr><tr><td>995469.0</td><td>2.0</td><td>17.4</td><td>129.0</td><td>6.0</td><td>1.0</td></tr><tr><td>995469.0</td><td>2.0</td><td>17.5</td><td>135.0</td><td>6.0</td><td>1.0</td></tr></tbody></table></div>"
      ],
      "text/plain": [
       "shape: (267_455, 6)\n",
       "┌────────────┬──────────┬──────────┬──────────┬──────────┬──────────┐\n",
       "│ column_0   ┆ column_1 ┆ column_2 ┆ column_3 ┆ column_4 ┆ column_5 │\n",
       "│ ---        ┆ ---      ┆ ---      ┆ ---      ┆ ---      ┆ ---      │\n",
       "│ f64        ┆ f64      ┆ f64      ┆ f64      ┆ f64      ┆ f64      │\n",
       "╞════════════╪══════════╪══════════╪══════════╪══════════╪══════════╡\n",
       "│ 1.001349e6 ┆ 1.0      ┆ 0.1      ┆ 0.0      ┆ 0.0      ┆ 0.0      │\n",
       "│ 1.001349e6 ┆ 1.0      ┆ 0.2      ┆ 0.0      ┆ 0.0      ┆ 0.0      │\n",
       "│ 1.001349e6 ┆ 1.0      ┆ 0.3      ┆ 1.0      ┆ 0.0      ┆ 0.0      │\n",
       "│ 1.001349e6 ┆ 1.0      ┆ 0.4      ┆ 3.0      ┆ 0.0      ┆ 0.0      │\n",
       "│ 1.001349e6 ┆ 1.0      ┆ 0.5      ┆ 3.0      ┆ 0.0      ┆ 0.0      │\n",
       "│ …          ┆ …        ┆ …        ┆ …        ┆ …        ┆ …        │\n",
       "│ 995469.0   ┆ 2.0      ┆ 17.1     ┆ 126.0    ┆ 6.0      ┆ 1.0      │\n",
       "│ 995469.0   ┆ 2.0      ┆ 17.2     ┆ 129.0    ┆ 6.0      ┆ 1.0      │\n",
       "│ 995469.0   ┆ 2.0      ┆ 17.3     ┆ 129.0    ┆ 6.0      ┆ 1.0      │\n",
       "│ 995469.0   ┆ 2.0      ┆ 17.4     ┆ 129.0    ┆ 6.0      ┆ 1.0      │\n",
       "│ 995469.0   ┆ 2.0      ┆ 17.5     ┆ 135.0    ┆ 6.0      ┆ 1.0      │\n",
       "└────────────┴──────────┴──────────┴──────────┴──────────┴──────────┘"
      ]
     },
     "execution_count": 36,
     "metadata": {},
     "output_type": "execute_result"
    }
   ],
   "source": [
    "pl.DataFrame(balltoball)"
   ]
  },
  {
   "cell_type": "code",
   "execution_count": null,
   "metadata": {},
   "outputs": [],
   "source": []
  }
 ],
 "metadata": {
  "kernelspec": {
   "display_name": "Python 3 (ipykernel)",
   "language": "python",
   "name": "python3"
  },
  "language_info": {
   "codemirror_mode": {
    "name": "ipython",
    "version": 3
   },
   "file_extension": ".py",
   "mimetype": "text/x-python",
   "name": "python",
   "nbconvert_exporter": "python",
   "pygments_lexer": "ipython3",
   "version": "3.11.0rc1"
  }
 },
 "nbformat": 4,
 "nbformat_minor": 2
}
