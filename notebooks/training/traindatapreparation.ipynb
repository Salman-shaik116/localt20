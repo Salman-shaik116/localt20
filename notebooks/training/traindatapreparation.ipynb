{
 "cells": [
  {
   "cell_type": "code",
   "execution_count": 1,
   "metadata": {},
   "outputs": [
    {
     "name": "stdout",
     "output_type": "stream",
     "text": [
      "(1200, 22, 23) (6798, 24) (1686378, 6)\n"
     ]
    },
    {
     "data": {
      "text/html": [
       "<div><style>\n",
       ".dataframe > thead > tr,\n",
       ".dataframe > tbody > tr {\n",
       "  text-align: right;\n",
       "  white-space: pre-wrap;\n",
       "}\n",
       "</style>\n",
       "<small>shape: (6_798, 24)</small><table border=\"1\" class=\"dataframe\"><thead><tr><th>match_id</th><th>gender</th><th>Mat</th><th>Won</th><th>Lost</th><th>Tied</th><th>NR</th><th>W/L</th><th>Inns</th><th>HS</th><th>LS</th><th>AveRPW</th><th>AveRPO</th><th>Mat_team2</th><th>Won_team2</th><th>Lost_team2</th><th>Tied_team2</th><th>NR_team2</th><th>W/L_team2</th><th>Inns_team2</th><th>HS_team2</th><th>LS_team2</th><th>AveRPW_team2</th><th>AveRPO_team2</th></tr><tr><td>i64</td><td>i64</td><td>i64</td><td>i64</td><td>i64</td><td>i64</td><td>i64</td><td>f64</td><td>i64</td><td>i64</td><td>f64</td><td>f64</td><td>f64</td><td>i64</td><td>i64</td><td>i64</td><td>i64</td><td>i64</td><td>f64</td><td>i64</td><td>i64</td><td>f64</td><td>f64</td><td>f64</td></tr></thead><tbody><tr><td>211028</td><td>1</td><td>1</td><td>1</td><td>0</td><td>0</td><td>0</td><td>1.0</td><td>1</td><td>179</td><td>0.0</td><td>22.37</td><td>8.95</td><td>1</td><td>0</td><td>1</td><td>0</td><td>0</td><td>0.0</td><td>1</td><td>79</td><td>79.0</td><td>7.9</td><td>5.44</td></tr><tr><td>211028</td><td>1</td><td>1</td><td>0</td><td>1</td><td>0</td><td>0</td><td>0.0</td><td>1</td><td>79</td><td>79.0</td><td>7.9</td><td>5.44</td><td>1</td><td>1</td><td>0</td><td>0</td><td>0</td><td>1.0</td><td>1</td><td>179</td><td>0.0</td><td>22.37</td><td>8.95</td></tr><tr><td>211048</td><td>1</td><td>1</td><td>0</td><td>1</td><td>0</td><td>0</td><td>0.0</td><td>1</td><td>170</td><td>170.0</td><td>17.0</td><td>8.5</td><td>1</td><td>1</td><td>0</td><td>0</td><td>0</td><td>1.0</td><td>1</td><td>214</td><td>0.0</td><td>42.8</td><td>10.7</td></tr><tr><td>211048</td><td>1</td><td>1</td><td>1</td><td>0</td><td>0</td><td>0</td><td>1.0</td><td>1</td><td>214</td><td>0.0</td><td>42.8</td><td>10.7</td><td>1</td><td>0</td><td>1</td><td>0</td><td>0</td><td>0.0</td><td>1</td><td>170</td><td>170.0</td><td>17.0</td><td>8.5</td></tr><tr><td>222678</td><td>1</td><td>3</td><td>1</td><td>2</td><td>0</td><td>0</td><td>0.5</td><td>3</td><td>201</td><td>114.0</td><td>18.66</td><td>7.72</td><td>2</td><td>1</td><td>0</td><td>1</td><td>0</td><td>1.0</td><td>2</td><td>134</td><td>0.0</td><td>20.0</td><td>6.84</td></tr><tr><td>&hellip;</td><td>&hellip;</td><td>&hellip;</td><td>&hellip;</td><td>&hellip;</td><td>&hellip;</td><td>&hellip;</td><td>&hellip;</td><td>&hellip;</td><td>&hellip;</td><td>&hellip;</td><td>&hellip;</td><td>&hellip;</td><td>&hellip;</td><td>&hellip;</td><td>&hellip;</td><td>&hellip;</td><td>&hellip;</td><td>&hellip;</td><td>&hellip;</td><td>&hellip;</td><td>&hellip;</td><td>&hellip;</td><td>&hellip;</td></tr><tr><td>1451292</td><td>0</td><td>11</td><td>11</td><td>0</td><td>0</td><td>0</td><td>11.0</td><td>11</td><td>230</td><td>0.0</td><td>27.3</td><td>8.82</td><td>4</td><td>0</td><td>4</td><td>0</td><td>0</td><td>0.0</td><td>4</td><td>134</td><td>84.0</td><td>11.5</td><td>5.42</td></tr><tr><td>1451293</td><td>0</td><td>4</td><td>0</td><td>4</td><td>0</td><td>0</td><td>0.0</td><td>4</td><td>134</td><td>84.0</td><td>11.5</td><td>5.42</td><td>11</td><td>11</td><td>0</td><td>0</td><td>0</td><td>11.0</td><td>11</td><td>230</td><td>0.0</td><td>27.3</td><td>8.82</td></tr><tr><td>1451293</td><td>0</td><td>11</td><td>11</td><td>0</td><td>0</td><td>0</td><td>11.0</td><td>11</td><td>230</td><td>0.0</td><td>27.3</td><td>8.82</td><td>4</td><td>0</td><td>4</td><td>0</td><td>0</td><td>0.0</td><td>4</td><td>134</td><td>84.0</td><td>11.5</td><td>5.42</td></tr><tr><td>1451294</td><td>0</td><td>4</td><td>0</td><td>4</td><td>0</td><td>0</td><td>0.0</td><td>4</td><td>134</td><td>84.0</td><td>11.5</td><td>5.42</td><td>11</td><td>11</td><td>0</td><td>0</td><td>0</td><td>11.0</td><td>11</td><td>230</td><td>0.0</td><td>27.3</td><td>8.82</td></tr><tr><td>1451294</td><td>0</td><td>11</td><td>11</td><td>0</td><td>0</td><td>0</td><td>11.0</td><td>11</td><td>230</td><td>0.0</td><td>27.3</td><td>8.82</td><td>4</td><td>0</td><td>4</td><td>0</td><td>0</td><td>0.0</td><td>4</td><td>134</td><td>84.0</td><td>11.5</td><td>5.42</td></tr></tbody></table></div>"
      ],
      "text/plain": [
       "shape: (6_798, 24)\n",
       "┌──────────┬────────┬─────┬─────┬───┬──────────┬──────────┬──────────────┬──────────────┐\n",
       "│ match_id ┆ gender ┆ Mat ┆ Won ┆ … ┆ HS_team2 ┆ LS_team2 ┆ AveRPW_team2 ┆ AveRPO_team2 │\n",
       "│ ---      ┆ ---    ┆ --- ┆ --- ┆   ┆ ---      ┆ ---      ┆ ---          ┆ ---          │\n",
       "│ i64      ┆ i64    ┆ i64 ┆ i64 ┆   ┆ i64      ┆ f64      ┆ f64          ┆ f64          │\n",
       "╞══════════╪════════╪═════╪═════╪═══╪══════════╪══════════╪══════════════╪══════════════╡\n",
       "│ 211028   ┆ 1      ┆ 1   ┆ 1   ┆ … ┆ 79       ┆ 79.0     ┆ 7.9          ┆ 5.44         │\n",
       "│ 211028   ┆ 1      ┆ 1   ┆ 0   ┆ … ┆ 179      ┆ 0.0      ┆ 22.37        ┆ 8.95         │\n",
       "│ 211048   ┆ 1      ┆ 1   ┆ 0   ┆ … ┆ 214      ┆ 0.0      ┆ 42.8         ┆ 10.7         │\n",
       "│ 211048   ┆ 1      ┆ 1   ┆ 1   ┆ … ┆ 170      ┆ 170.0    ┆ 17.0         ┆ 8.5          │\n",
       "│ 222678   ┆ 1      ┆ 3   ┆ 1   ┆ … ┆ 134      ┆ 0.0      ┆ 20.0         ┆ 6.84         │\n",
       "│ …        ┆ …      ┆ …   ┆ …   ┆ … ┆ …        ┆ …        ┆ …            ┆ …            │\n",
       "│ 1451292  ┆ 0      ┆ 11  ┆ 11  ┆ … ┆ 134      ┆ 84.0     ┆ 11.5         ┆ 5.42         │\n",
       "│ 1451293  ┆ 0      ┆ 4   ┆ 0   ┆ … ┆ 230      ┆ 0.0      ┆ 27.3         ┆ 8.82         │\n",
       "│ 1451293  ┆ 0      ┆ 11  ┆ 11  ┆ … ┆ 134      ┆ 84.0     ┆ 11.5         ┆ 5.42         │\n",
       "│ 1451294  ┆ 0      ┆ 4   ┆ 0   ┆ … ┆ 230      ┆ 0.0      ┆ 27.3         ┆ 8.82         │\n",
       "│ 1451294  ┆ 0      ┆ 11  ┆ 11  ┆ … ┆ 134      ┆ 84.0     ┆ 11.5         ┆ 5.42         │\n",
       "└──────────┴────────┴─────┴─────┴───┴──────────┴──────────┴──────────────┴──────────────┘"
      ]
     },
     "execution_count": 1,
     "metadata": {},
     "output_type": "execute_result"
    }
   ],
   "source": [
    "import polars as pl\n",
    "import numpy as np\n",
    "import os\n",
    "\n",
    "directory = r'D:\\github\\localt20\\data\\aftermerging'\n",
    "\n",
    "team12Stats = pl.read_csv(os.path.join(directory, 'team12Statsflip.csv')).sort(\"match_id\")\n",
    "balltoball = pl.read_csv(os.path.join(directory, 'balltoballflip.csv')).sort(\"match_id\")\n",
    "playerStats = np.load(os.path.join(directory, 'matchPlayerStats.npy'), allow_pickle=True)\n",
    "print(playerStats.shape, team12Stats.shape, balltoball.shape)\n",
    "team12Stats"
   ]
  },
  {
   "cell_type": "code",
   "execution_count": 3,
   "metadata": {},
   "outputs": [
    {
     "data": {
      "text/plain": [
       "(1200, 3399, 3683)"
      ]
     },
     "execution_count": 3,
     "metadata": {},
     "output_type": "execute_result"
    }
   ],
   "source": [
    "len(np.unique(playerStats[:, 0, 0])), len(np.unique(team12Stats['match_id'])), len(np.unique(balltoball['match_id']))"
   ]
  },
  {
   "cell_type": "code",
   "execution_count": 4,
   "metadata": {},
   "outputs": [
    {
     "name": "stdout",
     "output_type": "stream",
     "text": [
      "Common match IDs across all datasets: [ 211028.  211048.  225263. ... 1450753. 1450759. 1450765.] 1156\n"
     ]
    }
   ],
   "source": [
    "# Extract match_id columns from each dataset\n",
    "team12_match_ids = team12Stats.select('match_id').unique()  # Polars unique match_ids in team12Stats\n",
    "balltoball_match_ids = balltoball.select('match_id').unique()  # Polars unique match_ids in balltoball\n",
    "\n",
    "# Extract match_ids from playerStats (assuming match_id is in the first column)\n",
    "player_match_ids = np.unique(playerStats[:, 0, 0])\n",
    "\n",
    "# Convert Polars Series to Numpy for intersection\n",
    "team12_match_ids_np = team12_match_ids.to_numpy().flatten()\n",
    "balltoball_match_ids_np = balltoball_match_ids.to_numpy().flatten()\n",
    "\n",
    "# Find intersection of match_id across all three datasets\n",
    "common_match_ids = np.intersect1d(np.intersect1d(team12_match_ids_np, balltoball_match_ids_np), player_match_ids)\n",
    "\n",
    "print(\"Common match IDs across all datasets:\", common_match_ids, len(common_match_ids))"
   ]
  },
  {
   "cell_type": "code",
   "execution_count": 5,
   "metadata": {},
   "outputs": [],
   "source": [
    "# Filter team12Stats\n",
    "filtered_team12Stats = team12Stats.filter(pl.col('match_id').is_in(common_match_ids))\n",
    "\n",
    "# Filter balltoball\n",
    "filtered_balltoball = balltoball.filter(pl.col('match_id').is_in(common_match_ids))\n",
    "\n",
    "# Filter playerStats (assuming match_id is the first column)\n",
    "filtered_playerStats = playerStats[np.isin(playerStats[:, 0, 0], common_match_ids)]"
   ]
  },
  {
   "cell_type": "code",
   "execution_count": 6,
   "metadata": {},
   "outputs": [
    {
     "data": {
      "text/plain": [
       "((1156, 22, 23), (2312, 24), (534910, 6))"
      ]
     },
     "execution_count": 6,
     "metadata": {},
     "output_type": "execute_result"
    }
   ],
   "source": [
    "filtered_playerStats.shape, filtered_team12Stats.shape, filtered_balltoball.shape"
   ]
  },
  {
   "cell_type": "code",
   "execution_count": 7,
   "metadata": {},
   "outputs": [
    {
     "data": {
      "text/html": [
       "<div><style>\n",
       ".dataframe > thead > tr,\n",
       ".dataframe > tbody > tr {\n",
       "  text-align: right;\n",
       "  white-space: pre-wrap;\n",
       "}\n",
       "</style>\n",
       "<small>shape: (534_910, 6)</small><table border=\"1\" class=\"dataframe\"><thead><tr><th>match_id</th><th>innings</th><th>ball</th><th>curr_score</th><th>curr_wickets</th><th>won</th></tr><tr><td>i64</td><td>i64</td><td>f64</td><td>i64</td><td>i64</td><td>i64</td></tr></thead><tbody><tr><td>211028</td><td>1</td><td>0.1</td><td>0</td><td>0</td><td>1</td></tr><tr><td>211028</td><td>1</td><td>0.2</td><td>1</td><td>0</td><td>1</td></tr><tr><td>211028</td><td>1</td><td>0.3</td><td>1</td><td>0</td><td>1</td></tr><tr><td>211028</td><td>1</td><td>0.4</td><td>1</td><td>0</td><td>1</td></tr><tr><td>211028</td><td>1</td><td>0.5</td><td>1</td><td>0</td><td>1</td></tr><tr><td>&hellip;</td><td>&hellip;</td><td>&hellip;</td><td>&hellip;</td><td>&hellip;</td><td>&hellip;</td></tr><tr><td>1450765</td><td>2</td><td>19.3</td><td>100</td><td>9</td><td>0</td></tr><tr><td>1450765</td><td>2</td><td>19.4</td><td>100</td><td>9</td><td>0</td></tr><tr><td>1450765</td><td>2</td><td>19.5</td><td>104</td><td>9</td><td>0</td></tr><tr><td>1450765</td><td>2</td><td>19.6</td><td>106</td><td>9</td><td>0</td></tr><tr><td>1450765</td><td>2</td><td>19.7</td><td>106</td><td>10</td><td>0</td></tr></tbody></table></div>"
      ],
      "text/plain": [
       "shape: (534_910, 6)\n",
       "┌──────────┬─────────┬──────┬────────────┬──────────────┬─────┐\n",
       "│ match_id ┆ innings ┆ ball ┆ curr_score ┆ curr_wickets ┆ won │\n",
       "│ ---      ┆ ---     ┆ ---  ┆ ---        ┆ ---          ┆ --- │\n",
       "│ i64      ┆ i64     ┆ f64  ┆ i64        ┆ i64          ┆ i64 │\n",
       "╞══════════╪═════════╪══════╪════════════╪══════════════╪═════╡\n",
       "│ 211028   ┆ 1       ┆ 0.1  ┆ 0          ┆ 0            ┆ 1   │\n",
       "│ 211028   ┆ 1       ┆ 0.2  ┆ 1          ┆ 0            ┆ 1   │\n",
       "│ 211028   ┆ 1       ┆ 0.3  ┆ 1          ┆ 0            ┆ 1   │\n",
       "│ 211028   ┆ 1       ┆ 0.4  ┆ 1          ┆ 0            ┆ 1   │\n",
       "│ 211028   ┆ 1       ┆ 0.5  ┆ 1          ┆ 0            ┆ 1   │\n",
       "│ …        ┆ …       ┆ …    ┆ …          ┆ …            ┆ …   │\n",
       "│ 1450765  ┆ 2       ┆ 19.3 ┆ 100        ┆ 9            ┆ 0   │\n",
       "│ 1450765  ┆ 2       ┆ 19.4 ┆ 100        ┆ 9            ┆ 0   │\n",
       "│ 1450765  ┆ 2       ┆ 19.5 ┆ 104        ┆ 9            ┆ 0   │\n",
       "│ 1450765  ┆ 2       ┆ 19.6 ┆ 106        ┆ 9            ┆ 0   │\n",
       "│ 1450765  ┆ 2       ┆ 19.7 ┆ 106        ┆ 10           ┆ 0   │\n",
       "└──────────┴─────────┴──────┴────────────┴──────────────┴─────┘"
      ]
     },
     "execution_count": 7,
     "metadata": {},
     "output_type": "execute_result"
    }
   ],
   "source": [
    "filtered_balltoball"
   ]
  },
  {
   "cell_type": "code",
   "execution_count": 16,
   "metadata": {},
   "outputs": [
    {
     "data": {
      "text/plain": [
       "(2312, 22, 23)"
      ]
     },
     "execution_count": 16,
     "metadata": {},
     "output_type": "execute_result"
    }
   ],
   "source": [
    "ps = np.array(filtered_playerStats[:,11:,:].tolist() \n",
    "             + filtered_playerStats[:,:11,:].tolist()\n",
    "             + filtered_playerStats[:,:11,:].tolist()\n",
    "             + filtered_playerStats[:,11:,:].tolist())\n",
    "ps = ps.reshape(-1,22,23)\n",
    "ps.shape"
   ]
  },
  {
   "cell_type": "code",
   "execution_count": 17,
   "metadata": {},
   "outputs": [],
   "source": [
    "# Save filtered datasets\n",
    "filtered_team12Stats.write_csv(os.path.join(directory, '../filteredData/team12Stats.csv'))\n",
    "filtered_balltoball.write_csv(os.path.join(directory, '../filteredData/balltoball.csv'))\n",
    "np.save(os.path.join(directory, '../filteredData/playerStats.npy'), ps)"
   ]
  },
  {
   "cell_type": "code",
   "execution_count": null,
   "metadata": {},
   "outputs": [],
   "source": []
  }
 ],
 "metadata": {
  "kernelspec": {
   "display_name": "eda",
   "language": "python",
   "name": "python3"
  },
  "language_info": {
   "codemirror_mode": {
    "name": "ipython",
    "version": 3
   },
   "file_extension": ".py",
   "mimetype": "text/x-python",
   "name": "python",
   "nbconvert_exporter": "python",
   "pygments_lexer": "ipython3",
   "version": "3.8.19"
  }
 },
 "nbformat": 4,
 "nbformat_minor": 2
}
