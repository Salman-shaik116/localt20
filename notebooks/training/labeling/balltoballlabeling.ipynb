{
 "cells": [
  {
   "cell_type": "code",
   "execution_count": 1,
   "metadata": {},
   "outputs": [
    {
     "name": "stderr",
     "output_type": "stream",
     "text": [
      "2024-11-03 06:30:52.752422: E external/local_xla/xla/stream_executor/cuda/cuda_fft.cc:485] Unable to register cuFFT factory: Attempting to register factory for plugin cuFFT when one has already been registered\n",
      "2024-11-03 06:30:52.916214: E external/local_xla/xla/stream_executor/cuda/cuda_dnn.cc:8454] Unable to register cuDNN factory: Attempting to register factory for plugin cuDNN when one has already been registered\n",
      "2024-11-03 06:30:52.963607: E external/local_xla/xla/stream_executor/cuda/cuda_blas.cc:1452] Unable to register cuBLAS factory: Attempting to register factory for plugin cuBLAS when one has already been registered\n",
      "2024-11-03 06:30:53.196675: I tensorflow/core/platform/cpu_feature_guard.cc:210] This TensorFlow binary is optimized to use available CPU instructions in performance-critical operations.\n",
      "To enable the following instructions: AVX2 FMA, in other operations, rebuild TensorFlow with the appropriate compiler flags.\n",
      "WARNING: All log messages before absl::InitializeLog() is called are written to STDERR\n",
      "I0000 00:00:1730615462.994155      12 cuda_executor.cc:1001] could not open file to read NUMA node: /sys/bus/pci/devices/0000:01:00.0/numa_node\n",
      "Your kernel may have been built without NUMA support.\n",
      "I0000 00:00:1730615463.151283      12 cuda_executor.cc:1001] could not open file to read NUMA node: /sys/bus/pci/devices/0000:01:00.0/numa_node\n",
      "Your kernel may have been built without NUMA support.\n",
      "I0000 00:00:1730615463.151408      12 cuda_executor.cc:1001] could not open file to read NUMA node: /sys/bus/pci/devices/0000:01:00.0/numa_node\n",
      "Your kernel may have been built without NUMA support.\n"
     ]
    }
   ],
   "source": [
    "import tensorflow as tf\n",
    "import warnings\n",
    "warnings.filterwarnings(\"ignore\")\n",
    "import os\n",
    "\n",
    "physical_devices = tf.config.list_physical_devices('GPU')\n",
    "if physical_devices:\n",
    "    for gpu in physical_devices:\n",
    "        tf.config.experimental.set_memory_growth(gpu,True)"
   ]
  },
  {
   "cell_type": "code",
   "execution_count": 8,
   "metadata": {},
   "outputs": [
    {
     "data": {
      "text/html": [
       "<div><style>\n",
       ".dataframe > thead > tr,\n",
       ".dataframe > tbody > tr {\n",
       "  text-align: right;\n",
       "  white-space: pre-wrap;\n",
       "}\n",
       "</style>\n",
       "<small>shape: (534_910, 6)</small><table border=\"1\" class=\"dataframe\"><thead><tr><th>match_id</th><th>innings</th><th>ball</th><th>curr_score</th><th>curr_wickets</th><th>won</th></tr><tr><td>i64</td><td>i64</td><td>f64</td><td>i64</td><td>i64</td><td>i64</td></tr></thead><tbody><tr><td>211028</td><td>1</td><td>0.1</td><td>0</td><td>0</td><td>1</td></tr><tr><td>211028</td><td>1</td><td>0.2</td><td>1</td><td>0</td><td>1</td></tr><tr><td>211028</td><td>1</td><td>0.3</td><td>1</td><td>0</td><td>1</td></tr><tr><td>211028</td><td>1</td><td>0.4</td><td>1</td><td>0</td><td>1</td></tr><tr><td>211028</td><td>1</td><td>0.5</td><td>1</td><td>0</td><td>1</td></tr><tr><td>&hellip;</td><td>&hellip;</td><td>&hellip;</td><td>&hellip;</td><td>&hellip;</td><td>&hellip;</td></tr><tr><td>1450765</td><td>2</td><td>19.3</td><td>100</td><td>9</td><td>0</td></tr><tr><td>1450765</td><td>2</td><td>19.4</td><td>100</td><td>9</td><td>0</td></tr><tr><td>1450765</td><td>2</td><td>19.5</td><td>104</td><td>9</td><td>0</td></tr><tr><td>1450765</td><td>2</td><td>19.6</td><td>106</td><td>9</td><td>0</td></tr><tr><td>1450765</td><td>2</td><td>19.7</td><td>106</td><td>10</td><td>0</td></tr></tbody></table></div>"
      ],
      "text/plain": [
       "shape: (534_910, 6)\n",
       "┌──────────┬─────────┬──────┬────────────┬──────────────┬─────┐\n",
       "│ match_id ┆ innings ┆ ball ┆ curr_score ┆ curr_wickets ┆ won │\n",
       "│ ---      ┆ ---     ┆ ---  ┆ ---        ┆ ---          ┆ --- │\n",
       "│ i64      ┆ i64     ┆ f64  ┆ i64        ┆ i64          ┆ i64 │\n",
       "╞══════════╪═════════╪══════╪════════════╪══════════════╪═════╡\n",
       "│ 211028   ┆ 1       ┆ 0.1  ┆ 0          ┆ 0            ┆ 1   │\n",
       "│ 211028   ┆ 1       ┆ 0.2  ┆ 1          ┆ 0            ┆ 1   │\n",
       "│ 211028   ┆ 1       ┆ 0.3  ┆ 1          ┆ 0            ┆ 1   │\n",
       "│ 211028   ┆ 1       ┆ 0.4  ┆ 1          ┆ 0            ┆ 1   │\n",
       "│ 211028   ┆ 1       ┆ 0.5  ┆ 1          ┆ 0            ┆ 1   │\n",
       "│ …        ┆ …       ┆ …    ┆ …          ┆ …            ┆ …   │\n",
       "│ 1450765  ┆ 2       ┆ 19.3 ┆ 100        ┆ 9            ┆ 0   │\n",
       "│ 1450765  ┆ 2       ┆ 19.4 ┆ 100        ┆ 9            ┆ 0   │\n",
       "│ 1450765  ┆ 2       ┆ 19.5 ┆ 104        ┆ 9            ┆ 0   │\n",
       "│ 1450765  ┆ 2       ┆ 19.6 ┆ 106        ┆ 9            ┆ 0   │\n",
       "│ 1450765  ┆ 2       ┆ 19.7 ┆ 106        ┆ 10           ┆ 0   │\n",
       "└──────────┴─────────┴──────┴────────────┴──────────────┴─────┘"
      ]
     },
     "execution_count": 8,
     "metadata": {},
     "output_type": "execute_result"
    }
   ],
   "source": [
    "import numpy as np\n",
    "import tensorflow as tf\n",
    "import polars as pl\n",
    "\n",
    "# Load the data (assuming your data files are in the correct directory as specified)\n",
    "directory = '/app/data/filteredData'\n",
    "balltoball = pl.read_csv(os.path.join(directory, 'balltoball.csv'))\n",
    "teamStats = pl.read_csv(os.path.join(directory, 'team12Stats.csv'))\n",
    "playsrStats = np.load(os.path.join(directory, 'playerStats.npy'), allow_pickle=True)\n",
    "balltoball"
   ]
  },
  {
   "cell_type": "code",
   "execution_count": 7,
   "metadata": {},
   "outputs": [
    {
     "data": {
      "text/html": [
       "<div><style>\n",
       ".dataframe > thead > tr,\n",
       ".dataframe > tbody > tr {\n",
       "  text-align: right;\n",
       "  white-space: pre-wrap;\n",
       "}\n",
       "</style>\n",
       "<small>shape: (2_312, 24)</small><table border=\"1\" class=\"dataframe\"><thead><tr><th>match_id</th><th>gender</th><th>Mat</th><th>Won</th><th>Lost</th><th>Tied</th><th>NR</th><th>W/L</th><th>Inns</th><th>HS</th><th>LS</th><th>AveRPW</th><th>AveRPO</th><th>Mat_team2</th><th>Won_team2</th><th>Lost_team2</th><th>Tied_team2</th><th>NR_team2</th><th>W/L_team2</th><th>Inns_team2</th><th>HS_team2</th><th>LS_team2</th><th>AveRPW_team2</th><th>AveRPO_team2</th></tr><tr><td>i64</td><td>i64</td><td>i64</td><td>i64</td><td>i64</td><td>i64</td><td>i64</td><td>f64</td><td>i64</td><td>i64</td><td>f64</td><td>f64</td><td>f64</td><td>i64</td><td>i64</td><td>i64</td><td>i64</td><td>i64</td><td>f64</td><td>i64</td><td>i64</td><td>f64</td><td>f64</td><td>f64</td></tr></thead><tbody><tr><td>211028</td><td>1</td><td>1</td><td>1</td><td>0</td><td>0</td><td>0</td><td>1.0</td><td>1</td><td>179</td><td>0.0</td><td>22.37</td><td>8.95</td><td>1</td><td>0</td><td>1</td><td>0</td><td>0</td><td>0.0</td><td>1</td><td>79</td><td>79.0</td><td>7.9</td><td>5.44</td></tr><tr><td>211028</td><td>1</td><td>1</td><td>0</td><td>1</td><td>0</td><td>0</td><td>0.0</td><td>1</td><td>79</td><td>79.0</td><td>7.9</td><td>5.44</td><td>1</td><td>1</td><td>0</td><td>0</td><td>0</td><td>1.0</td><td>1</td><td>179</td><td>0.0</td><td>22.37</td><td>8.95</td></tr><tr><td>211048</td><td>1</td><td>1</td><td>0</td><td>1</td><td>0</td><td>0</td><td>0.0</td><td>1</td><td>170</td><td>170.0</td><td>17.0</td><td>8.5</td><td>1</td><td>1</td><td>0</td><td>0</td><td>0</td><td>1.0</td><td>1</td><td>214</td><td>0.0</td><td>42.8</td><td>10.7</td></tr><tr><td>211048</td><td>1</td><td>1</td><td>1</td><td>0</td><td>0</td><td>0</td><td>1.0</td><td>1</td><td>214</td><td>0.0</td><td>42.8</td><td>10.7</td><td>1</td><td>0</td><td>1</td><td>0</td><td>0</td><td>0.0</td><td>1</td><td>170</td><td>170.0</td><td>17.0</td><td>8.5</td></tr><tr><td>225263</td><td>1</td><td>2</td><td>0</td><td>2</td><td>0</td><td>0</td><td>0.0</td><td>2</td><td>161</td><td>0.0</td><td>25.41</td><td>7.62</td><td>1</td><td>1</td><td>0</td><td>0</td><td>0</td><td>1.0</td><td>1</td><td>148</td><td>0.0</td><td>29.6</td><td>8.29</td></tr><tr><td>&hellip;</td><td>&hellip;</td><td>&hellip;</td><td>&hellip;</td><td>&hellip;</td><td>&hellip;</td><td>&hellip;</td><td>&hellip;</td><td>&hellip;</td><td>&hellip;</td><td>&hellip;</td><td>&hellip;</td><td>&hellip;</td><td>&hellip;</td><td>&hellip;</td><td>&hellip;</td><td>&hellip;</td><td>&hellip;</td><td>&hellip;</td><td>&hellip;</td><td>&hellip;</td><td>&hellip;</td><td>&hellip;</td><td>&hellip;</td></tr><tr><td>1450753</td><td>1</td><td>5</td><td>5</td><td>0</td><td>0</td><td>0</td><td>5.0</td><td>5</td><td>183</td><td>119.0</td><td>21.28</td><td>7.81</td><td>5</td><td>0</td><td>5</td><td>0</td><td>0</td><td>0.0</td><td>5</td><td>57</td><td>18.0</td><td>3.56</td><td>2.67</td></tr><tr><td>1450759</td><td>1</td><td>5</td><td>0</td><td>5</td><td>0</td><td>0</td><td>0.0</td><td>5</td><td>57</td><td>18.0</td><td>3.56</td><td>2.67</td><td>10</td><td>6</td><td>4</td><td>0</td><td>0</td><td>1.5</td><td>10</td><td>176</td><td>100.0</td><td>26.9</td><td>7.11</td></tr><tr><td>1450759</td><td>1</td><td>10</td><td>6</td><td>4</td><td>0</td><td>0</td><td>1.5</td><td>10</td><td>176</td><td>100.0</td><td>26.9</td><td>7.11</td><td>5</td><td>0</td><td>5</td><td>0</td><td>0</td><td>0.0</td><td>5</td><td>57</td><td>18.0</td><td>3.56</td><td>2.67</td></tr><tr><td>1450765</td><td>1</td><td>5</td><td>5</td><td>0</td><td>0</td><td>0</td><td>5.0</td><td>5</td><td>183</td><td>119.0</td><td>21.28</td><td>7.81</td><td>10</td><td>6</td><td>4</td><td>0</td><td>0</td><td>1.5</td><td>10</td><td>176</td><td>100.0</td><td>26.9</td><td>7.11</td></tr><tr><td>1450765</td><td>1</td><td>10</td><td>6</td><td>4</td><td>0</td><td>0</td><td>1.5</td><td>10</td><td>176</td><td>100.0</td><td>26.9</td><td>7.11</td><td>5</td><td>5</td><td>0</td><td>0</td><td>0</td><td>5.0</td><td>5</td><td>183</td><td>119.0</td><td>21.28</td><td>7.81</td></tr></tbody></table></div>"
      ],
      "text/plain": [
       "shape: (2_312, 24)\n",
       "┌──────────┬────────┬─────┬─────┬───┬──────────┬──────────┬──────────────┬──────────────┐\n",
       "│ match_id ┆ gender ┆ Mat ┆ Won ┆ … ┆ HS_team2 ┆ LS_team2 ┆ AveRPW_team2 ┆ AveRPO_team2 │\n",
       "│ ---      ┆ ---    ┆ --- ┆ --- ┆   ┆ ---      ┆ ---      ┆ ---          ┆ ---          │\n",
       "│ i64      ┆ i64    ┆ i64 ┆ i64 ┆   ┆ i64      ┆ f64      ┆ f64          ┆ f64          │\n",
       "╞══════════╪════════╪═════╪═════╪═══╪══════════╪══════════╪══════════════╪══════════════╡\n",
       "│ 211028   ┆ 1      ┆ 1   ┆ 1   ┆ … ┆ 79       ┆ 79.0     ┆ 7.9          ┆ 5.44         │\n",
       "│ 211028   ┆ 1      ┆ 1   ┆ 0   ┆ … ┆ 179      ┆ 0.0      ┆ 22.37        ┆ 8.95         │\n",
       "│ 211048   ┆ 1      ┆ 1   ┆ 0   ┆ … ┆ 214      ┆ 0.0      ┆ 42.8         ┆ 10.7         │\n",
       "│ 211048   ┆ 1      ┆ 1   ┆ 1   ┆ … ┆ 170      ┆ 170.0    ┆ 17.0         ┆ 8.5          │\n",
       "│ 225263   ┆ 1      ┆ 2   ┆ 0   ┆ … ┆ 148      ┆ 0.0      ┆ 29.6         ┆ 8.29         │\n",
       "│ …        ┆ …      ┆ …   ┆ …   ┆ … ┆ …        ┆ …        ┆ …            ┆ …            │\n",
       "│ 1450753  ┆ 1      ┆ 5   ┆ 5   ┆ … ┆ 57       ┆ 18.0     ┆ 3.56         ┆ 2.67         │\n",
       "│ 1450759  ┆ 1      ┆ 5   ┆ 0   ┆ … ┆ 176      ┆ 100.0    ┆ 26.9         ┆ 7.11         │\n",
       "│ 1450759  ┆ 1      ┆ 10  ┆ 6   ┆ … ┆ 57       ┆ 18.0     ┆ 3.56         ┆ 2.67         │\n",
       "│ 1450765  ┆ 1      ┆ 5   ┆ 5   ┆ … ┆ 176      ┆ 100.0    ┆ 26.9         ┆ 7.11         │\n",
       "│ 1450765  ┆ 1      ┆ 10  ┆ 6   ┆ … ┆ 183      ┆ 119.0    ┆ 21.28        ┆ 7.81         │\n",
       "└──────────┴────────┴─────┴─────┴───┴──────────┴──────────┴──────────────┴──────────────┘"
      ]
     },
     "execution_count": 7,
     "metadata": {},
     "output_type": "execute_result"
    }
   ],
   "source": [
    "teamStats"
   ]
  },
  {
   "cell_type": "code",
   "execution_count": 11,
   "metadata": {},
   "outputs": [
    {
     "data": {
      "text/plain": [
       "array([[[2.11028000e+05, 1.00000000e+00, 1.00000000e+00, ...,\n",
       "         2.00000000e+00, 0.00000000e+00, 2.00000000e+00],\n",
       "        [2.11028000e+05, 1.00000000e+00, 1.00000000e+00, ...,\n",
       "         1.00000000e+00, 0.00000000e+00, 1.00000000e+00],\n",
       "        [2.11028000e+05, 1.00000000e+00, 1.00000000e+00, ...,\n",
       "         1.00000000e+00, 0.00000000e+00, 1.00000000e+00],\n",
       "        ...,\n",
       "        [2.11048000e+05, 1.00000000e+00, 1.00000000e+00, ...,\n",
       "         0.00000000e+00, 0.00000000e+00, 0.00000000e+00],\n",
       "        [2.11048000e+05, 1.00000000e+00, 1.00000000e+00, ...,\n",
       "         0.00000000e+00, 0.00000000e+00, 0.00000000e+00],\n",
       "        [2.11048000e+05, 1.00000000e+00, 1.00000000e+00, ...,\n",
       "         0.00000000e+00, 0.00000000e+00, 0.00000000e+00]],\n",
       "\n",
       "       [[2.25263000e+05, 1.00000000e+00, 1.00000000e+00, ...,\n",
       "         0.00000000e+00, 0.00000000e+00, 0.00000000e+00],\n",
       "        [2.25263000e+05, 1.00000000e+00, 1.00000000e+00, ...,\n",
       "         0.00000000e+00, 0.00000000e+00, 0.00000000e+00],\n",
       "        [2.25263000e+05, 1.00000000e+00, 1.00000000e+00, ...,\n",
       "         1.00000000e+00, 0.00000000e+00, 1.00000000e+00],\n",
       "        ...,\n",
       "        [2.25271000e+05, 1.00000000e+00, 1.00000000e+00, ...,\n",
       "         1.00000000e+00, 0.00000000e+00, 1.00000000e+00],\n",
       "        [2.25271000e+05, 1.00000000e+00, 1.00000000e+00, ...,\n",
       "         0.00000000e+00, 0.00000000e+00, 0.00000000e+00],\n",
       "        [2.25271000e+05, 1.00000000e+00, 1.00000000e+00, ...,\n",
       "         0.00000000e+00, 0.00000000e+00, 0.00000000e+00]],\n",
       "\n",
       "       [[2.26374000e+05, 3.00000000e+00, 3.00000000e+00, ...,\n",
       "         2.00000000e+00, 0.00000000e+00, 6.66666667e-01],\n",
       "        [2.26374000e+05, 1.00000000e+00, 1.00000000e+00, ...,\n",
       "         0.00000000e+00, 0.00000000e+00, 0.00000000e+00],\n",
       "        [2.26374000e+05, 3.00000000e+00, 3.00000000e+00, ...,\n",
       "         1.00000000e+00, 0.00000000e+00, 3.33333333e-01],\n",
       "        ...,\n",
       "        [2.38195000e+05, 1.00000000e+00, 0.00000000e+00, ...,\n",
       "         0.00000000e+00, 0.00000000e+00, 0.00000000e+00],\n",
       "        [2.38195000e+05, 1.00000000e+00, 0.00000000e+00, ...,\n",
       "         0.00000000e+00, 0.00000000e+00, 0.00000000e+00],\n",
       "        [2.38195000e+05, 2.00000000e+00, 1.00000000e+00, ...,\n",
       "         0.00000000e+00, 0.00000000e+00, 0.00000000e+00]],\n",
       "\n",
       "       ...,\n",
       "\n",
       "       [[1.44749000e+06, 6.00000000e+00, 5.00000000e+00, ...,\n",
       "         2.00000000e+01, 6.00000000e+00, 6.50000000e-01],\n",
       "        [1.44749000e+06, 6.00000000e+00, 6.00000000e+00, ...,\n",
       "         2.00000000e+00, 0.00000000e+00, 3.33333333e-01],\n",
       "        [1.44749000e+06, 3.00000000e+00, 1.00000000e+00, ...,\n",
       "         1.00000000e+01, 0.00000000e+00, 9.09090909e-01],\n",
       "        ...,\n",
       "        [1.44749200e+06, 1.20000000e+01, 1.10000000e+01, ...,\n",
       "         0.00000000e+00, 0.00000000e+00, 0.00000000e+00],\n",
       "        [1.44749200e+06, 4.00000000e+00, 4.00000000e+00, ...,\n",
       "         0.00000000e+00, 0.00000000e+00, 0.00000000e+00],\n",
       "        [1.44749200e+06, 8.00000000e+00, 8.00000000e+00, ...,\n",
       "         1.00000000e+00, 0.00000000e+00, 1.00000000e-01]],\n",
       "\n",
       "       [[1.44749600e+06, 1.40000000e+01, 1.40000000e+01, ...,\n",
       "         2.90000000e+01, 7.00000000e+00, 4.09090909e-01],\n",
       "        [1.44749600e+06, 8.00000000e+00, 8.00000000e+00, ...,\n",
       "         2.80000000e+01, 0.00000000e+00, 4.74576271e-01],\n",
       "        [1.44749600e+06, 1.20000000e+01, 1.10000000e+01, ...,\n",
       "         2.30000000e+01, 0.00000000e+00, 4.60000000e-01],\n",
       "        ...,\n",
       "        [1.45075300e+06, 5.00000000e+00, 1.00000000e+00, ...,\n",
       "         1.00000000e+00, 0.00000000e+00, 2.00000000e-01],\n",
       "        [1.45075300e+06, 5.00000000e+00, 4.00000000e+00, ...,\n",
       "         1.60000000e+01, 9.00000000e+00, 4.62962963e-01],\n",
       "        [1.45075300e+06, 4.00000000e+00, 1.00000000e+00, ...,\n",
       "         1.00000000e+00, 0.00000000e+00, 2.50000000e-01]],\n",
       "\n",
       "       [[1.45075900e+06, 1.00000000e+01, 1.00000000e+01, ...,\n",
       "         1.70000000e+01, 0.00000000e+00, 4.14634146e-01],\n",
       "        [1.45075900e+06, 6.00000000e+00, 3.00000000e+00, ...,\n",
       "         8.00000000e+00, 0.00000000e+00, 2.75862069e-01],\n",
       "        [1.45075900e+06, 1.00000000e+01, 1.00000000e+01, ...,\n",
       "         2.00000000e+01, 0.00000000e+00, 4.87804878e-01],\n",
       "        ...,\n",
       "        [1.45076500e+06, 9.00000000e+00, 4.00000000e+00, ...,\n",
       "         1.20000000e+01, 0.00000000e+00, 9.23076923e-01],\n",
       "        [1.45076500e+06, 1.00000000e+01, 2.00000000e+00, ...,\n",
       "         3.00000000e+00, 0.00000000e+00, 1.66666667e-01],\n",
       "        [1.45076500e+06, 9.00000000e+00, 1.00000000e+00, ...,\n",
       "         4.00000000e+00, 0.00000000e+00, 1.37931034e-01]]])"
      ]
     },
     "execution_count": 11,
     "metadata": {},
     "output_type": "execute_result"
    }
   ],
   "source": [
    "playsrStats"
   ]
  },
  {
   "cell_type": "code",
   "execution_count": 10,
   "metadata": {},
   "outputs": [
    {
     "data": {
      "text/plain": [
       "((534910, 6), (2312, 24), (2312, 22, 23))"
      ]
     },
     "execution_count": 10,
     "metadata": {},
     "output_type": "execute_result"
    }
   ],
   "source": [
    "balltoball.shape , teamStats.shape , playsrStats.shape"
   ]
  },
  {
   "cell_type": "code",
   "execution_count": null,
   "metadata": {},
   "outputs": [],
   "source": []
  }
 ],
 "metadata": {
  "kernelspec": {
   "display_name": "Python 3 (ipykernel)",
   "language": "python",
   "name": "python3"
  },
  "language_info": {
   "codemirror_mode": {
    "name": "ipython",
    "version": 3
   },
   "file_extension": ".py",
   "mimetype": "text/x-python",
   "name": "python",
   "nbconvert_exporter": "python",
   "pygments_lexer": "ipython3",
   "version": "3.11.0rc1"
  }
 },
 "nbformat": 4,
 "nbformat_minor": 2
}
