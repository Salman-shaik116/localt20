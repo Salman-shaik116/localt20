{
 "cells": [
  {
   "cell_type": "code",
   "execution_count": 4,
   "metadata": {},
   "outputs": [
    {
     "data": {
      "text/html": [
       "<div><style>\n",
       ".dataframe > thead > tr,\n",
       ".dataframe > tbody > tr {\n",
       "  text-align: right;\n",
       "  white-space: pre-wrap;\n",
       "}\n",
       "</style>\n",
       "<small>shape: (74_146, 4)</small><table border=\"1\" class=\"dataframe\"><thead><tr><th>match_id</th><th>player</th><th>country</th><th>player_id</th></tr><tr><td>i64</td><td>str</td><td>str</td><td>str</td></tr></thead><tbody><tr><td>1001349</td><td>&quot;A Zampa&quot;</td><td>&quot;Australia&quot;</td><td>&quot;14f96089&quot;</td></tr><tr><td>1001349</td><td>&quot;AJ Finch&quot;</td><td>&quot;Australia&quot;</td><td>&quot;b8d490fd&quot;</td></tr><tr><td>1001349</td><td>&quot;AJ Turner&quot;</td><td>&quot;Australia&quot;</td><td>&quot;ff1e12a0&quot;</td></tr><tr><td>1001349</td><td>&quot;AJ Tye&quot;</td><td>&quot;Australia&quot;</td><td>&quot;7c7d63a2&quot;</td></tr><tr><td>1001349</td><td>&quot;B Stanlake&quot;</td><td>&quot;Australia&quot;</td><td>&quot;6834d1f2&quot;</td></tr><tr><td>&hellip;</td><td>&hellip;</td><td>&hellip;</td><td>&hellip;</td></tr><tr><td>995469</td><td>&quot;SMSM Senanayake&quot;</td><td>&quot;Sri Lanka&quot;</td><td>&quot;4c4fa80b&quot;</td></tr><tr><td>995469</td><td>&quot;SS Pathirana&quot;</td><td>&quot;Sri Lanka&quot;</td><td>&quot;753c95b9&quot;</td></tr><tr><td>995469</td><td>&quot;TM Dilshan&quot;</td><td>&quot;Sri Lanka&quot;</td><td>&quot;5bdcdb72&quot;</td></tr><tr><td>995469</td><td>&quot;TM Head&quot;</td><td>&quot;Australia&quot;</td><td>&quot;12b610c2&quot;</td></tr><tr><td>995469</td><td>&quot;UT Khawaja&quot;</td><td>&quot;Australia&quot;</td><td>&quot;331ea488&quot;</td></tr></tbody></table></div>"
      ],
      "text/plain": [
       "shape: (74_146, 4)\n",
       "┌──────────┬─────────────────┬───────────┬───────────┐\n",
       "│ match_id ┆ player          ┆ country   ┆ player_id │\n",
       "│ ---      ┆ ---             ┆ ---       ┆ ---       │\n",
       "│ i64      ┆ str             ┆ str       ┆ str       │\n",
       "╞══════════╪═════════════════╪═══════════╪═══════════╡\n",
       "│ 1001349  ┆ A Zampa         ┆ Australia ┆ 14f96089  │\n",
       "│ 1001349  ┆ AJ Finch        ┆ Australia ┆ b8d490fd  │\n",
       "│ 1001349  ┆ AJ Turner       ┆ Australia ┆ ff1e12a0  │\n",
       "│ 1001349  ┆ AJ Tye          ┆ Australia ┆ 7c7d63a2  │\n",
       "│ 1001349  ┆ B Stanlake      ┆ Australia ┆ 6834d1f2  │\n",
       "│ …        ┆ …               ┆ …         ┆ …         │\n",
       "│ 995469   ┆ SMSM Senanayake ┆ Sri Lanka ┆ 4c4fa80b  │\n",
       "│ 995469   ┆ SS Pathirana    ┆ Sri Lanka ┆ 753c95b9  │\n",
       "│ 995469   ┆ TM Dilshan      ┆ Sri Lanka ┆ 5bdcdb72  │\n",
       "│ 995469   ┆ TM Head         ┆ Australia ┆ 12b610c2  │\n",
       "│ 995469   ┆ UT Khawaja      ┆ Australia ┆ 331ea488  │\n",
       "└──────────┴─────────────────┴───────────┴───────────┘"
      ]
     },
     "execution_count": 4,
     "metadata": {},
     "output_type": "execute_result"
    }
   ],
   "source": [
    "import os\n",
    "directory = r'D:\\github\\localt20\\dataInHandNow\\afterpreprocessed'\n",
    "\n",
    "import polars as pl\n",
    "matches = pl.read_csv(os.path.join(directory, 'matches.csv'))\n",
    "deliveries = pl.read_parquet(os.path.join(directory, 'deliveries.parquet'))\n",
    "matchPlayers = pl.read_csv(os.path.join(directory, 'Matchplayers.csv'))\n",
    "playerStats = pl.read_csv(os.path.join(directory, 'playerStats.csv'))\n",
    "teamStats = pl.read_csv(os.path.join(directory, 'teamStats.csv'))\n",
    "matchPlayers"
   ]
  },
  {
   "cell_type": "code",
   "execution_count": 5,
   "metadata": {},
   "outputs": [
    {
     "data": {
      "text/html": [
       "<div><style>\n",
       ".dataframe > thead > tr,\n",
       ".dataframe > tbody > tr {\n",
       "  text-align: right;\n",
       "  white-space: pre-wrap;\n",
       "}\n",
       "</style>\n",
       "<small>shape: (74_146, 2)</small><table border=\"1\" class=\"dataframe\"><thead><tr><th>match_id</th><th>player_id</th></tr><tr><td>i64</td><td>str</td></tr></thead><tbody><tr><td>1001349</td><td>&quot;14f96089&quot;</td></tr><tr><td>1001349</td><td>&quot;b8d490fd&quot;</td></tr><tr><td>1001349</td><td>&quot;ff1e12a0&quot;</td></tr><tr><td>1001349</td><td>&quot;7c7d63a2&quot;</td></tr><tr><td>1001349</td><td>&quot;6834d1f2&quot;</td></tr><tr><td>&hellip;</td><td>&hellip;</td></tr><tr><td>995469</td><td>&quot;4c4fa80b&quot;</td></tr><tr><td>995469</td><td>&quot;753c95b9&quot;</td></tr><tr><td>995469</td><td>&quot;5bdcdb72&quot;</td></tr><tr><td>995469</td><td>&quot;12b610c2&quot;</td></tr><tr><td>995469</td><td>&quot;331ea488&quot;</td></tr></tbody></table></div>"
      ],
      "text/plain": [
       "shape: (74_146, 2)\n",
       "┌──────────┬───────────┐\n",
       "│ match_id ┆ player_id │\n",
       "│ ---      ┆ ---       │\n",
       "│ i64      ┆ str       │\n",
       "╞══════════╪═══════════╡\n",
       "│ 1001349  ┆ 14f96089  │\n",
       "│ 1001349  ┆ b8d490fd  │\n",
       "│ 1001349  ┆ ff1e12a0  │\n",
       "│ 1001349  ┆ 7c7d63a2  │\n",
       "│ 1001349  ┆ 6834d1f2  │\n",
       "│ …        ┆ …         │\n",
       "│ 995469   ┆ 4c4fa80b  │\n",
       "│ 995469   ┆ 753c95b9  │\n",
       "│ 995469   ┆ 5bdcdb72  │\n",
       "│ 995469   ┆ 12b610c2  │\n",
       "│ 995469   ┆ 331ea488  │\n",
       "└──────────┴───────────┘"
      ]
     },
     "execution_count": 5,
     "metadata": {},
     "output_type": "execute_result"
    }
   ],
   "source": [
    "matchPlayers[['match_id','player_id']]"
   ]
  },
  {
   "cell_type": "code",
   "execution_count": null,
   "metadata": {},
   "outputs": [],
   "source": []
  }
 ],
 "metadata": {
  "kernelspec": {
   "display_name": "eda",
   "language": "python",
   "name": "python3"
  },
  "language_info": {
   "codemirror_mode": {
    "name": "ipython",
    "version": 3
   },
   "file_extension": ".py",
   "mimetype": "text/x-python",
   "name": "python",
   "nbconvert_exporter": "python",
   "pygments_lexer": "ipython3",
   "version": "3.8.19"
  }
 },
 "nbformat": 4,
 "nbformat_minor": 2
}
