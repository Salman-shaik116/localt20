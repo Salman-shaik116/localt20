{
 "cells": [
  {
   "cell_type": "code",
   "execution_count": 2,
   "metadata": {},
   "outputs": [
    {
     "data": {
      "text/html": [
       "<div><style>\n",
       ".dataframe > thead > tr,\n",
       ".dataframe > tbody > tr {\n",
       "  text-align: right;\n",
       "  white-space: pre-wrap;\n",
       "}\n",
       "</style>\n",
       "<small>shape: (715, 14)</small><table border=\"1\" class=\"dataframe\"><thead><tr><th>Team</th><th>Mat</th><th>Won</th><th>Lost</th><th>Tied</th><th>NR</th><th>W/L</th><th>Runs</th><th>Inns</th><th>HS</th><th>LS</th><th>Season</th><th>AveRPW</th><th>AveRPO</th></tr><tr><td>str</td><td>i64</td><td>i64</td><td>i64</td><td>i64</td><td>i64</td><td>f64</td><td>i64</td><td>i64</td><td>f64</td><td>f64</td><td>str</td><td>f64</td><td>f64</td></tr></thead><tbody><tr><td>&quot;Zimbabwe&quot;</td><td>2</td><td>0</td><td>2</td><td>0</td><td>0</td><td>0.0</td><td>258</td><td>2</td><td>132.0</td><td>126.0</td><td>&quot;2018/19&quot;</td><td>15.17</td><td>6.91</td></tr><tr><td>&quot;Zimbabwe&quot;</td><td>11</td><td>5</td><td>5</td><td>0</td><td>1</td><td>1.0</td><td>1423</td><td>11</td><td>174.0</td><td>115.0</td><td>&quot;2022/23&quot;</td><td>16.94</td><td>7.13</td></tr><tr><td>&quot;Zimbabwe&quot;</td><td>2</td><td>0</td><td>2</td><td>0</td><td>0</td><td>0.0</td><td>261</td><td>2</td><td>141.0</td><td>0.0</td><td>&quot;2017/18&quot;</td><td>18.64</td><td>6.52</td></tr><tr><td>&quot;Zimbabwe&quot;</td><td>15</td><td>5</td><td>10</td><td>0</td><td>0</td><td>0.5</td><td>2257</td><td>15</td><td>190.0</td><td>127.0</td><td>&quot;2015/16&quot;</td><td>20.15</td><td>7.59</td></tr><tr><td>&quot;Zimbabwe&quot;</td><td>16</td><td>9</td><td>7</td><td>0</td><td>0</td><td>1.285714</td><td>2448</td><td>16</td><td>236.0</td><td>95.0</td><td>&quot;2022&quot;</td><td>22.45</td><td>7.75</td></tr><tr><td>&hellip;</td><td>&hellip;</td><td>&hellip;</td><td>&hellip;</td><td>&hellip;</td><td>&hellip;</td><td>&hellip;</td><td>&hellip;</td><td>&hellip;</td><td>&hellip;</td><td>&hellip;</td><td>&hellip;</td><td>&hellip;</td><td>&hellip;</td></tr><tr><td>&quot;Afghanistan&quot;</td><td>10</td><td>10</td><td>0</td><td>0</td><td>0</td><td>10.0</td><td>1619</td><td>10</td><td>233.0</td><td>0.0</td><td>&quot;2016/17&quot;</td><td>33.72</td><td>8.92</td></tr><tr><td>&quot;Afghanistan&quot;</td><td>4</td><td>2</td><td>2</td><td>0</td><td>0</td><td>1.0</td><td>654</td><td>4</td><td>197.0</td><td>0.0</td><td>&quot;2019&quot;</td><td>25.15</td><td>8.17</td></tr><tr><td>&quot;Afghanistan&quot;</td><td>8</td><td>5</td><td>3</td><td>0</td><td>0</td><td>1.666667</td><td>1010</td><td>8</td><td>183.0</td><td>56.0</td><td>&quot;2024&quot;</td><td>18.36</td><td>7.04</td></tr><tr><td>&quot;Afghanistan&quot;</td><td>6</td><td>5</td><td>1</td><td>0</td><td>0</td><td>5.0</td><td>959</td><td>6</td><td>210.0</td><td>0.0</td><td>&quot;2015&quot;</td><td>31.96</td><td>8.37</td></tr><tr><td>&quot;Afghanistan&quot;</td><td>17</td><td>12</td><td>5</td><td>0</td><td>0</td><td>2.4</td><td>2784</td><td>17</td><td>215.0</td><td>160.0</td><td>&quot;2015/16&quot;</td><td>24.85</td><td>8.27</td></tr></tbody></table></div>"
      ],
      "text/plain": [
       "shape: (715, 14)\n",
       "┌─────────────┬─────┬─────┬──────┬───┬───────┬─────────┬────────┬────────┐\n",
       "│ Team        ┆ Mat ┆ Won ┆ Lost ┆ … ┆ LS    ┆ Season  ┆ AveRPW ┆ AveRPO │\n",
       "│ ---         ┆ --- ┆ --- ┆ ---  ┆   ┆ ---   ┆ ---     ┆ ---    ┆ ---    │\n",
       "│ str         ┆ i64 ┆ i64 ┆ i64  ┆   ┆ f64   ┆ str     ┆ f64    ┆ f64    │\n",
       "╞═════════════╪═════╪═════╪══════╪═══╪═══════╪═════════╪════════╪════════╡\n",
       "│ Zimbabwe    ┆ 2   ┆ 0   ┆ 2    ┆ … ┆ 126.0 ┆ 2018/19 ┆ 15.17  ┆ 6.91   │\n",
       "│ Zimbabwe    ┆ 11  ┆ 5   ┆ 5    ┆ … ┆ 115.0 ┆ 2022/23 ┆ 16.94  ┆ 7.13   │\n",
       "│ Zimbabwe    ┆ 2   ┆ 0   ┆ 2    ┆ … ┆ 0.0   ┆ 2017/18 ┆ 18.64  ┆ 6.52   │\n",
       "│ Zimbabwe    ┆ 15  ┆ 5   ┆ 10   ┆ … ┆ 127.0 ┆ 2015/16 ┆ 20.15  ┆ 7.59   │\n",
       "│ Zimbabwe    ┆ 16  ┆ 9   ┆ 7    ┆ … ┆ 95.0  ┆ 2022    ┆ 22.45  ┆ 7.75   │\n",
       "│ …           ┆ …   ┆ …   ┆ …    ┆ … ┆ …     ┆ …       ┆ …      ┆ …      │\n",
       "│ Afghanistan ┆ 10  ┆ 10  ┆ 0    ┆ … ┆ 0.0   ┆ 2016/17 ┆ 33.72  ┆ 8.92   │\n",
       "│ Afghanistan ┆ 4   ┆ 2   ┆ 2    ┆ … ┆ 0.0   ┆ 2019    ┆ 25.15  ┆ 8.17   │\n",
       "│ Afghanistan ┆ 8   ┆ 5   ┆ 3    ┆ … ┆ 56.0  ┆ 2024    ┆ 18.36  ┆ 7.04   │\n",
       "│ Afghanistan ┆ 6   ┆ 5   ┆ 1    ┆ … ┆ 0.0   ┆ 2015    ┆ 31.96  ┆ 8.37   │\n",
       "│ Afghanistan ┆ 17  ┆ 12  ┆ 5    ┆ … ┆ 160.0 ┆ 2015/16 ┆ 24.85  ┆ 8.27   │\n",
       "└─────────────┴─────┴─────┴──────┴───┴───────┴─────────┴────────┴────────┘"
      ]
     },
     "execution_count": 2,
     "metadata": {},
     "output_type": "execute_result"
    }
   ],
   "source": [
    "import os\n",
    "directory = r'D:\\github\\localt20\\dataInHandNow\\afterPreprocessed'\n",
    "\n",
    "import polars as pl\n",
    "team_data = pl.read_csv(os.path.join(directory, 'teamStats.csv'))\n",
    "team_data"
   ]
  },
  {
   "cell_type": "code",
   "execution_count": 3,
   "metadata": {},
   "outputs": [
    {
     "data": {
      "application/vnd.jupyter.widget-view+json": {
       "model_id": "eda6905eccff4340afffe74116217cda",
       "version_major": 2,
       "version_minor": 0
      },
      "text/plain": [
       "Summarize dataset:   0%|          | 0/5 [00:00<?, ?it/s]"
      ]
     },
     "metadata": {},
     "output_type": "display_data"
    },
    {
     "data": {
      "application/vnd.jupyter.widget-view+json": {
       "model_id": "d1bf5066e0be4f6699fe2751b5df9b38",
       "version_major": 2,
       "version_minor": 0
      },
      "text/plain": [
       "Generate report structure:   0%|          | 0/1 [00:00<?, ?it/s]"
      ]
     },
     "metadata": {},
     "output_type": "display_data"
    },
    {
     "data": {
      "application/vnd.jupyter.widget-view+json": {
       "model_id": "a9cbf029a2e94531bd6bd75d4a6909da",
       "version_major": 2,
       "version_minor": 0
      },
      "text/plain": [
       "Render widgets:   0%|          | 0/1 [00:00<?, ?it/s]"
      ]
     },
     "metadata": {},
     "output_type": "display_data"
    },
    {
     "data": {
      "application/vnd.jupyter.widget-view+json": {
       "model_id": "a9934d96c6b6462e94e8a4c25130a00b",
       "version_major": 2,
       "version_minor": 0
      },
      "text/plain": [
       "VBox(children=(Tab(children=(Tab(children=(GridBox(children=(VBox(children=(GridspecLayout(children=(HTML(valu…"
      ]
     },
     "metadata": {},
     "output_type": "display_data"
    }
   ],
   "source": [
    "import ydata_profiling\n",
    "from ydata_profiling import ProfileReport\n",
    "profile = ProfileReport(team_data.to_pandas(), title='Pandas Profiling Report', explorative=True)\n",
    "profile.to_widgets()"
   ]
  },
  {
   "cell_type": "code",
   "execution_count": 4,
   "metadata": {},
   "outputs": [
    {
     "data": {
      "application/vnd.jupyter.widget-view+json": {
       "model_id": "0c489354f25e457a9af10462c1a955c3",
       "version_major": 2,
       "version_minor": 0
      },
      "text/plain": [
       "Render HTML:   0%|          | 0/1 [00:00<?, ?it/s]"
      ]
     },
     "metadata": {},
     "output_type": "display_data"
    },
    {
     "data": {
      "application/vnd.jupyter.widget-view+json": {
       "model_id": "b53cffe8be1c4bed9f53808bfd812a39",
       "version_major": 2,
       "version_minor": 0
      },
      "text/plain": [
       "Export report to file:   0%|          | 0/1 [00:00<?, ?it/s]"
      ]
     },
     "metadata": {},
     "output_type": "display_data"
    }
   ],
   "source": [
    "profile.to_file(\"teamStats.html\")"
   ]
  }
 ],
 "metadata": {
  "kernelspec": {
   "display_name": "eda",
   "language": "python",
   "name": "python3"
  },
  "language_info": {
   "codemirror_mode": {
    "name": "ipython",
    "version": 3
   },
   "file_extension": ".py",
   "mimetype": "text/x-python",
   "name": "python",
   "nbconvert_exporter": "python",
   "pygments_lexer": "ipython3",
   "version": "3.8.19"
  }
 },
 "nbformat": 4,
 "nbformat_minor": 2
}
