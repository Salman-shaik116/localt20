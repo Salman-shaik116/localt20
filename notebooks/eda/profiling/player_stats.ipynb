{
 "cells": [
  {
   "cell_type": "code",
   "execution_count": 1,
   "metadata": {},
   "outputs": [
    {
     "data": {
      "text/html": [
       "<div><style>\n",
       ".dataframe > thead > tr,\n",
       ".dataframe > tbody > tr {\n",
       "  text-align: right;\n",
       "  white-space: pre-wrap;\n",
       "}\n",
       "</style>\n",
       "<small>shape: (10_142, 25)</small><table border=\"1\" class=\"dataframe\"><thead><tr><th>player_id</th><th>Player</th><th>Country</th><th>Season</th><th>Mat</th><th>Inns</th><th>Runs</th><th>SR</th><th>Ave</th><th>Cum Ave</th><th>Cum Runs Total</th><th>Cum Inns Total</th><th>Cum SR</th><th>Overs</th><th>Wkts</th><th>Econ</th><th>Cumulative Overs</th><th>Cumulative Wkts</th><th>Cumulative Runs</th><th>Cumulative Inns</th><th>Cumulative Econ</th><th>Dis</th><th>Ct</th><th>St</th><th>D/I</th></tr><tr><td>str</td><td>str</td><td>str</td><td>str</td><td>i64</td><td>f64</td><td>f64</td><td>f64</td><td>f64</td><td>f64</td><td>f64</td><td>f64</td><td>f64</td><td>f64</td><td>f64</td><td>f64</td><td>f64</td><td>f64</td><td>f64</td><td>f64</td><td>f64</td><td>f64</td><td>f64</td><td>f64</td><td>f64</td></tr></thead><tbody><tr><td>&quot;1d45c01a&quot;</td><td>&quot;A Andrews&quot;</td><td>&quot;Switzerland&quot;</td><td>&quot;2021/22&quot;</td><td>3</td><td>1.0</td><td>0.0</td><td>0.0</td><td>0.0</td><td>0.0</td><td>0.0</td><td>1.0</td><td>0.0</td><td>10.0</td><td>4.0</td><td>6.1</td><td>10.0</td><td>4.0</td><td>61.0</td><td>3.0</td><td>20.333333</td><td>4.0</td><td>4.0</td><td>0.0</td><td>1.333333</td></tr><tr><td>&quot;1d45c01a&quot;</td><td>&quot;A Andrews&quot;</td><td>&quot;Switzerland&quot;</td><td>&quot;2022&quot;</td><td>4</td><td>3.0</td><td>34.0</td><td>85.0</td><td>17.0</td><td>12.75</td><td>34.0</td><td>4.0</td><td>42.5</td><td>1.0</td><td>0.0</td><td>21.0</td><td>11.0</td><td>4.0</td><td>82.0</td><td>4.0</td><td>20.5</td><td>7.0</td><td>7.0</td><td>0.0</td><td>1.0</td></tr><tr><td>&quot;321be7e3&quot;</td><td>&quot;A Ashok&quot;</td><td>&quot;New Zealand&quot;</td><td>&quot;2023&quot;</td><td>1</td><td>0.0</td><td>0.0</td><td>0.0</td><td>0.0</td><td>0.0</td><td>0.0</td><td>0.0</td><td>0.0</td><td>4.0</td><td>1.0</td><td>7.0</td><td>4.0</td><td>1.0</td><td>28.0</td><td>1.0</td><td>28.0</td><td>0.0</td><td>0.0</td><td>0.0</td><td>0.0</td></tr><tr><td>&quot;58c2fac4&quot;</td><td>&quot;A Athanaze&quot;</td><td>&quot;West Indies&quot;</td><td>&quot;2024&quot;</td><td>4</td><td>4.0</td><td>75.0</td><td>122.95</td><td>25.0</td><td>25.0</td><td>75.0</td><td>4.0</td><td>122.95</td><td>0.0</td><td>0.0</td><td>0.0</td><td>0.0</td><td>0.0</td><td>0.0</td><td>0.0</td><td>0.0</td><td>2.0</td><td>2.0</td><td>0.0</td><td>0.5</td></tr><tr><td>&quot;6ef13460&quot;</td><td>&quot;A Balbirnie&quot;</td><td>&quot;Ireland&quot;</td><td>&quot;2015&quot;</td><td>7</td><td>4.0</td><td>77.0</td><td>98.71</td><td>19.25</td><td>19.25</td><td>77.0</td><td>4.0</td><td>98.71</td><td>0.0</td><td>0.0</td><td>0.0</td><td>0.0</td><td>0.0</td><td>0.0</td><td>0.0</td><td>0.0</td><td>1.0</td><td>1.0</td><td>0.0</td><td>0.2</td></tr><tr><td>&hellip;</td><td>&hellip;</td><td>&hellip;</td><td>&hellip;</td><td>&hellip;</td><td>&hellip;</td><td>&hellip;</td><td>&hellip;</td><td>&hellip;</td><td>&hellip;</td><td>&hellip;</td><td>&hellip;</td><td>&hellip;</td><td>&hellip;</td><td>&hellip;</td><td>&hellip;</td><td>&hellip;</td><td>&hellip;</td><td>&hellip;</td><td>&hellip;</td><td>&hellip;</td><td>&hellip;</td><td>&hellip;</td><td>&hellip;</td><td>&hellip;</td></tr><tr><td>&quot;9124aa4c&quot;</td><td>&quot;Zuhaib Zubair&quot;</td><td>&quot;United Arab Emirates&quot;</td><td>&quot;2023/24&quot;</td><td>2</td><td>1.0</td><td>13.0</td><td>144.44</td><td>13.0</td><td>13.0</td><td>13.0</td><td>1.0</td><td>144.44</td><td>6.0</td><td>0.0</td><td>8.0</td><td>6.0</td><td>0.0</td><td>48.0</td><td>2.0</td><td>24.0</td><td>0.0</td><td>0.0</td><td>0.0</td><td>0.0</td></tr><tr><td>&quot;22ae4973&quot;</td><td>&quot;Zuhair Muhammad&quot;</td><td>&quot;Saudi Arabia&quot;</td><td>&quot;2023/24&quot;</td><td>2</td><td>2.0</td><td>7.0</td><td>43.75</td><td>3.5</td><td>3.5</td><td>7.0</td><td>2.0</td><td>43.75</td><td>0.0</td><td>0.0</td><td>0.0</td><td>0.0</td><td>0.0</td><td>0.0</td><td>0.0</td><td>0.0</td><td>0.0</td><td>0.0</td><td>0.0</td><td>0.0</td></tr><tr><td>&quot;2d46e8ed&quot;</td><td>&quot;Zulqarnain Haider&quot;</td><td>&quot;Spain&quot;</td><td>&quot;2019&quot;</td><td>4</td><td>1.0</td><td>0.0</td><td>0.0</td><td>0.0</td><td>0.0</td><td>0.0</td><td>1.0</td><td>0.0</td><td>10.0</td><td>3.0</td><td>5.3</td><td>10.0</td><td>3.0</td><td>53.0</td><td>4.0</td><td>13.25</td><td>1.0</td><td>1.0</td><td>0.0</td><td>0.25</td></tr><tr><td>&quot;2d46e8ed&quot;</td><td>&quot;Zulqarnain Haider&quot;</td><td>&quot;Spain&quot;</td><td>&quot;2019/20&quot;</td><td>1</td><td>0.0</td><td>0.0</td><td>0.0</td><td>0.0</td><td>0.0</td><td>0.0</td><td>1.0</td><td>0.0</td><td>3.0</td><td>0.0</td><td>2.33</td><td>13.0</td><td>3.0</td><td>60.0</td><td>5.0</td><td>12.0</td><td>1.0</td><td>1.0</td><td>0.0</td><td>0.2</td></tr><tr><td>&quot;2d46e8ed&quot;</td><td>&quot;Zulqarnain Haider&quot;</td><td>&quot;Spain&quot;</td><td>&quot;2022&quot;</td><td>6</td><td>3.0</td><td>8.0</td><td>66.66</td><td>4.0</td><td>3.0</td><td>8.0</td><td>4.0</td><td>22.22</td><td>15.0</td><td>5.0</td><td>6.06</td><td>28.0</td><td>8.0</td><td>151.0</td><td>11.0</td><td>13.727273</td><td>1.0</td><td>1.0</td><td>0.0</td><td>0.090909</td></tr></tbody></table></div>"
      ],
      "text/plain": [
       "shape: (10_142, 25)\n",
       "┌───────────┬───────────────────┬──────────────────────┬─────────┬───┬─────┬─────┬─────┬──────────┐\n",
       "│ player_id ┆ Player            ┆ Country              ┆ Season  ┆ … ┆ Dis ┆ Ct  ┆ St  ┆ D/I      │\n",
       "│ ---       ┆ ---               ┆ ---                  ┆ ---     ┆   ┆ --- ┆ --- ┆ --- ┆ ---      │\n",
       "│ str       ┆ str               ┆ str                  ┆ str     ┆   ┆ f64 ┆ f64 ┆ f64 ┆ f64      │\n",
       "╞═══════════╪═══════════════════╪══════════════════════╪═════════╪═══╪═════╪═════╪═════╪══════════╡\n",
       "│ 1d45c01a  ┆ A Andrews         ┆ Switzerland          ┆ 2021/22 ┆ … ┆ 4.0 ┆ 4.0 ┆ 0.0 ┆ 1.333333 │\n",
       "│ 1d45c01a  ┆ A Andrews         ┆ Switzerland          ┆ 2022    ┆ … ┆ 7.0 ┆ 7.0 ┆ 0.0 ┆ 1.0      │\n",
       "│ 321be7e3  ┆ A Ashok           ┆ New Zealand          ┆ 2023    ┆ … ┆ 0.0 ┆ 0.0 ┆ 0.0 ┆ 0.0      │\n",
       "│ 58c2fac4  ┆ A Athanaze        ┆ West Indies          ┆ 2024    ┆ … ┆ 2.0 ┆ 2.0 ┆ 0.0 ┆ 0.5      │\n",
       "│ 6ef13460  ┆ A Balbirnie       ┆ Ireland              ┆ 2015    ┆ … ┆ 1.0 ┆ 1.0 ┆ 0.0 ┆ 0.2      │\n",
       "│ …         ┆ …                 ┆ …                    ┆ …       ┆ … ┆ …   ┆ …   ┆ …   ┆ …        │\n",
       "│ 9124aa4c  ┆ Zuhaib Zubair     ┆ United Arab Emirates ┆ 2023/24 ┆ … ┆ 0.0 ┆ 0.0 ┆ 0.0 ┆ 0.0      │\n",
       "│ 22ae4973  ┆ Zuhair Muhammad   ┆ Saudi Arabia         ┆ 2023/24 ┆ … ┆ 0.0 ┆ 0.0 ┆ 0.0 ┆ 0.0      │\n",
       "│ 2d46e8ed  ┆ Zulqarnain Haider ┆ Spain                ┆ 2019    ┆ … ┆ 1.0 ┆ 1.0 ┆ 0.0 ┆ 0.25     │\n",
       "│ 2d46e8ed  ┆ Zulqarnain Haider ┆ Spain                ┆ 2019/20 ┆ … ┆ 1.0 ┆ 1.0 ┆ 0.0 ┆ 0.2      │\n",
       "│ 2d46e8ed  ┆ Zulqarnain Haider ┆ Spain                ┆ 2022    ┆ … ┆ 1.0 ┆ 1.0 ┆ 0.0 ┆ 0.090909 │\n",
       "└───────────┴───────────────────┴──────────────────────┴─────────┴───┴─────┴─────┴─────┴──────────┘"
      ]
     },
     "execution_count": 1,
     "metadata": {},
     "output_type": "execute_result"
    }
   ],
   "source": [
    "import os\n",
    "directory = r'D:\\github\\localt20\\dataInHandNow\\afterPreprocessed'\n",
    "\n",
    "import polars as pl\n",
    "player_data = pl.read_csv(os.path.join(directory, 'playerStats.csv'))\n",
    "player_data"
   ]
  },
  {
   "cell_type": "code",
   "execution_count": 2,
   "metadata": {},
   "outputs": [
    {
     "data": {
      "application/vnd.jupyter.widget-view+json": {
       "model_id": "58855ff52d4a4deda9b354c77c849072",
       "version_major": 2,
       "version_minor": 0
      },
      "text/plain": [
       "Summarize dataset:   0%|          | 0/5 [00:00<?, ?it/s]"
      ]
     },
     "metadata": {},
     "output_type": "display_data"
    },
    {
     "data": {
      "application/vnd.jupyter.widget-view+json": {
       "model_id": "3fd46b8f00a44787a9e1f42583735cd2",
       "version_major": 2,
       "version_minor": 0
      },
      "text/plain": [
       "Generate report structure:   0%|          | 0/1 [00:00<?, ?it/s]"
      ]
     },
     "metadata": {},
     "output_type": "display_data"
    },
    {
     "data": {
      "application/vnd.jupyter.widget-view+json": {
       "model_id": "a10aa3c270274263a11fea2b836ce94a",
       "version_major": 2,
       "version_minor": 0
      },
      "text/plain": [
       "Render widgets:   0%|          | 0/1 [00:00<?, ?it/s]"
      ]
     },
     "metadata": {},
     "output_type": "display_data"
    },
    {
     "data": {
      "application/vnd.jupyter.widget-view+json": {
       "model_id": "830004194ff347f5a0691b94343c3147",
       "version_major": 2,
       "version_minor": 0
      },
      "text/plain": [
       "VBox(children=(Tab(children=(Tab(children=(GridBox(children=(VBox(children=(GridspecLayout(children=(HTML(valu…"
      ]
     },
     "metadata": {},
     "output_type": "display_data"
    }
   ],
   "source": [
    "import ydata_profiling\n",
    "from ydata_profiling import ProfileReport\n",
    "profile = ProfileReport(player_data.to_pandas(), title='Pandas Profiling Report', explorative=True)\n",
    "profile.to_widgets()"
   ]
  },
  {
   "cell_type": "code",
   "execution_count": 3,
   "metadata": {},
   "outputs": [
    {
     "data": {
      "application/vnd.jupyter.widget-view+json": {
       "model_id": "bfc6004186a948bb90f35d1238834639",
       "version_major": 2,
       "version_minor": 0
      },
      "text/plain": [
       "Render HTML:   0%|          | 0/1 [00:00<?, ?it/s]"
      ]
     },
     "metadata": {},
     "output_type": "display_data"
    },
    {
     "data": {
      "application/vnd.jupyter.widget-view+json": {
       "model_id": "f4ee6552c0374b3996392af527824346",
       "version_major": 2,
       "version_minor": 0
      },
      "text/plain": [
       "Export report to file:   0%|          | 0/1 [00:00<?, ?it/s]"
      ]
     },
     "metadata": {},
     "output_type": "display_data"
    }
   ],
   "source": [
    "profile.to_file('playerStats.html')"
   ]
  }
 ],
 "metadata": {
  "kernelspec": {
   "display_name": "eda",
   "language": "python",
   "name": "python3"
  },
  "language_info": {
   "codemirror_mode": {
    "name": "ipython",
    "version": 3
   },
   "file_extension": ".py",
   "mimetype": "text/x-python",
   "name": "python",
   "nbconvert_exporter": "python",
   "pygments_lexer": "ipython3",
   "version": "3.8.19"
  }
 },
 "nbformat": 4,
 "nbformat_minor": 2
}
