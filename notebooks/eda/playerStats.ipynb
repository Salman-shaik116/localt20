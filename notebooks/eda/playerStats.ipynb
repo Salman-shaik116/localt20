{
 "cells": [
  {
   "cell_type": "code",
   "execution_count": 1,
   "metadata": {},
   "outputs": [
    {
     "data": {
      "text/html": [
       "<div><style>\n",
       ".dataframe > thead > tr,\n",
       ".dataframe > tbody > tr {\n",
       "  text-align: right;\n",
       "  white-space: pre-wrap;\n",
       "}\n",
       "</style>\n",
       "<small>shape: (10_142, 25)</small><table border=\"1\" class=\"dataframe\"><thead><tr><th>player_id</th><th>Player</th><th>Country</th><th>Season</th><th>Mat</th><th>Inns</th><th>Runs</th><th>SR</th><th>Ave</th><th>Cum Ave</th><th>Cum Runs Total</th><th>Cum Inns Total</th><th>Cum SR</th><th>Overs</th><th>Wkts</th><th>Econ</th><th>Cumulative Overs</th><th>Cumulative Wkts</th><th>Cumulative Runs</th><th>Cumulative Inns</th><th>Cumulative Econ</th><th>Dis</th><th>Ct</th><th>St</th><th>D/I</th></tr><tr><td>str</td><td>str</td><td>str</td><td>str</td><td>i64</td><td>f64</td><td>f64</td><td>f64</td><td>f64</td><td>f64</td><td>f64</td><td>f64</td><td>f64</td><td>f64</td><td>f64</td><td>f64</td><td>f64</td><td>f64</td><td>f64</td><td>f64</td><td>f64</td><td>f64</td><td>f64</td><td>f64</td><td>f64</td></tr></thead><tbody><tr><td>&quot;1d45c01a&quot;</td><td>&quot;A Andrews&quot;</td><td>&quot;Switzerland&quot;</td><td>&quot;2021/22&quot;</td><td>3</td><td>1.0</td><td>0.0</td><td>0.0</td><td>0.0</td><td>0.0</td><td>0.0</td><td>1.0</td><td>0.0</td><td>10.0</td><td>4.0</td><td>6.1</td><td>10.0</td><td>4.0</td><td>61.0</td><td>3.0</td><td>20.333333</td><td>4.0</td><td>4.0</td><td>0.0</td><td>1.333333</td></tr><tr><td>&quot;1d45c01a&quot;</td><td>&quot;A Andrews&quot;</td><td>&quot;Switzerland&quot;</td><td>&quot;2022&quot;</td><td>4</td><td>3.0</td><td>34.0</td><td>85.0</td><td>17.0</td><td>12.75</td><td>34.0</td><td>4.0</td><td>42.5</td><td>1.0</td><td>0.0</td><td>21.0</td><td>11.0</td><td>4.0</td><td>82.0</td><td>4.0</td><td>20.5</td><td>7.0</td><td>7.0</td><td>0.0</td><td>1.0</td></tr><tr><td>&quot;321be7e3&quot;</td><td>&quot;A Ashok&quot;</td><td>&quot;New Zealand&quot;</td><td>&quot;2023&quot;</td><td>1</td><td>0.0</td><td>0.0</td><td>0.0</td><td>0.0</td><td>0.0</td><td>0.0</td><td>0.0</td><td>0.0</td><td>4.0</td><td>1.0</td><td>7.0</td><td>4.0</td><td>1.0</td><td>28.0</td><td>1.0</td><td>28.0</td><td>0.0</td><td>0.0</td><td>0.0</td><td>0.0</td></tr><tr><td>&quot;58c2fac4&quot;</td><td>&quot;A Athanaze&quot;</td><td>&quot;West Indies&quot;</td><td>&quot;2024&quot;</td><td>4</td><td>4.0</td><td>75.0</td><td>122.95</td><td>25.0</td><td>25.0</td><td>75.0</td><td>4.0</td><td>122.95</td><td>0.0</td><td>0.0</td><td>0.0</td><td>0.0</td><td>0.0</td><td>0.0</td><td>0.0</td><td>0.0</td><td>2.0</td><td>2.0</td><td>0.0</td><td>0.5</td></tr><tr><td>&quot;6ef13460&quot;</td><td>&quot;A Balbirnie&quot;</td><td>&quot;Ireland&quot;</td><td>&quot;2015&quot;</td><td>7</td><td>4.0</td><td>77.0</td><td>98.71</td><td>19.25</td><td>19.25</td><td>77.0</td><td>4.0</td><td>98.71</td><td>0.0</td><td>0.0</td><td>0.0</td><td>0.0</td><td>0.0</td><td>0.0</td><td>0.0</td><td>0.0</td><td>1.0</td><td>1.0</td><td>0.0</td><td>0.2</td></tr><tr><td>&hellip;</td><td>&hellip;</td><td>&hellip;</td><td>&hellip;</td><td>&hellip;</td><td>&hellip;</td><td>&hellip;</td><td>&hellip;</td><td>&hellip;</td><td>&hellip;</td><td>&hellip;</td><td>&hellip;</td><td>&hellip;</td><td>&hellip;</td><td>&hellip;</td><td>&hellip;</td><td>&hellip;</td><td>&hellip;</td><td>&hellip;</td><td>&hellip;</td><td>&hellip;</td><td>&hellip;</td><td>&hellip;</td><td>&hellip;</td><td>&hellip;</td></tr><tr><td>&quot;9124aa4c&quot;</td><td>&quot;Zuhaib Zubair&quot;</td><td>&quot;United Arab Emirates&quot;</td><td>&quot;2023/24&quot;</td><td>2</td><td>1.0</td><td>13.0</td><td>144.44</td><td>13.0</td><td>13.0</td><td>13.0</td><td>1.0</td><td>144.44</td><td>6.0</td><td>0.0</td><td>8.0</td><td>6.0</td><td>0.0</td><td>48.0</td><td>2.0</td><td>24.0</td><td>0.0</td><td>0.0</td><td>0.0</td><td>0.0</td></tr><tr><td>&quot;22ae4973&quot;</td><td>&quot;Zuhair Muhammad&quot;</td><td>&quot;Saudi Arabia&quot;</td><td>&quot;2023/24&quot;</td><td>2</td><td>2.0</td><td>7.0</td><td>43.75</td><td>3.5</td><td>3.5</td><td>7.0</td><td>2.0</td><td>43.75</td><td>0.0</td><td>0.0</td><td>0.0</td><td>0.0</td><td>0.0</td><td>0.0</td><td>0.0</td><td>0.0</td><td>0.0</td><td>0.0</td><td>0.0</td><td>0.0</td></tr><tr><td>&quot;2d46e8ed&quot;</td><td>&quot;Zulqarnain Haider&quot;</td><td>&quot;Spain&quot;</td><td>&quot;2019&quot;</td><td>4</td><td>1.0</td><td>0.0</td><td>0.0</td><td>0.0</td><td>0.0</td><td>0.0</td><td>1.0</td><td>0.0</td><td>10.0</td><td>3.0</td><td>5.3</td><td>10.0</td><td>3.0</td><td>53.0</td><td>4.0</td><td>13.25</td><td>1.0</td><td>1.0</td><td>0.0</td><td>0.25</td></tr><tr><td>&quot;2d46e8ed&quot;</td><td>&quot;Zulqarnain Haider&quot;</td><td>&quot;Spain&quot;</td><td>&quot;2019/20&quot;</td><td>1</td><td>0.0</td><td>0.0</td><td>0.0</td><td>0.0</td><td>0.0</td><td>0.0</td><td>1.0</td><td>0.0</td><td>3.0</td><td>0.0</td><td>2.33</td><td>13.0</td><td>3.0</td><td>60.0</td><td>5.0</td><td>12.0</td><td>1.0</td><td>1.0</td><td>0.0</td><td>0.2</td></tr><tr><td>&quot;2d46e8ed&quot;</td><td>&quot;Zulqarnain Haider&quot;</td><td>&quot;Spain&quot;</td><td>&quot;2022&quot;</td><td>6</td><td>3.0</td><td>8.0</td><td>66.66</td><td>4.0</td><td>3.0</td><td>8.0</td><td>4.0</td><td>22.22</td><td>15.0</td><td>5.0</td><td>6.06</td><td>28.0</td><td>8.0</td><td>151.0</td><td>11.0</td><td>13.727273</td><td>1.0</td><td>1.0</td><td>0.0</td><td>0.090909</td></tr></tbody></table></div>"
      ],
      "text/plain": [
       "shape: (10_142, 25)\n",
       "┌───────────┬───────────────────┬──────────────────────┬─────────┬───┬─────┬─────┬─────┬──────────┐\n",
       "│ player_id ┆ Player            ┆ Country              ┆ Season  ┆ … ┆ Dis ┆ Ct  ┆ St  ┆ D/I      │\n",
       "│ ---       ┆ ---               ┆ ---                  ┆ ---     ┆   ┆ --- ┆ --- ┆ --- ┆ ---      │\n",
       "│ str       ┆ str               ┆ str                  ┆ str     ┆   ┆ f64 ┆ f64 ┆ f64 ┆ f64      │\n",
       "╞═══════════╪═══════════════════╪══════════════════════╪═════════╪═══╪═════╪═════╪═════╪══════════╡\n",
       "│ 1d45c01a  ┆ A Andrews         ┆ Switzerland          ┆ 2021/22 ┆ … ┆ 4.0 ┆ 4.0 ┆ 0.0 ┆ 1.333333 │\n",
       "│ 1d45c01a  ┆ A Andrews         ┆ Switzerland          ┆ 2022    ┆ … ┆ 7.0 ┆ 7.0 ┆ 0.0 ┆ 1.0      │\n",
       "│ 321be7e3  ┆ A Ashok           ┆ New Zealand          ┆ 2023    ┆ … ┆ 0.0 ┆ 0.0 ┆ 0.0 ┆ 0.0      │\n",
       "│ 58c2fac4  ┆ A Athanaze        ┆ West Indies          ┆ 2024    ┆ … ┆ 2.0 ┆ 2.0 ┆ 0.0 ┆ 0.5      │\n",
       "│ 6ef13460  ┆ A Balbirnie       ┆ Ireland              ┆ 2015    ┆ … ┆ 1.0 ┆ 1.0 ┆ 0.0 ┆ 0.2      │\n",
       "│ …         ┆ …                 ┆ …                    ┆ …       ┆ … ┆ …   ┆ …   ┆ …   ┆ …        │\n",
       "│ 9124aa4c  ┆ Zuhaib Zubair     ┆ United Arab Emirates ┆ 2023/24 ┆ … ┆ 0.0 ┆ 0.0 ┆ 0.0 ┆ 0.0      │\n",
       "│ 22ae4973  ┆ Zuhair Muhammad   ┆ Saudi Arabia         ┆ 2023/24 ┆ … ┆ 0.0 ┆ 0.0 ┆ 0.0 ┆ 0.0      │\n",
       "│ 2d46e8ed  ┆ Zulqarnain Haider ┆ Spain                ┆ 2019    ┆ … ┆ 1.0 ┆ 1.0 ┆ 0.0 ┆ 0.25     │\n",
       "│ 2d46e8ed  ┆ Zulqarnain Haider ┆ Spain                ┆ 2019/20 ┆ … ┆ 1.0 ┆ 1.0 ┆ 0.0 ┆ 0.2      │\n",
       "│ 2d46e8ed  ┆ Zulqarnain Haider ┆ Spain                ┆ 2022    ┆ … ┆ 1.0 ┆ 1.0 ┆ 0.0 ┆ 0.090909 │\n",
       "└───────────┴───────────────────┴──────────────────────┴─────────┴───┴─────┴─────┴─────┴──────────┘"
      ]
     },
     "execution_count": 1,
     "metadata": {},
     "output_type": "execute_result"
    }
   ],
   "source": [
    "import os\n",
    "directory = r'D:\\github\\localt20\\dataInHandNow\\afterPreprocessed'\n",
    "\n",
    "import polars as pl\n",
    "player_data = pl.read_csv(os.path.join(directory, 'playerStats.csv'))\n",
    "player_data"
   ]
  },
  {
   "cell_type": "code",
   "execution_count": 13,
   "metadata": {},
   "outputs": [
    {
     "data": {
      "text/html": [
       "<div><style>\n",
       ".dataframe > thead > tr,\n",
       ".dataframe > tbody > tr {\n",
       "  text-align: right;\n",
       "  white-space: pre-wrap;\n",
       "}\n",
       "</style>\n",
       "<small>shape: (10_142, 25)</small><table border=\"1\" class=\"dataframe\"><thead><tr><th>player_id</th><th>Player</th><th>Country</th><th>Season</th><th>Mat</th><th>Inns</th><th>Runs</th><th>SR</th><th>Ave</th><th>Cum Ave</th><th>Cum Runs Total</th><th>Cum Inns Total</th><th>Cum SR</th><th>Overs</th><th>Wkts</th><th>Econ</th><th>Cumulative Overs</th><th>Cumulative Wkts</th><th>Cumulative Runs</th><th>Cumulative Inns</th><th>Cumulative Econ</th><th>Dis</th><th>Ct</th><th>St</th><th>D/I</th></tr><tr><td>str</td><td>str</td><td>str</td><td>i32</td><td>i64</td><td>f64</td><td>f64</td><td>f64</td><td>f64</td><td>f64</td><td>f64</td><td>f64</td><td>f64</td><td>f64</td><td>f64</td><td>f64</td><td>f64</td><td>f64</td><td>f64</td><td>f64</td><td>f64</td><td>f64</td><td>f64</td><td>f64</td><td>f64</td></tr></thead><tbody><tr><td>&quot;1d45c01a&quot;</td><td>&quot;A Andrews&quot;</td><td>&quot;Switzerland&quot;</td><td>2021</td><td>3</td><td>1.0</td><td>0.0</td><td>0.0</td><td>0.0</td><td>0.0</td><td>0.0</td><td>1.0</td><td>0.0</td><td>10.0</td><td>4.0</td><td>6.1</td><td>10.0</td><td>4.0</td><td>61.0</td><td>3.0</td><td>20.333333</td><td>4.0</td><td>4.0</td><td>0.0</td><td>1.333333</td></tr><tr><td>&quot;1d45c01a&quot;</td><td>&quot;A Andrews&quot;</td><td>&quot;Switzerland&quot;</td><td>2022</td><td>4</td><td>3.0</td><td>34.0</td><td>85.0</td><td>17.0</td><td>12.75</td><td>34.0</td><td>4.0</td><td>42.5</td><td>1.0</td><td>0.0</td><td>21.0</td><td>11.0</td><td>4.0</td><td>82.0</td><td>4.0</td><td>20.5</td><td>7.0</td><td>7.0</td><td>0.0</td><td>1.0</td></tr><tr><td>&quot;321be7e3&quot;</td><td>&quot;A Ashok&quot;</td><td>&quot;New Zealand&quot;</td><td>2023</td><td>1</td><td>0.0</td><td>0.0</td><td>0.0</td><td>0.0</td><td>0.0</td><td>0.0</td><td>0.0</td><td>0.0</td><td>4.0</td><td>1.0</td><td>7.0</td><td>4.0</td><td>1.0</td><td>28.0</td><td>1.0</td><td>28.0</td><td>0.0</td><td>0.0</td><td>0.0</td><td>0.0</td></tr><tr><td>&quot;58c2fac4&quot;</td><td>&quot;A Athanaze&quot;</td><td>&quot;West Indies&quot;</td><td>2024</td><td>4</td><td>4.0</td><td>75.0</td><td>122.95</td><td>25.0</td><td>25.0</td><td>75.0</td><td>4.0</td><td>122.95</td><td>0.0</td><td>0.0</td><td>0.0</td><td>0.0</td><td>0.0</td><td>0.0</td><td>0.0</td><td>0.0</td><td>2.0</td><td>2.0</td><td>0.0</td><td>0.5</td></tr><tr><td>&quot;6ef13460&quot;</td><td>&quot;A Balbirnie&quot;</td><td>&quot;Ireland&quot;</td><td>2015</td><td>7</td><td>4.0</td><td>77.0</td><td>98.71</td><td>19.25</td><td>19.25</td><td>77.0</td><td>4.0</td><td>98.71</td><td>0.0</td><td>0.0</td><td>0.0</td><td>0.0</td><td>0.0</td><td>0.0</td><td>0.0</td><td>0.0</td><td>1.0</td><td>1.0</td><td>0.0</td><td>0.2</td></tr><tr><td>&hellip;</td><td>&hellip;</td><td>&hellip;</td><td>&hellip;</td><td>&hellip;</td><td>&hellip;</td><td>&hellip;</td><td>&hellip;</td><td>&hellip;</td><td>&hellip;</td><td>&hellip;</td><td>&hellip;</td><td>&hellip;</td><td>&hellip;</td><td>&hellip;</td><td>&hellip;</td><td>&hellip;</td><td>&hellip;</td><td>&hellip;</td><td>&hellip;</td><td>&hellip;</td><td>&hellip;</td><td>&hellip;</td><td>&hellip;</td><td>&hellip;</td></tr><tr><td>&quot;9124aa4c&quot;</td><td>&quot;Zuhaib Zubair&quot;</td><td>&quot;United Arab Emirates&quot;</td><td>2023</td><td>2</td><td>1.0</td><td>13.0</td><td>144.44</td><td>13.0</td><td>13.0</td><td>13.0</td><td>1.0</td><td>144.44</td><td>6.0</td><td>0.0</td><td>8.0</td><td>6.0</td><td>0.0</td><td>48.0</td><td>2.0</td><td>24.0</td><td>0.0</td><td>0.0</td><td>0.0</td><td>0.0</td></tr><tr><td>&quot;22ae4973&quot;</td><td>&quot;Zuhair Muhammad&quot;</td><td>&quot;Saudi Arabia&quot;</td><td>2023</td><td>2</td><td>2.0</td><td>7.0</td><td>43.75</td><td>3.5</td><td>3.5</td><td>7.0</td><td>2.0</td><td>43.75</td><td>0.0</td><td>0.0</td><td>0.0</td><td>0.0</td><td>0.0</td><td>0.0</td><td>0.0</td><td>0.0</td><td>0.0</td><td>0.0</td><td>0.0</td><td>0.0</td></tr><tr><td>&quot;2d46e8ed&quot;</td><td>&quot;Zulqarnain Haider&quot;</td><td>&quot;Spain&quot;</td><td>2019</td><td>4</td><td>1.0</td><td>0.0</td><td>0.0</td><td>0.0</td><td>0.0</td><td>0.0</td><td>1.0</td><td>0.0</td><td>10.0</td><td>3.0</td><td>5.3</td><td>10.0</td><td>3.0</td><td>53.0</td><td>4.0</td><td>13.25</td><td>1.0</td><td>1.0</td><td>0.0</td><td>0.25</td></tr><tr><td>&quot;2d46e8ed&quot;</td><td>&quot;Zulqarnain Haider&quot;</td><td>&quot;Spain&quot;</td><td>2019</td><td>1</td><td>0.0</td><td>0.0</td><td>0.0</td><td>0.0</td><td>0.0</td><td>0.0</td><td>1.0</td><td>0.0</td><td>3.0</td><td>0.0</td><td>2.33</td><td>13.0</td><td>3.0</td><td>60.0</td><td>5.0</td><td>12.0</td><td>1.0</td><td>1.0</td><td>0.0</td><td>0.2</td></tr><tr><td>&quot;2d46e8ed&quot;</td><td>&quot;Zulqarnain Haider&quot;</td><td>&quot;Spain&quot;</td><td>2022</td><td>6</td><td>3.0</td><td>8.0</td><td>66.66</td><td>4.0</td><td>3.0</td><td>8.0</td><td>4.0</td><td>22.22</td><td>15.0</td><td>5.0</td><td>6.06</td><td>28.0</td><td>8.0</td><td>151.0</td><td>11.0</td><td>13.727273</td><td>1.0</td><td>1.0</td><td>0.0</td><td>0.090909</td></tr></tbody></table></div>"
      ],
      "text/plain": [
       "shape: (10_142, 25)\n",
       "┌───────────┬───────────────────┬──────────────────────┬────────┬───┬─────┬─────┬─────┬──────────┐\n",
       "│ player_id ┆ Player            ┆ Country              ┆ Season ┆ … ┆ Dis ┆ Ct  ┆ St  ┆ D/I      │\n",
       "│ ---       ┆ ---               ┆ ---                  ┆ ---    ┆   ┆ --- ┆ --- ┆ --- ┆ ---      │\n",
       "│ str       ┆ str               ┆ str                  ┆ i32    ┆   ┆ f64 ┆ f64 ┆ f64 ┆ f64      │\n",
       "╞═══════════╪═══════════════════╪══════════════════════╪════════╪═══╪═════╪═════╪═════╪══════════╡\n",
       "│ 1d45c01a  ┆ A Andrews         ┆ Switzerland          ┆ 2021   ┆ … ┆ 4.0 ┆ 4.0 ┆ 0.0 ┆ 1.333333 │\n",
       "│ 1d45c01a  ┆ A Andrews         ┆ Switzerland          ┆ 2022   ┆ … ┆ 7.0 ┆ 7.0 ┆ 0.0 ┆ 1.0      │\n",
       "│ 321be7e3  ┆ A Ashok           ┆ New Zealand          ┆ 2023   ┆ … ┆ 0.0 ┆ 0.0 ┆ 0.0 ┆ 0.0      │\n",
       "│ 58c2fac4  ┆ A Athanaze        ┆ West Indies          ┆ 2024   ┆ … ┆ 2.0 ┆ 2.0 ┆ 0.0 ┆ 0.5      │\n",
       "│ 6ef13460  ┆ A Balbirnie       ┆ Ireland              ┆ 2015   ┆ … ┆ 1.0 ┆ 1.0 ┆ 0.0 ┆ 0.2      │\n",
       "│ …         ┆ …                 ┆ …                    ┆ …      ┆ … ┆ …   ┆ …   ┆ …   ┆ …        │\n",
       "│ 9124aa4c  ┆ Zuhaib Zubair     ┆ United Arab Emirates ┆ 2023   ┆ … ┆ 0.0 ┆ 0.0 ┆ 0.0 ┆ 0.0      │\n",
       "│ 22ae4973  ┆ Zuhair Muhammad   ┆ Saudi Arabia         ┆ 2023   ┆ … ┆ 0.0 ┆ 0.0 ┆ 0.0 ┆ 0.0      │\n",
       "│ 2d46e8ed  ┆ Zulqarnain Haider ┆ Spain                ┆ 2019   ┆ … ┆ 1.0 ┆ 1.0 ┆ 0.0 ┆ 0.25     │\n",
       "│ 2d46e8ed  ┆ Zulqarnain Haider ┆ Spain                ┆ 2019   ┆ … ┆ 1.0 ┆ 1.0 ┆ 0.0 ┆ 0.2      │\n",
       "│ 2d46e8ed  ┆ Zulqarnain Haider ┆ Spain                ┆ 2022   ┆ … ┆ 1.0 ┆ 1.0 ┆ 0.0 ┆ 0.090909 │\n",
       "└───────────┴───────────────────┴──────────────────────┴────────┴───┴─────┴─────┴─────┴──────────┘"
      ]
     },
     "execution_count": 13,
     "metadata": {},
     "output_type": "execute_result"
    }
   ],
   "source": [
    "player_data = player_data.with_columns(player_data['Season'].str.split_exact('/',1).struct.rename_fields([\"Season\", \"second_part\"]).alias(\"fields\").to_frame().unnest(\"fields\").drop(\"second_part\").with_columns(pl.col(\"Season\").cast(pl.Int32)))\n",
    "player_data"
   ]
  },
  {
   "cell_type": "code",
   "execution_count": 24,
   "metadata": {},
   "outputs": [
    {
     "data": {
      "text/html": [
       "<div><style>\n",
       ".dataframe > thead > tr,\n",
       ".dataframe > tbody > tr {\n",
       "  text-align: right;\n",
       "  white-space: pre-wrap;\n",
       "}\n",
       "</style>\n",
       "<small>shape: (8_013, 25)</small><table border=\"1\" class=\"dataframe\"><thead><tr><th>player_id</th><th>Player</th><th>Country</th><th>Season</th><th>Mat</th><th>Inns</th><th>Runs</th><th>SR</th><th>Ave</th><th>Cum Ave</th><th>Cum Runs Total</th><th>Cum Inns Total</th><th>Cum SR</th><th>Overs</th><th>Wkts</th><th>Econ</th><th>Cumulative Overs</th><th>Cumulative Wkts</th><th>Cumulative Runs</th><th>Cumulative Inns</th><th>Cumulative Econ</th><th>Dis</th><th>Ct</th><th>St</th><th>D/I</th></tr><tr><td>str</td><td>str</td><td>str</td><td>i32</td><td>i64</td><td>f64</td><td>f64</td><td>f64</td><td>f64</td><td>f64</td><td>f64</td><td>f64</td><td>f64</td><td>f64</td><td>f64</td><td>f64</td><td>f64</td><td>f64</td><td>f64</td><td>f64</td><td>f64</td><td>f64</td><td>f64</td><td>f64</td><td>f64</td></tr></thead><tbody><tr><td>&quot;e4a0deae&quot;</td><td>&quot;MJ Santner&quot;</td><td>&quot;New Zealand&quot;</td><td>2017</td><td>13</td><td>8.0</td><td>121.0</td><td>161.33</td><td>40.33</td><td>22.23</td><td>170.0</td><td>17.0</td><td>102.93</td><td>37.4</td><td>9.0</td><td>7.77</td><td>86.5</td><td>29.0</td><td>620.0</td><td>26.0</td><td>23.846154</td><td>12.0</td><td>12.0</td><td>0.0</td><td>0.461538</td></tr><tr><td>&quot;de6b3760&quot;</td><td>&quot;Festus Benn&quot;</td><td>&quot;Bahamas&quot;</td><td>2022</td><td>9</td><td>9.0</td><td>76.0</td><td>68.755</td><td>13.125</td><td>12.36</td><td>123.0</td><td>14.0</td><td>73.545</td><td>20.0</td><td>5.0</td><td>9.5</td><td>29.0</td><td>7.0</td><td>293.0</td><td>12.0</td><td>25.0625</td><td>6.0</td><td>6.0</td><td>0.0</td><td>0.844444</td></tr><tr><td>&quot;5b16a806&quot;</td><td>&quot;A Dananjaya&quot;</td><td>&quot;Sri Lanka&quot;</td><td>2018</td><td>4</td><td>4.0</td><td>20.0</td><td>67.225</td><td>5.5</td><td>8.485</td><td>80.0</td><td>15.0</td><td>50.735</td><td>16.0</td><td>4.0</td><td>6.08</td><td>96.8</td><td>16.0</td><td>761.0</td><td>25.0</td><td>30.392857</td><td>8.0</td><td>8.0</td><td>0.0</td><td>0.649351</td></tr><tr><td>&quot;d20e22f7&quot;</td><td>&quot;Atif-Ur-Rehman&quot;</td><td>&quot;Saudi Arabia&quot;</td><td>2024</td><td>1</td><td>0.0</td><td>0.0</td><td>0.0</td><td>0.0</td><td>3.0</td><td>18.0</td><td>7.0</td><td>42.86</td><td>2.0</td><td>1.0</td><td>11.5</td><td>60.5</td><td>14.0</td><td>360.0</td><td>19.0</td><td>18.947368</td><td>7.0</td><td>7.0</td><td>0.0</td><td>0.368421</td></tr><tr><td>&quot;d2a989fc&quot;</td><td>&quot;DS Kulkarni&quot;</td><td>&quot;India&quot;</td><td>2016</td><td>2</td><td>1.0</td><td>1.0</td><td>100.0</td><td>1.0</td><td>1.0</td><td>1.0</td><td>1.0</td><td>100.0</td><td>8.0</td><td>3.0</td><td>6.87</td><td>8.0</td><td>3.0</td><td>55.0</td><td>2.0</td><td>27.5</td><td>0.0</td><td>0.0</td><td>0.0</td><td>0.0</td></tr><tr><td>&hellip;</td><td>&hellip;</td><td>&hellip;</td><td>&hellip;</td><td>&hellip;</td><td>&hellip;</td><td>&hellip;</td><td>&hellip;</td><td>&hellip;</td><td>&hellip;</td><td>&hellip;</td><td>&hellip;</td><td>&hellip;</td><td>&hellip;</td><td>&hellip;</td><td>&hellip;</td><td>&hellip;</td><td>&hellip;</td><td>&hellip;</td><td>&hellip;</td><td>&hellip;</td><td>&hellip;</td><td>&hellip;</td><td>&hellip;</td><td>&hellip;</td></tr><tr><td>&quot;25d7f1ac&quot;</td><td>&quot;MD Patel&quot;</td><td>&quot;United States of America&quot;</td><td>2019</td><td>6</td><td>6.0</td><td>68.0</td><td>100.0</td><td>13.6</td><td>12.33</td><td>85.0</td><td>8.0</td><td>92.5</td><td>0.0</td><td>0.0</td><td>0.0</td><td>0.0</td><td>0.0</td><td>0.0</td><td>0.0</td><td>0.0</td><td>5.0</td><td>3.0</td><td>2.0</td><td>0.625</td></tr><tr><td>&quot;201d3a67&quot;</td><td>&quot;A Sawyer&quot;</td><td>&quot;Gibraltar&quot;</td><td>2024</td><td>1</td><td>0.0</td><td>0.0</td><td>0.0</td><td>0.0</td><td>0.0</td><td>0.0</td><td>0.0</td><td>0.0</td><td>1.0</td><td>0.0</td><td>10.0</td><td>2.0</td><td>0.0</td><td>22.0</td><td>2.0</td><td>11.0</td><td>0.0</td><td>0.0</td><td>0.0</td><td>0.0</td></tr><tr><td>&quot;f5ba4611&quot;</td><td>&quot;M Sarenac&quot;</td><td>&quot;Serbia&quot;</td><td>2023</td><td>4</td><td>1.0</td><td>2.0</td><td>16.665</td><td>1.0</td><td>1.45</td><td>12.0</td><td>11.0</td><td>28.515</td><td>7.4</td><td>2.0</td><td>4.645</td><td>74.8</td><td>32.0</td><td>633.0</td><td>32.0</td><td>19.790196</td><td>4.0</td><td>4.0</td><td>0.0</td><td>0.236111</td></tr><tr><td>&quot;94d7f855&quot;</td><td>&quot;C de Grandhomme&quot;</td><td>&quot;New Zealand&quot;</td><td>2017</td><td>11</td><td>9.0</td><td>87.0</td><td>155.35</td><td>14.5</td><td>19.58</td><td>149.0</td><td>13.0</td><td>168.85</td><td>22.5</td><td>4.0</td><td>9.76</td><td>32.5</td><td>7.0</td><td>305.0</td><td>13.0</td><td>23.461538</td><td>8.0</td><td>8.0</td><td>0.0</td><td>0.533333</td></tr><tr><td>&quot;715dbf27&quot;</td><td>&quot;CN Onwuzulike&quot;</td><td>&quot;Nigeria&quot;</td><td>2021</td><td>6</td><td>6.0</td><td>94.0</td><td>106.81</td><td>15.66</td><td>15.65</td><td>216.0</td><td>15.0</td><td>98.69</td><td>0.0</td><td>0.0</td><td>0.0</td><td>0.0</td><td>0.0</td><td>0.0</td><td>0.0</td><td>0.0</td><td>6.0</td><td>6.0</td><td>0.0</td><td>0.4</td></tr></tbody></table></div>"
      ],
      "text/plain": [
       "shape: (8_013, 25)\n",
       "┌───────────┬─────────────────┬──────────────────┬────────┬───┬──────┬──────┬─────┬──────────┐\n",
       "│ player_id ┆ Player          ┆ Country          ┆ Season ┆ … ┆ Dis  ┆ Ct   ┆ St  ┆ D/I      │\n",
       "│ ---       ┆ ---             ┆ ---              ┆ ---    ┆   ┆ ---  ┆ ---  ┆ --- ┆ ---      │\n",
       "│ str       ┆ str             ┆ str              ┆ i32    ┆   ┆ f64  ┆ f64  ┆ f64 ┆ f64      │\n",
       "╞═══════════╪═════════════════╪══════════════════╪════════╪═══╪══════╪══════╪═════╪══════════╡\n",
       "│ e4a0deae  ┆ MJ Santner      ┆ New Zealand      ┆ 2017   ┆ … ┆ 12.0 ┆ 12.0 ┆ 0.0 ┆ 0.461538 │\n",
       "│ de6b3760  ┆ Festus Benn     ┆ Bahamas          ┆ 2022   ┆ … ┆ 6.0  ┆ 6.0  ┆ 0.0 ┆ 0.844444 │\n",
       "│ 5b16a806  ┆ A Dananjaya     ┆ Sri Lanka        ┆ 2018   ┆ … ┆ 8.0  ┆ 8.0  ┆ 0.0 ┆ 0.649351 │\n",
       "│ d20e22f7  ┆ Atif-Ur-Rehman  ┆ Saudi Arabia     ┆ 2024   ┆ … ┆ 7.0  ┆ 7.0  ┆ 0.0 ┆ 0.368421 │\n",
       "│ d2a989fc  ┆ DS Kulkarni     ┆ India            ┆ 2016   ┆ … ┆ 0.0  ┆ 0.0  ┆ 0.0 ┆ 0.0      │\n",
       "│ …         ┆ …               ┆ …                ┆ …      ┆ … ┆ …    ┆ …    ┆ …   ┆ …        │\n",
       "│ 25d7f1ac  ┆ MD Patel        ┆ United States of ┆ 2019   ┆ … ┆ 5.0  ┆ 3.0  ┆ 2.0 ┆ 0.625    │\n",
       "│           ┆                 ┆ America          ┆        ┆   ┆      ┆      ┆     ┆          │\n",
       "│ 201d3a67  ┆ A Sawyer        ┆ Gibraltar        ┆ 2024   ┆ … ┆ 0.0  ┆ 0.0  ┆ 0.0 ┆ 0.0      │\n",
       "│ f5ba4611  ┆ M Sarenac       ┆ Serbia           ┆ 2023   ┆ … ┆ 4.0  ┆ 4.0  ┆ 0.0 ┆ 0.236111 │\n",
       "│ 94d7f855  ┆ C de Grandhomme ┆ New Zealand      ┆ 2017   ┆ … ┆ 8.0  ┆ 8.0  ┆ 0.0 ┆ 0.533333 │\n",
       "│ 715dbf27  ┆ CN Onwuzulike   ┆ Nigeria          ┆ 2021   ┆ … ┆ 6.0  ┆ 6.0  ┆ 0.0 ┆ 0.4      │\n",
       "└───────────┴─────────────────┴──────────────────┴────────┴───┴──────┴──────┴─────┴──────────┘"
      ]
     },
     "execution_count": 24,
     "metadata": {},
     "output_type": "execute_result"
    }
   ],
   "source": [
    "# Runs\tSR\tAve\tCum Ave\t                                                                                                                                                                                 Cum Runs Total\tCum Inns Total\tCum SR\tOvers\tWkts\tEcon\tCumulative Overs\tCumulative Wkts\tCumulative Runs\tCumulative Inns\tCumulative Econ\tDis\tCt\tSt\tD/I\n",
    "player_data = player_data.group_by(['player_id','Player','Country','Season']).agg(pl.col(\"Mat\").sum(),pl.col(\"Inns\").sum(),pl.col(\"Runs\").sum(),pl.col(\"SR\").mean(),pl.col(\"Ave\").mean(),pl.col(\"Cum Ave\").mean(),pl.col(\"Cum Runs Total\").sum(),pl.col(\"Cum Inns Total\").sum(),pl.col(\"Cum SR\").mean(),pl.col(\"Overs\").sum(),pl.col(\"Wkts\").sum(),pl.col(\"Econ\").mean(),pl.col(\"Cumulative Overs\").sum(),pl.col(\"Cumulative Wkts\").sum(),pl.col(\"Cumulative Runs\").sum(),pl.col(\"Cumulative Inns\").sum(),pl.col(\"Cumulative Econ\").mean(),pl.col(\"Dis\").sum(),pl.col(\"Ct\").sum(),pl.col(\"St\").sum(),pl.col(\"D/I\").sum())\n",
    "player_data"
   ]
  },
  {
   "cell_type": "code",
   "execution_count": null,
   "metadata": {},
   "outputs": [],
   "source": []
  }
 ],
 "metadata": {
  "kernelspec": {
   "display_name": "eda",
   "language": "python",
   "name": "python3"
  },
  "language_info": {
   "codemirror_mode": {
    "name": "ipython",
    "version": 3
   },
   "file_extension": ".py",
   "mimetype": "text/x-python",
   "name": "python",
   "nbconvert_exporter": "python",
   "pygments_lexer": "ipython3",
   "version": "3.8.19"
  }
 },
 "nbformat": 4,
 "nbformat_minor": 2
}
