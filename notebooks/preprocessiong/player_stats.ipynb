{
 "cells": [
  {
   "cell_type": "code",
   "execution_count": 1,
   "metadata": {},
   "outputs": [
    {
     "data": {
      "text/html": [
       "<div><style>\n",
       ".dataframe > thead > tr,\n",
       ".dataframe > tbody > tr {\n",
       "  text-align: right;\n",
       "  white-space: pre-wrap;\n",
       "}\n",
       "</style>\n",
       "<small>shape: (10_100, 13)</small><table border=\"1\" class=\"dataframe\"><thead><tr><th>Player</th><th>Season</th><th>Mat</th><th>Inns</th><th>Runs</th><th>SR</th><th>Ave</th><th>Country</th><th>Cum Ave</th><th>Cum Runs Total</th><th>Cum Inns Total</th><th>Cum SR</th><th>player_id</th></tr><tr><td>str</td><td>str</td><td>i64</td><td>f64</td><td>f64</td><td>f64</td><td>f64</td><td>str</td><td>f64</td><td>f64</td><td>f64</td><td>f64</td><td>str</td></tr></thead><tbody><tr><td>&quot;A Andrews&quot;</td><td>&quot;2021/22&quot;</td><td>3</td><td>1.0</td><td>0.0</td><td>0.0</td><td>0.0</td><td>&quot;Switzerland&quot;</td><td>0.0</td><td>0.0</td><td>1.0</td><td>0.0</td><td>&quot;1d45c01a&quot;</td></tr><tr><td>&quot;A Andrews&quot;</td><td>&quot;2022&quot;</td><td>4</td><td>3.0</td><td>34.0</td><td>85.0</td><td>17.0</td><td>&quot;Switzerland&quot;</td><td>12.75</td><td>34.0</td><td>4.0</td><td>42.5</td><td>&quot;1d45c01a&quot;</td></tr><tr><td>&quot;A Ashok&quot;</td><td>&quot;2023&quot;</td><td>1</td><td>0.0</td><td>0.0</td><td>0.0</td><td>0.0</td><td>&quot;New Zealand&quot;</td><td>NaN</td><td>0.0</td><td>0.0</td><td>0.0</td><td>&quot;321be7e3&quot;</td></tr><tr><td>&quot;A Athanaze&quot;</td><td>&quot;2024&quot;</td><td>4</td><td>4.0</td><td>75.0</td><td>122.95</td><td>25.0</td><td>&quot;West Indies&quot;</td><td>25.0</td><td>75.0</td><td>4.0</td><td>122.95</td><td>&quot;58c2fac4&quot;</td></tr><tr><td>&quot;A Balbirnie&quot;</td><td>&quot;2015&quot;</td><td>7</td><td>4.0</td><td>77.0</td><td>98.71</td><td>19.25</td><td>&quot;Ireland&quot;</td><td>19.25</td><td>77.0</td><td>4.0</td><td>98.71</td><td>&quot;6ef13460&quot;</td></tr><tr><td>&hellip;</td><td>&hellip;</td><td>&hellip;</td><td>&hellip;</td><td>&hellip;</td><td>&hellip;</td><td>&hellip;</td><td>&hellip;</td><td>&hellip;</td><td>&hellip;</td><td>&hellip;</td><td>&hellip;</td><td>&hellip;</td></tr><tr><td>&quot;Zuhaib Zubair&quot;</td><td>&quot;2023/24&quot;</td><td>2</td><td>1.0</td><td>13.0</td><td>144.44</td><td>13.0</td><td>&quot;United Arab Emirates&quot;</td><td>13.0</td><td>13.0</td><td>1.0</td><td>144.44</td><td>&quot;9124aa4c&quot;</td></tr><tr><td>&quot;Zuhair Muhammad&quot;</td><td>&quot;2023/24&quot;</td><td>2</td><td>2.0</td><td>7.0</td><td>43.75</td><td>3.5</td><td>&quot;Saudi Arabia&quot;</td><td>3.5</td><td>7.0</td><td>2.0</td><td>43.75</td><td>&quot;22ae4973&quot;</td></tr><tr><td>&quot;Zulqarnain Haider&quot;</td><td>&quot;2019&quot;</td><td>4</td><td>1.0</td><td>0.0</td><td>0.0</td><td>0.0</td><td>&quot;Spain&quot;</td><td>0.0</td><td>0.0</td><td>1.0</td><td>0.0</td><td>&quot;2d46e8ed&quot;</td></tr><tr><td>&quot;Zulqarnain Haider&quot;</td><td>&quot;2019/20&quot;</td><td>1</td><td>0.0</td><td>0.0</td><td>0.0</td><td>0.0</td><td>&quot;Spain&quot;</td><td>0.0</td><td>0.0</td><td>1.0</td><td>0.0</td><td>&quot;2d46e8ed&quot;</td></tr><tr><td>&quot;Zulqarnain Haider&quot;</td><td>&quot;2022&quot;</td><td>6</td><td>3.0</td><td>8.0</td><td>66.66</td><td>4.0</td><td>&quot;Spain&quot;</td><td>3.0</td><td>8.0</td><td>4.0</td><td>22.22</td><td>&quot;2d46e8ed&quot;</td></tr></tbody></table></div>"
      ],
      "text/plain": [
       "shape: (10_100, 13)\n",
       "┌────────────────┬─────────┬─────┬──────┬───┬────────────────┬────────────────┬────────┬───────────┐\n",
       "│ Player         ┆ Season  ┆ Mat ┆ Inns ┆ … ┆ Cum Runs Total ┆ Cum Inns Total ┆ Cum SR ┆ player_id │\n",
       "│ ---            ┆ ---     ┆ --- ┆ ---  ┆   ┆ ---            ┆ ---            ┆ ---    ┆ ---       │\n",
       "│ str            ┆ str     ┆ i64 ┆ f64  ┆   ┆ f64            ┆ f64            ┆ f64    ┆ str       │\n",
       "╞════════════════╪═════════╪═════╪══════╪═══╪════════════════╪════════════════╪════════╪═══════════╡\n",
       "│ A Andrews      ┆ 2021/22 ┆ 3   ┆ 1.0  ┆ … ┆ 0.0            ┆ 1.0            ┆ 0.0    ┆ 1d45c01a  │\n",
       "│ A Andrews      ┆ 2022    ┆ 4   ┆ 3.0  ┆ … ┆ 34.0           ┆ 4.0            ┆ 42.5   ┆ 1d45c01a  │\n",
       "│ A Ashok        ┆ 2023    ┆ 1   ┆ 0.0  ┆ … ┆ 0.0            ┆ 0.0            ┆ 0.0    ┆ 321be7e3  │\n",
       "│ A Athanaze     ┆ 2024    ┆ 4   ┆ 4.0  ┆ … ┆ 75.0           ┆ 4.0            ┆ 122.95 ┆ 58c2fac4  │\n",
       "│ A Balbirnie    ┆ 2015    ┆ 7   ┆ 4.0  ┆ … ┆ 77.0           ┆ 4.0            ┆ 98.71  ┆ 6ef13460  │\n",
       "│ …              ┆ …       ┆ …   ┆ …    ┆ … ┆ …              ┆ …              ┆ …      ┆ …         │\n",
       "│ Zuhaib Zubair  ┆ 2023/24 ┆ 2   ┆ 1.0  ┆ … ┆ 13.0           ┆ 1.0            ┆ 144.44 ┆ 9124aa4c  │\n",
       "│ Zuhair         ┆ 2023/24 ┆ 2   ┆ 2.0  ┆ … ┆ 7.0            ┆ 2.0            ┆ 43.75  ┆ 22ae4973  │\n",
       "│ Muhammad       ┆         ┆     ┆      ┆   ┆                ┆                ┆        ┆           │\n",
       "│ Zulqarnain     ┆ 2019    ┆ 4   ┆ 1.0  ┆ … ┆ 0.0            ┆ 1.0            ┆ 0.0    ┆ 2d46e8ed  │\n",
       "│ Haider         ┆         ┆     ┆      ┆   ┆                ┆                ┆        ┆           │\n",
       "│ Zulqarnain     ┆ 2019/20 ┆ 1   ┆ 0.0  ┆ … ┆ 0.0            ┆ 1.0            ┆ 0.0    ┆ 2d46e8ed  │\n",
       "│ Haider         ┆         ┆     ┆      ┆   ┆                ┆                ┆        ┆           │\n",
       "│ Zulqarnain     ┆ 2022    ┆ 6   ┆ 3.0  ┆ … ┆ 8.0            ┆ 4.0            ┆ 22.22  ┆ 2d46e8ed  │\n",
       "│ Haider         ┆         ┆     ┆      ┆   ┆                ┆                ┆        ┆           │\n",
       "└────────────────┴─────────┴─────┴──────┴───┴────────────────┴────────────────┴────────┴───────────┘"
      ]
     },
     "execution_count": 1,
     "metadata": {},
     "output_type": "execute_result"
    }
   ],
   "source": [
    "import os\n",
    "import glob\n",
    "import polars as pl\n",
    "\n",
    "# Specify the directory where your CSV files are located\n",
    "directory = r'D:\\github\\localt20\\processedData'\n",
    "\n",
    "batting_data = pl.read_csv(os.path.join(directory, 'batting.csv'))\n",
    "bowling_data = pl.read_csv(os.path.join(directory, 'bowling.csv'))\n",
    "fielding_data = pl.read_csv(os.path.join(directory, 'fielding.csv'))\n",
    "batting_data"
   ]
  },
  {
   "cell_type": "code",
   "execution_count": 35,
   "metadata": {},
   "outputs": [
    {
     "data": {
      "text/html": [
       "<div><style>\n",
       ".dataframe > thead > tr,\n",
       ".dataframe > tbody > tr {\n",
       "  text-align: right;\n",
       "  white-space: pre-wrap;\n",
       "}\n",
       "</style>\n",
       "<small>shape: (3_503,)</small><table border=\"1\" class=\"dataframe\"><thead><tr><th>player_id</th></tr><tr><td>str</td></tr></thead><tbody><tr><td>&quot;cad11a02&quot;</td></tr><tr><td>&quot;7f74b21d&quot;</td></tr><tr><td>&quot;441b1b20&quot;</td></tr><tr><td>&quot;abb7c76c&quot;</td></tr><tr><td>&quot;6b71e6cf&quot;</td></tr><tr><td>&hellip;</td></tr><tr><td>&quot;2e89652e&quot;</td></tr><tr><td>&quot;2d03c3f8&quot;</td></tr><tr><td>&quot;17fbaab5&quot;</td></tr><tr><td>&quot;bbd41817&quot;</td></tr><tr><td>&quot;498aacac&quot;</td></tr></tbody></table></div>"
      ],
      "text/plain": [
       "shape: (3_503,)\n",
       "Series: 'player_id' [str]\n",
       "[\n",
       "\t\"cad11a02\"\n",
       "\t\"7f74b21d\"\n",
       "\t\"441b1b20\"\n",
       "\t\"abb7c76c\"\n",
       "\t\"6b71e6cf\"\n",
       "\t…\n",
       "\t\"2e89652e\"\n",
       "\t\"2d03c3f8\"\n",
       "\t\"17fbaab5\"\n",
       "\t\"bbd41817\"\n",
       "\t\"498aacac\"\n",
       "]"
      ]
     },
     "execution_count": 35,
     "metadata": {},
     "output_type": "execute_result"
    }
   ],
   "source": [
    "batting_data['player_id'].unique()"
   ]
  },
  {
   "cell_type": "code",
   "execution_count": 32,
   "metadata": {},
   "outputs": [
    {
     "data": {
      "text/html": [
       "<div><style>\n",
       ".dataframe > thead > tr,\n",
       ".dataframe > tbody > tr {\n",
       "  text-align: right;\n",
       "  white-space: pre-wrap;\n",
       "}\n",
       "</style>\n",
       "<small>shape: (3_493,)</small><table border=\"1\" class=\"dataframe\"><thead><tr><th>player_id</th></tr><tr><td>str</td></tr></thead><tbody><tr><td>&quot;addfb70e&quot;</td></tr><tr><td>&quot;e174dadd&quot;</td></tr><tr><td>&quot;59792462&quot;</td></tr><tr><td>&quot;922e3dcc&quot;</td></tr><tr><td>&quot;881a9bdd&quot;</td></tr><tr><td>&hellip;</td></tr><tr><td>&quot;19758a47&quot;</td></tr><tr><td>&quot;f208fe04&quot;</td></tr><tr><td>&quot;63772ee4&quot;</td></tr><tr><td>&quot;fccebff9&quot;</td></tr><tr><td>&quot;a62f55ba&quot;</td></tr></tbody></table></div>"
      ],
      "text/plain": [
       "shape: (3_493,)\n",
       "Series: 'player_id' [str]\n",
       "[\n",
       "\t\"addfb70e\"\n",
       "\t\"e174dadd\"\n",
       "\t\"59792462\"\n",
       "\t\"922e3dcc\"\n",
       "\t\"881a9bdd\"\n",
       "\t…\n",
       "\t\"19758a47\"\n",
       "\t\"f208fe04\"\n",
       "\t\"63772ee4\"\n",
       "\t\"fccebff9\"\n",
       "\t\"a62f55ba\"\n",
       "]"
      ]
     },
     "execution_count": 32,
     "metadata": {},
     "output_type": "execute_result"
    }
   ],
   "source": [
    "player_data = batting_data.join(bowling_data, on=['player_id'], how='inner').drop(\"Player_right\")\n",
    "# player_data = player_data.filter(player_data['player_id']).unique()\n",
    "player_data['player_id'].unique()"
   ]
  },
  {
   "cell_type": "code",
   "execution_count": null,
   "metadata": {},
   "outputs": [],
   "source": []
  },
  {
   "cell_type": "code",
   "execution_count": 30,
   "metadata": {},
   "outputs": [
    {
     "data": {
      "text/html": [
       "<div><style>\n",
       ".dataframe > thead > tr,\n",
       ".dataframe > tbody > tr {\n",
       "  text-align: right;\n",
       "  white-space: pre-wrap;\n",
       "}\n",
       "</style>\n",
       "<small>shape: (3_914, 8)</small><table border=\"1\" class=\"dataframe\"><thead><tr><th>player_id</th><th>Player</th><th>Mat</th><th>SR</th><th>Overs</th><th>Wkts</th><th>Econ</th><th>D/I</th></tr><tr><td>str</td><td>str</td><td>i64</td><td>f64</td><td>f64</td><td>f64</td><td>f64</td><td>f64</td></tr></thead><tbody><tr><td>&quot;f80682f8&quot;</td><td>&quot;Ravinderpal Singh&quot;</td><td>35</td><td>145.23</td><td>1.1</td><td>2.0</td><td>12.0</td><td>0.588</td></tr><tr><td>&quot;31080a88&quot;</td><td>&quot;Aslam Khan&quot;</td><td>9</td><td>108.33</td><td>0.0</td><td>0.0</td><td>0.0</td><td>0.444</td></tr><tr><td>&quot;5aeab54c&quot;</td><td>&quot;Ihsanullah&quot;</td><td>1</td><td>142.85</td><td>0.0</td><td>0.0</td><td>0.0</td><td>0.0</td></tr><tr><td>&quot;a049c39b&quot;</td><td>&quot;Tariq Aziz&quot;</td><td>4</td><td>85.1</td><td>16.0</td><td>6.0</td><td>4.37</td><td>0.0</td></tr><tr><td>&quot;321fcf79&quot;</td><td>&quot;S Singh&quot;</td><td>1</td><td>0.0</td><td>0.0</td><td>0.0</td><td>0.0</td><td>0.0</td></tr><tr><td>&hellip;</td><td>&hellip;</td><td>&hellip;</td><td>&hellip;</td><td>&hellip;</td><td>&hellip;</td><td>&hellip;</td><td>&hellip;</td></tr><tr><td>&quot;615688b6&quot;</td><td>&quot;Usman Najeeb&quot;</td><td>20</td><td>102.98</td><td>70.3</td><td>34.0</td><td>7.67</td><td>0.25</td></tr><tr><td>&quot;d1761087&quot;</td><td>&quot;RM West&quot;</td><td>5</td><td>100.0</td><td>19.0</td><td>3.0</td><td>7.47</td><td>0.2</td></tr><tr><td>&quot;7c840f73&quot;</td><td>&quot;R Pathan&quot;</td><td>14</td><td>157.42</td><td>2.0</td><td>0.0</td><td>12.0</td><td>0.0</td></tr><tr><td>&quot;b67bfaae&quot;</td><td>&quot;GE Mathurin&quot;</td><td>3</td><td>80.0</td><td>10.0</td><td>4.0</td><td>6.5</td><td>0.333</td></tr><tr><td>&quot;79209272&quot;</td><td>&quot;Yasir Ali&quot;</td><td>11</td><td>142.22</td><td>96.2</td><td>45.0</td><td>6.13</td><td>0.394</td></tr></tbody></table></div>"
      ],
      "text/plain": [
       "shape: (3_914, 8)\n",
       "┌───────────┬───────────────────┬─────┬────────┬───────┬──────┬──────┬───────┐\n",
       "│ player_id ┆ Player            ┆ Mat ┆ SR     ┆ Overs ┆ Wkts ┆ Econ ┆ D/I   │\n",
       "│ ---       ┆ ---               ┆ --- ┆ ---    ┆ ---   ┆ ---  ┆ ---  ┆ ---   │\n",
       "│ str       ┆ str               ┆ i64 ┆ f64    ┆ f64   ┆ f64  ┆ f64  ┆ f64   │\n",
       "╞═══════════╪═══════════════════╪═════╪════════╪═══════╪══════╪══════╪═══════╡\n",
       "│ f80682f8  ┆ Ravinderpal Singh ┆ 35  ┆ 145.23 ┆ 1.1   ┆ 2.0  ┆ 12.0 ┆ 0.588 │\n",
       "│ 31080a88  ┆ Aslam Khan        ┆ 9   ┆ 108.33 ┆ 0.0   ┆ 0.0  ┆ 0.0  ┆ 0.444 │\n",
       "│ 5aeab54c  ┆ Ihsanullah        ┆ 1   ┆ 142.85 ┆ 0.0   ┆ 0.0  ┆ 0.0  ┆ 0.0   │\n",
       "│ a049c39b  ┆ Tariq Aziz        ┆ 4   ┆ 85.1   ┆ 16.0  ┆ 6.0  ┆ 4.37 ┆ 0.0   │\n",
       "│ 321fcf79  ┆ S Singh           ┆ 1   ┆ 0.0    ┆ 0.0   ┆ 0.0  ┆ 0.0  ┆ 0.0   │\n",
       "│ …         ┆ …                 ┆ …   ┆ …      ┆ …     ┆ …    ┆ …    ┆ …     │\n",
       "│ 615688b6  ┆ Usman Najeeb      ┆ 20  ┆ 102.98 ┆ 70.3  ┆ 34.0 ┆ 7.67 ┆ 0.25  │\n",
       "│ d1761087  ┆ RM West           ┆ 5   ┆ 100.0  ┆ 19.0  ┆ 3.0  ┆ 7.47 ┆ 0.2   │\n",
       "│ 7c840f73  ┆ R Pathan          ┆ 14  ┆ 157.42 ┆ 2.0   ┆ 0.0  ┆ 12.0 ┆ 0.0   │\n",
       "│ b67bfaae  ┆ GE Mathurin       ┆ 3   ┆ 80.0   ┆ 10.0  ┆ 4.0  ┆ 6.5  ┆ 0.333 │\n",
       "│ 79209272  ┆ Yasir Ali         ┆ 11  ┆ 142.22 ┆ 96.2  ┆ 45.0 ┆ 6.13 ┆ 0.394 │\n",
       "└───────────┴───────────────────┴─────┴────────┴───────┴──────┴──────┴───────┘"
      ]
     },
     "execution_count": 30,
     "metadata": {},
     "output_type": "execute_result"
    }
   ],
   "source": [
    "player_data = player_data.join(fielding_data, on='player_id', how='inner').drop(\"Player_right\").unique()\n",
    "player_data"
   ]
  },
  {
   "cell_type": "code",
   "execution_count": 31,
   "metadata": {},
   "outputs": [],
   "source": [
    "player_data.write_csv(r'D:\\github\\localt20\\processedData\\playerStats.csv')"
   ]
  }
 ],
 "metadata": {
  "kernelspec": {
   "display_name": "eda",
   "language": "python",
   "name": "python3"
  },
  "language_info": {
   "codemirror_mode": {
    "name": "ipython",
    "version": 3
   },
   "file_extension": ".py",
   "mimetype": "text/x-python",
   "name": "python",
   "nbconvert_exporter": "python",
   "pygments_lexer": "ipython3",
   "version": "3.8.19"
  }
 },
 "nbformat": 4,
 "nbformat_minor": 2
}
