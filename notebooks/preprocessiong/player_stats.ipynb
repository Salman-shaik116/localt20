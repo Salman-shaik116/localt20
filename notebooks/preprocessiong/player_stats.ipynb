{
 "cells": [
  {
   "cell_type": "code",
   "execution_count": 30,
   "metadata": {},
   "outputs": [
    {
     "data": {
      "text/html": [
       "<div><style>\n",
       ".dataframe > thead > tr,\n",
       ".dataframe > tbody > tr {\n",
       "  text-align: right;\n",
       "  white-space: pre-wrap;\n",
       "}\n",
       "</style>\n",
       "<small>shape: (10_100, 13)</small><table border=\"1\" class=\"dataframe\"><thead><tr><th>Player</th><th>Season</th><th>Mat</th><th>Inns</th><th>Runs</th><th>SR</th><th>Ave</th><th>Country</th><th>Cum Ave</th><th>Cum Runs Total</th><th>Cum Inns Total</th><th>Cum SR</th><th>player_id</th></tr><tr><td>str</td><td>str</td><td>i64</td><td>f64</td><td>f64</td><td>f64</td><td>f64</td><td>str</td><td>f64</td><td>f64</td><td>f64</td><td>f64</td><td>str</td></tr></thead><tbody><tr><td>&quot;A Andrews&quot;</td><td>&quot;2021/22&quot;</td><td>3</td><td>1.0</td><td>0.0</td><td>0.0</td><td>0.0</td><td>&quot;Switzerland&quot;</td><td>0.0</td><td>0.0</td><td>1.0</td><td>0.0</td><td>&quot;1d45c01a&quot;</td></tr><tr><td>&quot;A Andrews&quot;</td><td>&quot;2022&quot;</td><td>4</td><td>3.0</td><td>34.0</td><td>85.0</td><td>17.0</td><td>&quot;Switzerland&quot;</td><td>12.75</td><td>34.0</td><td>4.0</td><td>42.5</td><td>&quot;1d45c01a&quot;</td></tr><tr><td>&quot;A Ashok&quot;</td><td>&quot;2023&quot;</td><td>1</td><td>0.0</td><td>0.0</td><td>0.0</td><td>0.0</td><td>&quot;New Zealand&quot;</td><td>0.0</td><td>0.0</td><td>0.0</td><td>0.0</td><td>&quot;321be7e3&quot;</td></tr><tr><td>&quot;A Athanaze&quot;</td><td>&quot;2024&quot;</td><td>4</td><td>4.0</td><td>75.0</td><td>122.95</td><td>25.0</td><td>&quot;West Indies&quot;</td><td>25.0</td><td>75.0</td><td>4.0</td><td>122.95</td><td>&quot;58c2fac4&quot;</td></tr><tr><td>&quot;A Balbirnie&quot;</td><td>&quot;2015&quot;</td><td>7</td><td>4.0</td><td>77.0</td><td>98.71</td><td>19.25</td><td>&quot;Ireland&quot;</td><td>19.25</td><td>77.0</td><td>4.0</td><td>98.71</td><td>&quot;6ef13460&quot;</td></tr><tr><td>&hellip;</td><td>&hellip;</td><td>&hellip;</td><td>&hellip;</td><td>&hellip;</td><td>&hellip;</td><td>&hellip;</td><td>&hellip;</td><td>&hellip;</td><td>&hellip;</td><td>&hellip;</td><td>&hellip;</td><td>&hellip;</td></tr><tr><td>&quot;Zuhaib Zubair&quot;</td><td>&quot;2023/24&quot;</td><td>2</td><td>1.0</td><td>13.0</td><td>144.44</td><td>13.0</td><td>&quot;United Arab Emirates&quot;</td><td>13.0</td><td>13.0</td><td>1.0</td><td>144.44</td><td>&quot;9124aa4c&quot;</td></tr><tr><td>&quot;Zuhair Muhammad&quot;</td><td>&quot;2023/24&quot;</td><td>2</td><td>2.0</td><td>7.0</td><td>43.75</td><td>3.5</td><td>&quot;Saudi Arabia&quot;</td><td>3.5</td><td>7.0</td><td>2.0</td><td>43.75</td><td>&quot;22ae4973&quot;</td></tr><tr><td>&quot;Zulqarnain Haider&quot;</td><td>&quot;2019&quot;</td><td>4</td><td>1.0</td><td>0.0</td><td>0.0</td><td>0.0</td><td>&quot;Spain&quot;</td><td>0.0</td><td>0.0</td><td>1.0</td><td>0.0</td><td>&quot;2d46e8ed&quot;</td></tr><tr><td>&quot;Zulqarnain Haider&quot;</td><td>&quot;2019/20&quot;</td><td>1</td><td>0.0</td><td>0.0</td><td>0.0</td><td>0.0</td><td>&quot;Spain&quot;</td><td>0.0</td><td>0.0</td><td>1.0</td><td>0.0</td><td>&quot;2d46e8ed&quot;</td></tr><tr><td>&quot;Zulqarnain Haider&quot;</td><td>&quot;2022&quot;</td><td>6</td><td>3.0</td><td>8.0</td><td>66.66</td><td>4.0</td><td>&quot;Spain&quot;</td><td>3.0</td><td>8.0</td><td>4.0</td><td>22.22</td><td>&quot;2d46e8ed&quot;</td></tr></tbody></table></div>"
      ],
      "text/plain": [
       "shape: (10_100, 13)\n",
       "┌────────────────┬─────────┬─────┬──────┬───┬────────────────┬────────────────┬────────┬───────────┐\n",
       "│ Player         ┆ Season  ┆ Mat ┆ Inns ┆ … ┆ Cum Runs Total ┆ Cum Inns Total ┆ Cum SR ┆ player_id │\n",
       "│ ---            ┆ ---     ┆ --- ┆ ---  ┆   ┆ ---            ┆ ---            ┆ ---    ┆ ---       │\n",
       "│ str            ┆ str     ┆ i64 ┆ f64  ┆   ┆ f64            ┆ f64            ┆ f64    ┆ str       │\n",
       "╞════════════════╪═════════╪═════╪══════╪═══╪════════════════╪════════════════╪════════╪═══════════╡\n",
       "│ A Andrews      ┆ 2021/22 ┆ 3   ┆ 1.0  ┆ … ┆ 0.0            ┆ 1.0            ┆ 0.0    ┆ 1d45c01a  │\n",
       "│ A Andrews      ┆ 2022    ┆ 4   ┆ 3.0  ┆ … ┆ 34.0           ┆ 4.0            ┆ 42.5   ┆ 1d45c01a  │\n",
       "│ A Ashok        ┆ 2023    ┆ 1   ┆ 0.0  ┆ … ┆ 0.0            ┆ 0.0            ┆ 0.0    ┆ 321be7e3  │\n",
       "│ A Athanaze     ┆ 2024    ┆ 4   ┆ 4.0  ┆ … ┆ 75.0           ┆ 4.0            ┆ 122.95 ┆ 58c2fac4  │\n",
       "│ A Balbirnie    ┆ 2015    ┆ 7   ┆ 4.0  ┆ … ┆ 77.0           ┆ 4.0            ┆ 98.71  ┆ 6ef13460  │\n",
       "│ …              ┆ …       ┆ …   ┆ …    ┆ … ┆ …              ┆ …              ┆ …      ┆ …         │\n",
       "│ Zuhaib Zubair  ┆ 2023/24 ┆ 2   ┆ 1.0  ┆ … ┆ 13.0           ┆ 1.0            ┆ 144.44 ┆ 9124aa4c  │\n",
       "│ Zuhair         ┆ 2023/24 ┆ 2   ┆ 2.0  ┆ … ┆ 7.0            ┆ 2.0            ┆ 43.75  ┆ 22ae4973  │\n",
       "│ Muhammad       ┆         ┆     ┆      ┆   ┆                ┆                ┆        ┆           │\n",
       "│ Zulqarnain     ┆ 2019    ┆ 4   ┆ 1.0  ┆ … ┆ 0.0            ┆ 1.0            ┆ 0.0    ┆ 2d46e8ed  │\n",
       "│ Haider         ┆         ┆     ┆      ┆   ┆                ┆                ┆        ┆           │\n",
       "│ Zulqarnain     ┆ 2019/20 ┆ 1   ┆ 0.0  ┆ … ┆ 0.0            ┆ 1.0            ┆ 0.0    ┆ 2d46e8ed  │\n",
       "│ Haider         ┆         ┆     ┆      ┆   ┆                ┆                ┆        ┆           │\n",
       "│ Zulqarnain     ┆ 2022    ┆ 6   ┆ 3.0  ┆ … ┆ 8.0            ┆ 4.0            ┆ 22.22  ┆ 2d46e8ed  │\n",
       "│ Haider         ┆         ┆     ┆      ┆   ┆                ┆                ┆        ┆           │\n",
       "└────────────────┴─────────┴─────┴──────┴───┴────────────────┴────────────────┴────────┴───────────┘"
      ]
     },
     "execution_count": 30,
     "metadata": {},
     "output_type": "execute_result"
    }
   ],
   "source": [
    "import os\n",
    "import glob\n",
    "import polars as pl\n",
    "\n",
    "# Specify the directory where your CSV files are located\n",
    "directory = r'D:\\github\\localt20\\processedData'\n",
    "\n",
    "batting_data = pl.read_csv(os.path.join(directory, 'batting.csv'))\n",
    "bowling_data = pl.read_csv(os.path.join(directory, 'bowling.csv'))\n",
    "fielding_data = pl.read_csv(os.path.join(directory, 'fielding.csv'))\n",
    "batting_data"
   ]
  },
  {
   "cell_type": "markdown",
   "metadata": {},
   "source": [
    "# Checking Nans"
   ]
  },
  {
   "cell_type": "code",
   "execution_count": 31,
   "metadata": {},
   "outputs": [
    {
     "name": "stdout",
     "output_type": "stream",
     "text": [
      "(10100, 13)\n",
      "shape: (0, 0)\n",
      "┌┐\n",
      "╞╡\n",
      "└┘\n",
      "(10100, 15)\n",
      "shape: (0, 0)\n",
      "┌┐\n",
      "╞╡\n",
      "└┘\n",
      "(10100, 10)\n",
      "shape: (0, 0)\n",
      "┌┐\n",
      "╞╡\n",
      "└┘\n"
     ]
    }
   ],
   "source": [
    "dfs = [batting_data, bowling_data, fielding_data]\n",
    "\n",
    "for df in dfs:\n",
    "    print(df.shape)\n",
    "    # Identify numeric columns\n",
    "    numeric_columns = df.select(pl.col(pl.Float32) | pl.col(pl.Float64)).columns\n",
    "\n",
    "    # Check for NaN values in numeric columns\n",
    "    nan_check = df.select([\n",
    "        pl.col(column).is_nan().any().alias(f\"{column}_has_nan\") for column in numeric_columns\n",
    "    ])\n",
    "\n",
    "    print(nan_check)"
   ]
  },
  {
   "cell_type": "code",
   "execution_count": 32,
   "metadata": {},
   "outputs": [
    {
     "data": {
      "text/html": [
       "<div><style>\n",
       ".dataframe > thead > tr,\n",
       ".dataframe > tbody > tr {\n",
       "  text-align: right;\n",
       "  white-space: pre-wrap;\n",
       "}\n",
       "</style>\n",
       "<small>shape: (10_114, 21)</small><table border=\"1\" class=\"dataframe\"><thead><tr><th>player_id</th><th>Player</th><th>Country</th><th>Season</th><th>Mat</th><th>Inns</th><th>Runs</th><th>SR</th><th>Ave</th><th>Cum Ave</th><th>Cum Runs Total</th><th>Cum Inns Total</th><th>Cum SR</th><th>Overs</th><th>Wkts</th><th>Econ</th><th>Cumulative Overs</th><th>Cumulative Wkts</th><th>Cumulative Runs</th><th>Cumulative Inns</th><th>Cumulative Econ</th></tr><tr><td>str</td><td>str</td><td>str</td><td>str</td><td>i64</td><td>f64</td><td>f64</td><td>f64</td><td>f64</td><td>f64</td><td>f64</td><td>f64</td><td>f64</td><td>f64</td><td>f64</td><td>f64</td><td>f64</td><td>f64</td><td>f64</td><td>f64</td><td>f64</td></tr></thead><tbody><tr><td>&quot;1d45c01a&quot;</td><td>&quot;A Andrews&quot;</td><td>&quot;Switzerland&quot;</td><td>&quot;2021/22&quot;</td><td>3</td><td>1.0</td><td>0.0</td><td>0.0</td><td>0.0</td><td>0.0</td><td>0.0</td><td>1.0</td><td>0.0</td><td>10.0</td><td>4.0</td><td>6.1</td><td>10.0</td><td>4.0</td><td>61.0</td><td>3.0</td><td>20.333333</td></tr><tr><td>&quot;1d45c01a&quot;</td><td>&quot;A Andrews&quot;</td><td>&quot;Switzerland&quot;</td><td>&quot;2022&quot;</td><td>4</td><td>3.0</td><td>34.0</td><td>85.0</td><td>17.0</td><td>12.75</td><td>34.0</td><td>4.0</td><td>42.5</td><td>1.0</td><td>0.0</td><td>21.0</td><td>11.0</td><td>4.0</td><td>82.0</td><td>4.0</td><td>20.5</td></tr><tr><td>&quot;321be7e3&quot;</td><td>&quot;A Ashok&quot;</td><td>&quot;New Zealand&quot;</td><td>&quot;2023&quot;</td><td>1</td><td>0.0</td><td>0.0</td><td>0.0</td><td>0.0</td><td>0.0</td><td>0.0</td><td>0.0</td><td>0.0</td><td>4.0</td><td>1.0</td><td>7.0</td><td>4.0</td><td>1.0</td><td>28.0</td><td>1.0</td><td>28.0</td></tr><tr><td>&quot;58c2fac4&quot;</td><td>&quot;A Athanaze&quot;</td><td>&quot;West Indies&quot;</td><td>&quot;2024&quot;</td><td>4</td><td>4.0</td><td>75.0</td><td>122.95</td><td>25.0</td><td>25.0</td><td>75.0</td><td>4.0</td><td>122.95</td><td>0.0</td><td>0.0</td><td>0.0</td><td>0.0</td><td>0.0</td><td>0.0</td><td>0.0</td><td>0.0</td></tr><tr><td>&quot;6ef13460&quot;</td><td>&quot;A Balbirnie&quot;</td><td>&quot;Ireland&quot;</td><td>&quot;2015&quot;</td><td>7</td><td>4.0</td><td>77.0</td><td>98.71</td><td>19.25</td><td>19.25</td><td>77.0</td><td>4.0</td><td>98.71</td><td>0.0</td><td>0.0</td><td>0.0</td><td>0.0</td><td>0.0</td><td>0.0</td><td>0.0</td><td>0.0</td></tr><tr><td>&hellip;</td><td>&hellip;</td><td>&hellip;</td><td>&hellip;</td><td>&hellip;</td><td>&hellip;</td><td>&hellip;</td><td>&hellip;</td><td>&hellip;</td><td>&hellip;</td><td>&hellip;</td><td>&hellip;</td><td>&hellip;</td><td>&hellip;</td><td>&hellip;</td><td>&hellip;</td><td>&hellip;</td><td>&hellip;</td><td>&hellip;</td><td>&hellip;</td><td>&hellip;</td></tr><tr><td>&quot;9124aa4c&quot;</td><td>&quot;Zuhaib Zubair&quot;</td><td>&quot;United Arab Emirates&quot;</td><td>&quot;2023/24&quot;</td><td>2</td><td>1.0</td><td>13.0</td><td>144.44</td><td>13.0</td><td>13.0</td><td>13.0</td><td>1.0</td><td>144.44</td><td>6.0</td><td>0.0</td><td>8.0</td><td>6.0</td><td>0.0</td><td>48.0</td><td>2.0</td><td>24.0</td></tr><tr><td>&quot;22ae4973&quot;</td><td>&quot;Zuhair Muhammad&quot;</td><td>&quot;Saudi Arabia&quot;</td><td>&quot;2023/24&quot;</td><td>2</td><td>2.0</td><td>7.0</td><td>43.75</td><td>3.5</td><td>3.5</td><td>7.0</td><td>2.0</td><td>43.75</td><td>0.0</td><td>0.0</td><td>0.0</td><td>0.0</td><td>0.0</td><td>0.0</td><td>0.0</td><td>0.0</td></tr><tr><td>&quot;2d46e8ed&quot;</td><td>&quot;Zulqarnain Haider&quot;</td><td>&quot;Spain&quot;</td><td>&quot;2019&quot;</td><td>4</td><td>1.0</td><td>0.0</td><td>0.0</td><td>0.0</td><td>0.0</td><td>0.0</td><td>1.0</td><td>0.0</td><td>10.0</td><td>3.0</td><td>5.3</td><td>10.0</td><td>3.0</td><td>53.0</td><td>4.0</td><td>13.25</td></tr><tr><td>&quot;2d46e8ed&quot;</td><td>&quot;Zulqarnain Haider&quot;</td><td>&quot;Spain&quot;</td><td>&quot;2019/20&quot;</td><td>1</td><td>0.0</td><td>0.0</td><td>0.0</td><td>0.0</td><td>0.0</td><td>0.0</td><td>1.0</td><td>0.0</td><td>3.0</td><td>0.0</td><td>2.33</td><td>13.0</td><td>3.0</td><td>60.0</td><td>5.0</td><td>12.0</td></tr><tr><td>&quot;2d46e8ed&quot;</td><td>&quot;Zulqarnain Haider&quot;</td><td>&quot;Spain&quot;</td><td>&quot;2022&quot;</td><td>6</td><td>3.0</td><td>8.0</td><td>66.66</td><td>4.0</td><td>3.0</td><td>8.0</td><td>4.0</td><td>22.22</td><td>15.0</td><td>5.0</td><td>6.06</td><td>28.0</td><td>8.0</td><td>151.0</td><td>11.0</td><td>13.727273</td></tr></tbody></table></div>"
      ],
      "text/plain": [
       "shape: (10_114, 21)\n",
       "┌───────────┬────────────┬───────────┬─────────┬───┬───────────┬───────────┬───────────┬───────────┐\n",
       "│ player_id ┆ Player     ┆ Country   ┆ Season  ┆ … ┆ Cumulativ ┆ Cumulativ ┆ Cumulativ ┆ Cumulativ │\n",
       "│ ---       ┆ ---        ┆ ---       ┆ ---     ┆   ┆ e Wkts    ┆ e Runs    ┆ e Inns    ┆ e Econ    │\n",
       "│ str       ┆ str        ┆ str       ┆ str     ┆   ┆ ---       ┆ ---       ┆ ---       ┆ ---       │\n",
       "│           ┆            ┆           ┆         ┆   ┆ f64       ┆ f64       ┆ f64       ┆ f64       │\n",
       "╞═══════════╪════════════╪═══════════╪═════════╪═══╪═══════════╪═══════════╪═══════════╪═══════════╡\n",
       "│ 1d45c01a  ┆ A Andrews  ┆ Switzerla ┆ 2021/22 ┆ … ┆ 4.0       ┆ 61.0      ┆ 3.0       ┆ 20.333333 │\n",
       "│           ┆            ┆ nd        ┆         ┆   ┆           ┆           ┆           ┆           │\n",
       "│ 1d45c01a  ┆ A Andrews  ┆ Switzerla ┆ 2022    ┆ … ┆ 4.0       ┆ 82.0      ┆ 4.0       ┆ 20.5      │\n",
       "│           ┆            ┆ nd        ┆         ┆   ┆           ┆           ┆           ┆           │\n",
       "│ 321be7e3  ┆ A Ashok    ┆ New       ┆ 2023    ┆ … ┆ 1.0       ┆ 28.0      ┆ 1.0       ┆ 28.0      │\n",
       "│           ┆            ┆ Zealand   ┆         ┆   ┆           ┆           ┆           ┆           │\n",
       "│ 58c2fac4  ┆ A Athanaze ┆ West      ┆ 2024    ┆ … ┆ 0.0       ┆ 0.0       ┆ 0.0       ┆ 0.0       │\n",
       "│           ┆            ┆ Indies    ┆         ┆   ┆           ┆           ┆           ┆           │\n",
       "│ 6ef13460  ┆ A          ┆ Ireland   ┆ 2015    ┆ … ┆ 0.0       ┆ 0.0       ┆ 0.0       ┆ 0.0       │\n",
       "│           ┆ Balbirnie  ┆           ┆         ┆   ┆           ┆           ┆           ┆           │\n",
       "│ …         ┆ …          ┆ …         ┆ …       ┆ … ┆ …         ┆ …         ┆ …         ┆ …         │\n",
       "│ 9124aa4c  ┆ Zuhaib     ┆ United    ┆ 2023/24 ┆ … ┆ 0.0       ┆ 48.0      ┆ 2.0       ┆ 24.0      │\n",
       "│           ┆ Zubair     ┆ Arab      ┆         ┆   ┆           ┆           ┆           ┆           │\n",
       "│           ┆            ┆ Emirates  ┆         ┆   ┆           ┆           ┆           ┆           │\n",
       "│ 22ae4973  ┆ Zuhair     ┆ Saudi     ┆ 2023/24 ┆ … ┆ 0.0       ┆ 0.0       ┆ 0.0       ┆ 0.0       │\n",
       "│           ┆ Muhammad   ┆ Arabia    ┆         ┆   ┆           ┆           ┆           ┆           │\n",
       "│ 2d46e8ed  ┆ Zulqarnain ┆ Spain     ┆ 2019    ┆ … ┆ 3.0       ┆ 53.0      ┆ 4.0       ┆ 13.25     │\n",
       "│           ┆ Haider     ┆           ┆         ┆   ┆           ┆           ┆           ┆           │\n",
       "│ 2d46e8ed  ┆ Zulqarnain ┆ Spain     ┆ 2019/20 ┆ … ┆ 3.0       ┆ 60.0      ┆ 5.0       ┆ 12.0      │\n",
       "│           ┆ Haider     ┆           ┆         ┆   ┆           ┆           ┆           ┆           │\n",
       "│ 2d46e8ed  ┆ Zulqarnain ┆ Spain     ┆ 2022    ┆ … ┆ 8.0       ┆ 151.0     ┆ 11.0      ┆ 13.727273 │\n",
       "│           ┆ Haider     ┆           ┆         ┆   ┆           ┆           ┆           ┆           │\n",
       "└───────────┴────────────┴───────────┴─────────┴───┴───────────┴───────────┴───────────┴───────────┘"
      ]
     },
     "execution_count": 32,
     "metadata": {},
     "output_type": "execute_result"
    }
   ],
   "source": [
    "player_data = batting_data.join(bowling_data, on=['Player',\"Country\",\"Season\"], how='inner')\n",
    "# Player\tSeason\tMat\tInns\tRuns\tSR\tAve\tCountry\tCum Ave\tCum Runs Total\tCum Inns Total\tCum SR\tplayer_id Overs\tWkts\tEcon\tCumulative Overs\tCumulative Wkts\tCumulative Runs\tCumulative Inns\tCumulative Econ\n",
    "player_data = player_data.select([\"player_id\",\"Player\",\"Country\",\"Season\",\"Mat\",\"Inns\",\"Runs\",\"SR\",\"Ave\",\"Cum Ave\",\"Cum Runs Total\",\"Cum Inns Total\",\"Cum SR\",\"Overs\",\"Wkts\",\"Econ\",\"Cumulative Overs\",\"Cumulative Wkts\",\"Cumulative Runs\",\"Cumulative Inns\",\"Cumulative Econ\"])\n",
    "player_data"
   ]
  },
  {
   "cell_type": "code",
   "execution_count": 33,
   "metadata": {},
   "outputs": [
    {
     "data": {
      "text/html": [
       "<div><style>\n",
       ".dataframe > thead > tr,\n",
       ".dataframe > tbody > tr {\n",
       "  text-align: right;\n",
       "  white-space: pre-wrap;\n",
       "}\n",
       "</style>\n",
       "<small>shape: (10_114, 21)</small><table border=\"1\" class=\"dataframe\"><thead><tr><th>player_id</th><th>Player</th><th>Country</th><th>Season</th><th>Mat</th><th>Inns</th><th>Runs</th><th>SR</th><th>Ave</th><th>Cum Ave</th><th>Cum Runs Total</th><th>Cum Inns Total</th><th>Cum SR</th><th>Overs</th><th>Wkts</th><th>Econ</th><th>Cumulative Overs</th><th>Cumulative Wkts</th><th>Cumulative Runs</th><th>Cumulative Inns</th><th>Cumulative Econ</th></tr><tr><td>str</td><td>str</td><td>str</td><td>str</td><td>i64</td><td>f64</td><td>f64</td><td>f64</td><td>f64</td><td>f64</td><td>f64</td><td>f64</td><td>f64</td><td>f64</td><td>f64</td><td>f64</td><td>f64</td><td>f64</td><td>f64</td><td>f64</td><td>f64</td></tr></thead><tbody><tr><td>&quot;1d45c01a&quot;</td><td>&quot;A Andrews&quot;</td><td>&quot;Switzerland&quot;</td><td>&quot;2021/22&quot;</td><td>3</td><td>1.0</td><td>0.0</td><td>0.0</td><td>0.0</td><td>0.0</td><td>0.0</td><td>1.0</td><td>0.0</td><td>10.0</td><td>4.0</td><td>6.1</td><td>10.0</td><td>4.0</td><td>61.0</td><td>3.0</td><td>20.333333</td></tr><tr><td>&quot;1d45c01a&quot;</td><td>&quot;A Andrews&quot;</td><td>&quot;Switzerland&quot;</td><td>&quot;2022&quot;</td><td>4</td><td>3.0</td><td>34.0</td><td>85.0</td><td>17.0</td><td>12.75</td><td>34.0</td><td>4.0</td><td>42.5</td><td>1.0</td><td>0.0</td><td>21.0</td><td>11.0</td><td>4.0</td><td>82.0</td><td>4.0</td><td>20.5</td></tr><tr><td>&quot;321be7e3&quot;</td><td>&quot;A Ashok&quot;</td><td>&quot;New Zealand&quot;</td><td>&quot;2023&quot;</td><td>1</td><td>0.0</td><td>0.0</td><td>0.0</td><td>0.0</td><td>0.0</td><td>0.0</td><td>0.0</td><td>0.0</td><td>4.0</td><td>1.0</td><td>7.0</td><td>4.0</td><td>1.0</td><td>28.0</td><td>1.0</td><td>28.0</td></tr><tr><td>&quot;58c2fac4&quot;</td><td>&quot;A Athanaze&quot;</td><td>&quot;West Indies&quot;</td><td>&quot;2024&quot;</td><td>4</td><td>4.0</td><td>75.0</td><td>122.95</td><td>25.0</td><td>25.0</td><td>75.0</td><td>4.0</td><td>122.95</td><td>0.0</td><td>0.0</td><td>0.0</td><td>0.0</td><td>0.0</td><td>0.0</td><td>0.0</td><td>0.0</td></tr><tr><td>&quot;6ef13460&quot;</td><td>&quot;A Balbirnie&quot;</td><td>&quot;Ireland&quot;</td><td>&quot;2015&quot;</td><td>7</td><td>4.0</td><td>77.0</td><td>98.71</td><td>19.25</td><td>19.25</td><td>77.0</td><td>4.0</td><td>98.71</td><td>0.0</td><td>0.0</td><td>0.0</td><td>0.0</td><td>0.0</td><td>0.0</td><td>0.0</td><td>0.0</td></tr><tr><td>&hellip;</td><td>&hellip;</td><td>&hellip;</td><td>&hellip;</td><td>&hellip;</td><td>&hellip;</td><td>&hellip;</td><td>&hellip;</td><td>&hellip;</td><td>&hellip;</td><td>&hellip;</td><td>&hellip;</td><td>&hellip;</td><td>&hellip;</td><td>&hellip;</td><td>&hellip;</td><td>&hellip;</td><td>&hellip;</td><td>&hellip;</td><td>&hellip;</td><td>&hellip;</td></tr><tr><td>&quot;9124aa4c&quot;</td><td>&quot;Zuhaib Zubair&quot;</td><td>&quot;United Arab Emirates&quot;</td><td>&quot;2023/24&quot;</td><td>2</td><td>1.0</td><td>13.0</td><td>144.44</td><td>13.0</td><td>13.0</td><td>13.0</td><td>1.0</td><td>144.44</td><td>6.0</td><td>0.0</td><td>8.0</td><td>6.0</td><td>0.0</td><td>48.0</td><td>2.0</td><td>24.0</td></tr><tr><td>&quot;22ae4973&quot;</td><td>&quot;Zuhair Muhammad&quot;</td><td>&quot;Saudi Arabia&quot;</td><td>&quot;2023/24&quot;</td><td>2</td><td>2.0</td><td>7.0</td><td>43.75</td><td>3.5</td><td>3.5</td><td>7.0</td><td>2.0</td><td>43.75</td><td>0.0</td><td>0.0</td><td>0.0</td><td>0.0</td><td>0.0</td><td>0.0</td><td>0.0</td><td>0.0</td></tr><tr><td>&quot;2d46e8ed&quot;</td><td>&quot;Zulqarnain Haider&quot;</td><td>&quot;Spain&quot;</td><td>&quot;2019&quot;</td><td>4</td><td>1.0</td><td>0.0</td><td>0.0</td><td>0.0</td><td>0.0</td><td>0.0</td><td>1.0</td><td>0.0</td><td>10.0</td><td>3.0</td><td>5.3</td><td>10.0</td><td>3.0</td><td>53.0</td><td>4.0</td><td>13.25</td></tr><tr><td>&quot;2d46e8ed&quot;</td><td>&quot;Zulqarnain Haider&quot;</td><td>&quot;Spain&quot;</td><td>&quot;2019/20&quot;</td><td>1</td><td>0.0</td><td>0.0</td><td>0.0</td><td>0.0</td><td>0.0</td><td>0.0</td><td>1.0</td><td>0.0</td><td>3.0</td><td>0.0</td><td>2.33</td><td>13.0</td><td>3.0</td><td>60.0</td><td>5.0</td><td>12.0</td></tr><tr><td>&quot;2d46e8ed&quot;</td><td>&quot;Zulqarnain Haider&quot;</td><td>&quot;Spain&quot;</td><td>&quot;2022&quot;</td><td>6</td><td>3.0</td><td>8.0</td><td>66.66</td><td>4.0</td><td>3.0</td><td>8.0</td><td>4.0</td><td>22.22</td><td>15.0</td><td>5.0</td><td>6.06</td><td>28.0</td><td>8.0</td><td>151.0</td><td>11.0</td><td>13.727273</td></tr></tbody></table></div>"
      ],
      "text/plain": [
       "shape: (10_114, 21)\n",
       "┌───────────┬────────────┬───────────┬─────────┬───┬───────────┬───────────┬───────────┬───────────┐\n",
       "│ player_id ┆ Player     ┆ Country   ┆ Season  ┆ … ┆ Cumulativ ┆ Cumulativ ┆ Cumulativ ┆ Cumulativ │\n",
       "│ ---       ┆ ---        ┆ ---       ┆ ---     ┆   ┆ e Wkts    ┆ e Runs    ┆ e Inns    ┆ e Econ    │\n",
       "│ str       ┆ str        ┆ str       ┆ str     ┆   ┆ ---       ┆ ---       ┆ ---       ┆ ---       │\n",
       "│           ┆            ┆           ┆         ┆   ┆ f64       ┆ f64       ┆ f64       ┆ f64       │\n",
       "╞═══════════╪════════════╪═══════════╪═════════╪═══╪═══════════╪═══════════╪═══════════╪═══════════╡\n",
       "│ 1d45c01a  ┆ A Andrews  ┆ Switzerla ┆ 2021/22 ┆ … ┆ 4.0       ┆ 61.0      ┆ 3.0       ┆ 20.333333 │\n",
       "│           ┆            ┆ nd        ┆         ┆   ┆           ┆           ┆           ┆           │\n",
       "│ 1d45c01a  ┆ A Andrews  ┆ Switzerla ┆ 2022    ┆ … ┆ 4.0       ┆ 82.0      ┆ 4.0       ┆ 20.5      │\n",
       "│           ┆            ┆ nd        ┆         ┆   ┆           ┆           ┆           ┆           │\n",
       "│ 321be7e3  ┆ A Ashok    ┆ New       ┆ 2023    ┆ … ┆ 1.0       ┆ 28.0      ┆ 1.0       ┆ 28.0      │\n",
       "│           ┆            ┆ Zealand   ┆         ┆   ┆           ┆           ┆           ┆           │\n",
       "│ 58c2fac4  ┆ A Athanaze ┆ West      ┆ 2024    ┆ … ┆ 0.0       ┆ 0.0       ┆ 0.0       ┆ 0.0       │\n",
       "│           ┆            ┆ Indies    ┆         ┆   ┆           ┆           ┆           ┆           │\n",
       "│ 6ef13460  ┆ A          ┆ Ireland   ┆ 2015    ┆ … ┆ 0.0       ┆ 0.0       ┆ 0.0       ┆ 0.0       │\n",
       "│           ┆ Balbirnie  ┆           ┆         ┆   ┆           ┆           ┆           ┆           │\n",
       "│ …         ┆ …          ┆ …         ┆ …       ┆ … ┆ …         ┆ …         ┆ …         ┆ …         │\n",
       "│ 9124aa4c  ┆ Zuhaib     ┆ United    ┆ 2023/24 ┆ … ┆ 0.0       ┆ 48.0      ┆ 2.0       ┆ 24.0      │\n",
       "│           ┆ Zubair     ┆ Arab      ┆         ┆   ┆           ┆           ┆           ┆           │\n",
       "│           ┆            ┆ Emirates  ┆         ┆   ┆           ┆           ┆           ┆           │\n",
       "│ 22ae4973  ┆ Zuhair     ┆ Saudi     ┆ 2023/24 ┆ … ┆ 0.0       ┆ 0.0       ┆ 0.0       ┆ 0.0       │\n",
       "│           ┆ Muhammad   ┆ Arabia    ┆         ┆   ┆           ┆           ┆           ┆           │\n",
       "│ 2d46e8ed  ┆ Zulqarnain ┆ Spain     ┆ 2019    ┆ … ┆ 3.0       ┆ 53.0      ┆ 4.0       ┆ 13.25     │\n",
       "│           ┆ Haider     ┆           ┆         ┆   ┆           ┆           ┆           ┆           │\n",
       "│ 2d46e8ed  ┆ Zulqarnain ┆ Spain     ┆ 2019/20 ┆ … ┆ 3.0       ┆ 60.0      ┆ 5.0       ┆ 12.0      │\n",
       "│           ┆ Haider     ┆           ┆         ┆   ┆           ┆           ┆           ┆           │\n",
       "│ 2d46e8ed  ┆ Zulqarnain ┆ Spain     ┆ 2022    ┆ … ┆ 8.0       ┆ 151.0     ┆ 11.0      ┆ 13.727273 │\n",
       "│           ┆ Haider     ┆           ┆         ┆   ┆           ┆           ┆           ┆           │\n",
       "└───────────┴────────────┴───────────┴─────────┴───┴───────────┴───────────┴───────────┴───────────┘"
      ]
     },
     "execution_count": 33,
     "metadata": {},
     "output_type": "execute_result"
    }
   ],
   "source": [
    "player_data"
   ]
  },
  {
   "cell_type": "code",
   "execution_count": 34,
   "metadata": {},
   "outputs": [
    {
     "data": {
      "text/html": [
       "<div><style>\n",
       ".dataframe > thead > tr,\n",
       ".dataframe > tbody > tr {\n",
       "  text-align: right;\n",
       "  white-space: pre-wrap;\n",
       "}\n",
       "</style>\n",
       "<small>shape: (10_142, 25)</small><table border=\"1\" class=\"dataframe\"><thead><tr><th>player_id</th><th>Player</th><th>Country</th><th>Season</th><th>Mat</th><th>Inns</th><th>Runs</th><th>SR</th><th>Ave</th><th>Cum Ave</th><th>Cum Runs Total</th><th>Cum Inns Total</th><th>Cum SR</th><th>Overs</th><th>Wkts</th><th>Econ</th><th>Cumulative Overs</th><th>Cumulative Wkts</th><th>Cumulative Runs</th><th>Cumulative Inns</th><th>Cumulative Econ</th><th>Dis</th><th>Ct</th><th>St</th><th>D/I</th></tr><tr><td>str</td><td>str</td><td>str</td><td>str</td><td>i64</td><td>f64</td><td>f64</td><td>f64</td><td>f64</td><td>f64</td><td>f64</td><td>f64</td><td>f64</td><td>f64</td><td>f64</td><td>f64</td><td>f64</td><td>f64</td><td>f64</td><td>f64</td><td>f64</td><td>f64</td><td>f64</td><td>f64</td><td>f64</td></tr></thead><tbody><tr><td>&quot;1d45c01a&quot;</td><td>&quot;A Andrews&quot;</td><td>&quot;Switzerland&quot;</td><td>&quot;2021/22&quot;</td><td>3</td><td>1.0</td><td>0.0</td><td>0.0</td><td>0.0</td><td>0.0</td><td>0.0</td><td>1.0</td><td>0.0</td><td>10.0</td><td>4.0</td><td>6.1</td><td>10.0</td><td>4.0</td><td>61.0</td><td>3.0</td><td>20.333333</td><td>4.0</td><td>4.0</td><td>0.0</td><td>1.333333</td></tr><tr><td>&quot;1d45c01a&quot;</td><td>&quot;A Andrews&quot;</td><td>&quot;Switzerland&quot;</td><td>&quot;2022&quot;</td><td>4</td><td>3.0</td><td>34.0</td><td>85.0</td><td>17.0</td><td>12.75</td><td>34.0</td><td>4.0</td><td>42.5</td><td>1.0</td><td>0.0</td><td>21.0</td><td>11.0</td><td>4.0</td><td>82.0</td><td>4.0</td><td>20.5</td><td>7.0</td><td>7.0</td><td>0.0</td><td>1.0</td></tr><tr><td>&quot;321be7e3&quot;</td><td>&quot;A Ashok&quot;</td><td>&quot;New Zealand&quot;</td><td>&quot;2023&quot;</td><td>1</td><td>0.0</td><td>0.0</td><td>0.0</td><td>0.0</td><td>0.0</td><td>0.0</td><td>0.0</td><td>0.0</td><td>4.0</td><td>1.0</td><td>7.0</td><td>4.0</td><td>1.0</td><td>28.0</td><td>1.0</td><td>28.0</td><td>0.0</td><td>0.0</td><td>0.0</td><td>0.0</td></tr><tr><td>&quot;58c2fac4&quot;</td><td>&quot;A Athanaze&quot;</td><td>&quot;West Indies&quot;</td><td>&quot;2024&quot;</td><td>4</td><td>4.0</td><td>75.0</td><td>122.95</td><td>25.0</td><td>25.0</td><td>75.0</td><td>4.0</td><td>122.95</td><td>0.0</td><td>0.0</td><td>0.0</td><td>0.0</td><td>0.0</td><td>0.0</td><td>0.0</td><td>0.0</td><td>2.0</td><td>2.0</td><td>0.0</td><td>0.5</td></tr><tr><td>&quot;6ef13460&quot;</td><td>&quot;A Balbirnie&quot;</td><td>&quot;Ireland&quot;</td><td>&quot;2015&quot;</td><td>7</td><td>4.0</td><td>77.0</td><td>98.71</td><td>19.25</td><td>19.25</td><td>77.0</td><td>4.0</td><td>98.71</td><td>0.0</td><td>0.0</td><td>0.0</td><td>0.0</td><td>0.0</td><td>0.0</td><td>0.0</td><td>0.0</td><td>1.0</td><td>1.0</td><td>0.0</td><td>0.2</td></tr><tr><td>&hellip;</td><td>&hellip;</td><td>&hellip;</td><td>&hellip;</td><td>&hellip;</td><td>&hellip;</td><td>&hellip;</td><td>&hellip;</td><td>&hellip;</td><td>&hellip;</td><td>&hellip;</td><td>&hellip;</td><td>&hellip;</td><td>&hellip;</td><td>&hellip;</td><td>&hellip;</td><td>&hellip;</td><td>&hellip;</td><td>&hellip;</td><td>&hellip;</td><td>&hellip;</td><td>&hellip;</td><td>&hellip;</td><td>&hellip;</td><td>&hellip;</td></tr><tr><td>&quot;9124aa4c&quot;</td><td>&quot;Zuhaib Zubair&quot;</td><td>&quot;United Arab Emirates&quot;</td><td>&quot;2023/24&quot;</td><td>2</td><td>1.0</td><td>13.0</td><td>144.44</td><td>13.0</td><td>13.0</td><td>13.0</td><td>1.0</td><td>144.44</td><td>6.0</td><td>0.0</td><td>8.0</td><td>6.0</td><td>0.0</td><td>48.0</td><td>2.0</td><td>24.0</td><td>0.0</td><td>0.0</td><td>0.0</td><td>0.0</td></tr><tr><td>&quot;22ae4973&quot;</td><td>&quot;Zuhair Muhammad&quot;</td><td>&quot;Saudi Arabia&quot;</td><td>&quot;2023/24&quot;</td><td>2</td><td>2.0</td><td>7.0</td><td>43.75</td><td>3.5</td><td>3.5</td><td>7.0</td><td>2.0</td><td>43.75</td><td>0.0</td><td>0.0</td><td>0.0</td><td>0.0</td><td>0.0</td><td>0.0</td><td>0.0</td><td>0.0</td><td>0.0</td><td>0.0</td><td>0.0</td><td>0.0</td></tr><tr><td>&quot;2d46e8ed&quot;</td><td>&quot;Zulqarnain Haider&quot;</td><td>&quot;Spain&quot;</td><td>&quot;2019&quot;</td><td>4</td><td>1.0</td><td>0.0</td><td>0.0</td><td>0.0</td><td>0.0</td><td>0.0</td><td>1.0</td><td>0.0</td><td>10.0</td><td>3.0</td><td>5.3</td><td>10.0</td><td>3.0</td><td>53.0</td><td>4.0</td><td>13.25</td><td>1.0</td><td>1.0</td><td>0.0</td><td>0.25</td></tr><tr><td>&quot;2d46e8ed&quot;</td><td>&quot;Zulqarnain Haider&quot;</td><td>&quot;Spain&quot;</td><td>&quot;2019/20&quot;</td><td>1</td><td>0.0</td><td>0.0</td><td>0.0</td><td>0.0</td><td>0.0</td><td>0.0</td><td>1.0</td><td>0.0</td><td>3.0</td><td>0.0</td><td>2.33</td><td>13.0</td><td>3.0</td><td>60.0</td><td>5.0</td><td>12.0</td><td>1.0</td><td>1.0</td><td>0.0</td><td>0.2</td></tr><tr><td>&quot;2d46e8ed&quot;</td><td>&quot;Zulqarnain Haider&quot;</td><td>&quot;Spain&quot;</td><td>&quot;2022&quot;</td><td>6</td><td>3.0</td><td>8.0</td><td>66.66</td><td>4.0</td><td>3.0</td><td>8.0</td><td>4.0</td><td>22.22</td><td>15.0</td><td>5.0</td><td>6.06</td><td>28.0</td><td>8.0</td><td>151.0</td><td>11.0</td><td>13.727273</td><td>1.0</td><td>1.0</td><td>0.0</td><td>0.090909</td></tr></tbody></table></div>"
      ],
      "text/plain": [
       "shape: (10_142, 25)\n",
       "┌───────────┬───────────────────┬──────────────────────┬─────────┬───┬─────┬─────┬─────┬──────────┐\n",
       "│ player_id ┆ Player            ┆ Country              ┆ Season  ┆ … ┆ Dis ┆ Ct  ┆ St  ┆ D/I      │\n",
       "│ ---       ┆ ---               ┆ ---                  ┆ ---     ┆   ┆ --- ┆ --- ┆ --- ┆ ---      │\n",
       "│ str       ┆ str               ┆ str                  ┆ str     ┆   ┆ f64 ┆ f64 ┆ f64 ┆ f64      │\n",
       "╞═══════════╪═══════════════════╪══════════════════════╪═════════╪═══╪═════╪═════╪═════╪══════════╡\n",
       "│ 1d45c01a  ┆ A Andrews         ┆ Switzerland          ┆ 2021/22 ┆ … ┆ 4.0 ┆ 4.0 ┆ 0.0 ┆ 1.333333 │\n",
       "│ 1d45c01a  ┆ A Andrews         ┆ Switzerland          ┆ 2022    ┆ … ┆ 7.0 ┆ 7.0 ┆ 0.0 ┆ 1.0      │\n",
       "│ 321be7e3  ┆ A Ashok           ┆ New Zealand          ┆ 2023    ┆ … ┆ 0.0 ┆ 0.0 ┆ 0.0 ┆ 0.0      │\n",
       "│ 58c2fac4  ┆ A Athanaze        ┆ West Indies          ┆ 2024    ┆ … ┆ 2.0 ┆ 2.0 ┆ 0.0 ┆ 0.5      │\n",
       "│ 6ef13460  ┆ A Balbirnie       ┆ Ireland              ┆ 2015    ┆ … ┆ 1.0 ┆ 1.0 ┆ 0.0 ┆ 0.2      │\n",
       "│ …         ┆ …                 ┆ …                    ┆ …       ┆ … ┆ …   ┆ …   ┆ …   ┆ …        │\n",
       "│ 9124aa4c  ┆ Zuhaib Zubair     ┆ United Arab Emirates ┆ 2023/24 ┆ … ┆ 0.0 ┆ 0.0 ┆ 0.0 ┆ 0.0      │\n",
       "│ 22ae4973  ┆ Zuhair Muhammad   ┆ Saudi Arabia         ┆ 2023/24 ┆ … ┆ 0.0 ┆ 0.0 ┆ 0.0 ┆ 0.0      │\n",
       "│ 2d46e8ed  ┆ Zulqarnain Haider ┆ Spain                ┆ 2019    ┆ … ┆ 1.0 ┆ 1.0 ┆ 0.0 ┆ 0.25     │\n",
       "│ 2d46e8ed  ┆ Zulqarnain Haider ┆ Spain                ┆ 2019/20 ┆ … ┆ 1.0 ┆ 1.0 ┆ 0.0 ┆ 0.2      │\n",
       "│ 2d46e8ed  ┆ Zulqarnain Haider ┆ Spain                ┆ 2022    ┆ … ┆ 1.0 ┆ 1.0 ┆ 0.0 ┆ 0.090909 │\n",
       "└───────────┴───────────────────┴──────────────────────┴─────────┴───┴─────┴─────┴─────┴──────────┘"
      ]
     },
     "execution_count": 34,
     "metadata": {},
     "output_type": "execute_result"
    }
   ],
   "source": [
    "player_data = player_data.join(fielding_data, on=['Player',\"Country\",\"Season\"], how='inner')\n",
    "# player_id\tPlayer\tCountry\tSeason\tMat\tInns\tRuns\tSR\tAve\tCum Ave\tCum Runs Total\tCum Inns Total\tCum SR\tOvers\tWkts\tEcon\tCumulative Overs\tCumulative Wkts\tCumulative Runs\tCumulative Inns\tCumulative Econ Dis\tCt\tSt\tD/I\n",
    "player_data = player_data.select([\"player_id\",\"Player\",\"Country\",\"Season\",\"Mat\",\"Inns\",\"Runs\",\"SR\",\"Ave\",\"Cum Ave\",\"Cum Runs Total\",\"Cum Inns Total\",\"Cum SR\",\"Overs\",\"Wkts\",\"Econ\",\"Cumulative Overs\",\"Cumulative Wkts\",\"Cumulative Runs\",\"Cumulative Inns\",\"Cumulative Econ\",\"Dis\",\"Ct\",\"St\",\"D/I\"])\n",
    "player_data\n"
   ]
  },
  {
   "cell_type": "code",
   "execution_count": 35,
   "metadata": {},
   "outputs": [],
   "source": [
    "player_data.write_csv(r'D:\\github\\localt20\\processedData\\playerStats.csv')"
   ]
  },
  {
   "cell_type": "code",
   "execution_count": null,
   "metadata": {},
   "outputs": [],
   "source": []
  }
 ],
 "metadata": {
  "kernelspec": {
   "display_name": "eda",
   "language": "python",
   "name": "python3"
  },
  "language_info": {
   "codemirror_mode": {
    "name": "ipython",
    "version": 3
   },
   "file_extension": ".py",
   "mimetype": "text/x-python",
   "name": "python",
   "nbconvert_exporter": "python",
   "pygments_lexer": "ipython3",
   "version": "3.8.19"
  }
 },
 "nbformat": 4,
 "nbformat_minor": 2
}
