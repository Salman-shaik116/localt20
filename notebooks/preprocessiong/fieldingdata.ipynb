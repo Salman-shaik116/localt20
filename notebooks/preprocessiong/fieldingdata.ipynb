{
 "cells": [
  {
   "cell_type": "code",
   "execution_count": 22,
   "metadata": {},
   "outputs": [
    {
     "data": {
      "text/html": [
       "<div><style>\n",
       ".dataframe > thead > tr,\n",
       ".dataframe > tbody > tr {\n",
       "  text-align: right;\n",
       "  white-space: pre-wrap;\n",
       "}\n",
       "</style>\n",
       "<small>shape: (11_221, 11)</small><table border=\"1\" class=\"dataframe\"><thead><tr><th>Player</th><th>Mat</th><th>Inns</th><th>Dis</th><th>Ct</th><th>St</th><th>Ct Wk</th><th>Ct Fi</th><th>MD</th><th>D/I</th><th>Season</th></tr><tr><td>str</td><td>i64</td><td>str</td><td>str</td><td>str</td><td>str</td><td>str</td><td>str</td><td>str</td><td>str</td><td>str</td></tr></thead><tbody><tr><td>&quot;Zulqarnain Haider (ESP)&quot;</td><td>4</td><td>&quot;4&quot;</td><td>&quot;1&quot;</td><td>&quot;1&quot;</td><td>&quot;0&quot;</td><td>&quot;0&quot;</td><td>&quot;1&quot;</td><td>&quot;1 (1ct 0st)&quot;</td><td>&quot;0.25&quot;</td><td>&quot;2019&quot;</td></tr><tr><td>&quot;Zulqarnain Haider (ESP)&quot;</td><td>1</td><td>&quot;1&quot;</td><td>&quot;0&quot;</td><td>&quot;0&quot;</td><td>&quot;0&quot;</td><td>&quot;0&quot;</td><td>&quot;0&quot;</td><td>&quot;0&quot;</td><td>&quot;0.0&quot;</td><td>&quot;2019/20&quot;</td></tr><tr><td>&quot;Zulqarnain Haider (ESP)&quot;</td><td>6</td><td>&quot;6&quot;</td><td>&quot;0&quot;</td><td>&quot;0&quot;</td><td>&quot;0&quot;</td><td>&quot;0&quot;</td><td>&quot;0&quot;</td><td>&quot;0&quot;</td><td>&quot;0.0&quot;</td><td>&quot;2022&quot;</td></tr><tr><td>&quot;Zulfiqar Ali Shah (PORT)&quot;</td><td>1</td><td>&quot;1&quot;</td><td>&quot;0&quot;</td><td>&quot;0&quot;</td><td>&quot;0&quot;</td><td>&quot;0&quot;</td><td>&quot;0&quot;</td><td>&quot;0&quot;</td><td>&quot;0.0&quot;</td><td>&quot;2021&quot;</td></tr><tr><td>&quot;Zuhair Muhammad (KSA)&quot;</td><td>2</td><td>&quot;2&quot;</td><td>&quot;0&quot;</td><td>&quot;0&quot;</td><td>&quot;0&quot;</td><td>&quot;0&quot;</td><td>&quot;0&quot;</td><td>&quot;0&quot;</td><td>&quot;0.0&quot;</td><td>&quot;2023/24&quot;</td></tr><tr><td>&hellip;</td><td>&hellip;</td><td>&hellip;</td><td>&hellip;</td><td>&hellip;</td><td>&hellip;</td><td>&hellip;</td><td>&hellip;</td><td>&hellip;</td><td>&hellip;</td><td>&hellip;</td></tr><tr><td>&quot;A Ahmadhel (BUL)&quot;</td><td>3</td><td>&quot;3&quot;</td><td>&quot;0&quot;</td><td>&quot;0&quot;</td><td>&quot;0&quot;</td><td>&quot;0&quot;</td><td>&quot;0&quot;</td><td>&quot;0&quot;</td><td>&quot;0.0&quot;</td><td>&quot;2019/20&quot;</td></tr><tr><td>&quot;A Ahmadhel (BUL)&quot;</td><td>1</td><td>&quot;1&quot;</td><td>&quot;1&quot;</td><td>&quot;1&quot;</td><td>&quot;0&quot;</td><td>&quot;0&quot;</td><td>&quot;1&quot;</td><td>&quot;1 (1ct 0st)&quot;</td><td>&quot;1.0&quot;</td><td>&quot;2024&quot;</td></tr><tr><td>&quot;A Ahmadhel (BUL)&quot;</td><td>2</td><td>&quot;1&quot;</td><td>&quot;0&quot;</td><td>&quot;0&quot;</td><td>&quot;0&quot;</td><td>&quot;0&quot;</td><td>&quot;0&quot;</td><td>&quot;0&quot;</td><td>&quot;0.0&quot;</td><td>&quot;2023&quot;</td></tr><tr><td>&quot;A Ahmadhel (BUL)&quot;</td><td>2</td><td>&quot;2&quot;</td><td>&quot;0&quot;</td><td>&quot;0&quot;</td><td>&quot;0&quot;</td><td>&quot;0&quot;</td><td>&quot;0&quot;</td><td>&quot;0&quot;</td><td>&quot;0.0&quot;</td><td>&quot;2020/21&quot;</td></tr><tr><td>&quot;A Ahmadhel (BUL)&quot;</td><td>3</td><td>&quot;3&quot;</td><td>&quot;0&quot;</td><td>&quot;0&quot;</td><td>&quot;0&quot;</td><td>&quot;0&quot;</td><td>&quot;0&quot;</td><td>&quot;0&quot;</td><td>&quot;0.0&quot;</td><td>&quot;2021&quot;</td></tr></tbody></table></div>"
      ],
      "text/plain": [
       "shape: (11_221, 11)\n",
       "┌──────────────────────────┬─────┬──────┬─────┬───┬───────┬─────────────┬──────┬─────────┐\n",
       "│ Player                   ┆ Mat ┆ Inns ┆ Dis ┆ … ┆ Ct Fi ┆ MD          ┆ D/I  ┆ Season  │\n",
       "│ ---                      ┆ --- ┆ ---  ┆ --- ┆   ┆ ---   ┆ ---         ┆ ---  ┆ ---     │\n",
       "│ str                      ┆ i64 ┆ str  ┆ str ┆   ┆ str   ┆ str         ┆ str  ┆ str     │\n",
       "╞══════════════════════════╪═════╪══════╪═════╪═══╪═══════╪═════════════╪══════╪═════════╡\n",
       "│ Zulqarnain Haider (ESP)  ┆ 4   ┆ 4    ┆ 1   ┆ … ┆ 1     ┆ 1 (1ct 0st) ┆ 0.25 ┆ 2019    │\n",
       "│ Zulqarnain Haider (ESP)  ┆ 1   ┆ 1    ┆ 0   ┆ … ┆ 0     ┆ 0           ┆ 0.0  ┆ 2019/20 │\n",
       "│ Zulqarnain Haider (ESP)  ┆ 6   ┆ 6    ┆ 0   ┆ … ┆ 0     ┆ 0           ┆ 0.0  ┆ 2022    │\n",
       "│ Zulfiqar Ali Shah (PORT) ┆ 1   ┆ 1    ┆ 0   ┆ … ┆ 0     ┆ 0           ┆ 0.0  ┆ 2021    │\n",
       "│ Zuhair Muhammad (KSA)    ┆ 2   ┆ 2    ┆ 0   ┆ … ┆ 0     ┆ 0           ┆ 0.0  ┆ 2023/24 │\n",
       "│ …                        ┆ …   ┆ …    ┆ …   ┆ … ┆ …     ┆ …           ┆ …    ┆ …       │\n",
       "│ A Ahmadhel (BUL)         ┆ 3   ┆ 3    ┆ 0   ┆ … ┆ 0     ┆ 0           ┆ 0.0  ┆ 2019/20 │\n",
       "│ A Ahmadhel (BUL)         ┆ 1   ┆ 1    ┆ 1   ┆ … ┆ 1     ┆ 1 (1ct 0st) ┆ 1.0  ┆ 2024    │\n",
       "│ A Ahmadhel (BUL)         ┆ 2   ┆ 1    ┆ 0   ┆ … ┆ 0     ┆ 0           ┆ 0.0  ┆ 2023    │\n",
       "│ A Ahmadhel (BUL)         ┆ 2   ┆ 2    ┆ 0   ┆ … ┆ 0     ┆ 0           ┆ 0.0  ┆ 2020/21 │\n",
       "│ A Ahmadhel (BUL)         ┆ 3   ┆ 3    ┆ 0   ┆ … ┆ 0     ┆ 0           ┆ 0.0  ┆ 2021    │\n",
       "└──────────────────────────┴─────┴──────┴─────┴───┴───────┴─────────────┴──────┴─────────┘"
      ]
     },
     "execution_count": 22,
     "metadata": {},
     "output_type": "execute_result"
    }
   ],
   "source": [
    "import os\n",
    "import glob\n",
    "import polars as pl\n",
    "import pandas as pd\n",
    "\n",
    "# Specify the directory where your CSV files are located\n",
    "directory = r'D:\\github\\localt20\\data'\n",
    "\n",
    "fielding_data = pl.read_csv(os.path.join(directory, 't20_fielding_stats.csv'),infer_schema_length=4000)\n",
    "fielding_data"
   ]
  },
  {
   "cell_type": "code",
   "execution_count": 23,
   "metadata": {},
   "outputs": [
    {
     "data": {
      "text/html": [
       "<div><style>\n",
       ".dataframe > thead > tr,\n",
       ".dataframe > tbody > tr {\n",
       "  text-align: right;\n",
       "  white-space: pre-wrap;\n",
       "}\n",
       "</style>\n",
       "<small>shape: (11_221, 8)</small><table border=\"1\" class=\"dataframe\"><thead><tr><th>Player</th><th>Mat</th><th>Inns</th><th>Dis</th><th>Ct</th><th>St</th><th>D/I</th><th>Season</th></tr><tr><td>str</td><td>i64</td><td>str</td><td>str</td><td>str</td><td>str</td><td>str</td><td>str</td></tr></thead><tbody><tr><td>&quot;A Ahmadhel (BUL)&quot;</td><td>3</td><td>&quot;3&quot;</td><td>&quot;0&quot;</td><td>&quot;0&quot;</td><td>&quot;0&quot;</td><td>&quot;0.0&quot;</td><td>&quot;2019/20&quot;</td></tr><tr><td>&quot;A Ahmadhel (BUL)&quot;</td><td>1</td><td>&quot;1&quot;</td><td>&quot;0&quot;</td><td>&quot;0&quot;</td><td>&quot;0&quot;</td><td>&quot;0.0&quot;</td><td>&quot;2020&quot;</td></tr><tr><td>&quot;A Ahmadhel (BUL)&quot;</td><td>2</td><td>&quot;2&quot;</td><td>&quot;0&quot;</td><td>&quot;0&quot;</td><td>&quot;0&quot;</td><td>&quot;0.0&quot;</td><td>&quot;2020/21&quot;</td></tr><tr><td>&quot;A Ahmadhel (BUL)&quot;</td><td>3</td><td>&quot;3&quot;</td><td>&quot;0&quot;</td><td>&quot;0&quot;</td><td>&quot;0&quot;</td><td>&quot;0.0&quot;</td><td>&quot;2021&quot;</td></tr><tr><td>&quot;A Ahmadhel (BUL)&quot;</td><td>2</td><td>&quot;1&quot;</td><td>&quot;0&quot;</td><td>&quot;0&quot;</td><td>&quot;0&quot;</td><td>&quot;0.0&quot;</td><td>&quot;2023&quot;</td></tr><tr><td>&hellip;</td><td>&hellip;</td><td>&hellip;</td><td>&hellip;</td><td>&hellip;</td><td>&hellip;</td><td>&hellip;</td><td>&hellip;</td></tr><tr><td>&quot;Zuhair Muhammad (KSA)&quot;</td><td>2</td><td>&quot;2&quot;</td><td>&quot;0&quot;</td><td>&quot;0&quot;</td><td>&quot;0&quot;</td><td>&quot;0.0&quot;</td><td>&quot;2023/24&quot;</td></tr><tr><td>&quot;Zulfiqar Ali Shah (PORT)&quot;</td><td>1</td><td>&quot;1&quot;</td><td>&quot;0&quot;</td><td>&quot;0&quot;</td><td>&quot;0&quot;</td><td>&quot;0.0&quot;</td><td>&quot;2021&quot;</td></tr><tr><td>&quot;Zulqarnain Haider (ESP)&quot;</td><td>4</td><td>&quot;4&quot;</td><td>&quot;1&quot;</td><td>&quot;1&quot;</td><td>&quot;0&quot;</td><td>&quot;0.25&quot;</td><td>&quot;2019&quot;</td></tr><tr><td>&quot;Zulqarnain Haider (ESP)&quot;</td><td>1</td><td>&quot;1&quot;</td><td>&quot;0&quot;</td><td>&quot;0&quot;</td><td>&quot;0&quot;</td><td>&quot;0.0&quot;</td><td>&quot;2019/20&quot;</td></tr><tr><td>&quot;Zulqarnain Haider (ESP)&quot;</td><td>6</td><td>&quot;6&quot;</td><td>&quot;0&quot;</td><td>&quot;0&quot;</td><td>&quot;0&quot;</td><td>&quot;0.0&quot;</td><td>&quot;2022&quot;</td></tr></tbody></table></div>"
      ],
      "text/plain": [
       "shape: (11_221, 8)\n",
       "┌──────────────────────────┬─────┬──────┬─────┬─────┬─────┬──────┬─────────┐\n",
       "│ Player                   ┆ Mat ┆ Inns ┆ Dis ┆ Ct  ┆ St  ┆ D/I  ┆ Season  │\n",
       "│ ---                      ┆ --- ┆ ---  ┆ --- ┆ --- ┆ --- ┆ ---  ┆ ---     │\n",
       "│ str                      ┆ i64 ┆ str  ┆ str ┆ str ┆ str ┆ str  ┆ str     │\n",
       "╞══════════════════════════╪═════╪══════╪═════╪═════╪═════╪══════╪═════════╡\n",
       "│ A Ahmadhel (BUL)         ┆ 3   ┆ 3    ┆ 0   ┆ 0   ┆ 0   ┆ 0.0  ┆ 2019/20 │\n",
       "│ A Ahmadhel (BUL)         ┆ 1   ┆ 1    ┆ 0   ┆ 0   ┆ 0   ┆ 0.0  ┆ 2020    │\n",
       "│ A Ahmadhel (BUL)         ┆ 2   ┆ 2    ┆ 0   ┆ 0   ┆ 0   ┆ 0.0  ┆ 2020/21 │\n",
       "│ A Ahmadhel (BUL)         ┆ 3   ┆ 3    ┆ 0   ┆ 0   ┆ 0   ┆ 0.0  ┆ 2021    │\n",
       "│ A Ahmadhel (BUL)         ┆ 2   ┆ 1    ┆ 0   ┆ 0   ┆ 0   ┆ 0.0  ┆ 2023    │\n",
       "│ …                        ┆ …   ┆ …    ┆ …   ┆ …   ┆ …   ┆ …    ┆ …       │\n",
       "│ Zuhair Muhammad (KSA)    ┆ 2   ┆ 2    ┆ 0   ┆ 0   ┆ 0   ┆ 0.0  ┆ 2023/24 │\n",
       "│ Zulfiqar Ali Shah (PORT) ┆ 1   ┆ 1    ┆ 0   ┆ 0   ┆ 0   ┆ 0.0  ┆ 2021    │\n",
       "│ Zulqarnain Haider (ESP)  ┆ 4   ┆ 4    ┆ 1   ┆ 1   ┆ 0   ┆ 0.25 ┆ 2019    │\n",
       "│ Zulqarnain Haider (ESP)  ┆ 1   ┆ 1    ┆ 0   ┆ 0   ┆ 0   ┆ 0.0  ┆ 2019/20 │\n",
       "│ Zulqarnain Haider (ESP)  ┆ 6   ┆ 6    ┆ 0   ┆ 0   ┆ 0   ┆ 0.0  ┆ 2022    │\n",
       "└──────────────────────────┴─────┴──────┴─────┴─────┴─────┴──────┴─────────┘"
      ]
     },
     "execution_count": 23,
     "metadata": {},
     "output_type": "execute_result"
    }
   ],
   "source": [
    "fielding_data = fielding_data.select(['Player',\"Mat\",\"Inns\",\"Dis\",\"Ct\",\"St\",\"D/I\",\"Season\"]).sort([\"Player\",\"Season\"])\n",
    "fielding_data"
   ]
  },
  {
   "cell_type": "code",
   "execution_count": 24,
   "metadata": {},
   "outputs": [
    {
     "data": {
      "text/html": [
       "<div><style>\n",
       ".dataframe > thead > tr,\n",
       ".dataframe > tbody > tr {\n",
       "  text-align: right;\n",
       "  white-space: pre-wrap;\n",
       "}\n",
       "</style>\n",
       "<small>shape: (11_221, 8)</small><table border=\"1\" class=\"dataframe\"><thead><tr><th>Player</th><th>Mat</th><th>Inns</th><th>Dis</th><th>Ct</th><th>St</th><th>D/I</th><th>Season</th></tr><tr><td>str</td><td>i64</td><td>f64</td><td>f64</td><td>f64</td><td>f64</td><td>f64</td><td>str</td></tr></thead><tbody><tr><td>&quot;A Ahmadhel (BUL)&quot;</td><td>3</td><td>3.0</td><td>0.0</td><td>0.0</td><td>0.0</td><td>0.0</td><td>&quot;2019/20&quot;</td></tr><tr><td>&quot;A Ahmadhel (BUL)&quot;</td><td>1</td><td>1.0</td><td>0.0</td><td>0.0</td><td>0.0</td><td>0.0</td><td>&quot;2020&quot;</td></tr><tr><td>&quot;A Ahmadhel (BUL)&quot;</td><td>2</td><td>2.0</td><td>0.0</td><td>0.0</td><td>0.0</td><td>0.0</td><td>&quot;2020/21&quot;</td></tr><tr><td>&quot;A Ahmadhel (BUL)&quot;</td><td>3</td><td>3.0</td><td>0.0</td><td>0.0</td><td>0.0</td><td>0.0</td><td>&quot;2021&quot;</td></tr><tr><td>&quot;A Ahmadhel (BUL)&quot;</td><td>2</td><td>1.0</td><td>0.0</td><td>0.0</td><td>0.0</td><td>0.0</td><td>&quot;2023&quot;</td></tr><tr><td>&hellip;</td><td>&hellip;</td><td>&hellip;</td><td>&hellip;</td><td>&hellip;</td><td>&hellip;</td><td>&hellip;</td><td>&hellip;</td></tr><tr><td>&quot;Zuhair Muhammad (KSA)&quot;</td><td>2</td><td>2.0</td><td>0.0</td><td>0.0</td><td>0.0</td><td>0.0</td><td>&quot;2023/24&quot;</td></tr><tr><td>&quot;Zulfiqar Ali Shah (PORT)&quot;</td><td>1</td><td>1.0</td><td>0.0</td><td>0.0</td><td>0.0</td><td>0.0</td><td>&quot;2021&quot;</td></tr><tr><td>&quot;Zulqarnain Haider (ESP)&quot;</td><td>4</td><td>4.0</td><td>1.0</td><td>1.0</td><td>0.0</td><td>0.25</td><td>&quot;2019&quot;</td></tr><tr><td>&quot;Zulqarnain Haider (ESP)&quot;</td><td>1</td><td>1.0</td><td>0.0</td><td>0.0</td><td>0.0</td><td>0.0</td><td>&quot;2019/20&quot;</td></tr><tr><td>&quot;Zulqarnain Haider (ESP)&quot;</td><td>6</td><td>6.0</td><td>0.0</td><td>0.0</td><td>0.0</td><td>0.0</td><td>&quot;2022&quot;</td></tr></tbody></table></div>"
      ],
      "text/plain": [
       "shape: (11_221, 8)\n",
       "┌──────────────────────────┬─────┬──────┬─────┬─────┬─────┬──────┬─────────┐\n",
       "│ Player                   ┆ Mat ┆ Inns ┆ Dis ┆ Ct  ┆ St  ┆ D/I  ┆ Season  │\n",
       "│ ---                      ┆ --- ┆ ---  ┆ --- ┆ --- ┆ --- ┆ ---  ┆ ---     │\n",
       "│ str                      ┆ i64 ┆ f64  ┆ f64 ┆ f64 ┆ f64 ┆ f64  ┆ str     │\n",
       "╞══════════════════════════╪═════╪══════╪═════╪═════╪═════╪══════╪═════════╡\n",
       "│ A Ahmadhel (BUL)         ┆ 3   ┆ 3.0  ┆ 0.0 ┆ 0.0 ┆ 0.0 ┆ 0.0  ┆ 2019/20 │\n",
       "│ A Ahmadhel (BUL)         ┆ 1   ┆ 1.0  ┆ 0.0 ┆ 0.0 ┆ 0.0 ┆ 0.0  ┆ 2020    │\n",
       "│ A Ahmadhel (BUL)         ┆ 2   ┆ 2.0  ┆ 0.0 ┆ 0.0 ┆ 0.0 ┆ 0.0  ┆ 2020/21 │\n",
       "│ A Ahmadhel (BUL)         ┆ 3   ┆ 3.0  ┆ 0.0 ┆ 0.0 ┆ 0.0 ┆ 0.0  ┆ 2021    │\n",
       "│ A Ahmadhel (BUL)         ┆ 2   ┆ 1.0  ┆ 0.0 ┆ 0.0 ┆ 0.0 ┆ 0.0  ┆ 2023    │\n",
       "│ …                        ┆ …   ┆ …    ┆ …   ┆ …   ┆ …   ┆ …    ┆ …       │\n",
       "│ Zuhair Muhammad (KSA)    ┆ 2   ┆ 2.0  ┆ 0.0 ┆ 0.0 ┆ 0.0 ┆ 0.0  ┆ 2023/24 │\n",
       "│ Zulfiqar Ali Shah (PORT) ┆ 1   ┆ 1.0  ┆ 0.0 ┆ 0.0 ┆ 0.0 ┆ 0.0  ┆ 2021    │\n",
       "│ Zulqarnain Haider (ESP)  ┆ 4   ┆ 4.0  ┆ 1.0 ┆ 1.0 ┆ 0.0 ┆ 0.25 ┆ 2019    │\n",
       "│ Zulqarnain Haider (ESP)  ┆ 1   ┆ 1.0  ┆ 0.0 ┆ 0.0 ┆ 0.0 ┆ 0.0  ┆ 2019/20 │\n",
       "│ Zulqarnain Haider (ESP)  ┆ 6   ┆ 6.0  ┆ 0.0 ┆ 0.0 ┆ 0.0 ┆ 0.0  ┆ 2022    │\n",
       "└──────────────────────────┴─────┴──────┴─────┴─────┴─────┴──────┴─────────┘"
      ]
     },
     "execution_count": 24,
     "metadata": {},
     "output_type": "execute_result"
    }
   ],
   "source": [
    "fielding_data = fielding_data.with_columns(pl.col(\"Inns\").str.replace('-',pl.lit(\"0\")).cast(pl.Float64))\n",
    "fielding_data = fielding_data.with_columns(pl.col(\"Dis\").str.replace('-',pl.lit(\"0\")).cast(pl.Float64))\n",
    "fielding_data = fielding_data.with_columns(pl.col(\"Ct\").str.replace('-',pl.lit(\"0\")).cast(pl.Float64))\n",
    "fielding_data = fielding_data.with_columns(pl.col(\"St\").str.replace('-',pl.lit(\"0\")).cast(pl.Float64))\n",
    "fielding_data = fielding_data.with_columns(pl.col(\"D/I\").str.replace(\"-\",pl.col('Dis')/pl.col(\"Inns\")).cast(pl.Float64).fill_nan(0).round(2))\n",
    "fielding_data"
   ]
  },
  {
   "cell_type": "code",
   "execution_count": 25,
   "metadata": {},
   "outputs": [
    {
     "data": {
      "text/html": [
       "<div><style>\n",
       ".dataframe > thead > tr,\n",
       ".dataframe > tbody > tr {\n",
       "  text-align: right;\n",
       "  white-space: pre-wrap;\n",
       "}\n",
       "</style>\n",
       "<small>shape: (11_221, 9)</small><table border=\"1\" class=\"dataframe\"><thead><tr><th>Player</th><th>Mat</th><th>Inns</th><th>Dis</th><th>Ct</th><th>St</th><th>D/I</th><th>Season</th><th>Country</th></tr><tr><td>str</td><td>i64</td><td>f64</td><td>f64</td><td>f64</td><td>f64</td><td>f64</td><td>str</td><td>str</td></tr></thead><tbody><tr><td>&quot;A Ahmadhel&quot;</td><td>3</td><td>3.0</td><td>0.0</td><td>0.0</td><td>0.0</td><td>0.0</td><td>&quot;2019/20&quot;</td><td>&quot;BUL)&quot;</td></tr><tr><td>&quot;A Ahmadhel&quot;</td><td>1</td><td>1.0</td><td>0.0</td><td>0.0</td><td>0.0</td><td>0.0</td><td>&quot;2020&quot;</td><td>&quot;BUL)&quot;</td></tr><tr><td>&quot;A Ahmadhel&quot;</td><td>2</td><td>2.0</td><td>0.0</td><td>0.0</td><td>0.0</td><td>0.0</td><td>&quot;2020/21&quot;</td><td>&quot;BUL)&quot;</td></tr><tr><td>&quot;A Ahmadhel&quot;</td><td>3</td><td>3.0</td><td>0.0</td><td>0.0</td><td>0.0</td><td>0.0</td><td>&quot;2021&quot;</td><td>&quot;BUL)&quot;</td></tr><tr><td>&quot;A Ahmadhel&quot;</td><td>2</td><td>1.0</td><td>0.0</td><td>0.0</td><td>0.0</td><td>0.0</td><td>&quot;2023&quot;</td><td>&quot;BUL)&quot;</td></tr><tr><td>&hellip;</td><td>&hellip;</td><td>&hellip;</td><td>&hellip;</td><td>&hellip;</td><td>&hellip;</td><td>&hellip;</td><td>&hellip;</td><td>&hellip;</td></tr><tr><td>&quot;Zuhair Muhammad&quot;</td><td>2</td><td>2.0</td><td>0.0</td><td>0.0</td><td>0.0</td><td>0.0</td><td>&quot;2023/24&quot;</td><td>&quot;KSA)&quot;</td></tr><tr><td>&quot;Zulfiqar Ali Shah&quot;</td><td>1</td><td>1.0</td><td>0.0</td><td>0.0</td><td>0.0</td><td>0.0</td><td>&quot;2021&quot;</td><td>&quot;PORT)&quot;</td></tr><tr><td>&quot;Zulqarnain Haider&quot;</td><td>4</td><td>4.0</td><td>1.0</td><td>1.0</td><td>0.0</td><td>0.25</td><td>&quot;2019&quot;</td><td>&quot;ESP)&quot;</td></tr><tr><td>&quot;Zulqarnain Haider&quot;</td><td>1</td><td>1.0</td><td>0.0</td><td>0.0</td><td>0.0</td><td>0.0</td><td>&quot;2019/20&quot;</td><td>&quot;ESP)&quot;</td></tr><tr><td>&quot;Zulqarnain Haider&quot;</td><td>6</td><td>6.0</td><td>0.0</td><td>0.0</td><td>0.0</td><td>0.0</td><td>&quot;2022&quot;</td><td>&quot;ESP)&quot;</td></tr></tbody></table></div>"
      ],
      "text/plain": [
       "shape: (11_221, 9)\n",
       "┌───────────────────┬─────┬──────┬─────┬───┬─────┬──────┬─────────┬─────────┐\n",
       "│ Player            ┆ Mat ┆ Inns ┆ Dis ┆ … ┆ St  ┆ D/I  ┆ Season  ┆ Country │\n",
       "│ ---               ┆ --- ┆ ---  ┆ --- ┆   ┆ --- ┆ ---  ┆ ---     ┆ ---     │\n",
       "│ str               ┆ i64 ┆ f64  ┆ f64 ┆   ┆ f64 ┆ f64  ┆ str     ┆ str     │\n",
       "╞═══════════════════╪═════╪══════╪═════╪═══╪═════╪══════╪═════════╪═════════╡\n",
       "│ A Ahmadhel        ┆ 3   ┆ 3.0  ┆ 0.0 ┆ … ┆ 0.0 ┆ 0.0  ┆ 2019/20 ┆ BUL)    │\n",
       "│ A Ahmadhel        ┆ 1   ┆ 1.0  ┆ 0.0 ┆ … ┆ 0.0 ┆ 0.0  ┆ 2020    ┆ BUL)    │\n",
       "│ A Ahmadhel        ┆ 2   ┆ 2.0  ┆ 0.0 ┆ … ┆ 0.0 ┆ 0.0  ┆ 2020/21 ┆ BUL)    │\n",
       "│ A Ahmadhel        ┆ 3   ┆ 3.0  ┆ 0.0 ┆ … ┆ 0.0 ┆ 0.0  ┆ 2021    ┆ BUL)    │\n",
       "│ A Ahmadhel        ┆ 2   ┆ 1.0  ┆ 0.0 ┆ … ┆ 0.0 ┆ 0.0  ┆ 2023    ┆ BUL)    │\n",
       "│ …                 ┆ …   ┆ …    ┆ …   ┆ … ┆ …   ┆ …    ┆ …       ┆ …       │\n",
       "│ Zuhair Muhammad   ┆ 2   ┆ 2.0  ┆ 0.0 ┆ … ┆ 0.0 ┆ 0.0  ┆ 2023/24 ┆ KSA)    │\n",
       "│ Zulfiqar Ali Shah ┆ 1   ┆ 1.0  ┆ 0.0 ┆ … ┆ 0.0 ┆ 0.0  ┆ 2021    ┆ PORT)   │\n",
       "│ Zulqarnain Haider ┆ 4   ┆ 4.0  ┆ 1.0 ┆ … ┆ 0.0 ┆ 0.25 ┆ 2019    ┆ ESP)    │\n",
       "│ Zulqarnain Haider ┆ 1   ┆ 1.0  ┆ 0.0 ┆ … ┆ 0.0 ┆ 0.0  ┆ 2019/20 ┆ ESP)    │\n",
       "│ Zulqarnain Haider ┆ 6   ┆ 6.0  ┆ 0.0 ┆ … ┆ 0.0 ┆ 0.0  ┆ 2022    ┆ ESP)    │\n",
       "└───────────────────┴─────┴──────┴─────┴───┴─────┴──────┴─────────┴─────────┘"
      ]
     },
     "execution_count": 25,
     "metadata": {},
     "output_type": "execute_result"
    }
   ],
   "source": [
    "fielding_data = fielding_data.with_columns(fielding_data['Player'].str.split_exact(' (', n=1).struct.rename_fields(['Player', 'Country']).alias('Player').to_frame().unnest('Player'))\n",
    "fielding_data"
   ]
  },
  {
   "cell_type": "code",
   "execution_count": 26,
   "metadata": {},
   "outputs": [
    {
     "data": {
      "text/html": [
       "<div><style>\n",
       ".dataframe > thead > tr,\n",
       ".dataframe > tbody > tr {\n",
       "  text-align: right;\n",
       "  white-space: pre-wrap;\n",
       "}\n",
       "</style>\n",
       "<small>shape: (11_221, 9)</small><table border=\"1\" class=\"dataframe\"><thead><tr><th>Player</th><th>Mat</th><th>Inns</th><th>Dis</th><th>Ct</th><th>St</th><th>D/I</th><th>Season</th><th>Country</th></tr><tr><td>str</td><td>i64</td><td>f64</td><td>f64</td><td>f64</td><td>f64</td><td>f64</td><td>str</td><td>str</td></tr></thead><tbody><tr><td>&quot;A Ahmadhel&quot;</td><td>3</td><td>3.0</td><td>0.0</td><td>0.0</td><td>0.0</td><td>0.0</td><td>&quot;2019/20&quot;</td><td>&quot;BUL&quot;</td></tr><tr><td>&quot;A Ahmadhel&quot;</td><td>1</td><td>1.0</td><td>0.0</td><td>0.0</td><td>0.0</td><td>0.0</td><td>&quot;2020&quot;</td><td>&quot;BUL&quot;</td></tr><tr><td>&quot;A Ahmadhel&quot;</td><td>2</td><td>2.0</td><td>0.0</td><td>0.0</td><td>0.0</td><td>0.0</td><td>&quot;2020/21&quot;</td><td>&quot;BUL&quot;</td></tr><tr><td>&quot;A Ahmadhel&quot;</td><td>3</td><td>3.0</td><td>0.0</td><td>0.0</td><td>0.0</td><td>0.0</td><td>&quot;2021&quot;</td><td>&quot;BUL&quot;</td></tr><tr><td>&quot;A Ahmadhel&quot;</td><td>2</td><td>1.0</td><td>0.0</td><td>0.0</td><td>0.0</td><td>0.0</td><td>&quot;2023&quot;</td><td>&quot;BUL&quot;</td></tr><tr><td>&hellip;</td><td>&hellip;</td><td>&hellip;</td><td>&hellip;</td><td>&hellip;</td><td>&hellip;</td><td>&hellip;</td><td>&hellip;</td><td>&hellip;</td></tr><tr><td>&quot;Zuhair Muhammad&quot;</td><td>2</td><td>2.0</td><td>0.0</td><td>0.0</td><td>0.0</td><td>0.0</td><td>&quot;2023/24&quot;</td><td>&quot;KSA&quot;</td></tr><tr><td>&quot;Zulfiqar Ali Shah&quot;</td><td>1</td><td>1.0</td><td>0.0</td><td>0.0</td><td>0.0</td><td>0.0</td><td>&quot;2021&quot;</td><td>&quot;PORT&quot;</td></tr><tr><td>&quot;Zulqarnain Haider&quot;</td><td>4</td><td>4.0</td><td>1.0</td><td>1.0</td><td>0.0</td><td>0.25</td><td>&quot;2019&quot;</td><td>&quot;ESP&quot;</td></tr><tr><td>&quot;Zulqarnain Haider&quot;</td><td>1</td><td>1.0</td><td>0.0</td><td>0.0</td><td>0.0</td><td>0.0</td><td>&quot;2019/20&quot;</td><td>&quot;ESP&quot;</td></tr><tr><td>&quot;Zulqarnain Haider&quot;</td><td>6</td><td>6.0</td><td>0.0</td><td>0.0</td><td>0.0</td><td>0.0</td><td>&quot;2022&quot;</td><td>&quot;ESP&quot;</td></tr></tbody></table></div>"
      ],
      "text/plain": [
       "shape: (11_221, 9)\n",
       "┌───────────────────┬─────┬──────┬─────┬───┬─────┬──────┬─────────┬─────────┐\n",
       "│ Player            ┆ Mat ┆ Inns ┆ Dis ┆ … ┆ St  ┆ D/I  ┆ Season  ┆ Country │\n",
       "│ ---               ┆ --- ┆ ---  ┆ --- ┆   ┆ --- ┆ ---  ┆ ---     ┆ ---     │\n",
       "│ str               ┆ i64 ┆ f64  ┆ f64 ┆   ┆ f64 ┆ f64  ┆ str     ┆ str     │\n",
       "╞═══════════════════╪═════╪══════╪═════╪═══╪═════╪══════╪═════════╪═════════╡\n",
       "│ A Ahmadhel        ┆ 3   ┆ 3.0  ┆ 0.0 ┆ … ┆ 0.0 ┆ 0.0  ┆ 2019/20 ┆ BUL     │\n",
       "│ A Ahmadhel        ┆ 1   ┆ 1.0  ┆ 0.0 ┆ … ┆ 0.0 ┆ 0.0  ┆ 2020    ┆ BUL     │\n",
       "│ A Ahmadhel        ┆ 2   ┆ 2.0  ┆ 0.0 ┆ … ┆ 0.0 ┆ 0.0  ┆ 2020/21 ┆ BUL     │\n",
       "│ A Ahmadhel        ┆ 3   ┆ 3.0  ┆ 0.0 ┆ … ┆ 0.0 ┆ 0.0  ┆ 2021    ┆ BUL     │\n",
       "│ A Ahmadhel        ┆ 2   ┆ 1.0  ┆ 0.0 ┆ … ┆ 0.0 ┆ 0.0  ┆ 2023    ┆ BUL     │\n",
       "│ …                 ┆ …   ┆ …    ┆ …   ┆ … ┆ …   ┆ …    ┆ …       ┆ …       │\n",
       "│ Zuhair Muhammad   ┆ 2   ┆ 2.0  ┆ 0.0 ┆ … ┆ 0.0 ┆ 0.0  ┆ 2023/24 ┆ KSA     │\n",
       "│ Zulfiqar Ali Shah ┆ 1   ┆ 1.0  ┆ 0.0 ┆ … ┆ 0.0 ┆ 0.0  ┆ 2021    ┆ PORT    │\n",
       "│ Zulqarnain Haider ┆ 4   ┆ 4.0  ┆ 1.0 ┆ … ┆ 0.0 ┆ 0.25 ┆ 2019    ┆ ESP     │\n",
       "│ Zulqarnain Haider ┆ 1   ┆ 1.0  ┆ 0.0 ┆ … ┆ 0.0 ┆ 0.0  ┆ 2019/20 ┆ ESP     │\n",
       "│ Zulqarnain Haider ┆ 6   ┆ 6.0  ┆ 0.0 ┆ … ┆ 0.0 ┆ 0.0  ┆ 2022    ┆ ESP     │\n",
       "└───────────────────┴─────┴──────┴─────┴───┴─────┴──────┴─────────┴─────────┘"
      ]
     },
     "execution_count": 26,
     "metadata": {},
     "output_type": "execute_result"
    }
   ],
   "source": [
    "fielding_data = fielding_data.with_columns(fielding_data['Country'].str.replace(r'\\)', ''))\n",
    "fielding_data"
   ]
  },
  {
   "cell_type": "code",
   "execution_count": 27,
   "metadata": {},
   "outputs": [
    {
     "data": {
      "text/html": [
       "<div><style>\n",
       ".dataframe > thead > tr,\n",
       ".dataframe > tbody > tr {\n",
       "  text-align: right;\n",
       "  white-space: pre-wrap;\n",
       "}\n",
       "</style>\n",
       "<small>shape: (11_221, 9)</small><table border=\"1\" class=\"dataframe\"><thead><tr><th>Player</th><th>Mat</th><th>Inns</th><th>Dis</th><th>Ct</th><th>St</th><th>D/I</th><th>Season</th><th>Country</th></tr><tr><td>str</td><td>i64</td><td>f64</td><td>f64</td><td>f64</td><td>f64</td><td>f64</td><td>str</td><td>str</td></tr></thead><tbody><tr><td>&quot;A Ahmadhel&quot;</td><td>3</td><td>3.0</td><td>0.0</td><td>0.0</td><td>0.0</td><td>0.0</td><td>&quot;2019/20&quot;</td><td>&quot;BUL&quot;</td></tr><tr><td>&quot;A Ahmadhel&quot;</td><td>1</td><td>1.0</td><td>0.0</td><td>0.0</td><td>0.0</td><td>0.0</td><td>&quot;2020&quot;</td><td>&quot;BUL&quot;</td></tr><tr><td>&quot;A Ahmadhel&quot;</td><td>2</td><td>2.0</td><td>0.0</td><td>0.0</td><td>0.0</td><td>0.0</td><td>&quot;2020/21&quot;</td><td>&quot;BUL&quot;</td></tr><tr><td>&quot;A Ahmadhel&quot;</td><td>3</td><td>3.0</td><td>0.0</td><td>0.0</td><td>0.0</td><td>0.0</td><td>&quot;2021&quot;</td><td>&quot;BUL&quot;</td></tr><tr><td>&quot;A Ahmadhel&quot;</td><td>2</td><td>1.0</td><td>0.0</td><td>0.0</td><td>0.0</td><td>0.0</td><td>&quot;2023&quot;</td><td>&quot;BUL&quot;</td></tr><tr><td>&hellip;</td><td>&hellip;</td><td>&hellip;</td><td>&hellip;</td><td>&hellip;</td><td>&hellip;</td><td>&hellip;</td><td>&hellip;</td><td>&hellip;</td></tr><tr><td>&quot;Zuhair Muhammad&quot;</td><td>2</td><td>2.0</td><td>0.0</td><td>0.0</td><td>0.0</td><td>0.0</td><td>&quot;2023/24&quot;</td><td>&quot;KSA&quot;</td></tr><tr><td>&quot;Zulfiqar Ali Shah&quot;</td><td>1</td><td>1.0</td><td>0.0</td><td>0.0</td><td>0.0</td><td>0.0</td><td>&quot;2021&quot;</td><td>&quot;PORT&quot;</td></tr><tr><td>&quot;Zulqarnain Haider&quot;</td><td>4</td><td>4.0</td><td>1.0</td><td>1.0</td><td>0.0</td><td>0.25</td><td>&quot;2019&quot;</td><td>&quot;ESP&quot;</td></tr><tr><td>&quot;Zulqarnain Haider&quot;</td><td>1</td><td>1.0</td><td>1.0</td><td>1.0</td><td>0.0</td><td>0.2</td><td>&quot;2019/20&quot;</td><td>&quot;ESP&quot;</td></tr><tr><td>&quot;Zulqarnain Haider&quot;</td><td>6</td><td>6.0</td><td>1.0</td><td>1.0</td><td>0.0</td><td>0.090909</td><td>&quot;2022&quot;</td><td>&quot;ESP&quot;</td></tr></tbody></table></div>"
      ],
      "text/plain": [
       "shape: (11_221, 9)\n",
       "┌───────────────────┬─────┬──────┬─────┬───┬─────┬──────────┬─────────┬─────────┐\n",
       "│ Player            ┆ Mat ┆ Inns ┆ Dis ┆ … ┆ St  ┆ D/I      ┆ Season  ┆ Country │\n",
       "│ ---               ┆ --- ┆ ---  ┆ --- ┆   ┆ --- ┆ ---      ┆ ---     ┆ ---     │\n",
       "│ str               ┆ i64 ┆ f64  ┆ f64 ┆   ┆ f64 ┆ f64      ┆ str     ┆ str     │\n",
       "╞═══════════════════╪═════╪══════╪═════╪═══╪═════╪══════════╪═════════╪═════════╡\n",
       "│ A Ahmadhel        ┆ 3   ┆ 3.0  ┆ 0.0 ┆ … ┆ 0.0 ┆ 0.0      ┆ 2019/20 ┆ BUL     │\n",
       "│ A Ahmadhel        ┆ 1   ┆ 1.0  ┆ 0.0 ┆ … ┆ 0.0 ┆ 0.0      ┆ 2020    ┆ BUL     │\n",
       "│ A Ahmadhel        ┆ 2   ┆ 2.0  ┆ 0.0 ┆ … ┆ 0.0 ┆ 0.0      ┆ 2020/21 ┆ BUL     │\n",
       "│ A Ahmadhel        ┆ 3   ┆ 3.0  ┆ 0.0 ┆ … ┆ 0.0 ┆ 0.0      ┆ 2021    ┆ BUL     │\n",
       "│ A Ahmadhel        ┆ 2   ┆ 1.0  ┆ 0.0 ┆ … ┆ 0.0 ┆ 0.0      ┆ 2023    ┆ BUL     │\n",
       "│ …                 ┆ …   ┆ …    ┆ …   ┆ … ┆ …   ┆ …        ┆ …       ┆ …       │\n",
       "│ Zuhair Muhammad   ┆ 2   ┆ 2.0  ┆ 0.0 ┆ … ┆ 0.0 ┆ 0.0      ┆ 2023/24 ┆ KSA     │\n",
       "│ Zulfiqar Ali Shah ┆ 1   ┆ 1.0  ┆ 0.0 ┆ … ┆ 0.0 ┆ 0.0      ┆ 2021    ┆ PORT    │\n",
       "│ Zulqarnain Haider ┆ 4   ┆ 4.0  ┆ 1.0 ┆ … ┆ 0.0 ┆ 0.25     ┆ 2019    ┆ ESP     │\n",
       "│ Zulqarnain Haider ┆ 1   ┆ 1.0  ┆ 1.0 ┆ … ┆ 0.0 ┆ 0.2      ┆ 2019/20 ┆ ESP     │\n",
       "│ Zulqarnain Haider ┆ 6   ┆ 6.0  ┆ 1.0 ┆ … ┆ 0.0 ┆ 0.090909 ┆ 2022    ┆ ESP     │\n",
       "└───────────────────┴─────┴──────┴─────┴───┴─────┴──────────┴─────────┴─────────┘"
      ]
     },
     "execution_count": 27,
     "metadata": {},
     "output_type": "execute_result"
    }
   ],
   "source": [
    "# bowling_data = bowling_data.with_columns(\n",
    "#     pl.col(\"Overs\").cum_sum().over([\"Player\",\"Country\"]),\n",
    "#     pl.col(\"Wkts\").cum_sum().over([\"Player\",\"Country\"]),\n",
    "#     pl.col(\"Econ\").cum_sum().over([\"Player\",\"Country\"]) / pl.col(\"Overs\").cum_count().over([\"Player\",\"Country\"])\n",
    "# )\n",
    "# bowling_data\n",
    "\n",
    "fielding_data = fielding_data.with_columns(\n",
    "    pl.col(\"Dis\").cum_sum().over([\"Player\",\"Country\"]),\n",
    "    pl.col(\"Ct\").cum_sum().over([\"Player\",\"Country\"]),\n",
    "    pl.col(\"St\").cum_sum().over([\"Player\",\"Country\"]),\n",
    "    (pl.col(\"Dis\").cum_sum().over([\"Player\",\"Country\"])/pl.col(\"Inns\").cum_sum().over([\"Player\",\"Country\"])).alias(\"D/I\")\n",
    ")\n",
    "fielding_data"
   ]
  },
  {
   "cell_type": "code",
   "execution_count": 28,
   "metadata": {},
   "outputs": [],
   "source": [
    "country_codes = {\n",
    "    'LES': 'Lesotho',\n",
    "    'BUL': 'Bulgaria',\n",
    "    'VAN': 'Vanuatu',\n",
    "    'ROM': 'Romania',\n",
    "    'Aut': 'Austria',\n",
    "    'COK': 'Cook Islands',\n",
    "    'Fran': 'France',\n",
    "    'SRB': 'Serbia',\n",
    "    'PAK': 'Pakistan',\n",
    "    'HUN': 'Hungary',\n",
    "    'CYP': 'Cyprus',\n",
    "    'Fiji': 'Fiji',\n",
    "    'FIN': 'Finland',\n",
    "    'EST': 'Estonia',\n",
    "    'CHN': 'China',\n",
    "    'GRC': 'Greece',\n",
    "    'CAM': 'Cambodia',\n",
    "    'GUE': 'Guernsey',\n",
    "    'SEY': 'Seychelles',\n",
    "    'JPN': 'Japan',\n",
    "    'TAN': 'Tanzania',\n",
    "    'JER': 'Jersey',\n",
    "    'QAT': 'Qatar',\n",
    "    'ENG': 'England',\n",
    "    'UGA': 'Uganda',\n",
    "    'BER': 'Bermuda',\n",
    "    'CZK-R': 'Czech Republic',\n",
    "    'CAY': 'Cayman Islands',\n",
    "    'IRE': 'Ireland',\n",
    "    'Mali': 'Mali',\n",
    "    'BRA': 'Brazil',\n",
    "    'SUI': 'Switzerland',\n",
    "    'Peru': 'Peru',\n",
    "    'Mex': 'Mexico',\n",
    "    'MOZ': 'Mozambique',\n",
    "    'Samoa': 'Samoa',\n",
    "    'HKG': 'Hong Kong',\n",
    "    'BAN': 'Bangladesh',\n",
    "    'SL': 'Sri Lanka',\n",
    "    'PNG': 'Papua New Guinea',\n",
    "    'ZIM': 'Zimbabwe',\n",
    "    'GHA': 'Ghana',\n",
    "    'SWZ': 'Swaziland',\n",
    "    'MYAN': 'Myanmar',\n",
    "    'IND': 'India',\n",
    "    'USA': 'United States of America',\n",
    "    'NEP': 'Nepal',\n",
    "    'AFG': 'Afghanistan',\n",
    "    'PAN': 'Panama',\n",
    "    'NGA': 'Nigeria',\n",
    "    'SLE': 'Sierra Leone',\n",
    "    'ESP': 'Spain',\n",
    "    'Bhm': 'Bahamas',\n",
    "    'TKY': 'Turkey',\n",
    "    'MWI': 'Malawi',\n",
    "    'WI': 'West Indies',\n",
    "    'IOM': 'Isle of Man',\n",
    "    'THA': 'Thailand',\n",
    "    'SWA': 'Swaziland',\n",
    "    'SKOR': 'South Korea',\n",
    "    'GMB': 'Gambia',\n",
    "    'ISR': 'Israel',\n",
    "    'KUW': 'Kuwait',\n",
    "    'Belg': 'Belgium',\n",
    "    'GER': 'Germany',\n",
    "    'ITA': 'Italy',\n",
    "    'CAN': 'Canada',\n",
    "    'MDV': 'Maldives',\n",
    "    'Blz': 'Belize',\n",
    "    'DEN': 'Denmark',\n",
    "    'INA': 'Indonesia',\n",
    "    'KENYA': 'Kenya',\n",
    "    'LUX': 'Luxembourg',\n",
    "    'STHEL': 'Saint Helena',\n",
    "    'BHR': 'Bahrain',\n",
    "    'KSA': 'Saudi Arabia',\n",
    "    'MLT': 'Malta',\n",
    "    'Arg': 'Argentina',\n",
    "    'MNG': 'Mongolia',\n",
    "    'AUS': 'Australia',\n",
    "    'GIBR': 'Gibraltar',\n",
    "    'SGP': 'Singapore',\n",
    "    'Chile': 'Chile',\n",
    "    'UAE': 'United Arab Emirates',\n",
    "    'NZ': 'New Zealand',\n",
    "    'SCOT': 'Scotland',\n",
    "    'BHU': 'Bhutan',\n",
    "    'MAS': 'Malaysia',\n",
    "    'BOT': 'Botswana',\n",
    "    'CRC': 'Costa Rica',\n",
    "    'PHI': 'Philippines',\n",
    "    'NAM': 'Namibia',\n",
    "    'RWN': 'Rwanda',\n",
    "    'OMA': 'Oman',\n",
    "    'NOR': 'Norway',\n",
    "    'CRT': 'Croatia',\n",
    "    'SWE': 'Sweden',\n",
    "    'Iran': 'Iran',\n",
    "    'PORT': 'Portugal',\n",
    "    'NED': 'Netherlands',\n",
    "    'SA': 'South Africa',\n",
    "    'SVN': 'Slovenia',\n",
    "    '1': 'Miscellaneous Country 1',\n",
    "    '2': 'Miscellaneous Country 2',\n",
    "    '3': 'Miscellaneous Country 3',\n",
    "    'ICC': 'International Cricket Council',\n",
    "    'World': 'World XI',\n",
    "    'ICC/PAK': 'ICC Pakistan',\n",
    "    'ICC/SL': 'ICC Sri Lanka',\n",
    "    'ICC/IND': 'ICC India',\n",
    "    'ICC/NEP': 'ICC Nepal',\n",
    "    'BAN/ICC': 'Bangladesh ICC',\n",
    "    'AFG/ICC': 'Afghanistan ICC',\n",
    "    'SL/World': 'Sri Lanka World',\n",
    "    'SA/World': 'South Africa World',\n",
    "    'AUS/World': 'Australia World',\n",
    "    'BAN/World': 'Bangladesh World',\n",
    "    'WI/World': 'West Indies World',\n",
    "}\n",
    "icc_world = {\n",
    "    'ICC': 'International Cricket Council',\n",
    "    'World': 'World XI',\n",
    "    'ICC/PAK': 'ICC Pakistan',\n",
    "    'ICC/SL': 'ICC Sri Lanka',\n",
    "    'ICC/IND': 'ICC India',\n",
    "    'ICC/NEP': 'ICC Nepal',\n",
    "    'BAN/ICC': 'Bangladesh ICC',\n",
    "    'AFG/ICC': 'Afghanistan ICC',\n",
    "    'SL/World': 'Sri Lanka World',\n",
    "    'SA/World': 'South Africa World',\n",
    "    'AUS/World': 'Australia World',\n",
    "    'BAN/World': 'Bangladesh World',\n",
    "    'WI/World': 'West Indies World',\n",
    "}\n",
    "outlier_countries = {\n",
    "    '1': 'Miscellaneous Country 1',\n",
    "    '2': 'Miscellaneous Country 2',\n",
    "    '3': 'Miscellaneous Country 3',\n",
    "}\n",
    "filtered_countries = {code: country for code, country in country_codes.items() if code not in icc_world and code not in outlier_countries}"
   ]
  },
  {
   "cell_type": "code",
   "execution_count": 29,
   "metadata": {},
   "outputs": [
    {
     "data": {
      "text/html": [
       "<div><style>\n",
       ".dataframe > thead > tr,\n",
       ".dataframe > tbody > tr {\n",
       "  text-align: right;\n",
       "  white-space: pre-wrap;\n",
       "}\n",
       "</style>\n",
       "<small>shape: (11_176, 9)</small><table border=\"1\" class=\"dataframe\"><thead><tr><th>Player</th><th>Mat</th><th>Inns</th><th>Dis</th><th>Ct</th><th>St</th><th>D/I</th><th>Season</th><th>Country</th></tr><tr><td>str</td><td>i64</td><td>f64</td><td>f64</td><td>f64</td><td>f64</td><td>f64</td><td>str</td><td>str</td></tr></thead><tbody><tr><td>&quot;A Ahmadhel&quot;</td><td>3</td><td>3.0</td><td>0.0</td><td>0.0</td><td>0.0</td><td>0.0</td><td>&quot;2019/20&quot;</td><td>&quot;BUL&quot;</td></tr><tr><td>&quot;A Ahmadhel&quot;</td><td>1</td><td>1.0</td><td>0.0</td><td>0.0</td><td>0.0</td><td>0.0</td><td>&quot;2020&quot;</td><td>&quot;BUL&quot;</td></tr><tr><td>&quot;A Ahmadhel&quot;</td><td>2</td><td>2.0</td><td>0.0</td><td>0.0</td><td>0.0</td><td>0.0</td><td>&quot;2020/21&quot;</td><td>&quot;BUL&quot;</td></tr><tr><td>&quot;A Ahmadhel&quot;</td><td>3</td><td>3.0</td><td>0.0</td><td>0.0</td><td>0.0</td><td>0.0</td><td>&quot;2021&quot;</td><td>&quot;BUL&quot;</td></tr><tr><td>&quot;A Ahmadhel&quot;</td><td>2</td><td>1.0</td><td>0.0</td><td>0.0</td><td>0.0</td><td>0.0</td><td>&quot;2023&quot;</td><td>&quot;BUL&quot;</td></tr><tr><td>&hellip;</td><td>&hellip;</td><td>&hellip;</td><td>&hellip;</td><td>&hellip;</td><td>&hellip;</td><td>&hellip;</td><td>&hellip;</td><td>&hellip;</td></tr><tr><td>&quot;Zuhair Muhammad&quot;</td><td>2</td><td>2.0</td><td>0.0</td><td>0.0</td><td>0.0</td><td>0.0</td><td>&quot;2023/24&quot;</td><td>&quot;KSA&quot;</td></tr><tr><td>&quot;Zulfiqar Ali Shah&quot;</td><td>1</td><td>1.0</td><td>0.0</td><td>0.0</td><td>0.0</td><td>0.0</td><td>&quot;2021&quot;</td><td>&quot;PORT&quot;</td></tr><tr><td>&quot;Zulqarnain Haider&quot;</td><td>4</td><td>4.0</td><td>1.0</td><td>1.0</td><td>0.0</td><td>0.25</td><td>&quot;2019&quot;</td><td>&quot;ESP&quot;</td></tr><tr><td>&quot;Zulqarnain Haider&quot;</td><td>1</td><td>1.0</td><td>1.0</td><td>1.0</td><td>0.0</td><td>0.2</td><td>&quot;2019/20&quot;</td><td>&quot;ESP&quot;</td></tr><tr><td>&quot;Zulqarnain Haider&quot;</td><td>6</td><td>6.0</td><td>1.0</td><td>1.0</td><td>0.0</td><td>0.090909</td><td>&quot;2022&quot;</td><td>&quot;ESP&quot;</td></tr></tbody></table></div>"
      ],
      "text/plain": [
       "shape: (11_176, 9)\n",
       "┌───────────────────┬─────┬──────┬─────┬───┬─────┬──────────┬─────────┬─────────┐\n",
       "│ Player            ┆ Mat ┆ Inns ┆ Dis ┆ … ┆ St  ┆ D/I      ┆ Season  ┆ Country │\n",
       "│ ---               ┆ --- ┆ ---  ┆ --- ┆   ┆ --- ┆ ---      ┆ ---     ┆ ---     │\n",
       "│ str               ┆ i64 ┆ f64  ┆ f64 ┆   ┆ f64 ┆ f64      ┆ str     ┆ str     │\n",
       "╞═══════════════════╪═════╪══════╪═════╪═══╪═════╪══════════╪═════════╪═════════╡\n",
       "│ A Ahmadhel        ┆ 3   ┆ 3.0  ┆ 0.0 ┆ … ┆ 0.0 ┆ 0.0      ┆ 2019/20 ┆ BUL     │\n",
       "│ A Ahmadhel        ┆ 1   ┆ 1.0  ┆ 0.0 ┆ … ┆ 0.0 ┆ 0.0      ┆ 2020    ┆ BUL     │\n",
       "│ A Ahmadhel        ┆ 2   ┆ 2.0  ┆ 0.0 ┆ … ┆ 0.0 ┆ 0.0      ┆ 2020/21 ┆ BUL     │\n",
       "│ A Ahmadhel        ┆ 3   ┆ 3.0  ┆ 0.0 ┆ … ┆ 0.0 ┆ 0.0      ┆ 2021    ┆ BUL     │\n",
       "│ A Ahmadhel        ┆ 2   ┆ 1.0  ┆ 0.0 ┆ … ┆ 0.0 ┆ 0.0      ┆ 2023    ┆ BUL     │\n",
       "│ …                 ┆ …   ┆ …    ┆ …   ┆ … ┆ …   ┆ …        ┆ …       ┆ …       │\n",
       "│ Zuhair Muhammad   ┆ 2   ┆ 2.0  ┆ 0.0 ┆ … ┆ 0.0 ┆ 0.0      ┆ 2023/24 ┆ KSA     │\n",
       "│ Zulfiqar Ali Shah ┆ 1   ┆ 1.0  ┆ 0.0 ┆ … ┆ 0.0 ┆ 0.0      ┆ 2021    ┆ PORT    │\n",
       "│ Zulqarnain Haider ┆ 4   ┆ 4.0  ┆ 1.0 ┆ … ┆ 0.0 ┆ 0.25     ┆ 2019    ┆ ESP     │\n",
       "│ Zulqarnain Haider ┆ 1   ┆ 1.0  ┆ 1.0 ┆ … ┆ 0.0 ┆ 0.2      ┆ 2019/20 ┆ ESP     │\n",
       "│ Zulqarnain Haider ┆ 6   ┆ 6.0  ┆ 1.0 ┆ … ┆ 0.0 ┆ 0.090909 ┆ 2022    ┆ ESP     │\n",
       "└───────────────────┴─────┴──────┴─────┴───┴─────┴──────────┴─────────┴─────────┘"
      ]
     },
     "execution_count": 29,
     "metadata": {},
     "output_type": "execute_result"
    }
   ],
   "source": [
    "fielding_data = fielding_data.filter(pl.col(\"Country\").is_in(list(filtered_countries.keys())))\n",
    "fielding_data"
   ]
  },
  {
   "cell_type": "code",
   "execution_count": 30,
   "metadata": {},
   "outputs": [
    {
     "data": {
      "text/html": [
       "<div><style>\n",
       ".dataframe > thead > tr,\n",
       ".dataframe > tbody > tr {\n",
       "  text-align: right;\n",
       "  white-space: pre-wrap;\n",
       "}\n",
       "</style>\n",
       "<small>shape: (5_722, 3)</small><table border=\"1\" class=\"dataframe\"><thead><tr><th>Player</th><th>Country</th><th>player_id</th></tr><tr><td>str</td><td>str</td><td>str</td></tr></thead><tbody><tr><td>&quot;E Frimpong&quot;</td><td>&quot;Ghana&quot;</td><td>&quot;3c13fc3b&quot;</td></tr><tr><td>&quot;L Rika&quot;</td><td>&quot;Fiji&quot;</td><td>&quot;fe12944e&quot;</td></tr><tr><td>&quot;B George&quot;</td><td>&quot;Malta&quot;</td><td>&quot;1bdbf53b&quot;</td></tr><tr><td>&quot;WB Rankin&quot;</td><td>&quot;Ireland&quot;</td><td>&quot;29b89ae8&quot;</td></tr><tr><td>&quot;V Phiri&quot;</td><td>&quot;Malawi&quot;</td><td>&quot;8ffa1b3c&quot;</td></tr><tr><td>&hellip;</td><td>&hellip;</td><td>&hellip;</td></tr><tr><td>&quot;B Frank&quot;</td><td>&quot;Nigeria&quot;</td><td>&quot;040206a2&quot;</td></tr><tr><td>&quot;XM Marshall&quot;</td><td>&quot;West Indies&quot;</td><td>&quot;ffb504b1&quot;</td></tr><tr><td>&quot;T Vanuarua&quot;</td><td>&quot;Cook Islands&quot;</td><td>&quot;1f8b4fec&quot;</td></tr><tr><td>&quot;Nary Thapa&quot;</td><td>&quot;Nepal&quot;</td><td>&quot;d24e69f5&quot;</td></tr><tr><td>&quot;P Maya&quot;</td><td>&quot;Thailand&quot;</td><td>&quot;72eada4c&quot;</td></tr></tbody></table></div>"
      ],
      "text/plain": [
       "shape: (5_722, 3)\n",
       "┌─────────────┬──────────────┬───────────┐\n",
       "│ Player      ┆ Country      ┆ player_id │\n",
       "│ ---         ┆ ---          ┆ ---       │\n",
       "│ str         ┆ str          ┆ str       │\n",
       "╞═════════════╪══════════════╪═══════════╡\n",
       "│ E Frimpong  ┆ Ghana        ┆ 3c13fc3b  │\n",
       "│ L Rika      ┆ Fiji         ┆ fe12944e  │\n",
       "│ B George    ┆ Malta        ┆ 1bdbf53b  │\n",
       "│ WB Rankin   ┆ Ireland      ┆ 29b89ae8  │\n",
       "│ V Phiri     ┆ Malawi       ┆ 8ffa1b3c  │\n",
       "│ …           ┆ …            ┆ …         │\n",
       "│ B Frank     ┆ Nigeria      ┆ 040206a2  │\n",
       "│ XM Marshall ┆ West Indies  ┆ ffb504b1  │\n",
       "│ T Vanuarua  ┆ Cook Islands ┆ 1f8b4fec  │\n",
       "│ Nary Thapa  ┆ Nepal        ┆ d24e69f5  │\n",
       "│ P Maya      ┆ Thailand     ┆ 72eada4c  │\n",
       "└─────────────┴──────────────┴───────────┘"
      ]
     },
     "execution_count": 30,
     "metadata": {},
     "output_type": "execute_result"
    }
   ],
   "source": [
    "players_data = pl.read_csv(r'D:\\github\\localt20\\processedData\\Players.csv').rename({\"player\": \"Player\",\"country\":\"Country\"})\n",
    "players_data"
   ]
  },
  {
   "cell_type": "code",
   "execution_count": 31,
   "metadata": {},
   "outputs": [
    {
     "data": {
      "text/html": [
       "<div><style>\n",
       ".dataframe > thead > tr,\n",
       ".dataframe > tbody > tr {\n",
       "  text-align: right;\n",
       "  white-space: pre-wrap;\n",
       "}\n",
       "</style>\n",
       "<small>shape: (10_606, 11)</small><table border=\"1\" class=\"dataframe\"><thead><tr><th>Player</th><th>Mat</th><th>Inns</th><th>Dis</th><th>Ct</th><th>St</th><th>D/I</th><th>Season</th><th>Country</th><th>Country_right</th><th>player_id</th></tr><tr><td>str</td><td>i64</td><td>f64</td><td>f64</td><td>f64</td><td>f64</td><td>f64</td><td>str</td><td>str</td><td>str</td><td>str</td></tr></thead><tbody><tr><td>&quot;A Andrews&quot;</td><td>3</td><td>3.0</td><td>4.0</td><td>4.0</td><td>0.0</td><td>1.333333</td><td>&quot;2021/22&quot;</td><td>&quot;SUI&quot;</td><td>&quot;Switzerland&quot;</td><td>&quot;1d45c01a&quot;</td></tr><tr><td>&quot;A Andrews&quot;</td><td>4</td><td>4.0</td><td>7.0</td><td>7.0</td><td>0.0</td><td>1.0</td><td>&quot;2022&quot;</td><td>&quot;SUI&quot;</td><td>&quot;Switzerland&quot;</td><td>&quot;1d45c01a&quot;</td></tr><tr><td>&quot;A Ashok&quot;</td><td>1</td><td>1.0</td><td>0.0</td><td>0.0</td><td>0.0</td><td>0.0</td><td>&quot;2023&quot;</td><td>&quot;NZ&quot;</td><td>&quot;New Zealand&quot;</td><td>&quot;321be7e3&quot;</td></tr><tr><td>&quot;A Athanaze&quot;</td><td>4</td><td>4.0</td><td>2.0</td><td>2.0</td><td>0.0</td><td>0.5</td><td>&quot;2024&quot;</td><td>&quot;WI&quot;</td><td>&quot;West Indies&quot;</td><td>&quot;58c2fac4&quot;</td></tr><tr><td>&quot;A Balbirnie&quot;</td><td>7</td><td>5.0</td><td>1.0</td><td>1.0</td><td>0.0</td><td>0.2</td><td>&quot;2015&quot;</td><td>&quot;IRE&quot;</td><td>&quot;Ireland&quot;</td><td>&quot;6ef13460&quot;</td></tr><tr><td>&hellip;</td><td>&hellip;</td><td>&hellip;</td><td>&hellip;</td><td>&hellip;</td><td>&hellip;</td><td>&hellip;</td><td>&hellip;</td><td>&hellip;</td><td>&hellip;</td><td>&hellip;</td></tr><tr><td>&quot;Zulqarnain Haider&quot;</td><td>4</td><td>4.0</td><td>1.0</td><td>1.0</td><td>0.0</td><td>0.25</td><td>&quot;2019&quot;</td><td>&quot;ESP&quot;</td><td>&quot;Spain&quot;</td><td>&quot;2d46e8ed&quot;</td></tr><tr><td>&quot;Zulqarnain Haider&quot;</td><td>1</td><td>1.0</td><td>1.0</td><td>1.0</td><td>0.0</td><td>0.2</td><td>&quot;2019/20&quot;</td><td>&quot;ESP&quot;</td><td>&quot;Pakistan&quot;</td><td>&quot;ee9bdbc8&quot;</td></tr><tr><td>&quot;Zulqarnain Haider&quot;</td><td>1</td><td>1.0</td><td>1.0</td><td>1.0</td><td>0.0</td><td>0.2</td><td>&quot;2019/20&quot;</td><td>&quot;ESP&quot;</td><td>&quot;Spain&quot;</td><td>&quot;2d46e8ed&quot;</td></tr><tr><td>&quot;Zulqarnain Haider&quot;</td><td>6</td><td>6.0</td><td>1.0</td><td>1.0</td><td>0.0</td><td>0.090909</td><td>&quot;2022&quot;</td><td>&quot;ESP&quot;</td><td>&quot;Pakistan&quot;</td><td>&quot;ee9bdbc8&quot;</td></tr><tr><td>&quot;Zulqarnain Haider&quot;</td><td>6</td><td>6.0</td><td>1.0</td><td>1.0</td><td>0.0</td><td>0.090909</td><td>&quot;2022&quot;</td><td>&quot;ESP&quot;</td><td>&quot;Spain&quot;</td><td>&quot;2d46e8ed&quot;</td></tr></tbody></table></div>"
      ],
      "text/plain": [
       "shape: (10_606, 11)\n",
       "┌───────────────────┬─────┬──────┬─────┬───┬─────────┬─────────┬───────────────┬───────────┐\n",
       "│ Player            ┆ Mat ┆ Inns ┆ Dis ┆ … ┆ Season  ┆ Country ┆ Country_right ┆ player_id │\n",
       "│ ---               ┆ --- ┆ ---  ┆ --- ┆   ┆ ---     ┆ ---     ┆ ---           ┆ ---       │\n",
       "│ str               ┆ i64 ┆ f64  ┆ f64 ┆   ┆ str     ┆ str     ┆ str           ┆ str       │\n",
       "╞═══════════════════╪═════╪══════╪═════╪═══╪═════════╪═════════╪═══════════════╪═══════════╡\n",
       "│ A Andrews         ┆ 3   ┆ 3.0  ┆ 4.0 ┆ … ┆ 2021/22 ┆ SUI     ┆ Switzerland   ┆ 1d45c01a  │\n",
       "│ A Andrews         ┆ 4   ┆ 4.0  ┆ 7.0 ┆ … ┆ 2022    ┆ SUI     ┆ Switzerland   ┆ 1d45c01a  │\n",
       "│ A Ashok           ┆ 1   ┆ 1.0  ┆ 0.0 ┆ … ┆ 2023    ┆ NZ      ┆ New Zealand   ┆ 321be7e3  │\n",
       "│ A Athanaze        ┆ 4   ┆ 4.0  ┆ 2.0 ┆ … ┆ 2024    ┆ WI      ┆ West Indies   ┆ 58c2fac4  │\n",
       "│ A Balbirnie       ┆ 7   ┆ 5.0  ┆ 1.0 ┆ … ┆ 2015    ┆ IRE     ┆ Ireland       ┆ 6ef13460  │\n",
       "│ …                 ┆ …   ┆ …    ┆ …   ┆ … ┆ …       ┆ …       ┆ …             ┆ …         │\n",
       "│ Zulqarnain Haider ┆ 4   ┆ 4.0  ┆ 1.0 ┆ … ┆ 2019    ┆ ESP     ┆ Spain         ┆ 2d46e8ed  │\n",
       "│ Zulqarnain Haider ┆ 1   ┆ 1.0  ┆ 1.0 ┆ … ┆ 2019/20 ┆ ESP     ┆ Pakistan      ┆ ee9bdbc8  │\n",
       "│ Zulqarnain Haider ┆ 1   ┆ 1.0  ┆ 1.0 ┆ … ┆ 2019/20 ┆ ESP     ┆ Spain         ┆ 2d46e8ed  │\n",
       "│ Zulqarnain Haider ┆ 6   ┆ 6.0  ┆ 1.0 ┆ … ┆ 2022    ┆ ESP     ┆ Pakistan      ┆ ee9bdbc8  │\n",
       "│ Zulqarnain Haider ┆ 6   ┆ 6.0  ┆ 1.0 ┆ … ┆ 2022    ┆ ESP     ┆ Spain         ┆ 2d46e8ed  │\n",
       "└───────────────────┴─────┴──────┴─────┴───┴─────────┴─────────┴───────────────┴───────────┘"
      ]
     },
     "execution_count": 31,
     "metadata": {},
     "output_type": "execute_result"
    }
   ],
   "source": [
    "fielding_data = fielding_data.join(players_data, on=\"Player\", how=\"inner\")\n",
    "fielding_data"
   ]
  },
  {
   "cell_type": "code",
   "execution_count": 32,
   "metadata": {},
   "outputs": [],
   "source": [
    "fielding_data.write_csv(r'D:\\github\\localt20\\processedData\\fielding.csv')"
   ]
  },
  {
   "cell_type": "code",
   "execution_count": null,
   "metadata": {},
   "outputs": [],
   "source": []
  }
 ],
 "metadata": {
  "kernelspec": {
   "display_name": "eda",
   "language": "python",
   "name": "python3"
  },
  "language_info": {
   "codemirror_mode": {
    "name": "ipython",
    "version": 3
   },
   "file_extension": ".py",
   "mimetype": "text/x-python",
   "name": "python",
   "nbconvert_exporter": "python",
   "pygments_lexer": "ipython3",
   "version": "3.8.19"
  }
 },
 "nbformat": 4,
 "nbformat_minor": 2
}
