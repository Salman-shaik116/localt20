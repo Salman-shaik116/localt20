{
 "cells": [
  {
   "cell_type": "code",
   "execution_count": 22,
   "metadata": {},
   "outputs": [
    {
     "data": {
      "text/html": [
       "<div><style>\n",
       ".dataframe > thead > tr,\n",
       ".dataframe > tbody > tr {\n",
       "  text-align: right;\n",
       "  white-space: pre-wrap;\n",
       "}\n",
       "</style>\n",
       "<small>shape: (11_221, 15)</small><table border=\"1\" class=\"dataframe\"><thead><tr><th>Player</th><th>Mat</th><th>Inns</th><th>NO</th><th>Runs</th><th>HS</th><th>Ave</th><th>BF</th><th>SR</th><th>100</th><th>50</th><th>0</th><th>4s</th><th>6s</th><th>Season</th></tr><tr><td>str</td><td>i64</td><td>str</td><td>str</td><td>str</td><td>str</td><td>str</td><td>str</td><td>str</td><td>str</td><td>str</td><td>str</td><td>str</td><td>str</td><td>str</td></tr></thead><tbody><tr><td>&quot;Zulqarnain Haider (ESP)&quot;</td><td>4</td><td>&quot;1&quot;</td><td>&quot;0&quot;</td><td>&quot;0&quot;</td><td>&quot;0&quot;</td><td>&quot;0.00&quot;</td><td>&quot;0&quot;</td><td>&quot;-&quot;</td><td>&quot;0&quot;</td><td>&quot;0&quot;</td><td>&quot;1&quot;</td><td>&quot;0&quot;</td><td>&quot;0&quot;</td><td>&quot;2019&quot;</td></tr><tr><td>&quot;Zulqarnain Haider (ESP)&quot;</td><td>6</td><td>&quot;3&quot;</td><td>&quot;1&quot;</td><td>&quot;8&quot;</td><td>&quot;4&quot;</td><td>&quot;4.00&quot;</td><td>&quot;12&quot;</td><td>&quot;66.66&quot;</td><td>&quot;0&quot;</td><td>&quot;0&quot;</td><td>&quot;0&quot;</td><td>&quot;0&quot;</td><td>&quot;0&quot;</td><td>&quot;2022&quot;</td></tr><tr><td>&quot;Zulqarnain Haider (ESP)&quot;</td><td>1</td><td>&quot;-&quot;</td><td>&quot;-&quot;</td><td>&quot;-&quot;</td><td>&quot;-&quot;</td><td>&quot;-&quot;</td><td>&quot;-&quot;</td><td>&quot;-&quot;</td><td>&quot;-&quot;</td><td>&quot;-&quot;</td><td>&quot;-&quot;</td><td>&quot;-&quot;</td><td>&quot;-&quot;</td><td>&quot;2019/20&quot;</td></tr><tr><td>&quot;Zulfiqar Ali Shah (PORT)&quot;</td><td>1</td><td>&quot;1&quot;</td><td>&quot;0&quot;</td><td>&quot;12&quot;</td><td>&quot;12&quot;</td><td>&quot;12.00&quot;</td><td>&quot;9&quot;</td><td>&quot;133.33&quot;</td><td>&quot;0&quot;</td><td>&quot;0&quot;</td><td>&quot;0&quot;</td><td>&quot;0&quot;</td><td>&quot;1&quot;</td><td>&quot;2021&quot;</td></tr><tr><td>&quot;Zuhair Muhammad (KSA)&quot;</td><td>2</td><td>&quot;2&quot;</td><td>&quot;0&quot;</td><td>&quot;7&quot;</td><td>&quot;5&quot;</td><td>&quot;3.50&quot;</td><td>&quot;16&quot;</td><td>&quot;43.75&quot;</td><td>&quot;0&quot;</td><td>&quot;0&quot;</td><td>&quot;0&quot;</td><td>&quot;0&quot;</td><td>&quot;0&quot;</td><td>&quot;2023/24&quot;</td></tr><tr><td>&hellip;</td><td>&hellip;</td><td>&hellip;</td><td>&hellip;</td><td>&hellip;</td><td>&hellip;</td><td>&hellip;</td><td>&hellip;</td><td>&hellip;</td><td>&hellip;</td><td>&hellip;</td><td>&hellip;</td><td>&hellip;</td><td>&hellip;</td><td>&hellip;</td></tr><tr><td>&quot;A Ahmadhel (BUL)&quot;</td><td>2</td><td>&quot;-&quot;</td><td>&quot;-&quot;</td><td>&quot;-&quot;</td><td>&quot;-&quot;</td><td>&quot;-&quot;</td><td>&quot;-&quot;</td><td>&quot;-&quot;</td><td>&quot;-&quot;</td><td>&quot;-&quot;</td><td>&quot;-&quot;</td><td>&quot;-&quot;</td><td>&quot;-&quot;</td><td>&quot;2023&quot;</td></tr><tr><td>&quot;A Ahmadhel (BUL)&quot;</td><td>3</td><td>&quot;2&quot;</td><td>&quot;0&quot;</td><td>&quot;16&quot;</td><td>&quot;15&quot;</td><td>&quot;8.00&quot;</td><td>&quot;16&quot;</td><td>&quot;100.0&quot;</td><td>&quot;0&quot;</td><td>&quot;0&quot;</td><td>&quot;0&quot;</td><td>&quot;2&quot;</td><td>&quot;0&quot;</td><td>&quot;2019/20&quot;</td></tr><tr><td>&quot;A Ahmadhel (BUL)&quot;</td><td>3</td><td>&quot;3&quot;</td><td>&quot;0&quot;</td><td>&quot;5&quot;</td><td>&quot;4&quot;</td><td>&quot;1.66&quot;</td><td>&quot;13&quot;</td><td>&quot;38.46&quot;</td><td>&quot;0&quot;</td><td>&quot;0&quot;</td><td>&quot;1&quot;</td><td>&quot;1&quot;</td><td>&quot;0&quot;</td><td>&quot;2021&quot;</td></tr><tr><td>&quot;A Ahmadhel (BUL)&quot;</td><td>2</td><td>&quot;1&quot;</td><td>&quot;0&quot;</td><td>&quot;2&quot;</td><td>&quot;2&quot;</td><td>&quot;2.00&quot;</td><td>&quot;7&quot;</td><td>&quot;28.57&quot;</td><td>&quot;0&quot;</td><td>&quot;0&quot;</td><td>&quot;0&quot;</td><td>&quot;0&quot;</td><td>&quot;0&quot;</td><td>&quot;2020/21&quot;</td></tr><tr><td>&quot;A Ahmadhel (BUL)&quot;</td><td>1</td><td>&quot;1&quot;</td><td>&quot;1&quot;</td><td>&quot;8&quot;</td><td>&quot;8*&quot;</td><td>&quot;-&quot;</td><td>&quot;8&quot;</td><td>&quot;100.0&quot;</td><td>&quot;0&quot;</td><td>&quot;0&quot;</td><td>&quot;0&quot;</td><td>&quot;0&quot;</td><td>&quot;0&quot;</td><td>&quot;2020&quot;</td></tr></tbody></table></div>"
      ],
      "text/plain": [
       "shape: (11_221, 15)\n",
       "┌──────────────────────────┬─────┬──────┬─────┬───┬─────┬─────┬─────┬─────────┐\n",
       "│ Player                   ┆ Mat ┆ Inns ┆ NO  ┆ … ┆ 0   ┆ 4s  ┆ 6s  ┆ Season  │\n",
       "│ ---                      ┆ --- ┆ ---  ┆ --- ┆   ┆ --- ┆ --- ┆ --- ┆ ---     │\n",
       "│ str                      ┆ i64 ┆ str  ┆ str ┆   ┆ str ┆ str ┆ str ┆ str     │\n",
       "╞══════════════════════════╪═════╪══════╪═════╪═══╪═════╪═════╪═════╪═════════╡\n",
       "│ Zulqarnain Haider (ESP)  ┆ 4   ┆ 1    ┆ 0   ┆ … ┆ 1   ┆ 0   ┆ 0   ┆ 2019    │\n",
       "│ Zulqarnain Haider (ESP)  ┆ 6   ┆ 3    ┆ 1   ┆ … ┆ 0   ┆ 0   ┆ 0   ┆ 2022    │\n",
       "│ Zulqarnain Haider (ESP)  ┆ 1   ┆ -    ┆ -   ┆ … ┆ -   ┆ -   ┆ -   ┆ 2019/20 │\n",
       "│ Zulfiqar Ali Shah (PORT) ┆ 1   ┆ 1    ┆ 0   ┆ … ┆ 0   ┆ 0   ┆ 1   ┆ 2021    │\n",
       "│ Zuhair Muhammad (KSA)    ┆ 2   ┆ 2    ┆ 0   ┆ … ┆ 0   ┆ 0   ┆ 0   ┆ 2023/24 │\n",
       "│ …                        ┆ …   ┆ …    ┆ …   ┆ … ┆ …   ┆ …   ┆ …   ┆ …       │\n",
       "│ A Ahmadhel (BUL)         ┆ 2   ┆ -    ┆ -   ┆ … ┆ -   ┆ -   ┆ -   ┆ 2023    │\n",
       "│ A Ahmadhel (BUL)         ┆ 3   ┆ 2    ┆ 0   ┆ … ┆ 0   ┆ 2   ┆ 0   ┆ 2019/20 │\n",
       "│ A Ahmadhel (BUL)         ┆ 3   ┆ 3    ┆ 0   ┆ … ┆ 1   ┆ 1   ┆ 0   ┆ 2021    │\n",
       "│ A Ahmadhel (BUL)         ┆ 2   ┆ 1    ┆ 0   ┆ … ┆ 0   ┆ 0   ┆ 0   ┆ 2020/21 │\n",
       "│ A Ahmadhel (BUL)         ┆ 1   ┆ 1    ┆ 1   ┆ … ┆ 0   ┆ 0   ┆ 0   ┆ 2020    │\n",
       "└──────────────────────────┴─────┴──────┴─────┴───┴─────┴─────┴─────┴─────────┘"
      ]
     },
     "execution_count": 22,
     "metadata": {},
     "output_type": "execute_result"
    }
   ],
   "source": [
    "import os\n",
    "import polars as pl\n",
    "\n",
    "# Specify the directory where your CSV files are located\n",
    "directory = r'D:\\github\\localt20\\data'\n",
    "\n",
    "batting_data = pl.read_csv(os.path.join(directory, 't20_batting_stats.csv'))\n",
    "batting_data"
   ]
  },
  {
   "cell_type": "code",
   "execution_count": 23,
   "metadata": {},
   "outputs": [
    {
     "data": {
      "text/html": [
       "<div><style>\n",
       ".dataframe > thead > tr,\n",
       ".dataframe > tbody > tr {\n",
       "  text-align: right;\n",
       "  white-space: pre-wrap;\n",
       "}\n",
       "</style>\n",
       "<small>shape: (11_221, 7)</small><table border=\"1\" class=\"dataframe\"><thead><tr><th>Player</th><th>Season</th><th>Mat</th><th>Inns</th><th>Runs</th><th>SR</th><th>Ave</th></tr><tr><td>str</td><td>str</td><td>i64</td><td>str</td><td>str</td><td>str</td><td>str</td></tr></thead><tbody><tr><td>&quot;A Ahmadhel (BUL)&quot;</td><td>&quot;2019/20&quot;</td><td>3</td><td>&quot;2&quot;</td><td>&quot;16&quot;</td><td>&quot;100.0&quot;</td><td>&quot;8.00&quot;</td></tr><tr><td>&quot;A Ahmadhel (BUL)&quot;</td><td>&quot;2020&quot;</td><td>1</td><td>&quot;1&quot;</td><td>&quot;8&quot;</td><td>&quot;100.0&quot;</td><td>&quot;-&quot;</td></tr><tr><td>&quot;A Ahmadhel (BUL)&quot;</td><td>&quot;2020/21&quot;</td><td>2</td><td>&quot;1&quot;</td><td>&quot;2&quot;</td><td>&quot;28.57&quot;</td><td>&quot;2.00&quot;</td></tr><tr><td>&quot;A Ahmadhel (BUL)&quot;</td><td>&quot;2021&quot;</td><td>3</td><td>&quot;3&quot;</td><td>&quot;5&quot;</td><td>&quot;38.46&quot;</td><td>&quot;1.66&quot;</td></tr><tr><td>&quot;A Ahmadhel (BUL)&quot;</td><td>&quot;2023&quot;</td><td>2</td><td>&quot;-&quot;</td><td>&quot;-&quot;</td><td>&quot;-&quot;</td><td>&quot;-&quot;</td></tr><tr><td>&hellip;</td><td>&hellip;</td><td>&hellip;</td><td>&hellip;</td><td>&hellip;</td><td>&hellip;</td><td>&hellip;</td></tr><tr><td>&quot;Zuhair Muhammad (KSA)&quot;</td><td>&quot;2023/24&quot;</td><td>2</td><td>&quot;2&quot;</td><td>&quot;7&quot;</td><td>&quot;43.75&quot;</td><td>&quot;3.50&quot;</td></tr><tr><td>&quot;Zulfiqar Ali Shah (PORT)&quot;</td><td>&quot;2021&quot;</td><td>1</td><td>&quot;1&quot;</td><td>&quot;12&quot;</td><td>&quot;133.33&quot;</td><td>&quot;12.00&quot;</td></tr><tr><td>&quot;Zulqarnain Haider (ESP)&quot;</td><td>&quot;2019&quot;</td><td>4</td><td>&quot;1&quot;</td><td>&quot;0&quot;</td><td>&quot;-&quot;</td><td>&quot;0.00&quot;</td></tr><tr><td>&quot;Zulqarnain Haider (ESP)&quot;</td><td>&quot;2019/20&quot;</td><td>1</td><td>&quot;-&quot;</td><td>&quot;-&quot;</td><td>&quot;-&quot;</td><td>&quot;-&quot;</td></tr><tr><td>&quot;Zulqarnain Haider (ESP)&quot;</td><td>&quot;2022&quot;</td><td>6</td><td>&quot;3&quot;</td><td>&quot;8&quot;</td><td>&quot;66.66&quot;</td><td>&quot;4.00&quot;</td></tr></tbody></table></div>"
      ],
      "text/plain": [
       "shape: (11_221, 7)\n",
       "┌──────────────────────────┬─────────┬─────┬──────┬──────┬────────┬───────┐\n",
       "│ Player                   ┆ Season  ┆ Mat ┆ Inns ┆ Runs ┆ SR     ┆ Ave   │\n",
       "│ ---                      ┆ ---     ┆ --- ┆ ---  ┆ ---  ┆ ---    ┆ ---   │\n",
       "│ str                      ┆ str     ┆ i64 ┆ str  ┆ str  ┆ str    ┆ str   │\n",
       "╞══════════════════════════╪═════════╪═════╪══════╪══════╪════════╪═══════╡\n",
       "│ A Ahmadhel (BUL)         ┆ 2019/20 ┆ 3   ┆ 2    ┆ 16   ┆ 100.0  ┆ 8.00  │\n",
       "│ A Ahmadhel (BUL)         ┆ 2020    ┆ 1   ┆ 1    ┆ 8    ┆ 100.0  ┆ -     │\n",
       "│ A Ahmadhel (BUL)         ┆ 2020/21 ┆ 2   ┆ 1    ┆ 2    ┆ 28.57  ┆ 2.00  │\n",
       "│ A Ahmadhel (BUL)         ┆ 2021    ┆ 3   ┆ 3    ┆ 5    ┆ 38.46  ┆ 1.66  │\n",
       "│ A Ahmadhel (BUL)         ┆ 2023    ┆ 2   ┆ -    ┆ -    ┆ -      ┆ -     │\n",
       "│ …                        ┆ …       ┆ …   ┆ …    ┆ …    ┆ …      ┆ …     │\n",
       "│ Zuhair Muhammad (KSA)    ┆ 2023/24 ┆ 2   ┆ 2    ┆ 7    ┆ 43.75  ┆ 3.50  │\n",
       "│ Zulfiqar Ali Shah (PORT) ┆ 2021    ┆ 1   ┆ 1    ┆ 12   ┆ 133.33 ┆ 12.00 │\n",
       "│ Zulqarnain Haider (ESP)  ┆ 2019    ┆ 4   ┆ 1    ┆ 0    ┆ -      ┆ 0.00  │\n",
       "│ Zulqarnain Haider (ESP)  ┆ 2019/20 ┆ 1   ┆ -    ┆ -    ┆ -      ┆ -     │\n",
       "│ Zulqarnain Haider (ESP)  ┆ 2022    ┆ 6   ┆ 3    ┆ 8    ┆ 66.66  ┆ 4.00  │\n",
       "└──────────────────────────┴─────────┴─────┴──────┴──────┴────────┴───────┘"
      ]
     },
     "execution_count": 23,
     "metadata": {},
     "output_type": "execute_result"
    }
   ],
   "source": [
    "batting_data = batting_data.select([\"Player\",\"Season\",\"Mat\",\"Inns\",\"Runs\",\"SR\",\"Ave\"]).sort([\"Player\",\"Season\"])\n",
    "batting_data"
   ]
  },
  {
   "cell_type": "code",
   "execution_count": 24,
   "metadata": {},
   "outputs": [
    {
     "data": {
      "text/html": [
       "<div><style>\n",
       ".dataframe > thead > tr,\n",
       ".dataframe > tbody > tr {\n",
       "  text-align: right;\n",
       "  white-space: pre-wrap;\n",
       "}\n",
       "</style>\n",
       "<small>shape: (11_221, 7)</small><table border=\"1\" class=\"dataframe\"><thead><tr><th>Player</th><th>Season</th><th>Mat</th><th>Inns</th><th>Runs</th><th>SR</th><th>Ave</th></tr><tr><td>str</td><td>str</td><td>i64</td><td>f64</td><td>f64</td><td>f64</td><td>f64</td></tr></thead><tbody><tr><td>&quot;A Ahmadhel (BUL)&quot;</td><td>&quot;2019/20&quot;</td><td>3</td><td>2.0</td><td>16.0</td><td>100.0</td><td>8.0</td></tr><tr><td>&quot;A Ahmadhel (BUL)&quot;</td><td>&quot;2020&quot;</td><td>1</td><td>1.0</td><td>8.0</td><td>100.0</td><td>8.0</td></tr><tr><td>&quot;A Ahmadhel (BUL)&quot;</td><td>&quot;2020/21&quot;</td><td>2</td><td>1.0</td><td>2.0</td><td>28.57</td><td>2.0</td></tr><tr><td>&quot;A Ahmadhel (BUL)&quot;</td><td>&quot;2021&quot;</td><td>3</td><td>3.0</td><td>5.0</td><td>38.46</td><td>1.66</td></tr><tr><td>&quot;A Ahmadhel (BUL)&quot;</td><td>&quot;2023&quot;</td><td>2</td><td>0.0</td><td>0.0</td><td>0.0</td><td>0.0</td></tr><tr><td>&hellip;</td><td>&hellip;</td><td>&hellip;</td><td>&hellip;</td><td>&hellip;</td><td>&hellip;</td><td>&hellip;</td></tr><tr><td>&quot;Zuhair Muhammad (KSA)&quot;</td><td>&quot;2023/24&quot;</td><td>2</td><td>2.0</td><td>7.0</td><td>43.75</td><td>3.5</td></tr><tr><td>&quot;Zulfiqar Ali Shah (PORT)&quot;</td><td>&quot;2021&quot;</td><td>1</td><td>1.0</td><td>12.0</td><td>133.33</td><td>12.0</td></tr><tr><td>&quot;Zulqarnain Haider (ESP)&quot;</td><td>&quot;2019&quot;</td><td>4</td><td>1.0</td><td>0.0</td><td>0.0</td><td>0.0</td></tr><tr><td>&quot;Zulqarnain Haider (ESP)&quot;</td><td>&quot;2019/20&quot;</td><td>1</td><td>0.0</td><td>0.0</td><td>0.0</td><td>0.0</td></tr><tr><td>&quot;Zulqarnain Haider (ESP)&quot;</td><td>&quot;2022&quot;</td><td>6</td><td>3.0</td><td>8.0</td><td>66.66</td><td>4.0</td></tr></tbody></table></div>"
      ],
      "text/plain": [
       "shape: (11_221, 7)\n",
       "┌──────────────────────────┬─────────┬─────┬──────┬──────┬────────┬──────┐\n",
       "│ Player                   ┆ Season  ┆ Mat ┆ Inns ┆ Runs ┆ SR     ┆ Ave  │\n",
       "│ ---                      ┆ ---     ┆ --- ┆ ---  ┆ ---  ┆ ---    ┆ ---  │\n",
       "│ str                      ┆ str     ┆ i64 ┆ f64  ┆ f64  ┆ f64    ┆ f64  │\n",
       "╞══════════════════════════╪═════════╪═════╪══════╪══════╪════════╪══════╡\n",
       "│ A Ahmadhel (BUL)         ┆ 2019/20 ┆ 3   ┆ 2.0  ┆ 16.0 ┆ 100.0  ┆ 8.0  │\n",
       "│ A Ahmadhel (BUL)         ┆ 2020    ┆ 1   ┆ 1.0  ┆ 8.0  ┆ 100.0  ┆ 8.0  │\n",
       "│ A Ahmadhel (BUL)         ┆ 2020/21 ┆ 2   ┆ 1.0  ┆ 2.0  ┆ 28.57  ┆ 2.0  │\n",
       "│ A Ahmadhel (BUL)         ┆ 2021    ┆ 3   ┆ 3.0  ┆ 5.0  ┆ 38.46  ┆ 1.66 │\n",
       "│ A Ahmadhel (BUL)         ┆ 2023    ┆ 2   ┆ 0.0  ┆ 0.0  ┆ 0.0    ┆ 0.0  │\n",
       "│ …                        ┆ …       ┆ …   ┆ …    ┆ …    ┆ …      ┆ …    │\n",
       "│ Zuhair Muhammad (KSA)    ┆ 2023/24 ┆ 2   ┆ 2.0  ┆ 7.0  ┆ 43.75  ┆ 3.5  │\n",
       "│ Zulfiqar Ali Shah (PORT) ┆ 2021    ┆ 1   ┆ 1.0  ┆ 12.0 ┆ 133.33 ┆ 12.0 │\n",
       "│ Zulqarnain Haider (ESP)  ┆ 2019    ┆ 4   ┆ 1.0  ┆ 0.0  ┆ 0.0    ┆ 0.0  │\n",
       "│ Zulqarnain Haider (ESP)  ┆ 2019/20 ┆ 1   ┆ 0.0  ┆ 0.0  ┆ 0.0    ┆ 0.0  │\n",
       "│ Zulqarnain Haider (ESP)  ┆ 2022    ┆ 6   ┆ 3.0  ┆ 8.0  ┆ 66.66  ┆ 4.0  │\n",
       "└──────────────────────────┴─────────┴─────┴──────┴──────┴────────┴──────┘"
      ]
     },
     "execution_count": 24,
     "metadata": {},
     "output_type": "execute_result"
    }
   ],
   "source": [
    "batting_data = batting_data.with_columns(pl.col(\"SR\").str.replace(\"-\",pl.lit('0')).cast(pl.Float64))\n",
    "batting_data = batting_data.with_columns(pl.col(\"Inns\").str.replace(\"-\",pl.lit('0')).cast(pl.Float64))\n",
    "batting_data = batting_data.with_columns(pl.col(\"Runs\").str.replace(\"-\",pl.lit('0')).cast(pl.Float64))\n",
    "batting_data = batting_data.with_columns(pl.col(\"Ave\").str.replace(\"-\",pl.col('Runs')/pl.col(\"Inns\")).cast(pl.Float64).fill_nan(0).round(2))\n",
    "batting_data"
   ]
  },
  {
   "cell_type": "code",
   "execution_count": 25,
   "metadata": {},
   "outputs": [
    {
     "data": {
      "text/html": [
       "<div><style>\n",
       ".dataframe > thead > tr,\n",
       ".dataframe > tbody > tr {\n",
       "  text-align: right;\n",
       "  white-space: pre-wrap;\n",
       "}\n",
       "</style>\n",
       "<small>shape: (11_221, 8)</small><table border=\"1\" class=\"dataframe\"><thead><tr><th>Player</th><th>Season</th><th>Mat</th><th>Inns</th><th>Runs</th><th>SR</th><th>Ave</th><th>Country</th></tr><tr><td>str</td><td>str</td><td>i64</td><td>f64</td><td>f64</td><td>f64</td><td>f64</td><td>str</td></tr></thead><tbody><tr><td>&quot;A Ahmadhel&quot;</td><td>&quot;2019/20&quot;</td><td>3</td><td>2.0</td><td>16.0</td><td>100.0</td><td>8.0</td><td>&quot;BUL)&quot;</td></tr><tr><td>&quot;A Ahmadhel&quot;</td><td>&quot;2020&quot;</td><td>1</td><td>1.0</td><td>8.0</td><td>100.0</td><td>8.0</td><td>&quot;BUL)&quot;</td></tr><tr><td>&quot;A Ahmadhel&quot;</td><td>&quot;2020/21&quot;</td><td>2</td><td>1.0</td><td>2.0</td><td>28.57</td><td>2.0</td><td>&quot;BUL)&quot;</td></tr><tr><td>&quot;A Ahmadhel&quot;</td><td>&quot;2021&quot;</td><td>3</td><td>3.0</td><td>5.0</td><td>38.46</td><td>1.66</td><td>&quot;BUL)&quot;</td></tr><tr><td>&quot;A Ahmadhel&quot;</td><td>&quot;2023&quot;</td><td>2</td><td>0.0</td><td>0.0</td><td>0.0</td><td>0.0</td><td>&quot;BUL)&quot;</td></tr><tr><td>&hellip;</td><td>&hellip;</td><td>&hellip;</td><td>&hellip;</td><td>&hellip;</td><td>&hellip;</td><td>&hellip;</td><td>&hellip;</td></tr><tr><td>&quot;Zuhair Muhammad&quot;</td><td>&quot;2023/24&quot;</td><td>2</td><td>2.0</td><td>7.0</td><td>43.75</td><td>3.5</td><td>&quot;KSA)&quot;</td></tr><tr><td>&quot;Zulfiqar Ali Shah&quot;</td><td>&quot;2021&quot;</td><td>1</td><td>1.0</td><td>12.0</td><td>133.33</td><td>12.0</td><td>&quot;PORT)&quot;</td></tr><tr><td>&quot;Zulqarnain Haider&quot;</td><td>&quot;2019&quot;</td><td>4</td><td>1.0</td><td>0.0</td><td>0.0</td><td>0.0</td><td>&quot;ESP)&quot;</td></tr><tr><td>&quot;Zulqarnain Haider&quot;</td><td>&quot;2019/20&quot;</td><td>1</td><td>0.0</td><td>0.0</td><td>0.0</td><td>0.0</td><td>&quot;ESP)&quot;</td></tr><tr><td>&quot;Zulqarnain Haider&quot;</td><td>&quot;2022&quot;</td><td>6</td><td>3.0</td><td>8.0</td><td>66.66</td><td>4.0</td><td>&quot;ESP)&quot;</td></tr></tbody></table></div>"
      ],
      "text/plain": [
       "shape: (11_221, 8)\n",
       "┌───────────────────┬─────────┬─────┬──────┬──────┬────────┬──────┬─────────┐\n",
       "│ Player            ┆ Season  ┆ Mat ┆ Inns ┆ Runs ┆ SR     ┆ Ave  ┆ Country │\n",
       "│ ---               ┆ ---     ┆ --- ┆ ---  ┆ ---  ┆ ---    ┆ ---  ┆ ---     │\n",
       "│ str               ┆ str     ┆ i64 ┆ f64  ┆ f64  ┆ f64    ┆ f64  ┆ str     │\n",
       "╞═══════════════════╪═════════╪═════╪══════╪══════╪════════╪══════╪═════════╡\n",
       "│ A Ahmadhel        ┆ 2019/20 ┆ 3   ┆ 2.0  ┆ 16.0 ┆ 100.0  ┆ 8.0  ┆ BUL)    │\n",
       "│ A Ahmadhel        ┆ 2020    ┆ 1   ┆ 1.0  ┆ 8.0  ┆ 100.0  ┆ 8.0  ┆ BUL)    │\n",
       "│ A Ahmadhel        ┆ 2020/21 ┆ 2   ┆ 1.0  ┆ 2.0  ┆ 28.57  ┆ 2.0  ┆ BUL)    │\n",
       "│ A Ahmadhel        ┆ 2021    ┆ 3   ┆ 3.0  ┆ 5.0  ┆ 38.46  ┆ 1.66 ┆ BUL)    │\n",
       "│ A Ahmadhel        ┆ 2023    ┆ 2   ┆ 0.0  ┆ 0.0  ┆ 0.0    ┆ 0.0  ┆ BUL)    │\n",
       "│ …                 ┆ …       ┆ …   ┆ …    ┆ …    ┆ …      ┆ …    ┆ …       │\n",
       "│ Zuhair Muhammad   ┆ 2023/24 ┆ 2   ┆ 2.0  ┆ 7.0  ┆ 43.75  ┆ 3.5  ┆ KSA)    │\n",
       "│ Zulfiqar Ali Shah ┆ 2021    ┆ 1   ┆ 1.0  ┆ 12.0 ┆ 133.33 ┆ 12.0 ┆ PORT)   │\n",
       "│ Zulqarnain Haider ┆ 2019    ┆ 4   ┆ 1.0  ┆ 0.0  ┆ 0.0    ┆ 0.0  ┆ ESP)    │\n",
       "│ Zulqarnain Haider ┆ 2019/20 ┆ 1   ┆ 0.0  ┆ 0.0  ┆ 0.0    ┆ 0.0  ┆ ESP)    │\n",
       "│ Zulqarnain Haider ┆ 2022    ┆ 6   ┆ 3.0  ┆ 8.0  ┆ 66.66  ┆ 4.0  ┆ ESP)    │\n",
       "└───────────────────┴─────────┴─────┴──────┴──────┴────────┴──────┴─────────┘"
      ]
     },
     "execution_count": 25,
     "metadata": {},
     "output_type": "execute_result"
    }
   ],
   "source": [
    "batting_data = batting_data.with_columns(batting_data['Player'].str.split_exact(' (', n=1).struct.rename_fields(['Player', 'Country']).alias('Player').to_frame().unnest('Player'))\n",
    "batting_data"
   ]
  },
  {
   "cell_type": "code",
   "execution_count": 26,
   "metadata": {},
   "outputs": [
    {
     "data": {
      "text/html": [
       "<div><style>\n",
       ".dataframe > thead > tr,\n",
       ".dataframe > tbody > tr {\n",
       "  text-align: right;\n",
       "  white-space: pre-wrap;\n",
       "}\n",
       "</style>\n",
       "<small>shape: (11_221, 8)</small><table border=\"1\" class=\"dataframe\"><thead><tr><th>Player</th><th>Season</th><th>Mat</th><th>Inns</th><th>Runs</th><th>SR</th><th>Ave</th><th>Country</th></tr><tr><td>str</td><td>str</td><td>i64</td><td>f64</td><td>f64</td><td>f64</td><td>f64</td><td>str</td></tr></thead><tbody><tr><td>&quot;A Ahmadhel&quot;</td><td>&quot;2019/20&quot;</td><td>3</td><td>2.0</td><td>16.0</td><td>100.0</td><td>8.0</td><td>&quot;BUL&quot;</td></tr><tr><td>&quot;A Ahmadhel&quot;</td><td>&quot;2020&quot;</td><td>1</td><td>1.0</td><td>8.0</td><td>100.0</td><td>8.0</td><td>&quot;BUL&quot;</td></tr><tr><td>&quot;A Ahmadhel&quot;</td><td>&quot;2020/21&quot;</td><td>2</td><td>1.0</td><td>2.0</td><td>28.57</td><td>2.0</td><td>&quot;BUL&quot;</td></tr><tr><td>&quot;A Ahmadhel&quot;</td><td>&quot;2021&quot;</td><td>3</td><td>3.0</td><td>5.0</td><td>38.46</td><td>1.66</td><td>&quot;BUL&quot;</td></tr><tr><td>&quot;A Ahmadhel&quot;</td><td>&quot;2023&quot;</td><td>2</td><td>0.0</td><td>0.0</td><td>0.0</td><td>0.0</td><td>&quot;BUL&quot;</td></tr><tr><td>&hellip;</td><td>&hellip;</td><td>&hellip;</td><td>&hellip;</td><td>&hellip;</td><td>&hellip;</td><td>&hellip;</td><td>&hellip;</td></tr><tr><td>&quot;Zuhair Muhammad&quot;</td><td>&quot;2023/24&quot;</td><td>2</td><td>2.0</td><td>7.0</td><td>43.75</td><td>3.5</td><td>&quot;KSA&quot;</td></tr><tr><td>&quot;Zulfiqar Ali Shah&quot;</td><td>&quot;2021&quot;</td><td>1</td><td>1.0</td><td>12.0</td><td>133.33</td><td>12.0</td><td>&quot;PORT&quot;</td></tr><tr><td>&quot;Zulqarnain Haider&quot;</td><td>&quot;2019&quot;</td><td>4</td><td>1.0</td><td>0.0</td><td>0.0</td><td>0.0</td><td>&quot;ESP&quot;</td></tr><tr><td>&quot;Zulqarnain Haider&quot;</td><td>&quot;2019/20&quot;</td><td>1</td><td>0.0</td><td>0.0</td><td>0.0</td><td>0.0</td><td>&quot;ESP&quot;</td></tr><tr><td>&quot;Zulqarnain Haider&quot;</td><td>&quot;2022&quot;</td><td>6</td><td>3.0</td><td>8.0</td><td>66.66</td><td>4.0</td><td>&quot;ESP&quot;</td></tr></tbody></table></div>"
      ],
      "text/plain": [
       "shape: (11_221, 8)\n",
       "┌───────────────────┬─────────┬─────┬──────┬──────┬────────┬──────┬─────────┐\n",
       "│ Player            ┆ Season  ┆ Mat ┆ Inns ┆ Runs ┆ SR     ┆ Ave  ┆ Country │\n",
       "│ ---               ┆ ---     ┆ --- ┆ ---  ┆ ---  ┆ ---    ┆ ---  ┆ ---     │\n",
       "│ str               ┆ str     ┆ i64 ┆ f64  ┆ f64  ┆ f64    ┆ f64  ┆ str     │\n",
       "╞═══════════════════╪═════════╪═════╪══════╪══════╪════════╪══════╪═════════╡\n",
       "│ A Ahmadhel        ┆ 2019/20 ┆ 3   ┆ 2.0  ┆ 16.0 ┆ 100.0  ┆ 8.0  ┆ BUL     │\n",
       "│ A Ahmadhel        ┆ 2020    ┆ 1   ┆ 1.0  ┆ 8.0  ┆ 100.0  ┆ 8.0  ┆ BUL     │\n",
       "│ A Ahmadhel        ┆ 2020/21 ┆ 2   ┆ 1.0  ┆ 2.0  ┆ 28.57  ┆ 2.0  ┆ BUL     │\n",
       "│ A Ahmadhel        ┆ 2021    ┆ 3   ┆ 3.0  ┆ 5.0  ┆ 38.46  ┆ 1.66 ┆ BUL     │\n",
       "│ A Ahmadhel        ┆ 2023    ┆ 2   ┆ 0.0  ┆ 0.0  ┆ 0.0    ┆ 0.0  ┆ BUL     │\n",
       "│ …                 ┆ …       ┆ …   ┆ …    ┆ …    ┆ …      ┆ …    ┆ …       │\n",
       "│ Zuhair Muhammad   ┆ 2023/24 ┆ 2   ┆ 2.0  ┆ 7.0  ┆ 43.75  ┆ 3.5  ┆ KSA     │\n",
       "│ Zulfiqar Ali Shah ┆ 2021    ┆ 1   ┆ 1.0  ┆ 12.0 ┆ 133.33 ┆ 12.0 ┆ PORT    │\n",
       "│ Zulqarnain Haider ┆ 2019    ┆ 4   ┆ 1.0  ┆ 0.0  ┆ 0.0    ┆ 0.0  ┆ ESP     │\n",
       "│ Zulqarnain Haider ┆ 2019/20 ┆ 1   ┆ 0.0  ┆ 0.0  ┆ 0.0    ┆ 0.0  ┆ ESP     │\n",
       "│ Zulqarnain Haider ┆ 2022    ┆ 6   ┆ 3.0  ┆ 8.0  ┆ 66.66  ┆ 4.0  ┆ ESP     │\n",
       "└───────────────────┴─────────┴─────┴──────┴──────┴────────┴──────┴─────────┘"
      ]
     },
     "execution_count": 26,
     "metadata": {},
     "output_type": "execute_result"
    }
   ],
   "source": [
    "batting_data = batting_data.with_columns(batting_data['Country'].str.replace(r'\\)', ''))\n",
    "batting_data"
   ]
  },
  {
   "cell_type": "code",
   "execution_count": 27,
   "metadata": {},
   "outputs": [],
   "source": [
    "import polars as pl\n",
    "\n",
    "batting_data = batting_data.with_columns(\n",
    "    ((pl.col(\"Inns\") * pl.col(\"Ave\")).cum_sum().over([\"Player\", \"Country\"]) / pl.col(\"Inns\").cum_sum().over([\"Player\", \"Country\"])).round(2).alias(\"Cum Ave\"),\n",
    "    (pl.col(\"Runs\").cum_sum().over([\"Player\", \"Country\"])).alias(\"Cum Runs Total\"),\n",
    "    (pl.col(\"Inns\").cum_sum().over([\"Player\", \"Country\"])).alias(\"Cum Inns Total\"),\n",
    "    (pl.col(\"SR\").cum_sum().over([\"Player\", \"Country\"]) / pl.col(\"Inns\").cum_count().over([\"Player\", \"Country\"])).alias(\"Cum SR\")\n",
    ")\n",
    "\n"
   ]
  },
  {
   "cell_type": "code",
   "execution_count": 28,
   "metadata": {},
   "outputs": [
    {
     "data": {
      "text/html": [
       "<div><style>\n",
       ".dataframe > thead > tr,\n",
       ".dataframe > tbody > tr {\n",
       "  text-align: right;\n",
       "  white-space: pre-wrap;\n",
       "}\n",
       "</style>\n",
       "<small>shape: (10, 12)</small><table border=\"1\" class=\"dataframe\"><thead><tr><th>Player</th><th>Season</th><th>Mat</th><th>Inns</th><th>Runs</th><th>SR</th><th>Ave</th><th>Country</th><th>Cum Ave</th><th>Cum Runs Total</th><th>Cum Inns Total</th><th>Cum SR</th></tr><tr><td>str</td><td>str</td><td>i64</td><td>f64</td><td>f64</td><td>f64</td><td>f64</td><td>str</td><td>f64</td><td>f64</td><td>f64</td><td>f64</td></tr></thead><tbody><tr><td>&quot;V Kohli&quot;</td><td>&quot;2015/16&quot;</td><td>15</td><td>14.0</td><td>669.0</td><td>140.54</td><td>95.57</td><td>&quot;IND&quot;</td><td>95.57</td><td>669.0</td><td>14.0</td><td>140.54</td></tr><tr><td>&quot;V Kohli&quot;</td><td>&quot;2016&quot;</td><td>2</td><td>1.0</td><td>16.0</td><td>177.77</td><td>16.0</td><td>&quot;IND&quot;</td><td>90.27</td><td>685.0</td><td>15.0</td><td>159.155</td></tr><tr><td>&quot;V Kohli&quot;</td><td>&quot;2016/17&quot;</td><td>3</td><td>3.0</td><td>52.0</td><td>115.55</td><td>17.33</td><td>&quot;IND&quot;</td><td>78.11</td><td>737.0</td><td>18.0</td><td>144.62</td></tr><tr><td>&quot;V Kohli&quot;</td><td>&quot;2017&quot;</td><td>2</td><td>2.0</td><td>121.0</td><td>159.21</td><td>60.5</td><td>&quot;IND&quot;</td><td>76.35</td><td>858.0</td><td>20.0</td><td>148.2675</td></tr><tr><td>&quot;V Kohli&quot;</td><td>&quot;2017/18&quot;</td><td>7</td><td>7.0</td><td>153.0</td><td>153.0</td><td>30.6</td><td>&quot;IND&quot;</td><td>64.49</td><td>1011.0</td><td>27.0</td><td>149.214</td></tr><tr><td>&quot;V Kohli&quot;</td><td>&quot;2018&quot;</td><td>5</td><td>5.0</td><td>119.0</td><td>120.2</td><td>29.75</td><td>&quot;IND&quot;</td><td>59.06</td><td>1130.0</td><td>32.0</td><td>144.378333</td></tr><tr><td>&quot;V Kohli&quot;</td><td>&quot;2018/19&quot;</td><td>5</td><td>4.0</td><td>161.0</td><td>154.8</td><td>80.5</td><td>&quot;IND&quot;</td><td>61.44</td><td>1291.0</td><td>36.0</td><td>145.867143</td></tr><tr><td>&quot;V Kohli&quot;</td><td>&quot;2019&quot;</td><td>3</td><td>3.0</td><td>106.0</td><td>109.27</td><td>35.33</td><td>&quot;IND&quot;</td><td>59.43</td><td>1397.0</td><td>39.0</td><td>141.2925</td></tr><tr><td>&quot;V Kohli&quot;</td><td>&quot;2019/20&quot;</td><td>12</td><td>11.0</td><td>425.0</td><td>153.42</td><td>60.71</td><td>&quot;IND&quot;</td><td>59.71</td><td>1822.0</td><td>50.0</td><td>142.64</td></tr><tr><td>&quot;V Kohli&quot;</td><td>&quot;2020/21&quot;</td><td>8</td><td>8.0</td><td>365.0</td><td>145.41</td><td>73.0</td><td>&quot;IND&quot;</td><td>61.55</td><td>2187.0</td><td>58.0</td><td>142.917</td></tr></tbody></table></div>"
      ],
      "text/plain": [
       "shape: (10, 12)\n",
       "┌─────────┬─────────┬─────┬──────┬───┬─────────┬────────────────┬────────────────┬────────────┐\n",
       "│ Player  ┆ Season  ┆ Mat ┆ Inns ┆ … ┆ Cum Ave ┆ Cum Runs Total ┆ Cum Inns Total ┆ Cum SR     │\n",
       "│ ---     ┆ ---     ┆ --- ┆ ---  ┆   ┆ ---     ┆ ---            ┆ ---            ┆ ---        │\n",
       "│ str     ┆ str     ┆ i64 ┆ f64  ┆   ┆ f64     ┆ f64            ┆ f64            ┆ f64        │\n",
       "╞═════════╪═════════╪═════╪══════╪═══╪═════════╪════════════════╪════════════════╪════════════╡\n",
       "│ V Kohli ┆ 2015/16 ┆ 15  ┆ 14.0 ┆ … ┆ 95.57   ┆ 669.0          ┆ 14.0           ┆ 140.54     │\n",
       "│ V Kohli ┆ 2016    ┆ 2   ┆ 1.0  ┆ … ┆ 90.27   ┆ 685.0          ┆ 15.0           ┆ 159.155    │\n",
       "│ V Kohli ┆ 2016/17 ┆ 3   ┆ 3.0  ┆ … ┆ 78.11   ┆ 737.0          ┆ 18.0           ┆ 144.62     │\n",
       "│ V Kohli ┆ 2017    ┆ 2   ┆ 2.0  ┆ … ┆ 76.35   ┆ 858.0          ┆ 20.0           ┆ 148.2675   │\n",
       "│ V Kohli ┆ 2017/18 ┆ 7   ┆ 7.0  ┆ … ┆ 64.49   ┆ 1011.0         ┆ 27.0           ┆ 149.214    │\n",
       "│ V Kohli ┆ 2018    ┆ 5   ┆ 5.0  ┆ … ┆ 59.06   ┆ 1130.0         ┆ 32.0           ┆ 144.378333 │\n",
       "│ V Kohli ┆ 2018/19 ┆ 5   ┆ 4.0  ┆ … ┆ 61.44   ┆ 1291.0         ┆ 36.0           ┆ 145.867143 │\n",
       "│ V Kohli ┆ 2019    ┆ 3   ┆ 3.0  ┆ … ┆ 59.43   ┆ 1397.0         ┆ 39.0           ┆ 141.2925   │\n",
       "│ V Kohli ┆ 2019/20 ┆ 12  ┆ 11.0 ┆ … ┆ 59.71   ┆ 1822.0         ┆ 50.0           ┆ 142.64     │\n",
       "│ V Kohli ┆ 2020/21 ┆ 8   ┆ 8.0  ┆ … ┆ 61.55   ┆ 2187.0         ┆ 58.0           ┆ 142.917    │\n",
       "└─────────┴─────────┴─────┴──────┴───┴─────────┴────────────────┴────────────────┴────────────┘"
      ]
     },
     "execution_count": 28,
     "metadata": {},
     "output_type": "execute_result"
    }
   ],
   "source": [
    "batting_data.filter(pl.col(\"Player\").str.contains(\"V Kohli\")).head(10)"
   ]
  },
  {
   "cell_type": "code",
   "execution_count": 29,
   "metadata": {},
   "outputs": [],
   "source": [
    "country_codes = {\n",
    "    'LES': 'Lesotho',\n",
    "    'BUL': 'Bulgaria',\n",
    "    'VAN': 'Vanuatu',\n",
    "    'ROM': 'Romania',\n",
    "    'Aut': 'Austria',\n",
    "    'COK': 'Cook Islands',\n",
    "    'Fran': 'France',\n",
    "    'SRB': 'Serbia',\n",
    "    'PAK': 'Pakistan',\n",
    "    'HUN': 'Hungary',\n",
    "    'CYP': 'Cyprus',\n",
    "    'Fiji': 'Fiji',\n",
    "    'FIN': 'Finland',\n",
    "    'EST': 'Estonia',\n",
    "    'CHN': 'China',\n",
    "    'GRC': 'Greece',\n",
    "    'CAM': 'Cambodia',\n",
    "    'GUE': 'Guernsey',\n",
    "    'SEY': 'Seychelles',\n",
    "    'JPN': 'Japan',\n",
    "    'TAN': 'Tanzania',\n",
    "    'JER': 'Jersey',\n",
    "    'QAT': 'Qatar',\n",
    "    'ENG': 'England',\n",
    "    'UGA': 'Uganda',\n",
    "    'BER': 'Bermuda',\n",
    "    'CZK-R': 'Czech Republic',\n",
    "    'CAY': 'Cayman Islands',\n",
    "    'IRE': 'Ireland',\n",
    "    'Mali': 'Mali',\n",
    "    'BRA': 'Brazil',\n",
    "    'SUI': 'Switzerland',\n",
    "    'Peru': 'Peru',\n",
    "    'Mex': 'Mexico',\n",
    "    'MOZ': 'Mozambique',\n",
    "    'Samoa': 'Samoa',\n",
    "    'HKG': 'Hong Kong',\n",
    "    'BAN': 'Bangladesh',\n",
    "    'SL': 'Sri Lanka',\n",
    "    'PNG': 'Papua New Guinea',\n",
    "    'ZIM': 'Zimbabwe',\n",
    "    'GHA': 'Ghana',\n",
    "    'SWZ': 'Swaziland',\n",
    "    'MYAN': 'Myanmar',\n",
    "    'IND': 'India',\n",
    "    'USA': 'United States of America',\n",
    "    'NEP': 'Nepal',\n",
    "    'AFG': 'Afghanistan',\n",
    "    'PAN': 'Panama',\n",
    "    'NGA': 'Nigeria',\n",
    "    'SLE': 'Sierra Leone',\n",
    "    'ESP': 'Spain',\n",
    "    'Bhm': 'Bahamas',\n",
    "    'TKY': 'Turkey',\n",
    "    'MWI': 'Malawi',\n",
    "    'WI': 'West Indies',\n",
    "    'IOM': 'Isle of Man',\n",
    "    'THA': 'Thailand',\n",
    "    'SWA': 'Swaziland',\n",
    "    'SKOR': 'South Korea',\n",
    "    'GMB': 'Gambia',\n",
    "    'ISR': 'Israel',\n",
    "    'KUW': 'Kuwait',\n",
    "    'Belg': 'Belgium',\n",
    "    'GER': 'Germany',\n",
    "    'ITA': 'Italy',\n",
    "    'CAN': 'Canada',\n",
    "    'MDV': 'Maldives',\n",
    "    'Blz': 'Belize',\n",
    "    'DEN': 'Denmark',\n",
    "    'INA': 'Indonesia',\n",
    "    'KENYA': 'Kenya',\n",
    "    'LUX': 'Luxembourg',\n",
    "    'STHEL': 'Saint Helena',\n",
    "    'BHR': 'Bahrain',\n",
    "    'KSA': 'Saudi Arabia',\n",
    "    'MLT': 'Malta',\n",
    "    'Arg': 'Argentina',\n",
    "    'MNG': 'Mongolia',\n",
    "    'AUS': 'Australia',\n",
    "    'GIBR': 'Gibraltar',\n",
    "    'SGP': 'Singapore',\n",
    "    'Chile': 'Chile',\n",
    "    'UAE': 'United Arab Emirates',\n",
    "    'NZ': 'New Zealand',\n",
    "    'SCOT': 'Scotland',\n",
    "    'BHU': 'Bhutan',\n",
    "    'MAS': 'Malaysia',\n",
    "    'BOT': 'Botswana',\n",
    "    'CRC': 'Costa Rica',\n",
    "    'PHI': 'Philippines',\n",
    "    'NAM': 'Namibia',\n",
    "    'RWN': 'Rwanda',\n",
    "    'OMA': 'Oman',\n",
    "    'NOR': 'Norway',\n",
    "    'CRT': 'Croatia',\n",
    "    'SWE': 'Sweden',\n",
    "    'Iran': 'Iran',\n",
    "    'PORT': 'Portugal',\n",
    "    'NED': 'Netherlands',\n",
    "    'SA': 'South Africa',\n",
    "    'SVN': 'Slovenia',\n",
    "    '1': 'Miscellaneous Country 1',\n",
    "    '2': 'Miscellaneous Country 2',\n",
    "    '3': 'Miscellaneous Country 3',\n",
    "    'ICC': 'International Cricket Council',\n",
    "    'World': 'World XI',\n",
    "    'ICC/PAK': 'ICC Pakistan',\n",
    "    'ICC/SL': 'ICC Sri Lanka',\n",
    "    'ICC/IND': 'ICC India',\n",
    "    'ICC/NEP': 'ICC Nepal',\n",
    "    'BAN/ICC': 'Bangladesh ICC',\n",
    "    'AFG/ICC': 'Afghanistan ICC',\n",
    "    'SL/World': 'Sri Lanka World',\n",
    "    'SA/World': 'South Africa World',\n",
    "    'AUS/World': 'Australia World',\n",
    "    'BAN/World': 'Bangladesh World',\n",
    "    'WI/World': 'West Indies World',\n",
    "}\n",
    "icc_world = {\n",
    "    'ICC': 'International Cricket Council',\n",
    "    'World': 'World XI',\n",
    "    'ICC/PAK': 'ICC Pakistan',\n",
    "    'ICC/SL': 'ICC Sri Lanka',\n",
    "    'ICC/IND': 'ICC India',\n",
    "    'ICC/NEP': 'ICC Nepal',\n",
    "    'BAN/ICC': 'Bangladesh ICC',\n",
    "    'AFG/ICC': 'Afghanistan ICC',\n",
    "    'SL/World': 'Sri Lanka World',\n",
    "    'SA/World': 'South Africa World',\n",
    "    'AUS/World': 'Australia World',\n",
    "    'BAN/World': 'Bangladesh World',\n",
    "    'WI/World': 'West Indies World',\n",
    "}\n",
    "outlier_countries = {\n",
    "    '1': 'Miscellaneous Country 1',\n",
    "    '2': 'Miscellaneous Country 2',\n",
    "    '3': 'Miscellaneous Country 3',\n",
    "}\n",
    "filtered_countries = {code: country for code, country in country_codes.items() if code not in icc_world and code not in outlier_countries}"
   ]
  },
  {
   "cell_type": "code",
   "execution_count": 30,
   "metadata": {},
   "outputs": [
    {
     "data": {
      "text/html": [
       "<div><style>\n",
       ".dataframe > thead > tr,\n",
       ".dataframe > tbody > tr {\n",
       "  text-align: right;\n",
       "  white-space: pre-wrap;\n",
       "}\n",
       "</style>\n",
       "<small>shape: (11_176, 12)</small><table border=\"1\" class=\"dataframe\"><thead><tr><th>Player</th><th>Season</th><th>Mat</th><th>Inns</th><th>Runs</th><th>SR</th><th>Ave</th><th>Country</th><th>Cum Ave</th><th>Cum Runs Total</th><th>Cum Inns Total</th><th>Cum SR</th></tr><tr><td>str</td><td>str</td><td>i64</td><td>f64</td><td>f64</td><td>f64</td><td>f64</td><td>str</td><td>f64</td><td>f64</td><td>f64</td><td>f64</td></tr></thead><tbody><tr><td>&quot;A Ahmadhel&quot;</td><td>&quot;2019/20&quot;</td><td>3</td><td>2.0</td><td>16.0</td><td>100.0</td><td>8.0</td><td>&quot;BUL&quot;</td><td>8.0</td><td>16.0</td><td>2.0</td><td>100.0</td></tr><tr><td>&quot;A Ahmadhel&quot;</td><td>&quot;2020&quot;</td><td>1</td><td>1.0</td><td>8.0</td><td>100.0</td><td>8.0</td><td>&quot;BUL&quot;</td><td>8.0</td><td>24.0</td><td>3.0</td><td>100.0</td></tr><tr><td>&quot;A Ahmadhel&quot;</td><td>&quot;2020/21&quot;</td><td>2</td><td>1.0</td><td>2.0</td><td>28.57</td><td>2.0</td><td>&quot;BUL&quot;</td><td>6.5</td><td>26.0</td><td>4.0</td><td>76.19</td></tr><tr><td>&quot;A Ahmadhel&quot;</td><td>&quot;2021&quot;</td><td>3</td><td>3.0</td><td>5.0</td><td>38.46</td><td>1.66</td><td>&quot;BUL&quot;</td><td>4.43</td><td>31.0</td><td>7.0</td><td>66.7575</td></tr><tr><td>&quot;A Ahmadhel&quot;</td><td>&quot;2023&quot;</td><td>2</td><td>0.0</td><td>0.0</td><td>0.0</td><td>0.0</td><td>&quot;BUL&quot;</td><td>4.43</td><td>31.0</td><td>7.0</td><td>53.406</td></tr><tr><td>&hellip;</td><td>&hellip;</td><td>&hellip;</td><td>&hellip;</td><td>&hellip;</td><td>&hellip;</td><td>&hellip;</td><td>&hellip;</td><td>&hellip;</td><td>&hellip;</td><td>&hellip;</td><td>&hellip;</td></tr><tr><td>&quot;Zuhair Muhammad&quot;</td><td>&quot;2023/24&quot;</td><td>2</td><td>2.0</td><td>7.0</td><td>43.75</td><td>3.5</td><td>&quot;KSA&quot;</td><td>3.5</td><td>7.0</td><td>2.0</td><td>43.75</td></tr><tr><td>&quot;Zulfiqar Ali Shah&quot;</td><td>&quot;2021&quot;</td><td>1</td><td>1.0</td><td>12.0</td><td>133.33</td><td>12.0</td><td>&quot;PORT&quot;</td><td>12.0</td><td>12.0</td><td>1.0</td><td>133.33</td></tr><tr><td>&quot;Zulqarnain Haider&quot;</td><td>&quot;2019&quot;</td><td>4</td><td>1.0</td><td>0.0</td><td>0.0</td><td>0.0</td><td>&quot;ESP&quot;</td><td>0.0</td><td>0.0</td><td>1.0</td><td>0.0</td></tr><tr><td>&quot;Zulqarnain Haider&quot;</td><td>&quot;2019/20&quot;</td><td>1</td><td>0.0</td><td>0.0</td><td>0.0</td><td>0.0</td><td>&quot;ESP&quot;</td><td>0.0</td><td>0.0</td><td>1.0</td><td>0.0</td></tr><tr><td>&quot;Zulqarnain Haider&quot;</td><td>&quot;2022&quot;</td><td>6</td><td>3.0</td><td>8.0</td><td>66.66</td><td>4.0</td><td>&quot;ESP&quot;</td><td>3.0</td><td>8.0</td><td>4.0</td><td>22.22</td></tr></tbody></table></div>"
      ],
      "text/plain": [
       "shape: (11_176, 12)\n",
       "┌─────────────────┬─────────┬─────┬──────┬───┬─────────┬────────────────┬────────────────┬─────────┐\n",
       "│ Player          ┆ Season  ┆ Mat ┆ Inns ┆ … ┆ Cum Ave ┆ Cum Runs Total ┆ Cum Inns Total ┆ Cum SR  │\n",
       "│ ---             ┆ ---     ┆ --- ┆ ---  ┆   ┆ ---     ┆ ---            ┆ ---            ┆ ---     │\n",
       "│ str             ┆ str     ┆ i64 ┆ f64  ┆   ┆ f64     ┆ f64            ┆ f64            ┆ f64     │\n",
       "╞═════════════════╪═════════╪═════╪══════╪═══╪═════════╪════════════════╪════════════════╪═════════╡\n",
       "│ A Ahmadhel      ┆ 2019/20 ┆ 3   ┆ 2.0  ┆ … ┆ 8.0     ┆ 16.0           ┆ 2.0            ┆ 100.0   │\n",
       "│ A Ahmadhel      ┆ 2020    ┆ 1   ┆ 1.0  ┆ … ┆ 8.0     ┆ 24.0           ┆ 3.0            ┆ 100.0   │\n",
       "│ A Ahmadhel      ┆ 2020/21 ┆ 2   ┆ 1.0  ┆ … ┆ 6.5     ┆ 26.0           ┆ 4.0            ┆ 76.19   │\n",
       "│ A Ahmadhel      ┆ 2021    ┆ 3   ┆ 3.0  ┆ … ┆ 4.43    ┆ 31.0           ┆ 7.0            ┆ 66.7575 │\n",
       "│ A Ahmadhel      ┆ 2023    ┆ 2   ┆ 0.0  ┆ … ┆ 4.43    ┆ 31.0           ┆ 7.0            ┆ 53.406  │\n",
       "│ …               ┆ …       ┆ …   ┆ …    ┆ … ┆ …       ┆ …              ┆ …              ┆ …       │\n",
       "│ Zuhair Muhammad ┆ 2023/24 ┆ 2   ┆ 2.0  ┆ … ┆ 3.5     ┆ 7.0            ┆ 2.0            ┆ 43.75   │\n",
       "│ Zulfiqar Ali    ┆ 2021    ┆ 1   ┆ 1.0  ┆ … ┆ 12.0    ┆ 12.0           ┆ 1.0            ┆ 133.33  │\n",
       "│ Shah            ┆         ┆     ┆      ┆   ┆         ┆                ┆                ┆         │\n",
       "│ Zulqarnain      ┆ 2019    ┆ 4   ┆ 1.0  ┆ … ┆ 0.0     ┆ 0.0            ┆ 1.0            ┆ 0.0     │\n",
       "│ Haider          ┆         ┆     ┆      ┆   ┆         ┆                ┆                ┆         │\n",
       "│ Zulqarnain      ┆ 2019/20 ┆ 1   ┆ 0.0  ┆ … ┆ 0.0     ┆ 0.0            ┆ 1.0            ┆ 0.0     │\n",
       "│ Haider          ┆         ┆     ┆      ┆   ┆         ┆                ┆                ┆         │\n",
       "│ Zulqarnain      ┆ 2022    ┆ 6   ┆ 3.0  ┆ … ┆ 3.0     ┆ 8.0            ┆ 4.0            ┆ 22.22   │\n",
       "│ Haider          ┆         ┆     ┆      ┆   ┆         ┆                ┆                ┆         │\n",
       "└─────────────────┴─────────┴─────┴──────┴───┴─────────┴────────────────┴────────────────┴─────────┘"
      ]
     },
     "execution_count": 30,
     "metadata": {},
     "output_type": "execute_result"
    }
   ],
   "source": [
    "batting_data = batting_data.filter(pl.col(\"Country\").is_in(list(filtered_countries.keys())))\n",
    "batting_data"
   ]
  },
  {
   "cell_type": "code",
   "execution_count": 31,
   "metadata": {},
   "outputs": [
    {
     "data": {
      "text/html": [
       "<div><style>\n",
       ".dataframe > thead > tr,\n",
       ".dataframe > tbody > tr {\n",
       "  text-align: right;\n",
       "  white-space: pre-wrap;\n",
       "}\n",
       "</style>\n",
       "<small>shape: (11_176, 12)</small><table border=\"1\" class=\"dataframe\"><thead><tr><th>Player</th><th>Season</th><th>Mat</th><th>Inns</th><th>Runs</th><th>SR</th><th>Ave</th><th>Country</th><th>Cum Ave</th><th>Cum Runs Total</th><th>Cum Inns Total</th><th>Cum SR</th></tr><tr><td>str</td><td>str</td><td>i64</td><td>f64</td><td>f64</td><td>f64</td><td>f64</td><td>str</td><td>f64</td><td>f64</td><td>f64</td><td>f64</td></tr></thead><tbody><tr><td>&quot;A Ahmadhel&quot;</td><td>&quot;2019/20&quot;</td><td>3</td><td>2.0</td><td>16.0</td><td>100.0</td><td>8.0</td><td>&quot;Bulgaria&quot;</td><td>8.0</td><td>16.0</td><td>2.0</td><td>100.0</td></tr><tr><td>&quot;A Ahmadhel&quot;</td><td>&quot;2020&quot;</td><td>1</td><td>1.0</td><td>8.0</td><td>100.0</td><td>8.0</td><td>&quot;Bulgaria&quot;</td><td>8.0</td><td>24.0</td><td>3.0</td><td>100.0</td></tr><tr><td>&quot;A Ahmadhel&quot;</td><td>&quot;2020/21&quot;</td><td>2</td><td>1.0</td><td>2.0</td><td>28.57</td><td>2.0</td><td>&quot;Bulgaria&quot;</td><td>6.5</td><td>26.0</td><td>4.0</td><td>76.19</td></tr><tr><td>&quot;A Ahmadhel&quot;</td><td>&quot;2021&quot;</td><td>3</td><td>3.0</td><td>5.0</td><td>38.46</td><td>1.66</td><td>&quot;Bulgaria&quot;</td><td>4.43</td><td>31.0</td><td>7.0</td><td>66.7575</td></tr><tr><td>&quot;A Ahmadhel&quot;</td><td>&quot;2023&quot;</td><td>2</td><td>0.0</td><td>0.0</td><td>0.0</td><td>0.0</td><td>&quot;Bulgaria&quot;</td><td>4.43</td><td>31.0</td><td>7.0</td><td>53.406</td></tr><tr><td>&hellip;</td><td>&hellip;</td><td>&hellip;</td><td>&hellip;</td><td>&hellip;</td><td>&hellip;</td><td>&hellip;</td><td>&hellip;</td><td>&hellip;</td><td>&hellip;</td><td>&hellip;</td><td>&hellip;</td></tr><tr><td>&quot;Zuhair Muhammad&quot;</td><td>&quot;2023/24&quot;</td><td>2</td><td>2.0</td><td>7.0</td><td>43.75</td><td>3.5</td><td>&quot;Saudi Arabia&quot;</td><td>3.5</td><td>7.0</td><td>2.0</td><td>43.75</td></tr><tr><td>&quot;Zulfiqar Ali Shah&quot;</td><td>&quot;2021&quot;</td><td>1</td><td>1.0</td><td>12.0</td><td>133.33</td><td>12.0</td><td>&quot;Portugal&quot;</td><td>12.0</td><td>12.0</td><td>1.0</td><td>133.33</td></tr><tr><td>&quot;Zulqarnain Haider&quot;</td><td>&quot;2019&quot;</td><td>4</td><td>1.0</td><td>0.0</td><td>0.0</td><td>0.0</td><td>&quot;Spain&quot;</td><td>0.0</td><td>0.0</td><td>1.0</td><td>0.0</td></tr><tr><td>&quot;Zulqarnain Haider&quot;</td><td>&quot;2019/20&quot;</td><td>1</td><td>0.0</td><td>0.0</td><td>0.0</td><td>0.0</td><td>&quot;Spain&quot;</td><td>0.0</td><td>0.0</td><td>1.0</td><td>0.0</td></tr><tr><td>&quot;Zulqarnain Haider&quot;</td><td>&quot;2022&quot;</td><td>6</td><td>3.0</td><td>8.0</td><td>66.66</td><td>4.0</td><td>&quot;Spain&quot;</td><td>3.0</td><td>8.0</td><td>4.0</td><td>22.22</td></tr></tbody></table></div>"
      ],
      "text/plain": [
       "shape: (11_176, 12)\n",
       "┌─────────────────┬─────────┬─────┬──────┬───┬─────────┬────────────────┬────────────────┬─────────┐\n",
       "│ Player          ┆ Season  ┆ Mat ┆ Inns ┆ … ┆ Cum Ave ┆ Cum Runs Total ┆ Cum Inns Total ┆ Cum SR  │\n",
       "│ ---             ┆ ---     ┆ --- ┆ ---  ┆   ┆ ---     ┆ ---            ┆ ---            ┆ ---     │\n",
       "│ str             ┆ str     ┆ i64 ┆ f64  ┆   ┆ f64     ┆ f64            ┆ f64            ┆ f64     │\n",
       "╞═════════════════╪═════════╪═════╪══════╪═══╪═════════╪════════════════╪════════════════╪═════════╡\n",
       "│ A Ahmadhel      ┆ 2019/20 ┆ 3   ┆ 2.0  ┆ … ┆ 8.0     ┆ 16.0           ┆ 2.0            ┆ 100.0   │\n",
       "│ A Ahmadhel      ┆ 2020    ┆ 1   ┆ 1.0  ┆ … ┆ 8.0     ┆ 24.0           ┆ 3.0            ┆ 100.0   │\n",
       "│ A Ahmadhel      ┆ 2020/21 ┆ 2   ┆ 1.0  ┆ … ┆ 6.5     ┆ 26.0           ┆ 4.0            ┆ 76.19   │\n",
       "│ A Ahmadhel      ┆ 2021    ┆ 3   ┆ 3.0  ┆ … ┆ 4.43    ┆ 31.0           ┆ 7.0            ┆ 66.7575 │\n",
       "│ A Ahmadhel      ┆ 2023    ┆ 2   ┆ 0.0  ┆ … ┆ 4.43    ┆ 31.0           ┆ 7.0            ┆ 53.406  │\n",
       "│ …               ┆ …       ┆ …   ┆ …    ┆ … ┆ …       ┆ …              ┆ …              ┆ …       │\n",
       "│ Zuhair Muhammad ┆ 2023/24 ┆ 2   ┆ 2.0  ┆ … ┆ 3.5     ┆ 7.0            ┆ 2.0            ┆ 43.75   │\n",
       "│ Zulfiqar Ali    ┆ 2021    ┆ 1   ┆ 1.0  ┆ … ┆ 12.0    ┆ 12.0           ┆ 1.0            ┆ 133.33  │\n",
       "│ Shah            ┆         ┆     ┆      ┆   ┆         ┆                ┆                ┆         │\n",
       "│ Zulqarnain      ┆ 2019    ┆ 4   ┆ 1.0  ┆ … ┆ 0.0     ┆ 0.0            ┆ 1.0            ┆ 0.0     │\n",
       "│ Haider          ┆         ┆     ┆      ┆   ┆         ┆                ┆                ┆         │\n",
       "│ Zulqarnain      ┆ 2019/20 ┆ 1   ┆ 0.0  ┆ … ┆ 0.0     ┆ 0.0            ┆ 1.0            ┆ 0.0     │\n",
       "│ Haider          ┆         ┆     ┆      ┆   ┆         ┆                ┆                ┆         │\n",
       "│ Zulqarnain      ┆ 2022    ┆ 6   ┆ 3.0  ┆ … ┆ 3.0     ┆ 8.0            ┆ 4.0            ┆ 22.22   │\n",
       "│ Haider          ┆         ┆     ┆      ┆   ┆         ┆                ┆                ┆         │\n",
       "└─────────────────┴─────────┴─────┴──────┴───┴─────────┴────────────────┴────────────────┴─────────┘"
      ]
     },
     "execution_count": 31,
     "metadata": {},
     "output_type": "execute_result"
    }
   ],
   "source": [
    "batting_data = batting_data.with_columns(batting_data['Country'].replace(filtered_countries))\n",
    "batting_data"
   ]
  },
  {
   "cell_type": "code",
   "execution_count": 32,
   "metadata": {},
   "outputs": [
    {
     "data": {
      "text/plain": [
       "((3654, 2), (3614, 1), (11176, 12))"
      ]
     },
     "execution_count": 32,
     "metadata": {},
     "output_type": "execute_result"
    }
   ],
   "source": [
    "batting_data[['Player','Country']].unique().shape, batting_data[['Player']].unique().shape, batting_data.unique().shape"
   ]
  },
  {
   "cell_type": "code",
   "execution_count": 33,
   "metadata": {},
   "outputs": [
    {
     "data": {
      "text/html": [
       "<div><style>\n",
       ".dataframe > thead > tr,\n",
       ".dataframe > tbody > tr {\n",
       "  text-align: right;\n",
       "  white-space: pre-wrap;\n",
       "}\n",
       "</style>\n",
       "<small>shape: (0, 12)</small><table border=\"1\" class=\"dataframe\"><thead><tr><th>Player</th><th>Season</th><th>Mat</th><th>Inns</th><th>Runs</th><th>SR</th><th>Ave</th><th>Country</th><th>Cum Ave</th><th>Cum Runs Total</th><th>Cum Inns Total</th><th>Cum SR</th></tr><tr><td>str</td><td>str</td><td>i64</td><td>f64</td><td>f64</td><td>f64</td><td>f64</td><td>str</td><td>f64</td><td>f64</td><td>f64</td><td>f64</td></tr></thead><tbody></tbody></table></div>"
      ],
      "text/plain": [
       "shape: (0, 12)\n",
       "┌────────┬────────┬─────┬──────┬───┬─────────┬────────────────┬────────────────┬────────┐\n",
       "│ Player ┆ Season ┆ Mat ┆ Inns ┆ … ┆ Cum Ave ┆ Cum Runs Total ┆ Cum Inns Total ┆ Cum SR │\n",
       "│ ---    ┆ ---    ┆ --- ┆ ---  ┆   ┆ ---     ┆ ---            ┆ ---            ┆ ---    │\n",
       "│ str    ┆ str    ┆ i64 ┆ f64  ┆   ┆ f64     ┆ f64            ┆ f64            ┆ f64    │\n",
       "╞════════╪════════╪═════╪══════╪═══╪═════════╪════════════════╪════════════════╪════════╡\n",
       "└────────┴────────┴─────┴──────┴───┴─────────┴────────────────┴────────────────┴────────┘"
      ]
     },
     "execution_count": 33,
     "metadata": {},
     "output_type": "execute_result"
    }
   ],
   "source": [
    "batting_data.filter(batting_data[['Player','Country','Season']].is_duplicated())"
   ]
  },
  {
   "cell_type": "code",
   "execution_count": 34,
   "metadata": {},
   "outputs": [
    {
     "data": {
      "text/html": [
       "<div><style>\n",
       ".dataframe > thead > tr,\n",
       ".dataframe > tbody > tr {\n",
       "  text-align: right;\n",
       "  white-space: pre-wrap;\n",
       "}\n",
       "</style>\n",
       "<small>shape: (5_722, 3)</small><table border=\"1\" class=\"dataframe\"><thead><tr><th>Player</th><th>Country</th><th>player_id</th></tr><tr><td>str</td><td>str</td><td>str</td></tr></thead><tbody><tr><td>&quot;E Frimpong&quot;</td><td>&quot;Ghana&quot;</td><td>&quot;3c13fc3b&quot;</td></tr><tr><td>&quot;L Rika&quot;</td><td>&quot;Fiji&quot;</td><td>&quot;fe12944e&quot;</td></tr><tr><td>&quot;B George&quot;</td><td>&quot;Malta&quot;</td><td>&quot;1bdbf53b&quot;</td></tr><tr><td>&quot;WB Rankin&quot;</td><td>&quot;Ireland&quot;</td><td>&quot;29b89ae8&quot;</td></tr><tr><td>&quot;V Phiri&quot;</td><td>&quot;Malawi&quot;</td><td>&quot;8ffa1b3c&quot;</td></tr><tr><td>&hellip;</td><td>&hellip;</td><td>&hellip;</td></tr><tr><td>&quot;B Frank&quot;</td><td>&quot;Nigeria&quot;</td><td>&quot;040206a2&quot;</td></tr><tr><td>&quot;XM Marshall&quot;</td><td>&quot;West Indies&quot;</td><td>&quot;ffb504b1&quot;</td></tr><tr><td>&quot;T Vanuarua&quot;</td><td>&quot;Cook Islands&quot;</td><td>&quot;1f8b4fec&quot;</td></tr><tr><td>&quot;Nary Thapa&quot;</td><td>&quot;Nepal&quot;</td><td>&quot;d24e69f5&quot;</td></tr><tr><td>&quot;P Maya&quot;</td><td>&quot;Thailand&quot;</td><td>&quot;72eada4c&quot;</td></tr></tbody></table></div>"
      ],
      "text/plain": [
       "shape: (5_722, 3)\n",
       "┌─────────────┬──────────────┬───────────┐\n",
       "│ Player      ┆ Country      ┆ player_id │\n",
       "│ ---         ┆ ---          ┆ ---       │\n",
       "│ str         ┆ str          ┆ str       │\n",
       "╞═════════════╪══════════════╪═══════════╡\n",
       "│ E Frimpong  ┆ Ghana        ┆ 3c13fc3b  │\n",
       "│ L Rika      ┆ Fiji         ┆ fe12944e  │\n",
       "│ B George    ┆ Malta        ┆ 1bdbf53b  │\n",
       "│ WB Rankin   ┆ Ireland      ┆ 29b89ae8  │\n",
       "│ V Phiri     ┆ Malawi       ┆ 8ffa1b3c  │\n",
       "│ …           ┆ …            ┆ …         │\n",
       "│ B Frank     ┆ Nigeria      ┆ 040206a2  │\n",
       "│ XM Marshall ┆ West Indies  ┆ ffb504b1  │\n",
       "│ T Vanuarua  ┆ Cook Islands ┆ 1f8b4fec  │\n",
       "│ Nary Thapa  ┆ Nepal        ┆ d24e69f5  │\n",
       "│ P Maya      ┆ Thailand     ┆ 72eada4c  │\n",
       "└─────────────┴──────────────┴───────────┘"
      ]
     },
     "execution_count": 34,
     "metadata": {},
     "output_type": "execute_result"
    }
   ],
   "source": [
    "players_data = pl.read_csv(r'D:\\github\\localt20\\processedData\\Players.csv').rename({\"player\": \"Player\", \"country\": \"Country\"})\n",
    "players_data"
   ]
  },
  {
   "cell_type": "code",
   "execution_count": 35,
   "metadata": {},
   "outputs": [
    {
     "data": {
      "text/html": [
       "<div><style>\n",
       ".dataframe > thead > tr,\n",
       ".dataframe > tbody > tr {\n",
       "  text-align: right;\n",
       "  white-space: pre-wrap;\n",
       "}\n",
       "</style>\n",
       "<small>shape: (10_100, 13)</small><table border=\"1\" class=\"dataframe\"><thead><tr><th>Player</th><th>Season</th><th>Mat</th><th>Inns</th><th>Runs</th><th>SR</th><th>Ave</th><th>Country</th><th>Cum Ave</th><th>Cum Runs Total</th><th>Cum Inns Total</th><th>Cum SR</th><th>player_id</th></tr><tr><td>str</td><td>str</td><td>i64</td><td>f64</td><td>f64</td><td>f64</td><td>f64</td><td>str</td><td>f64</td><td>f64</td><td>f64</td><td>f64</td><td>str</td></tr></thead><tbody><tr><td>&quot;A Andrews&quot;</td><td>&quot;2021/22&quot;</td><td>3</td><td>1.0</td><td>0.0</td><td>0.0</td><td>0.0</td><td>&quot;Switzerland&quot;</td><td>0.0</td><td>0.0</td><td>1.0</td><td>0.0</td><td>&quot;1d45c01a&quot;</td></tr><tr><td>&quot;A Andrews&quot;</td><td>&quot;2022&quot;</td><td>4</td><td>3.0</td><td>34.0</td><td>85.0</td><td>17.0</td><td>&quot;Switzerland&quot;</td><td>12.75</td><td>34.0</td><td>4.0</td><td>42.5</td><td>&quot;1d45c01a&quot;</td></tr><tr><td>&quot;A Ashok&quot;</td><td>&quot;2023&quot;</td><td>1</td><td>0.0</td><td>0.0</td><td>0.0</td><td>0.0</td><td>&quot;New Zealand&quot;</td><td>NaN</td><td>0.0</td><td>0.0</td><td>0.0</td><td>&quot;321be7e3&quot;</td></tr><tr><td>&quot;A Athanaze&quot;</td><td>&quot;2024&quot;</td><td>4</td><td>4.0</td><td>75.0</td><td>122.95</td><td>25.0</td><td>&quot;West Indies&quot;</td><td>25.0</td><td>75.0</td><td>4.0</td><td>122.95</td><td>&quot;58c2fac4&quot;</td></tr><tr><td>&quot;A Balbirnie&quot;</td><td>&quot;2015&quot;</td><td>7</td><td>4.0</td><td>77.0</td><td>98.71</td><td>19.25</td><td>&quot;Ireland&quot;</td><td>19.25</td><td>77.0</td><td>4.0</td><td>98.71</td><td>&quot;6ef13460&quot;</td></tr><tr><td>&hellip;</td><td>&hellip;</td><td>&hellip;</td><td>&hellip;</td><td>&hellip;</td><td>&hellip;</td><td>&hellip;</td><td>&hellip;</td><td>&hellip;</td><td>&hellip;</td><td>&hellip;</td><td>&hellip;</td><td>&hellip;</td></tr><tr><td>&quot;Zuhaib Zubair&quot;</td><td>&quot;2023/24&quot;</td><td>2</td><td>1.0</td><td>13.0</td><td>144.44</td><td>13.0</td><td>&quot;United Arab Emirates&quot;</td><td>13.0</td><td>13.0</td><td>1.0</td><td>144.44</td><td>&quot;9124aa4c&quot;</td></tr><tr><td>&quot;Zuhair Muhammad&quot;</td><td>&quot;2023/24&quot;</td><td>2</td><td>2.0</td><td>7.0</td><td>43.75</td><td>3.5</td><td>&quot;Saudi Arabia&quot;</td><td>3.5</td><td>7.0</td><td>2.0</td><td>43.75</td><td>&quot;22ae4973&quot;</td></tr><tr><td>&quot;Zulqarnain Haider&quot;</td><td>&quot;2019&quot;</td><td>4</td><td>1.0</td><td>0.0</td><td>0.0</td><td>0.0</td><td>&quot;Spain&quot;</td><td>0.0</td><td>0.0</td><td>1.0</td><td>0.0</td><td>&quot;2d46e8ed&quot;</td></tr><tr><td>&quot;Zulqarnain Haider&quot;</td><td>&quot;2019/20&quot;</td><td>1</td><td>0.0</td><td>0.0</td><td>0.0</td><td>0.0</td><td>&quot;Spain&quot;</td><td>0.0</td><td>0.0</td><td>1.0</td><td>0.0</td><td>&quot;2d46e8ed&quot;</td></tr><tr><td>&quot;Zulqarnain Haider&quot;</td><td>&quot;2022&quot;</td><td>6</td><td>3.0</td><td>8.0</td><td>66.66</td><td>4.0</td><td>&quot;Spain&quot;</td><td>3.0</td><td>8.0</td><td>4.0</td><td>22.22</td><td>&quot;2d46e8ed&quot;</td></tr></tbody></table></div>"
      ],
      "text/plain": [
       "shape: (10_100, 13)\n",
       "┌────────────────┬─────────┬─────┬──────┬───┬────────────────┬────────────────┬────────┬───────────┐\n",
       "│ Player         ┆ Season  ┆ Mat ┆ Inns ┆ … ┆ Cum Runs Total ┆ Cum Inns Total ┆ Cum SR ┆ player_id │\n",
       "│ ---            ┆ ---     ┆ --- ┆ ---  ┆   ┆ ---            ┆ ---            ┆ ---    ┆ ---       │\n",
       "│ str            ┆ str     ┆ i64 ┆ f64  ┆   ┆ f64            ┆ f64            ┆ f64    ┆ str       │\n",
       "╞════════════════╪═════════╪═════╪══════╪═══╪════════════════╪════════════════╪════════╪═══════════╡\n",
       "│ A Andrews      ┆ 2021/22 ┆ 3   ┆ 1.0  ┆ … ┆ 0.0            ┆ 1.0            ┆ 0.0    ┆ 1d45c01a  │\n",
       "│ A Andrews      ┆ 2022    ┆ 4   ┆ 3.0  ┆ … ┆ 34.0           ┆ 4.0            ┆ 42.5   ┆ 1d45c01a  │\n",
       "│ A Ashok        ┆ 2023    ┆ 1   ┆ 0.0  ┆ … ┆ 0.0            ┆ 0.0            ┆ 0.0    ┆ 321be7e3  │\n",
       "│ A Athanaze     ┆ 2024    ┆ 4   ┆ 4.0  ┆ … ┆ 75.0           ┆ 4.0            ┆ 122.95 ┆ 58c2fac4  │\n",
       "│ A Balbirnie    ┆ 2015    ┆ 7   ┆ 4.0  ┆ … ┆ 77.0           ┆ 4.0            ┆ 98.71  ┆ 6ef13460  │\n",
       "│ …              ┆ …       ┆ …   ┆ …    ┆ … ┆ …              ┆ …              ┆ …      ┆ …         │\n",
       "│ Zuhaib Zubair  ┆ 2023/24 ┆ 2   ┆ 1.0  ┆ … ┆ 13.0           ┆ 1.0            ┆ 144.44 ┆ 9124aa4c  │\n",
       "│ Zuhair         ┆ 2023/24 ┆ 2   ┆ 2.0  ┆ … ┆ 7.0            ┆ 2.0            ┆ 43.75  ┆ 22ae4973  │\n",
       "│ Muhammad       ┆         ┆     ┆      ┆   ┆                ┆                ┆        ┆           │\n",
       "│ Zulqarnain     ┆ 2019    ┆ 4   ┆ 1.0  ┆ … ┆ 0.0            ┆ 1.0            ┆ 0.0    ┆ 2d46e8ed  │\n",
       "│ Haider         ┆         ┆     ┆      ┆   ┆                ┆                ┆        ┆           │\n",
       "│ Zulqarnain     ┆ 2019/20 ┆ 1   ┆ 0.0  ┆ … ┆ 0.0            ┆ 1.0            ┆ 0.0    ┆ 2d46e8ed  │\n",
       "│ Haider         ┆         ┆     ┆      ┆   ┆                ┆                ┆        ┆           │\n",
       "│ Zulqarnain     ┆ 2022    ┆ 6   ┆ 3.0  ┆ … ┆ 8.0            ┆ 4.0            ┆ 22.22  ┆ 2d46e8ed  │\n",
       "│ Haider         ┆         ┆     ┆      ┆   ┆                ┆                ┆        ┆           │\n",
       "└────────────────┴─────────┴─────┴──────┴───┴────────────────┴────────────────┴────────┴───────────┘"
      ]
     },
     "execution_count": 35,
     "metadata": {},
     "output_type": "execute_result"
    }
   ],
   "source": [
    "batting_data = batting_data.join(players_data, on=['Player','Country'], how='inner')\n",
    "batting_data"
   ]
  },
  {
   "cell_type": "code",
   "execution_count": 36,
   "metadata": {},
   "outputs": [],
   "source": [
    "batting_data.write_csv(r'D:\\github\\localt20\\processedData\\batting.csv')"
   ]
  },
  {
   "cell_type": "code",
   "execution_count": null,
   "metadata": {},
   "outputs": [],
   "source": []
  }
 ],
 "metadata": {
  "kernelspec": {
   "display_name": "eda",
   "language": "python",
   "name": "python3"
  },
  "language_info": {
   "codemirror_mode": {
    "name": "ipython",
    "version": 3
   },
   "file_extension": ".py",
   "mimetype": "text/x-python",
   "name": "python",
   "nbconvert_exporter": "python",
   "pygments_lexer": "ipython3",
   "version": "3.8.19"
  }
 },
 "nbformat": 4,
 "nbformat_minor": 2
}
