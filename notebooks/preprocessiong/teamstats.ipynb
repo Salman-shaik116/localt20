{
 "cells": [
  {
   "cell_type": "code",
   "execution_count": 28,
   "metadata": {},
   "outputs": [
    {
     "data": {
      "text/html": [
       "<div><style>\n",
       ".dataframe > thead > tr,\n",
       ".dataframe > tbody > tr {\n",
       "  text-align: right;\n",
       "  white-space: pre-wrap;\n",
       "}\n",
       "</style>\n",
       "<small>shape: (715, 14)</small><table border=\"1\" class=\"dataframe\"><thead><tr><th>Team</th><th>Mat</th><th>Won</th><th>Lost</th><th>Tied</th><th>NR</th><th>W/L</th><th>Runs</th><th>Ave</th><th>RPO</th><th>Inns</th><th>HS</th><th>LS</th><th>Season</th></tr><tr><td>str</td><td>i64</td><td>i64</td><td>i64</td><td>i64</td><td>i64</td><td>str</td><td>i64</td><td>str</td><td>str</td><td>i64</td><td>i64</td><td>str</td><td>str</td></tr></thead><tbody><tr><td>&quot;Zimbabwe&quot;</td><td>2</td><td>0</td><td>2</td><td>0</td><td>0</td><td>&quot;0.000&quot;</td><td>258</td><td>&quot;15.17&quot;</td><td>&quot;6.91&quot;</td><td>2</td><td>132</td><td>&quot;126&quot;</td><td>&quot;2018/19&quot;</td></tr><tr><td>&quot;Zimbabwe&quot;</td><td>11</td><td>5</td><td>5</td><td>0</td><td>1</td><td>&quot;1.000&quot;</td><td>1423</td><td>&quot;16.94&quot;</td><td>&quot;7.13&quot;</td><td>11</td><td>174</td><td>&quot;115&quot;</td><td>&quot;2022/23&quot;</td></tr><tr><td>&quot;Zimbabwe&quot;</td><td>2</td><td>0</td><td>2</td><td>0</td><td>0</td><td>&quot;0.000&quot;</td><td>261</td><td>&quot;18.64&quot;</td><td>&quot;6.52&quot;</td><td>2</td><td>141</td><td>&quot;-&quot;</td><td>&quot;2017/18&quot;</td></tr><tr><td>&quot;Zimbabwe&quot;</td><td>15</td><td>5</td><td>10</td><td>0</td><td>0</td><td>&quot;0.500&quot;</td><td>2257</td><td>&quot;20.15&quot;</td><td>&quot;7.59&quot;</td><td>15</td><td>190</td><td>&quot;127&quot;</td><td>&quot;2015/16&quot;</td></tr><tr><td>&quot;Zimbabwe&quot;</td><td>16</td><td>9</td><td>7</td><td>0</td><td>0</td><td>&quot;1.285&quot;</td><td>2448</td><td>&quot;22.45&quot;</td><td>&quot;7.75&quot;</td><td>16</td><td>236</td><td>&quot;95&quot;</td><td>&quot;2022&quot;</td></tr><tr><td>&hellip;</td><td>&hellip;</td><td>&hellip;</td><td>&hellip;</td><td>&hellip;</td><td>&hellip;</td><td>&hellip;</td><td>&hellip;</td><td>&hellip;</td><td>&hellip;</td><td>&hellip;</td><td>&hellip;</td><td>&hellip;</td><td>&hellip;</td></tr><tr><td>&quot;Afghanistan&quot;</td><td>10</td><td>10</td><td>0</td><td>0</td><td>0</td><td>&quot;-&quot;</td><td>1619</td><td>&quot;33.72&quot;</td><td>&quot;8.92&quot;</td><td>10</td><td>233</td><td>&quot;-&quot;</td><td>&quot;2016/17&quot;</td></tr><tr><td>&quot;Afghanistan&quot;</td><td>4</td><td>2</td><td>2</td><td>0</td><td>0</td><td>&quot;1.000&quot;</td><td>654</td><td>&quot;25.15&quot;</td><td>&quot;8.17&quot;</td><td>4</td><td>197</td><td>&quot;-&quot;</td><td>&quot;2019&quot;</td></tr><tr><td>&quot;Afghanistan&quot;</td><td>8</td><td>5</td><td>3</td><td>0</td><td>0</td><td>&quot;1.666&quot;</td><td>1010</td><td>&quot;18.36&quot;</td><td>&quot;7.04&quot;</td><td>8</td><td>183</td><td>&quot;56&quot;</td><td>&quot;2024&quot;</td></tr><tr><td>&quot;Afghanistan&quot;</td><td>6</td><td>5</td><td>1</td><td>0</td><td>0</td><td>&quot;5.000&quot;</td><td>959</td><td>&quot;31.96&quot;</td><td>&quot;8.37&quot;</td><td>6</td><td>210</td><td>&quot;-&quot;</td><td>&quot;2015&quot;</td></tr><tr><td>&quot;Afghanistan&quot;</td><td>17</td><td>12</td><td>5</td><td>0</td><td>0</td><td>&quot;2.400&quot;</td><td>2784</td><td>&quot;24.85&quot;</td><td>&quot;8.27&quot;</td><td>17</td><td>215</td><td>&quot;160&quot;</td><td>&quot;2015/16&quot;</td></tr></tbody></table></div>"
      ],
      "text/plain": [
       "shape: (715, 14)\n",
       "┌─────────────┬─────┬─────┬──────┬───┬──────┬─────┬─────┬─────────┐\n",
       "│ Team        ┆ Mat ┆ Won ┆ Lost ┆ … ┆ Inns ┆ HS  ┆ LS  ┆ Season  │\n",
       "│ ---         ┆ --- ┆ --- ┆ ---  ┆   ┆ ---  ┆ --- ┆ --- ┆ ---     │\n",
       "│ str         ┆ i64 ┆ i64 ┆ i64  ┆   ┆ i64  ┆ i64 ┆ str ┆ str     │\n",
       "╞═════════════╪═════╪═════╪══════╪═══╪══════╪═════╪═════╪═════════╡\n",
       "│ Zimbabwe    ┆ 2   ┆ 0   ┆ 2    ┆ … ┆ 2    ┆ 132 ┆ 126 ┆ 2018/19 │\n",
       "│ Zimbabwe    ┆ 11  ┆ 5   ┆ 5    ┆ … ┆ 11   ┆ 174 ┆ 115 ┆ 2022/23 │\n",
       "│ Zimbabwe    ┆ 2   ┆ 0   ┆ 2    ┆ … ┆ 2    ┆ 141 ┆ -   ┆ 2017/18 │\n",
       "│ Zimbabwe    ┆ 15  ┆ 5   ┆ 10   ┆ … ┆ 15   ┆ 190 ┆ 127 ┆ 2015/16 │\n",
       "│ Zimbabwe    ┆ 16  ┆ 9   ┆ 7    ┆ … ┆ 16   ┆ 236 ┆ 95  ┆ 2022    │\n",
       "│ …           ┆ …   ┆ …   ┆ …    ┆ … ┆ …    ┆ …   ┆ …   ┆ …       │\n",
       "│ Afghanistan ┆ 10  ┆ 10  ┆ 0    ┆ … ┆ 10   ┆ 233 ┆ -   ┆ 2016/17 │\n",
       "│ Afghanistan ┆ 4   ┆ 2   ┆ 2    ┆ … ┆ 4    ┆ 197 ┆ -   ┆ 2019    │\n",
       "│ Afghanistan ┆ 8   ┆ 5   ┆ 3    ┆ … ┆ 8    ┆ 183 ┆ 56  ┆ 2024    │\n",
       "│ Afghanistan ┆ 6   ┆ 5   ┆ 1    ┆ … ┆ 6    ┆ 210 ┆ -   ┆ 2015    │\n",
       "│ Afghanistan ┆ 17  ┆ 12  ┆ 5    ┆ … ┆ 17   ┆ 215 ┆ 160 ┆ 2015/16 │\n",
       "└─────────────┴─────┴─────┴──────┴───┴──────┴─────┴─────┴─────────┘"
      ]
     },
     "execution_count": 28,
     "metadata": {},
     "output_type": "execute_result"
    }
   ],
   "source": [
    "import os\n",
    "import polars as pl\n",
    "\n",
    "# Specify the directory where your CSV files are located\n",
    "directory = r'D:\\github\\localt20\\data'\n",
    "\n",
    "team_data = pl.read_csv(os.path.join(directory, 't20_team_stats.csv'),infer_schema_length=715)\n",
    "team_data"
   ]
  },
  {
   "cell_type": "code",
   "execution_count": 29,
   "metadata": {},
   "outputs": [
    {
     "data": {
      "text/html": [
       "<div><style>\n",
       ".dataframe > thead > tr,\n",
       ".dataframe > tbody > tr {\n",
       "  text-align: right;\n",
       "  white-space: pre-wrap;\n",
       "}\n",
       "</style>\n",
       "<small>shape: (9, 15)</small><table border=\"1\" class=\"dataframe\"><thead><tr><th>statistic</th><th>Team</th><th>Mat</th><th>Won</th><th>Lost</th><th>Tied</th><th>NR</th><th>W/L</th><th>Runs</th><th>Ave</th><th>RPO</th><th>Inns</th><th>HS</th><th>LS</th><th>Season</th></tr><tr><td>str</td><td>str</td><td>f64</td><td>f64</td><td>f64</td><td>f64</td><td>f64</td><td>str</td><td>f64</td><td>str</td><td>str</td><td>f64</td><td>f64</td><td>str</td><td>str</td></tr></thead><tbody><tr><td>&quot;count&quot;</td><td>&quot;715&quot;</td><td>715.0</td><td>715.0</td><td>715.0</td><td>715.0</td><td>715.0</td><td>&quot;715&quot;</td><td>715.0</td><td>&quot;715&quot;</td><td>&quot;715&quot;</td><td>715.0</td><td>715.0</td><td>&quot;715&quot;</td><td>&quot;715&quot;</td></tr><tr><td>&quot;null_count&quot;</td><td>&quot;0&quot;</td><td>0.0</td><td>0.0</td><td>0.0</td><td>0.0</td><td>0.0</td><td>&quot;0&quot;</td><td>0.0</td><td>&quot;0&quot;</td><td>&quot;0&quot;</td><td>0.0</td><td>0.0</td><td>&quot;0&quot;</td><td>&quot;0&quot;</td></tr><tr><td>&quot;mean&quot;</td><td>null</td><td>7.074126</td><td>3.411189</td><td>3.411189</td><td>0.086713</td><td>0.165035</td><td>null</td><td>948.462937</td><td>null</td><td>null</td><td>6.995804</td><td>175.27972</td><td>null</td><td>null</td></tr><tr><td>&quot;std&quot;</td><td>null</td><td>4.294331</td><td>2.999792</td><td>2.545692</td><td>0.305468</td><td>0.443638</td><td>null</td><td>635.414735</td><td>null</td><td>null</td><td>4.261578</td><td>39.968196</td><td>null</td><td>null</td></tr><tr><td>&quot;min&quot;</td><td>&quot;Afghanistan&quot;</td><td>1.0</td><td>0.0</td><td>0.0</td><td>0.0</td><td>0.0</td><td>&quot;-&quot;</td><td>0.0</td><td>&quot;-&quot;</td><td>&quot;-&quot;</td><td>0.0</td><td>0.0</td><td>&quot;-&quot;</td><td>&quot;2014/15&quot;</td></tr><tr><td>&quot;25%&quot;</td><td>null</td><td>4.0</td><td>1.0</td><td>2.0</td><td>0.0</td><td>0.0</td><td>null</td><td>476.0</td><td>null</td><td>null</td><td>4.0</td><td>150.0</td><td>null</td><td>null</td></tr><tr><td>&quot;50%&quot;</td><td>null</td><td>6.0</td><td>3.0</td><td>3.0</td><td>0.0</td><td>0.0</td><td>null</td><td>739.0</td><td>null</td><td>null</td><td>6.0</td><td>177.0</td><td>null</td><td>null</td></tr><tr><td>&quot;75%&quot;</td><td>null</td><td>9.0</td><td>5.0</td><td>5.0</td><td>0.0</td><td>0.0</td><td>null</td><td>1302.0</td><td>null</td><td>null</td><td>9.0</td><td>200.0</td><td>null</td><td>null</td></tr><tr><td>&quot;max&quot;</td><td>&quot;Zimbabwe&quot;</td><td>24.0</td><td>20.0</td><td>18.0</td><td>3.0</td><td>3.0</td><td>&quot;9&quot;</td><td>3902.0</td><td>&quot;9&quot;</td><td>&quot;9&quot;</td><td>24.0</td><td>344.0</td><td>&quot;99&quot;</td><td>&quot;2024/25&quot;</td></tr></tbody></table></div>"
      ],
      "text/plain": [
       "shape: (9, 15)\n",
       "┌────────────┬─────────────┬──────────┬──────────┬───┬──────────┬───────────┬──────┬─────────┐\n",
       "│ statistic  ┆ Team        ┆ Mat      ┆ Won      ┆ … ┆ Inns     ┆ HS        ┆ LS   ┆ Season  │\n",
       "│ ---        ┆ ---         ┆ ---      ┆ ---      ┆   ┆ ---      ┆ ---       ┆ ---  ┆ ---     │\n",
       "│ str        ┆ str         ┆ f64      ┆ f64      ┆   ┆ f64      ┆ f64       ┆ str  ┆ str     │\n",
       "╞════════════╪═════════════╪══════════╪══════════╪═══╪══════════╪═══════════╪══════╪═════════╡\n",
       "│ count      ┆ 715         ┆ 715.0    ┆ 715.0    ┆ … ┆ 715.0    ┆ 715.0     ┆ 715  ┆ 715     │\n",
       "│ null_count ┆ 0           ┆ 0.0      ┆ 0.0      ┆ … ┆ 0.0      ┆ 0.0       ┆ 0    ┆ 0       │\n",
       "│ mean       ┆ null        ┆ 7.074126 ┆ 3.411189 ┆ … ┆ 6.995804 ┆ 175.27972 ┆ null ┆ null    │\n",
       "│ std        ┆ null        ┆ 4.294331 ┆ 2.999792 ┆ … ┆ 4.261578 ┆ 39.968196 ┆ null ┆ null    │\n",
       "│ min        ┆ Afghanistan ┆ 1.0      ┆ 0.0      ┆ … ┆ 0.0      ┆ 0.0       ┆ -    ┆ 2014/15 │\n",
       "│ 25%        ┆ null        ┆ 4.0      ┆ 1.0      ┆ … ┆ 4.0      ┆ 150.0     ┆ null ┆ null    │\n",
       "│ 50%        ┆ null        ┆ 6.0      ┆ 3.0      ┆ … ┆ 6.0      ┆ 177.0     ┆ null ┆ null    │\n",
       "│ 75%        ┆ null        ┆ 9.0      ┆ 5.0      ┆ … ┆ 9.0      ┆ 200.0     ┆ null ┆ null    │\n",
       "│ max        ┆ Zimbabwe    ┆ 24.0     ┆ 20.0     ┆ … ┆ 24.0     ┆ 344.0     ┆ 99   ┆ 2024/25 │\n",
       "└────────────┴─────────────┴──────────┴──────────┴───┴──────────┴───────────┴──────┴─────────┘"
      ]
     },
     "execution_count": 29,
     "metadata": {},
     "output_type": "execute_result"
    }
   ],
   "source": [
    "team_data.describe()"
   ]
  },
  {
   "cell_type": "code",
   "execution_count": 30,
   "metadata": {},
   "outputs": [
    {
     "data": {
      "text/html": [
       "<div><style>\n",
       ".dataframe > thead > tr,\n",
       ".dataframe > tbody > tr {\n",
       "  text-align: right;\n",
       "  white-space: pre-wrap;\n",
       "}\n",
       "</style>\n",
       "<small>shape: (715, 14)</small><table border=\"1\" class=\"dataframe\"><thead><tr><th>Team</th><th>Mat</th><th>Won</th><th>Lost</th><th>Tied</th><th>NR</th><th>W/L</th><th>Runs</th><th>Inns</th><th>HS</th><th>LS</th><th>Season</th><th>AveRPW</th><th>AveRPO</th></tr><tr><td>str</td><td>i64</td><td>i64</td><td>i64</td><td>i64</td><td>i64</td><td>f64</td><td>i64</td><td>i64</td><td>f64</td><td>f64</td><td>str</td><td>f64</td><td>f64</td></tr></thead><tbody><tr><td>&quot;Zimbabwe&quot;</td><td>2</td><td>0</td><td>2</td><td>0</td><td>0</td><td>0.0</td><td>258</td><td>2</td><td>132.0</td><td>126.0</td><td>&quot;2018/19&quot;</td><td>15.17</td><td>6.91</td></tr><tr><td>&quot;Zimbabwe&quot;</td><td>11</td><td>5</td><td>5</td><td>0</td><td>1</td><td>1.0</td><td>1423</td><td>11</td><td>174.0</td><td>115.0</td><td>&quot;2022/23&quot;</td><td>16.94</td><td>7.13</td></tr><tr><td>&quot;Zimbabwe&quot;</td><td>2</td><td>0</td><td>2</td><td>0</td><td>0</td><td>0.0</td><td>261</td><td>2</td><td>141.0</td><td>0.0</td><td>&quot;2017/18&quot;</td><td>18.64</td><td>6.52</td></tr><tr><td>&quot;Zimbabwe&quot;</td><td>15</td><td>5</td><td>10</td><td>0</td><td>0</td><td>0.5</td><td>2257</td><td>15</td><td>190.0</td><td>127.0</td><td>&quot;2015/16&quot;</td><td>20.15</td><td>7.59</td></tr><tr><td>&quot;Zimbabwe&quot;</td><td>16</td><td>9</td><td>7</td><td>0</td><td>0</td><td>1.285714</td><td>2448</td><td>16</td><td>236.0</td><td>95.0</td><td>&quot;2022&quot;</td><td>22.45</td><td>7.75</td></tr><tr><td>&hellip;</td><td>&hellip;</td><td>&hellip;</td><td>&hellip;</td><td>&hellip;</td><td>&hellip;</td><td>&hellip;</td><td>&hellip;</td><td>&hellip;</td><td>&hellip;</td><td>&hellip;</td><td>&hellip;</td><td>&hellip;</td><td>&hellip;</td></tr><tr><td>&quot;Afghanistan&quot;</td><td>10</td><td>10</td><td>0</td><td>0</td><td>0</td><td>10.0</td><td>1619</td><td>10</td><td>233.0</td><td>0.0</td><td>&quot;2016/17&quot;</td><td>33.72</td><td>8.92</td></tr><tr><td>&quot;Afghanistan&quot;</td><td>4</td><td>2</td><td>2</td><td>0</td><td>0</td><td>1.0</td><td>654</td><td>4</td><td>197.0</td><td>0.0</td><td>&quot;2019&quot;</td><td>25.15</td><td>8.17</td></tr><tr><td>&quot;Afghanistan&quot;</td><td>8</td><td>5</td><td>3</td><td>0</td><td>0</td><td>1.666667</td><td>1010</td><td>8</td><td>183.0</td><td>56.0</td><td>&quot;2024&quot;</td><td>18.36</td><td>7.04</td></tr><tr><td>&quot;Afghanistan&quot;</td><td>6</td><td>5</td><td>1</td><td>0</td><td>0</td><td>5.0</td><td>959</td><td>6</td><td>210.0</td><td>0.0</td><td>&quot;2015&quot;</td><td>31.96</td><td>8.37</td></tr><tr><td>&quot;Afghanistan&quot;</td><td>17</td><td>12</td><td>5</td><td>0</td><td>0</td><td>2.4</td><td>2784</td><td>17</td><td>215.0</td><td>160.0</td><td>&quot;2015/16&quot;</td><td>24.85</td><td>8.27</td></tr></tbody></table></div>"
      ],
      "text/plain": [
       "shape: (715, 14)\n",
       "┌─────────────┬─────┬─────┬──────┬───┬───────┬─────────┬────────┬────────┐\n",
       "│ Team        ┆ Mat ┆ Won ┆ Lost ┆ … ┆ LS    ┆ Season  ┆ AveRPW ┆ AveRPO │\n",
       "│ ---         ┆ --- ┆ --- ┆ ---  ┆   ┆ ---   ┆ ---     ┆ ---    ┆ ---    │\n",
       "│ str         ┆ i64 ┆ i64 ┆ i64  ┆   ┆ f64   ┆ str     ┆ f64    ┆ f64    │\n",
       "╞═════════════╪═════╪═════╪══════╪═══╪═══════╪═════════╪════════╪════════╡\n",
       "│ Zimbabwe    ┆ 2   ┆ 0   ┆ 2    ┆ … ┆ 126.0 ┆ 2018/19 ┆ 15.17  ┆ 6.91   │\n",
       "│ Zimbabwe    ┆ 11  ┆ 5   ┆ 5    ┆ … ┆ 115.0 ┆ 2022/23 ┆ 16.94  ┆ 7.13   │\n",
       "│ Zimbabwe    ┆ 2   ┆ 0   ┆ 2    ┆ … ┆ 0.0   ┆ 2017/18 ┆ 18.64  ┆ 6.52   │\n",
       "│ Zimbabwe    ┆ 15  ┆ 5   ┆ 10   ┆ … ┆ 127.0 ┆ 2015/16 ┆ 20.15  ┆ 7.59   │\n",
       "│ Zimbabwe    ┆ 16  ┆ 9   ┆ 7    ┆ … ┆ 95.0  ┆ 2022    ┆ 22.45  ┆ 7.75   │\n",
       "│ …           ┆ …   ┆ …   ┆ …    ┆ … ┆ …     ┆ …       ┆ …      ┆ …      │\n",
       "│ Afghanistan ┆ 10  ┆ 10  ┆ 0    ┆ … ┆ 0.0   ┆ 2016/17 ┆ 33.72  ┆ 8.92   │\n",
       "│ Afghanistan ┆ 4   ┆ 2   ┆ 2    ┆ … ┆ 0.0   ┆ 2019    ┆ 25.15  ┆ 8.17   │\n",
       "│ Afghanistan ┆ 8   ┆ 5   ┆ 3    ┆ … ┆ 56.0  ┆ 2024    ┆ 18.36  ┆ 7.04   │\n",
       "│ Afghanistan ┆ 6   ┆ 5   ┆ 1    ┆ … ┆ 0.0   ┆ 2015    ┆ 31.96  ┆ 8.37   │\n",
       "│ Afghanistan ┆ 17  ┆ 12  ┆ 5    ┆ … ┆ 160.0 ┆ 2015/16 ┆ 24.85  ┆ 8.27   │\n",
       "└─────────────┴─────┴─────┴──────┴───┴───────┴─────────┴────────┴────────┘"
      ]
     },
     "execution_count": 30,
     "metadata": {},
     "output_type": "execute_result"
    }
   ],
   "source": [
    "team_data = team_data.with_columns((pl.when(pl.col(\"Lost\")==0).then(pl.col(\"Won\")).otherwise(pl.col(\"Won\")/pl.col(\"Lost\"))).alias(\"W/L\"))\n",
    "team_data = team_data.with_columns(pl.col(\"LS\").str.replace(\"-\",\"0\").alias(\"LS\").cast(pl.Float64))\n",
    "team_data = team_data.with_columns(pl.col(\"HS\").str.replace(\"-\",\"0\").alias(\"HS\").cast(pl.Float64))\n",
    "team_data = team_data.with_columns(pl.col(\"Ave\").str.replace(\"-\",\"0\").alias(\"AveRPW\").cast(pl.Float64)).drop(\"Ave\")\n",
    "team_data = team_data.with_columns(pl.col(\"RPO\").str.replace(\"-\",\"0\").alias(\"AveRPO\").cast(pl.Float64)).drop(\"RPO\")\n",
    "team_data"
   ]
  },
  {
   "cell_type": "code",
   "execution_count": 31,
   "metadata": {},
   "outputs": [
    {
     "data": {
      "text/html": [
       "<div><style>\n",
       ".dataframe > thead > tr,\n",
       ".dataframe > tbody > tr {\n",
       "  text-align: right;\n",
       "  white-space: pre-wrap;\n",
       "}\n",
       "</style>\n",
       "<small>shape: (9, 15)</small><table border=\"1\" class=\"dataframe\"><thead><tr><th>statistic</th><th>Team</th><th>Mat</th><th>Won</th><th>Lost</th><th>Tied</th><th>NR</th><th>W/L</th><th>Runs</th><th>Inns</th><th>HS</th><th>LS</th><th>Season</th><th>AveRPW</th><th>AveRPO</th></tr><tr><td>str</td><td>str</td><td>f64</td><td>f64</td><td>f64</td><td>f64</td><td>f64</td><td>f64</td><td>f64</td><td>f64</td><td>f64</td><td>f64</td><td>str</td><td>f64</td><td>f64</td></tr></thead><tbody><tr><td>&quot;count&quot;</td><td>&quot;715&quot;</td><td>715.0</td><td>715.0</td><td>715.0</td><td>715.0</td><td>715.0</td><td>715.0</td><td>715.0</td><td>715.0</td><td>715.0</td><td>715.0</td><td>&quot;715&quot;</td><td>715.0</td><td>715.0</td></tr><tr><td>&quot;null_count&quot;</td><td>&quot;0&quot;</td><td>0.0</td><td>0.0</td><td>0.0</td><td>0.0</td><td>0.0</td><td>0.0</td><td>0.0</td><td>0.0</td><td>0.0</td><td>0.0</td><td>&quot;0&quot;</td><td>0.0</td><td>0.0</td></tr><tr><td>&quot;mean&quot;</td><td>null</td><td>7.074126</td><td>3.411189</td><td>3.411189</td><td>0.086713</td><td>0.165035</td><td>1.540349</td><td>948.462937</td><td>6.995804</td><td>175.27972</td><td>67.629371</td><td>null</td><td>21.841049</td><td>7.329664</td></tr><tr><td>&quot;std&quot;</td><td>null</td><td>4.294331</td><td>2.999792</td><td>2.545692</td><td>0.305468</td><td>0.443638</td><td>1.935937</td><td>635.414735</td><td>4.261578</td><td>39.968196</td><td>53.510527</td><td>null</td><td>9.486031</td><td>1.48062</td></tr><tr><td>&quot;min&quot;</td><td>&quot;Afghanistan&quot;</td><td>1.0</td><td>0.0</td><td>0.0</td><td>0.0</td><td>0.0</td><td>0.0</td><td>0.0</td><td>0.0</td><td>0.0</td><td>0.0</td><td>&quot;2014/15&quot;</td><td>0.0</td><td>0.0</td></tr><tr><td>&quot;25%&quot;</td><td>null</td><td>4.0</td><td>1.0</td><td>2.0</td><td>0.0</td><td>0.0</td><td>0.352941</td><td>476.0</td><td>4.0</td><td>150.0</td><td>0.0</td><td>null</td><td>16.37</td><td>6.51</td></tr><tr><td>&quot;50%&quot;</td><td>null</td><td>6.0</td><td>3.0</td><td>3.0</td><td>0.0</td><td>0.0</td><td>1.0</td><td>739.0</td><td>6.0</td><td>177.0</td><td>79.0</td><td>null</td><td>20.8</td><td>7.51</td></tr><tr><td>&quot;75%&quot;</td><td>null</td><td>9.0</td><td>5.0</td><td>5.0</td><td>0.0</td><td>0.0</td><td>2.0</td><td>1302.0</td><td>9.0</td><td>200.0</td><td>110.0</td><td>null</td><td>25.76</td><td>8.28</td></tr><tr><td>&quot;max&quot;</td><td>&quot;Zimbabwe&quot;</td><td>24.0</td><td>20.0</td><td>18.0</td><td>3.0</td><td>3.0</td><td>14.0</td><td>3902.0</td><td>24.0</td><td>344.0</td><td>200.0</td><td>&quot;2024/25&quot;</td><td>139.0</td><td>13.43</td></tr></tbody></table></div>"
      ],
      "text/plain": [
       "shape: (9, 15)\n",
       "┌────────────┬─────────────┬──────────┬──────────┬───┬───────────┬─────────┬───────────┬──────────┐\n",
       "│ statistic  ┆ Team        ┆ Mat      ┆ Won      ┆ … ┆ LS        ┆ Season  ┆ AveRPW    ┆ AveRPO   │\n",
       "│ ---        ┆ ---         ┆ ---      ┆ ---      ┆   ┆ ---       ┆ ---     ┆ ---       ┆ ---      │\n",
       "│ str        ┆ str         ┆ f64      ┆ f64      ┆   ┆ f64       ┆ str     ┆ f64       ┆ f64      │\n",
       "╞════════════╪═════════════╪══════════╪══════════╪═══╪═══════════╪═════════╪═══════════╪══════════╡\n",
       "│ count      ┆ 715         ┆ 715.0    ┆ 715.0    ┆ … ┆ 715.0     ┆ 715     ┆ 715.0     ┆ 715.0    │\n",
       "│ null_count ┆ 0           ┆ 0.0      ┆ 0.0      ┆ … ┆ 0.0       ┆ 0       ┆ 0.0       ┆ 0.0      │\n",
       "│ mean       ┆ null        ┆ 7.074126 ┆ 3.411189 ┆ … ┆ 67.629371 ┆ null    ┆ 21.841049 ┆ 7.329664 │\n",
       "│ std        ┆ null        ┆ 4.294331 ┆ 2.999792 ┆ … ┆ 53.510527 ┆ null    ┆ 9.486031  ┆ 1.48062  │\n",
       "│ min        ┆ Afghanistan ┆ 1.0      ┆ 0.0      ┆ … ┆ 0.0       ┆ 2014/15 ┆ 0.0       ┆ 0.0      │\n",
       "│ 25%        ┆ null        ┆ 4.0      ┆ 1.0      ┆ … ┆ 0.0       ┆ null    ┆ 16.37     ┆ 6.51     │\n",
       "│ 50%        ┆ null        ┆ 6.0      ┆ 3.0      ┆ … ┆ 79.0      ┆ null    ┆ 20.8      ┆ 7.51     │\n",
       "│ 75%        ┆ null        ┆ 9.0      ┆ 5.0      ┆ … ┆ 110.0     ┆ null    ┆ 25.76     ┆ 8.28     │\n",
       "│ max        ┆ Zimbabwe    ┆ 24.0     ┆ 20.0     ┆ … ┆ 200.0     ┆ 2024/25 ┆ 139.0     ┆ 13.43    │\n",
       "└────────────┴─────────────┴──────────┴──────────┴───┴───────────┴─────────┴───────────┴──────────┘"
      ]
     },
     "execution_count": 31,
     "metadata": {},
     "output_type": "execute_result"
    }
   ],
   "source": [
    "team_data.describe()    "
   ]
  },
  {
   "cell_type": "code",
   "execution_count": 32,
   "metadata": {},
   "outputs": [
    {
     "data": {
      "text/html": [
       "<div><style>\n",
       ".dataframe > thead > tr,\n",
       ".dataframe > tbody > tr {\n",
       "  text-align: right;\n",
       "  white-space: pre-wrap;\n",
       "}\n",
       "</style>\n",
       "<small>shape: (105,)</small><table border=\"1\" class=\"dataframe\"><thead><tr><th>Team</th></tr><tr><td>str</td></tr></thead><tbody><tr><td>&quot;P.N.G.&quot;</td></tr><tr><td>&quot;Sri Lanka&quot;</td></tr><tr><td>&quot;Jersey&quot;</td></tr><tr><td>&quot;Indonesia&quot;</td></tr><tr><td>&quot;Ghana&quot;</td></tr><tr><td>&hellip;</td></tr><tr><td>&quot;England&quot;</td></tr><tr><td>&quot;Malta&quot;</td></tr><tr><td>&quot;Gambia&quot;</td></tr><tr><td>&quot;Hungary&quot;</td></tr><tr><td>&quot;Mozambique&quot;</td></tr></tbody></table></div>"
      ],
      "text/plain": [
       "shape: (105,)\n",
       "Series: 'Team' [str]\n",
       "[\n",
       "\t\"P.N.G.\"\n",
       "\t\"Sri Lanka\"\n",
       "\t\"Jersey\"\n",
       "\t\"Indonesia\"\n",
       "\t\"Ghana\"\n",
       "\t…\n",
       "\t\"England\"\n",
       "\t\"Malta\"\n",
       "\t\"Gambia\"\n",
       "\t\"Hungary\"\n",
       "\t\"Mozambique\"\n",
       "]"
      ]
     },
     "execution_count": 32,
     "metadata": {},
     "output_type": "execute_result"
    }
   ],
   "source": [
    "team_data[\"Team\"].unique()"
   ]
  },
  {
   "cell_type": "code",
   "execution_count": null,
   "metadata": {},
   "outputs": [],
   "source": []
  }
 ],
 "metadata": {
  "kernelspec": {
   "display_name": "eda",
   "language": "python",
   "name": "python3"
  },
  "language_info": {
   "codemirror_mode": {
    "name": "ipython",
    "version": 3
   },
   "file_extension": ".py",
   "mimetype": "text/x-python",
   "name": "python",
   "nbconvert_exporter": "python",
   "pygments_lexer": "ipython3",
   "version": "3.8.19"
  }
 },
 "nbformat": 4,
 "nbformat_minor": 2
}
