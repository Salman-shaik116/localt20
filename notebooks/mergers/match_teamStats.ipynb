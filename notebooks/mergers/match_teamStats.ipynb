{
 "cells": [
  {
   "cell_type": "code",
   "execution_count": 27,
   "metadata": {},
   "outputs": [
    {
     "data": {
      "text/html": [
       "<div><style>\n",
       ".dataframe > thead > tr,\n",
       ".dataframe > tbody > tr {\n",
       "  text-align: right;\n",
       "  white-space: pre-wrap;\n",
       "}\n",
       "</style>\n",
       "<small>shape: (3_683, 11)</small><table border=\"1\" class=\"dataframe\"><thead><tr><th>team1</th><th>team2</th><th>gender</th><th>season</th><th>date</th><th>venue</th><th>city</th><th>toss_winner</th><th>toss_decision</th><th>winner</th><th>match_id</th></tr><tr><td>str</td><td>str</td><td>str</td><td>str</td><td>str</td><td>str</td><td>str</td><td>str</td><td>str</td><td>str</td><td>i64</td></tr></thead><tbody><tr><td>&quot;Australia&quot;</td><td>&quot;Sri Lanka&quot;</td><td>&quot;male&quot;</td><td>&quot;2016/17&quot;</td><td>&quot;2017/02/17&quot;</td><td>&quot;Melbourne Cricket Ground&quot;</td><td>null</td><td>&quot;Sri Lanka&quot;</td><td>&quot;field&quot;</td><td>&quot;Sri Lanka&quot;</td><td>1001349</td></tr><tr><td>&quot;Australia&quot;</td><td>&quot;Sri Lanka&quot;</td><td>&quot;male&quot;</td><td>&quot;2016/17&quot;</td><td>&quot;2017/02/19&quot;</td><td>&quot;Simonds Stadium, South Geelong&quot;</td><td>&quot;Victoria&quot;</td><td>&quot;Sri Lanka&quot;</td><td>&quot;field&quot;</td><td>&quot;Sri Lanka&quot;</td><td>1001351</td></tr><tr><td>&quot;Australia&quot;</td><td>&quot;Sri Lanka&quot;</td><td>&quot;male&quot;</td><td>&quot;2016/17&quot;</td><td>&quot;2017/02/22&quot;</td><td>&quot;Adelaide Oval&quot;</td><td>null</td><td>&quot;Sri Lanka&quot;</td><td>&quot;field&quot;</td><td>&quot;Australia&quot;</td><td>1001353</td></tr><tr><td>&quot;Ireland&quot;</td><td>&quot;Hong Kong&quot;</td><td>&quot;male&quot;</td><td>&quot;2016&quot;</td><td>&quot;2016/09/05&quot;</td><td>&quot;Bready Cricket Club, Magherama…</td><td>&quot;Londonderry&quot;</td><td>&quot;Hong Kong&quot;</td><td>&quot;bat&quot;</td><td>&quot;Hong Kong&quot;</td><td>1004729</td></tr><tr><td>&quot;Zimbabwe&quot;</td><td>&quot;India&quot;</td><td>&quot;male&quot;</td><td>&quot;2016&quot;</td><td>&quot;2016/06/18&quot;</td><td>&quot;Harare Sports Club&quot;</td><td>null</td><td>&quot;India&quot;</td><td>&quot;field&quot;</td><td>&quot;Zimbabwe&quot;</td><td>1007655</td></tr><tr><td>&hellip;</td><td>&hellip;</td><td>&hellip;</td><td>&hellip;</td><td>&hellip;</td><td>&hellip;</td><td>&hellip;</td><td>&hellip;</td><td>&hellip;</td><td>&hellip;</td><td>&hellip;</td></tr><tr><td>&quot;Pakistan&quot;</td><td>&quot;Sri Lanka&quot;</td><td>&quot;male&quot;</td><td>&quot;2015/16&quot;</td><td>&quot;2016/03/04&quot;</td><td>&quot;Shere Bangla National Stadium&quot;</td><td>&quot;Mirpur&quot;</td><td>&quot;Pakistan&quot;</td><td>&quot;field&quot;</td><td>&quot;Pakistan&quot;</td><td>966763</td></tr><tr><td>&quot;Bangladesh&quot;</td><td>&quot;India&quot;</td><td>&quot;male&quot;</td><td>&quot;2015/16&quot;</td><td>&quot;2016/03/06&quot;</td><td>&quot;Shere Bangla National Stadium&quot;</td><td>&quot;Mirpur&quot;</td><td>&quot;India&quot;</td><td>&quot;field&quot;</td><td>&quot;India&quot;</td><td>966765</td></tr><tr><td>&quot;United Arab Emirates&quot;</td><td>&quot;Netherlands&quot;</td><td>&quot;male&quot;</td><td>&quot;2015/16&quot;</td><td>&quot;2016/02/03&quot;</td><td>&quot;ICC Academy&quot;</td><td>&quot;Dubai&quot;</td><td>&quot;United Arab Emirates&quot;</td><td>&quot;field&quot;</td><td>&quot;Netherlands&quot;</td><td>967081</td></tr><tr><td>&quot;Sri Lanka&quot;</td><td>&quot;Australia&quot;</td><td>&quot;male&quot;</td><td>&quot;2016&quot;</td><td>&quot;2016/09/06&quot;</td><td>&quot;Pallekele International Cricke…</td><td>null</td><td>&quot;Sri Lanka&quot;</td><td>&quot;field&quot;</td><td>&quot;Australia&quot;</td><td>995467</td></tr><tr><td>&quot;Sri Lanka&quot;</td><td>&quot;Australia&quot;</td><td>&quot;male&quot;</td><td>&quot;2016&quot;</td><td>&quot;2016/09/09&quot;</td><td>&quot;R Premadasa Stadium&quot;</td><td>&quot;Colombo&quot;</td><td>&quot;Sri Lanka&quot;</td><td>&quot;bat&quot;</td><td>&quot;Australia&quot;</td><td>995469</td></tr></tbody></table></div>"
      ],
      "text/plain": [
       "shape: (3_683, 11)\n",
       "┌────────────┬────────────┬────────┬─────────┬───┬────────────┬────────────┬────────────┬──────────┐\n",
       "│ team1      ┆ team2      ┆ gender ┆ season  ┆ … ┆ toss_winne ┆ toss_decis ┆ winner     ┆ match_id │\n",
       "│ ---        ┆ ---        ┆ ---    ┆ ---     ┆   ┆ r          ┆ ion        ┆ ---        ┆ ---      │\n",
       "│ str        ┆ str        ┆ str    ┆ str     ┆   ┆ ---        ┆ ---        ┆ str        ┆ i64      │\n",
       "│            ┆            ┆        ┆         ┆   ┆ str        ┆ str        ┆            ┆          │\n",
       "╞════════════╪════════════╪════════╪═════════╪═══╪════════════╪════════════╪════════════╪══════════╡\n",
       "│ Australia  ┆ Sri Lanka  ┆ male   ┆ 2016/17 ┆ … ┆ Sri Lanka  ┆ field      ┆ Sri Lanka  ┆ 1001349  │\n",
       "│ Australia  ┆ Sri Lanka  ┆ male   ┆ 2016/17 ┆ … ┆ Sri Lanka  ┆ field      ┆ Sri Lanka  ┆ 1001351  │\n",
       "│ Australia  ┆ Sri Lanka  ┆ male   ┆ 2016/17 ┆ … ┆ Sri Lanka  ┆ field      ┆ Australia  ┆ 1001353  │\n",
       "│ Ireland    ┆ Hong Kong  ┆ male   ┆ 2016    ┆ … ┆ Hong Kong  ┆ bat        ┆ Hong Kong  ┆ 1004729  │\n",
       "│ Zimbabwe   ┆ India      ┆ male   ┆ 2016    ┆ … ┆ India      ┆ field      ┆ Zimbabwe   ┆ 1007655  │\n",
       "│ …          ┆ …          ┆ …      ┆ …       ┆ … ┆ …          ┆ …          ┆ …          ┆ …        │\n",
       "│ Pakistan   ┆ Sri Lanka  ┆ male   ┆ 2015/16 ┆ … ┆ Pakistan   ┆ field      ┆ Pakistan   ┆ 966763   │\n",
       "│ Bangladesh ┆ India      ┆ male   ┆ 2015/16 ┆ … ┆ India      ┆ field      ┆ India      ┆ 966765   │\n",
       "│ United     ┆ Netherland ┆ male   ┆ 2015/16 ┆ … ┆ United     ┆ field      ┆ Netherland ┆ 967081   │\n",
       "│ Arab       ┆ s          ┆        ┆         ┆   ┆ Arab       ┆            ┆ s          ┆          │\n",
       "│ Emirates   ┆            ┆        ┆         ┆   ┆ Emirates   ┆            ┆            ┆          │\n",
       "│ Sri Lanka  ┆ Australia  ┆ male   ┆ 2016    ┆ … ┆ Sri Lanka  ┆ field      ┆ Australia  ┆ 995467   │\n",
       "│ Sri Lanka  ┆ Australia  ┆ male   ┆ 2016    ┆ … ┆ Sri Lanka  ┆ bat        ┆ Australia  ┆ 995469   │\n",
       "└────────────┴────────────┴────────┴─────────┴───┴────────────┴────────────┴────────────┴──────────┘"
      ]
     },
     "execution_count": 27,
     "metadata": {},
     "output_type": "execute_result"
    }
   ],
   "source": [
    "import os\n",
    "directory = r'D:\\github\\localt20\\data\\processedData'\n",
    "\n",
    "import polars as pl\n",
    "matches = pl.read_csv(os.path.join(directory, 'matches.csv'))\n",
    "team_data = pl.read_csv(os.path.join(directory, 'teamStats.csv'))\n",
    "matches"
   ]
  },
  {
   "cell_type": "code",
   "execution_count": 28,
   "metadata": {},
   "outputs": [],
   "source": [
    "tdt = team_data['Team'].unique().to_list()\n",
    "mdt = matches['team1'].unique().to_list()"
   ]
  },
  {
   "cell_type": "code",
   "execution_count": 29,
   "metadata": {},
   "outputs": [
    {
     "name": "stdout",
     "output_type": "stream",
     "text": [
      "Czech Rep.\n",
      "U.S.A.\n",
      "U.A.E.\n",
      "ICC World XI\n",
      "Peru\n",
      "World-XI\n",
      "Cayman\n",
      "P.N.G.\n"
     ]
    }
   ],
   "source": [
    "for i in tdt:\n",
    "    if i not in mdt:\n",
    "        print(i)"
   ]
  },
  {
   "cell_type": "code",
   "execution_count": 30,
   "metadata": {},
   "outputs": [
    {
     "name": "stdout",
     "output_type": "stream",
     "text": [
      "United Arab Emirates\n",
      "Czech Republic\n",
      "United States of America\n",
      "Cayman Islands\n",
      "Barbados\n",
      "Papua New Guinea\n"
     ]
    }
   ],
   "source": [
    "for i in mdt:\n",
    "    if i not in tdt:\n",
    "        print(i)"
   ]
  },
  {
   "cell_type": "code",
   "execution_count": 31,
   "metadata": {},
   "outputs": [
    {
     "name": "stdout",
     "output_type": "stream",
     "text": [
      "Mapped Team Names Dictionary: {'U.S.A.': 'United States of America', 'U.A.E.': 'United Arab Emirates', 'Czech Rep.': 'Czech Republic', 'P.N.G.': 'Papua New Guinea', 'Cayman': 'Cayman Islands'}\n",
      "Unmatched Teams in tdt: ['ICC World XI', 'Peru', 'World-XI']\n",
      "Unmatched Teams in mdt: ['Barbados']\n"
     ]
    }
   ],
   "source": [
    "# Teams that need to be mapped between `tdt` and `mdt`\n",
    "team_name_mapping = {\n",
    "    'U.S.A.': 'United States of America',\n",
    "    'U.A.E.': 'United Arab Emirates',\n",
    "    'Czech Rep.': 'Czech Republic',\n",
    "    'P.N.G.': 'Papua New Guinea',\n",
    "    'Cayman': 'Cayman Islands'\n",
    "}\n",
    "\n",
    "# Teams that do not have a direct match\n",
    "unmatched_tdt = [team for team in tdt if team not in mdt and team not in team_name_mapping]\n",
    "unmatched_mdt = [team for team in mdt if team not in tdt and team not in team_name_mapping.values()]\n",
    "\n",
    "print(\"Mapped Team Names Dictionary:\", team_name_mapping)\n",
    "print(\"Unmatched Teams in tdt:\", unmatched_tdt)\n",
    "print(\"Unmatched Teams in mdt:\", unmatched_mdt)"
   ]
  },
  {
   "cell_type": "code",
   "execution_count": 32,
   "metadata": {},
   "outputs": [
    {
     "data": {
      "text/plain": [
       "['ICC World XI', 'Peru', 'World-XI', 'Barbados']"
      ]
     },
     "execution_count": 32,
     "metadata": {},
     "output_type": "execute_result"
    }
   ],
   "source": [
    "unmatched_teams = unmatched_tdt + unmatched_mdt\n",
    "unmatched_teams"
   ]
  },
  {
   "cell_type": "code",
   "execution_count": 33,
   "metadata": {},
   "outputs": [
    {
     "name": "stdout",
     "output_type": "stream",
     "text": [
      "(907, 13) (3683, 11)\n",
      "(904, 13) (3676, 11)\n"
     ]
    }
   ],
   "source": [
    "print(team_data.shape, matches.shape)\n",
    "team_data = team_data.filter(~pl.col('Team').is_in(unmatched_teams)).sort('Team')\n",
    "matches = matches.filter(~pl.col('team1').is_in(unmatched_teams)).sort('team1')\n",
    "matches = matches.filter(~pl.col('team2').is_in(unmatched_teams)).sort('team2')\n",
    "print(team_data.shape, matches.shape)"
   ]
  },
  {
   "cell_type": "code",
   "execution_count": 34,
   "metadata": {},
   "outputs": [
    {
     "data": {
      "text/plain": [
       "{'U.S.A.': 'United States of America',\n",
       " 'U.A.E.': 'United Arab Emirates',\n",
       " 'Czech Rep.': 'Czech Republic',\n",
       " 'P.N.G.': 'Papua New Guinea',\n",
       " 'Cayman': 'Cayman Islands'}"
      ]
     },
     "execution_count": 34,
     "metadata": {},
     "output_type": "execute_result"
    }
   ],
   "source": [
    "team_name_mapping"
   ]
  },
  {
   "cell_type": "code",
   "execution_count": 35,
   "metadata": {},
   "outputs": [
    {
     "data": {
      "text/html": [
       "<div><style>\n",
       ".dataframe > thead > tr,\n",
       ".dataframe > tbody > tr {\n",
       "  text-align: right;\n",
       "  white-space: pre-wrap;\n",
       "}\n",
       "</style>\n",
       "<small>shape: (3_676, 11)</small><table border=\"1\" class=\"dataframe\"><thead><tr><th>team1</th><th>team2</th><th>gender</th><th>season</th><th>date</th><th>venue</th><th>city</th><th>toss_winner</th><th>toss_decision</th><th>winner</th><th>match_id</th></tr><tr><td>str</td><td>str</td><td>str</td><td>str</td><td>str</td><td>str</td><td>str</td><td>str</td><td>str</td><td>str</td><td>i64</td></tr></thead><tbody><tr><td>&quot;Australia&quot;</td><td>&quot;Afghanistan&quot;</td><td>&quot;male&quot;</td><td>&quot;2022/23&quot;</td><td>&quot;2022/11/04&quot;</td><td>&quot;Adelaide Oval&quot;</td><td>&quot;Adelaide&quot;</td><td>&quot;Afghanistan&quot;</td><td>&quot;field&quot;</td><td>&quot;Australia&quot;</td><td>1298172</td></tr><tr><td>&quot;Bangladesh&quot;</td><td>&quot;Afghanistan&quot;</td><td>&quot;male&quot;</td><td>&quot;2018&quot;</td><td>&quot;2018/06/05&quot;</td><td>&quot;Rajiv Gandhi International Cri…</td><td>&quot;Dehradun&quot;</td><td>&quot;Bangladesh&quot;</td><td>&quot;bat&quot;</td><td>&quot;Afghanistan&quot;</td><td>1145983</td></tr><tr><td>&quot;Bangladesh&quot;</td><td>&quot;Afghanistan&quot;</td><td>&quot;male&quot;</td><td>&quot;2019&quot;</td><td>&quot;2019/09/15&quot;</td><td>&quot;Shere Bangla National Stadium,…</td><td>&quot;Dhaka&quot;</td><td>&quot;Afghanistan&quot;</td><td>&quot;bat&quot;</td><td>&quot;Afghanistan&quot;</td><td>1197142</td></tr><tr><td>&quot;Bangladesh&quot;</td><td>&quot;Afghanistan&quot;</td><td>&quot;male&quot;</td><td>&quot;2019&quot;</td><td>&quot;2019/09/21&quot;</td><td>&quot;Zahur Ahmed Chowdhury Stadium&quot;</td><td>&quot;Chattogram&quot;</td><td>&quot;Bangladesh&quot;</td><td>&quot;field&quot;</td><td>&quot;Bangladesh&quot;</td><td>1197145</td></tr><tr><td>&quot;Bangladesh&quot;</td><td>&quot;Afghanistan&quot;</td><td>&quot;male&quot;</td><td>&quot;2021/22&quot;</td><td>&quot;2022/03/03&quot;</td><td>&quot;Shere Bangla National Stadium,…</td><td>&quot;Dhaka&quot;</td><td>&quot;Bangladesh&quot;</td><td>&quot;bat&quot;</td><td>&quot;Bangladesh&quot;</td><td>1299832</td></tr><tr><td>&hellip;</td><td>&hellip;</td><td>&hellip;</td><td>&hellip;</td><td>&hellip;</td><td>&hellip;</td><td>&hellip;</td><td>&hellip;</td><td>&hellip;</td><td>&hellip;</td><td>&hellip;</td></tr><tr><td>&quot;United Arab Emirates&quot;</td><td>&quot;Zimbabwe&quot;</td><td>&quot;male&quot;</td><td>&quot;2013/14&quot;</td><td>&quot;2014/03/21&quot;</td><td>&quot;Sylhet Stadium&quot;</td><td>null</td><td>&quot;Zimbabwe&quot;</td><td>&quot;field&quot;</td><td>&quot;Zimbabwe&quot;</td><td>682917</td></tr><tr><td>&quot;West Indies&quot;</td><td>&quot;Zimbabwe&quot;</td><td>&quot;male&quot;</td><td>&quot;2022/23&quot;</td><td>&quot;2022/10/19&quot;</td><td>&quot;Bellerive Oval, Hobart&quot;</td><td>&quot;Hobart&quot;</td><td>&quot;West Indies&quot;</td><td>&quot;bat&quot;</td><td>&quot;West Indies&quot;</td><td>1298142</td></tr><tr><td>&quot;West Indies&quot;</td><td>&quot;Zimbabwe&quot;</td><td>&quot;male&quot;</td><td>&quot;2009/10&quot;</td><td>&quot;2010/02/28&quot;</td><td>&quot;Queen&#x27;s Park Oval, Port of Spa…</td><td>&quot;Trinidad&quot;</td><td>&quot;Zimbabwe&quot;</td><td>&quot;bat&quot;</td><td>&quot;Zimbabwe&quot;</td><td>439139</td></tr><tr><td>&quot;West Indies&quot;</td><td>&quot;Zimbabwe&quot;</td><td>&quot;male&quot;</td><td>&quot;2012/13&quot;</td><td>&quot;2013/03/02&quot;</td><td>&quot;Sir Vivian Richards Stadium, N…</td><td>&quot;Antigua&quot;</td><td>&quot;Zimbabwe&quot;</td><td>&quot;bat&quot;</td><td>&quot;West Indies&quot;</td><td>593986</td></tr><tr><td>&quot;West Indies&quot;</td><td>&quot;Zimbabwe&quot;</td><td>&quot;male&quot;</td><td>&quot;2012/13&quot;</td><td>&quot;2013/03/03&quot;</td><td>&quot;Sir Vivian Richards Stadium, N…</td><td>&quot;Antigua&quot;</td><td>&quot;West Indies&quot;</td><td>&quot;bat&quot;</td><td>&quot;West Indies&quot;</td><td>593987</td></tr></tbody></table></div>"
      ],
      "text/plain": [
       "shape: (3_676, 11)\n",
       "┌────────────┬────────────┬────────┬─────────┬───┬────────────┬────────────┬────────────┬──────────┐\n",
       "│ team1      ┆ team2      ┆ gender ┆ season  ┆ … ┆ toss_winne ┆ toss_decis ┆ winner     ┆ match_id │\n",
       "│ ---        ┆ ---        ┆ ---    ┆ ---     ┆   ┆ r          ┆ ion        ┆ ---        ┆ ---      │\n",
       "│ str        ┆ str        ┆ str    ┆ str     ┆   ┆ ---        ┆ ---        ┆ str        ┆ i64      │\n",
       "│            ┆            ┆        ┆         ┆   ┆ str        ┆ str        ┆            ┆          │\n",
       "╞════════════╪════════════╪════════╪═════════╪═══╪════════════╪════════════╪════════════╪══════════╡\n",
       "│ Australia  ┆ Afghanista ┆ male   ┆ 2022/23 ┆ … ┆ Afghanista ┆ field      ┆ Australia  ┆ 1298172  │\n",
       "│            ┆ n          ┆        ┆         ┆   ┆ n          ┆            ┆            ┆          │\n",
       "│ Bangladesh ┆ Afghanista ┆ male   ┆ 2018    ┆ … ┆ Bangladesh ┆ bat        ┆ Afghanista ┆ 1145983  │\n",
       "│            ┆ n          ┆        ┆         ┆   ┆            ┆            ┆ n          ┆          │\n",
       "│ Bangladesh ┆ Afghanista ┆ male   ┆ 2019    ┆ … ┆ Afghanista ┆ bat        ┆ Afghanista ┆ 1197142  │\n",
       "│            ┆ n          ┆        ┆         ┆   ┆ n          ┆            ┆ n          ┆          │\n",
       "│ Bangladesh ┆ Afghanista ┆ male   ┆ 2019    ┆ … ┆ Bangladesh ┆ field      ┆ Bangladesh ┆ 1197145  │\n",
       "│            ┆ n          ┆        ┆         ┆   ┆            ┆            ┆            ┆          │\n",
       "│ Bangladesh ┆ Afghanista ┆ male   ┆ 2021/22 ┆ … ┆ Bangladesh ┆ bat        ┆ Bangladesh ┆ 1299832  │\n",
       "│            ┆ n          ┆        ┆         ┆   ┆            ┆            ┆            ┆          │\n",
       "│ …          ┆ …          ┆ …      ┆ …       ┆ … ┆ …          ┆ …          ┆ …          ┆ …        │\n",
       "│ United     ┆ Zimbabwe   ┆ male   ┆ 2013/14 ┆ … ┆ Zimbabwe   ┆ field      ┆ Zimbabwe   ┆ 682917   │\n",
       "│ Arab       ┆            ┆        ┆         ┆   ┆            ┆            ┆            ┆          │\n",
       "│ Emirates   ┆            ┆        ┆         ┆   ┆            ┆            ┆            ┆          │\n",
       "│ West       ┆ Zimbabwe   ┆ male   ┆ 2022/23 ┆ … ┆ West       ┆ bat        ┆ West       ┆ 1298142  │\n",
       "│ Indies     ┆            ┆        ┆         ┆   ┆ Indies     ┆            ┆ Indies     ┆          │\n",
       "│ West       ┆ Zimbabwe   ┆ male   ┆ 2009/10 ┆ … ┆ Zimbabwe   ┆ bat        ┆ Zimbabwe   ┆ 439139   │\n",
       "│ Indies     ┆            ┆        ┆         ┆   ┆            ┆            ┆            ┆          │\n",
       "│ West       ┆ Zimbabwe   ┆ male   ┆ 2012/13 ┆ … ┆ Zimbabwe   ┆ bat        ┆ West       ┆ 593986   │\n",
       "│ Indies     ┆            ┆        ┆         ┆   ┆            ┆            ┆ Indies     ┆          │\n",
       "│ West       ┆ Zimbabwe   ┆ male   ┆ 2012/13 ┆ … ┆ West       ┆ bat        ┆ West       ┆ 593987   │\n",
       "│ Indies     ┆            ┆        ┆         ┆   ┆ Indies     ┆            ┆ Indies     ┆          │\n",
       "└────────────┴────────────┴────────┴─────────┴───┴────────────┴────────────┴────────────┴──────────┘"
      ]
     },
     "execution_count": 35,
     "metadata": {},
     "output_type": "execute_result"
    }
   ],
   "source": [
    "team_data = team_data.with_columns(pl.col('Team').map_elements(lambda x: team_name_mapping.get(x, x),return_dtype=pl.String).alias('Team'))\n",
    "matches = matches.with_columns(pl.col('team1').map_elements(lambda x: team_name_mapping.get(x, x),return_dtype=pl.String).alias('team1'))\n",
    "matches = matches.with_columns(pl.col('team2').map_elements(lambda x: team_name_mapping.get(x, x),return_dtype=pl.String).alias('team2'))\n",
    "matches"
   ]
  },
  {
   "cell_type": "markdown",
   "metadata": {},
   "source": [
    "# Flipping"
   ]
  },
  {
   "cell_type": "code",
   "execution_count": 36,
   "metadata": {},
   "outputs": [
    {
     "data": {
      "text/html": [
       "<div><style>\n",
       ".dataframe > thead > tr,\n",
       ".dataframe > tbody > tr {\n",
       "  text-align: right;\n",
       "  white-space: pre-wrap;\n",
       "}\n",
       "</style>\n",
       "<small>shape: (7_352, 11)</small><table border=\"1\" class=\"dataframe\"><thead><tr><th>team1</th><th>team2</th><th>gender</th><th>season</th><th>date</th><th>venue</th><th>city</th><th>toss_winner</th><th>toss_decision</th><th>winner</th><th>match_id</th></tr><tr><td>str</td><td>str</td><td>str</td><td>str</td><td>str</td><td>str</td><td>str</td><td>str</td><td>str</td><td>str</td><td>i64</td></tr></thead><tbody><tr><td>&quot;England&quot;</td><td>&quot;Australia&quot;</td><td>&quot;male&quot;</td><td>&quot;2005&quot;</td><td>&quot;2005/06/13&quot;</td><td>&quot;The Rose Bowl&quot;</td><td>&quot;Southampton&quot;</td><td>&quot;England&quot;</td><td>&quot;bat&quot;</td><td>&quot;England&quot;</td><td>211028</td></tr><tr><td>&quot;Australia&quot;</td><td>&quot;England&quot;</td><td>&quot;male&quot;</td><td>&quot;2005&quot;</td><td>&quot;2005/06/13&quot;</td><td>&quot;The Rose Bowl&quot;</td><td>&quot;Southampton&quot;</td><td>&quot;England&quot;</td><td>&quot;bat&quot;</td><td>&quot;England&quot;</td><td>211028</td></tr><tr><td>&quot;New Zealand&quot;</td><td>&quot;Australia&quot;</td><td>&quot;male&quot;</td><td>&quot;2004/05&quot;</td><td>&quot;2005/02/17&quot;</td><td>&quot;Eden Park&quot;</td><td>&quot;Auckland&quot;</td><td>&quot;Australia&quot;</td><td>&quot;bat&quot;</td><td>&quot;Australia&quot;</td><td>211048</td></tr><tr><td>&quot;Australia&quot;</td><td>&quot;New Zealand&quot;</td><td>&quot;male&quot;</td><td>&quot;2004/05&quot;</td><td>&quot;2005/02/17&quot;</td><td>&quot;Eden Park&quot;</td><td>&quot;Auckland&quot;</td><td>&quot;Australia&quot;</td><td>&quot;bat&quot;</td><td>&quot;Australia&quot;</td><td>211048</td></tr><tr><td>&quot;South Africa&quot;</td><td>&quot;New Zealand&quot;</td><td>&quot;male&quot;</td><td>&quot;2005/06&quot;</td><td>&quot;2005/10/21&quot;</td><td>&quot;New Wanderers Stadium&quot;</td><td>&quot;Johannesburg&quot;</td><td>&quot;New Zealand&quot;</td><td>&quot;field&quot;</td><td>&quot;New Zealand&quot;</td><td>222678</td></tr><tr><td>&hellip;</td><td>&hellip;</td><td>&hellip;</td><td>&hellip;</td><td>&hellip;</td><td>&hellip;</td><td>&hellip;</td><td>&hellip;</td><td>&hellip;</td><td>&hellip;</td><td>&hellip;</td></tr><tr><td>&quot;Spain&quot;</td><td>&quot;Greece&quot;</td><td>&quot;female&quot;</td><td>&quot;2024&quot;</td><td>&quot;2024/09/21&quot;</td><td>&quot;Marina Ground, Corfu&quot;</td><td>&quot;Corfu&quot;</td><td>&quot;Spain&quot;</td><td>&quot;field&quot;</td><td>&quot;Spain&quot;</td><td>1451292</td></tr><tr><td>&quot;Greece&quot;</td><td>&quot;Spain&quot;</td><td>&quot;female&quot;</td><td>&quot;2024&quot;</td><td>&quot;2024/09/22&quot;</td><td>&quot;Marina Ground, Corfu&quot;</td><td>&quot;Corfu&quot;</td><td>&quot;Spain&quot;</td><td>&quot;field&quot;</td><td>&quot;Spain&quot;</td><td>1451293</td></tr><tr><td>&quot;Spain&quot;</td><td>&quot;Greece&quot;</td><td>&quot;female&quot;</td><td>&quot;2024&quot;</td><td>&quot;2024/09/22&quot;</td><td>&quot;Marina Ground, Corfu&quot;</td><td>&quot;Corfu&quot;</td><td>&quot;Spain&quot;</td><td>&quot;field&quot;</td><td>&quot;Spain&quot;</td><td>1451293</td></tr><tr><td>&quot;Greece&quot;</td><td>&quot;Spain&quot;</td><td>&quot;female&quot;</td><td>&quot;2024&quot;</td><td>&quot;2024/09/22&quot;</td><td>&quot;Marina Ground, Corfu&quot;</td><td>&quot;Corfu&quot;</td><td>&quot;Greece&quot;</td><td>&quot;bat&quot;</td><td>&quot;Spain&quot;</td><td>1451294</td></tr><tr><td>&quot;Spain&quot;</td><td>&quot;Greece&quot;</td><td>&quot;female&quot;</td><td>&quot;2024&quot;</td><td>&quot;2024/09/22&quot;</td><td>&quot;Marina Ground, Corfu&quot;</td><td>&quot;Corfu&quot;</td><td>&quot;Greece&quot;</td><td>&quot;bat&quot;</td><td>&quot;Spain&quot;</td><td>1451294</td></tr></tbody></table></div>"
      ],
      "text/plain": [
       "shape: (7_352, 11)\n",
       "┌────────────┬────────────┬────────┬─────────┬───┬────────────┬────────────┬────────────┬──────────┐\n",
       "│ team1      ┆ team2      ┆ gender ┆ season  ┆ … ┆ toss_winne ┆ toss_decis ┆ winner     ┆ match_id │\n",
       "│ ---        ┆ ---        ┆ ---    ┆ ---     ┆   ┆ r          ┆ ion        ┆ ---        ┆ ---      │\n",
       "│ str        ┆ str        ┆ str    ┆ str     ┆   ┆ ---        ┆ ---        ┆ str        ┆ i64      │\n",
       "│            ┆            ┆        ┆         ┆   ┆ str        ┆ str        ┆            ┆          │\n",
       "╞════════════╪════════════╪════════╪═════════╪═══╪════════════╪════════════╪════════════╪══════════╡\n",
       "│ England    ┆ Australia  ┆ male   ┆ 2005    ┆ … ┆ England    ┆ bat        ┆ England    ┆ 211028   │\n",
       "│ Australia  ┆ England    ┆ male   ┆ 2005    ┆ … ┆ England    ┆ bat        ┆ England    ┆ 211028   │\n",
       "│ New        ┆ Australia  ┆ male   ┆ 2004/05 ┆ … ┆ Australia  ┆ bat        ┆ Australia  ┆ 211048   │\n",
       "│ Zealand    ┆            ┆        ┆         ┆   ┆            ┆            ┆            ┆          │\n",
       "│ Australia  ┆ New        ┆ male   ┆ 2004/05 ┆ … ┆ Australia  ┆ bat        ┆ Australia  ┆ 211048   │\n",
       "│            ┆ Zealand    ┆        ┆         ┆   ┆            ┆            ┆            ┆          │\n",
       "│ South      ┆ New        ┆ male   ┆ 2005/06 ┆ … ┆ New        ┆ field      ┆ New        ┆ 222678   │\n",
       "│ Africa     ┆ Zealand    ┆        ┆         ┆   ┆ Zealand    ┆            ┆ Zealand    ┆          │\n",
       "│ …          ┆ …          ┆ …      ┆ …       ┆ … ┆ …          ┆ …          ┆ …          ┆ …        │\n",
       "│ Spain      ┆ Greece     ┆ female ┆ 2024    ┆ … ┆ Spain      ┆ field      ┆ Spain      ┆ 1451292  │\n",
       "│ Greece     ┆ Spain      ┆ female ┆ 2024    ┆ … ┆ Spain      ┆ field      ┆ Spain      ┆ 1451293  │\n",
       "│ Spain      ┆ Greece     ┆ female ┆ 2024    ┆ … ┆ Spain      ┆ field      ┆ Spain      ┆ 1451293  │\n",
       "│ Greece     ┆ Spain      ┆ female ┆ 2024    ┆ … ┆ Greece     ┆ bat        ┆ Spain      ┆ 1451294  │\n",
       "│ Spain      ┆ Greece     ┆ female ┆ 2024    ┆ … ┆ Greece     ┆ bat        ┆ Spain      ┆ 1451294  │\n",
       "└────────────┴────────────┴────────┴─────────┴───┴────────────┴────────────┴────────────┴──────────┘"
      ]
     },
     "execution_count": 36,
     "metadata": {},
     "output_type": "execute_result"
    }
   ],
   "source": [
    "matches1 = matches\n",
    "matches2 = matches.rename({'team1': 'team2', 'team2': 'team1'}).select(['team1','team2','gender','season','date','venue','city','toss_winner','toss_decision','winner','match_id'])\n",
    "matchesflip = pl.concat([matches1, matches2]).sort('match_id')\n",
    "matchesflip"
   ]
  },
  {
   "cell_type": "code",
   "execution_count": 37,
   "metadata": {},
   "outputs": [
    {
     "data": {
      "text/html": [
       "<div><style>\n",
       ".dataframe > thead > tr,\n",
       ".dataframe > tbody > tr {\n",
       "  text-align: right;\n",
       "  white-space: pre-wrap;\n",
       "}\n",
       "</style>\n",
       "<small>shape: (1, 11)</small><table border=\"1\" class=\"dataframe\"><thead><tr><th>team1</th><th>team2</th><th>gender</th><th>season</th><th>date</th><th>venue</th><th>city</th><th>toss_winner</th><th>toss_decision</th><th>winner</th><th>match_id</th></tr><tr><td>u32</td><td>u32</td><td>u32</td><td>u32</td><td>u32</td><td>u32</td><td>u32</td><td>u32</td><td>u32</td><td>u32</td><td>u32</td></tr></thead><tbody><tr><td>0</td><td>0</td><td>0</td><td>0</td><td>0</td><td>0</td><td>192</td><td>0</td><td>0</td><td>0</td><td>0</td></tr></tbody></table></div>"
      ],
      "text/plain": [
       "shape: (1, 11)\n",
       "┌───────┬───────┬────────┬────────┬───┬─────────────┬───────────────┬────────┬──────────┐\n",
       "│ team1 ┆ team2 ┆ gender ┆ season ┆ … ┆ toss_winner ┆ toss_decision ┆ winner ┆ match_id │\n",
       "│ ---   ┆ ---   ┆ ---    ┆ ---    ┆   ┆ ---         ┆ ---           ┆ ---    ┆ ---      │\n",
       "│ u32   ┆ u32   ┆ u32    ┆ u32    ┆   ┆ u32         ┆ u32           ┆ u32    ┆ u32      │\n",
       "╞═══════╪═══════╪════════╪════════╪═══╪═════════════╪═══════════════╪════════╪══════════╡\n",
       "│ 0     ┆ 0     ┆ 0      ┆ 0      ┆ … ┆ 0           ┆ 0             ┆ 0      ┆ 0        │\n",
       "└───────┴───────┴────────┴────────┴───┴─────────────┴───────────────┴────────┴──────────┘"
      ]
     },
     "execution_count": 37,
     "metadata": {},
     "output_type": "execute_result"
    }
   ],
   "source": [
    "matches.null_count()"
   ]
  },
  {
   "cell_type": "code",
   "execution_count": 38,
   "metadata": {},
   "outputs": [
    {
     "data": {
      "text/html": [
       "<div><style>\n",
       ".dataframe > thead > tr,\n",
       ".dataframe > tbody > tr {\n",
       "  text-align: right;\n",
       "  white-space: pre-wrap;\n",
       "}\n",
       "</style>\n",
       "<small>shape: (7_004, 22)</small><table border=\"1\" class=\"dataframe\"><thead><tr><th>team1</th><th>team2</th><th>gender</th><th>season</th><th>date</th><th>venue</th><th>city</th><th>toss_winner</th><th>toss_decision</th><th>winner</th><th>match_id</th><th>Mat</th><th>Won</th><th>Lost</th><th>Tied</th><th>NR</th><th>W/L</th><th>Inns</th><th>HS</th><th>LS</th><th>AveRPW</th><th>AveRPO</th></tr><tr><td>str</td><td>str</td><td>str</td><td>str</td><td>str</td><td>str</td><td>str</td><td>str</td><td>str</td><td>str</td><td>i64</td><td>i64</td><td>i64</td><td>i64</td><td>i64</td><td>i64</td><td>f64</td><td>i64</td><td>i64</td><td>f64</td><td>f64</td><td>f64</td></tr></thead><tbody><tr><td>&quot;England&quot;</td><td>&quot;Australia&quot;</td><td>&quot;male&quot;</td><td>&quot;2005&quot;</td><td>&quot;2005/06/13&quot;</td><td>&quot;The Rose Bowl&quot;</td><td>&quot;Southampton&quot;</td><td>&quot;England&quot;</td><td>&quot;bat&quot;</td><td>&quot;England&quot;</td><td>211028</td><td>1</td><td>1</td><td>0</td><td>0</td><td>0</td><td>1.0</td><td>1</td><td>179</td><td>0.0</td><td>22.37</td><td>8.95</td></tr><tr><td>&quot;Australia&quot;</td><td>&quot;England&quot;</td><td>&quot;male&quot;</td><td>&quot;2005&quot;</td><td>&quot;2005/06/13&quot;</td><td>&quot;The Rose Bowl&quot;</td><td>&quot;Southampton&quot;</td><td>&quot;England&quot;</td><td>&quot;bat&quot;</td><td>&quot;England&quot;</td><td>211028</td><td>1</td><td>0</td><td>1</td><td>0</td><td>0</td><td>0.0</td><td>1</td><td>79</td><td>79.0</td><td>7.9</td><td>5.44</td></tr><tr><td>&quot;New Zealand&quot;</td><td>&quot;Australia&quot;</td><td>&quot;male&quot;</td><td>&quot;2004/05&quot;</td><td>&quot;2005/02/17&quot;</td><td>&quot;Eden Park&quot;</td><td>&quot;Auckland&quot;</td><td>&quot;Australia&quot;</td><td>&quot;bat&quot;</td><td>&quot;Australia&quot;</td><td>211048</td><td>1</td><td>0</td><td>1</td><td>0</td><td>0</td><td>0.0</td><td>1</td><td>170</td><td>170.0</td><td>17.0</td><td>8.5</td></tr><tr><td>&quot;Australia&quot;</td><td>&quot;New Zealand&quot;</td><td>&quot;male&quot;</td><td>&quot;2004/05&quot;</td><td>&quot;2005/02/17&quot;</td><td>&quot;Eden Park&quot;</td><td>&quot;Auckland&quot;</td><td>&quot;Australia&quot;</td><td>&quot;bat&quot;</td><td>&quot;Australia&quot;</td><td>211048</td><td>1</td><td>1</td><td>0</td><td>0</td><td>0</td><td>1.0</td><td>1</td><td>214</td><td>0.0</td><td>42.8</td><td>10.7</td></tr><tr><td>&quot;South Africa&quot;</td><td>&quot;New Zealand&quot;</td><td>&quot;male&quot;</td><td>&quot;2005/06&quot;</td><td>&quot;2005/10/21&quot;</td><td>&quot;New Wanderers Stadium&quot;</td><td>&quot;Johannesburg&quot;</td><td>&quot;New Zealand&quot;</td><td>&quot;field&quot;</td><td>&quot;New Zealand&quot;</td><td>222678</td><td>3</td><td>1</td><td>2</td><td>0</td><td>0</td><td>0.5</td><td>3</td><td>201</td><td>114.0</td><td>18.66</td><td>7.72</td></tr><tr><td>&hellip;</td><td>&hellip;</td><td>&hellip;</td><td>&hellip;</td><td>&hellip;</td><td>&hellip;</td><td>&hellip;</td><td>&hellip;</td><td>&hellip;</td><td>&hellip;</td><td>&hellip;</td><td>&hellip;</td><td>&hellip;</td><td>&hellip;</td><td>&hellip;</td><td>&hellip;</td><td>&hellip;</td><td>&hellip;</td><td>&hellip;</td><td>&hellip;</td><td>&hellip;</td><td>&hellip;</td></tr><tr><td>&quot;Spain&quot;</td><td>&quot;Greece&quot;</td><td>&quot;female&quot;</td><td>&quot;2024&quot;</td><td>&quot;2024/09/21&quot;</td><td>&quot;Marina Ground, Corfu&quot;</td><td>&quot;Corfu&quot;</td><td>&quot;Spain&quot;</td><td>&quot;field&quot;</td><td>&quot;Spain&quot;</td><td>1451292</td><td>11</td><td>11</td><td>0</td><td>0</td><td>0</td><td>11.0</td><td>11</td><td>230</td><td>0.0</td><td>27.3</td><td>8.82</td></tr><tr><td>&quot;Greece&quot;</td><td>&quot;Spain&quot;</td><td>&quot;female&quot;</td><td>&quot;2024&quot;</td><td>&quot;2024/09/22&quot;</td><td>&quot;Marina Ground, Corfu&quot;</td><td>&quot;Corfu&quot;</td><td>&quot;Spain&quot;</td><td>&quot;field&quot;</td><td>&quot;Spain&quot;</td><td>1451293</td><td>4</td><td>0</td><td>4</td><td>0</td><td>0</td><td>0.0</td><td>4</td><td>134</td><td>84.0</td><td>11.5</td><td>5.42</td></tr><tr><td>&quot;Spain&quot;</td><td>&quot;Greece&quot;</td><td>&quot;female&quot;</td><td>&quot;2024&quot;</td><td>&quot;2024/09/22&quot;</td><td>&quot;Marina Ground, Corfu&quot;</td><td>&quot;Corfu&quot;</td><td>&quot;Spain&quot;</td><td>&quot;field&quot;</td><td>&quot;Spain&quot;</td><td>1451293</td><td>11</td><td>11</td><td>0</td><td>0</td><td>0</td><td>11.0</td><td>11</td><td>230</td><td>0.0</td><td>27.3</td><td>8.82</td></tr><tr><td>&quot;Greece&quot;</td><td>&quot;Spain&quot;</td><td>&quot;female&quot;</td><td>&quot;2024&quot;</td><td>&quot;2024/09/22&quot;</td><td>&quot;Marina Ground, Corfu&quot;</td><td>&quot;Corfu&quot;</td><td>&quot;Greece&quot;</td><td>&quot;bat&quot;</td><td>&quot;Spain&quot;</td><td>1451294</td><td>4</td><td>0</td><td>4</td><td>0</td><td>0</td><td>0.0</td><td>4</td><td>134</td><td>84.0</td><td>11.5</td><td>5.42</td></tr><tr><td>&quot;Spain&quot;</td><td>&quot;Greece&quot;</td><td>&quot;female&quot;</td><td>&quot;2024&quot;</td><td>&quot;2024/09/22&quot;</td><td>&quot;Marina Ground, Corfu&quot;</td><td>&quot;Corfu&quot;</td><td>&quot;Greece&quot;</td><td>&quot;bat&quot;</td><td>&quot;Spain&quot;</td><td>1451294</td><td>11</td><td>11</td><td>0</td><td>0</td><td>0</td><td>11.0</td><td>11</td><td>230</td><td>0.0</td><td>27.3</td><td>8.82</td></tr></tbody></table></div>"
      ],
      "text/plain": [
       "shape: (7_004, 22)\n",
       "┌──────────────┬─────────────┬────────┬─────────┬───┬─────┬───────┬────────┬────────┐\n",
       "│ team1        ┆ team2       ┆ gender ┆ season  ┆ … ┆ HS  ┆ LS    ┆ AveRPW ┆ AveRPO │\n",
       "│ ---          ┆ ---         ┆ ---    ┆ ---     ┆   ┆ --- ┆ ---   ┆ ---    ┆ ---    │\n",
       "│ str          ┆ str         ┆ str    ┆ str     ┆   ┆ i64 ┆ f64   ┆ f64    ┆ f64    │\n",
       "╞══════════════╪═════════════╪════════╪═════════╪═══╪═════╪═══════╪════════╪════════╡\n",
       "│ England      ┆ Australia   ┆ male   ┆ 2005    ┆ … ┆ 179 ┆ 0.0   ┆ 22.37  ┆ 8.95   │\n",
       "│ Australia    ┆ England     ┆ male   ┆ 2005    ┆ … ┆ 79  ┆ 79.0  ┆ 7.9    ┆ 5.44   │\n",
       "│ New Zealand  ┆ Australia   ┆ male   ┆ 2004/05 ┆ … ┆ 170 ┆ 170.0 ┆ 17.0   ┆ 8.5    │\n",
       "│ Australia    ┆ New Zealand ┆ male   ┆ 2004/05 ┆ … ┆ 214 ┆ 0.0   ┆ 42.8   ┆ 10.7   │\n",
       "│ South Africa ┆ New Zealand ┆ male   ┆ 2005/06 ┆ … ┆ 201 ┆ 114.0 ┆ 18.66  ┆ 7.72   │\n",
       "│ …            ┆ …           ┆ …      ┆ …       ┆ … ┆ …   ┆ …     ┆ …      ┆ …      │\n",
       "│ Spain        ┆ Greece      ┆ female ┆ 2024    ┆ … ┆ 230 ┆ 0.0   ┆ 27.3   ┆ 8.82   │\n",
       "│ Greece       ┆ Spain       ┆ female ┆ 2024    ┆ … ┆ 134 ┆ 84.0  ┆ 11.5   ┆ 5.42   │\n",
       "│ Spain        ┆ Greece      ┆ female ┆ 2024    ┆ … ┆ 230 ┆ 0.0   ┆ 27.3   ┆ 8.82   │\n",
       "│ Greece       ┆ Spain       ┆ female ┆ 2024    ┆ … ┆ 134 ┆ 84.0  ┆ 11.5   ┆ 5.42   │\n",
       "│ Spain        ┆ Greece      ┆ female ┆ 2024    ┆ … ┆ 230 ┆ 0.0   ┆ 27.3   ┆ 8.82   │\n",
       "└──────────────┴─────────────┴────────┴─────────┴───┴─────┴───────┴────────┴────────┘"
      ]
     },
     "execution_count": 38,
     "metadata": {},
     "output_type": "execute_result"
    }
   ],
   "source": [
    "data = matchesflip.join(team_data, left_on=['team1','season'], right_on=['Team','Season'], how='inner',suffix='_team1')\n",
    "data"
   ]
  },
  {
   "cell_type": "code",
   "execution_count": 39,
   "metadata": {},
   "outputs": [
    {
     "data": {
      "text/html": [
       "<div><style>\n",
       ".dataframe > thead > tr,\n",
       ".dataframe > tbody > tr {\n",
       "  text-align: right;\n",
       "  white-space: pre-wrap;\n",
       "}\n",
       "</style>\n",
       "<small>shape: (6_798, 33)</small><table border=\"1\" class=\"dataframe\"><thead><tr><th>team1</th><th>team2</th><th>gender</th><th>season</th><th>date</th><th>venue</th><th>city</th><th>toss_winner</th><th>toss_decision</th><th>winner</th><th>match_id</th><th>Mat</th><th>Won</th><th>Lost</th><th>Tied</th><th>NR</th><th>W/L</th><th>Inns</th><th>HS</th><th>LS</th><th>AveRPW</th><th>AveRPO</th><th>Mat_team2</th><th>Won_team2</th><th>Lost_team2</th><th>Tied_team2</th><th>NR_team2</th><th>W/L_team2</th><th>Inns_team2</th><th>HS_team2</th><th>LS_team2</th><th>AveRPW_team2</th><th>AveRPO_team2</th></tr><tr><td>str</td><td>str</td><td>str</td><td>str</td><td>str</td><td>str</td><td>str</td><td>str</td><td>str</td><td>str</td><td>i64</td><td>i64</td><td>i64</td><td>i64</td><td>i64</td><td>i64</td><td>f64</td><td>i64</td><td>i64</td><td>f64</td><td>f64</td><td>f64</td><td>i64</td><td>i64</td><td>i64</td><td>i64</td><td>i64</td><td>f64</td><td>i64</td><td>i64</td><td>f64</td><td>f64</td><td>f64</td></tr></thead><tbody><tr><td>&quot;England&quot;</td><td>&quot;Australia&quot;</td><td>&quot;male&quot;</td><td>&quot;2005&quot;</td><td>&quot;2005/06/13&quot;</td><td>&quot;The Rose Bowl&quot;</td><td>&quot;Southampton&quot;</td><td>&quot;England&quot;</td><td>&quot;bat&quot;</td><td>&quot;England&quot;</td><td>211028</td><td>1</td><td>1</td><td>0</td><td>0</td><td>0</td><td>1.0</td><td>1</td><td>179</td><td>0.0</td><td>22.37</td><td>8.95</td><td>1</td><td>0</td><td>1</td><td>0</td><td>0</td><td>0.0</td><td>1</td><td>79</td><td>79.0</td><td>7.9</td><td>5.44</td></tr><tr><td>&quot;Australia&quot;</td><td>&quot;England&quot;</td><td>&quot;male&quot;</td><td>&quot;2005&quot;</td><td>&quot;2005/06/13&quot;</td><td>&quot;The Rose Bowl&quot;</td><td>&quot;Southampton&quot;</td><td>&quot;England&quot;</td><td>&quot;bat&quot;</td><td>&quot;England&quot;</td><td>211028</td><td>1</td><td>0</td><td>1</td><td>0</td><td>0</td><td>0.0</td><td>1</td><td>79</td><td>79.0</td><td>7.9</td><td>5.44</td><td>1</td><td>1</td><td>0</td><td>0</td><td>0</td><td>1.0</td><td>1</td><td>179</td><td>0.0</td><td>22.37</td><td>8.95</td></tr><tr><td>&quot;New Zealand&quot;</td><td>&quot;Australia&quot;</td><td>&quot;male&quot;</td><td>&quot;2004/05&quot;</td><td>&quot;2005/02/17&quot;</td><td>&quot;Eden Park&quot;</td><td>&quot;Auckland&quot;</td><td>&quot;Australia&quot;</td><td>&quot;bat&quot;</td><td>&quot;Australia&quot;</td><td>211048</td><td>1</td><td>0</td><td>1</td><td>0</td><td>0</td><td>0.0</td><td>1</td><td>170</td><td>170.0</td><td>17.0</td><td>8.5</td><td>1</td><td>1</td><td>0</td><td>0</td><td>0</td><td>1.0</td><td>1</td><td>214</td><td>0.0</td><td>42.8</td><td>10.7</td></tr><tr><td>&quot;Australia&quot;</td><td>&quot;New Zealand&quot;</td><td>&quot;male&quot;</td><td>&quot;2004/05&quot;</td><td>&quot;2005/02/17&quot;</td><td>&quot;Eden Park&quot;</td><td>&quot;Auckland&quot;</td><td>&quot;Australia&quot;</td><td>&quot;bat&quot;</td><td>&quot;Australia&quot;</td><td>211048</td><td>1</td><td>1</td><td>0</td><td>0</td><td>0</td><td>1.0</td><td>1</td><td>214</td><td>0.0</td><td>42.8</td><td>10.7</td><td>1</td><td>0</td><td>1</td><td>0</td><td>0</td><td>0.0</td><td>1</td><td>170</td><td>170.0</td><td>17.0</td><td>8.5</td></tr><tr><td>&quot;South Africa&quot;</td><td>&quot;New Zealand&quot;</td><td>&quot;male&quot;</td><td>&quot;2005/06&quot;</td><td>&quot;2005/10/21&quot;</td><td>&quot;New Wanderers Stadium&quot;</td><td>&quot;Johannesburg&quot;</td><td>&quot;New Zealand&quot;</td><td>&quot;field&quot;</td><td>&quot;New Zealand&quot;</td><td>222678</td><td>3</td><td>1</td><td>2</td><td>0</td><td>0</td><td>0.5</td><td>3</td><td>201</td><td>114.0</td><td>18.66</td><td>7.72</td><td>2</td><td>1</td><td>0</td><td>1</td><td>0</td><td>1.0</td><td>2</td><td>134</td><td>0.0</td><td>20.0</td><td>6.84</td></tr><tr><td>&hellip;</td><td>&hellip;</td><td>&hellip;</td><td>&hellip;</td><td>&hellip;</td><td>&hellip;</td><td>&hellip;</td><td>&hellip;</td><td>&hellip;</td><td>&hellip;</td><td>&hellip;</td><td>&hellip;</td><td>&hellip;</td><td>&hellip;</td><td>&hellip;</td><td>&hellip;</td><td>&hellip;</td><td>&hellip;</td><td>&hellip;</td><td>&hellip;</td><td>&hellip;</td><td>&hellip;</td><td>&hellip;</td><td>&hellip;</td><td>&hellip;</td><td>&hellip;</td><td>&hellip;</td><td>&hellip;</td><td>&hellip;</td><td>&hellip;</td><td>&hellip;</td><td>&hellip;</td><td>&hellip;</td></tr><tr><td>&quot;Spain&quot;</td><td>&quot;Greece&quot;</td><td>&quot;female&quot;</td><td>&quot;2024&quot;</td><td>&quot;2024/09/21&quot;</td><td>&quot;Marina Ground, Corfu&quot;</td><td>&quot;Corfu&quot;</td><td>&quot;Spain&quot;</td><td>&quot;field&quot;</td><td>&quot;Spain&quot;</td><td>1451292</td><td>11</td><td>11</td><td>0</td><td>0</td><td>0</td><td>11.0</td><td>11</td><td>230</td><td>0.0</td><td>27.3</td><td>8.82</td><td>4</td><td>0</td><td>4</td><td>0</td><td>0</td><td>0.0</td><td>4</td><td>134</td><td>84.0</td><td>11.5</td><td>5.42</td></tr><tr><td>&quot;Greece&quot;</td><td>&quot;Spain&quot;</td><td>&quot;female&quot;</td><td>&quot;2024&quot;</td><td>&quot;2024/09/22&quot;</td><td>&quot;Marina Ground, Corfu&quot;</td><td>&quot;Corfu&quot;</td><td>&quot;Spain&quot;</td><td>&quot;field&quot;</td><td>&quot;Spain&quot;</td><td>1451293</td><td>4</td><td>0</td><td>4</td><td>0</td><td>0</td><td>0.0</td><td>4</td><td>134</td><td>84.0</td><td>11.5</td><td>5.42</td><td>11</td><td>11</td><td>0</td><td>0</td><td>0</td><td>11.0</td><td>11</td><td>230</td><td>0.0</td><td>27.3</td><td>8.82</td></tr><tr><td>&quot;Spain&quot;</td><td>&quot;Greece&quot;</td><td>&quot;female&quot;</td><td>&quot;2024&quot;</td><td>&quot;2024/09/22&quot;</td><td>&quot;Marina Ground, Corfu&quot;</td><td>&quot;Corfu&quot;</td><td>&quot;Spain&quot;</td><td>&quot;field&quot;</td><td>&quot;Spain&quot;</td><td>1451293</td><td>11</td><td>11</td><td>0</td><td>0</td><td>0</td><td>11.0</td><td>11</td><td>230</td><td>0.0</td><td>27.3</td><td>8.82</td><td>4</td><td>0</td><td>4</td><td>0</td><td>0</td><td>0.0</td><td>4</td><td>134</td><td>84.0</td><td>11.5</td><td>5.42</td></tr><tr><td>&quot;Greece&quot;</td><td>&quot;Spain&quot;</td><td>&quot;female&quot;</td><td>&quot;2024&quot;</td><td>&quot;2024/09/22&quot;</td><td>&quot;Marina Ground, Corfu&quot;</td><td>&quot;Corfu&quot;</td><td>&quot;Greece&quot;</td><td>&quot;bat&quot;</td><td>&quot;Spain&quot;</td><td>1451294</td><td>4</td><td>0</td><td>4</td><td>0</td><td>0</td><td>0.0</td><td>4</td><td>134</td><td>84.0</td><td>11.5</td><td>5.42</td><td>11</td><td>11</td><td>0</td><td>0</td><td>0</td><td>11.0</td><td>11</td><td>230</td><td>0.0</td><td>27.3</td><td>8.82</td></tr><tr><td>&quot;Spain&quot;</td><td>&quot;Greece&quot;</td><td>&quot;female&quot;</td><td>&quot;2024&quot;</td><td>&quot;2024/09/22&quot;</td><td>&quot;Marina Ground, Corfu&quot;</td><td>&quot;Corfu&quot;</td><td>&quot;Greece&quot;</td><td>&quot;bat&quot;</td><td>&quot;Spain&quot;</td><td>1451294</td><td>11</td><td>11</td><td>0</td><td>0</td><td>0</td><td>11.0</td><td>11</td><td>230</td><td>0.0</td><td>27.3</td><td>8.82</td><td>4</td><td>0</td><td>4</td><td>0</td><td>0</td><td>0.0</td><td>4</td><td>134</td><td>84.0</td><td>11.5</td><td>5.42</td></tr></tbody></table></div>"
      ],
      "text/plain": [
       "shape: (6_798, 33)\n",
       "┌─────────────┬─────────────┬────────┬─────────┬───┬──────────┬──────────┬────────────┬────────────┐\n",
       "│ team1       ┆ team2       ┆ gender ┆ season  ┆ … ┆ HS_team2 ┆ LS_team2 ┆ AveRPW_tea ┆ AveRPO_tea │\n",
       "│ ---         ┆ ---         ┆ ---    ┆ ---     ┆   ┆ ---      ┆ ---      ┆ m2         ┆ m2         │\n",
       "│ str         ┆ str         ┆ str    ┆ str     ┆   ┆ i64      ┆ f64      ┆ ---        ┆ ---        │\n",
       "│             ┆             ┆        ┆         ┆   ┆          ┆          ┆ f64        ┆ f64        │\n",
       "╞═════════════╪═════════════╪════════╪═════════╪═══╪══════════╪══════════╪════════════╪════════════╡\n",
       "│ England     ┆ Australia   ┆ male   ┆ 2005    ┆ … ┆ 79       ┆ 79.0     ┆ 7.9        ┆ 5.44       │\n",
       "│ Australia   ┆ England     ┆ male   ┆ 2005    ┆ … ┆ 179      ┆ 0.0      ┆ 22.37      ┆ 8.95       │\n",
       "│ New Zealand ┆ Australia   ┆ male   ┆ 2004/05 ┆ … ┆ 214      ┆ 0.0      ┆ 42.8       ┆ 10.7       │\n",
       "│ Australia   ┆ New Zealand ┆ male   ┆ 2004/05 ┆ … ┆ 170      ┆ 170.0    ┆ 17.0       ┆ 8.5        │\n",
       "│ South       ┆ New Zealand ┆ male   ┆ 2005/06 ┆ … ┆ 134      ┆ 0.0      ┆ 20.0       ┆ 6.84       │\n",
       "│ Africa      ┆             ┆        ┆         ┆   ┆          ┆          ┆            ┆            │\n",
       "│ …           ┆ …           ┆ …      ┆ …       ┆ … ┆ …        ┆ …        ┆ …          ┆ …          │\n",
       "│ Spain       ┆ Greece      ┆ female ┆ 2024    ┆ … ┆ 134      ┆ 84.0     ┆ 11.5       ┆ 5.42       │\n",
       "│ Greece      ┆ Spain       ┆ female ┆ 2024    ┆ … ┆ 230      ┆ 0.0      ┆ 27.3       ┆ 8.82       │\n",
       "│ Spain       ┆ Greece      ┆ female ┆ 2024    ┆ … ┆ 134      ┆ 84.0     ┆ 11.5       ┆ 5.42       │\n",
       "│ Greece      ┆ Spain       ┆ female ┆ 2024    ┆ … ┆ 230      ┆ 0.0      ┆ 27.3       ┆ 8.82       │\n",
       "│ Spain       ┆ Greece      ┆ female ┆ 2024    ┆ … ┆ 134      ┆ 84.0     ┆ 11.5       ┆ 5.42       │\n",
       "└─────────────┴─────────────┴────────┴─────────┴───┴──────────┴──────────┴────────────┴────────────┘"
      ]
     },
     "execution_count": 39,
     "metadata": {},
     "output_type": "execute_result"
    }
   ],
   "source": [
    "data = data.join(team_data, left_on=['team2','season'], right_on=['Team','Season'], how='inner',suffix='_team2')\n",
    "data"
   ]
  },
  {
   "cell_type": "code",
   "execution_count": 40,
   "metadata": {},
   "outputs": [
    {
     "data": {
      "text/html": [
       "<div><style>\n",
       ".dataframe > thead > tr,\n",
       ".dataframe > tbody > tr {\n",
       "  text-align: right;\n",
       "  white-space: pre-wrap;\n",
       "}\n",
       "</style>\n",
       "<small>shape: (5, 33)</small><table border=\"1\" class=\"dataframe\"><thead><tr><th>team1</th><th>team2</th><th>gender</th><th>season</th><th>date</th><th>venue</th><th>city</th><th>toss_winner</th><th>toss_decision</th><th>winner</th><th>match_id</th><th>Mat</th><th>Won</th><th>Lost</th><th>Tied</th><th>NR</th><th>W/L</th><th>Inns</th><th>HS</th><th>LS</th><th>AveRPW</th><th>AveRPO</th><th>Mat_team2</th><th>Won_team2</th><th>Lost_team2</th><th>Tied_team2</th><th>NR_team2</th><th>W/L_team2</th><th>Inns_team2</th><th>HS_team2</th><th>LS_team2</th><th>AveRPW_team2</th><th>AveRPO_team2</th></tr><tr><td>str</td><td>str</td><td>i32</td><td>str</td><td>str</td><td>str</td><td>str</td><td>str</td><td>str</td><td>str</td><td>i64</td><td>i64</td><td>i64</td><td>i64</td><td>i64</td><td>i64</td><td>f64</td><td>i64</td><td>i64</td><td>f64</td><td>f64</td><td>f64</td><td>i64</td><td>i64</td><td>i64</td><td>i64</td><td>i64</td><td>f64</td><td>i64</td><td>i64</td><td>f64</td><td>f64</td><td>f64</td></tr></thead><tbody><tr><td>&quot;England&quot;</td><td>&quot;Australia&quot;</td><td>1</td><td>&quot;2005&quot;</td><td>&quot;2005/06/13&quot;</td><td>&quot;The Rose Bowl&quot;</td><td>&quot;Southampton&quot;</td><td>&quot;England&quot;</td><td>&quot;bat&quot;</td><td>&quot;England&quot;</td><td>211028</td><td>1</td><td>1</td><td>0</td><td>0</td><td>0</td><td>1.0</td><td>1</td><td>179</td><td>0.0</td><td>22.37</td><td>8.95</td><td>1</td><td>0</td><td>1</td><td>0</td><td>0</td><td>0.0</td><td>1</td><td>79</td><td>79.0</td><td>7.9</td><td>5.44</td></tr><tr><td>&quot;Australia&quot;</td><td>&quot;England&quot;</td><td>1</td><td>&quot;2005&quot;</td><td>&quot;2005/06/13&quot;</td><td>&quot;The Rose Bowl&quot;</td><td>&quot;Southampton&quot;</td><td>&quot;England&quot;</td><td>&quot;bat&quot;</td><td>&quot;England&quot;</td><td>211028</td><td>1</td><td>0</td><td>1</td><td>0</td><td>0</td><td>0.0</td><td>1</td><td>79</td><td>79.0</td><td>7.9</td><td>5.44</td><td>1</td><td>1</td><td>0</td><td>0</td><td>0</td><td>1.0</td><td>1</td><td>179</td><td>0.0</td><td>22.37</td><td>8.95</td></tr><tr><td>&quot;New Zealand&quot;</td><td>&quot;Australia&quot;</td><td>1</td><td>&quot;2004/05&quot;</td><td>&quot;2005/02/17&quot;</td><td>&quot;Eden Park&quot;</td><td>&quot;Auckland&quot;</td><td>&quot;Australia&quot;</td><td>&quot;bat&quot;</td><td>&quot;Australia&quot;</td><td>211048</td><td>1</td><td>0</td><td>1</td><td>0</td><td>0</td><td>0.0</td><td>1</td><td>170</td><td>170.0</td><td>17.0</td><td>8.5</td><td>1</td><td>1</td><td>0</td><td>0</td><td>0</td><td>1.0</td><td>1</td><td>214</td><td>0.0</td><td>42.8</td><td>10.7</td></tr><tr><td>&quot;Australia&quot;</td><td>&quot;New Zealand&quot;</td><td>1</td><td>&quot;2004/05&quot;</td><td>&quot;2005/02/17&quot;</td><td>&quot;Eden Park&quot;</td><td>&quot;Auckland&quot;</td><td>&quot;Australia&quot;</td><td>&quot;bat&quot;</td><td>&quot;Australia&quot;</td><td>211048</td><td>1</td><td>1</td><td>0</td><td>0</td><td>0</td><td>1.0</td><td>1</td><td>214</td><td>0.0</td><td>42.8</td><td>10.7</td><td>1</td><td>0</td><td>1</td><td>0</td><td>0</td><td>0.0</td><td>1</td><td>170</td><td>170.0</td><td>17.0</td><td>8.5</td></tr><tr><td>&quot;South Africa&quot;</td><td>&quot;New Zealand&quot;</td><td>1</td><td>&quot;2005/06&quot;</td><td>&quot;2005/10/21&quot;</td><td>&quot;New Wanderers Stadium&quot;</td><td>&quot;Johannesburg&quot;</td><td>&quot;New Zealand&quot;</td><td>&quot;field&quot;</td><td>&quot;New Zealand&quot;</td><td>222678</td><td>3</td><td>1</td><td>2</td><td>0</td><td>0</td><td>0.5</td><td>3</td><td>201</td><td>114.0</td><td>18.66</td><td>7.72</td><td>2</td><td>1</td><td>0</td><td>1</td><td>0</td><td>1.0</td><td>2</td><td>134</td><td>0.0</td><td>20.0</td><td>6.84</td></tr></tbody></table></div>"
      ],
      "text/plain": [
       "shape: (5, 33)\n",
       "┌─────────────┬─────────────┬────────┬─────────┬───┬──────────┬──────────┬────────────┬────────────┐\n",
       "│ team1       ┆ team2       ┆ gender ┆ season  ┆ … ┆ HS_team2 ┆ LS_team2 ┆ AveRPW_tea ┆ AveRPO_tea │\n",
       "│ ---         ┆ ---         ┆ ---    ┆ ---     ┆   ┆ ---      ┆ ---      ┆ m2         ┆ m2         │\n",
       "│ str         ┆ str         ┆ i32    ┆ str     ┆   ┆ i64      ┆ f64      ┆ ---        ┆ ---        │\n",
       "│             ┆             ┆        ┆         ┆   ┆          ┆          ┆ f64        ┆ f64        │\n",
       "╞═════════════╪═════════════╪════════╪═════════╪═══╪══════════╪══════════╪════════════╪════════════╡\n",
       "│ England     ┆ Australia   ┆ 1      ┆ 2005    ┆ … ┆ 79       ┆ 79.0     ┆ 7.9        ┆ 5.44       │\n",
       "│ Australia   ┆ England     ┆ 1      ┆ 2005    ┆ … ┆ 179      ┆ 0.0      ┆ 22.37      ┆ 8.95       │\n",
       "│ New Zealand ┆ Australia   ┆ 1      ┆ 2004/05 ┆ … ┆ 214      ┆ 0.0      ┆ 42.8       ┆ 10.7       │\n",
       "│ Australia   ┆ New Zealand ┆ 1      ┆ 2004/05 ┆ … ┆ 170      ┆ 170.0    ┆ 17.0       ┆ 8.5        │\n",
       "│ South       ┆ New Zealand ┆ 1      ┆ 2005/06 ┆ … ┆ 134      ┆ 0.0      ┆ 20.0       ┆ 6.84       │\n",
       "│ Africa      ┆             ┆        ┆         ┆   ┆          ┆          ┆            ┆            │\n",
       "└─────────────┴─────────────┴────────┴─────────┴───┴──────────┴──────────┴────────────┴────────────┘"
      ]
     },
     "execution_count": 40,
     "metadata": {},
     "output_type": "execute_result"
    }
   ],
   "source": [
    "data = data.with_columns(pl.when(pl.col(\"gender\")==\"male\").then(1).otherwise(0).alias('gender'))\n",
    "data.head()"
   ]
  },
  {
   "cell_type": "code",
   "execution_count": 41,
   "metadata": {},
   "outputs": [
    {
     "data": {
      "text/html": [
       "<div><style>\n",
       ".dataframe > thead > tr,\n",
       ".dataframe > tbody > tr {\n",
       "  text-align: right;\n",
       "  white-space: pre-wrap;\n",
       "}\n",
       "</style>\n",
       "<small>shape: (6_798, 24)</small><table border=\"1\" class=\"dataframe\"><thead><tr><th>match_id</th><th>gender</th><th>Mat</th><th>Won</th><th>Lost</th><th>Tied</th><th>NR</th><th>W/L</th><th>Inns</th><th>HS</th><th>LS</th><th>AveRPW</th><th>AveRPO</th><th>Mat_team2</th><th>Won_team2</th><th>Lost_team2</th><th>Tied_team2</th><th>NR_team2</th><th>W/L_team2</th><th>Inns_team2</th><th>HS_team2</th><th>LS_team2</th><th>AveRPW_team2</th><th>AveRPO_team2</th></tr><tr><td>i64</td><td>i32</td><td>i64</td><td>i64</td><td>i64</td><td>i64</td><td>i64</td><td>f64</td><td>i64</td><td>i64</td><td>f64</td><td>f64</td><td>f64</td><td>i64</td><td>i64</td><td>i64</td><td>i64</td><td>i64</td><td>f64</td><td>i64</td><td>i64</td><td>f64</td><td>f64</td><td>f64</td></tr></thead><tbody><tr><td>211028</td><td>1</td><td>1</td><td>1</td><td>0</td><td>0</td><td>0</td><td>1.0</td><td>1</td><td>179</td><td>0.0</td><td>22.37</td><td>8.95</td><td>1</td><td>0</td><td>1</td><td>0</td><td>0</td><td>0.0</td><td>1</td><td>79</td><td>79.0</td><td>7.9</td><td>5.44</td></tr><tr><td>211028</td><td>1</td><td>1</td><td>0</td><td>1</td><td>0</td><td>0</td><td>0.0</td><td>1</td><td>79</td><td>79.0</td><td>7.9</td><td>5.44</td><td>1</td><td>1</td><td>0</td><td>0</td><td>0</td><td>1.0</td><td>1</td><td>179</td><td>0.0</td><td>22.37</td><td>8.95</td></tr><tr><td>211048</td><td>1</td><td>1</td><td>0</td><td>1</td><td>0</td><td>0</td><td>0.0</td><td>1</td><td>170</td><td>170.0</td><td>17.0</td><td>8.5</td><td>1</td><td>1</td><td>0</td><td>0</td><td>0</td><td>1.0</td><td>1</td><td>214</td><td>0.0</td><td>42.8</td><td>10.7</td></tr><tr><td>211048</td><td>1</td><td>1</td><td>1</td><td>0</td><td>0</td><td>0</td><td>1.0</td><td>1</td><td>214</td><td>0.0</td><td>42.8</td><td>10.7</td><td>1</td><td>0</td><td>1</td><td>0</td><td>0</td><td>0.0</td><td>1</td><td>170</td><td>170.0</td><td>17.0</td><td>8.5</td></tr><tr><td>222678</td><td>1</td><td>3</td><td>1</td><td>2</td><td>0</td><td>0</td><td>0.5</td><td>3</td><td>201</td><td>114.0</td><td>18.66</td><td>7.72</td><td>2</td><td>1</td><td>0</td><td>1</td><td>0</td><td>1.0</td><td>2</td><td>134</td><td>0.0</td><td>20.0</td><td>6.84</td></tr><tr><td>&hellip;</td><td>&hellip;</td><td>&hellip;</td><td>&hellip;</td><td>&hellip;</td><td>&hellip;</td><td>&hellip;</td><td>&hellip;</td><td>&hellip;</td><td>&hellip;</td><td>&hellip;</td><td>&hellip;</td><td>&hellip;</td><td>&hellip;</td><td>&hellip;</td><td>&hellip;</td><td>&hellip;</td><td>&hellip;</td><td>&hellip;</td><td>&hellip;</td><td>&hellip;</td><td>&hellip;</td><td>&hellip;</td><td>&hellip;</td></tr><tr><td>1451292</td><td>0</td><td>11</td><td>11</td><td>0</td><td>0</td><td>0</td><td>11.0</td><td>11</td><td>230</td><td>0.0</td><td>27.3</td><td>8.82</td><td>4</td><td>0</td><td>4</td><td>0</td><td>0</td><td>0.0</td><td>4</td><td>134</td><td>84.0</td><td>11.5</td><td>5.42</td></tr><tr><td>1451293</td><td>0</td><td>4</td><td>0</td><td>4</td><td>0</td><td>0</td><td>0.0</td><td>4</td><td>134</td><td>84.0</td><td>11.5</td><td>5.42</td><td>11</td><td>11</td><td>0</td><td>0</td><td>0</td><td>11.0</td><td>11</td><td>230</td><td>0.0</td><td>27.3</td><td>8.82</td></tr><tr><td>1451293</td><td>0</td><td>11</td><td>11</td><td>0</td><td>0</td><td>0</td><td>11.0</td><td>11</td><td>230</td><td>0.0</td><td>27.3</td><td>8.82</td><td>4</td><td>0</td><td>4</td><td>0</td><td>0</td><td>0.0</td><td>4</td><td>134</td><td>84.0</td><td>11.5</td><td>5.42</td></tr><tr><td>1451294</td><td>0</td><td>4</td><td>0</td><td>4</td><td>0</td><td>0</td><td>0.0</td><td>4</td><td>134</td><td>84.0</td><td>11.5</td><td>5.42</td><td>11</td><td>11</td><td>0</td><td>0</td><td>0</td><td>11.0</td><td>11</td><td>230</td><td>0.0</td><td>27.3</td><td>8.82</td></tr><tr><td>1451294</td><td>0</td><td>11</td><td>11</td><td>0</td><td>0</td><td>0</td><td>11.0</td><td>11</td><td>230</td><td>0.0</td><td>27.3</td><td>8.82</td><td>4</td><td>0</td><td>4</td><td>0</td><td>0</td><td>0.0</td><td>4</td><td>134</td><td>84.0</td><td>11.5</td><td>5.42</td></tr></tbody></table></div>"
      ],
      "text/plain": [
       "shape: (6_798, 24)\n",
       "┌──────────┬────────┬─────┬─────┬───┬──────────┬──────────┬──────────────┬──────────────┐\n",
       "│ match_id ┆ gender ┆ Mat ┆ Won ┆ … ┆ HS_team2 ┆ LS_team2 ┆ AveRPW_team2 ┆ AveRPO_team2 │\n",
       "│ ---      ┆ ---    ┆ --- ┆ --- ┆   ┆ ---      ┆ ---      ┆ ---          ┆ ---          │\n",
       "│ i64      ┆ i32    ┆ i64 ┆ i64 ┆   ┆ i64      ┆ f64      ┆ f64          ┆ f64          │\n",
       "╞══════════╪════════╪═════╪═════╪═══╪══════════╪══════════╪══════════════╪══════════════╡\n",
       "│ 211028   ┆ 1      ┆ 1   ┆ 1   ┆ … ┆ 79       ┆ 79.0     ┆ 7.9          ┆ 5.44         │\n",
       "│ 211028   ┆ 1      ┆ 1   ┆ 0   ┆ … ┆ 179      ┆ 0.0      ┆ 22.37        ┆ 8.95         │\n",
       "│ 211048   ┆ 1      ┆ 1   ┆ 0   ┆ … ┆ 214      ┆ 0.0      ┆ 42.8         ┆ 10.7         │\n",
       "│ 211048   ┆ 1      ┆ 1   ┆ 1   ┆ … ┆ 170      ┆ 170.0    ┆ 17.0         ┆ 8.5          │\n",
       "│ 222678   ┆ 1      ┆ 3   ┆ 1   ┆ … ┆ 134      ┆ 0.0      ┆ 20.0         ┆ 6.84         │\n",
       "│ …        ┆ …      ┆ …   ┆ …   ┆ … ┆ …        ┆ …        ┆ …            ┆ …            │\n",
       "│ 1451292  ┆ 0      ┆ 11  ┆ 11  ┆ … ┆ 134      ┆ 84.0     ┆ 11.5         ┆ 5.42         │\n",
       "│ 1451293  ┆ 0      ┆ 4   ┆ 0   ┆ … ┆ 230      ┆ 0.0      ┆ 27.3         ┆ 8.82         │\n",
       "│ 1451293  ┆ 0      ┆ 11  ┆ 11  ┆ … ┆ 134      ┆ 84.0     ┆ 11.5         ┆ 5.42         │\n",
       "│ 1451294  ┆ 0      ┆ 4   ┆ 0   ┆ … ┆ 230      ┆ 0.0      ┆ 27.3         ┆ 8.82         │\n",
       "│ 1451294  ┆ 0      ┆ 11  ┆ 11  ┆ … ┆ 134      ┆ 84.0     ┆ 11.5         ┆ 5.42         │\n",
       "└──────────┴────────┴─────┴─────┴───┴──────────┴──────────┴──────────────┴──────────────┘"
      ]
     },
     "execution_count": 41,
     "metadata": {},
     "output_type": "execute_result"
    }
   ],
   "source": [
    "# gender\tmatch_id\tMat\tWon\tLost\tTied\tNR\tW/L\tInns\tHS\tLS\tAveRPW\tAveRPO\tMat_team2\tWon_team2\tLost_team2\tTied_team2\tNR_team2\tW/L_team2\tInns_team2\tHS_team2\tLS_team2\tAveRPW_team2\tAveRPO_team2\n",
    "data = data.drop('team1','team2','season','date','venue','city','toss_winner','toss_decision','winner').select(['match_id','gender','Mat','Won','Lost','Tied','NR','W/L','Inns','HS','LS','AveRPW','AveRPO','Mat_team2','Won_team2','Lost_team2','Tied_team2','NR_team2','W/L_team2','Inns_team2','HS_team2','LS_team2','AveRPW_team2','AveRPO_team2'])\n",
    "data"
   ]
  },
  {
   "cell_type": "code",
   "execution_count": 44,
   "metadata": {},
   "outputs": [],
   "source": [
    "import numpy as np\n",
    "directory = r'D:\\github\\localt20\\data\\aftermerging'\n",
    "\n",
    "data.write_csv(os.path.join(directory, 'team12Statsflip.csv'))"
   ]
  },
  {
   "cell_type": "code",
   "execution_count": null,
   "metadata": {},
   "outputs": [],
   "source": []
  }
 ],
 "metadata": {
  "kernelspec": {
   "display_name": "eda",
   "language": "python",
   "name": "python3"
  },
  "language_info": {
   "codemirror_mode": {
    "name": "ipython",
    "version": 3
   },
   "file_extension": ".py",
   "mimetype": "text/x-python",
   "name": "python",
   "nbconvert_exporter": "python",
   "pygments_lexer": "ipython3",
   "version": "3.8.19"
  }
 },
 "nbformat": 4,
 "nbformat_minor": 2
}
