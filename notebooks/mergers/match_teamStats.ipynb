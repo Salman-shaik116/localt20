{
 "cells": [
  {
   "cell_type": "code",
   "execution_count": 1,
   "metadata": {},
   "outputs": [
    {
     "data": {
      "text/html": [
       "<div><style>\n",
       ".dataframe > thead > tr,\n",
       ".dataframe > tbody > tr {\n",
       "  text-align: right;\n",
       "  white-space: pre-wrap;\n",
       "}\n",
       "</style>\n",
       "<small>shape: (3_683, 11)</small><table border=\"1\" class=\"dataframe\"><thead><tr><th>team1</th><th>team2</th><th>gender</th><th>season</th><th>date</th><th>venue</th><th>city</th><th>toss_winner</th><th>toss_decision</th><th>winner</th><th>match_id</th></tr><tr><td>str</td><td>str</td><td>str</td><td>str</td><td>str</td><td>str</td><td>str</td><td>str</td><td>str</td><td>str</td><td>i64</td></tr></thead><tbody><tr><td>&quot;Australia&quot;</td><td>&quot;Sri Lanka&quot;</td><td>&quot;male&quot;</td><td>&quot;2016/17&quot;</td><td>&quot;2017/02/17&quot;</td><td>&quot;Melbourne Cricket Ground&quot;</td><td>null</td><td>&quot;Sri Lanka&quot;</td><td>&quot;field&quot;</td><td>&quot;Sri Lanka&quot;</td><td>1001349</td></tr><tr><td>&quot;Australia&quot;</td><td>&quot;Sri Lanka&quot;</td><td>&quot;male&quot;</td><td>&quot;2016/17&quot;</td><td>&quot;2017/02/19&quot;</td><td>&quot;Simonds Stadium, South Geelong&quot;</td><td>&quot;Victoria&quot;</td><td>&quot;Sri Lanka&quot;</td><td>&quot;field&quot;</td><td>&quot;Sri Lanka&quot;</td><td>1001351</td></tr><tr><td>&quot;Australia&quot;</td><td>&quot;Sri Lanka&quot;</td><td>&quot;male&quot;</td><td>&quot;2016/17&quot;</td><td>&quot;2017/02/22&quot;</td><td>&quot;Adelaide Oval&quot;</td><td>null</td><td>&quot;Sri Lanka&quot;</td><td>&quot;field&quot;</td><td>&quot;Australia&quot;</td><td>1001353</td></tr><tr><td>&quot;Ireland&quot;</td><td>&quot;Hong Kong&quot;</td><td>&quot;male&quot;</td><td>&quot;2016&quot;</td><td>&quot;2016/09/05&quot;</td><td>&quot;Bready Cricket Club, Magherama…</td><td>&quot;Londonderry&quot;</td><td>&quot;Hong Kong&quot;</td><td>&quot;bat&quot;</td><td>&quot;Hong Kong&quot;</td><td>1004729</td></tr><tr><td>&quot;Zimbabwe&quot;</td><td>&quot;India&quot;</td><td>&quot;male&quot;</td><td>&quot;2016&quot;</td><td>&quot;2016/06/18&quot;</td><td>&quot;Harare Sports Club&quot;</td><td>null</td><td>&quot;India&quot;</td><td>&quot;field&quot;</td><td>&quot;Zimbabwe&quot;</td><td>1007655</td></tr><tr><td>&hellip;</td><td>&hellip;</td><td>&hellip;</td><td>&hellip;</td><td>&hellip;</td><td>&hellip;</td><td>&hellip;</td><td>&hellip;</td><td>&hellip;</td><td>&hellip;</td><td>&hellip;</td></tr><tr><td>&quot;Pakistan&quot;</td><td>&quot;Sri Lanka&quot;</td><td>&quot;male&quot;</td><td>&quot;2015/16&quot;</td><td>&quot;2016/03/04&quot;</td><td>&quot;Shere Bangla National Stadium&quot;</td><td>&quot;Mirpur&quot;</td><td>&quot;Pakistan&quot;</td><td>&quot;field&quot;</td><td>&quot;Pakistan&quot;</td><td>966763</td></tr><tr><td>&quot;Bangladesh&quot;</td><td>&quot;India&quot;</td><td>&quot;male&quot;</td><td>&quot;2015/16&quot;</td><td>&quot;2016/03/06&quot;</td><td>&quot;Shere Bangla National Stadium&quot;</td><td>&quot;Mirpur&quot;</td><td>&quot;India&quot;</td><td>&quot;field&quot;</td><td>&quot;India&quot;</td><td>966765</td></tr><tr><td>&quot;United Arab Emirates&quot;</td><td>&quot;Netherlands&quot;</td><td>&quot;male&quot;</td><td>&quot;2015/16&quot;</td><td>&quot;2016/02/03&quot;</td><td>&quot;ICC Academy&quot;</td><td>&quot;Dubai&quot;</td><td>&quot;United Arab Emirates&quot;</td><td>&quot;field&quot;</td><td>&quot;Netherlands&quot;</td><td>967081</td></tr><tr><td>&quot;Sri Lanka&quot;</td><td>&quot;Australia&quot;</td><td>&quot;male&quot;</td><td>&quot;2016&quot;</td><td>&quot;2016/09/06&quot;</td><td>&quot;Pallekele International Cricke…</td><td>null</td><td>&quot;Sri Lanka&quot;</td><td>&quot;field&quot;</td><td>&quot;Australia&quot;</td><td>995467</td></tr><tr><td>&quot;Sri Lanka&quot;</td><td>&quot;Australia&quot;</td><td>&quot;male&quot;</td><td>&quot;2016&quot;</td><td>&quot;2016/09/09&quot;</td><td>&quot;R Premadasa Stadium&quot;</td><td>&quot;Colombo&quot;</td><td>&quot;Sri Lanka&quot;</td><td>&quot;bat&quot;</td><td>&quot;Australia&quot;</td><td>995469</td></tr></tbody></table></div>"
      ],
      "text/plain": [
       "shape: (3_683, 11)\n",
       "┌────────────┬────────────┬────────┬─────────┬───┬────────────┬────────────┬────────────┬──────────┐\n",
       "│ team1      ┆ team2      ┆ gender ┆ season  ┆ … ┆ toss_winne ┆ toss_decis ┆ winner     ┆ match_id │\n",
       "│ ---        ┆ ---        ┆ ---    ┆ ---     ┆   ┆ r          ┆ ion        ┆ ---        ┆ ---      │\n",
       "│ str        ┆ str        ┆ str    ┆ str     ┆   ┆ ---        ┆ ---        ┆ str        ┆ i64      │\n",
       "│            ┆            ┆        ┆         ┆   ┆ str        ┆ str        ┆            ┆          │\n",
       "╞════════════╪════════════╪════════╪═════════╪═══╪════════════╪════════════╪════════════╪══════════╡\n",
       "│ Australia  ┆ Sri Lanka  ┆ male   ┆ 2016/17 ┆ … ┆ Sri Lanka  ┆ field      ┆ Sri Lanka  ┆ 1001349  │\n",
       "│ Australia  ┆ Sri Lanka  ┆ male   ┆ 2016/17 ┆ … ┆ Sri Lanka  ┆ field      ┆ Sri Lanka  ┆ 1001351  │\n",
       "│ Australia  ┆ Sri Lanka  ┆ male   ┆ 2016/17 ┆ … ┆ Sri Lanka  ┆ field      ┆ Australia  ┆ 1001353  │\n",
       "│ Ireland    ┆ Hong Kong  ┆ male   ┆ 2016    ┆ … ┆ Hong Kong  ┆ bat        ┆ Hong Kong  ┆ 1004729  │\n",
       "│ Zimbabwe   ┆ India      ┆ male   ┆ 2016    ┆ … ┆ India      ┆ field      ┆ Zimbabwe   ┆ 1007655  │\n",
       "│ …          ┆ …          ┆ …      ┆ …       ┆ … ┆ …          ┆ …          ┆ …          ┆ …        │\n",
       "│ Pakistan   ┆ Sri Lanka  ┆ male   ┆ 2015/16 ┆ … ┆ Pakistan   ┆ field      ┆ Pakistan   ┆ 966763   │\n",
       "│ Bangladesh ┆ India      ┆ male   ┆ 2015/16 ┆ … ┆ India      ┆ field      ┆ India      ┆ 966765   │\n",
       "│ United     ┆ Netherland ┆ male   ┆ 2015/16 ┆ … ┆ United     ┆ field      ┆ Netherland ┆ 967081   │\n",
       "│ Arab       ┆ s          ┆        ┆         ┆   ┆ Arab       ┆            ┆ s          ┆          │\n",
       "│ Emirates   ┆            ┆        ┆         ┆   ┆ Emirates   ┆            ┆            ┆          │\n",
       "│ Sri Lanka  ┆ Australia  ┆ male   ┆ 2016    ┆ … ┆ Sri Lanka  ┆ field      ┆ Australia  ┆ 995467   │\n",
       "│ Sri Lanka  ┆ Australia  ┆ male   ┆ 2016    ┆ … ┆ Sri Lanka  ┆ bat        ┆ Australia  ┆ 995469   │\n",
       "└────────────┴────────────┴────────┴─────────┴───┴────────────┴────────────┴────────────┴──────────┘"
      ]
     },
     "execution_count": 1,
     "metadata": {},
     "output_type": "execute_result"
    }
   ],
   "source": [
    "import os\n",
    "directory = r'D:\\github\\localt20\\data\\processedData'\n",
    "\n",
    "import polars as pl\n",
    "matches = pl.read_csv(os.path.join(directory, 'matches.csv'))\n",
    "team_data = pl.read_csv(os.path.join(directory, 'teamStats.csv'))\n",
    "matches"
   ]
  },
  {
   "cell_type": "code",
   "execution_count": 2,
   "metadata": {},
   "outputs": [],
   "source": [
    "tdt = team_data['Team'].unique().to_list()\n",
    "mdt = matches['team1'].unique().to_list()"
   ]
  },
  {
   "cell_type": "code",
   "execution_count": 3,
   "metadata": {},
   "outputs": [
    {
     "name": "stdout",
     "output_type": "stream",
     "text": [
      "Czech Rep.\n",
      "U.S.A.\n",
      "Peru\n",
      "P.N.G.\n",
      "ICC World XI\n",
      "World-XI\n",
      "Cayman\n",
      "U.A.E.\n"
     ]
    }
   ],
   "source": [
    "for i in tdt:\n",
    "    if i not in mdt:\n",
    "        print(i)"
   ]
  },
  {
   "cell_type": "code",
   "execution_count": 4,
   "metadata": {},
   "outputs": [
    {
     "name": "stdout",
     "output_type": "stream",
     "text": [
      "United States of America\n",
      "Papua New Guinea\n",
      "Czech Republic\n",
      "Cayman Islands\n",
      "Barbados\n",
      "United Arab Emirates\n"
     ]
    }
   ],
   "source": [
    "for i in mdt:\n",
    "    if i not in tdt:\n",
    "        print(i)"
   ]
  },
  {
   "cell_type": "code",
   "execution_count": 5,
   "metadata": {},
   "outputs": [
    {
     "name": "stdout",
     "output_type": "stream",
     "text": [
      "Mapped Team Names Dictionary: {'U.S.A.': 'United States of America', 'U.A.E.': 'United Arab Emirates', 'Czech Rep.': 'Czech Republic', 'P.N.G.': 'Papua New Guinea', 'Cayman': 'Cayman Islands'}\n",
      "Unmatched Teams in tdt: ['Peru', 'ICC World XI', 'World-XI']\n",
      "Unmatched Teams in mdt: ['Barbados']\n"
     ]
    }
   ],
   "source": [
    "# Teams that need to be mapped between `tdt` and `mdt`\n",
    "team_name_mapping = {\n",
    "    'U.S.A.': 'United States of America',\n",
    "    'U.A.E.': 'United Arab Emirates',\n",
    "    'Czech Rep.': 'Czech Republic',\n",
    "    'P.N.G.': 'Papua New Guinea',\n",
    "    'Cayman': 'Cayman Islands'\n",
    "}\n",
    "\n",
    "# Teams that do not have a direct match\n",
    "unmatched_tdt = [team for team in tdt if team not in mdt and team not in team_name_mapping]\n",
    "unmatched_mdt = [team for team in mdt if team not in tdt and team not in team_name_mapping.values()]\n",
    "\n",
    "print(\"Mapped Team Names Dictionary:\", team_name_mapping)\n",
    "print(\"Unmatched Teams in tdt:\", unmatched_tdt)\n",
    "print(\"Unmatched Teams in mdt:\", unmatched_mdt)"
   ]
  },
  {
   "cell_type": "code",
   "execution_count": 6,
   "metadata": {},
   "outputs": [
    {
     "data": {
      "text/plain": [
       "['Peru', 'ICC World XI', 'World-XI', 'Barbados']"
      ]
     },
     "execution_count": 6,
     "metadata": {},
     "output_type": "execute_result"
    }
   ],
   "source": [
    "unmatched_teams = unmatched_tdt + unmatched_mdt\n",
    "unmatched_teams"
   ]
  },
  {
   "cell_type": "code",
   "execution_count": 7,
   "metadata": {},
   "outputs": [
    {
     "name": "stdout",
     "output_type": "stream",
     "text": [
      "(907, 13) (3683, 11)\n",
      "(904, 13) (3676, 11)\n"
     ]
    }
   ],
   "source": [
    "print(team_data.shape, matches.shape)\n",
    "team_data = team_data.filter(~pl.col('Team').is_in(unmatched_teams)).sort('Team')\n",
    "matches = matches.filter(~pl.col('team1').is_in(unmatched_teams)).sort('team1')\n",
    "matches = matches.filter(~pl.col('team2').is_in(unmatched_teams)).sort('team2')\n",
    "print(team_data.shape, matches.shape)"
   ]
  },
  {
   "cell_type": "code",
   "execution_count": 8,
   "metadata": {},
   "outputs": [
    {
     "data": {
      "text/plain": [
       "{'U.S.A.': 'United States of America',\n",
       " 'U.A.E.': 'United Arab Emirates',\n",
       " 'Czech Rep.': 'Czech Republic',\n",
       " 'P.N.G.': 'Papua New Guinea',\n",
       " 'Cayman': 'Cayman Islands'}"
      ]
     },
     "execution_count": 8,
     "metadata": {},
     "output_type": "execute_result"
    }
   ],
   "source": [
    "team_name_mapping"
   ]
  },
  {
   "cell_type": "code",
   "execution_count": 9,
   "metadata": {},
   "outputs": [
    {
     "data": {
      "text/html": [
       "<div><style>\n",
       ".dataframe > thead > tr,\n",
       ".dataframe > tbody > tr {\n",
       "  text-align: right;\n",
       "  white-space: pre-wrap;\n",
       "}\n",
       "</style>\n",
       "<small>shape: (3_676, 11)</small><table border=\"1\" class=\"dataframe\"><thead><tr><th>team1</th><th>team2</th><th>gender</th><th>season</th><th>date</th><th>venue</th><th>city</th><th>toss_winner</th><th>toss_decision</th><th>winner</th><th>match_id</th></tr><tr><td>str</td><td>str</td><td>str</td><td>str</td><td>str</td><td>str</td><td>str</td><td>str</td><td>str</td><td>str</td><td>i64</td></tr></thead><tbody><tr><td>&quot;Australia&quot;</td><td>&quot;Afghanistan&quot;</td><td>&quot;male&quot;</td><td>&quot;2022/23&quot;</td><td>&quot;2022/11/04&quot;</td><td>&quot;Adelaide Oval&quot;</td><td>&quot;Adelaide&quot;</td><td>&quot;Afghanistan&quot;</td><td>&quot;field&quot;</td><td>&quot;Australia&quot;</td><td>1298172</td></tr><tr><td>&quot;Bangladesh&quot;</td><td>&quot;Afghanistan&quot;</td><td>&quot;male&quot;</td><td>&quot;2018&quot;</td><td>&quot;2018/06/05&quot;</td><td>&quot;Rajiv Gandhi International Cri…</td><td>&quot;Dehradun&quot;</td><td>&quot;Bangladesh&quot;</td><td>&quot;bat&quot;</td><td>&quot;Afghanistan&quot;</td><td>1145983</td></tr><tr><td>&quot;Bangladesh&quot;</td><td>&quot;Afghanistan&quot;</td><td>&quot;male&quot;</td><td>&quot;2019&quot;</td><td>&quot;2019/09/15&quot;</td><td>&quot;Shere Bangla National Stadium,…</td><td>&quot;Dhaka&quot;</td><td>&quot;Afghanistan&quot;</td><td>&quot;bat&quot;</td><td>&quot;Afghanistan&quot;</td><td>1197142</td></tr><tr><td>&quot;Bangladesh&quot;</td><td>&quot;Afghanistan&quot;</td><td>&quot;male&quot;</td><td>&quot;2019&quot;</td><td>&quot;2019/09/21&quot;</td><td>&quot;Zahur Ahmed Chowdhury Stadium&quot;</td><td>&quot;Chattogram&quot;</td><td>&quot;Bangladesh&quot;</td><td>&quot;field&quot;</td><td>&quot;Bangladesh&quot;</td><td>1197145</td></tr><tr><td>&quot;Bangladesh&quot;</td><td>&quot;Afghanistan&quot;</td><td>&quot;male&quot;</td><td>&quot;2021/22&quot;</td><td>&quot;2022/03/03&quot;</td><td>&quot;Shere Bangla National Stadium,…</td><td>&quot;Dhaka&quot;</td><td>&quot;Bangladesh&quot;</td><td>&quot;bat&quot;</td><td>&quot;Bangladesh&quot;</td><td>1299832</td></tr><tr><td>&hellip;</td><td>&hellip;</td><td>&hellip;</td><td>&hellip;</td><td>&hellip;</td><td>&hellip;</td><td>&hellip;</td><td>&hellip;</td><td>&hellip;</td><td>&hellip;</td><td>&hellip;</td></tr><tr><td>&quot;United Arab Emirates&quot;</td><td>&quot;Zimbabwe&quot;</td><td>&quot;male&quot;</td><td>&quot;2013/14&quot;</td><td>&quot;2014/03/21&quot;</td><td>&quot;Sylhet Stadium&quot;</td><td>null</td><td>&quot;Zimbabwe&quot;</td><td>&quot;field&quot;</td><td>&quot;Zimbabwe&quot;</td><td>682917</td></tr><tr><td>&quot;West Indies&quot;</td><td>&quot;Zimbabwe&quot;</td><td>&quot;male&quot;</td><td>&quot;2022/23&quot;</td><td>&quot;2022/10/19&quot;</td><td>&quot;Bellerive Oval, Hobart&quot;</td><td>&quot;Hobart&quot;</td><td>&quot;West Indies&quot;</td><td>&quot;bat&quot;</td><td>&quot;West Indies&quot;</td><td>1298142</td></tr><tr><td>&quot;West Indies&quot;</td><td>&quot;Zimbabwe&quot;</td><td>&quot;male&quot;</td><td>&quot;2009/10&quot;</td><td>&quot;2010/02/28&quot;</td><td>&quot;Queen&#x27;s Park Oval, Port of Spa…</td><td>&quot;Trinidad&quot;</td><td>&quot;Zimbabwe&quot;</td><td>&quot;bat&quot;</td><td>&quot;Zimbabwe&quot;</td><td>439139</td></tr><tr><td>&quot;West Indies&quot;</td><td>&quot;Zimbabwe&quot;</td><td>&quot;male&quot;</td><td>&quot;2012/13&quot;</td><td>&quot;2013/03/02&quot;</td><td>&quot;Sir Vivian Richards Stadium, N…</td><td>&quot;Antigua&quot;</td><td>&quot;Zimbabwe&quot;</td><td>&quot;bat&quot;</td><td>&quot;West Indies&quot;</td><td>593986</td></tr><tr><td>&quot;West Indies&quot;</td><td>&quot;Zimbabwe&quot;</td><td>&quot;male&quot;</td><td>&quot;2012/13&quot;</td><td>&quot;2013/03/03&quot;</td><td>&quot;Sir Vivian Richards Stadium, N…</td><td>&quot;Antigua&quot;</td><td>&quot;West Indies&quot;</td><td>&quot;bat&quot;</td><td>&quot;West Indies&quot;</td><td>593987</td></tr></tbody></table></div>"
      ],
      "text/plain": [
       "shape: (3_676, 11)\n",
       "┌────────────┬────────────┬────────┬─────────┬───┬────────────┬────────────┬────────────┬──────────┐\n",
       "│ team1      ┆ team2      ┆ gender ┆ season  ┆ … ┆ toss_winne ┆ toss_decis ┆ winner     ┆ match_id │\n",
       "│ ---        ┆ ---        ┆ ---    ┆ ---     ┆   ┆ r          ┆ ion        ┆ ---        ┆ ---      │\n",
       "│ str        ┆ str        ┆ str    ┆ str     ┆   ┆ ---        ┆ ---        ┆ str        ┆ i64      │\n",
       "│            ┆            ┆        ┆         ┆   ┆ str        ┆ str        ┆            ┆          │\n",
       "╞════════════╪════════════╪════════╪═════════╪═══╪════════════╪════════════╪════════════╪══════════╡\n",
       "│ Australia  ┆ Afghanista ┆ male   ┆ 2022/23 ┆ … ┆ Afghanista ┆ field      ┆ Australia  ┆ 1298172  │\n",
       "│            ┆ n          ┆        ┆         ┆   ┆ n          ┆            ┆            ┆          │\n",
       "│ Bangladesh ┆ Afghanista ┆ male   ┆ 2018    ┆ … ┆ Bangladesh ┆ bat        ┆ Afghanista ┆ 1145983  │\n",
       "│            ┆ n          ┆        ┆         ┆   ┆            ┆            ┆ n          ┆          │\n",
       "│ Bangladesh ┆ Afghanista ┆ male   ┆ 2019    ┆ … ┆ Afghanista ┆ bat        ┆ Afghanista ┆ 1197142  │\n",
       "│            ┆ n          ┆        ┆         ┆   ┆ n          ┆            ┆ n          ┆          │\n",
       "│ Bangladesh ┆ Afghanista ┆ male   ┆ 2019    ┆ … ┆ Bangladesh ┆ field      ┆ Bangladesh ┆ 1197145  │\n",
       "│            ┆ n          ┆        ┆         ┆   ┆            ┆            ┆            ┆          │\n",
       "│ Bangladesh ┆ Afghanista ┆ male   ┆ 2021/22 ┆ … ┆ Bangladesh ┆ bat        ┆ Bangladesh ┆ 1299832  │\n",
       "│            ┆ n          ┆        ┆         ┆   ┆            ┆            ┆            ┆          │\n",
       "│ …          ┆ …          ┆ …      ┆ …       ┆ … ┆ …          ┆ …          ┆ …          ┆ …        │\n",
       "│ United     ┆ Zimbabwe   ┆ male   ┆ 2013/14 ┆ … ┆ Zimbabwe   ┆ field      ┆ Zimbabwe   ┆ 682917   │\n",
       "│ Arab       ┆            ┆        ┆         ┆   ┆            ┆            ┆            ┆          │\n",
       "│ Emirates   ┆            ┆        ┆         ┆   ┆            ┆            ┆            ┆          │\n",
       "│ West       ┆ Zimbabwe   ┆ male   ┆ 2022/23 ┆ … ┆ West       ┆ bat        ┆ West       ┆ 1298142  │\n",
       "│ Indies     ┆            ┆        ┆         ┆   ┆ Indies     ┆            ┆ Indies     ┆          │\n",
       "│ West       ┆ Zimbabwe   ┆ male   ┆ 2009/10 ┆ … ┆ Zimbabwe   ┆ bat        ┆ Zimbabwe   ┆ 439139   │\n",
       "│ Indies     ┆            ┆        ┆         ┆   ┆            ┆            ┆            ┆          │\n",
       "│ West       ┆ Zimbabwe   ┆ male   ┆ 2012/13 ┆ … ┆ Zimbabwe   ┆ bat        ┆ West       ┆ 593986   │\n",
       "│ Indies     ┆            ┆        ┆         ┆   ┆            ┆            ┆ Indies     ┆          │\n",
       "│ West       ┆ Zimbabwe   ┆ male   ┆ 2012/13 ┆ … ┆ West       ┆ bat        ┆ West       ┆ 593987   │\n",
       "│ Indies     ┆            ┆        ┆         ┆   ┆ Indies     ┆            ┆ Indies     ┆          │\n",
       "└────────────┴────────────┴────────┴─────────┴───┴────────────┴────────────┴────────────┴──────────┘"
      ]
     },
     "execution_count": 9,
     "metadata": {},
     "output_type": "execute_result"
    }
   ],
   "source": [
    "team_data = team_data.with_columns(pl.col('Team').map_elements(lambda x: team_name_mapping.get(x, x),return_dtype=pl.String).alias('Team'))\n",
    "matches = matches.with_columns(pl.col('team1').map_elements(lambda x: team_name_mapping.get(x, x),return_dtype=pl.String).alias('team1'))\n",
    "matches = matches.with_columns(pl.col('team2').map_elements(lambda x: team_name_mapping.get(x, x),return_dtype=pl.String).alias('team2'))\n",
    "matches"
   ]
  },
  {
   "cell_type": "code",
   "execution_count": 10,
   "metadata": {},
   "outputs": [
    {
     "data": {
      "text/html": [
       "<div><style>\n",
       ".dataframe > thead > tr,\n",
       ".dataframe > tbody > tr {\n",
       "  text-align: right;\n",
       "  white-space: pre-wrap;\n",
       "}\n",
       "</style>\n",
       "<small>shape: (3_491, 22)</small><table border=\"1\" class=\"dataframe\"><thead><tr><th>team1</th><th>team2</th><th>gender</th><th>season</th><th>date</th><th>venue</th><th>city</th><th>toss_winner</th><th>toss_decision</th><th>winner</th><th>match_id</th><th>Mat</th><th>Won</th><th>Lost</th><th>Tied</th><th>NR</th><th>W/L</th><th>Inns</th><th>HS</th><th>LS</th><th>AveRPW</th><th>AveRPO</th></tr><tr><td>str</td><td>str</td><td>str</td><td>str</td><td>str</td><td>str</td><td>str</td><td>str</td><td>str</td><td>str</td><td>i64</td><td>i64</td><td>i64</td><td>i64</td><td>i64</td><td>i64</td><td>f64</td><td>i64</td><td>i64</td><td>f64</td><td>f64</td><td>f64</td></tr></thead><tbody><tr><td>&quot;Australia&quot;</td><td>&quot;Afghanistan&quot;</td><td>&quot;male&quot;</td><td>&quot;2022/23&quot;</td><td>&quot;2022/11/04&quot;</td><td>&quot;Adelaide Oval&quot;</td><td>&quot;Adelaide&quot;</td><td>&quot;Afghanistan&quot;</td><td>&quot;field&quot;</td><td>&quot;Australia&quot;</td><td>1298172</td><td>9</td><td>5</td><td>3</td><td>0</td><td>1</td><td>1.666667</td><td>9</td><td>200</td><td>111.0</td><td>23.1</td><td>8.51</td></tr><tr><td>&quot;Bangladesh&quot;</td><td>&quot;Afghanistan&quot;</td><td>&quot;male&quot;</td><td>&quot;2018&quot;</td><td>&quot;2018/06/05&quot;</td><td>&quot;Rajiv Gandhi International Cri…</td><td>&quot;Dehradun&quot;</td><td>&quot;Bangladesh&quot;</td><td>&quot;bat&quot;</td><td>&quot;Afghanistan&quot;</td><td>1145983</td><td>6</td><td>2</td><td>4</td><td>0</td><td>0</td><td>0.5</td><td>6</td><td>184</td><td>122.0</td><td>20.88</td><td>7.54</td></tr><tr><td>&quot;Bangladesh&quot;</td><td>&quot;Afghanistan&quot;</td><td>&quot;male&quot;</td><td>&quot;2019&quot;</td><td>&quot;2019/09/15&quot;</td><td>&quot;Shere Bangla National Stadium,…</td><td>&quot;Dhaka&quot;</td><td>&quot;Afghanistan&quot;</td><td>&quot;bat&quot;</td><td>&quot;Afghanistan&quot;</td><td>1197142</td><td>4</td><td>3</td><td>1</td><td>0</td><td>0</td><td>3.0</td><td>4</td><td>175</td><td>139.0</td><td>20.03</td><td>7.85</td></tr><tr><td>&quot;Bangladesh&quot;</td><td>&quot;Afghanistan&quot;</td><td>&quot;male&quot;</td><td>&quot;2019&quot;</td><td>&quot;2019/09/21&quot;</td><td>&quot;Zahur Ahmed Chowdhury Stadium&quot;</td><td>&quot;Chattogram&quot;</td><td>&quot;Bangladesh&quot;</td><td>&quot;field&quot;</td><td>&quot;Bangladesh&quot;</td><td>1197145</td><td>4</td><td>3</td><td>1</td><td>0</td><td>0</td><td>3.0</td><td>4</td><td>175</td><td>139.0</td><td>20.03</td><td>7.85</td></tr><tr><td>&quot;Bangladesh&quot;</td><td>&quot;Afghanistan&quot;</td><td>&quot;male&quot;</td><td>&quot;2021/22&quot;</td><td>&quot;2022/03/03&quot;</td><td>&quot;Shere Bangla National Stadium,…</td><td>&quot;Dhaka&quot;</td><td>&quot;Bangladesh&quot;</td><td>&quot;bat&quot;</td><td>&quot;Bangladesh&quot;</td><td>1299832</td><td>13</td><td>3</td><td>10</td><td>0</td><td>0</td><td>0.3</td><td>13</td><td>181</td><td>73.0</td><td>16.88</td><td>6.66</td></tr><tr><td>&hellip;</td><td>&hellip;</td><td>&hellip;</td><td>&hellip;</td><td>&hellip;</td><td>&hellip;</td><td>&hellip;</td><td>&hellip;</td><td>&hellip;</td><td>&hellip;</td><td>&hellip;</td><td>&hellip;</td><td>&hellip;</td><td>&hellip;</td><td>&hellip;</td><td>&hellip;</td><td>&hellip;</td><td>&hellip;</td><td>&hellip;</td><td>&hellip;</td><td>&hellip;</td><td>&hellip;</td></tr><tr><td>&quot;United Arab Emirates&quot;</td><td>&quot;Zimbabwe&quot;</td><td>&quot;male&quot;</td><td>&quot;2013/14&quot;</td><td>&quot;2014/03/21&quot;</td><td>&quot;Sylhet Stadium&quot;</td><td>null</td><td>&quot;Zimbabwe&quot;</td><td>&quot;field&quot;</td><td>&quot;Zimbabwe&quot;</td><td>682917</td><td>3</td><td>0</td><td>3</td><td>0</td><td>0</td><td>0.0</td><td>3</td><td>151</td><td>151.0</td><td>15.6</td><td>6.51</td></tr><tr><td>&quot;West Indies&quot;</td><td>&quot;Zimbabwe&quot;</td><td>&quot;male&quot;</td><td>&quot;2022/23&quot;</td><td>&quot;2022/10/19&quot;</td><td>&quot;Bellerive Oval, Hobart&quot;</td><td>&quot;Hobart&quot;</td><td>&quot;West Indies&quot;</td><td>&quot;bat&quot;</td><td>&quot;West Indies&quot;</td><td>1298142</td><td>8</td><td>3</td><td>5</td><td>0</td><td>0</td><td>0.6</td><td>8</td><td>258</td><td>118.0</td><td>22.35</td><td>8.85</td></tr><tr><td>&quot;West Indies&quot;</td><td>&quot;Zimbabwe&quot;</td><td>&quot;male&quot;</td><td>&quot;2009/10&quot;</td><td>&quot;2010/02/28&quot;</td><td>&quot;Queen&#x27;s Park Oval, Port of Spa…</td><td>&quot;Trinidad&quot;</td><td>&quot;Zimbabwe&quot;</td><td>&quot;bat&quot;</td><td>&quot;Zimbabwe&quot;</td><td>439139</td><td>3</td><td>0</td><td>3</td><td>0</td><td>0</td><td>0.0</td><td>3</td><td>141</td><td>0.0</td><td>16.27</td><td>5.96</td></tr><tr><td>&quot;West Indies&quot;</td><td>&quot;Zimbabwe&quot;</td><td>&quot;male&quot;</td><td>&quot;2012/13&quot;</td><td>&quot;2013/03/02&quot;</td><td>&quot;Sir Vivian Richards Stadium, N…</td><td>&quot;Antigua&quot;</td><td>&quot;Zimbabwe&quot;</td><td>&quot;bat&quot;</td><td>&quot;West Indies&quot;</td><td>593986</td><td>11</td><td>7</td><td>2</td><td>1</td><td>1</td><td>3.5</td><td>10</td><td>205</td><td>139.0</td><td>29.07</td><td>8.46</td></tr><tr><td>&quot;West Indies&quot;</td><td>&quot;Zimbabwe&quot;</td><td>&quot;male&quot;</td><td>&quot;2012/13&quot;</td><td>&quot;2013/03/03&quot;</td><td>&quot;Sir Vivian Richards Stadium, N…</td><td>&quot;Antigua&quot;</td><td>&quot;West Indies&quot;</td><td>&quot;bat&quot;</td><td>&quot;West Indies&quot;</td><td>593987</td><td>11</td><td>7</td><td>2</td><td>1</td><td>1</td><td>3.5</td><td>10</td><td>205</td><td>139.0</td><td>29.07</td><td>8.46</td></tr></tbody></table></div>"
      ],
      "text/plain": [
       "shape: (3_491, 22)\n",
       "┌──────────────────────┬─────────────┬────────┬─────────┬───┬─────┬───────┬────────┬────────┐\n",
       "│ team1                ┆ team2       ┆ gender ┆ season  ┆ … ┆ HS  ┆ LS    ┆ AveRPW ┆ AveRPO │\n",
       "│ ---                  ┆ ---         ┆ ---    ┆ ---     ┆   ┆ --- ┆ ---   ┆ ---    ┆ ---    │\n",
       "│ str                  ┆ str         ┆ str    ┆ str     ┆   ┆ i64 ┆ f64   ┆ f64    ┆ f64    │\n",
       "╞══════════════════════╪═════════════╪════════╪═════════╪═══╪═════╪═══════╪════════╪════════╡\n",
       "│ Australia            ┆ Afghanistan ┆ male   ┆ 2022/23 ┆ … ┆ 200 ┆ 111.0 ┆ 23.1   ┆ 8.51   │\n",
       "│ Bangladesh           ┆ Afghanistan ┆ male   ┆ 2018    ┆ … ┆ 184 ┆ 122.0 ┆ 20.88  ┆ 7.54   │\n",
       "│ Bangladesh           ┆ Afghanistan ┆ male   ┆ 2019    ┆ … ┆ 175 ┆ 139.0 ┆ 20.03  ┆ 7.85   │\n",
       "│ Bangladesh           ┆ Afghanistan ┆ male   ┆ 2019    ┆ … ┆ 175 ┆ 139.0 ┆ 20.03  ┆ 7.85   │\n",
       "│ Bangladesh           ┆ Afghanistan ┆ male   ┆ 2021/22 ┆ … ┆ 181 ┆ 73.0  ┆ 16.88  ┆ 6.66   │\n",
       "│ …                    ┆ …           ┆ …      ┆ …       ┆ … ┆ …   ┆ …     ┆ …      ┆ …      │\n",
       "│ United Arab Emirates ┆ Zimbabwe    ┆ male   ┆ 2013/14 ┆ … ┆ 151 ┆ 151.0 ┆ 15.6   ┆ 6.51   │\n",
       "│ West Indies          ┆ Zimbabwe    ┆ male   ┆ 2022/23 ┆ … ┆ 258 ┆ 118.0 ┆ 22.35  ┆ 8.85   │\n",
       "│ West Indies          ┆ Zimbabwe    ┆ male   ┆ 2009/10 ┆ … ┆ 141 ┆ 0.0   ┆ 16.27  ┆ 5.96   │\n",
       "│ West Indies          ┆ Zimbabwe    ┆ male   ┆ 2012/13 ┆ … ┆ 205 ┆ 139.0 ┆ 29.07  ┆ 8.46   │\n",
       "│ West Indies          ┆ Zimbabwe    ┆ male   ┆ 2012/13 ┆ … ┆ 205 ┆ 139.0 ┆ 29.07  ┆ 8.46   │\n",
       "└──────────────────────┴─────────────┴────────┴─────────┴───┴─────┴───────┴────────┴────────┘"
      ]
     },
     "execution_count": 10,
     "metadata": {},
     "output_type": "execute_result"
    }
   ],
   "source": [
    "data = matches.join(team_data, left_on=['team1','season'], right_on=['Team','Season'], how='inner',suffix='_team1')\n",
    "data"
   ]
  },
  {
   "cell_type": "code",
   "execution_count": 12,
   "metadata": {},
   "outputs": [
    {
     "data": {
      "text/html": [
       "<div><style>\n",
       ".dataframe > thead > tr,\n",
       ".dataframe > tbody > tr {\n",
       "  text-align: right;\n",
       "  white-space: pre-wrap;\n",
       "}\n",
       "</style>\n",
       "<small>shape: (3_399, 33)</small><table border=\"1\" class=\"dataframe\"><thead><tr><th>team1</th><th>team2</th><th>gender</th><th>season</th><th>date</th><th>venue</th><th>city</th><th>toss_winner</th><th>toss_decision</th><th>winner</th><th>match_id</th><th>Mat</th><th>Won</th><th>Lost</th><th>Tied</th><th>NR</th><th>W/L</th><th>Inns</th><th>HS</th><th>LS</th><th>AveRPW</th><th>AveRPO</th><th>Mat_team2</th><th>Won_team2</th><th>Lost_team2</th><th>Tied_team2</th><th>NR_team2</th><th>W/L_team2</th><th>Inns_team2</th><th>HS_team2</th><th>LS_team2</th><th>AveRPW_team2</th><th>AveRPO_team2</th></tr><tr><td>str</td><td>str</td><td>str</td><td>str</td><td>str</td><td>str</td><td>str</td><td>str</td><td>str</td><td>str</td><td>i64</td><td>i64</td><td>i64</td><td>i64</td><td>i64</td><td>i64</td><td>f64</td><td>i64</td><td>i64</td><td>f64</td><td>f64</td><td>f64</td><td>i64</td><td>i64</td><td>i64</td><td>i64</td><td>i64</td><td>f64</td><td>i64</td><td>i64</td><td>f64</td><td>f64</td><td>f64</td></tr></thead><tbody><tr><td>&quot;Australia&quot;</td><td>&quot;Afghanistan&quot;</td><td>&quot;male&quot;</td><td>&quot;2022/23&quot;</td><td>&quot;2022/11/04&quot;</td><td>&quot;Adelaide Oval&quot;</td><td>&quot;Adelaide&quot;</td><td>&quot;Afghanistan&quot;</td><td>&quot;field&quot;</td><td>&quot;Australia&quot;</td><td>1298172</td><td>9</td><td>5</td><td>3</td><td>0</td><td>1</td><td>1.666667</td><td>9</td><td>200</td><td>111.0</td><td>23.1</td><td>8.51</td><td>9</td><td>4</td><td>5</td><td>0</td><td>0</td><td>0.8</td><td>9</td><td>166</td><td>112.0</td><td>21.33</td><td>6.97</td></tr><tr><td>&quot;Bangladesh&quot;</td><td>&quot;Afghanistan&quot;</td><td>&quot;male&quot;</td><td>&quot;2018&quot;</td><td>&quot;2018/06/05&quot;</td><td>&quot;Rajiv Gandhi International Cri…</td><td>&quot;Dehradun&quot;</td><td>&quot;Bangladesh&quot;</td><td>&quot;bat&quot;</td><td>&quot;Afghanistan&quot;</td><td>1145983</td><td>6</td><td>2</td><td>4</td><td>0</td><td>0</td><td>0.5</td><td>6</td><td>184</td><td>122.0</td><td>20.88</td><td>7.54</td><td>5</td><td>5</td><td>0</td><td>0</td><td>0</td><td>5.0</td><td>5</td><td>167</td><td>0.0</td><td>23.24</td><td>7.92</td></tr><tr><td>&quot;Bangladesh&quot;</td><td>&quot;Afghanistan&quot;</td><td>&quot;male&quot;</td><td>&quot;2019&quot;</td><td>&quot;2019/09/15&quot;</td><td>&quot;Shere Bangla National Stadium,…</td><td>&quot;Dhaka&quot;</td><td>&quot;Afghanistan&quot;</td><td>&quot;bat&quot;</td><td>&quot;Afghanistan&quot;</td><td>1197142</td><td>4</td><td>3</td><td>1</td><td>0</td><td>0</td><td>3.0</td><td>4</td><td>175</td><td>139.0</td><td>20.03</td><td>7.85</td><td>4</td><td>2</td><td>2</td><td>0</td><td>0</td><td>1.0</td><td>4</td><td>197</td><td>0.0</td><td>25.15</td><td>8.17</td></tr><tr><td>&quot;Bangladesh&quot;</td><td>&quot;Afghanistan&quot;</td><td>&quot;male&quot;</td><td>&quot;2019&quot;</td><td>&quot;2019/09/21&quot;</td><td>&quot;Zahur Ahmed Chowdhury Stadium&quot;</td><td>&quot;Chattogram&quot;</td><td>&quot;Bangladesh&quot;</td><td>&quot;field&quot;</td><td>&quot;Bangladesh&quot;</td><td>1197145</td><td>4</td><td>3</td><td>1</td><td>0</td><td>0</td><td>3.0</td><td>4</td><td>175</td><td>139.0</td><td>20.03</td><td>7.85</td><td>4</td><td>2</td><td>2</td><td>0</td><td>0</td><td>1.0</td><td>4</td><td>197</td><td>0.0</td><td>25.15</td><td>8.17</td></tr><tr><td>&quot;Bangladesh&quot;</td><td>&quot;Afghanistan&quot;</td><td>&quot;male&quot;</td><td>&quot;2021/22&quot;</td><td>&quot;2022/03/03&quot;</td><td>&quot;Shere Bangla National Stadium,…</td><td>&quot;Dhaka&quot;</td><td>&quot;Bangladesh&quot;</td><td>&quot;bat&quot;</td><td>&quot;Bangladesh&quot;</td><td>1299832</td><td>13</td><td>3</td><td>10</td><td>0</td><td>0</td><td>0.3</td><td>13</td><td>181</td><td>73.0</td><td>16.88</td><td>6.66</td><td>7</td><td>3</td><td>4</td><td>0</td><td>0</td><td>0.75</td><td>7</td><td>190</td><td>94.0</td><td>23.33</td><td>7.24</td></tr><tr><td>&hellip;</td><td>&hellip;</td><td>&hellip;</td><td>&hellip;</td><td>&hellip;</td><td>&hellip;</td><td>&hellip;</td><td>&hellip;</td><td>&hellip;</td><td>&hellip;</td><td>&hellip;</td><td>&hellip;</td><td>&hellip;</td><td>&hellip;</td><td>&hellip;</td><td>&hellip;</td><td>&hellip;</td><td>&hellip;</td><td>&hellip;</td><td>&hellip;</td><td>&hellip;</td><td>&hellip;</td><td>&hellip;</td><td>&hellip;</td><td>&hellip;</td><td>&hellip;</td><td>&hellip;</td><td>&hellip;</td><td>&hellip;</td><td>&hellip;</td><td>&hellip;</td><td>&hellip;</td><td>&hellip;</td></tr><tr><td>&quot;United Arab Emirates&quot;</td><td>&quot;Zimbabwe&quot;</td><td>&quot;male&quot;</td><td>&quot;2013/14&quot;</td><td>&quot;2014/03/21&quot;</td><td>&quot;Sylhet Stadium&quot;</td><td>null</td><td>&quot;Zimbabwe&quot;</td><td>&quot;field&quot;</td><td>&quot;Zimbabwe&quot;</td><td>682917</td><td>3</td><td>0</td><td>3</td><td>0</td><td>0</td><td>0.0</td><td>3</td><td>151</td><td>151.0</td><td>15.6</td><td>6.51</td><td>3</td><td>2</td><td>1</td><td>0</td><td>0</td><td>2.0</td><td>3</td><td>163</td><td>0.0</td><td>28.46</td><td>7.95</td></tr><tr><td>&quot;West Indies&quot;</td><td>&quot;Zimbabwe&quot;</td><td>&quot;male&quot;</td><td>&quot;2022/23&quot;</td><td>&quot;2022/10/19&quot;</td><td>&quot;Bellerive Oval, Hobart&quot;</td><td>&quot;Hobart&quot;</td><td>&quot;West Indies&quot;</td><td>&quot;bat&quot;</td><td>&quot;West Indies&quot;</td><td>1298142</td><td>8</td><td>3</td><td>5</td><td>0</td><td>0</td><td>0.6</td><td>8</td><td>258</td><td>118.0</td><td>22.35</td><td>8.85</td><td>11</td><td>5</td><td>5</td><td>0</td><td>1</td><td>1.0</td><td>11</td><td>174</td><td>115.0</td><td>16.94</td><td>7.13</td></tr><tr><td>&quot;West Indies&quot;</td><td>&quot;Zimbabwe&quot;</td><td>&quot;male&quot;</td><td>&quot;2009/10&quot;</td><td>&quot;2010/02/28&quot;</td><td>&quot;Queen&#x27;s Park Oval, Port of Spa…</td><td>&quot;Trinidad&quot;</td><td>&quot;Zimbabwe&quot;</td><td>&quot;bat&quot;</td><td>&quot;Zimbabwe&quot;</td><td>439139</td><td>3</td><td>0</td><td>3</td><td>0</td><td>0</td><td>0.0</td><td>3</td><td>141</td><td>0.0</td><td>16.27</td><td>5.96</td><td>1</td><td>1</td><td>0</td><td>0</td><td>0</td><td>1.0</td><td>1</td><td>105</td><td>105.0</td><td>10.5</td><td>5.29</td></tr><tr><td>&quot;West Indies&quot;</td><td>&quot;Zimbabwe&quot;</td><td>&quot;male&quot;</td><td>&quot;2012/13&quot;</td><td>&quot;2013/03/02&quot;</td><td>&quot;Sir Vivian Richards Stadium, N…</td><td>&quot;Antigua&quot;</td><td>&quot;Zimbabwe&quot;</td><td>&quot;bat&quot;</td><td>&quot;West Indies&quot;</td><td>593986</td><td>11</td><td>7</td><td>2</td><td>1</td><td>1</td><td>3.5</td><td>10</td><td>205</td><td>139.0</td><td>29.07</td><td>8.46</td><td>4</td><td>0</td><td>4</td><td>0</td><td>0</td><td>0.0</td><td>4</td><td>130</td><td>100.0</td><td>13.75</td><td>5.67</td></tr><tr><td>&quot;West Indies&quot;</td><td>&quot;Zimbabwe&quot;</td><td>&quot;male&quot;</td><td>&quot;2012/13&quot;</td><td>&quot;2013/03/03&quot;</td><td>&quot;Sir Vivian Richards Stadium, N…</td><td>&quot;Antigua&quot;</td><td>&quot;West Indies&quot;</td><td>&quot;bat&quot;</td><td>&quot;West Indies&quot;</td><td>593987</td><td>11</td><td>7</td><td>2</td><td>1</td><td>1</td><td>3.5</td><td>10</td><td>205</td><td>139.0</td><td>29.07</td><td>8.46</td><td>4</td><td>0</td><td>4</td><td>0</td><td>0</td><td>0.0</td><td>4</td><td>130</td><td>100.0</td><td>13.75</td><td>5.67</td></tr></tbody></table></div>"
      ],
      "text/plain": [
       "shape: (3_399, 33)\n",
       "┌─────────────┬─────────────┬────────┬─────────┬───┬──────────┬──────────┬────────────┬────────────┐\n",
       "│ team1       ┆ team2       ┆ gender ┆ season  ┆ … ┆ HS_team2 ┆ LS_team2 ┆ AveRPW_tea ┆ AveRPO_tea │\n",
       "│ ---         ┆ ---         ┆ ---    ┆ ---     ┆   ┆ ---      ┆ ---      ┆ m2         ┆ m2         │\n",
       "│ str         ┆ str         ┆ str    ┆ str     ┆   ┆ i64      ┆ f64      ┆ ---        ┆ ---        │\n",
       "│             ┆             ┆        ┆         ┆   ┆          ┆          ┆ f64        ┆ f64        │\n",
       "╞═════════════╪═════════════╪════════╪═════════╪═══╪══════════╪══════════╪════════════╪════════════╡\n",
       "│ Australia   ┆ Afghanistan ┆ male   ┆ 2022/23 ┆ … ┆ 166      ┆ 112.0    ┆ 21.33      ┆ 6.97       │\n",
       "│ Bangladesh  ┆ Afghanistan ┆ male   ┆ 2018    ┆ … ┆ 167      ┆ 0.0      ┆ 23.24      ┆ 7.92       │\n",
       "│ Bangladesh  ┆ Afghanistan ┆ male   ┆ 2019    ┆ … ┆ 197      ┆ 0.0      ┆ 25.15      ┆ 8.17       │\n",
       "│ Bangladesh  ┆ Afghanistan ┆ male   ┆ 2019    ┆ … ┆ 197      ┆ 0.0      ┆ 25.15      ┆ 8.17       │\n",
       "│ Bangladesh  ┆ Afghanistan ┆ male   ┆ 2021/22 ┆ … ┆ 190      ┆ 94.0     ┆ 23.33      ┆ 7.24       │\n",
       "│ …           ┆ …           ┆ …      ┆ …       ┆ … ┆ …        ┆ …        ┆ …          ┆ …          │\n",
       "│ United Arab ┆ Zimbabwe    ┆ male   ┆ 2013/14 ┆ … ┆ 163      ┆ 0.0      ┆ 28.46      ┆ 7.95       │\n",
       "│ Emirates    ┆             ┆        ┆         ┆   ┆          ┆          ┆            ┆            │\n",
       "│ West Indies ┆ Zimbabwe    ┆ male   ┆ 2022/23 ┆ … ┆ 174      ┆ 115.0    ┆ 16.94      ┆ 7.13       │\n",
       "│ West Indies ┆ Zimbabwe    ┆ male   ┆ 2009/10 ┆ … ┆ 105      ┆ 105.0    ┆ 10.5       ┆ 5.29       │\n",
       "│ West Indies ┆ Zimbabwe    ┆ male   ┆ 2012/13 ┆ … ┆ 130      ┆ 100.0    ┆ 13.75      ┆ 5.67       │\n",
       "│ West Indies ┆ Zimbabwe    ┆ male   ┆ 2012/13 ┆ … ┆ 130      ┆ 100.0    ┆ 13.75      ┆ 5.67       │\n",
       "└─────────────┴─────────────┴────────┴─────────┴───┴──────────┴──────────┴────────────┴────────────┘"
      ]
     },
     "execution_count": 12,
     "metadata": {},
     "output_type": "execute_result"
    }
   ],
   "source": [
    "data = data.join(team_data, left_on=['team2','season'], right_on=['Team','Season'], how='inner',suffix='_team2')\n",
    "data"
   ]
  },
  {
   "cell_type": "code",
   "execution_count": 13,
   "metadata": {},
   "outputs": [
    {
     "data": {
      "text/html": [
       "<div><style>\n",
       ".dataframe > thead > tr,\n",
       ".dataframe > tbody > tr {\n",
       "  text-align: right;\n",
       "  white-space: pre-wrap;\n",
       "}\n",
       "</style>\n",
       "<small>shape: (5, 33)</small><table border=\"1\" class=\"dataframe\"><thead><tr><th>team1</th><th>team2</th><th>gender</th><th>season</th><th>date</th><th>venue</th><th>city</th><th>toss_winner</th><th>toss_decision</th><th>winner</th><th>match_id</th><th>Mat</th><th>Won</th><th>Lost</th><th>Tied</th><th>NR</th><th>W/L</th><th>Inns</th><th>HS</th><th>LS</th><th>AveRPW</th><th>AveRPO</th><th>Mat_team2</th><th>Won_team2</th><th>Lost_team2</th><th>Tied_team2</th><th>NR_team2</th><th>W/L_team2</th><th>Inns_team2</th><th>HS_team2</th><th>LS_team2</th><th>AveRPW_team2</th><th>AveRPO_team2</th></tr><tr><td>str</td><td>str</td><td>i32</td><td>str</td><td>str</td><td>str</td><td>str</td><td>str</td><td>str</td><td>str</td><td>i64</td><td>i64</td><td>i64</td><td>i64</td><td>i64</td><td>i64</td><td>f64</td><td>i64</td><td>i64</td><td>f64</td><td>f64</td><td>f64</td><td>i64</td><td>i64</td><td>i64</td><td>i64</td><td>i64</td><td>f64</td><td>i64</td><td>i64</td><td>f64</td><td>f64</td><td>f64</td></tr></thead><tbody><tr><td>&quot;Australia&quot;</td><td>&quot;Afghanistan&quot;</td><td>1</td><td>&quot;2022/23&quot;</td><td>&quot;2022/11/04&quot;</td><td>&quot;Adelaide Oval&quot;</td><td>&quot;Adelaide&quot;</td><td>&quot;Afghanistan&quot;</td><td>&quot;field&quot;</td><td>&quot;Australia&quot;</td><td>1298172</td><td>9</td><td>5</td><td>3</td><td>0</td><td>1</td><td>1.666667</td><td>9</td><td>200</td><td>111.0</td><td>23.1</td><td>8.51</td><td>9</td><td>4</td><td>5</td><td>0</td><td>0</td><td>0.8</td><td>9</td><td>166</td><td>112.0</td><td>21.33</td><td>6.97</td></tr><tr><td>&quot;Bangladesh&quot;</td><td>&quot;Afghanistan&quot;</td><td>1</td><td>&quot;2018&quot;</td><td>&quot;2018/06/05&quot;</td><td>&quot;Rajiv Gandhi International Cri…</td><td>&quot;Dehradun&quot;</td><td>&quot;Bangladesh&quot;</td><td>&quot;bat&quot;</td><td>&quot;Afghanistan&quot;</td><td>1145983</td><td>6</td><td>2</td><td>4</td><td>0</td><td>0</td><td>0.5</td><td>6</td><td>184</td><td>122.0</td><td>20.88</td><td>7.54</td><td>5</td><td>5</td><td>0</td><td>0</td><td>0</td><td>5.0</td><td>5</td><td>167</td><td>0.0</td><td>23.24</td><td>7.92</td></tr><tr><td>&quot;Bangladesh&quot;</td><td>&quot;Afghanistan&quot;</td><td>1</td><td>&quot;2019&quot;</td><td>&quot;2019/09/15&quot;</td><td>&quot;Shere Bangla National Stadium,…</td><td>&quot;Dhaka&quot;</td><td>&quot;Afghanistan&quot;</td><td>&quot;bat&quot;</td><td>&quot;Afghanistan&quot;</td><td>1197142</td><td>4</td><td>3</td><td>1</td><td>0</td><td>0</td><td>3.0</td><td>4</td><td>175</td><td>139.0</td><td>20.03</td><td>7.85</td><td>4</td><td>2</td><td>2</td><td>0</td><td>0</td><td>1.0</td><td>4</td><td>197</td><td>0.0</td><td>25.15</td><td>8.17</td></tr><tr><td>&quot;Bangladesh&quot;</td><td>&quot;Afghanistan&quot;</td><td>1</td><td>&quot;2019&quot;</td><td>&quot;2019/09/21&quot;</td><td>&quot;Zahur Ahmed Chowdhury Stadium&quot;</td><td>&quot;Chattogram&quot;</td><td>&quot;Bangladesh&quot;</td><td>&quot;field&quot;</td><td>&quot;Bangladesh&quot;</td><td>1197145</td><td>4</td><td>3</td><td>1</td><td>0</td><td>0</td><td>3.0</td><td>4</td><td>175</td><td>139.0</td><td>20.03</td><td>7.85</td><td>4</td><td>2</td><td>2</td><td>0</td><td>0</td><td>1.0</td><td>4</td><td>197</td><td>0.0</td><td>25.15</td><td>8.17</td></tr><tr><td>&quot;Bangladesh&quot;</td><td>&quot;Afghanistan&quot;</td><td>1</td><td>&quot;2021/22&quot;</td><td>&quot;2022/03/03&quot;</td><td>&quot;Shere Bangla National Stadium,…</td><td>&quot;Dhaka&quot;</td><td>&quot;Bangladesh&quot;</td><td>&quot;bat&quot;</td><td>&quot;Bangladesh&quot;</td><td>1299832</td><td>13</td><td>3</td><td>10</td><td>0</td><td>0</td><td>0.3</td><td>13</td><td>181</td><td>73.0</td><td>16.88</td><td>6.66</td><td>7</td><td>3</td><td>4</td><td>0</td><td>0</td><td>0.75</td><td>7</td><td>190</td><td>94.0</td><td>23.33</td><td>7.24</td></tr></tbody></table></div>"
      ],
      "text/plain": [
       "shape: (5, 33)\n",
       "┌────────────┬─────────────┬────────┬─────────┬───┬──────────┬──────────┬─────────────┬────────────┐\n",
       "│ team1      ┆ team2       ┆ gender ┆ season  ┆ … ┆ HS_team2 ┆ LS_team2 ┆ AveRPW_team ┆ AveRPO_tea │\n",
       "│ ---        ┆ ---         ┆ ---    ┆ ---     ┆   ┆ ---      ┆ ---      ┆ 2           ┆ m2         │\n",
       "│ str        ┆ str         ┆ i32    ┆ str     ┆   ┆ i64      ┆ f64      ┆ ---         ┆ ---        │\n",
       "│            ┆             ┆        ┆         ┆   ┆          ┆          ┆ f64         ┆ f64        │\n",
       "╞════════════╪═════════════╪════════╪═════════╪═══╪══════════╪══════════╪═════════════╪════════════╡\n",
       "│ Australia  ┆ Afghanistan ┆ 1      ┆ 2022/23 ┆ … ┆ 166      ┆ 112.0    ┆ 21.33       ┆ 6.97       │\n",
       "│ Bangladesh ┆ Afghanistan ┆ 1      ┆ 2018    ┆ … ┆ 167      ┆ 0.0      ┆ 23.24       ┆ 7.92       │\n",
       "│ Bangladesh ┆ Afghanistan ┆ 1      ┆ 2019    ┆ … ┆ 197      ┆ 0.0      ┆ 25.15       ┆ 8.17       │\n",
       "│ Bangladesh ┆ Afghanistan ┆ 1      ┆ 2019    ┆ … ┆ 197      ┆ 0.0      ┆ 25.15       ┆ 8.17       │\n",
       "│ Bangladesh ┆ Afghanistan ┆ 1      ┆ 2021/22 ┆ … ┆ 190      ┆ 94.0     ┆ 23.33       ┆ 7.24       │\n",
       "└────────────┴─────────────┴────────┴─────────┴───┴──────────┴──────────┴─────────────┴────────────┘"
      ]
     },
     "execution_count": 13,
     "metadata": {},
     "output_type": "execute_result"
    }
   ],
   "source": [
    "data = data.with_columns(pl.when(pl.col(\"gender\")==\"male\").then(1).otherwise(0).alias('gender'))\n",
    "data.head()"
   ]
  },
  {
   "cell_type": "code",
   "execution_count": 14,
   "metadata": {},
   "outputs": [
    {
     "data": {
      "text/html": [
       "<div><style>\n",
       ".dataframe > thead > tr,\n",
       ".dataframe > tbody > tr {\n",
       "  text-align: right;\n",
       "  white-space: pre-wrap;\n",
       "}\n",
       "</style>\n",
       "<small>shape: (3_399, 24)</small><table border=\"1\" class=\"dataframe\"><thead><tr><th>match_id</th><th>gender</th><th>Mat</th><th>Won</th><th>Lost</th><th>Tied</th><th>NR</th><th>W/L</th><th>Inns</th><th>HS</th><th>LS</th><th>AveRPW</th><th>AveRPO</th><th>Mat_team2</th><th>Won_team2</th><th>Lost_team2</th><th>Tied_team2</th><th>NR_team2</th><th>W/L_team2</th><th>Inns_team2</th><th>HS_team2</th><th>LS_team2</th><th>AveRPW_team2</th><th>AveRPO_team2</th></tr><tr><td>i64</td><td>i32</td><td>i64</td><td>i64</td><td>i64</td><td>i64</td><td>i64</td><td>f64</td><td>i64</td><td>i64</td><td>f64</td><td>f64</td><td>f64</td><td>i64</td><td>i64</td><td>i64</td><td>i64</td><td>i64</td><td>f64</td><td>i64</td><td>i64</td><td>f64</td><td>f64</td><td>f64</td></tr></thead><tbody><tr><td>1298172</td><td>1</td><td>9</td><td>5</td><td>3</td><td>0</td><td>1</td><td>1.666667</td><td>9</td><td>200</td><td>111.0</td><td>23.1</td><td>8.51</td><td>9</td><td>4</td><td>5</td><td>0</td><td>0</td><td>0.8</td><td>9</td><td>166</td><td>112.0</td><td>21.33</td><td>6.97</td></tr><tr><td>1145983</td><td>1</td><td>6</td><td>2</td><td>4</td><td>0</td><td>0</td><td>0.5</td><td>6</td><td>184</td><td>122.0</td><td>20.88</td><td>7.54</td><td>5</td><td>5</td><td>0</td><td>0</td><td>0</td><td>5.0</td><td>5</td><td>167</td><td>0.0</td><td>23.24</td><td>7.92</td></tr><tr><td>1197142</td><td>1</td><td>4</td><td>3</td><td>1</td><td>0</td><td>0</td><td>3.0</td><td>4</td><td>175</td><td>139.0</td><td>20.03</td><td>7.85</td><td>4</td><td>2</td><td>2</td><td>0</td><td>0</td><td>1.0</td><td>4</td><td>197</td><td>0.0</td><td>25.15</td><td>8.17</td></tr><tr><td>1197145</td><td>1</td><td>4</td><td>3</td><td>1</td><td>0</td><td>0</td><td>3.0</td><td>4</td><td>175</td><td>139.0</td><td>20.03</td><td>7.85</td><td>4</td><td>2</td><td>2</td><td>0</td><td>0</td><td>1.0</td><td>4</td><td>197</td><td>0.0</td><td>25.15</td><td>8.17</td></tr><tr><td>1299832</td><td>1</td><td>13</td><td>3</td><td>10</td><td>0</td><td>0</td><td>0.3</td><td>13</td><td>181</td><td>73.0</td><td>16.88</td><td>6.66</td><td>7</td><td>3</td><td>4</td><td>0</td><td>0</td><td>0.75</td><td>7</td><td>190</td><td>94.0</td><td>23.33</td><td>7.24</td></tr><tr><td>&hellip;</td><td>&hellip;</td><td>&hellip;</td><td>&hellip;</td><td>&hellip;</td><td>&hellip;</td><td>&hellip;</td><td>&hellip;</td><td>&hellip;</td><td>&hellip;</td><td>&hellip;</td><td>&hellip;</td><td>&hellip;</td><td>&hellip;</td><td>&hellip;</td><td>&hellip;</td><td>&hellip;</td><td>&hellip;</td><td>&hellip;</td><td>&hellip;</td><td>&hellip;</td><td>&hellip;</td><td>&hellip;</td><td>&hellip;</td></tr><tr><td>682917</td><td>1</td><td>3</td><td>0</td><td>3</td><td>0</td><td>0</td><td>0.0</td><td>3</td><td>151</td><td>151.0</td><td>15.6</td><td>6.51</td><td>3</td><td>2</td><td>1</td><td>0</td><td>0</td><td>2.0</td><td>3</td><td>163</td><td>0.0</td><td>28.46</td><td>7.95</td></tr><tr><td>1298142</td><td>1</td><td>8</td><td>3</td><td>5</td><td>0</td><td>0</td><td>0.6</td><td>8</td><td>258</td><td>118.0</td><td>22.35</td><td>8.85</td><td>11</td><td>5</td><td>5</td><td>0</td><td>1</td><td>1.0</td><td>11</td><td>174</td><td>115.0</td><td>16.94</td><td>7.13</td></tr><tr><td>439139</td><td>1</td><td>3</td><td>0</td><td>3</td><td>0</td><td>0</td><td>0.0</td><td>3</td><td>141</td><td>0.0</td><td>16.27</td><td>5.96</td><td>1</td><td>1</td><td>0</td><td>0</td><td>0</td><td>1.0</td><td>1</td><td>105</td><td>105.0</td><td>10.5</td><td>5.29</td></tr><tr><td>593986</td><td>1</td><td>11</td><td>7</td><td>2</td><td>1</td><td>1</td><td>3.5</td><td>10</td><td>205</td><td>139.0</td><td>29.07</td><td>8.46</td><td>4</td><td>0</td><td>4</td><td>0</td><td>0</td><td>0.0</td><td>4</td><td>130</td><td>100.0</td><td>13.75</td><td>5.67</td></tr><tr><td>593987</td><td>1</td><td>11</td><td>7</td><td>2</td><td>1</td><td>1</td><td>3.5</td><td>10</td><td>205</td><td>139.0</td><td>29.07</td><td>8.46</td><td>4</td><td>0</td><td>4</td><td>0</td><td>0</td><td>0.0</td><td>4</td><td>130</td><td>100.0</td><td>13.75</td><td>5.67</td></tr></tbody></table></div>"
      ],
      "text/plain": [
       "shape: (3_399, 24)\n",
       "┌──────────┬────────┬─────┬─────┬───┬──────────┬──────────┬──────────────┬──────────────┐\n",
       "│ match_id ┆ gender ┆ Mat ┆ Won ┆ … ┆ HS_team2 ┆ LS_team2 ┆ AveRPW_team2 ┆ AveRPO_team2 │\n",
       "│ ---      ┆ ---    ┆ --- ┆ --- ┆   ┆ ---      ┆ ---      ┆ ---          ┆ ---          │\n",
       "│ i64      ┆ i32    ┆ i64 ┆ i64 ┆   ┆ i64      ┆ f64      ┆ f64          ┆ f64          │\n",
       "╞══════════╪════════╪═════╪═════╪═══╪══════════╪══════════╪══════════════╪══════════════╡\n",
       "│ 1298172  ┆ 1      ┆ 9   ┆ 5   ┆ … ┆ 166      ┆ 112.0    ┆ 21.33        ┆ 6.97         │\n",
       "│ 1145983  ┆ 1      ┆ 6   ┆ 2   ┆ … ┆ 167      ┆ 0.0      ┆ 23.24        ┆ 7.92         │\n",
       "│ 1197142  ┆ 1      ┆ 4   ┆ 3   ┆ … ┆ 197      ┆ 0.0      ┆ 25.15        ┆ 8.17         │\n",
       "│ 1197145  ┆ 1      ┆ 4   ┆ 3   ┆ … ┆ 197      ┆ 0.0      ┆ 25.15        ┆ 8.17         │\n",
       "│ 1299832  ┆ 1      ┆ 13  ┆ 3   ┆ … ┆ 190      ┆ 94.0     ┆ 23.33        ┆ 7.24         │\n",
       "│ …        ┆ …      ┆ …   ┆ …   ┆ … ┆ …        ┆ …        ┆ …            ┆ …            │\n",
       "│ 682917   ┆ 1      ┆ 3   ┆ 0   ┆ … ┆ 163      ┆ 0.0      ┆ 28.46        ┆ 7.95         │\n",
       "│ 1298142  ┆ 1      ┆ 8   ┆ 3   ┆ … ┆ 174      ┆ 115.0    ┆ 16.94        ┆ 7.13         │\n",
       "│ 439139   ┆ 1      ┆ 3   ┆ 0   ┆ … ┆ 105      ┆ 105.0    ┆ 10.5         ┆ 5.29         │\n",
       "│ 593986   ┆ 1      ┆ 11  ┆ 7   ┆ … ┆ 130      ┆ 100.0    ┆ 13.75        ┆ 5.67         │\n",
       "│ 593987   ┆ 1      ┆ 11  ┆ 7   ┆ … ┆ 130      ┆ 100.0    ┆ 13.75        ┆ 5.67         │\n",
       "└──────────┴────────┴─────┴─────┴───┴──────────┴──────────┴──────────────┴──────────────┘"
      ]
     },
     "execution_count": 14,
     "metadata": {},
     "output_type": "execute_result"
    }
   ],
   "source": [
    "# gender\tmatch_id\tMat\tWon\tLost\tTied\tNR\tW/L\tInns\tHS\tLS\tAveRPW\tAveRPO\tMat_team2\tWon_team2\tLost_team2\tTied_team2\tNR_team2\tW/L_team2\tInns_team2\tHS_team2\tLS_team2\tAveRPW_team2\tAveRPO_team2\n",
    "data = data.drop('team1','team2','season','date','venue','city','toss_winner','toss_decision','winner').select(['match_id','gender','Mat','Won','Lost','Tied','NR','W/L','Inns','HS','LS','AveRPW','AveRPO','Mat_team2','Won_team2','Lost_team2','Tied_team2','NR_team2','W/L_team2','Inns_team2','HS_team2','LS_team2','AveRPW_team2','AveRPO_team2'])\n",
    "data"
   ]
  },
  {
   "cell_type": "code",
   "execution_count": 21,
   "metadata": {},
   "outputs": [],
   "source": [
    "import numpy as np\n",
    "directory = r'D:\\github\\localt20\\finalData'\n",
    "\n",
    "data.write_csv(os.path.join(directory, 'team12Stats.csv'))"
   ]
  },
  {
   "cell_type": "code",
   "execution_count": null,
   "metadata": {},
   "outputs": [],
   "source": []
  }
 ],
 "metadata": {
  "kernelspec": {
   "display_name": "eda",
   "language": "python",
   "name": "python3"
  },
  "language_info": {
   "codemirror_mode": {
    "name": "ipython",
    "version": 3
   },
   "file_extension": ".py",
   "mimetype": "text/x-python",
   "name": "python",
   "nbconvert_exporter": "python",
   "pygments_lexer": "ipython3",
   "version": "3.8.19"
  }
 },
 "nbformat": 4,
 "nbformat_minor": 2
}
