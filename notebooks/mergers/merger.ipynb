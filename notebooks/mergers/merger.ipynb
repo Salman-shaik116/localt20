{
 "cells": [
  {
   "cell_type": "code",
   "execution_count": 2,
   "metadata": {},
   "outputs": [
    {
     "data": {
      "text/html": [
       "<div><style>\n",
       ".dataframe > thead > tr,\n",
       ".dataframe > tbody > tr {\n",
       "  text-align: right;\n",
       "  white-space: pre-wrap;\n",
       "}\n",
       "</style>\n",
       "<small>shape: (9, 12)</small><table border=\"1\" class=\"dataframe\"><thead><tr><th>statistic</th><th>team1</th><th>team2</th><th>gender</th><th>season</th><th>date</th><th>venue</th><th>city</th><th>toss_winner</th><th>toss_decision</th><th>winner</th><th>match_id</th></tr><tr><td>str</td><td>str</td><td>str</td><td>str</td><td>str</td><td>str</td><td>str</td><td>str</td><td>str</td><td>str</td><td>str</td><td>f64</td></tr></thead><tbody><tr><td>&quot;count&quot;</td><td>&quot;3683&quot;</td><td>&quot;3683&quot;</td><td>&quot;3683&quot;</td><td>&quot;3683&quot;</td><td>&quot;3683&quot;</td><td>&quot;3683&quot;</td><td>&quot;3491&quot;</td><td>&quot;3683&quot;</td><td>&quot;3683&quot;</td><td>&quot;3683&quot;</td><td>3683.0</td></tr><tr><td>&quot;null_count&quot;</td><td>&quot;0&quot;</td><td>&quot;0&quot;</td><td>&quot;0&quot;</td><td>&quot;0&quot;</td><td>&quot;0&quot;</td><td>&quot;0&quot;</td><td>&quot;192&quot;</td><td>&quot;0&quot;</td><td>&quot;0&quot;</td><td>&quot;0&quot;</td><td>0.0</td></tr><tr><td>&quot;mean&quot;</td><td>null</td><td>null</td><td>null</td><td>null</td><td>null</td><td>null</td><td>null</td><td>null</td><td>null</td><td>null</td><td>1.1918e6</td></tr><tr><td>&quot;std&quot;</td><td>null</td><td>null</td><td>null</td><td>null</td><td>null</td><td>null</td><td>null</td><td>null</td><td>null</td><td>null</td><td>289896.610143</td></tr><tr><td>&quot;min&quot;</td><td>&quot;Afghanistan&quot;</td><td>&quot;Afghanistan&quot;</td><td>&quot;female&quot;</td><td>&quot;2004/05&quot;</td><td>&quot;2005/02/17&quot;</td><td>&quot;7he Sevens Stadium, Dubai&quot;</td><td>&quot;Abu Dhabi&quot;</td><td>&quot;Afghanistan&quot;</td><td>&quot;bat&quot;</td><td>&quot;Afghanistan&quot;</td><td>211028.0</td></tr><tr><td>&quot;25%&quot;</td><td>null</td><td>null</td><td>null</td><td>null</td><td>null</td><td>null</td><td>null</td><td>null</td><td>null</td><td>null</td><td>1.157759e6</td></tr><tr><td>&quot;50%&quot;</td><td>null</td><td>null</td><td>null</td><td>null</td><td>null</td><td>null</td><td>null</td><td>null</td><td>null</td><td>null</td><td>1.298144e6</td></tr><tr><td>&quot;75%&quot;</td><td>null</td><td>null</td><td>null</td><td>null</td><td>null</td><td>null</td><td>null</td><td>null</td><td>null</td><td>null</td><td>1.391338e6</td></tr><tr><td>&quot;max&quot;</td><td>&quot;Zimbabwe&quot;</td><td>&quot;Zimbabwe&quot;</td><td>&quot;male&quot;</td><td>&quot;2024/25&quot;</td><td>&quot;2024/09/27&quot;</td><td>&quot;Zhejiang University of Technol…</td><td>&quot;Zagreb&quot;</td><td>&quot;Zimbabwe&quot;</td><td>&quot;field&quot;</td><td>&quot;Zimbabwe&quot;</td><td>1.451294e6</td></tr></tbody></table></div>"
      ],
      "text/plain": [
       "shape: (9, 12)\n",
       "┌────────────┬────────────┬───────────┬────────┬───┬───────────┬───────────┬───────────┬───────────┐\n",
       "│ statistic  ┆ team1      ┆ team2     ┆ gender ┆ … ┆ toss_winn ┆ toss_deci ┆ winner    ┆ match_id  │\n",
       "│ ---        ┆ ---        ┆ ---       ┆ ---    ┆   ┆ er        ┆ sion      ┆ ---       ┆ ---       │\n",
       "│ str        ┆ str        ┆ str       ┆ str    ┆   ┆ ---       ┆ ---       ┆ str       ┆ f64       │\n",
       "│            ┆            ┆           ┆        ┆   ┆ str       ┆ str       ┆           ┆           │\n",
       "╞════════════╪════════════╪═══════════╪════════╪═══╪═══════════╪═══════════╪═══════════╪═══════════╡\n",
       "│ count      ┆ 3683       ┆ 3683      ┆ 3683   ┆ … ┆ 3683      ┆ 3683      ┆ 3683      ┆ 3683.0    │\n",
       "│ null_count ┆ 0          ┆ 0         ┆ 0      ┆ … ┆ 0         ┆ 0         ┆ 0         ┆ 0.0       │\n",
       "│ mean       ┆ null       ┆ null      ┆ null   ┆ … ┆ null      ┆ null      ┆ null      ┆ 1.1918e6  │\n",
       "│ std        ┆ null       ┆ null      ┆ null   ┆ … ┆ null      ┆ null      ┆ null      ┆ 289896.61 │\n",
       "│            ┆            ┆           ┆        ┆   ┆           ┆           ┆           ┆ 0143      │\n",
       "│ min        ┆ Afghanista ┆ Afghanist ┆ female ┆ … ┆ Afghanist ┆ bat       ┆ Afghanist ┆ 211028.0  │\n",
       "│            ┆ n          ┆ an        ┆        ┆   ┆ an        ┆           ┆ an        ┆           │\n",
       "│ 25%        ┆ null       ┆ null      ┆ null   ┆ … ┆ null      ┆ null      ┆ null      ┆ 1.157759e │\n",
       "│            ┆            ┆           ┆        ┆   ┆           ┆           ┆           ┆ 6         │\n",
       "│ 50%        ┆ null       ┆ null      ┆ null   ┆ … ┆ null      ┆ null      ┆ null      ┆ 1.298144e │\n",
       "│            ┆            ┆           ┆        ┆   ┆           ┆           ┆           ┆ 6         │\n",
       "│ 75%        ┆ null       ┆ null      ┆ null   ┆ … ┆ null      ┆ null      ┆ null      ┆ 1.391338e │\n",
       "│            ┆            ┆           ┆        ┆   ┆           ┆           ┆           ┆ 6         │\n",
       "│ max        ┆ Zimbabwe   ┆ Zimbabwe  ┆ male   ┆ … ┆ Zimbabwe  ┆ field     ┆ Zimbabwe  ┆ 1.451294e │\n",
       "│            ┆            ┆           ┆        ┆   ┆           ┆           ┆           ┆ 6         │\n",
       "└────────────┴────────────┴───────────┴────────┴───┴───────────┴───────────┴───────────┴───────────┘"
      ]
     },
     "execution_count": 2,
     "metadata": {},
     "output_type": "execute_result"
    }
   ],
   "source": [
    "import os\n",
    "directory = r'D:\\github\\localt20\\dataInHandNow\\afterPreprocessed'\n",
    "\n",
    "import polars as pl\n",
    "matches = pl.read_csv(os.path.join(directory, 'matches.csv'))\n",
    "deliveries = pl.read_parquet(os.path.join(directory, 'deliveries.parquet'))\n",
    "matches.describe()"
   ]
  },
  {
   "cell_type": "code",
   "execution_count": 4,
   "metadata": {},
   "outputs": [
    {
     "data": {
      "text/html": [
       "<div><style>\n",
       ".dataframe > thead > tr,\n",
       ".dataframe > tbody > tr {\n",
       "  text-align: right;\n",
       "  white-space: pre-wrap;\n",
       "}\n",
       "</style>\n",
       "<small>shape: (3_683, 5)</small><table border=\"1\" class=\"dataframe\"><thead><tr><th>gender</th><th>season</th><th>venue</th><th>winner</th><th>match_id</th></tr><tr><td>str</td><td>str</td><td>str</td><td>str</td><td>i64</td></tr></thead><tbody><tr><td>&quot;male&quot;</td><td>&quot;2016/17&quot;</td><td>&quot;Melbourne Cricket Ground&quot;</td><td>&quot;Sri Lanka&quot;</td><td>1001349</td></tr><tr><td>&quot;male&quot;</td><td>&quot;2016/17&quot;</td><td>&quot;Simonds Stadium, South Geelong&quot;</td><td>&quot;Sri Lanka&quot;</td><td>1001351</td></tr><tr><td>&quot;male&quot;</td><td>&quot;2016/17&quot;</td><td>&quot;Adelaide Oval&quot;</td><td>&quot;Australia&quot;</td><td>1001353</td></tr><tr><td>&quot;male&quot;</td><td>&quot;2016&quot;</td><td>&quot;Bready Cricket Club, Magherama…</td><td>&quot;Hong Kong&quot;</td><td>1004729</td></tr><tr><td>&quot;male&quot;</td><td>&quot;2016&quot;</td><td>&quot;Harare Sports Club&quot;</td><td>&quot;Zimbabwe&quot;</td><td>1007655</td></tr><tr><td>&hellip;</td><td>&hellip;</td><td>&hellip;</td><td>&hellip;</td><td>&hellip;</td></tr><tr><td>&quot;male&quot;</td><td>&quot;2015/16&quot;</td><td>&quot;Shere Bangla National Stadium&quot;</td><td>&quot;Pakistan&quot;</td><td>966763</td></tr><tr><td>&quot;male&quot;</td><td>&quot;2015/16&quot;</td><td>&quot;Shere Bangla National Stadium&quot;</td><td>&quot;India&quot;</td><td>966765</td></tr><tr><td>&quot;male&quot;</td><td>&quot;2015/16&quot;</td><td>&quot;ICC Academy&quot;</td><td>&quot;Netherlands&quot;</td><td>967081</td></tr><tr><td>&quot;male&quot;</td><td>&quot;2016&quot;</td><td>&quot;Pallekele International Cricke…</td><td>&quot;Australia&quot;</td><td>995467</td></tr><tr><td>&quot;male&quot;</td><td>&quot;2016&quot;</td><td>&quot;R Premadasa Stadium&quot;</td><td>&quot;Australia&quot;</td><td>995469</td></tr></tbody></table></div>"
      ],
      "text/plain": [
       "shape: (3_683, 5)\n",
       "┌────────┬─────────┬─────────────────────────────────┬─────────────┬──────────┐\n",
       "│ gender ┆ season  ┆ venue                           ┆ winner      ┆ match_id │\n",
       "│ ---    ┆ ---     ┆ ---                             ┆ ---         ┆ ---      │\n",
       "│ str    ┆ str     ┆ str                             ┆ str         ┆ i64      │\n",
       "╞════════╪═════════╪═════════════════════════════════╪═════════════╪══════════╡\n",
       "│ male   ┆ 2016/17 ┆ Melbourne Cricket Ground        ┆ Sri Lanka   ┆ 1001349  │\n",
       "│ male   ┆ 2016/17 ┆ Simonds Stadium, South Geelong  ┆ Sri Lanka   ┆ 1001351  │\n",
       "│ male   ┆ 2016/17 ┆ Adelaide Oval                   ┆ Australia   ┆ 1001353  │\n",
       "│ male   ┆ 2016    ┆ Bready Cricket Club, Magherama… ┆ Hong Kong   ┆ 1004729  │\n",
       "│ male   ┆ 2016    ┆ Harare Sports Club              ┆ Zimbabwe    ┆ 1007655  │\n",
       "│ …      ┆ …       ┆ …                               ┆ …           ┆ …        │\n",
       "│ male   ┆ 2015/16 ┆ Shere Bangla National Stadium   ┆ Pakistan    ┆ 966763   │\n",
       "│ male   ┆ 2015/16 ┆ Shere Bangla National Stadium   ┆ India       ┆ 966765   │\n",
       "│ male   ┆ 2015/16 ┆ ICC Academy                     ┆ Netherlands ┆ 967081   │\n",
       "│ male   ┆ 2016    ┆ Pallekele International Cricke… ┆ Australia   ┆ 995467   │\n",
       "│ male   ┆ 2016    ┆ R Premadasa Stadium             ┆ Australia   ┆ 995469   │\n",
       "└────────┴─────────┴─────────────────────────────────┴─────────────┴──────────┘"
      ]
     },
     "execution_count": 4,
     "metadata": {},
     "output_type": "execute_result"
    }
   ],
   "source": [
    "matches = matches.drop(['team1','team2','date','city','toss_winner','toss_decision'])\n",
    "matches"
   ]
  },
  {
   "cell_type": "code",
   "execution_count": 5,
   "metadata": {},
   "outputs": [
    {
     "data": {
      "text/html": [
       "<div><style>\n",
       ".dataframe > thead > tr,\n",
       ".dataframe > tbody > tr {\n",
       "  text-align: right;\n",
       "  white-space: pre-wrap;\n",
       "}\n",
       "</style>\n",
       "<small>shape: (860_172, 22)</small><table border=\"1\" class=\"dataframe\"><thead><tr><th>match_id</th><th>season</th><th>start_date</th><th>venue</th><th>innings</th><th>ball</th><th>batting_team</th><th>bowling_team</th><th>striker</th><th>non_striker</th><th>bowler</th><th>runs_off_bat</th><th>extras</th><th>wides</th><th>noballs</th><th>byes</th><th>legbyes</th><th>penalty</th><th>wicket_type</th><th>player_dismissed</th><th>other_wicket_type</th><th>other_player_dismissed</th></tr><tr><td>i64</td><td>str</td><td>str</td><td>str</td><td>i64</td><td>f64</td><td>str</td><td>str</td><td>str</td><td>str</td><td>str</td><td>i64</td><td>i64</td><td>i64</td><td>i64</td><td>i64</td><td>i64</td><td>i64</td><td>i64</td><td>i64</td><td>i64</td><td>i64</td></tr></thead><tbody><tr><td>1001349</td><td>&quot;2016/17&quot;</td><td>&quot;2017-02-17&quot;</td><td>&quot;Melbourne Cricket Ground&quot;</td><td>1</td><td>0.1</td><td>&quot;Australia&quot;</td><td>&quot;Sri Lanka&quot;</td><td>&quot;AJ Finch&quot;</td><td>&quot;M Klinger&quot;</td><td>&quot;SL Malinga&quot;</td><td>0</td><td>0</td><td>0</td><td>0</td><td>0</td><td>0</td><td>0</td><td>0</td><td>0</td><td>0</td><td>0</td></tr><tr><td>1001349</td><td>&quot;2016/17&quot;</td><td>&quot;2017-02-17&quot;</td><td>&quot;Melbourne Cricket Ground&quot;</td><td>1</td><td>0.2</td><td>&quot;Australia&quot;</td><td>&quot;Sri Lanka&quot;</td><td>&quot;AJ Finch&quot;</td><td>&quot;M Klinger&quot;</td><td>&quot;SL Malinga&quot;</td><td>0</td><td>0</td><td>0</td><td>0</td><td>0</td><td>0</td><td>0</td><td>0</td><td>0</td><td>0</td><td>0</td></tr><tr><td>1001349</td><td>&quot;2016/17&quot;</td><td>&quot;2017-02-17&quot;</td><td>&quot;Melbourne Cricket Ground&quot;</td><td>1</td><td>0.3</td><td>&quot;Australia&quot;</td><td>&quot;Sri Lanka&quot;</td><td>&quot;AJ Finch&quot;</td><td>&quot;M Klinger&quot;</td><td>&quot;SL Malinga&quot;</td><td>1</td><td>0</td><td>0</td><td>0</td><td>0</td><td>0</td><td>0</td><td>0</td><td>0</td><td>0</td><td>0</td></tr><tr><td>1001349</td><td>&quot;2016/17&quot;</td><td>&quot;2017-02-17&quot;</td><td>&quot;Melbourne Cricket Ground&quot;</td><td>1</td><td>0.4</td><td>&quot;Australia&quot;</td><td>&quot;Sri Lanka&quot;</td><td>&quot;M Klinger&quot;</td><td>&quot;AJ Finch&quot;</td><td>&quot;SL Malinga&quot;</td><td>2</td><td>0</td><td>0</td><td>0</td><td>0</td><td>0</td><td>0</td><td>0</td><td>0</td><td>0</td><td>0</td></tr><tr><td>1001349</td><td>&quot;2016/17&quot;</td><td>&quot;2017-02-17&quot;</td><td>&quot;Melbourne Cricket Ground&quot;</td><td>1</td><td>0.5</td><td>&quot;Australia&quot;</td><td>&quot;Sri Lanka&quot;</td><td>&quot;M Klinger&quot;</td><td>&quot;AJ Finch&quot;</td><td>&quot;SL Malinga&quot;</td><td>0</td><td>0</td><td>0</td><td>0</td><td>0</td><td>0</td><td>0</td><td>0</td><td>0</td><td>0</td><td>0</td></tr><tr><td>&hellip;</td><td>&hellip;</td><td>&hellip;</td><td>&hellip;</td><td>&hellip;</td><td>&hellip;</td><td>&hellip;</td><td>&hellip;</td><td>&hellip;</td><td>&hellip;</td><td>&hellip;</td><td>&hellip;</td><td>&hellip;</td><td>&hellip;</td><td>&hellip;</td><td>&hellip;</td><td>&hellip;</td><td>&hellip;</td><td>&hellip;</td><td>&hellip;</td><td>&hellip;</td><td>&hellip;</td></tr><tr><td>995469</td><td>&quot;2016&quot;</td><td>&quot;2016-09-09&quot;</td><td>&quot;R Premadasa Stadium&quot;</td><td>2</td><td>17.1</td><td>&quot;Australia&quot;</td><td>&quot;Sri Lanka&quot;</td><td>&quot;TM Head&quot;</td><td>&quot;PM Nevill&quot;</td><td>&quot;SS Pathirana&quot;</td><td>1</td><td>0</td><td>0</td><td>0</td><td>0</td><td>0</td><td>0</td><td>0</td><td>0</td><td>0</td><td>0</td></tr><tr><td>995469</td><td>&quot;2016&quot;</td><td>&quot;2016-09-09&quot;</td><td>&quot;R Premadasa Stadium&quot;</td><td>2</td><td>17.2</td><td>&quot;Australia&quot;</td><td>&quot;Sri Lanka&quot;</td><td>&quot;PM Nevill&quot;</td><td>&quot;TM Head&quot;</td><td>&quot;SS Pathirana&quot;</td><td>3</td><td>0</td><td>0</td><td>0</td><td>0</td><td>0</td><td>0</td><td>0</td><td>0</td><td>0</td><td>0</td></tr><tr><td>995469</td><td>&quot;2016&quot;</td><td>&quot;2016-09-09&quot;</td><td>&quot;R Premadasa Stadium&quot;</td><td>2</td><td>17.3</td><td>&quot;Australia&quot;</td><td>&quot;Sri Lanka&quot;</td><td>&quot;TM Head&quot;</td><td>&quot;PM Nevill&quot;</td><td>&quot;SS Pathirana&quot;</td><td>0</td><td>0</td><td>0</td><td>0</td><td>0</td><td>0</td><td>0</td><td>0</td><td>0</td><td>0</td><td>0</td></tr><tr><td>995469</td><td>&quot;2016&quot;</td><td>&quot;2016-09-09&quot;</td><td>&quot;R Premadasa Stadium&quot;</td><td>2</td><td>17.4</td><td>&quot;Australia&quot;</td><td>&quot;Sri Lanka&quot;</td><td>&quot;TM Head&quot;</td><td>&quot;PM Nevill&quot;</td><td>&quot;SS Pathirana&quot;</td><td>0</td><td>0</td><td>0</td><td>0</td><td>0</td><td>0</td><td>0</td><td>0</td><td>0</td><td>0</td><td>0</td></tr><tr><td>995469</td><td>&quot;2016&quot;</td><td>&quot;2016-09-09&quot;</td><td>&quot;R Premadasa Stadium&quot;</td><td>2</td><td>17.5</td><td>&quot;Australia&quot;</td><td>&quot;Sri Lanka&quot;</td><td>&quot;TM Head&quot;</td><td>&quot;PM Nevill&quot;</td><td>&quot;SS Pathirana&quot;</td><td>6</td><td>0</td><td>0</td><td>0</td><td>0</td><td>0</td><td>0</td><td>0</td><td>0</td><td>0</td><td>0</td></tr></tbody></table></div>"
      ],
      "text/plain": [
       "shape: (860_172, 22)\n",
       "┌──────────┬─────────┬────────────┬────────────┬───┬───────────┬───────────┬───────────┬───────────┐\n",
       "│ match_id ┆ season  ┆ start_date ┆ venue      ┆ … ┆ wicket_ty ┆ player_di ┆ other_wic ┆ other_pla │\n",
       "│ ---      ┆ ---     ┆ ---        ┆ ---        ┆   ┆ pe        ┆ smissed   ┆ ket_type  ┆ yer_dismi │\n",
       "│ i64      ┆ str     ┆ str        ┆ str        ┆   ┆ ---       ┆ ---       ┆ ---       ┆ ssed      │\n",
       "│          ┆         ┆            ┆            ┆   ┆ i64       ┆ i64       ┆ i64       ┆ ---       │\n",
       "│          ┆         ┆            ┆            ┆   ┆           ┆           ┆           ┆ i64       │\n",
       "╞══════════╪═════════╪════════════╪════════════╪═══╪═══════════╪═══════════╪═══════════╪═══════════╡\n",
       "│ 1001349  ┆ 2016/17 ┆ 2017-02-17 ┆ Melbourne  ┆ … ┆ 0         ┆ 0         ┆ 0         ┆ 0         │\n",
       "│          ┆         ┆            ┆ Cricket    ┆   ┆           ┆           ┆           ┆           │\n",
       "│          ┆         ┆            ┆ Ground     ┆   ┆           ┆           ┆           ┆           │\n",
       "│ 1001349  ┆ 2016/17 ┆ 2017-02-17 ┆ Melbourne  ┆ … ┆ 0         ┆ 0         ┆ 0         ┆ 0         │\n",
       "│          ┆         ┆            ┆ Cricket    ┆   ┆           ┆           ┆           ┆           │\n",
       "│          ┆         ┆            ┆ Ground     ┆   ┆           ┆           ┆           ┆           │\n",
       "│ 1001349  ┆ 2016/17 ┆ 2017-02-17 ┆ Melbourne  ┆ … ┆ 0         ┆ 0         ┆ 0         ┆ 0         │\n",
       "│          ┆         ┆            ┆ Cricket    ┆   ┆           ┆           ┆           ┆           │\n",
       "│          ┆         ┆            ┆ Ground     ┆   ┆           ┆           ┆           ┆           │\n",
       "│ 1001349  ┆ 2016/17 ┆ 2017-02-17 ┆ Melbourne  ┆ … ┆ 0         ┆ 0         ┆ 0         ┆ 0         │\n",
       "│          ┆         ┆            ┆ Cricket    ┆   ┆           ┆           ┆           ┆           │\n",
       "│          ┆         ┆            ┆ Ground     ┆   ┆           ┆           ┆           ┆           │\n",
       "│ 1001349  ┆ 2016/17 ┆ 2017-02-17 ┆ Melbourne  ┆ … ┆ 0         ┆ 0         ┆ 0         ┆ 0         │\n",
       "│          ┆         ┆            ┆ Cricket    ┆   ┆           ┆           ┆           ┆           │\n",
       "│          ┆         ┆            ┆ Ground     ┆   ┆           ┆           ┆           ┆           │\n",
       "│ …        ┆ …       ┆ …          ┆ …          ┆ … ┆ …         ┆ …         ┆ …         ┆ …         │\n",
       "│ 995469   ┆ 2016    ┆ 2016-09-09 ┆ R          ┆ … ┆ 0         ┆ 0         ┆ 0         ┆ 0         │\n",
       "│          ┆         ┆            ┆ Premadasa  ┆   ┆           ┆           ┆           ┆           │\n",
       "│          ┆         ┆            ┆ Stadium    ┆   ┆           ┆           ┆           ┆           │\n",
       "│ 995469   ┆ 2016    ┆ 2016-09-09 ┆ R          ┆ … ┆ 0         ┆ 0         ┆ 0         ┆ 0         │\n",
       "│          ┆         ┆            ┆ Premadasa  ┆   ┆           ┆           ┆           ┆           │\n",
       "│          ┆         ┆            ┆ Stadium    ┆   ┆           ┆           ┆           ┆           │\n",
       "│ 995469   ┆ 2016    ┆ 2016-09-09 ┆ R          ┆ … ┆ 0         ┆ 0         ┆ 0         ┆ 0         │\n",
       "│          ┆         ┆            ┆ Premadasa  ┆   ┆           ┆           ┆           ┆           │\n",
       "│          ┆         ┆            ┆ Stadium    ┆   ┆           ┆           ┆           ┆           │\n",
       "│ 995469   ┆ 2016    ┆ 2016-09-09 ┆ R          ┆ … ┆ 0         ┆ 0         ┆ 0         ┆ 0         │\n",
       "│          ┆         ┆            ┆ Premadasa  ┆   ┆           ┆           ┆           ┆           │\n",
       "│          ┆         ┆            ┆ Stadium    ┆   ┆           ┆           ┆           ┆           │\n",
       "│ 995469   ┆ 2016    ┆ 2016-09-09 ┆ R          ┆ … ┆ 0         ┆ 0         ┆ 0         ┆ 0         │\n",
       "│          ┆         ┆            ┆ Premadasa  ┆   ┆           ┆           ┆           ┆           │\n",
       "│          ┆         ┆            ┆ Stadium    ┆   ┆           ┆           ┆           ┆           │\n",
       "└──────────┴─────────┴────────────┴────────────┴───┴───────────┴───────────┴───────────┴───────────┘"
      ]
     },
     "execution_count": 5,
     "metadata": {},
     "output_type": "execute_result"
    }
   ],
   "source": [
    "deliveries"
   ]
  },
  {
   "cell_type": "code",
   "execution_count": 6,
   "metadata": {},
   "outputs": [
    {
     "data": {
      "text/html": [
       "<div><style>\n",
       ".dataframe > thead > tr,\n",
       ".dataframe > tbody > tr {\n",
       "  text-align: right;\n",
       "  white-space: pre-wrap;\n",
       "}\n",
       "</style>\n",
       "<small>shape: (9, 23)</small><table border=\"1\" class=\"dataframe\"><thead><tr><th>statistic</th><th>match_id</th><th>season</th><th>start_date</th><th>venue</th><th>innings</th><th>ball</th><th>batting_team</th><th>bowling_team</th><th>striker</th><th>non_striker</th><th>bowler</th><th>runs_off_bat</th><th>extras</th><th>wides</th><th>noballs</th><th>byes</th><th>legbyes</th><th>penalty</th><th>wicket_type</th><th>player_dismissed</th><th>other_wicket_type</th><th>other_player_dismissed</th></tr><tr><td>str</td><td>f64</td><td>str</td><td>str</td><td>str</td><td>f64</td><td>f64</td><td>str</td><td>str</td><td>str</td><td>str</td><td>str</td><td>f64</td><td>f64</td><td>f64</td><td>f64</td><td>f64</td><td>f64</td><td>f64</td><td>f64</td><td>f64</td><td>f64</td><td>f64</td></tr></thead><tbody><tr><td>&quot;count&quot;</td><td>860172.0</td><td>&quot;860172&quot;</td><td>&quot;860172&quot;</td><td>&quot;860172&quot;</td><td>860172.0</td><td>860172.0</td><td>&quot;860172&quot;</td><td>&quot;860172&quot;</td><td>&quot;860172&quot;</td><td>&quot;860172&quot;</td><td>&quot;860172&quot;</td><td>860172.0</td><td>860172.0</td><td>860172.0</td><td>860172.0</td><td>860172.0</td><td>860172.0</td><td>860172.0</td><td>860172.0</td><td>860172.0</td><td>860172.0</td><td>860172.0</td></tr><tr><td>&quot;null_count&quot;</td><td>0.0</td><td>&quot;0&quot;</td><td>&quot;0&quot;</td><td>&quot;0&quot;</td><td>0.0</td><td>0.0</td><td>&quot;0&quot;</td><td>&quot;0&quot;</td><td>&quot;0&quot;</td><td>&quot;0&quot;</td><td>&quot;0&quot;</td><td>0.0</td><td>0.0</td><td>0.0</td><td>0.0</td><td>0.0</td><td>0.0</td><td>0.0</td><td>0.0</td><td>0.0</td><td>0.0</td><td>0.0</td></tr><tr><td>&quot;mean&quot;</td><td>1.1885e6</td><td>null</td><td>null</td><td>null</td><td>1.463081</td><td>9.237905</td><td>null</td><td>null</td><td>null</td><td>null</td><td>null</td><td>1.030145</td><td>0.07934</td><td>0.049898</td><td>0.005325</td><td>0.007539</td><td>0.016416</td><td>0.000017</td><td>0.055306</td><td>0.055306</td><td>0.000001</td><td>0.000001</td></tr><tr><td>&quot;std&quot;</td><td>292130.957265</td><td>null</td><td>null</td><td>null</td><td>0.500604</td><td>5.63078</td><td>null</td><td>null</td><td>null</td><td>null</td><td>null</td><td>1.458171</td><td>0.361301</td><td>0.28271</td><td>0.072775</td><td>0.138643</td><td>0.166993</td><td>0.004176</td><td>0.228577</td><td>0.228577</td><td>0.001078</td><td>0.001078</td></tr><tr><td>&quot;min&quot;</td><td>211028.0</td><td>&quot;2004/05&quot;</td><td>&quot;2005-02-17&quot;</td><td>&quot;7he Sevens Stadium, Dubai&quot;</td><td>1.0</td><td>0.1</td><td>&quot;Afghanistan&quot;</td><td>&quot;Afghanistan&quot;</td><td>&quot;A Adekunle&quot;</td><td>&quot;A Adekunle&quot;</td><td>&quot;A Adekunle&quot;</td><td>0.0</td><td>0.0</td><td>0.0</td><td>0.0</td><td>0.0</td><td>0.0</td><td>0.0</td><td>0.0</td><td>0.0</td><td>0.0</td><td>0.0</td></tr><tr><td>&quot;25%&quot;</td><td>1.153859e6</td><td>null</td><td>null</td><td>null</td><td>1.0</td><td>4.4</td><td>null</td><td>null</td><td>null</td><td>null</td><td>null</td><td>0.0</td><td>0.0</td><td>0.0</td><td>0.0</td><td>0.0</td><td>0.0</td><td>0.0</td><td>0.0</td><td>0.0</td><td>0.0</td><td>0.0</td></tr><tr><td>&quot;50%&quot;</td><td>1.29603e6</td><td>null</td><td>null</td><td>null</td><td>1.0</td><td>9.1</td><td>null</td><td>null</td><td>null</td><td>null</td><td>null</td><td>1.0</td><td>0.0</td><td>0.0</td><td>0.0</td><td>0.0</td><td>0.0</td><td>0.0</td><td>0.0</td><td>0.0</td><td>0.0</td><td>0.0</td></tr><tr><td>&quot;75%&quot;</td><td>1.389392e6</td><td>null</td><td>null</td><td>null</td><td>2.0</td><td>14.1</td><td>null</td><td>null</td><td>null</td><td>null</td><td>null</td><td>1.0</td><td>0.0</td><td>0.0</td><td>0.0</td><td>0.0</td><td>0.0</td><td>0.0</td><td>0.0</td><td>0.0</td><td>0.0</td><td>0.0</td></tr><tr><td>&quot;max&quot;</td><td>1.451294e6</td><td>&quot;2024/25&quot;</td><td>&quot;2024-09-27&quot;</td><td>&quot;Zhejiang University of Technol…</td><td>6.0</td><td>19.9</td><td>&quot;Zimbabwe&quot;</td><td>&quot;Zimbabwe&quot;</td><td>&quot;Zumika Azmi&quot;</td><td>&quot;Zumika Azmi&quot;</td><td>&quot;Zumika Azmi&quot;</td><td>7.0</td><td>6.0</td><td>5.0</td><td>1.0</td><td>5.0</td><td>5.0</td><td>1.0</td><td>1.0</td><td>1.0</td><td>1.0</td><td>1.0</td></tr></tbody></table></div>"
      ],
      "text/plain": [
       "shape: (9, 23)\n",
       "┌────────────┬───────────┬─────────┬───────────┬───┬───────────┬───────────┬───────────┬───────────┐\n",
       "│ statistic  ┆ match_id  ┆ season  ┆ start_dat ┆ … ┆ wicket_ty ┆ player_di ┆ other_wic ┆ other_pla │\n",
       "│ ---        ┆ ---       ┆ ---     ┆ e         ┆   ┆ pe        ┆ smissed   ┆ ket_type  ┆ yer_dismi │\n",
       "│ str        ┆ f64       ┆ str     ┆ ---       ┆   ┆ ---       ┆ ---       ┆ ---       ┆ ssed      │\n",
       "│            ┆           ┆         ┆ str       ┆   ┆ f64       ┆ f64       ┆ f64       ┆ ---       │\n",
       "│            ┆           ┆         ┆           ┆   ┆           ┆           ┆           ┆ f64       │\n",
       "╞════════════╪═══════════╪═════════╪═══════════╪═══╪═══════════╪═══════════╪═══════════╪═══════════╡\n",
       "│ count      ┆ 860172.0  ┆ 860172  ┆ 860172    ┆ … ┆ 860172.0  ┆ 860172.0  ┆ 860172.0  ┆ 860172.0  │\n",
       "│ null_count ┆ 0.0       ┆ 0       ┆ 0         ┆ … ┆ 0.0       ┆ 0.0       ┆ 0.0       ┆ 0.0       │\n",
       "│ mean       ┆ 1.1885e6  ┆ null    ┆ null      ┆ … ┆ 0.055306  ┆ 0.055306  ┆ 0.000001  ┆ 0.000001  │\n",
       "│ std        ┆ 292130.95 ┆ null    ┆ null      ┆ … ┆ 0.228577  ┆ 0.228577  ┆ 0.001078  ┆ 0.001078  │\n",
       "│            ┆ 7265      ┆         ┆           ┆   ┆           ┆           ┆           ┆           │\n",
       "│ min        ┆ 211028.0  ┆ 2004/05 ┆ 2005-02-1 ┆ … ┆ 0.0       ┆ 0.0       ┆ 0.0       ┆ 0.0       │\n",
       "│            ┆           ┆         ┆ 7         ┆   ┆           ┆           ┆           ┆           │\n",
       "│ 25%        ┆ 1.153859e ┆ null    ┆ null      ┆ … ┆ 0.0       ┆ 0.0       ┆ 0.0       ┆ 0.0       │\n",
       "│            ┆ 6         ┆         ┆           ┆   ┆           ┆           ┆           ┆           │\n",
       "│ 50%        ┆ 1.29603e6 ┆ null    ┆ null      ┆ … ┆ 0.0       ┆ 0.0       ┆ 0.0       ┆ 0.0       │\n",
       "│ 75%        ┆ 1.389392e ┆ null    ┆ null      ┆ … ┆ 0.0       ┆ 0.0       ┆ 0.0       ┆ 0.0       │\n",
       "│            ┆ 6         ┆         ┆           ┆   ┆           ┆           ┆           ┆           │\n",
       "│ max        ┆ 1.451294e ┆ 2024/25 ┆ 2024-09-2 ┆ … ┆ 1.0       ┆ 1.0       ┆ 1.0       ┆ 1.0       │\n",
       "│            ┆ 6         ┆         ┆ 7         ┆   ┆           ┆           ┆           ┆           │\n",
       "└────────────┴───────────┴─────────┴───────────┴───┴───────────┴───────────┴───────────┴───────────┘"
      ]
     },
     "execution_count": 6,
     "metadata": {},
     "output_type": "execute_result"
    }
   ],
   "source": [
    "deliveries.describe()"
   ]
  },
  {
   "cell_type": "code",
   "execution_count": 7,
   "metadata": {},
   "outputs": [
    {
     "data": {
      "text/html": [
       "<div><style>\n",
       ".dataframe > thead > tr,\n",
       ".dataframe > tbody > tr {\n",
       "  text-align: right;\n",
       "  white-space: pre-wrap;\n",
       "}\n",
       "</style>\n",
       "<small>shape: (860_172, 16)</small><table border=\"1\" class=\"dataframe\"><thead><tr><th>match_id</th><th>innings</th><th>ball</th><th>batting_team</th><th>bowling_team</th><th>runs_off_bat</th><th>extras</th><th>wides</th><th>noballs</th><th>byes</th><th>legbyes</th><th>penalty</th><th>wicket_type</th><th>player_dismissed</th><th>other_wicket_type</th><th>other_player_dismissed</th></tr><tr><td>i64</td><td>i64</td><td>f64</td><td>str</td><td>str</td><td>i64</td><td>i64</td><td>i64</td><td>i64</td><td>i64</td><td>i64</td><td>i64</td><td>i64</td><td>i64</td><td>i64</td><td>i64</td></tr></thead><tbody><tr><td>1001349</td><td>1</td><td>0.1</td><td>&quot;Australia&quot;</td><td>&quot;Sri Lanka&quot;</td><td>0</td><td>0</td><td>0</td><td>0</td><td>0</td><td>0</td><td>0</td><td>0</td><td>0</td><td>0</td><td>0</td></tr><tr><td>1001349</td><td>1</td><td>0.2</td><td>&quot;Australia&quot;</td><td>&quot;Sri Lanka&quot;</td><td>0</td><td>0</td><td>0</td><td>0</td><td>0</td><td>0</td><td>0</td><td>0</td><td>0</td><td>0</td><td>0</td></tr><tr><td>1001349</td><td>1</td><td>0.3</td><td>&quot;Australia&quot;</td><td>&quot;Sri Lanka&quot;</td><td>1</td><td>0</td><td>0</td><td>0</td><td>0</td><td>0</td><td>0</td><td>0</td><td>0</td><td>0</td><td>0</td></tr><tr><td>1001349</td><td>1</td><td>0.4</td><td>&quot;Australia&quot;</td><td>&quot;Sri Lanka&quot;</td><td>2</td><td>0</td><td>0</td><td>0</td><td>0</td><td>0</td><td>0</td><td>0</td><td>0</td><td>0</td><td>0</td></tr><tr><td>1001349</td><td>1</td><td>0.5</td><td>&quot;Australia&quot;</td><td>&quot;Sri Lanka&quot;</td><td>0</td><td>0</td><td>0</td><td>0</td><td>0</td><td>0</td><td>0</td><td>0</td><td>0</td><td>0</td><td>0</td></tr><tr><td>&hellip;</td><td>&hellip;</td><td>&hellip;</td><td>&hellip;</td><td>&hellip;</td><td>&hellip;</td><td>&hellip;</td><td>&hellip;</td><td>&hellip;</td><td>&hellip;</td><td>&hellip;</td><td>&hellip;</td><td>&hellip;</td><td>&hellip;</td><td>&hellip;</td><td>&hellip;</td></tr><tr><td>995469</td><td>2</td><td>17.1</td><td>&quot;Australia&quot;</td><td>&quot;Sri Lanka&quot;</td><td>1</td><td>0</td><td>0</td><td>0</td><td>0</td><td>0</td><td>0</td><td>0</td><td>0</td><td>0</td><td>0</td></tr><tr><td>995469</td><td>2</td><td>17.2</td><td>&quot;Australia&quot;</td><td>&quot;Sri Lanka&quot;</td><td>3</td><td>0</td><td>0</td><td>0</td><td>0</td><td>0</td><td>0</td><td>0</td><td>0</td><td>0</td><td>0</td></tr><tr><td>995469</td><td>2</td><td>17.3</td><td>&quot;Australia&quot;</td><td>&quot;Sri Lanka&quot;</td><td>0</td><td>0</td><td>0</td><td>0</td><td>0</td><td>0</td><td>0</td><td>0</td><td>0</td><td>0</td><td>0</td></tr><tr><td>995469</td><td>2</td><td>17.4</td><td>&quot;Australia&quot;</td><td>&quot;Sri Lanka&quot;</td><td>0</td><td>0</td><td>0</td><td>0</td><td>0</td><td>0</td><td>0</td><td>0</td><td>0</td><td>0</td><td>0</td></tr><tr><td>995469</td><td>2</td><td>17.5</td><td>&quot;Australia&quot;</td><td>&quot;Sri Lanka&quot;</td><td>6</td><td>0</td><td>0</td><td>0</td><td>0</td><td>0</td><td>0</td><td>0</td><td>0</td><td>0</td><td>0</td></tr></tbody></table></div>"
      ],
      "text/plain": [
       "shape: (860_172, 16)\n",
       "┌──────────┬─────────┬──────┬─────────────┬───┬─────────────┬────────────┬────────────┬────────────┐\n",
       "│ match_id ┆ innings ┆ ball ┆ batting_tea ┆ … ┆ wicket_type ┆ player_dis ┆ other_wick ┆ other_play │\n",
       "│ ---      ┆ ---     ┆ ---  ┆ m           ┆   ┆ ---         ┆ missed     ┆ et_type    ┆ er_dismiss │\n",
       "│ i64      ┆ i64     ┆ f64  ┆ ---         ┆   ┆ i64         ┆ ---        ┆ ---        ┆ ed         │\n",
       "│          ┆         ┆      ┆ str         ┆   ┆             ┆ i64        ┆ i64        ┆ ---        │\n",
       "│          ┆         ┆      ┆             ┆   ┆             ┆            ┆            ┆ i64        │\n",
       "╞══════════╪═════════╪══════╪═════════════╪═══╪═════════════╪════════════╪════════════╪════════════╡\n",
       "│ 1001349  ┆ 1       ┆ 0.1  ┆ Australia   ┆ … ┆ 0           ┆ 0          ┆ 0          ┆ 0          │\n",
       "│ 1001349  ┆ 1       ┆ 0.2  ┆ Australia   ┆ … ┆ 0           ┆ 0          ┆ 0          ┆ 0          │\n",
       "│ 1001349  ┆ 1       ┆ 0.3  ┆ Australia   ┆ … ┆ 0           ┆ 0          ┆ 0          ┆ 0          │\n",
       "│ 1001349  ┆ 1       ┆ 0.4  ┆ Australia   ┆ … ┆ 0           ┆ 0          ┆ 0          ┆ 0          │\n",
       "│ 1001349  ┆ 1       ┆ 0.5  ┆ Australia   ┆ … ┆ 0           ┆ 0          ┆ 0          ┆ 0          │\n",
       "│ …        ┆ …       ┆ …    ┆ …           ┆ … ┆ …           ┆ …          ┆ …          ┆ …          │\n",
       "│ 995469   ┆ 2       ┆ 17.1 ┆ Australia   ┆ … ┆ 0           ┆ 0          ┆ 0          ┆ 0          │\n",
       "│ 995469   ┆ 2       ┆ 17.2 ┆ Australia   ┆ … ┆ 0           ┆ 0          ┆ 0          ┆ 0          │\n",
       "│ 995469   ┆ 2       ┆ 17.3 ┆ Australia   ┆ … ┆ 0           ┆ 0          ┆ 0          ┆ 0          │\n",
       "│ 995469   ┆ 2       ┆ 17.4 ┆ Australia   ┆ … ┆ 0           ┆ 0          ┆ 0          ┆ 0          │\n",
       "│ 995469   ┆ 2       ┆ 17.5 ┆ Australia   ┆ … ┆ 0           ┆ 0          ┆ 0          ┆ 0          │\n",
       "└──────────┴─────────┴──────┴─────────────┴───┴─────────────┴────────────┴────────────┴────────────┘"
      ]
     },
     "execution_count": 7,
     "metadata": {},
     "output_type": "execute_result"
    }
   ],
   "source": [
    "deliveries = deliveries.drop(['season','start_date','venue','striker','non_striker','bowler'])\n",
    "deliveries"
   ]
  },
  {
   "cell_type": "code",
   "execution_count": 8,
   "metadata": {},
   "outputs": [
    {
     "data": {
      "text/html": [
       "<div><style>\n",
       ".dataframe > thead > tr,\n",
       ".dataframe > tbody > tr {\n",
       "  text-align: right;\n",
       "  white-space: pre-wrap;\n",
       "}\n",
       "</style>\n",
       "<small>shape: (860_172, 7)</small><table border=\"1\" class=\"dataframe\"><thead><tr><th>match_id</th><th>innings</th><th>ball</th><th>batting_team</th><th>bowling_team</th><th>runs</th><th>wickets</th></tr><tr><td>i64</td><td>i64</td><td>f64</td><td>str</td><td>str</td><td>i64</td><td>i64</td></tr></thead><tbody><tr><td>1001349</td><td>1</td><td>0.1</td><td>&quot;Australia&quot;</td><td>&quot;Sri Lanka&quot;</td><td>0</td><td>0</td></tr><tr><td>1001349</td><td>1</td><td>0.2</td><td>&quot;Australia&quot;</td><td>&quot;Sri Lanka&quot;</td><td>0</td><td>0</td></tr><tr><td>1001349</td><td>1</td><td>0.3</td><td>&quot;Australia&quot;</td><td>&quot;Sri Lanka&quot;</td><td>1</td><td>0</td></tr><tr><td>1001349</td><td>1</td><td>0.4</td><td>&quot;Australia&quot;</td><td>&quot;Sri Lanka&quot;</td><td>2</td><td>0</td></tr><tr><td>1001349</td><td>1</td><td>0.5</td><td>&quot;Australia&quot;</td><td>&quot;Sri Lanka&quot;</td><td>0</td><td>0</td></tr><tr><td>&hellip;</td><td>&hellip;</td><td>&hellip;</td><td>&hellip;</td><td>&hellip;</td><td>&hellip;</td><td>&hellip;</td></tr><tr><td>995469</td><td>2</td><td>17.1</td><td>&quot;Australia&quot;</td><td>&quot;Sri Lanka&quot;</td><td>1</td><td>0</td></tr><tr><td>995469</td><td>2</td><td>17.2</td><td>&quot;Australia&quot;</td><td>&quot;Sri Lanka&quot;</td><td>3</td><td>0</td></tr><tr><td>995469</td><td>2</td><td>17.3</td><td>&quot;Australia&quot;</td><td>&quot;Sri Lanka&quot;</td><td>0</td><td>0</td></tr><tr><td>995469</td><td>2</td><td>17.4</td><td>&quot;Australia&quot;</td><td>&quot;Sri Lanka&quot;</td><td>0</td><td>0</td></tr><tr><td>995469</td><td>2</td><td>17.5</td><td>&quot;Australia&quot;</td><td>&quot;Sri Lanka&quot;</td><td>6</td><td>0</td></tr></tbody></table></div>"
      ],
      "text/plain": [
       "shape: (860_172, 7)\n",
       "┌──────────┬─────────┬──────┬──────────────┬──────────────┬──────┬─────────┐\n",
       "│ match_id ┆ innings ┆ ball ┆ batting_team ┆ bowling_team ┆ runs ┆ wickets │\n",
       "│ ---      ┆ ---     ┆ ---  ┆ ---          ┆ ---          ┆ ---  ┆ ---     │\n",
       "│ i64      ┆ i64     ┆ f64  ┆ str          ┆ str          ┆ i64  ┆ i64     │\n",
       "╞══════════╪═════════╪══════╪══════════════╪══════════════╪══════╪═════════╡\n",
       "│ 1001349  ┆ 1       ┆ 0.1  ┆ Australia    ┆ Sri Lanka    ┆ 0    ┆ 0       │\n",
       "│ 1001349  ┆ 1       ┆ 0.2  ┆ Australia    ┆ Sri Lanka    ┆ 0    ┆ 0       │\n",
       "│ 1001349  ┆ 1       ┆ 0.3  ┆ Australia    ┆ Sri Lanka    ┆ 1    ┆ 0       │\n",
       "│ 1001349  ┆ 1       ┆ 0.4  ┆ Australia    ┆ Sri Lanka    ┆ 2    ┆ 0       │\n",
       "│ 1001349  ┆ 1       ┆ 0.5  ┆ Australia    ┆ Sri Lanka    ┆ 0    ┆ 0       │\n",
       "│ …        ┆ …       ┆ …    ┆ …            ┆ …            ┆ …    ┆ …       │\n",
       "│ 995469   ┆ 2       ┆ 17.1 ┆ Australia    ┆ Sri Lanka    ┆ 1    ┆ 0       │\n",
       "│ 995469   ┆ 2       ┆ 17.2 ┆ Australia    ┆ Sri Lanka    ┆ 3    ┆ 0       │\n",
       "│ 995469   ┆ 2       ┆ 17.3 ┆ Australia    ┆ Sri Lanka    ┆ 0    ┆ 0       │\n",
       "│ 995469   ┆ 2       ┆ 17.4 ┆ Australia    ┆ Sri Lanka    ┆ 0    ┆ 0       │\n",
       "│ 995469   ┆ 2       ┆ 17.5 ┆ Australia    ┆ Sri Lanka    ┆ 6    ┆ 0       │\n",
       "└──────────┴─────────┴──────┴──────────────┴──────────────┴──────┴─────────┘"
      ]
     },
     "execution_count": 8,
     "metadata": {},
     "output_type": "execute_result"
    }
   ],
   "source": [
    "deliveries=deliveries.with_columns(deliveries[['runs_off_bat','extras','wides','noballs','byes','legbyes','penalty']].sum_horizontal().alias(\"runs\")).drop(['runs_off_bat','extras','wides','noballs','byes','legbyes','penalty'])\n",
    "deliveries=deliveries.with_columns(deliveries[['player_dismissed','other_player_dismissed']].sum_horizontal().alias(\"wickets\")).drop(['wicket_type','player_dismissed','other_wicket_type','other_player_dismissed'])\n",
    "deliveries"
   ]
  },
  {
   "cell_type": "code",
   "execution_count": 9,
   "metadata": {},
   "outputs": [
    {
     "data": {
      "text/html": [
       "<div><style>\n",
       ".dataframe > thead > tr,\n",
       ".dataframe > tbody > tr {\n",
       "  text-align: right;\n",
       "  white-space: pre-wrap;\n",
       "}\n",
       "</style>\n",
       "<small>shape: (860_172, 7)</small><table border=\"1\" class=\"dataframe\"><thead><tr><th>match_id</th><th>innings</th><th>ball</th><th>batting_team</th><th>bowling_team</th><th>curr_score</th><th>curr_wickets</th></tr><tr><td>i64</td><td>i64</td><td>f64</td><td>str</td><td>str</td><td>i64</td><td>i64</td></tr></thead><tbody><tr><td>1001349</td><td>1</td><td>0.1</td><td>&quot;Australia&quot;</td><td>&quot;Sri Lanka&quot;</td><td>0</td><td>0</td></tr><tr><td>1001349</td><td>1</td><td>0.2</td><td>&quot;Australia&quot;</td><td>&quot;Sri Lanka&quot;</td><td>0</td><td>0</td></tr><tr><td>1001349</td><td>1</td><td>0.3</td><td>&quot;Australia&quot;</td><td>&quot;Sri Lanka&quot;</td><td>1</td><td>0</td></tr><tr><td>1001349</td><td>1</td><td>0.4</td><td>&quot;Australia&quot;</td><td>&quot;Sri Lanka&quot;</td><td>3</td><td>0</td></tr><tr><td>1001349</td><td>1</td><td>0.5</td><td>&quot;Australia&quot;</td><td>&quot;Sri Lanka&quot;</td><td>3</td><td>0</td></tr><tr><td>&hellip;</td><td>&hellip;</td><td>&hellip;</td><td>&hellip;</td><td>&hellip;</td><td>&hellip;</td><td>&hellip;</td></tr><tr><td>995469</td><td>2</td><td>17.1</td><td>&quot;Australia&quot;</td><td>&quot;Sri Lanka&quot;</td><td>126</td><td>6</td></tr><tr><td>995469</td><td>2</td><td>17.2</td><td>&quot;Australia&quot;</td><td>&quot;Sri Lanka&quot;</td><td>129</td><td>6</td></tr><tr><td>995469</td><td>2</td><td>17.3</td><td>&quot;Australia&quot;</td><td>&quot;Sri Lanka&quot;</td><td>129</td><td>6</td></tr><tr><td>995469</td><td>2</td><td>17.4</td><td>&quot;Australia&quot;</td><td>&quot;Sri Lanka&quot;</td><td>129</td><td>6</td></tr><tr><td>995469</td><td>2</td><td>17.5</td><td>&quot;Australia&quot;</td><td>&quot;Sri Lanka&quot;</td><td>135</td><td>6</td></tr></tbody></table></div>"
      ],
      "text/plain": [
       "shape: (860_172, 7)\n",
       "┌──────────┬─────────┬──────┬──────────────┬──────────────┬────────────┬──────────────┐\n",
       "│ match_id ┆ innings ┆ ball ┆ batting_team ┆ bowling_team ┆ curr_score ┆ curr_wickets │\n",
       "│ ---      ┆ ---     ┆ ---  ┆ ---          ┆ ---          ┆ ---        ┆ ---          │\n",
       "│ i64      ┆ i64     ┆ f64  ┆ str          ┆ str          ┆ i64        ┆ i64          │\n",
       "╞══════════╪═════════╪══════╪══════════════╪══════════════╪════════════╪══════════════╡\n",
       "│ 1001349  ┆ 1       ┆ 0.1  ┆ Australia    ┆ Sri Lanka    ┆ 0          ┆ 0            │\n",
       "│ 1001349  ┆ 1       ┆ 0.2  ┆ Australia    ┆ Sri Lanka    ┆ 0          ┆ 0            │\n",
       "│ 1001349  ┆ 1       ┆ 0.3  ┆ Australia    ┆ Sri Lanka    ┆ 1          ┆ 0            │\n",
       "│ 1001349  ┆ 1       ┆ 0.4  ┆ Australia    ┆ Sri Lanka    ┆ 3          ┆ 0            │\n",
       "│ 1001349  ┆ 1       ┆ 0.5  ┆ Australia    ┆ Sri Lanka    ┆ 3          ┆ 0            │\n",
       "│ …        ┆ …       ┆ …    ┆ …            ┆ …            ┆ …          ┆ …            │\n",
       "│ 995469   ┆ 2       ┆ 17.1 ┆ Australia    ┆ Sri Lanka    ┆ 126        ┆ 6            │\n",
       "│ 995469   ┆ 2       ┆ 17.2 ┆ Australia    ┆ Sri Lanka    ┆ 129        ┆ 6            │\n",
       "│ 995469   ┆ 2       ┆ 17.3 ┆ Australia    ┆ Sri Lanka    ┆ 129        ┆ 6            │\n",
       "│ 995469   ┆ 2       ┆ 17.4 ┆ Australia    ┆ Sri Lanka    ┆ 129        ┆ 6            │\n",
       "│ 995469   ┆ 2       ┆ 17.5 ┆ Australia    ┆ Sri Lanka    ┆ 135        ┆ 6            │\n",
       "└──────────┴─────────┴──────┴──────────────┴──────────────┴────────────┴──────────────┘"
      ]
     },
     "execution_count": 9,
     "metadata": {},
     "output_type": "execute_result"
    }
   ],
   "source": [
    "deliveries=deliveries.with_columns(pl.col('runs').cum_sum().over([\"match_id\",'innings']).alias(\"curr_score\")).drop('runs')\n",
    "deliveries=deliveries.with_columns(pl.col('wickets').cum_sum().over([\"match_id\",'innings']).alias(\"curr_wickets\")).drop(\"wickets\")\n",
    "\n",
    "deliveries"
   ]
  },
  {
   "cell_type": "code",
   "execution_count": 13,
   "metadata": {},
   "outputs": [
    {
     "data": {
      "text/html": [
       "<div><style>\n",
       ".dataframe > thead > tr,\n",
       ".dataframe > tbody > tr {\n",
       "  text-align: right;\n",
       "  white-space: pre-wrap;\n",
       "}\n",
       "</style>\n",
       "<small>shape: (843_189, 8)</small><table border=\"1\" class=\"dataframe\"><thead><tr><th>match_id</th><th>innings</th><th>ball</th><th>batting_team</th><th>bowling_team</th><th>curr_score</th><th>curr_wickets</th><th>winner</th></tr><tr><td>i64</td><td>i64</td><td>f64</td><td>str</td><td>str</td><td>i64</td><td>i64</td><td>str</td></tr></thead><tbody><tr><td>211028</td><td>1</td><td>0.1</td><td>&quot;England&quot;</td><td>&quot;Australia&quot;</td><td>0</td><td>0</td><td>&quot;England&quot;</td></tr><tr><td>211028</td><td>1</td><td>0.2</td><td>&quot;England&quot;</td><td>&quot;Australia&quot;</td><td>1</td><td>0</td><td>&quot;England&quot;</td></tr><tr><td>211028</td><td>1</td><td>0.3</td><td>&quot;England&quot;</td><td>&quot;Australia&quot;</td><td>1</td><td>0</td><td>&quot;England&quot;</td></tr><tr><td>211028</td><td>1</td><td>0.4</td><td>&quot;England&quot;</td><td>&quot;Australia&quot;</td><td>1</td><td>0</td><td>&quot;England&quot;</td></tr><tr><td>211028</td><td>1</td><td>0.5</td><td>&quot;England&quot;</td><td>&quot;Australia&quot;</td><td>1</td><td>0</td><td>&quot;England&quot;</td></tr><tr><td>&hellip;</td><td>&hellip;</td><td>&hellip;</td><td>&hellip;</td><td>&hellip;</td><td>&hellip;</td><td>&hellip;</td><td>&hellip;</td></tr><tr><td>1451294</td><td>2</td><td>13.2</td><td>&quot;Spain&quot;</td><td>&quot;Greece&quot;</td><td>88</td><td>2</td><td>&quot;Spain&quot;</td></tr><tr><td>1451294</td><td>2</td><td>13.3</td><td>&quot;Spain&quot;</td><td>&quot;Greece&quot;</td><td>91</td><td>2</td><td>&quot;Spain&quot;</td></tr><tr><td>1451294</td><td>2</td><td>13.4</td><td>&quot;Spain&quot;</td><td>&quot;Greece&quot;</td><td>91</td><td>2</td><td>&quot;Spain&quot;</td></tr><tr><td>1451294</td><td>2</td><td>13.5</td><td>&quot;Spain&quot;</td><td>&quot;Greece&quot;</td><td>91</td><td>2</td><td>&quot;Spain&quot;</td></tr><tr><td>1451294</td><td>2</td><td>13.6</td><td>&quot;Spain&quot;</td><td>&quot;Greece&quot;</td><td>95</td><td>2</td><td>&quot;Spain&quot;</td></tr></tbody></table></div>"
      ],
      "text/plain": [
       "shape: (843_189, 8)\n",
       "┌──────────┬─────────┬──────┬──────────────┬──────────────┬────────────┬──────────────┬─────────┐\n",
       "│ match_id ┆ innings ┆ ball ┆ batting_team ┆ bowling_team ┆ curr_score ┆ curr_wickets ┆ winner  │\n",
       "│ ---      ┆ ---     ┆ ---  ┆ ---          ┆ ---          ┆ ---        ┆ ---          ┆ ---     │\n",
       "│ i64      ┆ i64     ┆ f64  ┆ str          ┆ str          ┆ i64        ┆ i64          ┆ str     │\n",
       "╞══════════╪═════════╪══════╪══════════════╪══════════════╪════════════╪══════════════╪═════════╡\n",
       "│ 211028   ┆ 1       ┆ 0.1  ┆ England      ┆ Australia    ┆ 0          ┆ 0            ┆ England │\n",
       "│ 211028   ┆ 1       ┆ 0.2  ┆ England      ┆ Australia    ┆ 1          ┆ 0            ┆ England │\n",
       "│ 211028   ┆ 1       ┆ 0.3  ┆ England      ┆ Australia    ┆ 1          ┆ 0            ┆ England │\n",
       "│ 211028   ┆ 1       ┆ 0.4  ┆ England      ┆ Australia    ┆ 1          ┆ 0            ┆ England │\n",
       "│ 211028   ┆ 1       ┆ 0.5  ┆ England      ┆ Australia    ┆ 1          ┆ 0            ┆ England │\n",
       "│ …        ┆ …       ┆ …    ┆ …            ┆ …            ┆ …          ┆ …            ┆ …       │\n",
       "│ 1451294  ┆ 2       ┆ 13.2 ┆ Spain        ┆ Greece       ┆ 88         ┆ 2            ┆ Spain   │\n",
       "│ 1451294  ┆ 2       ┆ 13.3 ┆ Spain        ┆ Greece       ┆ 91         ┆ 2            ┆ Spain   │\n",
       "│ 1451294  ┆ 2       ┆ 13.4 ┆ Spain        ┆ Greece       ┆ 91         ┆ 2            ┆ Spain   │\n",
       "│ 1451294  ┆ 2       ┆ 13.5 ┆ Spain        ┆ Greece       ┆ 91         ┆ 2            ┆ Spain   │\n",
       "│ 1451294  ┆ 2       ┆ 13.6 ┆ Spain        ┆ Greece       ┆ 95         ┆ 2            ┆ Spain   │\n",
       "└──────────┴─────────┴──────┴──────────────┴──────────────┴────────────┴──────────────┴─────────┘"
      ]
     },
     "execution_count": 13,
     "metadata": {},
     "output_type": "execute_result"
    }
   ],
   "source": [
    "data=deliveries.join(matches,on='match_id').drop('season','venue','gender')\n",
    "data.sort('match_id')"
   ]
  },
  {
   "cell_type": "code",
   "execution_count": 17,
   "metadata": {},
   "outputs": [
    {
     "data": {
      "text/html": [
       "<div><style>\n",
       ".dataframe > thead > tr,\n",
       ".dataframe > tbody > tr {\n",
       "  text-align: right;\n",
       "  white-space: pre-wrap;\n",
       "}\n",
       "</style>\n",
       "<small>shape: (843_189, 6)</small><table border=\"1\" class=\"dataframe\"><thead><tr><th>match_id</th><th>innings</th><th>ball</th><th>curr_score</th><th>curr_wickets</th><th>won</th></tr><tr><td>i64</td><td>i64</td><td>f64</td><td>i64</td><td>i64</td><td>i32</td></tr></thead><tbody><tr><td>1001349</td><td>1</td><td>0.1</td><td>0</td><td>0</td><td>0</td></tr><tr><td>1001349</td><td>1</td><td>0.2</td><td>0</td><td>0</td><td>0</td></tr><tr><td>1001349</td><td>1</td><td>0.3</td><td>1</td><td>0</td><td>0</td></tr><tr><td>1001349</td><td>1</td><td>0.4</td><td>3</td><td>0</td><td>0</td></tr><tr><td>1001349</td><td>1</td><td>0.5</td><td>3</td><td>0</td><td>0</td></tr><tr><td>&hellip;</td><td>&hellip;</td><td>&hellip;</td><td>&hellip;</td><td>&hellip;</td><td>&hellip;</td></tr><tr><td>995469</td><td>2</td><td>17.1</td><td>126</td><td>6</td><td>1</td></tr><tr><td>995469</td><td>2</td><td>17.2</td><td>129</td><td>6</td><td>1</td></tr><tr><td>995469</td><td>2</td><td>17.3</td><td>129</td><td>6</td><td>1</td></tr><tr><td>995469</td><td>2</td><td>17.4</td><td>129</td><td>6</td><td>1</td></tr><tr><td>995469</td><td>2</td><td>17.5</td><td>135</td><td>6</td><td>1</td></tr></tbody></table></div>"
      ],
      "text/plain": [
       "shape: (843_189, 6)\n",
       "┌──────────┬─────────┬──────┬────────────┬──────────────┬─────┐\n",
       "│ match_id ┆ innings ┆ ball ┆ curr_score ┆ curr_wickets ┆ won │\n",
       "│ ---      ┆ ---     ┆ ---  ┆ ---        ┆ ---          ┆ --- │\n",
       "│ i64      ┆ i64     ┆ f64  ┆ i64        ┆ i64          ┆ i32 │\n",
       "╞══════════╪═════════╪══════╪════════════╪══════════════╪═════╡\n",
       "│ 1001349  ┆ 1       ┆ 0.1  ┆ 0          ┆ 0            ┆ 0   │\n",
       "│ 1001349  ┆ 1       ┆ 0.2  ┆ 0          ┆ 0            ┆ 0   │\n",
       "│ 1001349  ┆ 1       ┆ 0.3  ┆ 1          ┆ 0            ┆ 0   │\n",
       "│ 1001349  ┆ 1       ┆ 0.4  ┆ 3          ┆ 0            ┆ 0   │\n",
       "│ 1001349  ┆ 1       ┆ 0.5  ┆ 3          ┆ 0            ┆ 0   │\n",
       "│ …        ┆ …       ┆ …    ┆ …          ┆ …            ┆ …   │\n",
       "│ 995469   ┆ 2       ┆ 17.1 ┆ 126        ┆ 6            ┆ 1   │\n",
       "│ 995469   ┆ 2       ┆ 17.2 ┆ 129        ┆ 6            ┆ 1   │\n",
       "│ 995469   ┆ 2       ┆ 17.3 ┆ 129        ┆ 6            ┆ 1   │\n",
       "│ 995469   ┆ 2       ┆ 17.4 ┆ 129        ┆ 6            ┆ 1   │\n",
       "│ 995469   ┆ 2       ┆ 17.5 ┆ 135        ┆ 6            ┆ 1   │\n",
       "└──────────┴─────────┴──────┴────────────┴──────────────┴─────┘"
      ]
     },
     "execution_count": 17,
     "metadata": {},
     "output_type": "execute_result"
    }
   ],
   "source": [
    "data = data.with_columns(pl.when(pl.col('winner')==pl.col('batting_team')).then(1).otherwise(0).alias('won')).drop('winner','batting_team','bowling_team')\n",
    "data"
   ]
  },
  {
   "cell_type": "code",
   "execution_count": 18,
   "metadata": {},
   "outputs": [],
   "source": [
    "directory = r'D:\\github\\localt20\\finalData'\n",
    "data.write_csv(os.path.join(directory, 'balltoball.csv'))"
   ]
  },
  {
   "cell_type": "code",
   "execution_count": null,
   "metadata": {},
   "outputs": [],
   "source": []
  }
 ],
 "metadata": {
  "kernelspec": {
   "display_name": "eda",
   "language": "python",
   "name": "python3"
  },
  "language_info": {
   "codemirror_mode": {
    "name": "ipython",
    "version": 3
   },
   "file_extension": ".py",
   "mimetype": "text/x-python",
   "name": "python",
   "nbconvert_exporter": "python",
   "pygments_lexer": "ipython3",
   "version": "3.8.19"
  }
 },
 "nbformat": 4,
 "nbformat_minor": 2
}
