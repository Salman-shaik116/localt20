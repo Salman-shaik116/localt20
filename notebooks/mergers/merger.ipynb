{
 "cells": [
  {
   "cell_type": "code",
   "execution_count": 25,
   "metadata": {},
   "outputs": [
    {
     "data": {
      "text/html": [
       "<div><style>\n",
       ".dataframe > thead > tr,\n",
       ".dataframe > tbody > tr {\n",
       "  text-align: right;\n",
       "  white-space: pre-wrap;\n",
       "}\n",
       "</style>\n",
       "<small>shape: (9, 12)</small><table border=\"1\" class=\"dataframe\"><thead><tr><th>statistic</th><th>team1</th><th>team2</th><th>gender</th><th>season</th><th>date</th><th>venue</th><th>city</th><th>toss_winner</th><th>toss_decision</th><th>winner</th><th>match_id</th></tr><tr><td>str</td><td>str</td><td>str</td><td>str</td><td>str</td><td>str</td><td>str</td><td>str</td><td>str</td><td>str</td><td>str</td><td>f64</td></tr></thead><tbody><tr><td>&quot;count&quot;</td><td>&quot;3683&quot;</td><td>&quot;3683&quot;</td><td>&quot;3683&quot;</td><td>&quot;3683&quot;</td><td>&quot;3683&quot;</td><td>&quot;3683&quot;</td><td>&quot;3491&quot;</td><td>&quot;3683&quot;</td><td>&quot;3683&quot;</td><td>&quot;3683&quot;</td><td>3683.0</td></tr><tr><td>&quot;null_count&quot;</td><td>&quot;0&quot;</td><td>&quot;0&quot;</td><td>&quot;0&quot;</td><td>&quot;0&quot;</td><td>&quot;0&quot;</td><td>&quot;0&quot;</td><td>&quot;192&quot;</td><td>&quot;0&quot;</td><td>&quot;0&quot;</td><td>&quot;0&quot;</td><td>0.0</td></tr><tr><td>&quot;mean&quot;</td><td>null</td><td>null</td><td>null</td><td>null</td><td>null</td><td>null</td><td>null</td><td>null</td><td>null</td><td>null</td><td>1.1918e6</td></tr><tr><td>&quot;std&quot;</td><td>null</td><td>null</td><td>null</td><td>null</td><td>null</td><td>null</td><td>null</td><td>null</td><td>null</td><td>null</td><td>289896.610143</td></tr><tr><td>&quot;min&quot;</td><td>&quot;Afghanistan&quot;</td><td>&quot;Afghanistan&quot;</td><td>&quot;female&quot;</td><td>&quot;2004/05&quot;</td><td>&quot;2005/02/17&quot;</td><td>&quot;7he Sevens Stadium, Dubai&quot;</td><td>&quot;Abu Dhabi&quot;</td><td>&quot;Afghanistan&quot;</td><td>&quot;bat&quot;</td><td>&quot;Afghanistan&quot;</td><td>211028.0</td></tr><tr><td>&quot;25%&quot;</td><td>null</td><td>null</td><td>null</td><td>null</td><td>null</td><td>null</td><td>null</td><td>null</td><td>null</td><td>null</td><td>1.157759e6</td></tr><tr><td>&quot;50%&quot;</td><td>null</td><td>null</td><td>null</td><td>null</td><td>null</td><td>null</td><td>null</td><td>null</td><td>null</td><td>null</td><td>1.298144e6</td></tr><tr><td>&quot;75%&quot;</td><td>null</td><td>null</td><td>null</td><td>null</td><td>null</td><td>null</td><td>null</td><td>null</td><td>null</td><td>null</td><td>1.391338e6</td></tr><tr><td>&quot;max&quot;</td><td>&quot;Zimbabwe&quot;</td><td>&quot;Zimbabwe&quot;</td><td>&quot;male&quot;</td><td>&quot;2024/25&quot;</td><td>&quot;2024/09/27&quot;</td><td>&quot;Zhejiang University of Technol…</td><td>&quot;Zagreb&quot;</td><td>&quot;Zimbabwe&quot;</td><td>&quot;field&quot;</td><td>&quot;Zimbabwe&quot;</td><td>1.451294e6</td></tr></tbody></table></div>"
      ],
      "text/plain": [
       "shape: (9, 12)\n",
       "┌────────────┬────────────┬───────────┬────────┬───┬───────────┬───────────┬───────────┬───────────┐\n",
       "│ statistic  ┆ team1      ┆ team2     ┆ gender ┆ … ┆ toss_winn ┆ toss_deci ┆ winner    ┆ match_id  │\n",
       "│ ---        ┆ ---        ┆ ---       ┆ ---    ┆   ┆ er        ┆ sion      ┆ ---       ┆ ---       │\n",
       "│ str        ┆ str        ┆ str       ┆ str    ┆   ┆ ---       ┆ ---       ┆ str       ┆ f64       │\n",
       "│            ┆            ┆           ┆        ┆   ┆ str       ┆ str       ┆           ┆           │\n",
       "╞════════════╪════════════╪═══════════╪════════╪═══╪═══════════╪═══════════╪═══════════╪═══════════╡\n",
       "│ count      ┆ 3683       ┆ 3683      ┆ 3683   ┆ … ┆ 3683      ┆ 3683      ┆ 3683      ┆ 3683.0    │\n",
       "│ null_count ┆ 0          ┆ 0         ┆ 0      ┆ … ┆ 0         ┆ 0         ┆ 0         ┆ 0.0       │\n",
       "│ mean       ┆ null       ┆ null      ┆ null   ┆ … ┆ null      ┆ null      ┆ null      ┆ 1.1918e6  │\n",
       "│ std        ┆ null       ┆ null      ┆ null   ┆ … ┆ null      ┆ null      ┆ null      ┆ 289896.61 │\n",
       "│            ┆            ┆           ┆        ┆   ┆           ┆           ┆           ┆ 0143      │\n",
       "│ min        ┆ Afghanista ┆ Afghanist ┆ female ┆ … ┆ Afghanist ┆ bat       ┆ Afghanist ┆ 211028.0  │\n",
       "│            ┆ n          ┆ an        ┆        ┆   ┆ an        ┆           ┆ an        ┆           │\n",
       "│ 25%        ┆ null       ┆ null      ┆ null   ┆ … ┆ null      ┆ null      ┆ null      ┆ 1.157759e │\n",
       "│            ┆            ┆           ┆        ┆   ┆           ┆           ┆           ┆ 6         │\n",
       "│ 50%        ┆ null       ┆ null      ┆ null   ┆ … ┆ null      ┆ null      ┆ null      ┆ 1.298144e │\n",
       "│            ┆            ┆           ┆        ┆   ┆           ┆           ┆           ┆ 6         │\n",
       "│ 75%        ┆ null       ┆ null      ┆ null   ┆ … ┆ null      ┆ null      ┆ null      ┆ 1.391338e │\n",
       "│            ┆            ┆           ┆        ┆   ┆           ┆           ┆           ┆ 6         │\n",
       "│ max        ┆ Zimbabwe   ┆ Zimbabwe  ┆ male   ┆ … ┆ Zimbabwe  ┆ field     ┆ Zimbabwe  ┆ 1.451294e │\n",
       "│            ┆            ┆           ┆        ┆   ┆           ┆           ┆           ┆ 6         │\n",
       "└────────────┴────────────┴───────────┴────────┴───┴───────────┴───────────┴───────────┴───────────┘"
      ]
     },
     "execution_count": 25,
     "metadata": {},
     "output_type": "execute_result"
    }
   ],
   "source": [
    "import os\n",
    "directory = r'D:\\github\\localt20\\dataInHandNow'\n",
    "\n",
    "import polars as pl\n",
    "matches = pl.read_csv(os.path.join(directory, 'matches.csv'))\n",
    "deliveries = pl.read_parquet(os.path.join(directory, 'deliveries.parquet'))\n",
    "matches.describe()"
   ]
  },
  {
   "cell_type": "code",
   "execution_count": 3,
   "metadata": {},
   "outputs": [
    {
     "data": {
      "text/html": [
       "<div><style>\n",
       ".dataframe > thead > tr,\n",
       ".dataframe > tbody > tr {\n",
       "  text-align: right;\n",
       "  white-space: pre-wrap;\n",
       "}\n",
       "</style>\n",
       "<small>shape: (3_683, 6)</small><table border=\"1\" class=\"dataframe\"><thead><tr><th>gender</th><th>season</th><th>date</th><th>venue</th><th>winner</th><th>match_id</th></tr><tr><td>str</td><td>str</td><td>str</td><td>str</td><td>str</td><td>i64</td></tr></thead><tbody><tr><td>&quot;male&quot;</td><td>&quot;2016/17&quot;</td><td>&quot;2017/02/17&quot;</td><td>&quot;Melbourne Cricket Ground&quot;</td><td>&quot;Sri Lanka&quot;</td><td>1001349</td></tr><tr><td>&quot;male&quot;</td><td>&quot;2016/17&quot;</td><td>&quot;2017/02/19&quot;</td><td>&quot;Simonds Stadium, South Geelong&quot;</td><td>&quot;Sri Lanka&quot;</td><td>1001351</td></tr><tr><td>&quot;male&quot;</td><td>&quot;2016/17&quot;</td><td>&quot;2017/02/22&quot;</td><td>&quot;Adelaide Oval&quot;</td><td>&quot;Australia&quot;</td><td>1001353</td></tr><tr><td>&quot;male&quot;</td><td>&quot;2016&quot;</td><td>&quot;2016/09/05&quot;</td><td>&quot;Bready Cricket Club, Magherama…</td><td>&quot;Hong Kong&quot;</td><td>1004729</td></tr><tr><td>&quot;male&quot;</td><td>&quot;2016&quot;</td><td>&quot;2016/06/18&quot;</td><td>&quot;Harare Sports Club&quot;</td><td>&quot;Zimbabwe&quot;</td><td>1007655</td></tr><tr><td>&hellip;</td><td>&hellip;</td><td>&hellip;</td><td>&hellip;</td><td>&hellip;</td><td>&hellip;</td></tr><tr><td>&quot;male&quot;</td><td>&quot;2015/16&quot;</td><td>&quot;2016/03/04&quot;</td><td>&quot;Shere Bangla National Stadium&quot;</td><td>&quot;Pakistan&quot;</td><td>966763</td></tr><tr><td>&quot;male&quot;</td><td>&quot;2015/16&quot;</td><td>&quot;2016/03/06&quot;</td><td>&quot;Shere Bangla National Stadium&quot;</td><td>&quot;India&quot;</td><td>966765</td></tr><tr><td>&quot;male&quot;</td><td>&quot;2015/16&quot;</td><td>&quot;2016/02/03&quot;</td><td>&quot;ICC Academy&quot;</td><td>&quot;Netherlands&quot;</td><td>967081</td></tr><tr><td>&quot;male&quot;</td><td>&quot;2016&quot;</td><td>&quot;2016/09/06&quot;</td><td>&quot;Pallekele International Cricke…</td><td>&quot;Australia&quot;</td><td>995467</td></tr><tr><td>&quot;male&quot;</td><td>&quot;2016&quot;</td><td>&quot;2016/09/09&quot;</td><td>&quot;R Premadasa Stadium&quot;</td><td>&quot;Australia&quot;</td><td>995469</td></tr></tbody></table></div>"
      ],
      "text/plain": [
       "shape: (3_683, 6)\n",
       "┌────────┬─────────┬────────────┬─────────────────────────────────┬─────────────┬──────────┐\n",
       "│ gender ┆ season  ┆ date       ┆ venue                           ┆ winner      ┆ match_id │\n",
       "│ ---    ┆ ---     ┆ ---        ┆ ---                             ┆ ---         ┆ ---      │\n",
       "│ str    ┆ str     ┆ str        ┆ str                             ┆ str         ┆ i64      │\n",
       "╞════════╪═════════╪════════════╪═════════════════════════════════╪═════════════╪══════════╡\n",
       "│ male   ┆ 2016/17 ┆ 2017/02/17 ┆ Melbourne Cricket Ground        ┆ Sri Lanka   ┆ 1001349  │\n",
       "│ male   ┆ 2016/17 ┆ 2017/02/19 ┆ Simonds Stadium, South Geelong  ┆ Sri Lanka   ┆ 1001351  │\n",
       "│ male   ┆ 2016/17 ┆ 2017/02/22 ┆ Adelaide Oval                   ┆ Australia   ┆ 1001353  │\n",
       "│ male   ┆ 2016    ┆ 2016/09/05 ┆ Bready Cricket Club, Magherama… ┆ Hong Kong   ┆ 1004729  │\n",
       "│ male   ┆ 2016    ┆ 2016/06/18 ┆ Harare Sports Club              ┆ Zimbabwe    ┆ 1007655  │\n",
       "│ …      ┆ …       ┆ …          ┆ …                               ┆ …           ┆ …        │\n",
       "│ male   ┆ 2015/16 ┆ 2016/03/04 ┆ Shere Bangla National Stadium   ┆ Pakistan    ┆ 966763   │\n",
       "│ male   ┆ 2015/16 ┆ 2016/03/06 ┆ Shere Bangla National Stadium   ┆ India       ┆ 966765   │\n",
       "│ male   ┆ 2015/16 ┆ 2016/02/03 ┆ ICC Academy                     ┆ Netherlands ┆ 967081   │\n",
       "│ male   ┆ 2016    ┆ 2016/09/06 ┆ Pallekele International Cricke… ┆ Australia   ┆ 995467   │\n",
       "│ male   ┆ 2016    ┆ 2016/09/09 ┆ R Premadasa Stadium             ┆ Australia   ┆ 995469   │\n",
       "└────────┴─────────┴────────────┴─────────────────────────────────┴─────────────┴──────────┘"
      ]
     },
     "execution_count": 3,
     "metadata": {},
     "output_type": "execute_result"
    }
   ],
   "source": [
    "matches = matches.drop(['team1','team2','data','city','toss_winner','toss_decision'])\n",
    "matches"
   ]
  },
  {
   "cell_type": "code",
   "execution_count": 4,
   "metadata": {},
   "outputs": [
    {
     "data": {
      "text/html": [
       "<div><style>\n",
       ".dataframe > thead > tr,\n",
       ".dataframe > tbody > tr {\n",
       "  text-align: right;\n",
       "  white-space: pre-wrap;\n",
       "}\n",
       "</style>\n",
       "<small>shape: (860_172, 22)</small><table border=\"1\" class=\"dataframe\"><thead><tr><th>match_id</th><th>season</th><th>start_date</th><th>venue</th><th>innings</th><th>ball</th><th>batting_team</th><th>bowling_team</th><th>striker</th><th>non_striker</th><th>bowler</th><th>runs_off_bat</th><th>extras</th><th>wides</th><th>noballs</th><th>byes</th><th>legbyes</th><th>penalty</th><th>wicket_type</th><th>player_dismissed</th><th>other_wicket_type</th><th>other_player_dismissed</th></tr><tr><td>i64</td><td>str</td><td>str</td><td>str</td><td>i64</td><td>f64</td><td>str</td><td>str</td><td>str</td><td>str</td><td>str</td><td>i64</td><td>i64</td><td>i64</td><td>i64</td><td>i64</td><td>i64</td><td>i64</td><td>i64</td><td>i64</td><td>i64</td><td>i64</td></tr></thead><tbody><tr><td>1001349</td><td>&quot;2016/17&quot;</td><td>&quot;2017-02-17&quot;</td><td>&quot;Melbourne Cricket Ground&quot;</td><td>1</td><td>0.1</td><td>&quot;Australia&quot;</td><td>&quot;Sri Lanka&quot;</td><td>&quot;AJ Finch&quot;</td><td>&quot;M Klinger&quot;</td><td>&quot;SL Malinga&quot;</td><td>0</td><td>0</td><td>0</td><td>0</td><td>0</td><td>0</td><td>0</td><td>0</td><td>0</td><td>0</td><td>0</td></tr><tr><td>1001349</td><td>&quot;2016/17&quot;</td><td>&quot;2017-02-17&quot;</td><td>&quot;Melbourne Cricket Ground&quot;</td><td>1</td><td>0.2</td><td>&quot;Australia&quot;</td><td>&quot;Sri Lanka&quot;</td><td>&quot;AJ Finch&quot;</td><td>&quot;M Klinger&quot;</td><td>&quot;SL Malinga&quot;</td><td>0</td><td>0</td><td>0</td><td>0</td><td>0</td><td>0</td><td>0</td><td>0</td><td>0</td><td>0</td><td>0</td></tr><tr><td>1001349</td><td>&quot;2016/17&quot;</td><td>&quot;2017-02-17&quot;</td><td>&quot;Melbourne Cricket Ground&quot;</td><td>1</td><td>0.3</td><td>&quot;Australia&quot;</td><td>&quot;Sri Lanka&quot;</td><td>&quot;AJ Finch&quot;</td><td>&quot;M Klinger&quot;</td><td>&quot;SL Malinga&quot;</td><td>1</td><td>0</td><td>0</td><td>0</td><td>0</td><td>0</td><td>0</td><td>0</td><td>0</td><td>0</td><td>0</td></tr><tr><td>1001349</td><td>&quot;2016/17&quot;</td><td>&quot;2017-02-17&quot;</td><td>&quot;Melbourne Cricket Ground&quot;</td><td>1</td><td>0.4</td><td>&quot;Australia&quot;</td><td>&quot;Sri Lanka&quot;</td><td>&quot;M Klinger&quot;</td><td>&quot;AJ Finch&quot;</td><td>&quot;SL Malinga&quot;</td><td>2</td><td>0</td><td>0</td><td>0</td><td>0</td><td>0</td><td>0</td><td>0</td><td>0</td><td>0</td><td>0</td></tr><tr><td>1001349</td><td>&quot;2016/17&quot;</td><td>&quot;2017-02-17&quot;</td><td>&quot;Melbourne Cricket Ground&quot;</td><td>1</td><td>0.5</td><td>&quot;Australia&quot;</td><td>&quot;Sri Lanka&quot;</td><td>&quot;M Klinger&quot;</td><td>&quot;AJ Finch&quot;</td><td>&quot;SL Malinga&quot;</td><td>0</td><td>0</td><td>0</td><td>0</td><td>0</td><td>0</td><td>0</td><td>0</td><td>0</td><td>0</td><td>0</td></tr><tr><td>&hellip;</td><td>&hellip;</td><td>&hellip;</td><td>&hellip;</td><td>&hellip;</td><td>&hellip;</td><td>&hellip;</td><td>&hellip;</td><td>&hellip;</td><td>&hellip;</td><td>&hellip;</td><td>&hellip;</td><td>&hellip;</td><td>&hellip;</td><td>&hellip;</td><td>&hellip;</td><td>&hellip;</td><td>&hellip;</td><td>&hellip;</td><td>&hellip;</td><td>&hellip;</td><td>&hellip;</td></tr><tr><td>995469</td><td>&quot;2016&quot;</td><td>&quot;2016-09-09&quot;</td><td>&quot;R Premadasa Stadium&quot;</td><td>2</td><td>17.1</td><td>&quot;Australia&quot;</td><td>&quot;Sri Lanka&quot;</td><td>&quot;TM Head&quot;</td><td>&quot;PM Nevill&quot;</td><td>&quot;SS Pathirana&quot;</td><td>1</td><td>0</td><td>0</td><td>0</td><td>0</td><td>0</td><td>0</td><td>0</td><td>0</td><td>0</td><td>0</td></tr><tr><td>995469</td><td>&quot;2016&quot;</td><td>&quot;2016-09-09&quot;</td><td>&quot;R Premadasa Stadium&quot;</td><td>2</td><td>17.2</td><td>&quot;Australia&quot;</td><td>&quot;Sri Lanka&quot;</td><td>&quot;PM Nevill&quot;</td><td>&quot;TM Head&quot;</td><td>&quot;SS Pathirana&quot;</td><td>3</td><td>0</td><td>0</td><td>0</td><td>0</td><td>0</td><td>0</td><td>0</td><td>0</td><td>0</td><td>0</td></tr><tr><td>995469</td><td>&quot;2016&quot;</td><td>&quot;2016-09-09&quot;</td><td>&quot;R Premadasa Stadium&quot;</td><td>2</td><td>17.3</td><td>&quot;Australia&quot;</td><td>&quot;Sri Lanka&quot;</td><td>&quot;TM Head&quot;</td><td>&quot;PM Nevill&quot;</td><td>&quot;SS Pathirana&quot;</td><td>0</td><td>0</td><td>0</td><td>0</td><td>0</td><td>0</td><td>0</td><td>0</td><td>0</td><td>0</td><td>0</td></tr><tr><td>995469</td><td>&quot;2016&quot;</td><td>&quot;2016-09-09&quot;</td><td>&quot;R Premadasa Stadium&quot;</td><td>2</td><td>17.4</td><td>&quot;Australia&quot;</td><td>&quot;Sri Lanka&quot;</td><td>&quot;TM Head&quot;</td><td>&quot;PM Nevill&quot;</td><td>&quot;SS Pathirana&quot;</td><td>0</td><td>0</td><td>0</td><td>0</td><td>0</td><td>0</td><td>0</td><td>0</td><td>0</td><td>0</td><td>0</td></tr><tr><td>995469</td><td>&quot;2016&quot;</td><td>&quot;2016-09-09&quot;</td><td>&quot;R Premadasa Stadium&quot;</td><td>2</td><td>17.5</td><td>&quot;Australia&quot;</td><td>&quot;Sri Lanka&quot;</td><td>&quot;TM Head&quot;</td><td>&quot;PM Nevill&quot;</td><td>&quot;SS Pathirana&quot;</td><td>6</td><td>0</td><td>0</td><td>0</td><td>0</td><td>0</td><td>0</td><td>0</td><td>0</td><td>0</td><td>0</td></tr></tbody></table></div>"
      ],
      "text/plain": [
       "shape: (860_172, 22)\n",
       "┌──────────┬─────────┬────────────┬────────────┬───┬───────────┬───────────┬───────────┬───────────┐\n",
       "│ match_id ┆ season  ┆ start_date ┆ venue      ┆ … ┆ wicket_ty ┆ player_di ┆ other_wic ┆ other_pla │\n",
       "│ ---      ┆ ---     ┆ ---        ┆ ---        ┆   ┆ pe        ┆ smissed   ┆ ket_type  ┆ yer_dismi │\n",
       "│ i64      ┆ str     ┆ str        ┆ str        ┆   ┆ ---       ┆ ---       ┆ ---       ┆ ssed      │\n",
       "│          ┆         ┆            ┆            ┆   ┆ i64       ┆ i64       ┆ i64       ┆ ---       │\n",
       "│          ┆         ┆            ┆            ┆   ┆           ┆           ┆           ┆ i64       │\n",
       "╞══════════╪═════════╪════════════╪════════════╪═══╪═══════════╪═══════════╪═══════════╪═══════════╡\n",
       "│ 1001349  ┆ 2016/17 ┆ 2017-02-17 ┆ Melbourne  ┆ … ┆ 0         ┆ 0         ┆ 0         ┆ 0         │\n",
       "│          ┆         ┆            ┆ Cricket    ┆   ┆           ┆           ┆           ┆           │\n",
       "│          ┆         ┆            ┆ Ground     ┆   ┆           ┆           ┆           ┆           │\n",
       "│ 1001349  ┆ 2016/17 ┆ 2017-02-17 ┆ Melbourne  ┆ … ┆ 0         ┆ 0         ┆ 0         ┆ 0         │\n",
       "│          ┆         ┆            ┆ Cricket    ┆   ┆           ┆           ┆           ┆           │\n",
       "│          ┆         ┆            ┆ Ground     ┆   ┆           ┆           ┆           ┆           │\n",
       "│ 1001349  ┆ 2016/17 ┆ 2017-02-17 ┆ Melbourne  ┆ … ┆ 0         ┆ 0         ┆ 0         ┆ 0         │\n",
       "│          ┆         ┆            ┆ Cricket    ┆   ┆           ┆           ┆           ┆           │\n",
       "│          ┆         ┆            ┆ Ground     ┆   ┆           ┆           ┆           ┆           │\n",
       "│ 1001349  ┆ 2016/17 ┆ 2017-02-17 ┆ Melbourne  ┆ … ┆ 0         ┆ 0         ┆ 0         ┆ 0         │\n",
       "│          ┆         ┆            ┆ Cricket    ┆   ┆           ┆           ┆           ┆           │\n",
       "│          ┆         ┆            ┆ Ground     ┆   ┆           ┆           ┆           ┆           │\n",
       "│ 1001349  ┆ 2016/17 ┆ 2017-02-17 ┆ Melbourne  ┆ … ┆ 0         ┆ 0         ┆ 0         ┆ 0         │\n",
       "│          ┆         ┆            ┆ Cricket    ┆   ┆           ┆           ┆           ┆           │\n",
       "│          ┆         ┆            ┆ Ground     ┆   ┆           ┆           ┆           ┆           │\n",
       "│ …        ┆ …       ┆ …          ┆ …          ┆ … ┆ …         ┆ …         ┆ …         ┆ …         │\n",
       "│ 995469   ┆ 2016    ┆ 2016-09-09 ┆ R          ┆ … ┆ 0         ┆ 0         ┆ 0         ┆ 0         │\n",
       "│          ┆         ┆            ┆ Premadasa  ┆   ┆           ┆           ┆           ┆           │\n",
       "│          ┆         ┆            ┆ Stadium    ┆   ┆           ┆           ┆           ┆           │\n",
       "│ 995469   ┆ 2016    ┆ 2016-09-09 ┆ R          ┆ … ┆ 0         ┆ 0         ┆ 0         ┆ 0         │\n",
       "│          ┆         ┆            ┆ Premadasa  ┆   ┆           ┆           ┆           ┆           │\n",
       "│          ┆         ┆            ┆ Stadium    ┆   ┆           ┆           ┆           ┆           │\n",
       "│ 995469   ┆ 2016    ┆ 2016-09-09 ┆ R          ┆ … ┆ 0         ┆ 0         ┆ 0         ┆ 0         │\n",
       "│          ┆         ┆            ┆ Premadasa  ┆   ┆           ┆           ┆           ┆           │\n",
       "│          ┆         ┆            ┆ Stadium    ┆   ┆           ┆           ┆           ┆           │\n",
       "│ 995469   ┆ 2016    ┆ 2016-09-09 ┆ R          ┆ … ┆ 0         ┆ 0         ┆ 0         ┆ 0         │\n",
       "│          ┆         ┆            ┆ Premadasa  ┆   ┆           ┆           ┆           ┆           │\n",
       "│          ┆         ┆            ┆ Stadium    ┆   ┆           ┆           ┆           ┆           │\n",
       "│ 995469   ┆ 2016    ┆ 2016-09-09 ┆ R          ┆ … ┆ 0         ┆ 0         ┆ 0         ┆ 0         │\n",
       "│          ┆         ┆            ┆ Premadasa  ┆   ┆           ┆           ┆           ┆           │\n",
       "│          ┆         ┆            ┆ Stadium    ┆   ┆           ┆           ┆           ┆           │\n",
       "└──────────┴─────────┴────────────┴────────────┴───┴───────────┴───────────┴───────────┴───────────┘"
      ]
     },
     "execution_count": 4,
     "metadata": {},
     "output_type": "execute_result"
    }
   ],
   "source": [
    "deliveries"
   ]
  },
  {
   "cell_type": "code",
   "execution_count": 5,
   "metadata": {},
   "outputs": [
    {
     "data": {
      "text/html": [
       "<div><style>\n",
       ".dataframe > thead > tr,\n",
       ".dataframe > tbody > tr {\n",
       "  text-align: right;\n",
       "  white-space: pre-wrap;\n",
       "}\n",
       "</style>\n",
       "<small>shape: (9, 23)</small><table border=\"1\" class=\"dataframe\"><thead><tr><th>statistic</th><th>match_id</th><th>season</th><th>start_date</th><th>venue</th><th>innings</th><th>ball</th><th>batting_team</th><th>bowling_team</th><th>striker</th><th>non_striker</th><th>bowler</th><th>runs_off_bat</th><th>extras</th><th>wides</th><th>noballs</th><th>byes</th><th>legbyes</th><th>penalty</th><th>wicket_type</th><th>player_dismissed</th><th>other_wicket_type</th><th>other_player_dismissed</th></tr><tr><td>str</td><td>f64</td><td>str</td><td>str</td><td>str</td><td>f64</td><td>f64</td><td>str</td><td>str</td><td>str</td><td>str</td><td>str</td><td>f64</td><td>f64</td><td>f64</td><td>f64</td><td>f64</td><td>f64</td><td>f64</td><td>f64</td><td>f64</td><td>f64</td><td>f64</td></tr></thead><tbody><tr><td>&quot;count&quot;</td><td>860172.0</td><td>&quot;860172&quot;</td><td>&quot;860172&quot;</td><td>&quot;860172&quot;</td><td>860172.0</td><td>860172.0</td><td>&quot;860172&quot;</td><td>&quot;860172&quot;</td><td>&quot;860172&quot;</td><td>&quot;860172&quot;</td><td>&quot;860172&quot;</td><td>860172.0</td><td>860172.0</td><td>860172.0</td><td>860172.0</td><td>860172.0</td><td>860172.0</td><td>860172.0</td><td>860172.0</td><td>860172.0</td><td>860172.0</td><td>860172.0</td></tr><tr><td>&quot;null_count&quot;</td><td>0.0</td><td>&quot;0&quot;</td><td>&quot;0&quot;</td><td>&quot;0&quot;</td><td>0.0</td><td>0.0</td><td>&quot;0&quot;</td><td>&quot;0&quot;</td><td>&quot;0&quot;</td><td>&quot;0&quot;</td><td>&quot;0&quot;</td><td>0.0</td><td>0.0</td><td>0.0</td><td>0.0</td><td>0.0</td><td>0.0</td><td>0.0</td><td>0.0</td><td>0.0</td><td>0.0</td><td>0.0</td></tr><tr><td>&quot;mean&quot;</td><td>1.1885e6</td><td>null</td><td>null</td><td>null</td><td>1.463081</td><td>9.237905</td><td>null</td><td>null</td><td>null</td><td>null</td><td>null</td><td>1.030145</td><td>0.07934</td><td>0.049898</td><td>0.005325</td><td>0.007539</td><td>0.016416</td><td>0.000017</td><td>0.055306</td><td>0.055306</td><td>0.000001</td><td>0.000001</td></tr><tr><td>&quot;std&quot;</td><td>292130.957265</td><td>null</td><td>null</td><td>null</td><td>0.500604</td><td>5.63078</td><td>null</td><td>null</td><td>null</td><td>null</td><td>null</td><td>1.458171</td><td>0.361301</td><td>0.28271</td><td>0.072775</td><td>0.138643</td><td>0.166993</td><td>0.004176</td><td>0.228577</td><td>0.228577</td><td>0.001078</td><td>0.001078</td></tr><tr><td>&quot;min&quot;</td><td>211028.0</td><td>&quot;2004/05&quot;</td><td>&quot;2005-02-17&quot;</td><td>&quot;7he Sevens Stadium, Dubai&quot;</td><td>1.0</td><td>0.1</td><td>&quot;Afghanistan&quot;</td><td>&quot;Afghanistan&quot;</td><td>&quot;A Adekunle&quot;</td><td>&quot;A Adekunle&quot;</td><td>&quot;A Adekunle&quot;</td><td>0.0</td><td>0.0</td><td>0.0</td><td>0.0</td><td>0.0</td><td>0.0</td><td>0.0</td><td>0.0</td><td>0.0</td><td>0.0</td><td>0.0</td></tr><tr><td>&quot;25%&quot;</td><td>1.153859e6</td><td>null</td><td>null</td><td>null</td><td>1.0</td><td>4.4</td><td>null</td><td>null</td><td>null</td><td>null</td><td>null</td><td>0.0</td><td>0.0</td><td>0.0</td><td>0.0</td><td>0.0</td><td>0.0</td><td>0.0</td><td>0.0</td><td>0.0</td><td>0.0</td><td>0.0</td></tr><tr><td>&quot;50%&quot;</td><td>1.29603e6</td><td>null</td><td>null</td><td>null</td><td>1.0</td><td>9.1</td><td>null</td><td>null</td><td>null</td><td>null</td><td>null</td><td>1.0</td><td>0.0</td><td>0.0</td><td>0.0</td><td>0.0</td><td>0.0</td><td>0.0</td><td>0.0</td><td>0.0</td><td>0.0</td><td>0.0</td></tr><tr><td>&quot;75%&quot;</td><td>1.389392e6</td><td>null</td><td>null</td><td>null</td><td>2.0</td><td>14.1</td><td>null</td><td>null</td><td>null</td><td>null</td><td>null</td><td>1.0</td><td>0.0</td><td>0.0</td><td>0.0</td><td>0.0</td><td>0.0</td><td>0.0</td><td>0.0</td><td>0.0</td><td>0.0</td><td>0.0</td></tr><tr><td>&quot;max&quot;</td><td>1.451294e6</td><td>&quot;2024/25&quot;</td><td>&quot;2024-09-27&quot;</td><td>&quot;Zhejiang University of Technol…</td><td>6.0</td><td>19.9</td><td>&quot;Zimbabwe&quot;</td><td>&quot;Zimbabwe&quot;</td><td>&quot;Zumika Azmi&quot;</td><td>&quot;Zumika Azmi&quot;</td><td>&quot;Zumika Azmi&quot;</td><td>7.0</td><td>6.0</td><td>5.0</td><td>1.0</td><td>5.0</td><td>5.0</td><td>1.0</td><td>1.0</td><td>1.0</td><td>1.0</td><td>1.0</td></tr></tbody></table></div>"
      ],
      "text/plain": [
       "shape: (9, 23)\n",
       "┌────────────┬───────────┬─────────┬───────────┬───┬───────────┬───────────┬───────────┬───────────┐\n",
       "│ statistic  ┆ match_id  ┆ season  ┆ start_dat ┆ … ┆ wicket_ty ┆ player_di ┆ other_wic ┆ other_pla │\n",
       "│ ---        ┆ ---       ┆ ---     ┆ e         ┆   ┆ pe        ┆ smissed   ┆ ket_type  ┆ yer_dismi │\n",
       "│ str        ┆ f64       ┆ str     ┆ ---       ┆   ┆ ---       ┆ ---       ┆ ---       ┆ ssed      │\n",
       "│            ┆           ┆         ┆ str       ┆   ┆ f64       ┆ f64       ┆ f64       ┆ ---       │\n",
       "│            ┆           ┆         ┆           ┆   ┆           ┆           ┆           ┆ f64       │\n",
       "╞════════════╪═══════════╪═════════╪═══════════╪═══╪═══════════╪═══════════╪═══════════╪═══════════╡\n",
       "│ count      ┆ 860172.0  ┆ 860172  ┆ 860172    ┆ … ┆ 860172.0  ┆ 860172.0  ┆ 860172.0  ┆ 860172.0  │\n",
       "│ null_count ┆ 0.0       ┆ 0       ┆ 0         ┆ … ┆ 0.0       ┆ 0.0       ┆ 0.0       ┆ 0.0       │\n",
       "│ mean       ┆ 1.1885e6  ┆ null    ┆ null      ┆ … ┆ 0.055306  ┆ 0.055306  ┆ 0.000001  ┆ 0.000001  │\n",
       "│ std        ┆ 292130.95 ┆ null    ┆ null      ┆ … ┆ 0.228577  ┆ 0.228577  ┆ 0.001078  ┆ 0.001078  │\n",
       "│            ┆ 7265      ┆         ┆           ┆   ┆           ┆           ┆           ┆           │\n",
       "│ min        ┆ 211028.0  ┆ 2004/05 ┆ 2005-02-1 ┆ … ┆ 0.0       ┆ 0.0       ┆ 0.0       ┆ 0.0       │\n",
       "│            ┆           ┆         ┆ 7         ┆   ┆           ┆           ┆           ┆           │\n",
       "│ 25%        ┆ 1.153859e ┆ null    ┆ null      ┆ … ┆ 0.0       ┆ 0.0       ┆ 0.0       ┆ 0.0       │\n",
       "│            ┆ 6         ┆         ┆           ┆   ┆           ┆           ┆           ┆           │\n",
       "│ 50%        ┆ 1.29603e6 ┆ null    ┆ null      ┆ … ┆ 0.0       ┆ 0.0       ┆ 0.0       ┆ 0.0       │\n",
       "│ 75%        ┆ 1.389392e ┆ null    ┆ null      ┆ … ┆ 0.0       ┆ 0.0       ┆ 0.0       ┆ 0.0       │\n",
       "│            ┆ 6         ┆         ┆           ┆   ┆           ┆           ┆           ┆           │\n",
       "│ max        ┆ 1.451294e ┆ 2024/25 ┆ 2024-09-2 ┆ … ┆ 1.0       ┆ 1.0       ┆ 1.0       ┆ 1.0       │\n",
       "│            ┆ 6         ┆         ┆ 7         ┆   ┆           ┆           ┆           ┆           │\n",
       "└────────────┴───────────┴─────────┴───────────┴───┴───────────┴───────────┴───────────┴───────────┘"
      ]
     },
     "execution_count": 5,
     "metadata": {},
     "output_type": "execute_result"
    }
   ],
   "source": [
    "deliveries.describe()"
   ]
  },
  {
   "cell_type": "code",
   "execution_count": 6,
   "metadata": {},
   "outputs": [
    {
     "data": {
      "text/html": [
       "<div><style>\n",
       ".dataframe > thead > tr,\n",
       ".dataframe > tbody > tr {\n",
       "  text-align: right;\n",
       "  white-space: pre-wrap;\n",
       "}\n",
       "</style>\n",
       "<small>shape: (860_172, 16)</small><table border=\"1\" class=\"dataframe\"><thead><tr><th>match_id</th><th>innings</th><th>ball</th><th>batting_team</th><th>bowling_team</th><th>runs_off_bat</th><th>extras</th><th>wides</th><th>noballs</th><th>byes</th><th>legbyes</th><th>penalty</th><th>wicket_type</th><th>player_dismissed</th><th>other_wicket_type</th><th>other_player_dismissed</th></tr><tr><td>i64</td><td>i64</td><td>f64</td><td>str</td><td>str</td><td>i64</td><td>i64</td><td>i64</td><td>i64</td><td>i64</td><td>i64</td><td>i64</td><td>i64</td><td>i64</td><td>i64</td><td>i64</td></tr></thead><tbody><tr><td>1001349</td><td>1</td><td>0.1</td><td>&quot;Australia&quot;</td><td>&quot;Sri Lanka&quot;</td><td>0</td><td>0</td><td>0</td><td>0</td><td>0</td><td>0</td><td>0</td><td>0</td><td>0</td><td>0</td><td>0</td></tr><tr><td>1001349</td><td>1</td><td>0.2</td><td>&quot;Australia&quot;</td><td>&quot;Sri Lanka&quot;</td><td>0</td><td>0</td><td>0</td><td>0</td><td>0</td><td>0</td><td>0</td><td>0</td><td>0</td><td>0</td><td>0</td></tr><tr><td>1001349</td><td>1</td><td>0.3</td><td>&quot;Australia&quot;</td><td>&quot;Sri Lanka&quot;</td><td>1</td><td>0</td><td>0</td><td>0</td><td>0</td><td>0</td><td>0</td><td>0</td><td>0</td><td>0</td><td>0</td></tr><tr><td>1001349</td><td>1</td><td>0.4</td><td>&quot;Australia&quot;</td><td>&quot;Sri Lanka&quot;</td><td>2</td><td>0</td><td>0</td><td>0</td><td>0</td><td>0</td><td>0</td><td>0</td><td>0</td><td>0</td><td>0</td></tr><tr><td>1001349</td><td>1</td><td>0.5</td><td>&quot;Australia&quot;</td><td>&quot;Sri Lanka&quot;</td><td>0</td><td>0</td><td>0</td><td>0</td><td>0</td><td>0</td><td>0</td><td>0</td><td>0</td><td>0</td><td>0</td></tr><tr><td>&hellip;</td><td>&hellip;</td><td>&hellip;</td><td>&hellip;</td><td>&hellip;</td><td>&hellip;</td><td>&hellip;</td><td>&hellip;</td><td>&hellip;</td><td>&hellip;</td><td>&hellip;</td><td>&hellip;</td><td>&hellip;</td><td>&hellip;</td><td>&hellip;</td><td>&hellip;</td></tr><tr><td>995469</td><td>2</td><td>17.1</td><td>&quot;Australia&quot;</td><td>&quot;Sri Lanka&quot;</td><td>1</td><td>0</td><td>0</td><td>0</td><td>0</td><td>0</td><td>0</td><td>0</td><td>0</td><td>0</td><td>0</td></tr><tr><td>995469</td><td>2</td><td>17.2</td><td>&quot;Australia&quot;</td><td>&quot;Sri Lanka&quot;</td><td>3</td><td>0</td><td>0</td><td>0</td><td>0</td><td>0</td><td>0</td><td>0</td><td>0</td><td>0</td><td>0</td></tr><tr><td>995469</td><td>2</td><td>17.3</td><td>&quot;Australia&quot;</td><td>&quot;Sri Lanka&quot;</td><td>0</td><td>0</td><td>0</td><td>0</td><td>0</td><td>0</td><td>0</td><td>0</td><td>0</td><td>0</td><td>0</td></tr><tr><td>995469</td><td>2</td><td>17.4</td><td>&quot;Australia&quot;</td><td>&quot;Sri Lanka&quot;</td><td>0</td><td>0</td><td>0</td><td>0</td><td>0</td><td>0</td><td>0</td><td>0</td><td>0</td><td>0</td><td>0</td></tr><tr><td>995469</td><td>2</td><td>17.5</td><td>&quot;Australia&quot;</td><td>&quot;Sri Lanka&quot;</td><td>6</td><td>0</td><td>0</td><td>0</td><td>0</td><td>0</td><td>0</td><td>0</td><td>0</td><td>0</td><td>0</td></tr></tbody></table></div>"
      ],
      "text/plain": [
       "shape: (860_172, 16)\n",
       "┌──────────┬─────────┬──────┬─────────────┬───┬─────────────┬────────────┬────────────┬────────────┐\n",
       "│ match_id ┆ innings ┆ ball ┆ batting_tea ┆ … ┆ wicket_type ┆ player_dis ┆ other_wick ┆ other_play │\n",
       "│ ---      ┆ ---     ┆ ---  ┆ m           ┆   ┆ ---         ┆ missed     ┆ et_type    ┆ er_dismiss │\n",
       "│ i64      ┆ i64     ┆ f64  ┆ ---         ┆   ┆ i64         ┆ ---        ┆ ---        ┆ ed         │\n",
       "│          ┆         ┆      ┆ str         ┆   ┆             ┆ i64        ┆ i64        ┆ ---        │\n",
       "│          ┆         ┆      ┆             ┆   ┆             ┆            ┆            ┆ i64        │\n",
       "╞══════════╪═════════╪══════╪═════════════╪═══╪═════════════╪════════════╪════════════╪════════════╡\n",
       "│ 1001349  ┆ 1       ┆ 0.1  ┆ Australia   ┆ … ┆ 0           ┆ 0          ┆ 0          ┆ 0          │\n",
       "│ 1001349  ┆ 1       ┆ 0.2  ┆ Australia   ┆ … ┆ 0           ┆ 0          ┆ 0          ┆ 0          │\n",
       "│ 1001349  ┆ 1       ┆ 0.3  ┆ Australia   ┆ … ┆ 0           ┆ 0          ┆ 0          ┆ 0          │\n",
       "│ 1001349  ┆ 1       ┆ 0.4  ┆ Australia   ┆ … ┆ 0           ┆ 0          ┆ 0          ┆ 0          │\n",
       "│ 1001349  ┆ 1       ┆ 0.5  ┆ Australia   ┆ … ┆ 0           ┆ 0          ┆ 0          ┆ 0          │\n",
       "│ …        ┆ …       ┆ …    ┆ …           ┆ … ┆ …           ┆ …          ┆ …          ┆ …          │\n",
       "│ 995469   ┆ 2       ┆ 17.1 ┆ Australia   ┆ … ┆ 0           ┆ 0          ┆ 0          ┆ 0          │\n",
       "│ 995469   ┆ 2       ┆ 17.2 ┆ Australia   ┆ … ┆ 0           ┆ 0          ┆ 0          ┆ 0          │\n",
       "│ 995469   ┆ 2       ┆ 17.3 ┆ Australia   ┆ … ┆ 0           ┆ 0          ┆ 0          ┆ 0          │\n",
       "│ 995469   ┆ 2       ┆ 17.4 ┆ Australia   ┆ … ┆ 0           ┆ 0          ┆ 0          ┆ 0          │\n",
       "│ 995469   ┆ 2       ┆ 17.5 ┆ Australia   ┆ … ┆ 0           ┆ 0          ┆ 0          ┆ 0          │\n",
       "└──────────┴─────────┴──────┴─────────────┴───┴─────────────┴────────────┴────────────┴────────────┘"
      ]
     },
     "execution_count": 6,
     "metadata": {},
     "output_type": "execute_result"
    }
   ],
   "source": [
    "deliveries = deliveries.drop(['season','start_date','venue','striker','non_striker','bowler'])\n",
    "deliveries"
   ]
  },
  {
   "cell_type": "code",
   "execution_count": 7,
   "metadata": {},
   "outputs": [
    {
     "data": {
      "text/html": [
       "<div><style>\n",
       ".dataframe > thead > tr,\n",
       ".dataframe > tbody > tr {\n",
       "  text-align: right;\n",
       "  white-space: pre-wrap;\n",
       "}\n",
       "</style>\n",
       "<small>shape: (860_172, 7)</small><table border=\"1\" class=\"dataframe\"><thead><tr><th>match_id</th><th>innings</th><th>ball</th><th>batting_team</th><th>bowling_team</th><th>runs</th><th>wickets</th></tr><tr><td>i64</td><td>i64</td><td>f64</td><td>str</td><td>str</td><td>i64</td><td>i64</td></tr></thead><tbody><tr><td>1001349</td><td>1</td><td>0.1</td><td>&quot;Australia&quot;</td><td>&quot;Sri Lanka&quot;</td><td>0</td><td>0</td></tr><tr><td>1001349</td><td>1</td><td>0.2</td><td>&quot;Australia&quot;</td><td>&quot;Sri Lanka&quot;</td><td>0</td><td>0</td></tr><tr><td>1001349</td><td>1</td><td>0.3</td><td>&quot;Australia&quot;</td><td>&quot;Sri Lanka&quot;</td><td>1</td><td>0</td></tr><tr><td>1001349</td><td>1</td><td>0.4</td><td>&quot;Australia&quot;</td><td>&quot;Sri Lanka&quot;</td><td>2</td><td>0</td></tr><tr><td>1001349</td><td>1</td><td>0.5</td><td>&quot;Australia&quot;</td><td>&quot;Sri Lanka&quot;</td><td>0</td><td>0</td></tr><tr><td>&hellip;</td><td>&hellip;</td><td>&hellip;</td><td>&hellip;</td><td>&hellip;</td><td>&hellip;</td><td>&hellip;</td></tr><tr><td>995469</td><td>2</td><td>17.1</td><td>&quot;Australia&quot;</td><td>&quot;Sri Lanka&quot;</td><td>1</td><td>0</td></tr><tr><td>995469</td><td>2</td><td>17.2</td><td>&quot;Australia&quot;</td><td>&quot;Sri Lanka&quot;</td><td>3</td><td>0</td></tr><tr><td>995469</td><td>2</td><td>17.3</td><td>&quot;Australia&quot;</td><td>&quot;Sri Lanka&quot;</td><td>0</td><td>0</td></tr><tr><td>995469</td><td>2</td><td>17.4</td><td>&quot;Australia&quot;</td><td>&quot;Sri Lanka&quot;</td><td>0</td><td>0</td></tr><tr><td>995469</td><td>2</td><td>17.5</td><td>&quot;Australia&quot;</td><td>&quot;Sri Lanka&quot;</td><td>6</td><td>0</td></tr></tbody></table></div>"
      ],
      "text/plain": [
       "shape: (860_172, 7)\n",
       "┌──────────┬─────────┬──────┬──────────────┬──────────────┬──────┬─────────┐\n",
       "│ match_id ┆ innings ┆ ball ┆ batting_team ┆ bowling_team ┆ runs ┆ wickets │\n",
       "│ ---      ┆ ---     ┆ ---  ┆ ---          ┆ ---          ┆ ---  ┆ ---     │\n",
       "│ i64      ┆ i64     ┆ f64  ┆ str          ┆ str          ┆ i64  ┆ i64     │\n",
       "╞══════════╪═════════╪══════╪══════════════╪══════════════╪══════╪═════════╡\n",
       "│ 1001349  ┆ 1       ┆ 0.1  ┆ Australia    ┆ Sri Lanka    ┆ 0    ┆ 0       │\n",
       "│ 1001349  ┆ 1       ┆ 0.2  ┆ Australia    ┆ Sri Lanka    ┆ 0    ┆ 0       │\n",
       "│ 1001349  ┆ 1       ┆ 0.3  ┆ Australia    ┆ Sri Lanka    ┆ 1    ┆ 0       │\n",
       "│ 1001349  ┆ 1       ┆ 0.4  ┆ Australia    ┆ Sri Lanka    ┆ 2    ┆ 0       │\n",
       "│ 1001349  ┆ 1       ┆ 0.5  ┆ Australia    ┆ Sri Lanka    ┆ 0    ┆ 0       │\n",
       "│ …        ┆ …       ┆ …    ┆ …            ┆ …            ┆ …    ┆ …       │\n",
       "│ 995469   ┆ 2       ┆ 17.1 ┆ Australia    ┆ Sri Lanka    ┆ 1    ┆ 0       │\n",
       "│ 995469   ┆ 2       ┆ 17.2 ┆ Australia    ┆ Sri Lanka    ┆ 3    ┆ 0       │\n",
       "│ 995469   ┆ 2       ┆ 17.3 ┆ Australia    ┆ Sri Lanka    ┆ 0    ┆ 0       │\n",
       "│ 995469   ┆ 2       ┆ 17.4 ┆ Australia    ┆ Sri Lanka    ┆ 0    ┆ 0       │\n",
       "│ 995469   ┆ 2       ┆ 17.5 ┆ Australia    ┆ Sri Lanka    ┆ 6    ┆ 0       │\n",
       "└──────────┴─────────┴──────┴──────────────┴──────────────┴──────┴─────────┘"
      ]
     },
     "execution_count": 7,
     "metadata": {},
     "output_type": "execute_result"
    }
   ],
   "source": [
    "deliveries=deliveries.with_columns(deliveries[['runs_off_bat','extras','wides','noballs','byes','legbyes','penalty']].sum_horizontal().alias(\"runs\")).drop(['runs_off_bat','extras','wides','noballs','byes','legbyes','penalty'])\n",
    "deliveries=deliveries.with_columns(deliveries[['player_dismissed','other_player_dismissed']].sum_horizontal().alias(\"wickets\")).drop(['wicket_type','player_dismissed','other_wicket_type','other_player_dismissed'])\n",
    "deliveries"
   ]
  },
  {
   "cell_type": "code",
   "execution_count": 8,
   "metadata": {},
   "outputs": [
    {
     "data": {
      "text/html": [
       "<div><style>\n",
       ".dataframe > thead > tr,\n",
       ".dataframe > tbody > tr {\n",
       "  text-align: right;\n",
       "  white-space: pre-wrap;\n",
       "}\n",
       "</style>\n",
       "<small>shape: (860_172, 7)</small><table border=\"1\" class=\"dataframe\"><thead><tr><th>match_id</th><th>innings</th><th>ball</th><th>batting_team</th><th>bowling_team</th><th>curr_score</th><th>curr_wickets</th></tr><tr><td>i64</td><td>i64</td><td>f64</td><td>str</td><td>str</td><td>i64</td><td>i64</td></tr></thead><tbody><tr><td>1001349</td><td>1</td><td>0.1</td><td>&quot;Australia&quot;</td><td>&quot;Sri Lanka&quot;</td><td>0</td><td>0</td></tr><tr><td>1001349</td><td>1</td><td>0.2</td><td>&quot;Australia&quot;</td><td>&quot;Sri Lanka&quot;</td><td>0</td><td>0</td></tr><tr><td>1001349</td><td>1</td><td>0.3</td><td>&quot;Australia&quot;</td><td>&quot;Sri Lanka&quot;</td><td>1</td><td>0</td></tr><tr><td>1001349</td><td>1</td><td>0.4</td><td>&quot;Australia&quot;</td><td>&quot;Sri Lanka&quot;</td><td>3</td><td>0</td></tr><tr><td>1001349</td><td>1</td><td>0.5</td><td>&quot;Australia&quot;</td><td>&quot;Sri Lanka&quot;</td><td>3</td><td>0</td></tr><tr><td>&hellip;</td><td>&hellip;</td><td>&hellip;</td><td>&hellip;</td><td>&hellip;</td><td>&hellip;</td><td>&hellip;</td></tr><tr><td>995469</td><td>2</td><td>17.1</td><td>&quot;Australia&quot;</td><td>&quot;Sri Lanka&quot;</td><td>126</td><td>6</td></tr><tr><td>995469</td><td>2</td><td>17.2</td><td>&quot;Australia&quot;</td><td>&quot;Sri Lanka&quot;</td><td>129</td><td>6</td></tr><tr><td>995469</td><td>2</td><td>17.3</td><td>&quot;Australia&quot;</td><td>&quot;Sri Lanka&quot;</td><td>129</td><td>6</td></tr><tr><td>995469</td><td>2</td><td>17.4</td><td>&quot;Australia&quot;</td><td>&quot;Sri Lanka&quot;</td><td>129</td><td>6</td></tr><tr><td>995469</td><td>2</td><td>17.5</td><td>&quot;Australia&quot;</td><td>&quot;Sri Lanka&quot;</td><td>135</td><td>6</td></tr></tbody></table></div>"
      ],
      "text/plain": [
       "shape: (860_172, 7)\n",
       "┌──────────┬─────────┬──────┬──────────────┬──────────────┬────────────┬──────────────┐\n",
       "│ match_id ┆ innings ┆ ball ┆ batting_team ┆ bowling_team ┆ curr_score ┆ curr_wickets │\n",
       "│ ---      ┆ ---     ┆ ---  ┆ ---          ┆ ---          ┆ ---        ┆ ---          │\n",
       "│ i64      ┆ i64     ┆ f64  ┆ str          ┆ str          ┆ i64        ┆ i64          │\n",
       "╞══════════╪═════════╪══════╪══════════════╪══════════════╪════════════╪══════════════╡\n",
       "│ 1001349  ┆ 1       ┆ 0.1  ┆ Australia    ┆ Sri Lanka    ┆ 0          ┆ 0            │\n",
       "│ 1001349  ┆ 1       ┆ 0.2  ┆ Australia    ┆ Sri Lanka    ┆ 0          ┆ 0            │\n",
       "│ 1001349  ┆ 1       ┆ 0.3  ┆ Australia    ┆ Sri Lanka    ┆ 1          ┆ 0            │\n",
       "│ 1001349  ┆ 1       ┆ 0.4  ┆ Australia    ┆ Sri Lanka    ┆ 3          ┆ 0            │\n",
       "│ 1001349  ┆ 1       ┆ 0.5  ┆ Australia    ┆ Sri Lanka    ┆ 3          ┆ 0            │\n",
       "│ …        ┆ …       ┆ …    ┆ …            ┆ …            ┆ …          ┆ …            │\n",
       "│ 995469   ┆ 2       ┆ 17.1 ┆ Australia    ┆ Sri Lanka    ┆ 126        ┆ 6            │\n",
       "│ 995469   ┆ 2       ┆ 17.2 ┆ Australia    ┆ Sri Lanka    ┆ 129        ┆ 6            │\n",
       "│ 995469   ┆ 2       ┆ 17.3 ┆ Australia    ┆ Sri Lanka    ┆ 129        ┆ 6            │\n",
       "│ 995469   ┆ 2       ┆ 17.4 ┆ Australia    ┆ Sri Lanka    ┆ 129        ┆ 6            │\n",
       "│ 995469   ┆ 2       ┆ 17.5 ┆ Australia    ┆ Sri Lanka    ┆ 135        ┆ 6            │\n",
       "└──────────┴─────────┴──────┴──────────────┴──────────────┴────────────┴──────────────┘"
      ]
     },
     "execution_count": 8,
     "metadata": {},
     "output_type": "execute_result"
    }
   ],
   "source": [
    "deliveries=deliveries.with_columns(pl.col('runs').cum_sum().over([\"match_id\",'innings']).alias(\"curr_score\")).drop('runs')\n",
    "deliveries=deliveries.with_columns(pl.col('wickets').cum_sum().over([\"match_id\",'innings']).alias(\"curr_wickets\")).drop(\"wickets\")\n",
    "\n",
    "deliveries"
   ]
  },
  {
   "cell_type": "code",
   "execution_count": 12,
   "metadata": {},
   "outputs": [
    {
     "data": {
      "text/html": [
       "<div><style>\n",
       ".dataframe > thead > tr,\n",
       ".dataframe > tbody > tr {\n",
       "  text-align: right;\n",
       "  white-space: pre-wrap;\n",
       "}\n",
       "</style>\n",
       "<small>shape: (843_189, 11)</small><table border=\"1\" class=\"dataframe\"><thead><tr><th>match_id</th><th>innings</th><th>ball</th><th>batting_team</th><th>bowling_team</th><th>curr_score</th><th>curr_wickets</th><th>gender</th><th>season</th><th>venue</th><th>winner</th></tr><tr><td>i64</td><td>i64</td><td>f64</td><td>str</td><td>str</td><td>i64</td><td>i64</td><td>str</td><td>str</td><td>str</td><td>str</td></tr></thead><tbody><tr><td>211028</td><td>1</td><td>0.1</td><td>&quot;England&quot;</td><td>&quot;Australia&quot;</td><td>0</td><td>0</td><td>&quot;male&quot;</td><td>&quot;2005&quot;</td><td>&quot;The Rose Bowl&quot;</td><td>&quot;England&quot;</td></tr><tr><td>211028</td><td>1</td><td>0.2</td><td>&quot;England&quot;</td><td>&quot;Australia&quot;</td><td>1</td><td>0</td><td>&quot;male&quot;</td><td>&quot;2005&quot;</td><td>&quot;The Rose Bowl&quot;</td><td>&quot;England&quot;</td></tr><tr><td>211028</td><td>1</td><td>0.3</td><td>&quot;England&quot;</td><td>&quot;Australia&quot;</td><td>1</td><td>0</td><td>&quot;male&quot;</td><td>&quot;2005&quot;</td><td>&quot;The Rose Bowl&quot;</td><td>&quot;England&quot;</td></tr><tr><td>211028</td><td>1</td><td>0.4</td><td>&quot;England&quot;</td><td>&quot;Australia&quot;</td><td>1</td><td>0</td><td>&quot;male&quot;</td><td>&quot;2005&quot;</td><td>&quot;The Rose Bowl&quot;</td><td>&quot;England&quot;</td></tr><tr><td>211028</td><td>1</td><td>0.5</td><td>&quot;England&quot;</td><td>&quot;Australia&quot;</td><td>1</td><td>0</td><td>&quot;male&quot;</td><td>&quot;2005&quot;</td><td>&quot;The Rose Bowl&quot;</td><td>&quot;England&quot;</td></tr><tr><td>&hellip;</td><td>&hellip;</td><td>&hellip;</td><td>&hellip;</td><td>&hellip;</td><td>&hellip;</td><td>&hellip;</td><td>&hellip;</td><td>&hellip;</td><td>&hellip;</td><td>&hellip;</td></tr><tr><td>1451294</td><td>2</td><td>13.2</td><td>&quot;Spain&quot;</td><td>&quot;Greece&quot;</td><td>88</td><td>2</td><td>&quot;female&quot;</td><td>&quot;2024&quot;</td><td>&quot;Marina Ground, Corfu&quot;</td><td>&quot;Spain&quot;</td></tr><tr><td>1451294</td><td>2</td><td>13.3</td><td>&quot;Spain&quot;</td><td>&quot;Greece&quot;</td><td>91</td><td>2</td><td>&quot;female&quot;</td><td>&quot;2024&quot;</td><td>&quot;Marina Ground, Corfu&quot;</td><td>&quot;Spain&quot;</td></tr><tr><td>1451294</td><td>2</td><td>13.4</td><td>&quot;Spain&quot;</td><td>&quot;Greece&quot;</td><td>91</td><td>2</td><td>&quot;female&quot;</td><td>&quot;2024&quot;</td><td>&quot;Marina Ground, Corfu&quot;</td><td>&quot;Spain&quot;</td></tr><tr><td>1451294</td><td>2</td><td>13.5</td><td>&quot;Spain&quot;</td><td>&quot;Greece&quot;</td><td>91</td><td>2</td><td>&quot;female&quot;</td><td>&quot;2024&quot;</td><td>&quot;Marina Ground, Corfu&quot;</td><td>&quot;Spain&quot;</td></tr><tr><td>1451294</td><td>2</td><td>13.6</td><td>&quot;Spain&quot;</td><td>&quot;Greece&quot;</td><td>95</td><td>2</td><td>&quot;female&quot;</td><td>&quot;2024&quot;</td><td>&quot;Marina Ground, Corfu&quot;</td><td>&quot;Spain&quot;</td></tr></tbody></table></div>"
      ],
      "text/plain": [
       "shape: (843_189, 11)\n",
       "┌──────────┬─────────┬──────┬──────────────┬───┬────────┬────────┬──────────────────────┬─────────┐\n",
       "│ match_id ┆ innings ┆ ball ┆ batting_team ┆ … ┆ gender ┆ season ┆ venue                ┆ winner  │\n",
       "│ ---      ┆ ---     ┆ ---  ┆ ---          ┆   ┆ ---    ┆ ---    ┆ ---                  ┆ ---     │\n",
       "│ i64      ┆ i64     ┆ f64  ┆ str          ┆   ┆ str    ┆ str    ┆ str                  ┆ str     │\n",
       "╞══════════╪═════════╪══════╪══════════════╪═══╪════════╪════════╪══════════════════════╪═════════╡\n",
       "│ 211028   ┆ 1       ┆ 0.1  ┆ England      ┆ … ┆ male   ┆ 2005   ┆ The Rose Bowl        ┆ England │\n",
       "│ 211028   ┆ 1       ┆ 0.2  ┆ England      ┆ … ┆ male   ┆ 2005   ┆ The Rose Bowl        ┆ England │\n",
       "│ 211028   ┆ 1       ┆ 0.3  ┆ England      ┆ … ┆ male   ┆ 2005   ┆ The Rose Bowl        ┆ England │\n",
       "│ 211028   ┆ 1       ┆ 0.4  ┆ England      ┆ … ┆ male   ┆ 2005   ┆ The Rose Bowl        ┆ England │\n",
       "│ 211028   ┆ 1       ┆ 0.5  ┆ England      ┆ … ┆ male   ┆ 2005   ┆ The Rose Bowl        ┆ England │\n",
       "│ …        ┆ …       ┆ …    ┆ …            ┆ … ┆ …      ┆ …      ┆ …                    ┆ …       │\n",
       "│ 1451294  ┆ 2       ┆ 13.2 ┆ Spain        ┆ … ┆ female ┆ 2024   ┆ Marina Ground, Corfu ┆ Spain   │\n",
       "│ 1451294  ┆ 2       ┆ 13.3 ┆ Spain        ┆ … ┆ female ┆ 2024   ┆ Marina Ground, Corfu ┆ Spain   │\n",
       "│ 1451294  ┆ 2       ┆ 13.4 ┆ Spain        ┆ … ┆ female ┆ 2024   ┆ Marina Ground, Corfu ┆ Spain   │\n",
       "│ 1451294  ┆ 2       ┆ 13.5 ┆ Spain        ┆ … ┆ female ┆ 2024   ┆ Marina Ground, Corfu ┆ Spain   │\n",
       "│ 1451294  ┆ 2       ┆ 13.6 ┆ Spain        ┆ … ┆ female ┆ 2024   ┆ Marina Ground, Corfu ┆ Spain   │\n",
       "└──────────┴─────────┴──────┴──────────────┴───┴────────┴────────┴──────────────────────┴─────────┘"
      ]
     },
     "execution_count": 12,
     "metadata": {},
     "output_type": "execute_result"
    }
   ],
   "source": [
    "data=deliveries.join(matches,on='match_id').drop(\"date\")\n",
    "data.sort('match_id')"
   ]
  },
  {
   "cell_type": "code",
   "execution_count": 21,
   "metadata": {},
   "outputs": [
    {
     "data": {
      "text/html": [
       "<div><style>\n",
       ".dataframe > thead > tr,\n",
       ".dataframe > tbody > tr {\n",
       "  text-align: right;\n",
       "  white-space: pre-wrap;\n",
       "}\n",
       "</style>\n",
       "<small>shape: (715, 14)</small><table border=\"1\" class=\"dataframe\"><thead><tr><th>Team</th><th>Mat</th><th>Won</th><th>Lost</th><th>Tied</th><th>NR</th><th>W/L</th><th>Runs</th><th>Inns</th><th>HS</th><th>LS</th><th>Season</th><th>AveRPW</th><th>AveRPO</th></tr><tr><td>str</td><td>i64</td><td>i64</td><td>i64</td><td>i64</td><td>i64</td><td>f64</td><td>i64</td><td>i64</td><td>f64</td><td>f64</td><td>str</td><td>f64</td><td>f64</td></tr></thead><tbody><tr><td>&quot;Zimbabwe&quot;</td><td>2</td><td>0</td><td>2</td><td>0</td><td>0</td><td>0.0</td><td>258</td><td>2</td><td>132.0</td><td>126.0</td><td>&quot;2018/19&quot;</td><td>15.17</td><td>6.91</td></tr><tr><td>&quot;Zimbabwe&quot;</td><td>11</td><td>5</td><td>5</td><td>0</td><td>1</td><td>1.0</td><td>1423</td><td>11</td><td>174.0</td><td>115.0</td><td>&quot;2022/23&quot;</td><td>16.94</td><td>7.13</td></tr><tr><td>&quot;Zimbabwe&quot;</td><td>2</td><td>0</td><td>2</td><td>0</td><td>0</td><td>0.0</td><td>261</td><td>2</td><td>141.0</td><td>0.0</td><td>&quot;2017/18&quot;</td><td>18.64</td><td>6.52</td></tr><tr><td>&quot;Zimbabwe&quot;</td><td>15</td><td>5</td><td>10</td><td>0</td><td>0</td><td>0.5</td><td>2257</td><td>15</td><td>190.0</td><td>127.0</td><td>&quot;2015/16&quot;</td><td>20.15</td><td>7.59</td></tr><tr><td>&quot;Zimbabwe&quot;</td><td>16</td><td>9</td><td>7</td><td>0</td><td>0</td><td>1.285714</td><td>2448</td><td>16</td><td>236.0</td><td>95.0</td><td>&quot;2022&quot;</td><td>22.45</td><td>7.75</td></tr><tr><td>&hellip;</td><td>&hellip;</td><td>&hellip;</td><td>&hellip;</td><td>&hellip;</td><td>&hellip;</td><td>&hellip;</td><td>&hellip;</td><td>&hellip;</td><td>&hellip;</td><td>&hellip;</td><td>&hellip;</td><td>&hellip;</td><td>&hellip;</td></tr><tr><td>&quot;Afghanistan&quot;</td><td>10</td><td>10</td><td>0</td><td>0</td><td>0</td><td>10.0</td><td>1619</td><td>10</td><td>233.0</td><td>0.0</td><td>&quot;2016/17&quot;</td><td>33.72</td><td>8.92</td></tr><tr><td>&quot;Afghanistan&quot;</td><td>4</td><td>2</td><td>2</td><td>0</td><td>0</td><td>1.0</td><td>654</td><td>4</td><td>197.0</td><td>0.0</td><td>&quot;2019&quot;</td><td>25.15</td><td>8.17</td></tr><tr><td>&quot;Afghanistan&quot;</td><td>8</td><td>5</td><td>3</td><td>0</td><td>0</td><td>1.666667</td><td>1010</td><td>8</td><td>183.0</td><td>56.0</td><td>&quot;2024&quot;</td><td>18.36</td><td>7.04</td></tr><tr><td>&quot;Afghanistan&quot;</td><td>6</td><td>5</td><td>1</td><td>0</td><td>0</td><td>5.0</td><td>959</td><td>6</td><td>210.0</td><td>0.0</td><td>&quot;2015&quot;</td><td>31.96</td><td>8.37</td></tr><tr><td>&quot;Afghanistan&quot;</td><td>17</td><td>12</td><td>5</td><td>0</td><td>0</td><td>2.4</td><td>2784</td><td>17</td><td>215.0</td><td>160.0</td><td>&quot;2015/16&quot;</td><td>24.85</td><td>8.27</td></tr></tbody></table></div>"
      ],
      "text/plain": [
       "shape: (715, 14)\n",
       "┌─────────────┬─────┬─────┬──────┬───┬───────┬─────────┬────────┬────────┐\n",
       "│ Team        ┆ Mat ┆ Won ┆ Lost ┆ … ┆ LS    ┆ Season  ┆ AveRPW ┆ AveRPO │\n",
       "│ ---         ┆ --- ┆ --- ┆ ---  ┆   ┆ ---   ┆ ---     ┆ ---    ┆ ---    │\n",
       "│ str         ┆ i64 ┆ i64 ┆ i64  ┆   ┆ f64   ┆ str     ┆ f64    ┆ f64    │\n",
       "╞═════════════╪═════╪═════╪══════╪═══╪═══════╪═════════╪════════╪════════╡\n",
       "│ Zimbabwe    ┆ 2   ┆ 0   ┆ 2    ┆ … ┆ 126.0 ┆ 2018/19 ┆ 15.17  ┆ 6.91   │\n",
       "│ Zimbabwe    ┆ 11  ┆ 5   ┆ 5    ┆ … ┆ 115.0 ┆ 2022/23 ┆ 16.94  ┆ 7.13   │\n",
       "│ Zimbabwe    ┆ 2   ┆ 0   ┆ 2    ┆ … ┆ 0.0   ┆ 2017/18 ┆ 18.64  ┆ 6.52   │\n",
       "│ Zimbabwe    ┆ 15  ┆ 5   ┆ 10   ┆ … ┆ 127.0 ┆ 2015/16 ┆ 20.15  ┆ 7.59   │\n",
       "│ Zimbabwe    ┆ 16  ┆ 9   ┆ 7    ┆ … ┆ 95.0  ┆ 2022    ┆ 22.45  ┆ 7.75   │\n",
       "│ …           ┆ …   ┆ …   ┆ …    ┆ … ┆ …     ┆ …       ┆ …      ┆ …      │\n",
       "│ Afghanistan ┆ 10  ┆ 10  ┆ 0    ┆ … ┆ 0.0   ┆ 2016/17 ┆ 33.72  ┆ 8.92   │\n",
       "│ Afghanistan ┆ 4   ┆ 2   ┆ 2    ┆ … ┆ 0.0   ┆ 2019    ┆ 25.15  ┆ 8.17   │\n",
       "│ Afghanistan ┆ 8   ┆ 5   ┆ 3    ┆ … ┆ 56.0  ┆ 2024    ┆ 18.36  ┆ 7.04   │\n",
       "│ Afghanistan ┆ 6   ┆ 5   ┆ 1    ┆ … ┆ 0.0   ┆ 2015    ┆ 31.96  ┆ 8.37   │\n",
       "│ Afghanistan ┆ 17  ┆ 12  ┆ 5    ┆ … ┆ 160.0 ┆ 2015/16 ┆ 24.85  ┆ 8.27   │\n",
       "└─────────────┴─────┴─────┴──────┴───┴───────┴─────────┴────────┴────────┘"
      ]
     },
     "execution_count": 21,
     "metadata": {},
     "output_type": "execute_result"
    }
   ],
   "source": [
    "team_data = pl.read_csv(os.path.join(directory, 'teamStats.csv'))\n",
    "team_data"
   ]
  },
  {
   "cell_type": "code",
   "execution_count": 28,
   "metadata": {},
   "outputs": [
    {
     "data": {
      "text/plain": [
       "(3683, 11)"
      ]
     },
     "execution_count": 28,
     "metadata": {},
     "output_type": "execute_result"
    }
   ],
   "source": [
    "matches.shape"
   ]
  },
  {
   "cell_type": "code",
   "execution_count": 32,
   "metadata": {},
   "outputs": [
    {
     "data": {
      "text/html": [
       "<div><style>\n",
       ".dataframe > thead > tr,\n",
       ".dataframe > tbody > tr {\n",
       "  text-align: right;\n",
       "  white-space: pre-wrap;\n",
       "}\n",
       "</style>\n",
       "<small>shape: (1, 14)</small><table border=\"1\" class=\"dataframe\"><thead><tr><th>Team</th><th>Mat</th><th>Won</th><th>Lost</th><th>Tied</th><th>NR</th><th>W/L</th><th>Runs</th><th>Inns</th><th>HS</th><th>LS</th><th>Season</th><th>AveRPW</th><th>AveRPO</th></tr><tr><td>str</td><td>i64</td><td>i64</td><td>i64</td><td>i64</td><td>i64</td><td>f64</td><td>i64</td><td>i64</td><td>f64</td><td>f64</td><td>str</td><td>f64</td><td>f64</td></tr></thead><tbody><tr><td>&quot;Australia&quot;</td><td>3</td><td>1</td><td>2</td><td>0</td><td>0</td><td>0.5</td><td>528</td><td>3</td><td>187.0</td><td>173.0</td><td>&quot;2016/17&quot;</td><td>24.0</td><td>8.8</td></tr></tbody></table></div>"
      ],
      "text/plain": [
       "shape: (1, 14)\n",
       "┌───────────┬─────┬─────┬──────┬───┬───────┬─────────┬────────┬────────┐\n",
       "│ Team      ┆ Mat ┆ Won ┆ Lost ┆ … ┆ LS    ┆ Season  ┆ AveRPW ┆ AveRPO │\n",
       "│ ---       ┆ --- ┆ --- ┆ ---  ┆   ┆ ---   ┆ ---     ┆ ---    ┆ ---    │\n",
       "│ str       ┆ i64 ┆ i64 ┆ i64  ┆   ┆ f64   ┆ str     ┆ f64    ┆ f64    │\n",
       "╞═══════════╪═════╪═════╪══════╪═══╪═══════╪═════════╪════════╪════════╡\n",
       "│ Australia ┆ 3   ┆ 1   ┆ 2    ┆ … ┆ 173.0 ┆ 2016/17 ┆ 24.0   ┆ 8.8    │\n",
       "└───────────┴─────┴─────┴──────┴───┴───────┴─────────┴────────┴────────┘"
      ]
     },
     "execution_count": 32,
     "metadata": {},
     "output_type": "execute_result"
    }
   ],
   "source": [
    "team_data.filter((pl.col('Team')==\"Australia\") & (pl.col('Season')==\"2016/17\"))"
   ]
  },
  {
   "cell_type": "code",
   "execution_count": 27,
   "metadata": {},
   "outputs": [
    {
     "data": {
      "text/html": [
       "<div><style>\n",
       ".dataframe > thead > tr,\n",
       ".dataframe > tbody > tr {\n",
       "  text-align: right;\n",
       "  white-space: pre-wrap;\n",
       "}\n",
       "</style>\n",
       "<small>shape: (2_896, 23)</small><table border=\"1\" class=\"dataframe\"><thead><tr><th>team1</th><th>team2</th><th>gender</th><th>season</th><th>date</th><th>venue</th><th>city</th><th>toss_winner</th><th>toss_decision</th><th>winner</th><th>match_id</th><th>Mat</th><th>Won</th><th>Lost</th><th>Tied</th><th>NR</th><th>W/L</th><th>Runs</th><th>Inns</th><th>HS</th><th>LS</th><th>AveRPW</th><th>AveRPO</th></tr><tr><td>str</td><td>str</td><td>str</td><td>str</td><td>str</td><td>str</td><td>str</td><td>str</td><td>str</td><td>str</td><td>i64</td><td>i64</td><td>i64</td><td>i64</td><td>i64</td><td>i64</td><td>f64</td><td>i64</td><td>i64</td><td>f64</td><td>f64</td><td>f64</td><td>f64</td></tr></thead><tbody><tr><td>&quot;Australia&quot;</td><td>&quot;Sri Lanka&quot;</td><td>&quot;male&quot;</td><td>&quot;2016/17&quot;</td><td>&quot;2017/02/17&quot;</td><td>&quot;Melbourne Cricket Ground&quot;</td><td>null</td><td>&quot;Sri Lanka&quot;</td><td>&quot;field&quot;</td><td>&quot;Sri Lanka&quot;</td><td>1001349</td><td>3</td><td>1</td><td>2</td><td>0</td><td>0</td><td>0.5</td><td>528</td><td>3</td><td>187.0</td><td>173.0</td><td>24.0</td><td>8.8</td></tr><tr><td>&quot;Australia&quot;</td><td>&quot;Sri Lanka&quot;</td><td>&quot;male&quot;</td><td>&quot;2016/17&quot;</td><td>&quot;2017/02/19&quot;</td><td>&quot;Simonds Stadium, South Geelong&quot;</td><td>&quot;Victoria&quot;</td><td>&quot;Sri Lanka&quot;</td><td>&quot;field&quot;</td><td>&quot;Sri Lanka&quot;</td><td>1001351</td><td>3</td><td>1</td><td>2</td><td>0</td><td>0</td><td>0.5</td><td>528</td><td>3</td><td>187.0</td><td>173.0</td><td>24.0</td><td>8.8</td></tr><tr><td>&quot;Australia&quot;</td><td>&quot;Sri Lanka&quot;</td><td>&quot;male&quot;</td><td>&quot;2016/17&quot;</td><td>&quot;2017/02/22&quot;</td><td>&quot;Adelaide Oval&quot;</td><td>null</td><td>&quot;Sri Lanka&quot;</td><td>&quot;field&quot;</td><td>&quot;Australia&quot;</td><td>1001353</td><td>3</td><td>1</td><td>2</td><td>0</td><td>0</td><td>0.5</td><td>528</td><td>3</td><td>187.0</td><td>173.0</td><td>24.0</td><td>8.8</td></tr><tr><td>&quot;Ireland&quot;</td><td>&quot;Hong Kong&quot;</td><td>&quot;male&quot;</td><td>&quot;2016&quot;</td><td>&quot;2016/09/05&quot;</td><td>&quot;Bready Cricket Club, Magherama…</td><td>&quot;Londonderry&quot;</td><td>&quot;Hong Kong&quot;</td><td>&quot;bat&quot;</td><td>&quot;Hong Kong&quot;</td><td>1004729</td><td>1</td><td>0</td><td>1</td><td>0</td><td>0</td><td>0.0</td><td>129</td><td>1</td><td>129.0</td><td>129.0</td><td>12.9</td><td>6.61</td></tr><tr><td>&quot;Zimbabwe&quot;</td><td>&quot;India&quot;</td><td>&quot;male&quot;</td><td>&quot;2016&quot;</td><td>&quot;2016/06/18&quot;</td><td>&quot;Harare Sports Club&quot;</td><td>null</td><td>&quot;India&quot;</td><td>&quot;field&quot;</td><td>&quot;Zimbabwe&quot;</td><td>1007655</td><td>3</td><td>1</td><td>2</td><td>0</td><td>0</td><td>0.5</td><td>404</td><td>3</td><td>170.0</td><td>0.0</td><td>19.23</td><td>6.73</td></tr><tr><td>&hellip;</td><td>&hellip;</td><td>&hellip;</td><td>&hellip;</td><td>&hellip;</td><td>&hellip;</td><td>&hellip;</td><td>&hellip;</td><td>&hellip;</td><td>&hellip;</td><td>&hellip;</td><td>&hellip;</td><td>&hellip;</td><td>&hellip;</td><td>&hellip;</td><td>&hellip;</td><td>&hellip;</td><td>&hellip;</td><td>&hellip;</td><td>&hellip;</td><td>&hellip;</td><td>&hellip;</td><td>&hellip;</td></tr><tr><td>&quot;India&quot;</td><td>&quot;United Arab Emirates&quot;</td><td>&quot;male&quot;</td><td>&quot;2015/16&quot;</td><td>&quot;2016/03/03&quot;</td><td>&quot;Shere Bangla National Stadium&quot;</td><td>&quot;Mirpur&quot;</td><td>&quot;United Arab Emirates&quot;</td><td>&quot;bat&quot;</td><td>&quot;India&quot;</td><td>966761</td><td>18</td><td>13</td><td>5</td><td>0</td><td>0</td><td>2.6</td><td>2538</td><td>18</td><td>200.0</td><td>79.0</td><td>29.17</td><td>7.88</td></tr><tr><td>&quot;Pakistan&quot;</td><td>&quot;Sri Lanka&quot;</td><td>&quot;male&quot;</td><td>&quot;2015/16&quot;</td><td>&quot;2016/03/04&quot;</td><td>&quot;Shere Bangla National Stadium&quot;</td><td>&quot;Mirpur&quot;</td><td>&quot;Pakistan&quot;</td><td>&quot;field&quot;</td><td>&quot;Pakistan&quot;</td><td>966763</td><td>16</td><td>6</td><td>9</td><td>1</td><td>0</td><td>0.666667</td><td>2324</td><td>16</td><td>201.0</td><td>83.0</td><td>20.93</td><td>7.5</td></tr><tr><td>&quot;Bangladesh&quot;</td><td>&quot;India&quot;</td><td>&quot;male&quot;</td><td>&quot;2015/16&quot;</td><td>&quot;2016/03/06&quot;</td><td>&quot;Shere Bangla National Stadium&quot;</td><td>&quot;Mirpur&quot;</td><td>&quot;India&quot;</td><td>&quot;field&quot;</td><td>&quot;India&quot;</td><td>966765</td><td>18</td><td>8</td><td>9</td><td>0</td><td>1</td><td>0.888889</td><td>2518</td><td>18</td><td>180.0</td><td>70.0</td><td>22.28</td><td>7.55</td></tr><tr><td>&quot;Sri Lanka&quot;</td><td>&quot;Australia&quot;</td><td>&quot;male&quot;</td><td>&quot;2016&quot;</td><td>&quot;2016/09/06&quot;</td><td>&quot;Pallekele International Cricke…</td><td>null</td><td>&quot;Sri Lanka&quot;</td><td>&quot;field&quot;</td><td>&quot;Australia&quot;</td><td>995467</td><td>3</td><td>0</td><td>3</td><td>0</td><td>0</td><td>0.0</td><td>446</td><td>3</td><td>178.0</td><td>140.0</td><td>15.92</td><td>7.43</td></tr><tr><td>&quot;Sri Lanka&quot;</td><td>&quot;Australia&quot;</td><td>&quot;male&quot;</td><td>&quot;2016&quot;</td><td>&quot;2016/09/09&quot;</td><td>&quot;R Premadasa Stadium&quot;</td><td>&quot;Colombo&quot;</td><td>&quot;Sri Lanka&quot;</td><td>&quot;bat&quot;</td><td>&quot;Australia&quot;</td><td>995469</td><td>3</td><td>0</td><td>3</td><td>0</td><td>0</td><td>0.0</td><td>446</td><td>3</td><td>178.0</td><td>140.0</td><td>15.92</td><td>7.43</td></tr></tbody></table></div>"
      ],
      "text/plain": [
       "shape: (2_896, 23)\n",
       "┌────────────┬──────────────────────┬────────┬─────────┬───┬───────┬───────┬────────┬────────┐\n",
       "│ team1      ┆ team2                ┆ gender ┆ season  ┆ … ┆ HS    ┆ LS    ┆ AveRPW ┆ AveRPO │\n",
       "│ ---        ┆ ---                  ┆ ---    ┆ ---     ┆   ┆ ---   ┆ ---   ┆ ---    ┆ ---    │\n",
       "│ str        ┆ str                  ┆ str    ┆ str     ┆   ┆ f64   ┆ f64   ┆ f64    ┆ f64    │\n",
       "╞════════════╪══════════════════════╪════════╪═════════╪═══╪═══════╪═══════╪════════╪════════╡\n",
       "│ Australia  ┆ Sri Lanka            ┆ male   ┆ 2016/17 ┆ … ┆ 187.0 ┆ 173.0 ┆ 24.0   ┆ 8.8    │\n",
       "│ Australia  ┆ Sri Lanka            ┆ male   ┆ 2016/17 ┆ … ┆ 187.0 ┆ 173.0 ┆ 24.0   ┆ 8.8    │\n",
       "│ Australia  ┆ Sri Lanka            ┆ male   ┆ 2016/17 ┆ … ┆ 187.0 ┆ 173.0 ┆ 24.0   ┆ 8.8    │\n",
       "│ Ireland    ┆ Hong Kong            ┆ male   ┆ 2016    ┆ … ┆ 129.0 ┆ 129.0 ┆ 12.9   ┆ 6.61   │\n",
       "│ Zimbabwe   ┆ India                ┆ male   ┆ 2016    ┆ … ┆ 170.0 ┆ 0.0   ┆ 19.23  ┆ 6.73   │\n",
       "│ …          ┆ …                    ┆ …      ┆ …       ┆ … ┆ …     ┆ …     ┆ …      ┆ …      │\n",
       "│ India      ┆ United Arab Emirates ┆ male   ┆ 2015/16 ┆ … ┆ 200.0 ┆ 79.0  ┆ 29.17  ┆ 7.88   │\n",
       "│ Pakistan   ┆ Sri Lanka            ┆ male   ┆ 2015/16 ┆ … ┆ 201.0 ┆ 83.0  ┆ 20.93  ┆ 7.5    │\n",
       "│ Bangladesh ┆ India                ┆ male   ┆ 2015/16 ┆ … ┆ 180.0 ┆ 70.0  ┆ 22.28  ┆ 7.55   │\n",
       "│ Sri Lanka  ┆ Australia            ┆ male   ┆ 2016    ┆ … ┆ 178.0 ┆ 140.0 ┆ 15.92  ┆ 7.43   │\n",
       "│ Sri Lanka  ┆ Australia            ┆ male   ┆ 2016    ┆ … ┆ 178.0 ┆ 140.0 ┆ 15.92  ┆ 7.43   │\n",
       "└────────────┴──────────────────────┴────────┴─────────┴───┴───────┴───────┴────────┴────────┘"
      ]
     },
     "execution_count": 27,
     "metadata": {},
     "output_type": "execute_result"
    }
   ],
   "source": [
    "matches.join(team_data,left_on=['team1','season'],right_on=['Team','Season'])"
   ]
  },
  {
   "cell_type": "code",
   "execution_count": 36,
   "metadata": {},
   "outputs": [
    {
     "name": "stdout",
     "output_type": "stream",
     "text": [
      "ICC World XI\n",
      "Czech Rep.\n",
      "Peru\n",
      "U.S.A.\n",
      "Cayman\n",
      "World-XI\n",
      "P.N.G.\n",
      "U.A.E.\n"
     ]
    }
   ],
   "source": [
    "mt = matches['team1'].unique().to_list()\n",
    "tt = team_data['Team'].unique().to_list()\n",
    "for i in tt:\n",
    "    if i not in mt:\n",
    "        print(i)"
   ]
  },
  {
   "cell_type": "code",
   "execution_count": 37,
   "metadata": {},
   "outputs": [
    {
     "name": "stdout",
     "output_type": "stream",
     "text": [
      "Cayman Islands\n",
      "United Arab Emirates\n",
      "Papua New Guinea\n",
      "Barbados\n",
      "Czech Republic\n",
      "United States of America\n"
     ]
    }
   ],
   "source": [
    "for i in mt:\n",
    "    if i not in tt:\n",
    "        print(i)"
   ]
  },
  {
   "cell_type": "code",
   "execution_count": null,
   "metadata": {},
   "outputs": [],
   "source": []
  }
 ],
 "metadata": {
  "kernelspec": {
   "display_name": "eda",
   "language": "python",
   "name": "python3"
  },
  "language_info": {
   "codemirror_mode": {
    "name": "ipython",
    "version": 3
   },
   "file_extension": ".py",
   "mimetype": "text/x-python",
   "name": "python",
   "nbconvert_exporter": "python",
   "pygments_lexer": "ipython3",
   "version": "3.8.19"
  }
 },
 "nbformat": 4,
 "nbformat_minor": 2
}
