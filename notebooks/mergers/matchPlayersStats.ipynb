{
 "cells": [
  {
   "cell_type": "code",
   "execution_count": 2,
   "metadata": {},
   "outputs": [
    {
     "data": {
      "text/html": [
       "<div><style>\n",
       ".dataframe > thead > tr,\n",
       ".dataframe > tbody > tr {\n",
       "  text-align: right;\n",
       "  white-space: pre-wrap;\n",
       "}\n",
       "</style>\n",
       "<small>shape: (82_808, 5)</small><table border=\"1\" class=\"dataframe\"><thead><tr><th>country</th><th>player</th><th>player_id</th><th>season</th><th>match_id</th></tr><tr><td>str</td><td>str</td><td>str</td><td>str</td><td>i64</td></tr></thead><tbody><tr><td>&quot;Australia&quot;</td><td>&quot;AC Gilchrist&quot;</td><td>&quot;2b6e6dec&quot;</td><td>&quot;2005&quot;</td><td>211028</td></tr><tr><td>&quot;Australia&quot;</td><td>&quot;ML Hayden&quot;</td><td>&quot;d8699ab7&quot;</td><td>&quot;2005&quot;</td><td>211028</td></tr><tr><td>&quot;Australia&quot;</td><td>&quot;A Symonds&quot;</td><td>&quot;bd77eb62&quot;</td><td>&quot;2005&quot;</td><td>211028</td></tr><tr><td>&quot;Australia&quot;</td><td>&quot;MJ Clarke&quot;</td><td>&quot;f842c2cf&quot;</td><td>&quot;2005&quot;</td><td>211028</td></tr><tr><td>&quot;Australia&quot;</td><td>&quot;MEK Hussey&quot;</td><td>&quot;48fd7349&quot;</td><td>&quot;2005&quot;</td><td>211028</td></tr><tr><td>&hellip;</td><td>&hellip;</td><td>&hellip;</td><td>&hellip;</td><td>&hellip;</td></tr><tr><td>&quot;Spain&quot;</td><td>&quot;EMC Fowler&quot;</td><td>&quot;4f88a917&quot;</td><td>&quot;2024&quot;</td><td>1451294</td></tr><tr><td>&quot;Spain&quot;</td><td>&quot;Tashiba Mirza&quot;</td><td>&quot;2020d4fd&quot;</td><td>&quot;2024&quot;</td><td>1451294</td></tr><tr><td>&quot;Spain&quot;</td><td>&quot;Memoona Riaz&quot;</td><td>&quot;3c5a7deb&quot;</td><td>&quot;2024&quot;</td><td>1451294</td></tr><tr><td>&quot;Spain&quot;</td><td>&quot;S Basharat&quot;</td><td>&quot;1356b739&quot;</td><td>&quot;2024&quot;</td><td>1451294</td></tr><tr><td>&quot;Spain&quot;</td><td>&quot;LD Chukkapalli-Llinares&quot;</td><td>&quot;27b50a31&quot;</td><td>&quot;2024&quot;</td><td>1451294</td></tr></tbody></table></div>"
      ],
      "text/plain": [
       "shape: (82_808, 5)\n",
       "┌───────────┬─────────────────────────┬───────────┬────────┬──────────┐\n",
       "│ country   ┆ player                  ┆ player_id ┆ season ┆ match_id │\n",
       "│ ---       ┆ ---                     ┆ ---       ┆ ---    ┆ ---      │\n",
       "│ str       ┆ str                     ┆ str       ┆ str    ┆ i64      │\n",
       "╞═══════════╪═════════════════════════╪═══════════╪════════╪══════════╡\n",
       "│ Australia ┆ AC Gilchrist            ┆ 2b6e6dec  ┆ 2005   ┆ 211028   │\n",
       "│ Australia ┆ ML Hayden               ┆ d8699ab7  ┆ 2005   ┆ 211028   │\n",
       "│ Australia ┆ A Symonds               ┆ bd77eb62  ┆ 2005   ┆ 211028   │\n",
       "│ Australia ┆ MJ Clarke               ┆ f842c2cf  ┆ 2005   ┆ 211028   │\n",
       "│ Australia ┆ MEK Hussey              ┆ 48fd7349  ┆ 2005   ┆ 211028   │\n",
       "│ …         ┆ …                       ┆ …         ┆ …      ┆ …        │\n",
       "│ Spain     ┆ EMC Fowler              ┆ 4f88a917  ┆ 2024   ┆ 1451294  │\n",
       "│ Spain     ┆ Tashiba Mirza           ┆ 2020d4fd  ┆ 2024   ┆ 1451294  │\n",
       "│ Spain     ┆ Memoona Riaz            ┆ 3c5a7deb  ┆ 2024   ┆ 1451294  │\n",
       "│ Spain     ┆ S Basharat              ┆ 1356b739  ┆ 2024   ┆ 1451294  │\n",
       "│ Spain     ┆ LD Chukkapalli-Llinares ┆ 27b50a31  ┆ 2024   ┆ 1451294  │\n",
       "└───────────┴─────────────────────────┴───────────┴────────┴──────────┘"
      ]
     },
     "execution_count": 2,
     "metadata": {},
     "output_type": "execute_result"
    }
   ],
   "source": [
    "import os\n",
    "directory = r'D:\\github\\localt20\\data\\processedData'  # for local\n",
    "# directory = '/app/dataInHandNow/afterpreprocessed'  # for docker\n",
    "\n",
    "import polars as pl\n",
    "matches = pl.read_csv(os.path.join(directory, 'matches.csv'))\n",
    "matchPlayers = pl.read_csv(os.path.join(directory, 'Matchplayers.csv')).sort('match_id')\n",
    "playerStats = pl.read_csv(os.path.join(directory, 'playerStats.csv'))\n",
    "matchPlayers"
   ]
  },
  {
   "cell_type": "code",
   "execution_count": 3,
   "metadata": {},
   "outputs": [
    {
     "data": {
      "text/html": [
       "<div><style>\n",
       ".dataframe > thead > tr,\n",
       ".dataframe > tbody > tr {\n",
       "  text-align: right;\n",
       "  white-space: pre-wrap;\n",
       "}\n",
       "</style>\n",
       "<small>shape: (52_083, 29)</small><table border=\"1\" class=\"dataframe\"><thead><tr><th>country</th><th>player</th><th>player_id</th><th>season</th><th>match_id</th><th>Player</th><th>Mat</th><th>Inns</th><th>Batting Runs</th><th>SR</th><th>Ave</th><th>Country</th><th>Cum batting Ave</th><th>Cum battings Runs Total</th><th>Cum Inns Total</th><th>Cum SR</th><th>Overs</th><th>Bowling_Runs</th><th>Wkts</th><th>Econ</th><th>Cumulative Overs</th><th>Cumulative Wkts</th><th>Cumulative Runs</th><th>Cumulative Inns</th><th>Cumulative Econ</th><th>Dis</th><th>Ct</th><th>St</th><th>D/I</th></tr><tr><td>str</td><td>str</td><td>str</td><td>str</td><td>i64</td><td>str</td><td>i64</td><td>f64</td><td>f64</td><td>f64</td><td>f64</td><td>str</td><td>f64</td><td>f64</td><td>f64</td><td>f64</td><td>f64</td><td>f64</td><td>f64</td><td>f64</td><td>f64</td><td>f64</td><td>f64</td><td>f64</td><td>f64</td><td>f64</td><td>f64</td><td>f64</td><td>f64</td></tr></thead><tbody><tr><td>&quot;Australia&quot;</td><td>&quot;AC Gilchrist&quot;</td><td>&quot;2b6e6dec&quot;</td><td>&quot;2005&quot;</td><td>211028</td><td>&quot;AC Gilchrist&quot;</td><td>1</td><td>1.0</td><td>15.0</td><td>107.14</td><td>15.0</td><td>&quot;Australia&quot;</td><td>8.0</td><td>16.0</td><td>2.0</td><td>70.24</td><td>0.0</td><td>0.0</td><td>0.0</td><td>0.0</td><td>0.0</td><td>0.0</td><td>0.0</td><td>0.0</td><td>0.0</td><td>0.0</td><td>0.0</td><td>0.0</td><td>0.0</td></tr><tr><td>&quot;Australia&quot;</td><td>&quot;ML Hayden&quot;</td><td>&quot;d8699ab7&quot;</td><td>&quot;2005&quot;</td><td>211028</td><td>&quot;ML Hayden&quot;</td><td>1</td><td>1.0</td><td>6.0</td><td>150.0</td><td>6.0</td><td>&quot;Australia&quot;</td><td>6.0</td><td>6.0</td><td>1.0</td><td>150.0</td><td>0.0</td><td>0.0</td><td>0.0</td><td>0.0</td><td>0.0</td><td>0.0</td><td>0.0</td><td>0.0</td><td>0.0</td><td>1.0</td><td>1.0</td><td>0.0</td><td>1.0</td></tr><tr><td>&quot;Australia&quot;</td><td>&quot;A Symonds&quot;</td><td>&quot;bd77eb62&quot;</td><td>&quot;2005&quot;</td><td>211028</td><td>&quot;A Symonds&quot;</td><td>1</td><td>1.0</td><td>0.0</td><td>0.0</td><td>0.0</td><td>&quot;Australia&quot;</td><td>16.0</td><td>32.0</td><td>2.0</td><td>123.08</td><td>3.0</td><td>14.0</td><td>2.0</td><td>4.66</td><td>6.0</td><td>3.0</td><td>47.0</td><td>2.0</td><td>23.5</td><td>1.0</td><td>1.0</td><td>0.0</td><td>0.5</td></tr><tr><td>&quot;Australia&quot;</td><td>&quot;MJ Clarke&quot;</td><td>&quot;f842c2cf&quot;</td><td>&quot;2005&quot;</td><td>211028</td><td>&quot;MJ Clarke&quot;</td><td>1</td><td>1.0</td><td>0.0</td><td>0.0</td><td>0.0</td><td>&quot;Australia&quot;</td><td>3.5</td><td>7.0</td><td>2.0</td><td>87.5</td><td>3.0</td><td>25.0</td><td>1.0</td><td>8.33</td><td>5.0</td><td>1.0</td><td>36.0</td><td>2.0</td><td>18.0</td><td>0.0</td><td>0.0</td><td>0.0</td><td>0.0</td></tr><tr><td>&quot;Australia&quot;</td><td>&quot;MEK Hussey&quot;</td><td>&quot;48fd7349&quot;</td><td>&quot;2005&quot;</td><td>211028</td><td>&quot;MEK Hussey&quot;</td><td>1</td><td>1.0</td><td>1.0</td><td>16.66</td><td>1.0</td><td>&quot;Australia&quot;</td><td>16.0</td><td>32.0</td><td>2.0</td><td>111.66</td><td>0.0</td><td>0.0</td><td>0.0</td><td>0.0</td><td>0.0</td><td>0.0</td><td>0.0</td><td>0.0</td><td>0.0</td><td>3.0</td><td>3.0</td><td>0.0</td><td>1.5</td></tr><tr><td>&hellip;</td><td>&hellip;</td><td>&hellip;</td><td>&hellip;</td><td>&hellip;</td><td>&hellip;</td><td>&hellip;</td><td>&hellip;</td><td>&hellip;</td><td>&hellip;</td><td>&hellip;</td><td>&hellip;</td><td>&hellip;</td><td>&hellip;</td><td>&hellip;</td><td>&hellip;</td><td>&hellip;</td><td>&hellip;</td><td>&hellip;</td><td>&hellip;</td><td>&hellip;</td><td>&hellip;</td><td>&hellip;</td><td>&hellip;</td><td>&hellip;</td><td>&hellip;</td><td>&hellip;</td><td>&hellip;</td><td>&hellip;</td></tr><tr><td>&quot;Philippines&quot;</td><td>&quot;ASF Sirah&quot;</td><td>&quot;06bcade5&quot;</td><td>&quot;2024&quot;</td><td>1450767</td><td>&quot;ASF Sirah&quot;</td><td>3</td><td>2.0</td><td>15.0</td><td>78.94</td><td>7.5</td><td>&quot;Philippines&quot;</td><td>11.04</td><td>76.0</td><td>8.0</td><td>105.52</td><td>10.0</td><td>50.0</td><td>5.0</td><td>5.0</td><td>48.0</td><td>18.0</td><td>334.0</td><td>14.0</td><td>23.857143</td><td>6.0</td><td>6.0</td><td>0.0</td><td>0.428571</td></tr><tr><td>&quot;Philippines&quot;</td><td>&quot;Huzaifa Mohammed&quot;</td><td>&quot;65a29a30&quot;</td><td>&quot;2024&quot;</td><td>1450767</td><td>&quot;Huzaifa Mohammed&quot;</td><td>7</td><td>4.0</td><td>13.0</td><td>56.52</td><td>6.5</td><td>&quot;Philippines&quot;</td><td>19.65</td><td>114.0</td><td>13.0</td><td>68.03</td><td>26.0</td><td>115.0</td><td>11.0</td><td>4.42</td><td>87.5</td><td>24.0</td><td>531.0</td><td>24.0</td><td>22.125</td><td>4.0</td><td>4.0</td><td>0.0</td><td>0.166667</td></tr><tr><td>&quot;Philippines&quot;</td><td>&quot;J Tuffin&quot;</td><td>&quot;8069f81f&quot;</td><td>&quot;2024&quot;</td><td>1450767</td><td>&quot;J Tuffin&quot;</td><td>7</td><td>7.0</td><td>95.0</td><td>89.62</td><td>31.66</td><td>&quot;Philippines&quot;</td><td>31.66</td><td>95.0</td><td>7.0</td><td>89.62</td><td>20.0</td><td>117.0</td><td>8.0</td><td>5.85</td><td>20.0</td><td>8.0</td><td>117.0</td><td>6.0</td><td>19.5</td><td>0.0</td><td>0.0</td><td>0.0</td><td>0.0</td></tr><tr><td>&quot;Philippines&quot;</td><td>&quot;A Donovan&quot;</td><td>&quot;02888f23&quot;</td><td>&quot;2024&quot;</td><td>1450767</td><td>&quot;A Donovan&quot;</td><td>3</td><td>2.0</td><td>2.0</td><td>20.0</td><td>2.0</td><td>&quot;Philippines&quot;</td><td>2.0</td><td>2.0</td><td>2.0</td><td>20.0</td><td>4.0</td><td>31.0</td><td>0.0</td><td>7.75</td><td>4.0</td><td>0.0</td><td>31.0</td><td>3.0</td><td>10.333333</td><td>0.0</td><td>0.0</td><td>0.0</td><td>0.0</td></tr><tr><td>&quot;Philippines&quot;</td><td>&quot;KDA Lukies&quot;</td><td>&quot;14af45c4&quot;</td><td>&quot;2024&quot;</td><td>1450767</td><td>&quot;KDA Lukies&quot;</td><td>7</td><td>3.0</td><td>11.0</td><td>42.3</td><td>11.0</td><td>&quot;Philippines&quot;</td><td>13.25</td><td>83.0</td><td>12.0</td><td>84.86</td><td>25.5</td><td>134.0</td><td>8.0</td><td>5.18</td><td>77.5</td><td>27.0</td><td>436.0</td><td>21.0</td><td>20.761905</td><td>6.0</td><td>6.0</td><td>0.0</td><td>0.285714</td></tr></tbody></table></div>"
      ],
      "text/plain": [
       "shape: (52_083, 29)\n",
       "┌─────────────┬──────────────────┬───────────┬────────┬───┬─────┬─────┬─────┬──────────┐\n",
       "│ country     ┆ player           ┆ player_id ┆ season ┆ … ┆ Dis ┆ Ct  ┆ St  ┆ D/I      │\n",
       "│ ---         ┆ ---              ┆ ---       ┆ ---    ┆   ┆ --- ┆ --- ┆ --- ┆ ---      │\n",
       "│ str         ┆ str              ┆ str       ┆ str    ┆   ┆ f64 ┆ f64 ┆ f64 ┆ f64      │\n",
       "╞═════════════╪══════════════════╪═══════════╪════════╪═══╪═════╪═════╪═════╪══════════╡\n",
       "│ Australia   ┆ AC Gilchrist     ┆ 2b6e6dec  ┆ 2005   ┆ … ┆ 0.0 ┆ 0.0 ┆ 0.0 ┆ 0.0      │\n",
       "│ Australia   ┆ ML Hayden        ┆ d8699ab7  ┆ 2005   ┆ … ┆ 1.0 ┆ 1.0 ┆ 0.0 ┆ 1.0      │\n",
       "│ Australia   ┆ A Symonds        ┆ bd77eb62  ┆ 2005   ┆ … ┆ 1.0 ┆ 1.0 ┆ 0.0 ┆ 0.5      │\n",
       "│ Australia   ┆ MJ Clarke        ┆ f842c2cf  ┆ 2005   ┆ … ┆ 0.0 ┆ 0.0 ┆ 0.0 ┆ 0.0      │\n",
       "│ Australia   ┆ MEK Hussey       ┆ 48fd7349  ┆ 2005   ┆ … ┆ 3.0 ┆ 3.0 ┆ 0.0 ┆ 1.5      │\n",
       "│ …           ┆ …                ┆ …         ┆ …      ┆ … ┆ …   ┆ …   ┆ …   ┆ …        │\n",
       "│ Philippines ┆ ASF Sirah        ┆ 06bcade5  ┆ 2024   ┆ … ┆ 6.0 ┆ 6.0 ┆ 0.0 ┆ 0.428571 │\n",
       "│ Philippines ┆ Huzaifa Mohammed ┆ 65a29a30  ┆ 2024   ┆ … ┆ 4.0 ┆ 4.0 ┆ 0.0 ┆ 0.166667 │\n",
       "│ Philippines ┆ J Tuffin         ┆ 8069f81f  ┆ 2024   ┆ … ┆ 0.0 ┆ 0.0 ┆ 0.0 ┆ 0.0      │\n",
       "│ Philippines ┆ A Donovan        ┆ 02888f23  ┆ 2024   ┆ … ┆ 0.0 ┆ 0.0 ┆ 0.0 ┆ 0.0      │\n",
       "│ Philippines ┆ KDA Lukies       ┆ 14af45c4  ┆ 2024   ┆ … ┆ 6.0 ┆ 6.0 ┆ 0.0 ┆ 0.285714 │\n",
       "└─────────────┴──────────────────┴───────────┴────────┴───┴─────┴─────┴─────┴──────────┘"
      ]
     },
     "execution_count": 3,
     "metadata": {},
     "output_type": "execute_result"
    }
   ],
   "source": [
    "matchPlayersStats = matchPlayers.join(playerStats, left_on=['player_id','season'] , right_on=['player_id','Season'], how='inner')\n",
    "matchPlayersStats"
   ]
  },
  {
   "cell_type": "code",
   "execution_count": 4,
   "metadata": {},
   "outputs": [
    {
     "data": {
      "text/html": [
       "<div><style>\n",
       ".dataframe > thead > tr,\n",
       ".dataframe > tbody > tr {\n",
       "  text-align: right;\n",
       "  white-space: pre-wrap;\n",
       "}\n",
       "</style>\n",
       "<small>shape: (1_200,)</small><table border=\"1\" class=\"dataframe\"><thead><tr><th>match_id</th></tr><tr><td>i64</td></tr></thead><tbody><tr><td>211028</td></tr><tr><td>211048</td></tr><tr><td>225263</td></tr><tr><td>225271</td></tr><tr><td>226374</td></tr><tr><td>&hellip;</td></tr><tr><td>1447492</td></tr><tr><td>1447496</td></tr><tr><td>1450753</td></tr><tr><td>1450759</td></tr><tr><td>1450765</td></tr></tbody></table></div>"
      ],
      "text/plain": [
       "shape: (1_200,)\n",
       "Series: 'match_id' [i64]\n",
       "[\n",
       "\t211028\n",
       "\t211048\n",
       "\t225263\n",
       "\t225271\n",
       "\t226374\n",
       "\t…\n",
       "\t1447492\n",
       "\t1447496\n",
       "\t1450753\n",
       "\t1450759\n",
       "\t1450765\n",
       "]"
      ]
     },
     "execution_count": 4,
     "metadata": {},
     "output_type": "execute_result"
    }
   ],
   "source": [
    "match_id = matchPlayersStats['match_id','player_id'].with_columns(pl.lit(1).alias(\"one\")).group_by('match_id').agg(pl.sum('one')).filter(pl.col('one') == 22)['match_id']\n",
    "# matchPlayersStats['match_id','player_id'].with_columns(pl.lit(1).alias(\"one\")).group_by('match_id').agg(pl.sum('one'))['one'].value_counts().sort(by='one')\n",
    "match_id"
   ]
  },
  {
   "cell_type": "code",
   "execution_count": 5,
   "metadata": {},
   "outputs": [
    {
     "data": {
      "text/html": [
       "<div><style>\n",
       ".dataframe > thead > tr,\n",
       ".dataframe > tbody > tr {\n",
       "  text-align: right;\n",
       "  white-space: pre-wrap;\n",
       "}\n",
       "</style>\n",
       "<small>shape: (26_400, 29)</small><table border=\"1\" class=\"dataframe\"><thead><tr><th>country</th><th>player</th><th>player_id</th><th>season</th><th>match_id</th><th>Player</th><th>Mat</th><th>Inns</th><th>Batting Runs</th><th>SR</th><th>Ave</th><th>Country</th><th>Cum batting Ave</th><th>Cum battings Runs Total</th><th>Cum Inns Total</th><th>Cum SR</th><th>Overs</th><th>Bowling_Runs</th><th>Wkts</th><th>Econ</th><th>Cumulative Overs</th><th>Cumulative Wkts</th><th>Cumulative Runs</th><th>Cumulative Inns</th><th>Cumulative Econ</th><th>Dis</th><th>Ct</th><th>St</th><th>D/I</th></tr><tr><td>str</td><td>str</td><td>str</td><td>str</td><td>i64</td><td>str</td><td>i64</td><td>f64</td><td>f64</td><td>f64</td><td>f64</td><td>str</td><td>f64</td><td>f64</td><td>f64</td><td>f64</td><td>f64</td><td>f64</td><td>f64</td><td>f64</td><td>f64</td><td>f64</td><td>f64</td><td>f64</td><td>f64</td><td>f64</td><td>f64</td><td>f64</td><td>f64</td></tr></thead><tbody><tr><td>&quot;Australia&quot;</td><td>&quot;AC Gilchrist&quot;</td><td>&quot;2b6e6dec&quot;</td><td>&quot;2005&quot;</td><td>211028</td><td>&quot;AC Gilchrist&quot;</td><td>1</td><td>1.0</td><td>15.0</td><td>107.14</td><td>15.0</td><td>&quot;Australia&quot;</td><td>8.0</td><td>16.0</td><td>2.0</td><td>70.24</td><td>0.0</td><td>0.0</td><td>0.0</td><td>0.0</td><td>0.0</td><td>0.0</td><td>0.0</td><td>0.0</td><td>0.0</td><td>0.0</td><td>0.0</td><td>0.0</td><td>0.0</td></tr><tr><td>&quot;Australia&quot;</td><td>&quot;ML Hayden&quot;</td><td>&quot;d8699ab7&quot;</td><td>&quot;2005&quot;</td><td>211028</td><td>&quot;ML Hayden&quot;</td><td>1</td><td>1.0</td><td>6.0</td><td>150.0</td><td>6.0</td><td>&quot;Australia&quot;</td><td>6.0</td><td>6.0</td><td>1.0</td><td>150.0</td><td>0.0</td><td>0.0</td><td>0.0</td><td>0.0</td><td>0.0</td><td>0.0</td><td>0.0</td><td>0.0</td><td>0.0</td><td>1.0</td><td>1.0</td><td>0.0</td><td>1.0</td></tr><tr><td>&quot;Australia&quot;</td><td>&quot;A Symonds&quot;</td><td>&quot;bd77eb62&quot;</td><td>&quot;2005&quot;</td><td>211028</td><td>&quot;A Symonds&quot;</td><td>1</td><td>1.0</td><td>0.0</td><td>0.0</td><td>0.0</td><td>&quot;Australia&quot;</td><td>16.0</td><td>32.0</td><td>2.0</td><td>123.08</td><td>3.0</td><td>14.0</td><td>2.0</td><td>4.66</td><td>6.0</td><td>3.0</td><td>47.0</td><td>2.0</td><td>23.5</td><td>1.0</td><td>1.0</td><td>0.0</td><td>0.5</td></tr><tr><td>&quot;Australia&quot;</td><td>&quot;MJ Clarke&quot;</td><td>&quot;f842c2cf&quot;</td><td>&quot;2005&quot;</td><td>211028</td><td>&quot;MJ Clarke&quot;</td><td>1</td><td>1.0</td><td>0.0</td><td>0.0</td><td>0.0</td><td>&quot;Australia&quot;</td><td>3.5</td><td>7.0</td><td>2.0</td><td>87.5</td><td>3.0</td><td>25.0</td><td>1.0</td><td>8.33</td><td>5.0</td><td>1.0</td><td>36.0</td><td>2.0</td><td>18.0</td><td>0.0</td><td>0.0</td><td>0.0</td><td>0.0</td></tr><tr><td>&quot;Australia&quot;</td><td>&quot;MEK Hussey&quot;</td><td>&quot;48fd7349&quot;</td><td>&quot;2005&quot;</td><td>211028</td><td>&quot;MEK Hussey&quot;</td><td>1</td><td>1.0</td><td>1.0</td><td>16.66</td><td>1.0</td><td>&quot;Australia&quot;</td><td>16.0</td><td>32.0</td><td>2.0</td><td>111.66</td><td>0.0</td><td>0.0</td><td>0.0</td><td>0.0</td><td>0.0</td><td>0.0</td><td>0.0</td><td>0.0</td><td>0.0</td><td>3.0</td><td>3.0</td><td>0.0</td><td>1.5</td></tr><tr><td>&hellip;</td><td>&hellip;</td><td>&hellip;</td><td>&hellip;</td><td>&hellip;</td><td>&hellip;</td><td>&hellip;</td><td>&hellip;</td><td>&hellip;</td><td>&hellip;</td><td>&hellip;</td><td>&hellip;</td><td>&hellip;</td><td>&hellip;</td><td>&hellip;</td><td>&hellip;</td><td>&hellip;</td><td>&hellip;</td><td>&hellip;</td><td>&hellip;</td><td>&hellip;</td><td>&hellip;</td><td>&hellip;</td><td>&hellip;</td><td>&hellip;</td><td>&hellip;</td><td>&hellip;</td><td>&hellip;</td><td>&hellip;</td></tr><tr><td>&quot;Malawi&quot;</td><td>&quot;GM Ntambalika&quot;</td><td>&quot;8c8a3f08&quot;</td><td>&quot;2024&quot;</td><td>1450765</td><td>&quot;GM Ntambalika&quot;</td><td>6</td><td>3.0</td><td>56.0</td><td>121.73</td><td>28.0</td><td>&quot;Malawi&quot;</td><td>12.68</td><td>174.0</td><td>17.0</td><td>75.14</td><td>0.0</td><td>0.0</td><td>0.0</td><td>0.0</td><td>24.0</td><td>9.0</td><td>171.0</td><td>9.0</td><td>19.0</td><td>8.0</td><td>8.0</td><td>0.0</td><td>0.275862</td></tr><tr><td>&quot;Malawi&quot;</td><td>&quot;D Jakiel&quot;</td><td>&quot;8b7ce771&quot;</td><td>&quot;2024&quot;</td><td>1450765</td><td>&quot;D Jakiel&quot;</td><td>10</td><td>3.0</td><td>41.0</td><td>95.34</td><td>20.5</td><td>&quot;Malawi&quot;</td><td>21.43</td><td>131.0</td><td>15.0</td><td>108.89</td><td>37.5</td><td>219.0</td><td>15.0</td><td>5.78</td><td>104.5</td><td>38.0</td><td>672.0</td><td>28.0</td><td>24.0</td><td>10.0</td><td>10.0</td><td>0.0</td><td>0.357143</td></tr><tr><td>&quot;Malawi&quot;</td><td>&quot;P Zuze&quot;</td><td>&quot;04420914&quot;</td><td>&quot;2024&quot;</td><td>1450765</td><td>&quot;P Zuze&quot;</td><td>9</td><td>4.0</td><td>9.0</td><td>45.0</td><td>2.25</td><td>&quot;Malawi&quot;</td><td>3.5</td><td>21.0</td><td>6.0</td><td>55.83</td><td>0.0</td><td>0.0</td><td>0.0</td><td>0.0</td><td>0.0</td><td>0.0</td><td>0.0</td><td>0.0</td><td>0.0</td><td>12.0</td><td>12.0</td><td>0.0</td><td>0.923077</td></tr><tr><td>&quot;Malawi&quot;</td><td>&quot;SZ Vayani&quot;</td><td>&quot;a4afc486&quot;</td><td>&quot;2024&quot;</td><td>1450765</td><td>&quot;SZ Vayani&quot;</td><td>10</td><td>2.0</td><td>7.0</td><td>43.75</td><td>7.0</td><td>&quot;Malawi&quot;</td><td>3.75</td><td>8.0</td><td>4.0</td><td>31.25</td><td>33.0</td><td>203.0</td><td>17.0</td><td>6.15</td><td>55.0</td><td>24.0</td><td>327.0</td><td>17.0</td><td>19.235294</td><td>3.0</td><td>3.0</td><td>0.0</td><td>0.166667</td></tr><tr><td>&quot;Malawi&quot;</td><td>&quot;B Pondani&quot;</td><td>&quot;e5117568&quot;</td><td>&quot;2024&quot;</td><td>1450765</td><td>&quot;B Pondani&quot;</td><td>9</td><td>1.0</td><td>0.0</td><td>0.0</td><td>0.0</td><td>&quot;Malawi&quot;</td><td>0.0</td><td>0.0</td><td>2.0</td><td>0.0</td><td>26.3</td><td>205.0</td><td>7.0</td><td>7.73</td><td>73.3</td><td>15.0</td><td>500.0</td><td>25.0</td><td>20.0</td><td>4.0</td><td>4.0</td><td>0.0</td><td>0.137931</td></tr></tbody></table></div>"
      ],
      "text/plain": [
       "shape: (26_400, 29)\n",
       "┌───────────┬───────────────┬───────────┬────────┬───┬──────┬──────┬─────┬──────────┐\n",
       "│ country   ┆ player        ┆ player_id ┆ season ┆ … ┆ Dis  ┆ Ct   ┆ St  ┆ D/I      │\n",
       "│ ---       ┆ ---           ┆ ---       ┆ ---    ┆   ┆ ---  ┆ ---  ┆ --- ┆ ---      │\n",
       "│ str       ┆ str           ┆ str       ┆ str    ┆   ┆ f64  ┆ f64  ┆ f64 ┆ f64      │\n",
       "╞═══════════╪═══════════════╪═══════════╪════════╪═══╪══════╪══════╪═════╪══════════╡\n",
       "│ Australia ┆ AC Gilchrist  ┆ 2b6e6dec  ┆ 2005   ┆ … ┆ 0.0  ┆ 0.0  ┆ 0.0 ┆ 0.0      │\n",
       "│ Australia ┆ ML Hayden     ┆ d8699ab7  ┆ 2005   ┆ … ┆ 1.0  ┆ 1.0  ┆ 0.0 ┆ 1.0      │\n",
       "│ Australia ┆ A Symonds     ┆ bd77eb62  ┆ 2005   ┆ … ┆ 1.0  ┆ 1.0  ┆ 0.0 ┆ 0.5      │\n",
       "│ Australia ┆ MJ Clarke     ┆ f842c2cf  ┆ 2005   ┆ … ┆ 0.0  ┆ 0.0  ┆ 0.0 ┆ 0.0      │\n",
       "│ Australia ┆ MEK Hussey    ┆ 48fd7349  ┆ 2005   ┆ … ┆ 3.0  ┆ 3.0  ┆ 0.0 ┆ 1.5      │\n",
       "│ …         ┆ …             ┆ …         ┆ …      ┆ … ┆ …    ┆ …    ┆ …   ┆ …        │\n",
       "│ Malawi    ┆ GM Ntambalika ┆ 8c8a3f08  ┆ 2024   ┆ … ┆ 8.0  ┆ 8.0  ┆ 0.0 ┆ 0.275862 │\n",
       "│ Malawi    ┆ D Jakiel      ┆ 8b7ce771  ┆ 2024   ┆ … ┆ 10.0 ┆ 10.0 ┆ 0.0 ┆ 0.357143 │\n",
       "│ Malawi    ┆ P Zuze        ┆ 04420914  ┆ 2024   ┆ … ┆ 12.0 ┆ 12.0 ┆ 0.0 ┆ 0.923077 │\n",
       "│ Malawi    ┆ SZ Vayani     ┆ a4afc486  ┆ 2024   ┆ … ┆ 3.0  ┆ 3.0  ┆ 0.0 ┆ 0.166667 │\n",
       "│ Malawi    ┆ B Pondani     ┆ e5117568  ┆ 2024   ┆ … ┆ 4.0  ┆ 4.0  ┆ 0.0 ┆ 0.137931 │\n",
       "└───────────┴───────────────┴───────────┴────────┴───┴──────┴──────┴─────┴──────────┘"
      ]
     },
     "execution_count": 5,
     "metadata": {},
     "output_type": "execute_result"
    }
   ],
   "source": [
    "matchPlayersStats = matchPlayersStats.filter(pl.col('match_id').is_in(match_id))\n",
    "matchPlayersStats"
   ]
  },
  {
   "cell_type": "code",
   "execution_count": 6,
   "metadata": {},
   "outputs": [
    {
     "data": {
      "text/html": [
       "<div><style>\n",
       ".dataframe > thead > tr,\n",
       ".dataframe > tbody > tr {\n",
       "  text-align: right;\n",
       "  white-space: pre-wrap;\n",
       "}\n",
       "</style>\n",
       "<small>shape: (26_400, 23)</small><table border=\"1\" class=\"dataframe\"><thead><tr><th>match_id</th><th>Mat</th><th>Inns</th><th>Batting Runs</th><th>SR</th><th>Ave</th><th>Cum batting Ave</th><th>Cum battings Runs Total</th><th>Cum Inns Total</th><th>Cum SR</th><th>Overs</th><th>Bowling_Runs</th><th>Wkts</th><th>Econ</th><th>Cumulative Overs</th><th>Cumulative Wkts</th><th>Cumulative Runs</th><th>Cumulative Inns</th><th>Cumulative Econ</th><th>Dis</th><th>Ct</th><th>St</th><th>D/I</th></tr><tr><td>i64</td><td>i64</td><td>f64</td><td>f64</td><td>f64</td><td>f64</td><td>f64</td><td>f64</td><td>f64</td><td>f64</td><td>f64</td><td>f64</td><td>f64</td><td>f64</td><td>f64</td><td>f64</td><td>f64</td><td>f64</td><td>f64</td><td>f64</td><td>f64</td><td>f64</td><td>f64</td></tr></thead><tbody><tr><td>211028</td><td>1</td><td>1.0</td><td>15.0</td><td>107.14</td><td>15.0</td><td>8.0</td><td>16.0</td><td>2.0</td><td>70.24</td><td>0.0</td><td>0.0</td><td>0.0</td><td>0.0</td><td>0.0</td><td>0.0</td><td>0.0</td><td>0.0</td><td>0.0</td><td>0.0</td><td>0.0</td><td>0.0</td><td>0.0</td></tr><tr><td>211028</td><td>1</td><td>1.0</td><td>6.0</td><td>150.0</td><td>6.0</td><td>6.0</td><td>6.0</td><td>1.0</td><td>150.0</td><td>0.0</td><td>0.0</td><td>0.0</td><td>0.0</td><td>0.0</td><td>0.0</td><td>0.0</td><td>0.0</td><td>0.0</td><td>1.0</td><td>1.0</td><td>0.0</td><td>1.0</td></tr><tr><td>211028</td><td>1</td><td>1.0</td><td>0.0</td><td>0.0</td><td>0.0</td><td>16.0</td><td>32.0</td><td>2.0</td><td>123.08</td><td>3.0</td><td>14.0</td><td>2.0</td><td>4.66</td><td>6.0</td><td>3.0</td><td>47.0</td><td>2.0</td><td>23.5</td><td>1.0</td><td>1.0</td><td>0.0</td><td>0.5</td></tr><tr><td>211028</td><td>1</td><td>1.0</td><td>0.0</td><td>0.0</td><td>0.0</td><td>3.5</td><td>7.0</td><td>2.0</td><td>87.5</td><td>3.0</td><td>25.0</td><td>1.0</td><td>8.33</td><td>5.0</td><td>1.0</td><td>36.0</td><td>2.0</td><td>18.0</td><td>0.0</td><td>0.0</td><td>0.0</td><td>0.0</td></tr><tr><td>211028</td><td>1</td><td>1.0</td><td>1.0</td><td>16.66</td><td>1.0</td><td>16.0</td><td>32.0</td><td>2.0</td><td>111.66</td><td>0.0</td><td>0.0</td><td>0.0</td><td>0.0</td><td>0.0</td><td>0.0</td><td>0.0</td><td>0.0</td><td>0.0</td><td>3.0</td><td>3.0</td><td>0.0</td><td>1.5</td></tr><tr><td>&hellip;</td><td>&hellip;</td><td>&hellip;</td><td>&hellip;</td><td>&hellip;</td><td>&hellip;</td><td>&hellip;</td><td>&hellip;</td><td>&hellip;</td><td>&hellip;</td><td>&hellip;</td><td>&hellip;</td><td>&hellip;</td><td>&hellip;</td><td>&hellip;</td><td>&hellip;</td><td>&hellip;</td><td>&hellip;</td><td>&hellip;</td><td>&hellip;</td><td>&hellip;</td><td>&hellip;</td><td>&hellip;</td></tr><tr><td>1450765</td><td>6</td><td>3.0</td><td>56.0</td><td>121.73</td><td>28.0</td><td>12.68</td><td>174.0</td><td>17.0</td><td>75.14</td><td>0.0</td><td>0.0</td><td>0.0</td><td>0.0</td><td>24.0</td><td>9.0</td><td>171.0</td><td>9.0</td><td>19.0</td><td>8.0</td><td>8.0</td><td>0.0</td><td>0.275862</td></tr><tr><td>1450765</td><td>10</td><td>3.0</td><td>41.0</td><td>95.34</td><td>20.5</td><td>21.43</td><td>131.0</td><td>15.0</td><td>108.89</td><td>37.5</td><td>219.0</td><td>15.0</td><td>5.78</td><td>104.5</td><td>38.0</td><td>672.0</td><td>28.0</td><td>24.0</td><td>10.0</td><td>10.0</td><td>0.0</td><td>0.357143</td></tr><tr><td>1450765</td><td>9</td><td>4.0</td><td>9.0</td><td>45.0</td><td>2.25</td><td>3.5</td><td>21.0</td><td>6.0</td><td>55.83</td><td>0.0</td><td>0.0</td><td>0.0</td><td>0.0</td><td>0.0</td><td>0.0</td><td>0.0</td><td>0.0</td><td>0.0</td><td>12.0</td><td>12.0</td><td>0.0</td><td>0.923077</td></tr><tr><td>1450765</td><td>10</td><td>2.0</td><td>7.0</td><td>43.75</td><td>7.0</td><td>3.75</td><td>8.0</td><td>4.0</td><td>31.25</td><td>33.0</td><td>203.0</td><td>17.0</td><td>6.15</td><td>55.0</td><td>24.0</td><td>327.0</td><td>17.0</td><td>19.235294</td><td>3.0</td><td>3.0</td><td>0.0</td><td>0.166667</td></tr><tr><td>1450765</td><td>9</td><td>1.0</td><td>0.0</td><td>0.0</td><td>0.0</td><td>0.0</td><td>0.0</td><td>2.0</td><td>0.0</td><td>26.3</td><td>205.0</td><td>7.0</td><td>7.73</td><td>73.3</td><td>15.0</td><td>500.0</td><td>25.0</td><td>20.0</td><td>4.0</td><td>4.0</td><td>0.0</td><td>0.137931</td></tr></tbody></table></div>"
      ],
      "text/plain": [
       "shape: (26_400, 23)\n",
       "┌──────────┬─────┬──────┬──────────────┬───┬──────┬──────┬─────┬──────────┐\n",
       "│ match_id ┆ Mat ┆ Inns ┆ Batting Runs ┆ … ┆ Dis  ┆ Ct   ┆ St  ┆ D/I      │\n",
       "│ ---      ┆ --- ┆ ---  ┆ ---          ┆   ┆ ---  ┆ ---  ┆ --- ┆ ---      │\n",
       "│ i64      ┆ i64 ┆ f64  ┆ f64          ┆   ┆ f64  ┆ f64  ┆ f64 ┆ f64      │\n",
       "╞══════════╪═════╪══════╪══════════════╪═══╪══════╪══════╪═════╪══════════╡\n",
       "│ 211028   ┆ 1   ┆ 1.0  ┆ 15.0         ┆ … ┆ 0.0  ┆ 0.0  ┆ 0.0 ┆ 0.0      │\n",
       "│ 211028   ┆ 1   ┆ 1.0  ┆ 6.0          ┆ … ┆ 1.0  ┆ 1.0  ┆ 0.0 ┆ 1.0      │\n",
       "│ 211028   ┆ 1   ┆ 1.0  ┆ 0.0          ┆ … ┆ 1.0  ┆ 1.0  ┆ 0.0 ┆ 0.5      │\n",
       "│ 211028   ┆ 1   ┆ 1.0  ┆ 0.0          ┆ … ┆ 0.0  ┆ 0.0  ┆ 0.0 ┆ 0.0      │\n",
       "│ 211028   ┆ 1   ┆ 1.0  ┆ 1.0          ┆ … ┆ 3.0  ┆ 3.0  ┆ 0.0 ┆ 1.5      │\n",
       "│ …        ┆ …   ┆ …    ┆ …            ┆ … ┆ …    ┆ …    ┆ …   ┆ …        │\n",
       "│ 1450765  ┆ 6   ┆ 3.0  ┆ 56.0         ┆ … ┆ 8.0  ┆ 8.0  ┆ 0.0 ┆ 0.275862 │\n",
       "│ 1450765  ┆ 10  ┆ 3.0  ┆ 41.0         ┆ … ┆ 10.0 ┆ 10.0 ┆ 0.0 ┆ 0.357143 │\n",
       "│ 1450765  ┆ 9   ┆ 4.0  ┆ 9.0          ┆ … ┆ 12.0 ┆ 12.0 ┆ 0.0 ┆ 0.923077 │\n",
       "│ 1450765  ┆ 10  ┆ 2.0  ┆ 7.0          ┆ … ┆ 3.0  ┆ 3.0  ┆ 0.0 ┆ 0.166667 │\n",
       "│ 1450765  ┆ 9   ┆ 1.0  ┆ 0.0          ┆ … ┆ 4.0  ┆ 4.0  ┆ 0.0 ┆ 0.137931 │\n",
       "└──────────┴─────┴──────┴──────────────┴───┴──────┴──────┴─────┴──────────┘"
      ]
     },
     "execution_count": 6,
     "metadata": {},
     "output_type": "execute_result"
    }
   ],
   "source": [
    "matchPlayersStats = matchPlayersStats.drop(['country','player','player_id','season','Player','Country'])\n",
    "matchPlayersStats"
   ]
  },
  {
   "cell_type": "code",
   "execution_count": 7,
   "metadata": {},
   "outputs": [
    {
     "data": {
      "text/plain": [
       "(26400, 23)"
      ]
     },
     "execution_count": 7,
     "metadata": {},
     "output_type": "execute_result"
    }
   ],
   "source": [
    "matchPlayersStats.shape"
   ]
  },
  {
   "cell_type": "code",
   "execution_count": 8,
   "metadata": {},
   "outputs": [
    {
     "data": {
      "text/plain": [
       "(600, 2, 22, 23)"
      ]
     },
     "execution_count": 8,
     "metadata": {},
     "output_type": "execute_result"
    }
   ],
   "source": [
    "playerStats = matchPlayersStats.to_numpy().reshape(-1,22,matchPlayersStats.width)\n",
    "playerStats.shape"
   ]
  },
  {
   "cell_type": "code",
   "execution_count": 8,
   "metadata": {},
   "outputs": [
    {
     "data": {
      "text/plain": [
       "((22, 23),\n",
       " array([[2.11028e+05, 1.00000e+00, 1.00000e+00, 1.50000e+01, 1.07140e+02,\n",
       "         1.50000e+01, 8.00000e+00, 1.60000e+01, 2.00000e+00, 7.02400e+01,\n",
       "         0.00000e+00, 0.00000e+00, 0.00000e+00, 0.00000e+00, 0.00000e+00,\n",
       "         0.00000e+00, 0.00000e+00, 0.00000e+00, 0.00000e+00, 0.00000e+00,\n",
       "         0.00000e+00, 0.00000e+00, 0.00000e+00],\n",
       "        [2.11028e+05, 1.00000e+00, 1.00000e+00, 6.00000e+00, 1.50000e+02,\n",
       "         6.00000e+00, 6.00000e+00, 6.00000e+00, 1.00000e+00, 1.50000e+02,\n",
       "         0.00000e+00, 0.00000e+00, 0.00000e+00, 0.00000e+00, 0.00000e+00,\n",
       "         0.00000e+00, 0.00000e+00, 0.00000e+00, 0.00000e+00, 1.00000e+00,\n",
       "         1.00000e+00, 0.00000e+00, 1.00000e+00],\n",
       "        [2.11028e+05, 1.00000e+00, 1.00000e+00, 0.00000e+00, 0.00000e+00,\n",
       "         0.00000e+00, 1.60000e+01, 3.20000e+01, 2.00000e+00, 1.23080e+02,\n",
       "         3.00000e+00, 1.40000e+01, 2.00000e+00, 4.66000e+00, 6.00000e+00,\n",
       "         3.00000e+00, 4.70000e+01, 2.00000e+00, 2.35000e+01, 1.00000e+00,\n",
       "         1.00000e+00, 0.00000e+00, 5.00000e-01],\n",
       "        [2.11028e+05, 1.00000e+00, 1.00000e+00, 0.00000e+00, 0.00000e+00,\n",
       "         0.00000e+00, 3.50000e+00, 7.00000e+00, 2.00000e+00, 8.75000e+01,\n",
       "         3.00000e+00, 2.50000e+01, 1.00000e+00, 8.33000e+00, 5.00000e+00,\n",
       "         1.00000e+00, 3.60000e+01, 2.00000e+00, 1.80000e+01, 0.00000e+00,\n",
       "         0.00000e+00, 0.00000e+00, 0.00000e+00],\n",
       "        [2.11028e+05, 1.00000e+00, 1.00000e+00, 1.00000e+00, 1.66600e+01,\n",
       "         1.00000e+00, 1.60000e+01, 3.20000e+01, 2.00000e+00, 1.11660e+02,\n",
       "         0.00000e+00, 0.00000e+00, 0.00000e+00, 0.00000e+00, 0.00000e+00,\n",
       "         0.00000e+00, 0.00000e+00, 0.00000e+00, 0.00000e+00, 3.00000e+00,\n",
       "         3.00000e+00, 0.00000e+00, 1.50000e+00],\n",
       "        [2.11028e+05, 1.00000e+00, 1.00000e+00, 0.00000e+00, 0.00000e+00,\n",
       "         0.00000e+00, 4.90000e+01, 9.80000e+01, 2.00000e+00, 8.90900e+01,\n",
       "         0.00000e+00, 0.00000e+00, 0.00000e+00, 0.00000e+00, 0.00000e+00,\n",
       "         0.00000e+00, 0.00000e+00, 0.00000e+00, 0.00000e+00, 3.00000e+00,\n",
       "         3.00000e+00, 0.00000e+00, 1.50000e+00],\n",
       "        [2.11028e+05, 1.00000e+00, 1.00000e+00, 4.00000e+00, 1.00000e+02,\n",
       "         4.00000e+00, 3.50000e+00, 7.00000e+00, 2.00000e+00, 8.00000e+01,\n",
       "         0.00000e+00, 0.00000e+00, 0.00000e+00, 0.00000e+00, 0.00000e+00,\n",
       "         0.00000e+00, 0.00000e+00, 0.00000e+00, 0.00000e+00, 0.00000e+00,\n",
       "         0.00000e+00, 0.00000e+00, 0.00000e+00],\n",
       "        [2.11028e+05, 1.00000e+00, 1.00000e+00, 1.50000e+01, 7.50000e+01,\n",
       "         1.50000e+01, 1.50000e+01, 1.50000e+01, 1.00000e+00, 3.75000e+01,\n",
       "         3.00000e+00, 3.10000e+01, 0.00000e+00, 1.03300e+01, 7.00000e+00,\n",
       "         1.00000e+00, 5.70000e+01, 2.00000e+00, 2.85000e+01, 0.00000e+00,\n",
       "         0.00000e+00, 0.00000e+00, 0.00000e+00],\n",
       "        [2.11028e+05, 1.00000e+00, 1.00000e+00, 2.40000e+01, 1.33330e+02,\n",
       "         2.40000e+01, 2.40000e+01, 2.40000e+01, 1.00000e+00, 1.33330e+02,\n",
       "         4.00000e+00, 4.90000e+01, 1.00000e+00, 1.22500e+01, 4.00000e+00,\n",
       "         1.00000e+00, 4.90000e+01, 1.00000e+00, 4.90000e+01, 0.00000e+00,\n",
       "         0.00000e+00, 0.00000e+00, 0.00000e+00],\n",
       "        [2.11028e+05, 1.00000e+00, 1.00000e+00, 3.00000e+00, 6.00000e+01,\n",
       "         3.00000e+00, 3.00000e+00, 3.00000e+00, 1.00000e+00, 3.00000e+01,\n",
       "         3.00000e+00, 2.80000e+01, 1.00000e+00, 9.33000e+00, 7.00000e+00,\n",
       "         5.00000e+00, 5.70000e+01, 2.00000e+00, 2.85000e+01, 2.00000e+00,\n",
       "         2.00000e+00, 0.00000e+00, 1.00000e+00],\n",
       "        [2.11028e+05, 1.00000e+00, 1.00000e+00, 5.00000e+00, 4.16600e+01,\n",
       "         5.00000e+00, 5.00000e+00, 5.00000e+00, 1.00000e+00, 2.08300e+01,\n",
       "         4.00000e+00, 3.10000e+01, 3.00000e+00, 7.75000e+00, 8.00000e+00,\n",
       "         5.00000e+00, 7.90000e+01, 2.00000e+00, 3.95000e+01, 1.00000e+00,\n",
       "         1.00000e+00, 0.00000e+00, 5.00000e-01],\n",
       "        [2.11028e+05, 1.00000e+00, 1.00000e+00, 4.10000e+01, 1.10810e+02,\n",
       "         4.10000e+01, 4.10000e+01, 4.10000e+01, 1.00000e+00, 1.10810e+02,\n",
       "         0.00000e+00, 0.00000e+00, 0.00000e+00, 0.00000e+00, 0.00000e+00,\n",
       "         0.00000e+00, 0.00000e+00, 0.00000e+00, 0.00000e+00, 2.00000e+00,\n",
       "         2.00000e+00, 0.00000e+00, 2.00000e+00],\n",
       "        [2.11028e+05, 1.00000e+00, 1.00000e+00, 1.90000e+01, 1.35710e+02,\n",
       "         1.90000e+01, 1.90000e+01, 1.90000e+01, 1.00000e+00, 1.35710e+02,\n",
       "         0.00000e+00, 0.00000e+00, 0.00000e+00, 0.00000e+00, 0.00000e+00,\n",
       "         0.00000e+00, 0.00000e+00, 0.00000e+00, 0.00000e+00, 1.00000e+00,\n",
       "         1.00000e+00, 0.00000e+00, 1.00000e+00],\n",
       "        [2.11028e+05, 1.00000e+00, 1.00000e+00, 6.00000e+00, 1.20000e+02,\n",
       "         6.00000e+00, 6.00000e+00, 6.00000e+00, 1.00000e+00, 1.20000e+02,\n",
       "         3.00000e+00, 1.50000e+01, 0.00000e+00, 5.00000e+00, 3.00000e+00,\n",
       "         0.00000e+00, 1.50000e+01, 1.00000e+00, 1.50000e+01, 1.00000e+00,\n",
       "         1.00000e+00, 0.00000e+00, 1.00000e+00],\n",
       "        [2.11028e+05, 1.00000e+00, 1.00000e+00, 3.40000e+01, 1.88880e+02,\n",
       "         3.40000e+01, 3.40000e+01, 3.40000e+01, 1.00000e+00, 1.88880e+02,\n",
       "         0.00000e+00, 0.00000e+00, 0.00000e+00, 0.00000e+00, 0.00000e+00,\n",
       "         0.00000e+00, 0.00000e+00, 0.00000e+00, 0.00000e+00, 3.00000e+00,\n",
       "         3.00000e+00, 0.00000e+00, 3.00000e+00],\n",
       "        [2.11028e+05, 1.00000e+00, 1.00000e+00, 0.00000e+00, 0.00000e+00,\n",
       "         0.00000e+00, 0.00000e+00, 0.00000e+00, 1.00000e+00, 0.00000e+00,\n",
       "         0.00000e+00, 0.00000e+00, 0.00000e+00, 0.00000e+00, 0.00000e+00,\n",
       "         0.00000e+00, 0.00000e+00, 0.00000e+00, 0.00000e+00, 0.00000e+00,\n",
       "         0.00000e+00, 0.00000e+00, 0.00000e+00],\n",
       "        [2.11028e+05, 1.00000e+00, 1.00000e+00, 4.60000e+01, 1.76920e+02,\n",
       "         4.60000e+01, 4.60000e+01, 4.60000e+01, 1.00000e+00, 1.76920e+02,\n",
       "         2.00000e+00, 8.00000e+00, 2.00000e+00, 4.00000e+00, 2.00000e+00,\n",
       "         2.00000e+00, 8.00000e+00, 1.00000e+00, 8.00000e+00, 0.00000e+00,\n",
       "         0.00000e+00, 0.00000e+00, 0.00000e+00],\n",
       "        [2.11028e+05, 1.00000e+00, 1.00000e+00, 1.80000e+01, 1.12500e+02,\n",
       "         1.80000e+01, 1.80000e+01, 1.80000e+01, 1.00000e+00, 1.12500e+02,\n",
       "         0.00000e+00, 0.00000e+00, 0.00000e+00, 0.00000e+00, 0.00000e+00,\n",
       "         0.00000e+00, 0.00000e+00, 0.00000e+00, 0.00000e+00, 0.00000e+00,\n",
       "         0.00000e+00, 0.00000e+00, 0.00000e+00],\n",
       "        [2.11028e+05, 1.00000e+00, 1.00000e+00, 9.00000e+00, 1.80000e+02,\n",
       "         9.00000e+00, 9.00000e+00, 9.00000e+00, 1.00000e+00, 1.80000e+02,\n",
       "         0.00000e+00, 0.00000e+00, 0.00000e+00, 0.00000e+00, 0.00000e+00,\n",
       "         0.00000e+00, 0.00000e+00, 0.00000e+00, 0.00000e+00, 1.00000e+00,\n",
       "         1.00000e+00, 0.00000e+00, 1.00000e+00],\n",
       "        [2.11028e+05, 1.00000e+00, 1.00000e+00, 0.00000e+00, 0.00000e+00,\n",
       "         0.00000e+00, 0.00000e+00, 0.00000e+00, 1.00000e+00, 0.00000e+00,\n",
       "         4.00000e+00, 2.40000e+01, 4.00000e+00, 6.00000e+00, 4.00000e+00,\n",
       "         4.00000e+00, 2.40000e+01, 1.00000e+00, 2.40000e+01, 0.00000e+00,\n",
       "         0.00000e+00, 0.00000e+00, 0.00000e+00],\n",
       "        [2.11028e+05, 1.00000e+00, 0.00000e+00, 0.00000e+00, 0.00000e+00,\n",
       "         0.00000e+00, 0.00000e+00, 0.00000e+00, 0.00000e+00, 0.00000e+00,\n",
       "         3.00000e+00, 1.60000e+01, 3.00000e+00, 5.33000e+00, 3.00000e+00,\n",
       "         3.00000e+00, 1.60000e+01, 1.00000e+00, 1.60000e+01, 0.00000e+00,\n",
       "         0.00000e+00, 0.00000e+00, 0.00000e+00],\n",
       "        [2.11028e+05, 1.00000e+00, 0.00000e+00, 0.00000e+00, 0.00000e+00,\n",
       "         0.00000e+00, 0.00000e+00, 0.00000e+00, 0.00000e+00, 0.00000e+00,\n",
       "         2.30000e+00, 1.30000e+01, 1.00000e+00, 5.20000e+00, 2.30000e+00,\n",
       "         1.00000e+00, 1.30000e+01, 1.00000e+00, 1.30000e+01, 1.00000e+00,\n",
       "         1.00000e+00, 0.00000e+00, 1.00000e+00]]))"
      ]
     },
     "execution_count": 8,
     "metadata": {},
     "output_type": "execute_result"
    }
   ],
   "source": [
    "playerStats[0][:].shape, playerStats[0][:]"
   ]
  },
  {
   "cell_type": "code",
   "execution_count": 9,
   "metadata": {},
   "outputs": [],
   "source": [
    "import numpy as np\n",
    "directory = r'D:\\github\\localt20\\data\\aftermerging'  # for local\n",
    "np.save(os.path.join(directory, 'matchPlayerStats.npy'), playerStats)"
   ]
  },
  {
   "cell_type": "code",
   "execution_count": 10,
   "metadata": {},
   "outputs": [
    {
     "data": {
      "text/html": [
       "<div><style>\n",
       ".dataframe > thead > tr,\n",
       ".dataframe > tbody > tr {\n",
       "  text-align: right;\n",
       "  white-space: pre-wrap;\n",
       "}\n",
       "</style>\n",
       "<small>shape: (26_400, 23)</small><table border=\"1\" class=\"dataframe\"><thead><tr><th>match_id</th><th>Mat</th><th>Inns</th><th>Batting Runs</th><th>SR</th><th>Ave</th><th>Cum batting Ave</th><th>Cum battings Runs Total</th><th>Cum Inns Total</th><th>Cum SR</th><th>Overs</th><th>Bowling_Runs</th><th>Wkts</th><th>Econ</th><th>Cumulative Overs</th><th>Cumulative Wkts</th><th>Cumulative Runs</th><th>Cumulative Inns</th><th>Cumulative Econ</th><th>Dis</th><th>Ct</th><th>St</th><th>D/I</th></tr><tr><td>i64</td><td>i64</td><td>f64</td><td>f64</td><td>f64</td><td>f64</td><td>f64</td><td>f64</td><td>f64</td><td>f64</td><td>f64</td><td>f64</td><td>f64</td><td>f64</td><td>f64</td><td>f64</td><td>f64</td><td>f64</td><td>f64</td><td>f64</td><td>f64</td><td>f64</td><td>f64</td></tr></thead><tbody><tr><td>211028</td><td>1</td><td>1.0</td><td>15.0</td><td>107.14</td><td>15.0</td><td>8.0</td><td>16.0</td><td>2.0</td><td>70.24</td><td>0.0</td><td>0.0</td><td>0.0</td><td>0.0</td><td>0.0</td><td>0.0</td><td>0.0</td><td>0.0</td><td>0.0</td><td>0.0</td><td>0.0</td><td>0.0</td><td>0.0</td></tr><tr><td>211028</td><td>1</td><td>1.0</td><td>6.0</td><td>150.0</td><td>6.0</td><td>6.0</td><td>6.0</td><td>1.0</td><td>150.0</td><td>0.0</td><td>0.0</td><td>0.0</td><td>0.0</td><td>0.0</td><td>0.0</td><td>0.0</td><td>0.0</td><td>0.0</td><td>1.0</td><td>1.0</td><td>0.0</td><td>1.0</td></tr><tr><td>211028</td><td>1</td><td>1.0</td><td>0.0</td><td>0.0</td><td>0.0</td><td>16.0</td><td>32.0</td><td>2.0</td><td>123.08</td><td>3.0</td><td>14.0</td><td>2.0</td><td>4.66</td><td>6.0</td><td>3.0</td><td>47.0</td><td>2.0</td><td>23.5</td><td>1.0</td><td>1.0</td><td>0.0</td><td>0.5</td></tr><tr><td>211028</td><td>1</td><td>1.0</td><td>0.0</td><td>0.0</td><td>0.0</td><td>3.5</td><td>7.0</td><td>2.0</td><td>87.5</td><td>3.0</td><td>25.0</td><td>1.0</td><td>8.33</td><td>5.0</td><td>1.0</td><td>36.0</td><td>2.0</td><td>18.0</td><td>0.0</td><td>0.0</td><td>0.0</td><td>0.0</td></tr><tr><td>211028</td><td>1</td><td>1.0</td><td>1.0</td><td>16.66</td><td>1.0</td><td>16.0</td><td>32.0</td><td>2.0</td><td>111.66</td><td>0.0</td><td>0.0</td><td>0.0</td><td>0.0</td><td>0.0</td><td>0.0</td><td>0.0</td><td>0.0</td><td>0.0</td><td>3.0</td><td>3.0</td><td>0.0</td><td>1.5</td></tr><tr><td>&hellip;</td><td>&hellip;</td><td>&hellip;</td><td>&hellip;</td><td>&hellip;</td><td>&hellip;</td><td>&hellip;</td><td>&hellip;</td><td>&hellip;</td><td>&hellip;</td><td>&hellip;</td><td>&hellip;</td><td>&hellip;</td><td>&hellip;</td><td>&hellip;</td><td>&hellip;</td><td>&hellip;</td><td>&hellip;</td><td>&hellip;</td><td>&hellip;</td><td>&hellip;</td><td>&hellip;</td><td>&hellip;</td></tr><tr><td>1450765</td><td>6</td><td>3.0</td><td>56.0</td><td>121.73</td><td>28.0</td><td>12.68</td><td>174.0</td><td>17.0</td><td>75.14</td><td>0.0</td><td>0.0</td><td>0.0</td><td>0.0</td><td>24.0</td><td>9.0</td><td>171.0</td><td>9.0</td><td>19.0</td><td>8.0</td><td>8.0</td><td>0.0</td><td>0.275862</td></tr><tr><td>1450765</td><td>10</td><td>3.0</td><td>41.0</td><td>95.34</td><td>20.5</td><td>21.43</td><td>131.0</td><td>15.0</td><td>108.89</td><td>37.5</td><td>219.0</td><td>15.0</td><td>5.78</td><td>104.5</td><td>38.0</td><td>672.0</td><td>28.0</td><td>24.0</td><td>10.0</td><td>10.0</td><td>0.0</td><td>0.357143</td></tr><tr><td>1450765</td><td>9</td><td>4.0</td><td>9.0</td><td>45.0</td><td>2.25</td><td>3.5</td><td>21.0</td><td>6.0</td><td>55.83</td><td>0.0</td><td>0.0</td><td>0.0</td><td>0.0</td><td>0.0</td><td>0.0</td><td>0.0</td><td>0.0</td><td>0.0</td><td>12.0</td><td>12.0</td><td>0.0</td><td>0.923077</td></tr><tr><td>1450765</td><td>10</td><td>2.0</td><td>7.0</td><td>43.75</td><td>7.0</td><td>3.75</td><td>8.0</td><td>4.0</td><td>31.25</td><td>33.0</td><td>203.0</td><td>17.0</td><td>6.15</td><td>55.0</td><td>24.0</td><td>327.0</td><td>17.0</td><td>19.235294</td><td>3.0</td><td>3.0</td><td>0.0</td><td>0.166667</td></tr><tr><td>1450765</td><td>9</td><td>1.0</td><td>0.0</td><td>0.0</td><td>0.0</td><td>0.0</td><td>0.0</td><td>2.0</td><td>0.0</td><td>26.3</td><td>205.0</td><td>7.0</td><td>7.73</td><td>73.3</td><td>15.0</td><td>500.0</td><td>25.0</td><td>20.0</td><td>4.0</td><td>4.0</td><td>0.0</td><td>0.137931</td></tr></tbody></table></div>"
      ],
      "text/plain": [
       "shape: (26_400, 23)\n",
       "┌──────────┬─────┬──────┬──────────────┬───┬──────┬──────┬─────┬──────────┐\n",
       "│ match_id ┆ Mat ┆ Inns ┆ Batting Runs ┆ … ┆ Dis  ┆ Ct   ┆ St  ┆ D/I      │\n",
       "│ ---      ┆ --- ┆ ---  ┆ ---          ┆   ┆ ---  ┆ ---  ┆ --- ┆ ---      │\n",
       "│ i64      ┆ i64 ┆ f64  ┆ f64          ┆   ┆ f64  ┆ f64  ┆ f64 ┆ f64      │\n",
       "╞══════════╪═════╪══════╪══════════════╪═══╪══════╪══════╪═════╪══════════╡\n",
       "│ 211028   ┆ 1   ┆ 1.0  ┆ 15.0         ┆ … ┆ 0.0  ┆ 0.0  ┆ 0.0 ┆ 0.0      │\n",
       "│ 211028   ┆ 1   ┆ 1.0  ┆ 6.0          ┆ … ┆ 1.0  ┆ 1.0  ┆ 0.0 ┆ 1.0      │\n",
       "│ 211028   ┆ 1   ┆ 1.0  ┆ 0.0          ┆ … ┆ 1.0  ┆ 1.0  ┆ 0.0 ┆ 0.5      │\n",
       "│ 211028   ┆ 1   ┆ 1.0  ┆ 0.0          ┆ … ┆ 0.0  ┆ 0.0  ┆ 0.0 ┆ 0.0      │\n",
       "│ 211028   ┆ 1   ┆ 1.0  ┆ 1.0          ┆ … ┆ 3.0  ┆ 3.0  ┆ 0.0 ┆ 1.5      │\n",
       "│ …        ┆ …   ┆ …    ┆ …            ┆ … ┆ …    ┆ …    ┆ …   ┆ …        │\n",
       "│ 1450765  ┆ 6   ┆ 3.0  ┆ 56.0         ┆ … ┆ 8.0  ┆ 8.0  ┆ 0.0 ┆ 0.275862 │\n",
       "│ 1450765  ┆ 10  ┆ 3.0  ┆ 41.0         ┆ … ┆ 10.0 ┆ 10.0 ┆ 0.0 ┆ 0.357143 │\n",
       "│ 1450765  ┆ 9   ┆ 4.0  ┆ 9.0          ┆ … ┆ 12.0 ┆ 12.0 ┆ 0.0 ┆ 0.923077 │\n",
       "│ 1450765  ┆ 10  ┆ 2.0  ┆ 7.0          ┆ … ┆ 3.0  ┆ 3.0  ┆ 0.0 ┆ 0.166667 │\n",
       "│ 1450765  ┆ 9   ┆ 1.0  ┆ 0.0          ┆ … ┆ 4.0  ┆ 4.0  ┆ 0.0 ┆ 0.137931 │\n",
       "└──────────┴─────┴──────┴──────────────┴───┴──────┴──────┴─────┴──────────┘"
      ]
     },
     "execution_count": 10,
     "metadata": {},
     "output_type": "execute_result"
    }
   ],
   "source": [
    "matchPlayersStats"
   ]
  },
  {
   "cell_type": "code",
   "execution_count": null,
   "metadata": {},
   "outputs": [],
   "source": []
  }
 ],
 "metadata": {
  "kernelspec": {
   "display_name": "eda",
   "language": "python",
   "name": "python3"
  },
  "language_info": {
   "codemirror_mode": {
    "name": "ipython",
    "version": 3
   },
   "file_extension": ".py",
   "mimetype": "text/x-python",
   "name": "python",
   "nbconvert_exporter": "python",
   "pygments_lexer": "ipython3",
   "version": "3.8.19"
  }
 },
 "nbformat": 4,
 "nbformat_minor": 2
}
