{
 "cells": [
  {
   "cell_type": "code",
   "execution_count": 1,
   "metadata": {},
   "outputs": [
    {
     "data": {
      "text/html": [
       "<div><style>\n",
       ".dataframe > thead > tr,\n",
       ".dataframe > tbody > tr {\n",
       "  text-align: right;\n",
       "  white-space: pre-wrap;\n",
       "}\n",
       "</style>\n",
       "<small>shape: (82_808, 5)</small><table border=\"1\" class=\"dataframe\"><thead><tr><th>country</th><th>player</th><th>player_id</th><th>match_id</th><th>season</th></tr><tr><td>str</td><td>str</td><td>str</td><td>i64</td><td>str</td></tr></thead><tbody><tr><td>&quot;Australia&quot;</td><td>&quot;AJ Finch&quot;</td><td>&quot;b8d490fd&quot;</td><td>1001349</td><td>&quot;2016/17&quot;</td></tr><tr><td>&quot;Australia&quot;</td><td>&quot;M Klinger&quot;</td><td>&quot;b970a03f&quot;</td><td>1001349</td><td>&quot;2016/17&quot;</td></tr><tr><td>&quot;Australia&quot;</td><td>&quot;TM Head&quot;</td><td>&quot;12b610c2&quot;</td><td>1001349</td><td>&quot;2016/17&quot;</td></tr><tr><td>&quot;Australia&quot;</td><td>&quot;MC Henriques&quot;</td><td>&quot;32198ae0&quot;</td><td>1001349</td><td>&quot;2016/17&quot;</td></tr><tr><td>&quot;Australia&quot;</td><td>&quot;AJ Turner&quot;</td><td>&quot;ff1e12a0&quot;</td><td>1001349</td><td>&quot;2016/17&quot;</td></tr><tr><td>&hellip;</td><td>&hellip;</td><td>&hellip;</td><td>&hellip;</td><td>&hellip;</td></tr><tr><td>&quot;Sri Lanka&quot;</td><td>&quot;NLTC Perera&quot;</td><td>&quot;0f12f9df&quot;</td><td>995469</td><td>&quot;2016&quot;</td></tr><tr><td>&quot;Sri Lanka&quot;</td><td>&quot;SS Pathirana&quot;</td><td>&quot;753c95b9&quot;</td><td>995469</td><td>&quot;2016&quot;</td></tr><tr><td>&quot;Sri Lanka&quot;</td><td>&quot;S Prasanna&quot;</td><td>&quot;f78e7113&quot;</td><td>995469</td><td>&quot;2016&quot;</td></tr><tr><td>&quot;Sri Lanka&quot;</td><td>&quot;SMSM Senanayake&quot;</td><td>&quot;4c4fa80b&quot;</td><td>995469</td><td>&quot;2016&quot;</td></tr><tr><td>&quot;Sri Lanka&quot;</td><td>&quot;RAS Lakmal&quot;</td><td>&quot;2f28dc94&quot;</td><td>995469</td><td>&quot;2016&quot;</td></tr></tbody></table></div>"
      ],
      "text/plain": [
       "shape: (82_808, 5)\n",
       "┌───────────┬─────────────────┬───────────┬──────────┬─────────┐\n",
       "│ country   ┆ player          ┆ player_id ┆ match_id ┆ season  │\n",
       "│ ---       ┆ ---             ┆ ---       ┆ ---      ┆ ---     │\n",
       "│ str       ┆ str             ┆ str       ┆ i64      ┆ str     │\n",
       "╞═══════════╪═════════════════╪═══════════╪══════════╪═════════╡\n",
       "│ Australia ┆ AJ Finch        ┆ b8d490fd  ┆ 1001349  ┆ 2016/17 │\n",
       "│ Australia ┆ M Klinger       ┆ b970a03f  ┆ 1001349  ┆ 2016/17 │\n",
       "│ Australia ┆ TM Head         ┆ 12b610c2  ┆ 1001349  ┆ 2016/17 │\n",
       "│ Australia ┆ MC Henriques    ┆ 32198ae0  ┆ 1001349  ┆ 2016/17 │\n",
       "│ Australia ┆ AJ Turner       ┆ ff1e12a0  ┆ 1001349  ┆ 2016/17 │\n",
       "│ …         ┆ …               ┆ …         ┆ …        ┆ …       │\n",
       "│ Sri Lanka ┆ NLTC Perera     ┆ 0f12f9df  ┆ 995469   ┆ 2016    │\n",
       "│ Sri Lanka ┆ SS Pathirana    ┆ 753c95b9  ┆ 995469   ┆ 2016    │\n",
       "│ Sri Lanka ┆ S Prasanna      ┆ f78e7113  ┆ 995469   ┆ 2016    │\n",
       "│ Sri Lanka ┆ SMSM Senanayake ┆ 4c4fa80b  ┆ 995469   ┆ 2016    │\n",
       "│ Sri Lanka ┆ RAS Lakmal      ┆ 2f28dc94  ┆ 995469   ┆ 2016    │\n",
       "└───────────┴─────────────────┴───────────┴──────────┴─────────┘"
      ]
     },
     "execution_count": 1,
     "metadata": {},
     "output_type": "execute_result"
    }
   ],
   "source": [
    "import os\n",
    "directory = r'D:\\github\\localt20\\dataInHandNow\\afterpreprocessed'\n",
    "# directory = '/app/dataInHandNow/afterpreprocessed'  # for docker\n",
    "\n",
    "import polars as pl\n",
    "matches = pl.read_csv(os.path.join(directory, 'matches.csv'))\n",
    "deliveries = pl.read_parquet(os.path.join(directory, 'deliveries.parquet'))\n",
    "matchPlayers = pl.read_csv(os.path.join(directory, 'Matchplayers.csv'))\n",
    "playerStats = pl.read_csv(os.path.join(directory, 'playerStats.csv'))\n",
    "teamStats = pl.read_csv(os.path.join(directory, 'teamStats.csv'))\n",
    "matchPlayers"
   ]
  },
  {
   "cell_type": "code",
   "execution_count": 2,
   "metadata": {},
   "outputs": [
    {
     "data": {
      "text/html": [
       "<div><style>\n",
       ".dataframe > thead > tr,\n",
       ".dataframe > tbody > tr {\n",
       "  text-align: right;\n",
       "  white-space: pre-wrap;\n",
       "}\n",
       "</style>\n",
       "<small>shape: (52_083, 29)</small><table border=\"1\" class=\"dataframe\"><thead><tr><th>country</th><th>player</th><th>player_id</th><th>match_id</th><th>season</th><th>Player</th><th>Mat</th><th>Inns</th><th>Batting Runs</th><th>SR</th><th>Ave</th><th>Country</th><th>Cum batting Ave</th><th>Cum battings Runs Total</th><th>Cum Inns Total</th><th>Cum SR</th><th>Overs</th><th>Bowling_Runs</th><th>Wkts</th><th>Econ</th><th>Cumulative Overs</th><th>Cumulative Wkts</th><th>Cumulative Runs</th><th>Cumulative Inns</th><th>Cumulative Econ</th><th>Dis</th><th>Ct</th><th>St</th><th>D/I</th></tr><tr><td>str</td><td>str</td><td>str</td><td>i64</td><td>str</td><td>str</td><td>i64</td><td>f64</td><td>f64</td><td>f64</td><td>f64</td><td>str</td><td>f64</td><td>f64</td><td>f64</td><td>f64</td><td>f64</td><td>f64</td><td>f64</td><td>f64</td><td>f64</td><td>f64</td><td>f64</td><td>f64</td><td>f64</td><td>f64</td><td>f64</td><td>f64</td><td>f64</td></tr></thead><tbody><tr><td>&quot;Australia&quot;</td><td>&quot;AJ Finch&quot;</td><td>&quot;b8d490fd&quot;</td><td>1001349</td><td>&quot;2016/17&quot;</td><td>&quot;AJ Finch&quot;</td><td>3</td><td>3.0</td><td>108.0</td><td>142.1</td><td>36.0</td><td>&quot;Australia&quot;</td><td>35.93</td><td>1082.0</td><td>31.0</td><td>146.68</td><td>0.0</td><td>0.0</td><td>0.0</td><td>0.0</td><td>2.0</td><td>0.0</td><td>27.0</td><td>2.0</td><td>13.5</td><td>8.0</td><td>8.0</td><td>0.0</td><td>0.258065</td></tr><tr><td>&quot;Australia&quot;</td><td>&quot;M Klinger&quot;</td><td>&quot;b970a03f&quot;</td><td>1001349</td><td>&quot;2016/17&quot;</td><td>&quot;M Klinger&quot;</td><td>3</td><td>3.0</td><td>143.0</td><td>127.67</td><td>47.66</td><td>&quot;Australia&quot;</td><td>47.66</td><td>143.0</td><td>3.0</td><td>127.67</td><td>0.0</td><td>0.0</td><td>0.0</td><td>0.0</td><td>0.0</td><td>0.0</td><td>0.0</td><td>0.0</td><td>0.0</td><td>2.0</td><td>2.0</td><td>0.0</td><td>0.666667</td></tr><tr><td>&quot;Australia&quot;</td><td>&quot;TM Head&quot;</td><td>&quot;12b610c2&quot;</td><td>1001349</td><td>&quot;2016/17&quot;</td><td>&quot;TM Head&quot;</td><td>3</td><td>3.0</td><td>65.0</td><td>144.44</td><td>21.66</td><td>&quot;Australia&quot;</td><td>28.71</td><td>147.0</td><td>7.0</td><td>151.32</td><td>2.0</td><td>16.0</td><td>1.0</td><td>8.0</td><td>3.0</td><td>1.0</td><td>25.0</td><td>2.0</td><td>12.5</td><td>3.0</td><td>3.0</td><td>0.0</td><td>0.428571</td></tr><tr><td>&quot;Australia&quot;</td><td>&quot;MC Henriques&quot;</td><td>&quot;32198ae0&quot;</td><td>1001349</td><td>&quot;2016/17&quot;</td><td>&quot;MC Henriques&quot;</td><td>3</td><td>3.0</td><td>75.0</td><td>150.0</td><td>75.0</td><td>&quot;Australia&quot;</td><td>39.83</td><td>89.0</td><td>6.0</td><td>83.33</td><td>5.0</td><td>48.0</td><td>0.0</td><td>9.6</td><td>17.0</td><td>4.0</td><td>158.0</td><td>7.0</td><td>22.571429</td><td>2.0</td><td>2.0</td><td>0.0</td><td>0.222222</td></tr><tr><td>&quot;Australia&quot;</td><td>&quot;AJ Turner&quot;</td><td>&quot;ff1e12a0&quot;</td><td>1001349</td><td>&quot;2016/17&quot;</td><td>&quot;AJ Turner&quot;</td><td>3</td><td>3.0</td><td>26.0</td><td>123.8</td><td>8.66</td><td>&quot;Australia&quot;</td><td>8.66</td><td>26.0</td><td>3.0</td><td>123.8</td><td>6.0</td><td>42.0</td><td>3.0</td><td>7.0</td><td>6.0</td><td>3.0</td><td>42.0</td><td>3.0</td><td>14.0</td><td>2.0</td><td>2.0</td><td>0.0</td><td>0.666667</td></tr><tr><td>&hellip;</td><td>&hellip;</td><td>&hellip;</td><td>&hellip;</td><td>&hellip;</td><td>&hellip;</td><td>&hellip;</td><td>&hellip;</td><td>&hellip;</td><td>&hellip;</td><td>&hellip;</td><td>&hellip;</td><td>&hellip;</td><td>&hellip;</td><td>&hellip;</td><td>&hellip;</td><td>&hellip;</td><td>&hellip;</td><td>&hellip;</td><td>&hellip;</td><td>&hellip;</td><td>&hellip;</td><td>&hellip;</td><td>&hellip;</td><td>&hellip;</td><td>&hellip;</td><td>&hellip;</td><td>&hellip;</td><td>&hellip;</td></tr><tr><td>&quot;Sri Lanka&quot;</td><td>&quot;NLTC Perera&quot;</td><td>&quot;0f12f9df&quot;</td><td>995469</td><td>&quot;2016&quot;</td><td>&quot;NLTC Perera&quot;</td><td>2</td><td>2.0</td><td>7.0</td><td>77.77</td><td>3.5</td><td>&quot;Sri Lanka&quot;</td><td>29.83</td><td>623.0</td><td>45.0</td><td>148.8</td><td>5.0</td><td>77.0</td><td>1.0</td><td>15.4</td><td>110.8</td><td>35.0</td><td>1003.0</td><td>43.0</td><td>23.325581</td><td>17.0</td><td>17.0</td><td>0.0</td><td>0.314815</td></tr><tr><td>&quot;Sri Lanka&quot;</td><td>&quot;SS Pathirana&quot;</td><td>&quot;753c95b9&quot;</td><td>995469</td><td>&quot;2016&quot;</td><td>&quot;SS Pathirana&quot;</td><td>2</td><td>2.0</td><td>8.0</td><td>114.28</td><td>4.0</td><td>&quot;Sri Lanka&quot;</td><td>4.0</td><td>8.0</td><td>2.0</td><td>114.28</td><td>6.5</td><td>68.0</td><td>3.0</td><td>9.95</td><td>6.5</td><td>3.0</td><td>68.0</td><td>2.0</td><td>34.0</td><td>0.0</td><td>0.0</td><td>0.0</td><td>0.0</td></tr><tr><td>&quot;Sri Lanka&quot;</td><td>&quot;S Prasanna&quot;</td><td>&quot;f78e7113&quot;</td><td>995469</td><td>&quot;2016&quot;</td><td>&quot;S Prasanna&quot;</td><td>2</td><td>2.0</td><td>8.0</td><td>57.14</td><td>4.0</td><td>&quot;Sri Lanka&quot;</td><td>9.25</td><td>52.0</td><td>8.0</td><td>108.72</td><td>8.0</td><td>47.0</td><td>1.0</td><td>5.87</td><td>20.0</td><td>4.0</td><td>148.0</td><td>8.0</td><td>18.5</td><td>1.0</td><td>1.0</td><td>0.0</td><td>0.125</td></tr><tr><td>&quot;Sri Lanka&quot;</td><td>&quot;SMSM Senanayake&quot;</td><td>&quot;4c4fa80b&quot;</td><td>995469</td><td>&quot;2016&quot;</td><td>&quot;SMSM Senanayake&quot;</td><td>2</td><td>2.0</td><td>13.0</td><td>92.85</td><td>6.5</td><td>&quot;Sri Lanka&quot;</td><td>12.25</td><td>56.0</td><td>12.0</td><td>47.24</td><td>8.0</td><td>85.0</td><td>1.0</td><td>10.62</td><td>81.0</td><td>25.0</td><td>549.0</td><td>23.0</td><td>23.869565</td><td>3.0</td><td>3.0</td><td>0.0</td><td>0.125</td></tr><tr><td>&quot;Sri Lanka&quot;</td><td>&quot;RAS Lakmal&quot;</td><td>&quot;2f28dc94&quot;</td><td>995469</td><td>&quot;2016&quot;</td><td>&quot;RAS Lakmal&quot;</td><td>2</td><td>2.0</td><td>1.0</td><td>50.0</td><td>1.0</td><td>&quot;Sri Lanka&quot;</td><td>1.0</td><td>2.0</td><td>4.0</td><td>20.0</td><td>6.0</td><td>66.0</td><td>0.0</td><td>11.0</td><td>27.4</td><td>6.0</td><td>255.0</td><td>8.0</td><td>31.875</td><td>2.0</td><td>2.0</td><td>0.0</td><td>0.25</td></tr></tbody></table></div>"
      ],
      "text/plain": [
       "shape: (52_083, 29)\n",
       "┌───────────┬─────────────────┬───────────┬──────────┬───┬──────┬──────┬─────┬──────────┐\n",
       "│ country   ┆ player          ┆ player_id ┆ match_id ┆ … ┆ Dis  ┆ Ct   ┆ St  ┆ D/I      │\n",
       "│ ---       ┆ ---             ┆ ---       ┆ ---      ┆   ┆ ---  ┆ ---  ┆ --- ┆ ---      │\n",
       "│ str       ┆ str             ┆ str       ┆ i64      ┆   ┆ f64  ┆ f64  ┆ f64 ┆ f64      │\n",
       "╞═══════════╪═════════════════╪═══════════╪══════════╪═══╪══════╪══════╪═════╪══════════╡\n",
       "│ Australia ┆ AJ Finch        ┆ b8d490fd  ┆ 1001349  ┆ … ┆ 8.0  ┆ 8.0  ┆ 0.0 ┆ 0.258065 │\n",
       "│ Australia ┆ M Klinger       ┆ b970a03f  ┆ 1001349  ┆ … ┆ 2.0  ┆ 2.0  ┆ 0.0 ┆ 0.666667 │\n",
       "│ Australia ┆ TM Head         ┆ 12b610c2  ┆ 1001349  ┆ … ┆ 3.0  ┆ 3.0  ┆ 0.0 ┆ 0.428571 │\n",
       "│ Australia ┆ MC Henriques    ┆ 32198ae0  ┆ 1001349  ┆ … ┆ 2.0  ┆ 2.0  ┆ 0.0 ┆ 0.222222 │\n",
       "│ Australia ┆ AJ Turner       ┆ ff1e12a0  ┆ 1001349  ┆ … ┆ 2.0  ┆ 2.0  ┆ 0.0 ┆ 0.666667 │\n",
       "│ …         ┆ …               ┆ …         ┆ …        ┆ … ┆ …    ┆ …    ┆ …   ┆ …        │\n",
       "│ Sri Lanka ┆ NLTC Perera     ┆ 0f12f9df  ┆ 995469   ┆ … ┆ 17.0 ┆ 17.0 ┆ 0.0 ┆ 0.314815 │\n",
       "│ Sri Lanka ┆ SS Pathirana    ┆ 753c95b9  ┆ 995469   ┆ … ┆ 0.0  ┆ 0.0  ┆ 0.0 ┆ 0.0      │\n",
       "│ Sri Lanka ┆ S Prasanna      ┆ f78e7113  ┆ 995469   ┆ … ┆ 1.0  ┆ 1.0  ┆ 0.0 ┆ 0.125    │\n",
       "│ Sri Lanka ┆ SMSM Senanayake ┆ 4c4fa80b  ┆ 995469   ┆ … ┆ 3.0  ┆ 3.0  ┆ 0.0 ┆ 0.125    │\n",
       "│ Sri Lanka ┆ RAS Lakmal      ┆ 2f28dc94  ┆ 995469   ┆ … ┆ 2.0  ┆ 2.0  ┆ 0.0 ┆ 0.25     │\n",
       "└───────────┴─────────────────┴───────────┴──────────┴───┴──────┴──────┴─────┴──────────┘"
      ]
     },
     "execution_count": 2,
     "metadata": {},
     "output_type": "execute_result"
    }
   ],
   "source": [
    "matchPlayersStats = matchPlayers.join(playerStats, left_on=['player_id','season'] , right_on=['player_id','Season'], how='inner')\n",
    "matchPlayersStats"
   ]
  },
  {
   "cell_type": "code",
   "execution_count": 3,
   "metadata": {},
   "outputs": [
    {
     "data": {
      "text/html": [
       "<div><style>\n",
       ".dataframe > thead > tr,\n",
       ".dataframe > tbody > tr {\n",
       "  text-align: right;\n",
       "  white-space: pre-wrap;\n",
       "}\n",
       "</style>\n",
       "<small>shape: (1_200,)</small><table border=\"1\" class=\"dataframe\"><thead><tr><th>match_id</th></tr><tr><td>i64</td></tr></thead><tbody><tr><td>1433367</td></tr><tr><td>361660</td></tr><tr><td>875507</td></tr><tr><td>1202011</td></tr><tr><td>1267306</td></tr><tr><td>&hellip;</td></tr><tr><td>682909</td></tr><tr><td>1328474</td></tr><tr><td>531636</td></tr><tr><td>1237122</td></tr><tr><td>875471</td></tr></tbody></table></div>"
      ],
      "text/plain": [
       "shape: (1_200,)\n",
       "Series: 'match_id' [i64]\n",
       "[\n",
       "\t1433367\n",
       "\t361660\n",
       "\t875507\n",
       "\t1202011\n",
       "\t1267306\n",
       "\t…\n",
       "\t682909\n",
       "\t1328474\n",
       "\t531636\n",
       "\t1237122\n",
       "\t875471\n",
       "]"
      ]
     },
     "execution_count": 3,
     "metadata": {},
     "output_type": "execute_result"
    }
   ],
   "source": [
    "match_id = matchPlayersStats['match_id','player_id'].with_columns(pl.lit(1).alias(\"one\")).group_by('match_id').agg(pl.sum('one')).filter(pl.col('one') == 22)['match_id']\n",
    "match_id"
   ]
  },
  {
   "cell_type": "code",
   "execution_count": 4,
   "metadata": {},
   "outputs": [
    {
     "data": {
      "text/html": [
       "<div><style>\n",
       ".dataframe > thead > tr,\n",
       ".dataframe > tbody > tr {\n",
       "  text-align: right;\n",
       "  white-space: pre-wrap;\n",
       "}\n",
       "</style>\n",
       "<small>shape: (26_400, 29)</small><table border=\"1\" class=\"dataframe\"><thead><tr><th>country</th><th>player</th><th>player_id</th><th>match_id</th><th>season</th><th>Player</th><th>Mat</th><th>Inns</th><th>Batting Runs</th><th>SR</th><th>Ave</th><th>Country</th><th>Cum batting Ave</th><th>Cum battings Runs Total</th><th>Cum Inns Total</th><th>Cum SR</th><th>Overs</th><th>Bowling_Runs</th><th>Wkts</th><th>Econ</th><th>Cumulative Overs</th><th>Cumulative Wkts</th><th>Cumulative Runs</th><th>Cumulative Inns</th><th>Cumulative Econ</th><th>Dis</th><th>Ct</th><th>St</th><th>D/I</th></tr><tr><td>str</td><td>str</td><td>str</td><td>i64</td><td>str</td><td>str</td><td>i64</td><td>f64</td><td>f64</td><td>f64</td><td>f64</td><td>str</td><td>f64</td><td>f64</td><td>f64</td><td>f64</td><td>f64</td><td>f64</td><td>f64</td><td>f64</td><td>f64</td><td>f64</td><td>f64</td><td>f64</td><td>f64</td><td>f64</td><td>f64</td><td>f64</td><td>f64</td></tr></thead><tbody><tr><td>&quot;Australia&quot;</td><td>&quot;AJ Finch&quot;</td><td>&quot;b8d490fd&quot;</td><td>1001349</td><td>&quot;2016/17&quot;</td><td>&quot;AJ Finch&quot;</td><td>3</td><td>3.0</td><td>108.0</td><td>142.1</td><td>36.0</td><td>&quot;Australia&quot;</td><td>35.93</td><td>1082.0</td><td>31.0</td><td>146.68</td><td>0.0</td><td>0.0</td><td>0.0</td><td>0.0</td><td>2.0</td><td>0.0</td><td>27.0</td><td>2.0</td><td>13.5</td><td>8.0</td><td>8.0</td><td>0.0</td><td>0.258065</td></tr><tr><td>&quot;Australia&quot;</td><td>&quot;M Klinger&quot;</td><td>&quot;b970a03f&quot;</td><td>1001349</td><td>&quot;2016/17&quot;</td><td>&quot;M Klinger&quot;</td><td>3</td><td>3.0</td><td>143.0</td><td>127.67</td><td>47.66</td><td>&quot;Australia&quot;</td><td>47.66</td><td>143.0</td><td>3.0</td><td>127.67</td><td>0.0</td><td>0.0</td><td>0.0</td><td>0.0</td><td>0.0</td><td>0.0</td><td>0.0</td><td>0.0</td><td>0.0</td><td>2.0</td><td>2.0</td><td>0.0</td><td>0.666667</td></tr><tr><td>&quot;Australia&quot;</td><td>&quot;TM Head&quot;</td><td>&quot;12b610c2&quot;</td><td>1001349</td><td>&quot;2016/17&quot;</td><td>&quot;TM Head&quot;</td><td>3</td><td>3.0</td><td>65.0</td><td>144.44</td><td>21.66</td><td>&quot;Australia&quot;</td><td>28.71</td><td>147.0</td><td>7.0</td><td>151.32</td><td>2.0</td><td>16.0</td><td>1.0</td><td>8.0</td><td>3.0</td><td>1.0</td><td>25.0</td><td>2.0</td><td>12.5</td><td>3.0</td><td>3.0</td><td>0.0</td><td>0.428571</td></tr><tr><td>&quot;Australia&quot;</td><td>&quot;MC Henriques&quot;</td><td>&quot;32198ae0&quot;</td><td>1001349</td><td>&quot;2016/17&quot;</td><td>&quot;MC Henriques&quot;</td><td>3</td><td>3.0</td><td>75.0</td><td>150.0</td><td>75.0</td><td>&quot;Australia&quot;</td><td>39.83</td><td>89.0</td><td>6.0</td><td>83.33</td><td>5.0</td><td>48.0</td><td>0.0</td><td>9.6</td><td>17.0</td><td>4.0</td><td>158.0</td><td>7.0</td><td>22.571429</td><td>2.0</td><td>2.0</td><td>0.0</td><td>0.222222</td></tr><tr><td>&quot;Australia&quot;</td><td>&quot;AJ Turner&quot;</td><td>&quot;ff1e12a0&quot;</td><td>1001349</td><td>&quot;2016/17&quot;</td><td>&quot;AJ Turner&quot;</td><td>3</td><td>3.0</td><td>26.0</td><td>123.8</td><td>8.66</td><td>&quot;Australia&quot;</td><td>8.66</td><td>26.0</td><td>3.0</td><td>123.8</td><td>6.0</td><td>42.0</td><td>3.0</td><td>7.0</td><td>6.0</td><td>3.0</td><td>42.0</td><td>3.0</td><td>14.0</td><td>2.0</td><td>2.0</td><td>0.0</td><td>0.666667</td></tr><tr><td>&hellip;</td><td>&hellip;</td><td>&hellip;</td><td>&hellip;</td><td>&hellip;</td><td>&hellip;</td><td>&hellip;</td><td>&hellip;</td><td>&hellip;</td><td>&hellip;</td><td>&hellip;</td><td>&hellip;</td><td>&hellip;</td><td>&hellip;</td><td>&hellip;</td><td>&hellip;</td><td>&hellip;</td><td>&hellip;</td><td>&hellip;</td><td>&hellip;</td><td>&hellip;</td><td>&hellip;</td><td>&hellip;</td><td>&hellip;</td><td>&hellip;</td><td>&hellip;</td><td>&hellip;</td><td>&hellip;</td><td>&hellip;</td></tr><tr><td>&quot;Sri Lanka&quot;</td><td>&quot;NLTC Perera&quot;</td><td>&quot;0f12f9df&quot;</td><td>995469</td><td>&quot;2016&quot;</td><td>&quot;NLTC Perera&quot;</td><td>2</td><td>2.0</td><td>7.0</td><td>77.77</td><td>3.5</td><td>&quot;Sri Lanka&quot;</td><td>29.83</td><td>623.0</td><td>45.0</td><td>148.8</td><td>5.0</td><td>77.0</td><td>1.0</td><td>15.4</td><td>110.8</td><td>35.0</td><td>1003.0</td><td>43.0</td><td>23.325581</td><td>17.0</td><td>17.0</td><td>0.0</td><td>0.314815</td></tr><tr><td>&quot;Sri Lanka&quot;</td><td>&quot;SS Pathirana&quot;</td><td>&quot;753c95b9&quot;</td><td>995469</td><td>&quot;2016&quot;</td><td>&quot;SS Pathirana&quot;</td><td>2</td><td>2.0</td><td>8.0</td><td>114.28</td><td>4.0</td><td>&quot;Sri Lanka&quot;</td><td>4.0</td><td>8.0</td><td>2.0</td><td>114.28</td><td>6.5</td><td>68.0</td><td>3.0</td><td>9.95</td><td>6.5</td><td>3.0</td><td>68.0</td><td>2.0</td><td>34.0</td><td>0.0</td><td>0.0</td><td>0.0</td><td>0.0</td></tr><tr><td>&quot;Sri Lanka&quot;</td><td>&quot;S Prasanna&quot;</td><td>&quot;f78e7113&quot;</td><td>995469</td><td>&quot;2016&quot;</td><td>&quot;S Prasanna&quot;</td><td>2</td><td>2.0</td><td>8.0</td><td>57.14</td><td>4.0</td><td>&quot;Sri Lanka&quot;</td><td>9.25</td><td>52.0</td><td>8.0</td><td>108.72</td><td>8.0</td><td>47.0</td><td>1.0</td><td>5.87</td><td>20.0</td><td>4.0</td><td>148.0</td><td>8.0</td><td>18.5</td><td>1.0</td><td>1.0</td><td>0.0</td><td>0.125</td></tr><tr><td>&quot;Sri Lanka&quot;</td><td>&quot;SMSM Senanayake&quot;</td><td>&quot;4c4fa80b&quot;</td><td>995469</td><td>&quot;2016&quot;</td><td>&quot;SMSM Senanayake&quot;</td><td>2</td><td>2.0</td><td>13.0</td><td>92.85</td><td>6.5</td><td>&quot;Sri Lanka&quot;</td><td>12.25</td><td>56.0</td><td>12.0</td><td>47.24</td><td>8.0</td><td>85.0</td><td>1.0</td><td>10.62</td><td>81.0</td><td>25.0</td><td>549.0</td><td>23.0</td><td>23.869565</td><td>3.0</td><td>3.0</td><td>0.0</td><td>0.125</td></tr><tr><td>&quot;Sri Lanka&quot;</td><td>&quot;RAS Lakmal&quot;</td><td>&quot;2f28dc94&quot;</td><td>995469</td><td>&quot;2016&quot;</td><td>&quot;RAS Lakmal&quot;</td><td>2</td><td>2.0</td><td>1.0</td><td>50.0</td><td>1.0</td><td>&quot;Sri Lanka&quot;</td><td>1.0</td><td>2.0</td><td>4.0</td><td>20.0</td><td>6.0</td><td>66.0</td><td>0.0</td><td>11.0</td><td>27.4</td><td>6.0</td><td>255.0</td><td>8.0</td><td>31.875</td><td>2.0</td><td>2.0</td><td>0.0</td><td>0.25</td></tr></tbody></table></div>"
      ],
      "text/plain": [
       "shape: (26_400, 29)\n",
       "┌───────────┬─────────────────┬───────────┬──────────┬───┬──────┬──────┬─────┬──────────┐\n",
       "│ country   ┆ player          ┆ player_id ┆ match_id ┆ … ┆ Dis  ┆ Ct   ┆ St  ┆ D/I      │\n",
       "│ ---       ┆ ---             ┆ ---       ┆ ---      ┆   ┆ ---  ┆ ---  ┆ --- ┆ ---      │\n",
       "│ str       ┆ str             ┆ str       ┆ i64      ┆   ┆ f64  ┆ f64  ┆ f64 ┆ f64      │\n",
       "╞═══════════╪═════════════════╪═══════════╪══════════╪═══╪══════╪══════╪═════╪══════════╡\n",
       "│ Australia ┆ AJ Finch        ┆ b8d490fd  ┆ 1001349  ┆ … ┆ 8.0  ┆ 8.0  ┆ 0.0 ┆ 0.258065 │\n",
       "│ Australia ┆ M Klinger       ┆ b970a03f  ┆ 1001349  ┆ … ┆ 2.0  ┆ 2.0  ┆ 0.0 ┆ 0.666667 │\n",
       "│ Australia ┆ TM Head         ┆ 12b610c2  ┆ 1001349  ┆ … ┆ 3.0  ┆ 3.0  ┆ 0.0 ┆ 0.428571 │\n",
       "│ Australia ┆ MC Henriques    ┆ 32198ae0  ┆ 1001349  ┆ … ┆ 2.0  ┆ 2.0  ┆ 0.0 ┆ 0.222222 │\n",
       "│ Australia ┆ AJ Turner       ┆ ff1e12a0  ┆ 1001349  ┆ … ┆ 2.0  ┆ 2.0  ┆ 0.0 ┆ 0.666667 │\n",
       "│ …         ┆ …               ┆ …         ┆ …        ┆ … ┆ …    ┆ …    ┆ …   ┆ …        │\n",
       "│ Sri Lanka ┆ NLTC Perera     ┆ 0f12f9df  ┆ 995469   ┆ … ┆ 17.0 ┆ 17.0 ┆ 0.0 ┆ 0.314815 │\n",
       "│ Sri Lanka ┆ SS Pathirana    ┆ 753c95b9  ┆ 995469   ┆ … ┆ 0.0  ┆ 0.0  ┆ 0.0 ┆ 0.0      │\n",
       "│ Sri Lanka ┆ S Prasanna      ┆ f78e7113  ┆ 995469   ┆ … ┆ 1.0  ┆ 1.0  ┆ 0.0 ┆ 0.125    │\n",
       "│ Sri Lanka ┆ SMSM Senanayake ┆ 4c4fa80b  ┆ 995469   ┆ … ┆ 3.0  ┆ 3.0  ┆ 0.0 ┆ 0.125    │\n",
       "│ Sri Lanka ┆ RAS Lakmal      ┆ 2f28dc94  ┆ 995469   ┆ … ┆ 2.0  ┆ 2.0  ┆ 0.0 ┆ 0.25     │\n",
       "└───────────┴─────────────────┴───────────┴──────────┴───┴──────┴──────┴─────┴──────────┘"
      ]
     },
     "execution_count": 4,
     "metadata": {},
     "output_type": "execute_result"
    }
   ],
   "source": [
    "matchPlayersStats = matchPlayersStats.filter(pl.col('match_id').is_in(match_id))\n",
    "matchPlayersStats"
   ]
  },
  {
   "cell_type": "code",
   "execution_count": 5,
   "metadata": {},
   "outputs": [
    {
     "data": {
      "text/html": [
       "<div><style>\n",
       ".dataframe > thead > tr,\n",
       ".dataframe > tbody > tr {\n",
       "  text-align: right;\n",
       "  white-space: pre-wrap;\n",
       "}\n",
       "</style>\n",
       "<small>shape: (26_400, 23)</small><table border=\"1\" class=\"dataframe\"><thead><tr><th>match_id</th><th>Mat</th><th>Inns</th><th>Batting Runs</th><th>SR</th><th>Ave</th><th>Cum batting Ave</th><th>Cum battings Runs Total</th><th>Cum Inns Total</th><th>Cum SR</th><th>Overs</th><th>Bowling_Runs</th><th>Wkts</th><th>Econ</th><th>Cumulative Overs</th><th>Cumulative Wkts</th><th>Cumulative Runs</th><th>Cumulative Inns</th><th>Cumulative Econ</th><th>Dis</th><th>Ct</th><th>St</th><th>D/I</th></tr><tr><td>i64</td><td>i64</td><td>f64</td><td>f64</td><td>f64</td><td>f64</td><td>f64</td><td>f64</td><td>f64</td><td>f64</td><td>f64</td><td>f64</td><td>f64</td><td>f64</td><td>f64</td><td>f64</td><td>f64</td><td>f64</td><td>f64</td><td>f64</td><td>f64</td><td>f64</td><td>f64</td></tr></thead><tbody><tr><td>1001349</td><td>3</td><td>3.0</td><td>108.0</td><td>142.1</td><td>36.0</td><td>35.93</td><td>1082.0</td><td>31.0</td><td>146.68</td><td>0.0</td><td>0.0</td><td>0.0</td><td>0.0</td><td>2.0</td><td>0.0</td><td>27.0</td><td>2.0</td><td>13.5</td><td>8.0</td><td>8.0</td><td>0.0</td><td>0.258065</td></tr><tr><td>1001349</td><td>3</td><td>3.0</td><td>143.0</td><td>127.67</td><td>47.66</td><td>47.66</td><td>143.0</td><td>3.0</td><td>127.67</td><td>0.0</td><td>0.0</td><td>0.0</td><td>0.0</td><td>0.0</td><td>0.0</td><td>0.0</td><td>0.0</td><td>0.0</td><td>2.0</td><td>2.0</td><td>0.0</td><td>0.666667</td></tr><tr><td>1001349</td><td>3</td><td>3.0</td><td>65.0</td><td>144.44</td><td>21.66</td><td>28.71</td><td>147.0</td><td>7.0</td><td>151.32</td><td>2.0</td><td>16.0</td><td>1.0</td><td>8.0</td><td>3.0</td><td>1.0</td><td>25.0</td><td>2.0</td><td>12.5</td><td>3.0</td><td>3.0</td><td>0.0</td><td>0.428571</td></tr><tr><td>1001349</td><td>3</td><td>3.0</td><td>75.0</td><td>150.0</td><td>75.0</td><td>39.83</td><td>89.0</td><td>6.0</td><td>83.33</td><td>5.0</td><td>48.0</td><td>0.0</td><td>9.6</td><td>17.0</td><td>4.0</td><td>158.0</td><td>7.0</td><td>22.571429</td><td>2.0</td><td>2.0</td><td>0.0</td><td>0.222222</td></tr><tr><td>1001349</td><td>3</td><td>3.0</td><td>26.0</td><td>123.8</td><td>8.66</td><td>8.66</td><td>26.0</td><td>3.0</td><td>123.8</td><td>6.0</td><td>42.0</td><td>3.0</td><td>7.0</td><td>6.0</td><td>3.0</td><td>42.0</td><td>3.0</td><td>14.0</td><td>2.0</td><td>2.0</td><td>0.0</td><td>0.666667</td></tr><tr><td>&hellip;</td><td>&hellip;</td><td>&hellip;</td><td>&hellip;</td><td>&hellip;</td><td>&hellip;</td><td>&hellip;</td><td>&hellip;</td><td>&hellip;</td><td>&hellip;</td><td>&hellip;</td><td>&hellip;</td><td>&hellip;</td><td>&hellip;</td><td>&hellip;</td><td>&hellip;</td><td>&hellip;</td><td>&hellip;</td><td>&hellip;</td><td>&hellip;</td><td>&hellip;</td><td>&hellip;</td><td>&hellip;</td></tr><tr><td>995469</td><td>2</td><td>2.0</td><td>7.0</td><td>77.77</td><td>3.5</td><td>29.83</td><td>623.0</td><td>45.0</td><td>148.8</td><td>5.0</td><td>77.0</td><td>1.0</td><td>15.4</td><td>110.8</td><td>35.0</td><td>1003.0</td><td>43.0</td><td>23.325581</td><td>17.0</td><td>17.0</td><td>0.0</td><td>0.314815</td></tr><tr><td>995469</td><td>2</td><td>2.0</td><td>8.0</td><td>114.28</td><td>4.0</td><td>4.0</td><td>8.0</td><td>2.0</td><td>114.28</td><td>6.5</td><td>68.0</td><td>3.0</td><td>9.95</td><td>6.5</td><td>3.0</td><td>68.0</td><td>2.0</td><td>34.0</td><td>0.0</td><td>0.0</td><td>0.0</td><td>0.0</td></tr><tr><td>995469</td><td>2</td><td>2.0</td><td>8.0</td><td>57.14</td><td>4.0</td><td>9.25</td><td>52.0</td><td>8.0</td><td>108.72</td><td>8.0</td><td>47.0</td><td>1.0</td><td>5.87</td><td>20.0</td><td>4.0</td><td>148.0</td><td>8.0</td><td>18.5</td><td>1.0</td><td>1.0</td><td>0.0</td><td>0.125</td></tr><tr><td>995469</td><td>2</td><td>2.0</td><td>13.0</td><td>92.85</td><td>6.5</td><td>12.25</td><td>56.0</td><td>12.0</td><td>47.24</td><td>8.0</td><td>85.0</td><td>1.0</td><td>10.62</td><td>81.0</td><td>25.0</td><td>549.0</td><td>23.0</td><td>23.869565</td><td>3.0</td><td>3.0</td><td>0.0</td><td>0.125</td></tr><tr><td>995469</td><td>2</td><td>2.0</td><td>1.0</td><td>50.0</td><td>1.0</td><td>1.0</td><td>2.0</td><td>4.0</td><td>20.0</td><td>6.0</td><td>66.0</td><td>0.0</td><td>11.0</td><td>27.4</td><td>6.0</td><td>255.0</td><td>8.0</td><td>31.875</td><td>2.0</td><td>2.0</td><td>0.0</td><td>0.25</td></tr></tbody></table></div>"
      ],
      "text/plain": [
       "shape: (26_400, 23)\n",
       "┌──────────┬─────┬──────┬──────────────┬───┬──────┬──────┬─────┬──────────┐\n",
       "│ match_id ┆ Mat ┆ Inns ┆ Batting Runs ┆ … ┆ Dis  ┆ Ct   ┆ St  ┆ D/I      │\n",
       "│ ---      ┆ --- ┆ ---  ┆ ---          ┆   ┆ ---  ┆ ---  ┆ --- ┆ ---      │\n",
       "│ i64      ┆ i64 ┆ f64  ┆ f64          ┆   ┆ f64  ┆ f64  ┆ f64 ┆ f64      │\n",
       "╞══════════╪═════╪══════╪══════════════╪═══╪══════╪══════╪═════╪══════════╡\n",
       "│ 1001349  ┆ 3   ┆ 3.0  ┆ 108.0        ┆ … ┆ 8.0  ┆ 8.0  ┆ 0.0 ┆ 0.258065 │\n",
       "│ 1001349  ┆ 3   ┆ 3.0  ┆ 143.0        ┆ … ┆ 2.0  ┆ 2.0  ┆ 0.0 ┆ 0.666667 │\n",
       "│ 1001349  ┆ 3   ┆ 3.0  ┆ 65.0         ┆ … ┆ 3.0  ┆ 3.0  ┆ 0.0 ┆ 0.428571 │\n",
       "│ 1001349  ┆ 3   ┆ 3.0  ┆ 75.0         ┆ … ┆ 2.0  ┆ 2.0  ┆ 0.0 ┆ 0.222222 │\n",
       "│ 1001349  ┆ 3   ┆ 3.0  ┆ 26.0         ┆ … ┆ 2.0  ┆ 2.0  ┆ 0.0 ┆ 0.666667 │\n",
       "│ …        ┆ …   ┆ …    ┆ …            ┆ … ┆ …    ┆ …    ┆ …   ┆ …        │\n",
       "│ 995469   ┆ 2   ┆ 2.0  ┆ 7.0          ┆ … ┆ 17.0 ┆ 17.0 ┆ 0.0 ┆ 0.314815 │\n",
       "│ 995469   ┆ 2   ┆ 2.0  ┆ 8.0          ┆ … ┆ 0.0  ┆ 0.0  ┆ 0.0 ┆ 0.0      │\n",
       "│ 995469   ┆ 2   ┆ 2.0  ┆ 8.0          ┆ … ┆ 1.0  ┆ 1.0  ┆ 0.0 ┆ 0.125    │\n",
       "│ 995469   ┆ 2   ┆ 2.0  ┆ 13.0         ┆ … ┆ 3.0  ┆ 3.0  ┆ 0.0 ┆ 0.125    │\n",
       "│ 995469   ┆ 2   ┆ 2.0  ┆ 1.0          ┆ … ┆ 2.0  ┆ 2.0  ┆ 0.0 ┆ 0.25     │\n",
       "└──────────┴─────┴──────┴──────────────┴───┴──────┴──────┴─────┴──────────┘"
      ]
     },
     "execution_count": 5,
     "metadata": {},
     "output_type": "execute_result"
    }
   ],
   "source": [
    "matchPlayersStats = matchPlayersStats.drop(['country','player','player_id','season','Player','Country'])\n",
    "matchPlayersStats"
   ]
  },
  {
   "cell_type": "code",
   "execution_count": 10,
   "metadata": {},
   "outputs": [
    {
     "data": {
      "text/plain": [
       "(26400, 23)"
      ]
     },
     "execution_count": 10,
     "metadata": {},
     "output_type": "execute_result"
    }
   ],
   "source": [
    "matchPlayersStats.shape"
   ]
  },
  {
   "cell_type": "code",
   "execution_count": 11,
   "metadata": {},
   "outputs": [
    {
     "data": {
      "text/plain": [
       "(1200, 22, 23)"
      ]
     },
     "execution_count": 11,
     "metadata": {},
     "output_type": "execute_result"
    }
   ],
   "source": [
    "playerStats = matchPlayersStats.to_numpy().reshape(-1,22,matchPlayersStats.width)\n",
    "playerStats.shape"
   ]
  },
  {
   "cell_type": "code",
   "execution_count": 12,
   "metadata": {},
   "outputs": [
    {
     "data": {
      "text/plain": [
       "((22, 23),\n",
       " array([[1.00134900e+06, 3.00000000e+00, 3.00000000e+00, 1.08000000e+02,\n",
       "         1.42100000e+02, 3.60000000e+01, 3.59300000e+01, 1.08200000e+03,\n",
       "         3.10000000e+01, 1.46680000e+02, 0.00000000e+00, 0.00000000e+00,\n",
       "         0.00000000e+00, 0.00000000e+00, 2.00000000e+00, 0.00000000e+00,\n",
       "         2.70000000e+01, 2.00000000e+00, 1.35000000e+01, 8.00000000e+00,\n",
       "         8.00000000e+00, 0.00000000e+00, 2.58064516e-01],\n",
       "        [1.00134900e+06, 3.00000000e+00, 3.00000000e+00, 1.43000000e+02,\n",
       "         1.27670000e+02, 4.76600000e+01, 4.76600000e+01, 1.43000000e+02,\n",
       "         3.00000000e+00, 1.27670000e+02, 0.00000000e+00, 0.00000000e+00,\n",
       "         0.00000000e+00, 0.00000000e+00, 0.00000000e+00, 0.00000000e+00,\n",
       "         0.00000000e+00, 0.00000000e+00, 0.00000000e+00, 2.00000000e+00,\n",
       "         2.00000000e+00, 0.00000000e+00, 6.66666667e-01],\n",
       "        [1.00134900e+06, 3.00000000e+00, 3.00000000e+00, 6.50000000e+01,\n",
       "         1.44440000e+02, 2.16600000e+01, 2.87100000e+01, 1.47000000e+02,\n",
       "         7.00000000e+00, 1.51320000e+02, 2.00000000e+00, 1.60000000e+01,\n",
       "         1.00000000e+00, 8.00000000e+00, 3.00000000e+00, 1.00000000e+00,\n",
       "         2.50000000e+01, 2.00000000e+00, 1.25000000e+01, 3.00000000e+00,\n",
       "         3.00000000e+00, 0.00000000e+00, 4.28571429e-01],\n",
       "        [1.00134900e+06, 3.00000000e+00, 3.00000000e+00, 7.50000000e+01,\n",
       "         1.50000000e+02, 7.50000000e+01, 3.98300000e+01, 8.90000000e+01,\n",
       "         6.00000000e+00, 8.33300000e+01, 5.00000000e+00, 4.80000000e+01,\n",
       "         0.00000000e+00, 9.60000000e+00, 1.70000000e+01, 4.00000000e+00,\n",
       "         1.58000000e+02, 7.00000000e+00, 2.25714286e+01, 2.00000000e+00,\n",
       "         2.00000000e+00, 0.00000000e+00, 2.22222222e-01],\n",
       "        [1.00134900e+06, 3.00000000e+00, 3.00000000e+00, 2.60000000e+01,\n",
       "         1.23800000e+02, 8.66000000e+00, 8.66000000e+00, 2.60000000e+01,\n",
       "         3.00000000e+00, 1.23800000e+02, 6.00000000e+00, 4.20000000e+01,\n",
       "         3.00000000e+00, 7.00000000e+00, 6.00000000e+00, 3.00000000e+00,\n",
       "         4.20000000e+01, 3.00000000e+00, 1.40000000e+01, 2.00000000e+00,\n",
       "         2.00000000e+00, 0.00000000e+00, 6.66666667e-01],\n",
       "        [1.00134900e+06, 3.00000000e+00, 3.00000000e+00, 1.70000000e+01,\n",
       "         1.54540000e+02, 8.50000000e+00, 1.86900000e+01, 1.59000000e+02,\n",
       "         1.80000000e+01, 9.77500000e+01, 1.10000000e+01, 7.90000000e+01,\n",
       "         5.00000000e+00, 7.18000000e+00, 8.55000000e+01, 3.60000000e+01,\n",
       "         6.84000000e+02, 2.40000000e+01, 2.85000000e+01, 1.10000000e+01,\n",
       "         1.10000000e+01, 0.00000000e+00, 4.58333333e-01],\n",
       "        [1.00134900e+06, 3.00000000e+00, 3.00000000e+00, 8.00000000e+00,\n",
       "         1.33330000e+02, 4.00000000e+00, 5.67000000e+00, 3.00000000e+01,\n",
       "         6.00000000e+00, 8.12500000e+01, 0.00000000e+00, 0.00000000e+00,\n",
       "         0.00000000e+00, 0.00000000e+00, 0.00000000e+00, 0.00000000e+00,\n",
       "         0.00000000e+00, 0.00000000e+00, 0.00000000e+00, 9.00000000e+00,\n",
       "         8.00000000e+00, 1.00000000e+00, 1.12500000e+00],\n",
       "        [1.00134900e+06, 3.00000000e+00, 2.00000000e+00, 3.00000000e+00,\n",
       "         1.00000000e+02, 3.00000000e+00, 3.85000000e+00, 2.80000000e+01,\n",
       "         1.00000000e+01, 5.61000000e+01, 1.00000000e+01, 7.70000000e+01,\n",
       "         2.00000000e+00, 7.70000000e+00, 6.90000000e+01, 2.30000000e+01,\n",
       "         4.72000000e+02, 1.80000000e+01, 2.62222222e+01, 4.00000000e+00,\n",
       "         4.00000000e+00, 0.00000000e+00, 2.22222222e-01],\n",
       "        [1.00134900e+06, 2.00000000e+00, 0.00000000e+00, 0.00000000e+00,\n",
       "         0.00000000e+00, 0.00000000e+00, 3.50000000e+00, 7.00000000e+00,\n",
       "         2.00000000e+00, 3.88900000e+01, 8.00000000e+00, 5.10000000e+01,\n",
       "         5.00000000e+00, 6.37000000e+00, 3.50000000e+01, 1.40000000e+01,\n",
       "         2.12000000e+02, 1.00000000e+01, 2.12000000e+01, 0.00000000e+00,\n",
       "         0.00000000e+00, 0.00000000e+00, 0.00000000e+00],\n",
       "        [1.00134900e+06, 1.00000000e+00, 0.00000000e+00, 0.00000000e+00,\n",
       "         0.00000000e+00, 0.00000000e+00, 0.00000000e+00, 0.00000000e+00,\n",
       "         0.00000000e+00, 0.00000000e+00, 3.00000000e+00, 4.20000000e+01,\n",
       "         0.00000000e+00, 1.40000000e+01, 3.00000000e+00, 0.00000000e+00,\n",
       "         4.20000000e+01, 1.00000000e+00, 4.20000000e+01, 0.00000000e+00,\n",
       "         0.00000000e+00, 0.00000000e+00, 0.00000000e+00],\n",
       "        [1.00134900e+06, 2.00000000e+00, 1.00000000e+00, 0.00000000e+00,\n",
       "         0.00000000e+00, 0.00000000e+00, 2.67000000e+00, 4.00000000e+00,\n",
       "         3.00000000e+00, 5.00000000e+01, 7.00000000e+00, 6.90000000e+01,\n",
       "         3.00000000e+00, 9.85000000e+00, 1.82000000e+01, 5.00000000e+00,\n",
       "         1.88000000e+02, 5.00000000e+00, 3.76000000e+01, 0.00000000e+00,\n",
       "         0.00000000e+00, 0.00000000e+00, 0.00000000e+00],\n",
       "        [1.00134900e+06, 5.00000000e+00, 5.00000000e+00, 1.77000000e+02,\n",
       "         1.50000000e+02, 3.54000000e+01, 2.60000000e+01, 1.82000000e+02,\n",
       "         7.00000000e+00, 1.25000000e+02, 0.00000000e+00, 0.00000000e+00,\n",
       "         0.00000000e+00, 0.00000000e+00, 0.00000000e+00, 0.00000000e+00,\n",
       "         0.00000000e+00, 0.00000000e+00, 0.00000000e+00, 3.00000000e+00,\n",
       "         3.00000000e+00, 0.00000000e+00, 3.75000000e-01],\n",
       "        [1.00134900e+06, 6.00000000e+00, 6.00000000e+00, 8.50000000e+01,\n",
       "         1.16430000e+02, 1.41600000e+01, 1.35000000e+01, 2.16000000e+02,\n",
       "         1.60000000e+01, 1.06540000e+02, 0.00000000e+00, 0.00000000e+00,\n",
       "         0.00000000e+00, 0.00000000e+00, 0.00000000e+00, 0.00000000e+00,\n",
       "         0.00000000e+00, 0.00000000e+00, 0.00000000e+00, 2.00000000e+00,\n",
       "         2.00000000e+00, 0.00000000e+00, 1.25000000e-01],\n",
       "        [1.00134900e+06, 5.00000000e+00, 5.00000000e+00, 1.03000000e+02,\n",
       "         1.53730000e+02, 2.06000000e+01, 1.72200000e+01, 1.42000000e+02,\n",
       "         9.00000000e+00, 1.23290000e+02, 3.00000000e+00, 4.40000000e+01,\n",
       "         0.00000000e+00, 1.46600000e+01, 3.00000000e+00, 0.00000000e+00,\n",
       "         4.40000000e+01, 2.00000000e+00, 2.20000000e+01, 1.00000000e+00,\n",
       "         1.00000000e+00, 0.00000000e+00, 1.11111111e-01],\n",
       "        [1.00134900e+06, 8.00000000e+00, 8.00000000e+00, 1.81000000e+02,\n",
       "         1.45960000e+02, 3.62000000e+01, 3.26200000e+01, 1.85000000e+02,\n",
       "         9.00000000e+00, 8.96500000e+01, 2.10000000e+01, 1.61000000e+02,\n",
       "         5.00000000e+00, 7.66000000e+00, 2.35000000e+01, 5.00000000e+00,\n",
       "         1.83000000e+02, 9.00000000e+00, 2.03333333e+01, 5.00000000e+00,\n",
       "         5.00000000e+00, 0.00000000e+00, 5.55555556e-01],\n",
       "        [1.00134900e+06, 5.00000000e+00, 4.00000000e+00, 5.00000000e+01,\n",
       "         1.25000000e+02, 1.25000000e+01, 1.71100000e+01, 2.75000000e+02,\n",
       "         1.90000000e+01, 1.36410000e+02, 1.00000000e+00, 1.20000000e+01,\n",
       "         0.00000000e+00, 1.20000000e+01, 2.30000000e+01, 8.00000000e+00,\n",
       "         2.06000000e+02, 1.30000000e+01, 1.58461538e+01, 6.00000000e+00,\n",
       "         6.00000000e+00, 0.00000000e+00, 2.72727273e-01],\n",
       "        [1.00134900e+06, 5.00000000e+00, 4.00000000e+00, 9.90000000e+01,\n",
       "         1.23750000e+02, 3.30000000e+01, 2.23000000e+01, 7.03000000e+02,\n",
       "         3.80000000e+01, 1.13550000e+02, 0.00000000e+00, 0.00000000e+00,\n",
       "         0.00000000e+00, 0.00000000e+00, 0.00000000e+00, 0.00000000e+00,\n",
       "         0.00000000e+00, 0.00000000e+00, 0.00000000e+00, 1.70000000e+01,\n",
       "         1.70000000e+01, 0.00000000e+00, 3.95348837e-01],\n",
       "        [1.00134900e+06, 8.00000000e+00, 8.00000000e+00, 1.11000000e+02,\n",
       "         1.52050000e+02, 2.22000000e+01, 1.57300000e+01, 1.63000000e+02,\n",
       "         1.60000000e+01, 1.19550000e+02, 2.40000000e+01, 1.69000000e+02,\n",
       "         5.00000000e+00, 7.04000000e+00, 4.40000000e+01, 9.00000000e+00,\n",
       "         3.17000000e+02, 1.60000000e+01, 1.98125000e+01, 4.00000000e+00,\n",
       "         4.00000000e+00, 0.00000000e+00, 2.50000000e-01],\n",
       "        [1.00134900e+06, 5.00000000e+00, 2.00000000e+00, 1.10000000e+01,\n",
       "         1.83330000e+02, 5.50000000e+00, 5.50000000e+00, 1.10000000e+01,\n",
       "         2.00000000e+00, 1.83330000e+02, 1.70000000e+01, 1.57000000e+02,\n",
       "         5.00000000e+00, 9.23000000e+00, 1.70000000e+01, 5.00000000e+00,\n",
       "         1.57000000e+02, 5.00000000e+00, 3.14000000e+01, 1.00000000e+00,\n",
       "         1.00000000e+00, 0.00000000e+00, 2.00000000e-01],\n",
       "        [1.00134900e+06, 5.00000000e+00, 3.00000000e+00, 2.00000000e+00,\n",
       "         2.85700000e+01, 1.00000000e+00, 4.21000000e+00, 7.30000000e+01,\n",
       "         2.10000000e+01, 3.60500000e+01, 2.00000000e+01, 1.67000000e+02,\n",
       "         1.10000000e+01, 8.35000000e+00, 2.36700000e+02, 8.90000000e+01,\n",
       "         1.74900000e+03, 6.70000000e+01, 2.61044776e+01, 1.80000000e+01,\n",
       "         1.80000000e+01, 0.00000000e+00, 2.68656716e-01],\n",
       "        [1.00134900e+06, 8.00000000e+00, 4.00000000e+00, 2.20000000e+01,\n",
       "         1.04760000e+02, 2.20000000e+01, 1.15800000e+01, 2.15000000e+02,\n",
       "         3.00000000e+01, 1.18590000e+02, 2.90000000e+01, 2.50000000e+02,\n",
       "         1.00000000e+01, 8.62000000e+00, 2.04700000e+02, 6.60000000e+01,\n",
       "         1.53000000e+03, 5.80000000e+01, 2.63793103e+01, 1.70000000e+01,\n",
       "         1.70000000e+01, 0.00000000e+00, 2.93103448e-01],\n",
       "        [1.00134900e+06, 3.00000000e+00, 0.00000000e+00, 0.00000000e+00,\n",
       "         0.00000000e+00, 0.00000000e+00, 0.00000000e+00, 0.00000000e+00,\n",
       "         0.00000000e+00, 0.00000000e+00, 1.20000000e+01, 7.60000000e+01,\n",
       "         6.00000000e+00, 6.33000000e+00, 1.20000000e+01, 6.00000000e+00,\n",
       "         7.60000000e+01, 3.00000000e+00, 2.53333333e+01, 2.00000000e+00,\n",
       "         2.00000000e+00, 0.00000000e+00, 6.66666667e-01]]))"
      ]
     },
     "execution_count": 12,
     "metadata": {},
     "output_type": "execute_result"
    }
   ],
   "source": [
    "playerStats[0][:].shape, playerStats[0][:]"
   ]
  },
  {
   "cell_type": "code",
   "execution_count": 9,
   "metadata": {},
   "outputs": [],
   "source": [
    "import numpy as np\n",
    "directory = r'D:\\github\\localt20\\finalData'\n",
    "np.save(os.path.join(directory, 'playerStats.npy'), playerStats)"
   ]
  },
  {
   "cell_type": "code",
   "execution_count": 10,
   "metadata": {},
   "outputs": [
    {
     "data": {
      "text/html": [
       "<div><style>\n",
       ".dataframe > thead > tr,\n",
       ".dataframe > tbody > tr {\n",
       "  text-align: right;\n",
       "  white-space: pre-wrap;\n",
       "}\n",
       "</style>\n",
       "<small>shape: (26_400, 23)</small><table border=\"1\" class=\"dataframe\"><thead><tr><th>match_id</th><th>Mat</th><th>Inns</th><th>Batting Runs</th><th>SR</th><th>Ave</th><th>Cum batting Ave</th><th>Cum battings Runs Total</th><th>Cum Inns Total</th><th>Cum SR</th><th>Overs</th><th>Bowling_Runs</th><th>Wkts</th><th>Econ</th><th>Cumulative Overs</th><th>Cumulative Wkts</th><th>Cumulative Runs</th><th>Cumulative Inns</th><th>Cumulative Econ</th><th>Dis</th><th>Ct</th><th>St</th><th>D/I</th></tr><tr><td>i64</td><td>i64</td><td>f64</td><td>f64</td><td>f64</td><td>f64</td><td>f64</td><td>f64</td><td>f64</td><td>f64</td><td>f64</td><td>f64</td><td>f64</td><td>f64</td><td>f64</td><td>f64</td><td>f64</td><td>f64</td><td>f64</td><td>f64</td><td>f64</td><td>f64</td><td>f64</td></tr></thead><tbody><tr><td>1001349</td><td>3</td><td>3.0</td><td>108.0</td><td>142.1</td><td>36.0</td><td>35.93</td><td>1082.0</td><td>31.0</td><td>146.68</td><td>0.0</td><td>0.0</td><td>0.0</td><td>0.0</td><td>2.0</td><td>0.0</td><td>27.0</td><td>2.0</td><td>13.5</td><td>8.0</td><td>8.0</td><td>0.0</td><td>0.258065</td></tr><tr><td>1001349</td><td>3</td><td>3.0</td><td>143.0</td><td>127.67</td><td>47.66</td><td>47.66</td><td>143.0</td><td>3.0</td><td>127.67</td><td>0.0</td><td>0.0</td><td>0.0</td><td>0.0</td><td>0.0</td><td>0.0</td><td>0.0</td><td>0.0</td><td>0.0</td><td>2.0</td><td>2.0</td><td>0.0</td><td>0.666667</td></tr><tr><td>1001349</td><td>3</td><td>3.0</td><td>65.0</td><td>144.44</td><td>21.66</td><td>28.71</td><td>147.0</td><td>7.0</td><td>151.32</td><td>2.0</td><td>16.0</td><td>1.0</td><td>8.0</td><td>3.0</td><td>1.0</td><td>25.0</td><td>2.0</td><td>12.5</td><td>3.0</td><td>3.0</td><td>0.0</td><td>0.428571</td></tr><tr><td>1001349</td><td>3</td><td>3.0</td><td>75.0</td><td>150.0</td><td>75.0</td><td>39.83</td><td>89.0</td><td>6.0</td><td>83.33</td><td>5.0</td><td>48.0</td><td>0.0</td><td>9.6</td><td>17.0</td><td>4.0</td><td>158.0</td><td>7.0</td><td>22.571429</td><td>2.0</td><td>2.0</td><td>0.0</td><td>0.222222</td></tr><tr><td>1001349</td><td>3</td><td>3.0</td><td>26.0</td><td>123.8</td><td>8.66</td><td>8.66</td><td>26.0</td><td>3.0</td><td>123.8</td><td>6.0</td><td>42.0</td><td>3.0</td><td>7.0</td><td>6.0</td><td>3.0</td><td>42.0</td><td>3.0</td><td>14.0</td><td>2.0</td><td>2.0</td><td>0.0</td><td>0.666667</td></tr><tr><td>&hellip;</td><td>&hellip;</td><td>&hellip;</td><td>&hellip;</td><td>&hellip;</td><td>&hellip;</td><td>&hellip;</td><td>&hellip;</td><td>&hellip;</td><td>&hellip;</td><td>&hellip;</td><td>&hellip;</td><td>&hellip;</td><td>&hellip;</td><td>&hellip;</td><td>&hellip;</td><td>&hellip;</td><td>&hellip;</td><td>&hellip;</td><td>&hellip;</td><td>&hellip;</td><td>&hellip;</td><td>&hellip;</td></tr><tr><td>995469</td><td>2</td><td>2.0</td><td>7.0</td><td>77.77</td><td>3.5</td><td>29.83</td><td>623.0</td><td>45.0</td><td>148.8</td><td>5.0</td><td>77.0</td><td>1.0</td><td>15.4</td><td>110.8</td><td>35.0</td><td>1003.0</td><td>43.0</td><td>23.325581</td><td>17.0</td><td>17.0</td><td>0.0</td><td>0.314815</td></tr><tr><td>995469</td><td>2</td><td>2.0</td><td>8.0</td><td>114.28</td><td>4.0</td><td>4.0</td><td>8.0</td><td>2.0</td><td>114.28</td><td>6.5</td><td>68.0</td><td>3.0</td><td>9.95</td><td>6.5</td><td>3.0</td><td>68.0</td><td>2.0</td><td>34.0</td><td>0.0</td><td>0.0</td><td>0.0</td><td>0.0</td></tr><tr><td>995469</td><td>2</td><td>2.0</td><td>8.0</td><td>57.14</td><td>4.0</td><td>9.25</td><td>52.0</td><td>8.0</td><td>108.72</td><td>8.0</td><td>47.0</td><td>1.0</td><td>5.87</td><td>20.0</td><td>4.0</td><td>148.0</td><td>8.0</td><td>18.5</td><td>1.0</td><td>1.0</td><td>0.0</td><td>0.125</td></tr><tr><td>995469</td><td>2</td><td>2.0</td><td>13.0</td><td>92.85</td><td>6.5</td><td>12.25</td><td>56.0</td><td>12.0</td><td>47.24</td><td>8.0</td><td>85.0</td><td>1.0</td><td>10.62</td><td>81.0</td><td>25.0</td><td>549.0</td><td>23.0</td><td>23.869565</td><td>3.0</td><td>3.0</td><td>0.0</td><td>0.125</td></tr><tr><td>995469</td><td>2</td><td>2.0</td><td>1.0</td><td>50.0</td><td>1.0</td><td>1.0</td><td>2.0</td><td>4.0</td><td>20.0</td><td>6.0</td><td>66.0</td><td>0.0</td><td>11.0</td><td>27.4</td><td>6.0</td><td>255.0</td><td>8.0</td><td>31.875</td><td>2.0</td><td>2.0</td><td>0.0</td><td>0.25</td></tr></tbody></table></div>"
      ],
      "text/plain": [
       "shape: (26_400, 23)\n",
       "┌──────────┬─────┬──────┬──────────────┬───┬──────┬──────┬─────┬──────────┐\n",
       "│ match_id ┆ Mat ┆ Inns ┆ Batting Runs ┆ … ┆ Dis  ┆ Ct   ┆ St  ┆ D/I      │\n",
       "│ ---      ┆ --- ┆ ---  ┆ ---          ┆   ┆ ---  ┆ ---  ┆ --- ┆ ---      │\n",
       "│ i64      ┆ i64 ┆ f64  ┆ f64          ┆   ┆ f64  ┆ f64  ┆ f64 ┆ f64      │\n",
       "╞══════════╪═════╪══════╪══════════════╪═══╪══════╪══════╪═════╪══════════╡\n",
       "│ 1001349  ┆ 3   ┆ 3.0  ┆ 108.0        ┆ … ┆ 8.0  ┆ 8.0  ┆ 0.0 ┆ 0.258065 │\n",
       "│ 1001349  ┆ 3   ┆ 3.0  ┆ 143.0        ┆ … ┆ 2.0  ┆ 2.0  ┆ 0.0 ┆ 0.666667 │\n",
       "│ 1001349  ┆ 3   ┆ 3.0  ┆ 65.0         ┆ … ┆ 3.0  ┆ 3.0  ┆ 0.0 ┆ 0.428571 │\n",
       "│ 1001349  ┆ 3   ┆ 3.0  ┆ 75.0         ┆ … ┆ 2.0  ┆ 2.0  ┆ 0.0 ┆ 0.222222 │\n",
       "│ 1001349  ┆ 3   ┆ 3.0  ┆ 26.0         ┆ … ┆ 2.0  ┆ 2.0  ┆ 0.0 ┆ 0.666667 │\n",
       "│ …        ┆ …   ┆ …    ┆ …            ┆ … ┆ …    ┆ …    ┆ …   ┆ …        │\n",
       "│ 995469   ┆ 2   ┆ 2.0  ┆ 7.0          ┆ … ┆ 17.0 ┆ 17.0 ┆ 0.0 ┆ 0.314815 │\n",
       "│ 995469   ┆ 2   ┆ 2.0  ┆ 8.0          ┆ … ┆ 0.0  ┆ 0.0  ┆ 0.0 ┆ 0.0      │\n",
       "│ 995469   ┆ 2   ┆ 2.0  ┆ 8.0          ┆ … ┆ 1.0  ┆ 1.0  ┆ 0.0 ┆ 0.125    │\n",
       "│ 995469   ┆ 2   ┆ 2.0  ┆ 13.0         ┆ … ┆ 3.0  ┆ 3.0  ┆ 0.0 ┆ 0.125    │\n",
       "│ 995469   ┆ 2   ┆ 2.0  ┆ 1.0          ┆ … ┆ 2.0  ┆ 2.0  ┆ 0.0 ┆ 0.25     │\n",
       "└──────────┴─────┴──────┴──────────────┴───┴──────┴──────┴─────┴──────────┘"
      ]
     },
     "execution_count": 10,
     "metadata": {},
     "output_type": "execute_result"
    }
   ],
   "source": [
    "matchPlayersStats"
   ]
  },
  {
   "cell_type": "code",
   "execution_count": null,
   "metadata": {},
   "outputs": [],
   "source": []
  }
 ],
 "metadata": {
  "kernelspec": {
   "display_name": "eda",
   "language": "python",
   "name": "python3"
  },
  "language_info": {
   "codemirror_mode": {
    "name": "ipython",
    "version": 3
   },
   "file_extension": ".py",
   "mimetype": "text/x-python",
   "name": "python",
   "nbconvert_exporter": "python",
   "pygments_lexer": "ipython3",
   "version": "3.8.19"
  }
 },
 "nbformat": 4,
 "nbformat_minor": 2
}
