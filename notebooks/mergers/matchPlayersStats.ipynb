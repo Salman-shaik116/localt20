{
 "cells": [
  {
   "cell_type": "code",
   "execution_count": 1,
   "metadata": {},
   "outputs": [
    {
     "data": {
      "text/html": [
       "<div><style>\n",
       ".dataframe > thead > tr,\n",
       ".dataframe > tbody > tr {\n",
       "  text-align: right;\n",
       "  white-space: pre-wrap;\n",
       "}\n",
       "</style>\n",
       "<small>shape: (82_808, 5)</small><table border=\"1\" class=\"dataframe\"><thead><tr><th>country</th><th>player</th><th>player_id</th><th>season</th><th>match_id</th></tr><tr><td>str</td><td>str</td><td>str</td><td>str</td><td>i64</td></tr></thead><tbody><tr><td>&quot;Australia&quot;</td><td>&quot;AC Gilchrist&quot;</td><td>&quot;2b6e6dec&quot;</td><td>&quot;2005&quot;</td><td>211028</td></tr><tr><td>&quot;Australia&quot;</td><td>&quot;ML Hayden&quot;</td><td>&quot;d8699ab7&quot;</td><td>&quot;2005&quot;</td><td>211028</td></tr><tr><td>&quot;Australia&quot;</td><td>&quot;A Symonds&quot;</td><td>&quot;bd77eb62&quot;</td><td>&quot;2005&quot;</td><td>211028</td></tr><tr><td>&quot;Australia&quot;</td><td>&quot;MJ Clarke&quot;</td><td>&quot;f842c2cf&quot;</td><td>&quot;2005&quot;</td><td>211028</td></tr><tr><td>&quot;Australia&quot;</td><td>&quot;MEK Hussey&quot;</td><td>&quot;48fd7349&quot;</td><td>&quot;2005&quot;</td><td>211028</td></tr><tr><td>&hellip;</td><td>&hellip;</td><td>&hellip;</td><td>&hellip;</td><td>&hellip;</td></tr><tr><td>&quot;Spain&quot;</td><td>&quot;EMC Fowler&quot;</td><td>&quot;4f88a917&quot;</td><td>&quot;2024&quot;</td><td>1451294</td></tr><tr><td>&quot;Spain&quot;</td><td>&quot;Tashiba Mirza&quot;</td><td>&quot;2020d4fd&quot;</td><td>&quot;2024&quot;</td><td>1451294</td></tr><tr><td>&quot;Spain&quot;</td><td>&quot;Memoona Riaz&quot;</td><td>&quot;3c5a7deb&quot;</td><td>&quot;2024&quot;</td><td>1451294</td></tr><tr><td>&quot;Spain&quot;</td><td>&quot;S Basharat&quot;</td><td>&quot;1356b739&quot;</td><td>&quot;2024&quot;</td><td>1451294</td></tr><tr><td>&quot;Spain&quot;</td><td>&quot;LD Chukkapalli-Llinares&quot;</td><td>&quot;27b50a31&quot;</td><td>&quot;2024&quot;</td><td>1451294</td></tr></tbody></table></div>"
      ],
      "text/plain": [
       "shape: (82_808, 5)\n",
       "┌───────────┬─────────────────────────┬───────────┬────────┬──────────┐\n",
       "│ country   ┆ player                  ┆ player_id ┆ season ┆ match_id │\n",
       "│ ---       ┆ ---                     ┆ ---       ┆ ---    ┆ ---      │\n",
       "│ str       ┆ str                     ┆ str       ┆ str    ┆ i64      │\n",
       "╞═══════════╪═════════════════════════╪═══════════╪════════╪══════════╡\n",
       "│ Australia ┆ AC Gilchrist            ┆ 2b6e6dec  ┆ 2005   ┆ 211028   │\n",
       "│ Australia ┆ ML Hayden               ┆ d8699ab7  ┆ 2005   ┆ 211028   │\n",
       "│ Australia ┆ A Symonds               ┆ bd77eb62  ┆ 2005   ┆ 211028   │\n",
       "│ Australia ┆ MJ Clarke               ┆ f842c2cf  ┆ 2005   ┆ 211028   │\n",
       "│ Australia ┆ MEK Hussey              ┆ 48fd7349  ┆ 2005   ┆ 211028   │\n",
       "│ …         ┆ …                       ┆ …         ┆ …      ┆ …        │\n",
       "│ Spain     ┆ EMC Fowler              ┆ 4f88a917  ┆ 2024   ┆ 1451294  │\n",
       "│ Spain     ┆ Tashiba Mirza           ┆ 2020d4fd  ┆ 2024   ┆ 1451294  │\n",
       "│ Spain     ┆ Memoona Riaz            ┆ 3c5a7deb  ┆ 2024   ┆ 1451294  │\n",
       "│ Spain     ┆ S Basharat              ┆ 1356b739  ┆ 2024   ┆ 1451294  │\n",
       "│ Spain     ┆ LD Chukkapalli-Llinares ┆ 27b50a31  ┆ 2024   ┆ 1451294  │\n",
       "└───────────┴─────────────────────────┴───────────┴────────┴──────────┘"
      ]
     },
     "execution_count": 1,
     "metadata": {},
     "output_type": "execute_result"
    }
   ],
   "source": [
    "import os\n",
    "directory = r'D:\\github\\localt20\\data\\processedData'  # for local\n",
    "# directory = '/app/dataInHandNow/afterpreprocessed'  # for docker\n",
    "\n",
    "import polars as pl\n",
    "matches = pl.read_csv(os.path.join(directory, 'matches.csv'))\n",
    "matchPlayers = pl.read_csv(os.path.join(directory, 'Matchplayers.csv')).sort('match_id')\n",
    "playerStats = pl.read_csv(os.path.join(directory, 'playerStats.csv'))\n",
    "matchPlayers"
   ]
  },
  {
   "cell_type": "code",
   "execution_count": 2,
   "metadata": {},
   "outputs": [
    {
     "data": {
      "text/html": [
       "<div><style>\n",
       ".dataframe > thead > tr,\n",
       ".dataframe > tbody > tr {\n",
       "  text-align: right;\n",
       "  white-space: pre-wrap;\n",
       "}\n",
       "</style>\n",
       "<small>shape: (82_808, 6)</small><table border=\"1\" class=\"dataframe\"><thead><tr><th>country</th><th>player</th><th>player_id</th><th>season</th><th>match_id</th><th>flip</th></tr><tr><td>str</td><td>str</td><td>str</td><td>str</td><td>i64</td><td>i32</td></tr></thead><tbody><tr><td>&quot;Australia&quot;</td><td>&quot;AC Gilchrist&quot;</td><td>&quot;2b6e6dec&quot;</td><td>&quot;2005&quot;</td><td>211028</td><td>0</td></tr><tr><td>&quot;Australia&quot;</td><td>&quot;ML Hayden&quot;</td><td>&quot;d8699ab7&quot;</td><td>&quot;2005&quot;</td><td>211028</td><td>0</td></tr><tr><td>&quot;Australia&quot;</td><td>&quot;A Symonds&quot;</td><td>&quot;bd77eb62&quot;</td><td>&quot;2005&quot;</td><td>211028</td><td>0</td></tr><tr><td>&quot;Australia&quot;</td><td>&quot;MJ Clarke&quot;</td><td>&quot;f842c2cf&quot;</td><td>&quot;2005&quot;</td><td>211028</td><td>0</td></tr><tr><td>&quot;Australia&quot;</td><td>&quot;MEK Hussey&quot;</td><td>&quot;48fd7349&quot;</td><td>&quot;2005&quot;</td><td>211028</td><td>0</td></tr><tr><td>&hellip;</td><td>&hellip;</td><td>&hellip;</td><td>&hellip;</td><td>&hellip;</td><td>&hellip;</td></tr><tr><td>&quot;Spain&quot;</td><td>&quot;EMC Fowler&quot;</td><td>&quot;4f88a917&quot;</td><td>&quot;2024&quot;</td><td>1451294</td><td>0</td></tr><tr><td>&quot;Spain&quot;</td><td>&quot;Tashiba Mirza&quot;</td><td>&quot;2020d4fd&quot;</td><td>&quot;2024&quot;</td><td>1451294</td><td>0</td></tr><tr><td>&quot;Spain&quot;</td><td>&quot;Memoona Riaz&quot;</td><td>&quot;3c5a7deb&quot;</td><td>&quot;2024&quot;</td><td>1451294</td><td>0</td></tr><tr><td>&quot;Spain&quot;</td><td>&quot;S Basharat&quot;</td><td>&quot;1356b739&quot;</td><td>&quot;2024&quot;</td><td>1451294</td><td>0</td></tr><tr><td>&quot;Spain&quot;</td><td>&quot;LD Chukkapalli-Llinares&quot;</td><td>&quot;27b50a31&quot;</td><td>&quot;2024&quot;</td><td>1451294</td><td>0</td></tr></tbody></table></div>"
      ],
      "text/plain": [
       "shape: (82_808, 6)\n",
       "┌───────────┬─────────────────────────┬───────────┬────────┬──────────┬──────┐\n",
       "│ country   ┆ player                  ┆ player_id ┆ season ┆ match_id ┆ flip │\n",
       "│ ---       ┆ ---                     ┆ ---       ┆ ---    ┆ ---      ┆ ---  │\n",
       "│ str       ┆ str                     ┆ str       ┆ str    ┆ i64      ┆ i32  │\n",
       "╞═══════════╪═════════════════════════╪═══════════╪════════╪══════════╪══════╡\n",
       "│ Australia ┆ AC Gilchrist            ┆ 2b6e6dec  ┆ 2005   ┆ 211028   ┆ 0    │\n",
       "│ Australia ┆ ML Hayden               ┆ d8699ab7  ┆ 2005   ┆ 211028   ┆ 0    │\n",
       "│ Australia ┆ A Symonds               ┆ bd77eb62  ┆ 2005   ┆ 211028   ┆ 0    │\n",
       "│ Australia ┆ MJ Clarke               ┆ f842c2cf  ┆ 2005   ┆ 211028   ┆ 0    │\n",
       "│ Australia ┆ MEK Hussey              ┆ 48fd7349  ┆ 2005   ┆ 211028   ┆ 0    │\n",
       "│ …         ┆ …                       ┆ …         ┆ …      ┆ …        ┆ …    │\n",
       "│ Spain     ┆ EMC Fowler              ┆ 4f88a917  ┆ 2024   ┆ 1451294  ┆ 0    │\n",
       "│ Spain     ┆ Tashiba Mirza           ┆ 2020d4fd  ┆ 2024   ┆ 1451294  ┆ 0    │\n",
       "│ Spain     ┆ Memoona Riaz            ┆ 3c5a7deb  ┆ 2024   ┆ 1451294  ┆ 0    │\n",
       "│ Spain     ┆ S Basharat              ┆ 1356b739  ┆ 2024   ┆ 1451294  ┆ 0    │\n",
       "│ Spain     ┆ LD Chukkapalli-Llinares ┆ 27b50a31  ┆ 2024   ┆ 1451294  ┆ 0    │\n",
       "└───────────┴─────────────────────────┴───────────┴────────┴──────────┴──────┘"
      ]
     },
     "execution_count": 2,
     "metadata": {},
     "output_type": "execute_result"
    }
   ],
   "source": [
    "matchPlayers = matchPlayers.with_columns(pl.lit(0).alias('flip'))\n",
    "matchPlayers"
   ]
  },
  {
   "cell_type": "code",
   "execution_count": 3,
   "metadata": {},
   "outputs": [
    {
     "data": {
      "text/html": [
       "<div><style>\n",
       ".dataframe > thead > tr,\n",
       ".dataframe > tbody > tr {\n",
       "  text-align: right;\n",
       "  white-space: pre-wrap;\n",
       "}\n",
       "</style>\n",
       "<small>shape: (44, 6)</small><table border=\"1\" class=\"dataframe\"><thead><tr><th>match_id</th><th>flip</th><th>player_id</th><th>country</th><th>player</th><th>season</th></tr><tr><td>i64</td><td>i32</td><td>str</td><td>str</td><td>str</td><td>str</td></tr></thead><tbody><tr><td>211028</td><td>0</td><td>&quot;2b6e6dec&quot;</td><td>&quot;Australia&quot;</td><td>&quot;AC Gilchrist&quot;</td><td>&quot;2005&quot;</td></tr><tr><td>211028</td><td>0</td><td>&quot;d8699ab7&quot;</td><td>&quot;Australia&quot;</td><td>&quot;ML Hayden&quot;</td><td>&quot;2005&quot;</td></tr><tr><td>211028</td><td>0</td><td>&quot;bd77eb62&quot;</td><td>&quot;Australia&quot;</td><td>&quot;A Symonds&quot;</td><td>&quot;2005&quot;</td></tr><tr><td>211028</td><td>0</td><td>&quot;f842c2cf&quot;</td><td>&quot;Australia&quot;</td><td>&quot;MJ Clarke&quot;</td><td>&quot;2005&quot;</td></tr><tr><td>211028</td><td>0</td><td>&quot;48fd7349&quot;</td><td>&quot;Australia&quot;</td><td>&quot;MEK Hussey&quot;</td><td>&quot;2005&quot;</td></tr><tr><td>211028</td><td>0</td><td>&quot;7d415ea5&quot;</td><td>&quot;Australia&quot;</td><td>&quot;RT Ponting&quot;</td><td>&quot;2005&quot;</td></tr><tr><td>211028</td><td>0</td><td>&quot;69762509&quot;</td><td>&quot;Australia&quot;</td><td>&quot;DR Martyn&quot;</td><td>&quot;2005&quot;</td></tr><tr><td>211028</td><td>0</td><td>&quot;dd09ff8e&quot;</td><td>&quot;Australia&quot;</td><td>&quot;B Lee&quot;</td><td>&quot;2005&quot;</td></tr><tr><td>211028</td><td>0</td><td>&quot;74234d66&quot;</td><td>&quot;Australia&quot;</td><td>&quot;JN Gillespie&quot;</td><td>&quot;2005&quot;</td></tr><tr><td>211028</td><td>0</td><td>&quot;8d0ea930&quot;</td><td>&quot;Australia&quot;</td><td>&quot;MS Kasprowicz&quot;</td><td>&quot;2005&quot;</td></tr><tr><td>211028</td><td>0</td><td>&quot;ee7d0c82&quot;</td><td>&quot;Australia&quot;</td><td>&quot;GD McGrath&quot;</td><td>&quot;2005&quot;</td></tr><tr><td>211028</td><td>0</td><td>&quot;ea42ddb9&quot;</td><td>&quot;England&quot;</td><td>&quot;ME Trescothick&quot;</td><td>&quot;2005&quot;</td></tr><tr><td>211028</td><td>0</td><td>&quot;2e929b99&quot;</td><td>&quot;England&quot;</td><td>&quot;GO Jones&quot;</td><td>&quot;2005&quot;</td></tr><tr><td>211028</td><td>0</td><td>&quot;ddc0828d&quot;</td><td>&quot;England&quot;</td><td>&quot;A Flintoff&quot;</td><td>&quot;2005&quot;</td></tr><tr><td>211028</td><td>0</td><td>&quot;39f01cdb&quot;</td><td>&quot;England&quot;</td><td>&quot;KP Pietersen&quot;</td><td>&quot;2005&quot;</td></tr><tr><td>211028</td><td>0</td><td>&quot;6e1b1ec0&quot;</td><td>&quot;England&quot;</td><td>&quot;MP Vaughan&quot;</td><td>&quot;2005&quot;</td></tr><tr><td>211028</td><td>0</td><td>&quot;a386e91b&quot;</td><td>&quot;England&quot;</td><td>&quot;PD Collingwood&quot;</td><td>&quot;2005&quot;</td></tr><tr><td>211028</td><td>0</td><td>&quot;b68d14a9&quot;</td><td>&quot;England&quot;</td><td>&quot;AJ Strauss&quot;</td><td>&quot;2005&quot;</td></tr><tr><td>211028</td><td>0</td><td>&quot;7ee2ce62&quot;</td><td>&quot;England&quot;</td><td>&quot;VS Solanki&quot;</td><td>&quot;2005&quot;</td></tr><tr><td>211028</td><td>0</td><td>&quot;6c75310b&quot;</td><td>&quot;England&quot;</td><td>&quot;J Lewis&quot;</td><td>&quot;2005&quot;</td></tr><tr><td>211028</td><td>0</td><td>&quot;fcbf5a30&quot;</td><td>&quot;England&quot;</td><td>&quot;D Gough&quot;</td><td>&quot;2005&quot;</td></tr><tr><td>211028</td><td>0</td><td>&quot;c16d2e28&quot;</td><td>&quot;England&quot;</td><td>&quot;SJ Harmison&quot;</td><td>&quot;2005&quot;</td></tr><tr><td>211028</td><td>1</td><td>&quot;bd77eb62&quot;</td><td>&quot;Australia&quot;</td><td>&quot;A Symonds&quot;</td><td>&quot;2005&quot;</td></tr><tr><td>211028</td><td>1</td><td>&quot;ee7d0c82&quot;</td><td>&quot;Australia&quot;</td><td>&quot;GD McGrath&quot;</td><td>&quot;2005&quot;</td></tr><tr><td>211028</td><td>1</td><td>&quot;b68d14a9&quot;</td><td>&quot;England&quot;</td><td>&quot;AJ Strauss&quot;</td><td>&quot;2005&quot;</td></tr><tr><td>211028</td><td>1</td><td>&quot;48fd7349&quot;</td><td>&quot;Australia&quot;</td><td>&quot;MEK Hussey&quot;</td><td>&quot;2005&quot;</td></tr><tr><td>211028</td><td>1</td><td>&quot;2e929b99&quot;</td><td>&quot;England&quot;</td><td>&quot;GO Jones&quot;</td><td>&quot;2005&quot;</td></tr><tr><td>211028</td><td>1</td><td>&quot;ddc0828d&quot;</td><td>&quot;England&quot;</td><td>&quot;A Flintoff&quot;</td><td>&quot;2005&quot;</td></tr><tr><td>211028</td><td>1</td><td>&quot;c16d2e28&quot;</td><td>&quot;England&quot;</td><td>&quot;SJ Harmison&quot;</td><td>&quot;2005&quot;</td></tr><tr><td>211028</td><td>1</td><td>&quot;69762509&quot;</td><td>&quot;Australia&quot;</td><td>&quot;DR Martyn&quot;</td><td>&quot;2005&quot;</td></tr><tr><td>211028</td><td>1</td><td>&quot;dd09ff8e&quot;</td><td>&quot;Australia&quot;</td><td>&quot;B Lee&quot;</td><td>&quot;2005&quot;</td></tr><tr><td>211028</td><td>1</td><td>&quot;74234d66&quot;</td><td>&quot;Australia&quot;</td><td>&quot;JN Gillespie&quot;</td><td>&quot;2005&quot;</td></tr><tr><td>211028</td><td>1</td><td>&quot;8d0ea930&quot;</td><td>&quot;Australia&quot;</td><td>&quot;MS Kasprowicz&quot;</td><td>&quot;2005&quot;</td></tr><tr><td>211028</td><td>1</td><td>&quot;7d415ea5&quot;</td><td>&quot;Australia&quot;</td><td>&quot;RT Ponting&quot;</td><td>&quot;2005&quot;</td></tr><tr><td>211028</td><td>1</td><td>&quot;fcbf5a30&quot;</td><td>&quot;England&quot;</td><td>&quot;D Gough&quot;</td><td>&quot;2005&quot;</td></tr><tr><td>211028</td><td>1</td><td>&quot;6c75310b&quot;</td><td>&quot;England&quot;</td><td>&quot;J Lewis&quot;</td><td>&quot;2005&quot;</td></tr><tr><td>211028</td><td>1</td><td>&quot;7ee2ce62&quot;</td><td>&quot;England&quot;</td><td>&quot;VS Solanki&quot;</td><td>&quot;2005&quot;</td></tr><tr><td>211028</td><td>1</td><td>&quot;6e1b1ec0&quot;</td><td>&quot;England&quot;</td><td>&quot;MP Vaughan&quot;</td><td>&quot;2005&quot;</td></tr><tr><td>211028</td><td>1</td><td>&quot;39f01cdb&quot;</td><td>&quot;England&quot;</td><td>&quot;KP Pietersen&quot;</td><td>&quot;2005&quot;</td></tr><tr><td>211028</td><td>1</td><td>&quot;2b6e6dec&quot;</td><td>&quot;Australia&quot;</td><td>&quot;AC Gilchrist&quot;</td><td>&quot;2005&quot;</td></tr><tr><td>211028</td><td>1</td><td>&quot;d8699ab7&quot;</td><td>&quot;Australia&quot;</td><td>&quot;ML Hayden&quot;</td><td>&quot;2005&quot;</td></tr><tr><td>211028</td><td>1</td><td>&quot;a386e91b&quot;</td><td>&quot;England&quot;</td><td>&quot;PD Collingwood&quot;</td><td>&quot;2005&quot;</td></tr><tr><td>211028</td><td>1</td><td>&quot;f842c2cf&quot;</td><td>&quot;Australia&quot;</td><td>&quot;MJ Clarke&quot;</td><td>&quot;2005&quot;</td></tr><tr><td>211028</td><td>1</td><td>&quot;ea42ddb9&quot;</td><td>&quot;England&quot;</td><td>&quot;ME Trescothick&quot;</td><td>&quot;2005&quot;</td></tr></tbody></table></div>"
      ],
      "text/plain": [
       "shape: (44, 6)\n",
       "┌──────────┬──────┬───────────┬───────────┬────────────────┬────────┐\n",
       "│ match_id ┆ flip ┆ player_id ┆ country   ┆ player         ┆ season │\n",
       "│ ---      ┆ ---  ┆ ---       ┆ ---       ┆ ---            ┆ ---    │\n",
       "│ i64      ┆ i32  ┆ str       ┆ str       ┆ str            ┆ str    │\n",
       "╞══════════╪══════╪═══════════╪═══════════╪════════════════╪════════╡\n",
       "│ 211028   ┆ 0    ┆ 2b6e6dec  ┆ Australia ┆ AC Gilchrist   ┆ 2005   │\n",
       "│ 211028   ┆ 0    ┆ d8699ab7  ┆ Australia ┆ ML Hayden      ┆ 2005   │\n",
       "│ 211028   ┆ 0    ┆ bd77eb62  ┆ Australia ┆ A Symonds      ┆ 2005   │\n",
       "│ 211028   ┆ 0    ┆ f842c2cf  ┆ Australia ┆ MJ Clarke      ┆ 2005   │\n",
       "│ 211028   ┆ 0    ┆ 48fd7349  ┆ Australia ┆ MEK Hussey     ┆ 2005   │\n",
       "│ 211028   ┆ 0    ┆ 7d415ea5  ┆ Australia ┆ RT Ponting     ┆ 2005   │\n",
       "│ 211028   ┆ 0    ┆ 69762509  ┆ Australia ┆ DR Martyn      ┆ 2005   │\n",
       "│ 211028   ┆ 0    ┆ dd09ff8e  ┆ Australia ┆ B Lee          ┆ 2005   │\n",
       "│ 211028   ┆ 0    ┆ 74234d66  ┆ Australia ┆ JN Gillespie   ┆ 2005   │\n",
       "│ 211028   ┆ 0    ┆ 8d0ea930  ┆ Australia ┆ MS Kasprowicz  ┆ 2005   │\n",
       "│ 211028   ┆ 0    ┆ ee7d0c82  ┆ Australia ┆ GD McGrath     ┆ 2005   │\n",
       "│ 211028   ┆ 0    ┆ ea42ddb9  ┆ England   ┆ ME Trescothick ┆ 2005   │\n",
       "│ 211028   ┆ 0    ┆ 2e929b99  ┆ England   ┆ GO Jones       ┆ 2005   │\n",
       "│ 211028   ┆ 0    ┆ ddc0828d  ┆ England   ┆ A Flintoff     ┆ 2005   │\n",
       "│ 211028   ┆ 0    ┆ 39f01cdb  ┆ England   ┆ KP Pietersen   ┆ 2005   │\n",
       "│ 211028   ┆ 0    ┆ 6e1b1ec0  ┆ England   ┆ MP Vaughan     ┆ 2005   │\n",
       "│ 211028   ┆ 0    ┆ a386e91b  ┆ England   ┆ PD Collingwood ┆ 2005   │\n",
       "│ 211028   ┆ 0    ┆ b68d14a9  ┆ England   ┆ AJ Strauss     ┆ 2005   │\n",
       "│ 211028   ┆ 0    ┆ 7ee2ce62  ┆ England   ┆ VS Solanki     ┆ 2005   │\n",
       "│ 211028   ┆ 0    ┆ 6c75310b  ┆ England   ┆ J Lewis        ┆ 2005   │\n",
       "│ 211028   ┆ 0    ┆ fcbf5a30  ┆ England   ┆ D Gough        ┆ 2005   │\n",
       "│ 211028   ┆ 0    ┆ c16d2e28  ┆ England   ┆ SJ Harmison    ┆ 2005   │\n",
       "│ 211028   ┆ 1    ┆ bd77eb62  ┆ Australia ┆ A Symonds      ┆ 2005   │\n",
       "│ 211028   ┆ 1    ┆ ee7d0c82  ┆ Australia ┆ GD McGrath     ┆ 2005   │\n",
       "│ 211028   ┆ 1    ┆ b68d14a9  ┆ England   ┆ AJ Strauss     ┆ 2005   │\n",
       "│ 211028   ┆ 1    ┆ 48fd7349  ┆ Australia ┆ MEK Hussey     ┆ 2005   │\n",
       "│ 211028   ┆ 1    ┆ 2e929b99  ┆ England   ┆ GO Jones       ┆ 2005   │\n",
       "│ 211028   ┆ 1    ┆ ddc0828d  ┆ England   ┆ A Flintoff     ┆ 2005   │\n",
       "│ 211028   ┆ 1    ┆ c16d2e28  ┆ England   ┆ SJ Harmison    ┆ 2005   │\n",
       "│ 211028   ┆ 1    ┆ 69762509  ┆ Australia ┆ DR Martyn      ┆ 2005   │\n",
       "│ 211028   ┆ 1    ┆ dd09ff8e  ┆ Australia ┆ B Lee          ┆ 2005   │\n",
       "│ 211028   ┆ 1    ┆ 74234d66  ┆ Australia ┆ JN Gillespie   ┆ 2005   │\n",
       "│ 211028   ┆ 1    ┆ 8d0ea930  ┆ Australia ┆ MS Kasprowicz  ┆ 2005   │\n",
       "│ 211028   ┆ 1    ┆ 7d415ea5  ┆ Australia ┆ RT Ponting     ┆ 2005   │\n",
       "│ 211028   ┆ 1    ┆ fcbf5a30  ┆ England   ┆ D Gough        ┆ 2005   │\n",
       "│ 211028   ┆ 1    ┆ 6c75310b  ┆ England   ┆ J Lewis        ┆ 2005   │\n",
       "│ 211028   ┆ 1    ┆ 7ee2ce62  ┆ England   ┆ VS Solanki     ┆ 2005   │\n",
       "│ 211028   ┆ 1    ┆ 6e1b1ec0  ┆ England   ┆ MP Vaughan     ┆ 2005   │\n",
       "│ 211028   ┆ 1    ┆ 39f01cdb  ┆ England   ┆ KP Pietersen   ┆ 2005   │\n",
       "│ 211028   ┆ 1    ┆ 2b6e6dec  ┆ Australia ┆ AC Gilchrist   ┆ 2005   │\n",
       "│ 211028   ┆ 1    ┆ d8699ab7  ┆ Australia ┆ ML Hayden      ┆ 2005   │\n",
       "│ 211028   ┆ 1    ┆ a386e91b  ┆ England   ┆ PD Collingwood ┆ 2005   │\n",
       "│ 211028   ┆ 1    ┆ f842c2cf  ┆ Australia ┆ MJ Clarke      ┆ 2005   │\n",
       "│ 211028   ┆ 1    ┆ ea42ddb9  ┆ England   ┆ ME Trescothick ┆ 2005   │\n",
       "└──────────┴──────┴───────────┴───────────┴────────────────┴────────┘"
      ]
     },
     "execution_count": 3,
     "metadata": {},
     "output_type": "execute_result"
    }
   ],
   "source": [
    "# Split each match_id's players into two teams\n",
    "def swap_teams(match_df):\n",
    "    team_a = match_df.slice(0, 11)\n",
    "    team_b = match_df.slice(11, 11)\n",
    "    return pl.concat([team_b, team_a]).with_columns(pl.lit(1).alias('flip'))\n",
    "\n",
    "# Group by match_id, apply team swapping, and concatenate with original DataFrame\n",
    "duplicated_df = (\n",
    "    matchPlayers.group_by(\"match_id\").map_groups(swap_teams)\n",
    ")\n",
    "\n",
    "# Concatenate original and duplicated DataFrames\n",
    "matchPlayers = pl.concat([matchPlayers, duplicated_df]).sort(['match_id', 'flip']).select(['match_id','flip','player_id','country','player','season'])\n",
    "pl.Config.set_tbl_rows(44)\n",
    "matchPlayers.head(44)"
   ]
  },
  {
   "cell_type": "code",
   "execution_count": 4,
   "metadata": {},
   "outputs": [
    {
     "data": {
      "text/html": [
       "<div><style>\n",
       ".dataframe > thead > tr,\n",
       ".dataframe > tbody > tr {\n",
       "  text-align: right;\n",
       "  white-space: pre-wrap;\n",
       "}\n",
       "</style>\n",
       "<small>shape: (104_166, 30)</small><table border=\"1\" class=\"dataframe\"><thead><tr><th>match_id</th><th>flip</th><th>player_id</th><th>country</th><th>player</th><th>season</th><th>Player</th><th>Mat</th><th>Inns</th><th>Batting Runs</th><th>SR</th><th>Ave</th><th>Country</th><th>Cum batting Ave</th><th>Cum battings Runs Total</th><th>Cum Inns Total</th><th>Cum SR</th><th>Overs</th><th>Bowling_Runs</th><th>Wkts</th><th>Econ</th><th>Cumulative Overs</th><th>Cumulative Wkts</th><th>Cumulative Runs</th><th>Cumulative Inns</th><th>Cumulative Econ</th><th>Dis</th><th>Ct</th><th>St</th><th>D/I</th></tr><tr><td>i64</td><td>i32</td><td>str</td><td>str</td><td>str</td><td>str</td><td>str</td><td>i64</td><td>f64</td><td>f64</td><td>f64</td><td>f64</td><td>str</td><td>f64</td><td>f64</td><td>f64</td><td>f64</td><td>f64</td><td>f64</td><td>f64</td><td>f64</td><td>f64</td><td>f64</td><td>f64</td><td>f64</td><td>f64</td><td>f64</td><td>f64</td><td>f64</td><td>f64</td></tr></thead><tbody><tr><td>211028</td><td>0</td><td>&quot;2b6e6dec&quot;</td><td>&quot;Australia&quot;</td><td>&quot;AC Gilchrist&quot;</td><td>&quot;2005&quot;</td><td>&quot;AC Gilchrist&quot;</td><td>1</td><td>1.0</td><td>15.0</td><td>107.14</td><td>15.0</td><td>&quot;Australia&quot;</td><td>8.0</td><td>16.0</td><td>2.0</td><td>70.24</td><td>0.0</td><td>0.0</td><td>0.0</td><td>0.0</td><td>0.0</td><td>0.0</td><td>0.0</td><td>0.0</td><td>0.0</td><td>0.0</td><td>0.0</td><td>0.0</td><td>0.0</td></tr><tr><td>211028</td><td>0</td><td>&quot;d8699ab7&quot;</td><td>&quot;Australia&quot;</td><td>&quot;ML Hayden&quot;</td><td>&quot;2005&quot;</td><td>&quot;ML Hayden&quot;</td><td>1</td><td>1.0</td><td>6.0</td><td>150.0</td><td>6.0</td><td>&quot;Australia&quot;</td><td>6.0</td><td>6.0</td><td>1.0</td><td>150.0</td><td>0.0</td><td>0.0</td><td>0.0</td><td>0.0</td><td>0.0</td><td>0.0</td><td>0.0</td><td>0.0</td><td>0.0</td><td>1.0</td><td>1.0</td><td>0.0</td><td>1.0</td></tr><tr><td>211028</td><td>0</td><td>&quot;bd77eb62&quot;</td><td>&quot;Australia&quot;</td><td>&quot;A Symonds&quot;</td><td>&quot;2005&quot;</td><td>&quot;A Symonds&quot;</td><td>1</td><td>1.0</td><td>0.0</td><td>0.0</td><td>0.0</td><td>&quot;Australia&quot;</td><td>16.0</td><td>32.0</td><td>2.0</td><td>123.08</td><td>3.0</td><td>14.0</td><td>2.0</td><td>4.66</td><td>6.0</td><td>3.0</td><td>47.0</td><td>2.0</td><td>23.5</td><td>1.0</td><td>1.0</td><td>0.0</td><td>0.5</td></tr><tr><td>211028</td><td>0</td><td>&quot;f842c2cf&quot;</td><td>&quot;Australia&quot;</td><td>&quot;MJ Clarke&quot;</td><td>&quot;2005&quot;</td><td>&quot;MJ Clarke&quot;</td><td>1</td><td>1.0</td><td>0.0</td><td>0.0</td><td>0.0</td><td>&quot;Australia&quot;</td><td>3.5</td><td>7.0</td><td>2.0</td><td>87.5</td><td>3.0</td><td>25.0</td><td>1.0</td><td>8.33</td><td>5.0</td><td>1.0</td><td>36.0</td><td>2.0</td><td>18.0</td><td>0.0</td><td>0.0</td><td>0.0</td><td>0.0</td></tr><tr><td>211028</td><td>0</td><td>&quot;48fd7349&quot;</td><td>&quot;Australia&quot;</td><td>&quot;MEK Hussey&quot;</td><td>&quot;2005&quot;</td><td>&quot;MEK Hussey&quot;</td><td>1</td><td>1.0</td><td>1.0</td><td>16.66</td><td>1.0</td><td>&quot;Australia&quot;</td><td>16.0</td><td>32.0</td><td>2.0</td><td>111.66</td><td>0.0</td><td>0.0</td><td>0.0</td><td>0.0</td><td>0.0</td><td>0.0</td><td>0.0</td><td>0.0</td><td>0.0</td><td>3.0</td><td>3.0</td><td>0.0</td><td>1.5</td></tr><tr><td>&hellip;</td><td>&hellip;</td><td>&hellip;</td><td>&hellip;</td><td>&hellip;</td><td>&hellip;</td><td>&hellip;</td><td>&hellip;</td><td>&hellip;</td><td>&hellip;</td><td>&hellip;</td><td>&hellip;</td><td>&hellip;</td><td>&hellip;</td><td>&hellip;</td><td>&hellip;</td><td>&hellip;</td><td>&hellip;</td><td>&hellip;</td><td>&hellip;</td><td>&hellip;</td><td>&hellip;</td><td>&hellip;</td><td>&hellip;</td><td>&hellip;</td><td>&hellip;</td><td>&hellip;</td><td>&hellip;</td><td>&hellip;</td><td>&hellip;</td></tr><tr><td>1450767</td><td>1</td><td>&quot;f22d2247&quot;</td><td>&quot;Japan&quot;</td><td>&quot;KH Abe&quot;</td><td>&quot;2024&quot;</td><td>&quot;KH Abe&quot;</td><td>12</td><td>10.0</td><td>206.0</td><td>163.49</td><td>25.75</td><td>&quot;Japan&quot;</td><td>17.03</td><td>255.0</td><td>18.0</td><td>115.31</td><td>0.0</td><td>0.0</td><td>0.0</td><td>0.0</td><td>1.0</td><td>1.0</td><td>8.0</td><td>1.0</td><td>8.0</td><td>3.0</td><td>3.0</td><td>0.0</td><td>0.142857</td></tr><tr><td>1450767</td><td>1</td><td>&quot;fef40097&quot;</td><td>&quot;Japan&quot;</td><td>&quot;W Miyauchi&quot;</td><td>&quot;2024&quot;</td><td>&quot;W Miyauchi&quot;</td><td>12</td><td>8.0</td><td>166.0</td><td>110.66</td><td>27.66</td><td>&quot;Japan&quot;</td><td>19.69</td><td>298.0</td><td>19.0</td><td>93.55</td><td>1.0</td><td>3.0</td><td>0.0</td><td>3.0</td><td>1.0</td><td>0.0</td><td>3.0</td><td>1.0</td><td>3.0</td><td>18.0</td><td>12.0</td><td>6.0</td><td>0.782609</td></tr><tr><td>1450767</td><td>1</td><td>&quot;96275259&quot;</td><td>&quot;Japan&quot;</td><td>&quot;B Ito-Davis&quot;</td><td>&quot;2024&quot;</td><td>&quot;B Ito-Davis&quot;</td><td>10</td><td>7.0</td><td>132.0</td><td>138.94</td><td>26.4</td><td>&quot;Japan&quot;</td><td>26.4</td><td>132.0</td><td>7.0</td><td>138.94</td><td>20.2</td><td>69.0</td><td>14.0</td><td>3.39</td><td>20.2</td><td>14.0</td><td>69.0</td><td>9.0</td><td>7.666667</td><td>6.0</td><td>6.0</td><td>0.0</td><td>0.6</td></tr><tr><td>1450767</td><td>1</td><td>&quot;a6cbe67b&quot;</td><td>&quot;Philippines&quot;</td><td>&quot;Rhys Burinaga&quot;</td><td>&quot;2024&quot;</td><td>&quot;Rhys Burinaga&quot;</td><td>7</td><td>7.0</td><td>34.0</td><td>72.34</td><td>5.66</td><td>&quot;Philippines&quot;</td><td>5.66</td><td>34.0</td><td>7.0</td><td>72.34</td><td>2.1</td><td>9.0</td><td>1.0</td><td>4.15</td><td>2.1</td><td>1.0</td><td>9.0</td><td>1.0</td><td>9.0</td><td>4.0</td><td>4.0</td><td>0.0</td><td>0.571429</td></tr><tr><td>1450767</td><td>1</td><td>&quot;626af7ff&quot;</td><td>&quot;Japan&quot;</td><td>&quot;C Hinze&quot;</td><td>&quot;2024&quot;</td><td>&quot;C Hinze&quot;</td><td>12</td><td>2.0</td><td>24.0</td><td>104.34</td><td>24.0</td><td>&quot;Japan&quot;</td><td>20.33</td><td>61.0</td><td>6.0</td><td>113.84</td><td>37.4</td><td>137.0</td><td>22.0</td><td>3.63</td><td>58.4</td><td>24.0</td><td>290.0</td><td>19.0</td><td>15.263158</td><td>2.0</td><td>2.0</td><td>0.0</td><td>0.105263</td></tr></tbody></table></div>"
      ],
      "text/plain": [
       "shape: (104_166, 30)\n",
       "┌──────────┬──────┬───────────┬─────────────┬───┬──────┬──────┬─────┬──────────┐\n",
       "│ match_id ┆ flip ┆ player_id ┆ country     ┆ … ┆ Dis  ┆ Ct   ┆ St  ┆ D/I      │\n",
       "│ ---      ┆ ---  ┆ ---       ┆ ---         ┆   ┆ ---  ┆ ---  ┆ --- ┆ ---      │\n",
       "│ i64      ┆ i32  ┆ str       ┆ str         ┆   ┆ f64  ┆ f64  ┆ f64 ┆ f64      │\n",
       "╞══════════╪══════╪═══════════╪═════════════╪═══╪══════╪══════╪═════╪══════════╡\n",
       "│ 211028   ┆ 0    ┆ 2b6e6dec  ┆ Australia   ┆ … ┆ 0.0  ┆ 0.0  ┆ 0.0 ┆ 0.0      │\n",
       "│ 211028   ┆ 0    ┆ d8699ab7  ┆ Australia   ┆ … ┆ 1.0  ┆ 1.0  ┆ 0.0 ┆ 1.0      │\n",
       "│ 211028   ┆ 0    ┆ bd77eb62  ┆ Australia   ┆ … ┆ 1.0  ┆ 1.0  ┆ 0.0 ┆ 0.5      │\n",
       "│ 211028   ┆ 0    ┆ f842c2cf  ┆ Australia   ┆ … ┆ 0.0  ┆ 0.0  ┆ 0.0 ┆ 0.0      │\n",
       "│ 211028   ┆ 0    ┆ 48fd7349  ┆ Australia   ┆ … ┆ 3.0  ┆ 3.0  ┆ 0.0 ┆ 1.5      │\n",
       "│ …        ┆ …    ┆ …         ┆ …           ┆ … ┆ …    ┆ …    ┆ …   ┆ …        │\n",
       "│ 1450767  ┆ 1    ┆ f22d2247  ┆ Japan       ┆ … ┆ 3.0  ┆ 3.0  ┆ 0.0 ┆ 0.142857 │\n",
       "│ 1450767  ┆ 1    ┆ fef40097  ┆ Japan       ┆ … ┆ 18.0 ┆ 12.0 ┆ 6.0 ┆ 0.782609 │\n",
       "│ 1450767  ┆ 1    ┆ 96275259  ┆ Japan       ┆ … ┆ 6.0  ┆ 6.0  ┆ 0.0 ┆ 0.6      │\n",
       "│ 1450767  ┆ 1    ┆ a6cbe67b  ┆ Philippines ┆ … ┆ 4.0  ┆ 4.0  ┆ 0.0 ┆ 0.571429 │\n",
       "│ 1450767  ┆ 1    ┆ 626af7ff  ┆ Japan       ┆ … ┆ 2.0  ┆ 2.0  ┆ 0.0 ┆ 0.105263 │\n",
       "└──────────┴──────┴───────────┴─────────────┴───┴──────┴──────┴─────┴──────────┘"
      ]
     },
     "execution_count": 4,
     "metadata": {},
     "output_type": "execute_result"
    }
   ],
   "source": [
    "matchPlayersStats = matchPlayers.join(playerStats, left_on=['player_id','season'] , right_on=['player_id','Season'], how='inner')\n",
    "pl.Config.set_tbl_rows(10)\n",
    "matchPlayersStats"
   ]
  },
  {
   "cell_type": "code",
   "execution_count": 5,
   "metadata": {},
   "outputs": [
    {
     "data": {
      "text/html": [
       "<div><style>\n",
       ".dataframe > thead > tr,\n",
       ".dataframe > tbody > tr {\n",
       "  text-align: right;\n",
       "  white-space: pre-wrap;\n",
       "}\n",
       "</style>\n",
       "<small>shape: (1_200,)</small><table border=\"1\" class=\"dataframe\"><thead><tr><th>match_id</th></tr><tr><td>i64</td></tr></thead><tbody><tr><td>211028</td></tr><tr><td>211048</td></tr><tr><td>225263</td></tr><tr><td>225271</td></tr><tr><td>226374</td></tr><tr><td>&hellip;</td></tr><tr><td>1447492</td></tr><tr><td>1447496</td></tr><tr><td>1450753</td></tr><tr><td>1450759</td></tr><tr><td>1450765</td></tr></tbody></table></div>"
      ],
      "text/plain": [
       "shape: (1_200,)\n",
       "Series: 'match_id' [i64]\n",
       "[\n",
       "\t211028\n",
       "\t211048\n",
       "\t225263\n",
       "\t225271\n",
       "\t226374\n",
       "\t…\n",
       "\t1447492\n",
       "\t1447496\n",
       "\t1450753\n",
       "\t1450759\n",
       "\t1450765\n",
       "]"
      ]
     },
     "execution_count": 5,
     "metadata": {},
     "output_type": "execute_result"
    }
   ],
   "source": [
    "match_id = matchPlayersStats['match_id','player_id'].with_columns(pl.lit(1).alias(\"one\")).group_by('match_id').agg(pl.sum('one')).filter(pl.col('one') == 44)['match_id']\n",
    "# matchPlayersStats['match_id','player_id'].with_columns(pl.lit(1).alias(\"one\")).group_by('match_id').agg(pl.sum('one'))['one'].value_counts().sort(by='one')\n",
    "match_id"
   ]
  },
  {
   "cell_type": "code",
   "execution_count": 6,
   "metadata": {},
   "outputs": [
    {
     "data": {
      "text/html": [
       "<div><style>\n",
       ".dataframe > thead > tr,\n",
       ".dataframe > tbody > tr {\n",
       "  text-align: right;\n",
       "  white-space: pre-wrap;\n",
       "}\n",
       "</style>\n",
       "<small>shape: (52_800, 30)</small><table border=\"1\" class=\"dataframe\"><thead><tr><th>match_id</th><th>flip</th><th>player_id</th><th>country</th><th>player</th><th>season</th><th>Player</th><th>Mat</th><th>Inns</th><th>Batting Runs</th><th>SR</th><th>Ave</th><th>Country</th><th>Cum batting Ave</th><th>Cum battings Runs Total</th><th>Cum Inns Total</th><th>Cum SR</th><th>Overs</th><th>Bowling_Runs</th><th>Wkts</th><th>Econ</th><th>Cumulative Overs</th><th>Cumulative Wkts</th><th>Cumulative Runs</th><th>Cumulative Inns</th><th>Cumulative Econ</th><th>Dis</th><th>Ct</th><th>St</th><th>D/I</th></tr><tr><td>i64</td><td>i32</td><td>str</td><td>str</td><td>str</td><td>str</td><td>str</td><td>i64</td><td>f64</td><td>f64</td><td>f64</td><td>f64</td><td>str</td><td>f64</td><td>f64</td><td>f64</td><td>f64</td><td>f64</td><td>f64</td><td>f64</td><td>f64</td><td>f64</td><td>f64</td><td>f64</td><td>f64</td><td>f64</td><td>f64</td><td>f64</td><td>f64</td><td>f64</td></tr></thead><tbody><tr><td>211028</td><td>0</td><td>&quot;2b6e6dec&quot;</td><td>&quot;Australia&quot;</td><td>&quot;AC Gilchrist&quot;</td><td>&quot;2005&quot;</td><td>&quot;AC Gilchrist&quot;</td><td>1</td><td>1.0</td><td>15.0</td><td>107.14</td><td>15.0</td><td>&quot;Australia&quot;</td><td>8.0</td><td>16.0</td><td>2.0</td><td>70.24</td><td>0.0</td><td>0.0</td><td>0.0</td><td>0.0</td><td>0.0</td><td>0.0</td><td>0.0</td><td>0.0</td><td>0.0</td><td>0.0</td><td>0.0</td><td>0.0</td><td>0.0</td></tr><tr><td>211028</td><td>0</td><td>&quot;d8699ab7&quot;</td><td>&quot;Australia&quot;</td><td>&quot;ML Hayden&quot;</td><td>&quot;2005&quot;</td><td>&quot;ML Hayden&quot;</td><td>1</td><td>1.0</td><td>6.0</td><td>150.0</td><td>6.0</td><td>&quot;Australia&quot;</td><td>6.0</td><td>6.0</td><td>1.0</td><td>150.0</td><td>0.0</td><td>0.0</td><td>0.0</td><td>0.0</td><td>0.0</td><td>0.0</td><td>0.0</td><td>0.0</td><td>0.0</td><td>1.0</td><td>1.0</td><td>0.0</td><td>1.0</td></tr><tr><td>211028</td><td>0</td><td>&quot;bd77eb62&quot;</td><td>&quot;Australia&quot;</td><td>&quot;A Symonds&quot;</td><td>&quot;2005&quot;</td><td>&quot;A Symonds&quot;</td><td>1</td><td>1.0</td><td>0.0</td><td>0.0</td><td>0.0</td><td>&quot;Australia&quot;</td><td>16.0</td><td>32.0</td><td>2.0</td><td>123.08</td><td>3.0</td><td>14.0</td><td>2.0</td><td>4.66</td><td>6.0</td><td>3.0</td><td>47.0</td><td>2.0</td><td>23.5</td><td>1.0</td><td>1.0</td><td>0.0</td><td>0.5</td></tr><tr><td>211028</td><td>0</td><td>&quot;f842c2cf&quot;</td><td>&quot;Australia&quot;</td><td>&quot;MJ Clarke&quot;</td><td>&quot;2005&quot;</td><td>&quot;MJ Clarke&quot;</td><td>1</td><td>1.0</td><td>0.0</td><td>0.0</td><td>0.0</td><td>&quot;Australia&quot;</td><td>3.5</td><td>7.0</td><td>2.0</td><td>87.5</td><td>3.0</td><td>25.0</td><td>1.0</td><td>8.33</td><td>5.0</td><td>1.0</td><td>36.0</td><td>2.0</td><td>18.0</td><td>0.0</td><td>0.0</td><td>0.0</td><td>0.0</td></tr><tr><td>211028</td><td>0</td><td>&quot;48fd7349&quot;</td><td>&quot;Australia&quot;</td><td>&quot;MEK Hussey&quot;</td><td>&quot;2005&quot;</td><td>&quot;MEK Hussey&quot;</td><td>1</td><td>1.0</td><td>1.0</td><td>16.66</td><td>1.0</td><td>&quot;Australia&quot;</td><td>16.0</td><td>32.0</td><td>2.0</td><td>111.66</td><td>0.0</td><td>0.0</td><td>0.0</td><td>0.0</td><td>0.0</td><td>0.0</td><td>0.0</td><td>0.0</td><td>0.0</td><td>3.0</td><td>3.0</td><td>0.0</td><td>1.5</td></tr><tr><td>&hellip;</td><td>&hellip;</td><td>&hellip;</td><td>&hellip;</td><td>&hellip;</td><td>&hellip;</td><td>&hellip;</td><td>&hellip;</td><td>&hellip;</td><td>&hellip;</td><td>&hellip;</td><td>&hellip;</td><td>&hellip;</td><td>&hellip;</td><td>&hellip;</td><td>&hellip;</td><td>&hellip;</td><td>&hellip;</td><td>&hellip;</td><td>&hellip;</td><td>&hellip;</td><td>&hellip;</td><td>&hellip;</td><td>&hellip;</td><td>&hellip;</td><td>&hellip;</td><td>&hellip;</td><td>&hellip;</td><td>&hellip;</td><td>&hellip;</td></tr><tr><td>1450765</td><td>1</td><td>&quot;073126d6&quot;</td><td>&quot;Tanzania&quot;</td><td>&quot;LS Barkania&quot;</td><td>&quot;2024&quot;</td><td>&quot;LS Barkania&quot;</td><td>5</td><td>1.0</td><td>9.0</td><td>56.25</td><td>9.0</td><td>&quot;Tanzania&quot;</td><td>9.0</td><td>9.0</td><td>1.0</td><td>56.25</td><td>13.5</td><td>42.0</td><td>10.0</td><td>3.03</td><td>13.5</td><td>10.0</td><td>42.0</td><td>5.0</td><td>8.4</td><td>1.0</td><td>1.0</td><td>0.0</td><td>0.2</td></tr><tr><td>1450765</td><td>1</td><td>&quot;c06c25fd&quot;</td><td>&quot;Tanzania&quot;</td><td>&quot;Akhil Anil&quot;</td><td>&quot;2024&quot;</td><td>&quot;Akhil Anil&quot;</td><td>5</td><td>3.0</td><td>49.0</td><td>125.64</td><td>24.5</td><td>&quot;Tanzania&quot;</td><td>17.42</td><td>265.0</td><td>23.0</td><td>119.06</td><td>7.0</td><td>25.0</td><td>4.0</td><td>3.57</td><td>63.8</td><td>23.0</td><td>409.0</td><td>22.0</td><td>18.590909</td><td>6.0</td><td>6.0</td><td>0.0</td><td>0.230769</td></tr><tr><td>1450765</td><td>1</td><td>&quot;0848ac5f&quot;</td><td>&quot;Tanzania&quot;</td><td>&quot;S Thakor&quot;</td><td>&quot;2024&quot;</td><td>&quot;S Thakor&quot;</td><td>5</td><td>2.0</td><td>9.0</td><td>112.5</td><td>4.5</td><td>&quot;Tanzania&quot;</td><td>14.14</td><td>477.0</td><td>44.0</td><td>138.44</td><td>15.0</td><td>52.0</td><td>10.0</td><td>3.46</td><td>177.0</td><td>65.0</td><td>980.0</td><td>56.0</td><td>17.5</td><td>19.0</td><td>19.0</td><td>0.0</td><td>0.339286</td></tr><tr><td>1450765</td><td>1</td><td>&quot;29ee9bf9&quot;</td><td>&quot;Tanzania&quot;</td><td>&quot;K Nassoro&quot;</td><td>&quot;2024&quot;</td><td>&quot;K Nassoro&quot;</td><td>5</td><td>2.0</td><td>27.0</td><td>103.84</td><td>13.5</td><td>&quot;Tanzania&quot;</td><td>21.77</td><td>824.0</td><td>55.0</td><td>100.39</td><td>12.0</td><td>44.0</td><td>3.0</td><td>3.66</td><td>146.2</td><td>43.0</td><td>890.0</td><td>53.0</td><td>16.792453</td><td>26.0</td><td>26.0</td><td>0.0</td><td>0.412698</td></tr><tr><td>1450765</td><td>1</td><td>&quot;45ca12a7&quot;</td><td>&quot;Malawi&quot;</td><td>&quot;D Kansonkho&quot;</td><td>&quot;2024&quot;</td><td>&quot;D Kansonkho&quot;</td><td>10</td><td>10.0</td><td>185.0</td><td>102.77</td><td>23.12</td><td>&quot;Malawi&quot;</td><td>19.67</td><td>644.0</td><td>37.0</td><td>89.85</td><td>2.4</td><td>6.0</td><td>2.0</td><td>2.25</td><td>32.0</td><td>11.0</td><td>244.0</td><td>16.0</td><td>15.25</td><td>17.0</td><td>17.0</td><td>0.0</td><td>0.414634</td></tr></tbody></table></div>"
      ],
      "text/plain": [
       "shape: (52_800, 30)\n",
       "┌──────────┬──────┬───────────┬───────────┬───┬──────┬──────┬─────┬──────────┐\n",
       "│ match_id ┆ flip ┆ player_id ┆ country   ┆ … ┆ Dis  ┆ Ct   ┆ St  ┆ D/I      │\n",
       "│ ---      ┆ ---  ┆ ---       ┆ ---       ┆   ┆ ---  ┆ ---  ┆ --- ┆ ---      │\n",
       "│ i64      ┆ i32  ┆ str       ┆ str       ┆   ┆ f64  ┆ f64  ┆ f64 ┆ f64      │\n",
       "╞══════════╪══════╪═══════════╪═══════════╪═══╪══════╪══════╪═════╪══════════╡\n",
       "│ 211028   ┆ 0    ┆ 2b6e6dec  ┆ Australia ┆ … ┆ 0.0  ┆ 0.0  ┆ 0.0 ┆ 0.0      │\n",
       "│ 211028   ┆ 0    ┆ d8699ab7  ┆ Australia ┆ … ┆ 1.0  ┆ 1.0  ┆ 0.0 ┆ 1.0      │\n",
       "│ 211028   ┆ 0    ┆ bd77eb62  ┆ Australia ┆ … ┆ 1.0  ┆ 1.0  ┆ 0.0 ┆ 0.5      │\n",
       "│ 211028   ┆ 0    ┆ f842c2cf  ┆ Australia ┆ … ┆ 0.0  ┆ 0.0  ┆ 0.0 ┆ 0.0      │\n",
       "│ 211028   ┆ 0    ┆ 48fd7349  ┆ Australia ┆ … ┆ 3.0  ┆ 3.0  ┆ 0.0 ┆ 1.5      │\n",
       "│ …        ┆ …    ┆ …         ┆ …         ┆ … ┆ …    ┆ …    ┆ …   ┆ …        │\n",
       "│ 1450765  ┆ 1    ┆ 073126d6  ┆ Tanzania  ┆ … ┆ 1.0  ┆ 1.0  ┆ 0.0 ┆ 0.2      │\n",
       "│ 1450765  ┆ 1    ┆ c06c25fd  ┆ Tanzania  ┆ … ┆ 6.0  ┆ 6.0  ┆ 0.0 ┆ 0.230769 │\n",
       "│ 1450765  ┆ 1    ┆ 0848ac5f  ┆ Tanzania  ┆ … ┆ 19.0 ┆ 19.0 ┆ 0.0 ┆ 0.339286 │\n",
       "│ 1450765  ┆ 1    ┆ 29ee9bf9  ┆ Tanzania  ┆ … ┆ 26.0 ┆ 26.0 ┆ 0.0 ┆ 0.412698 │\n",
       "│ 1450765  ┆ 1    ┆ 45ca12a7  ┆ Malawi    ┆ … ┆ 17.0 ┆ 17.0 ┆ 0.0 ┆ 0.414634 │\n",
       "└──────────┴──────┴───────────┴───────────┴───┴──────┴──────┴─────┴──────────┘"
      ]
     },
     "execution_count": 6,
     "metadata": {},
     "output_type": "execute_result"
    }
   ],
   "source": [
    "matchPlayersStats = matchPlayersStats.filter(pl.col('match_id').is_in(match_id))\n",
    "matchPlayersStats"
   ]
  },
  {
   "cell_type": "code",
   "execution_count": 7,
   "metadata": {},
   "outputs": [
    {
     "data": {
      "text/html": [
       "<div><style>\n",
       ".dataframe > thead > tr,\n",
       ".dataframe > tbody > tr {\n",
       "  text-align: right;\n",
       "  white-space: pre-wrap;\n",
       "}\n",
       "</style>\n",
       "<small>shape: (52_800, 24)</small><table border=\"1\" class=\"dataframe\"><thead><tr><th>match_id</th><th>flip</th><th>Mat</th><th>Inns</th><th>Batting Runs</th><th>SR</th><th>Ave</th><th>Cum batting Ave</th><th>Cum battings Runs Total</th><th>Cum Inns Total</th><th>Cum SR</th><th>Overs</th><th>Bowling_Runs</th><th>Wkts</th><th>Econ</th><th>Cumulative Overs</th><th>Cumulative Wkts</th><th>Cumulative Runs</th><th>Cumulative Inns</th><th>Cumulative Econ</th><th>Dis</th><th>Ct</th><th>St</th><th>D/I</th></tr><tr><td>i64</td><td>i32</td><td>i64</td><td>f64</td><td>f64</td><td>f64</td><td>f64</td><td>f64</td><td>f64</td><td>f64</td><td>f64</td><td>f64</td><td>f64</td><td>f64</td><td>f64</td><td>f64</td><td>f64</td><td>f64</td><td>f64</td><td>f64</td><td>f64</td><td>f64</td><td>f64</td><td>f64</td></tr></thead><tbody><tr><td>211028</td><td>0</td><td>1</td><td>1.0</td><td>15.0</td><td>107.14</td><td>15.0</td><td>8.0</td><td>16.0</td><td>2.0</td><td>70.24</td><td>0.0</td><td>0.0</td><td>0.0</td><td>0.0</td><td>0.0</td><td>0.0</td><td>0.0</td><td>0.0</td><td>0.0</td><td>0.0</td><td>0.0</td><td>0.0</td><td>0.0</td></tr><tr><td>211028</td><td>0</td><td>1</td><td>1.0</td><td>6.0</td><td>150.0</td><td>6.0</td><td>6.0</td><td>6.0</td><td>1.0</td><td>150.0</td><td>0.0</td><td>0.0</td><td>0.0</td><td>0.0</td><td>0.0</td><td>0.0</td><td>0.0</td><td>0.0</td><td>0.0</td><td>1.0</td><td>1.0</td><td>0.0</td><td>1.0</td></tr><tr><td>211028</td><td>0</td><td>1</td><td>1.0</td><td>0.0</td><td>0.0</td><td>0.0</td><td>16.0</td><td>32.0</td><td>2.0</td><td>123.08</td><td>3.0</td><td>14.0</td><td>2.0</td><td>4.66</td><td>6.0</td><td>3.0</td><td>47.0</td><td>2.0</td><td>23.5</td><td>1.0</td><td>1.0</td><td>0.0</td><td>0.5</td></tr><tr><td>211028</td><td>0</td><td>1</td><td>1.0</td><td>0.0</td><td>0.0</td><td>0.0</td><td>3.5</td><td>7.0</td><td>2.0</td><td>87.5</td><td>3.0</td><td>25.0</td><td>1.0</td><td>8.33</td><td>5.0</td><td>1.0</td><td>36.0</td><td>2.0</td><td>18.0</td><td>0.0</td><td>0.0</td><td>0.0</td><td>0.0</td></tr><tr><td>211028</td><td>0</td><td>1</td><td>1.0</td><td>1.0</td><td>16.66</td><td>1.0</td><td>16.0</td><td>32.0</td><td>2.0</td><td>111.66</td><td>0.0</td><td>0.0</td><td>0.0</td><td>0.0</td><td>0.0</td><td>0.0</td><td>0.0</td><td>0.0</td><td>0.0</td><td>3.0</td><td>3.0</td><td>0.0</td><td>1.5</td></tr><tr><td>&hellip;</td><td>&hellip;</td><td>&hellip;</td><td>&hellip;</td><td>&hellip;</td><td>&hellip;</td><td>&hellip;</td><td>&hellip;</td><td>&hellip;</td><td>&hellip;</td><td>&hellip;</td><td>&hellip;</td><td>&hellip;</td><td>&hellip;</td><td>&hellip;</td><td>&hellip;</td><td>&hellip;</td><td>&hellip;</td><td>&hellip;</td><td>&hellip;</td><td>&hellip;</td><td>&hellip;</td><td>&hellip;</td><td>&hellip;</td></tr><tr><td>1450765</td><td>1</td><td>5</td><td>1.0</td><td>9.0</td><td>56.25</td><td>9.0</td><td>9.0</td><td>9.0</td><td>1.0</td><td>56.25</td><td>13.5</td><td>42.0</td><td>10.0</td><td>3.03</td><td>13.5</td><td>10.0</td><td>42.0</td><td>5.0</td><td>8.4</td><td>1.0</td><td>1.0</td><td>0.0</td><td>0.2</td></tr><tr><td>1450765</td><td>1</td><td>5</td><td>3.0</td><td>49.0</td><td>125.64</td><td>24.5</td><td>17.42</td><td>265.0</td><td>23.0</td><td>119.06</td><td>7.0</td><td>25.0</td><td>4.0</td><td>3.57</td><td>63.8</td><td>23.0</td><td>409.0</td><td>22.0</td><td>18.590909</td><td>6.0</td><td>6.0</td><td>0.0</td><td>0.230769</td></tr><tr><td>1450765</td><td>1</td><td>5</td><td>2.0</td><td>9.0</td><td>112.5</td><td>4.5</td><td>14.14</td><td>477.0</td><td>44.0</td><td>138.44</td><td>15.0</td><td>52.0</td><td>10.0</td><td>3.46</td><td>177.0</td><td>65.0</td><td>980.0</td><td>56.0</td><td>17.5</td><td>19.0</td><td>19.0</td><td>0.0</td><td>0.339286</td></tr><tr><td>1450765</td><td>1</td><td>5</td><td>2.0</td><td>27.0</td><td>103.84</td><td>13.5</td><td>21.77</td><td>824.0</td><td>55.0</td><td>100.39</td><td>12.0</td><td>44.0</td><td>3.0</td><td>3.66</td><td>146.2</td><td>43.0</td><td>890.0</td><td>53.0</td><td>16.792453</td><td>26.0</td><td>26.0</td><td>0.0</td><td>0.412698</td></tr><tr><td>1450765</td><td>1</td><td>10</td><td>10.0</td><td>185.0</td><td>102.77</td><td>23.12</td><td>19.67</td><td>644.0</td><td>37.0</td><td>89.85</td><td>2.4</td><td>6.0</td><td>2.0</td><td>2.25</td><td>32.0</td><td>11.0</td><td>244.0</td><td>16.0</td><td>15.25</td><td>17.0</td><td>17.0</td><td>0.0</td><td>0.414634</td></tr></tbody></table></div>"
      ],
      "text/plain": [
       "shape: (52_800, 24)\n",
       "┌──────────┬──────┬─────┬──────┬───┬──────┬──────┬─────┬──────────┐\n",
       "│ match_id ┆ flip ┆ Mat ┆ Inns ┆ … ┆ Dis  ┆ Ct   ┆ St  ┆ D/I      │\n",
       "│ ---      ┆ ---  ┆ --- ┆ ---  ┆   ┆ ---  ┆ ---  ┆ --- ┆ ---      │\n",
       "│ i64      ┆ i32  ┆ i64 ┆ f64  ┆   ┆ f64  ┆ f64  ┆ f64 ┆ f64      │\n",
       "╞══════════╪══════╪═════╪══════╪═══╪══════╪══════╪═════╪══════════╡\n",
       "│ 211028   ┆ 0    ┆ 1   ┆ 1.0  ┆ … ┆ 0.0  ┆ 0.0  ┆ 0.0 ┆ 0.0      │\n",
       "│ 211028   ┆ 0    ┆ 1   ┆ 1.0  ┆ … ┆ 1.0  ┆ 1.0  ┆ 0.0 ┆ 1.0      │\n",
       "│ 211028   ┆ 0    ┆ 1   ┆ 1.0  ┆ … ┆ 1.0  ┆ 1.0  ┆ 0.0 ┆ 0.5      │\n",
       "│ 211028   ┆ 0    ┆ 1   ┆ 1.0  ┆ … ┆ 0.0  ┆ 0.0  ┆ 0.0 ┆ 0.0      │\n",
       "│ 211028   ┆ 0    ┆ 1   ┆ 1.0  ┆ … ┆ 3.0  ┆ 3.0  ┆ 0.0 ┆ 1.5      │\n",
       "│ …        ┆ …    ┆ …   ┆ …    ┆ … ┆ …    ┆ …    ┆ …   ┆ …        │\n",
       "│ 1450765  ┆ 1    ┆ 5   ┆ 1.0  ┆ … ┆ 1.0  ┆ 1.0  ┆ 0.0 ┆ 0.2      │\n",
       "│ 1450765  ┆ 1    ┆ 5   ┆ 3.0  ┆ … ┆ 6.0  ┆ 6.0  ┆ 0.0 ┆ 0.230769 │\n",
       "│ 1450765  ┆ 1    ┆ 5   ┆ 2.0  ┆ … ┆ 19.0 ┆ 19.0 ┆ 0.0 ┆ 0.339286 │\n",
       "│ 1450765  ┆ 1    ┆ 5   ┆ 2.0  ┆ … ┆ 26.0 ┆ 26.0 ┆ 0.0 ┆ 0.412698 │\n",
       "│ 1450765  ┆ 1    ┆ 10  ┆ 10.0 ┆ … ┆ 17.0 ┆ 17.0 ┆ 0.0 ┆ 0.414634 │\n",
       "└──────────┴──────┴─────┴──────┴───┴──────┴──────┴─────┴──────────┘"
      ]
     },
     "execution_count": 7,
     "metadata": {},
     "output_type": "execute_result"
    }
   ],
   "source": [
    "matchPlayersStats = matchPlayersStats.drop(['country','player','player_id','season','Player','Country'])\n",
    "matchPlayersStats"
   ]
  },
  {
   "cell_type": "code",
   "execution_count": 8,
   "metadata": {},
   "outputs": [
    {
     "data": {
      "text/plain": [
       "(52800, 24)"
      ]
     },
     "execution_count": 8,
     "metadata": {},
     "output_type": "execute_result"
    }
   ],
   "source": [
    "matchPlayersStats.shape"
   ]
  },
  {
   "cell_type": "code",
   "execution_count": null,
   "metadata": {},
   "outputs": [],
   "source": [
    "import numpy as np\n",
    "directory = r'D:\\github\\localt20\\data\\aftermerging'  # for local\n",
    "matchPlayersStats.write_csv(os.path.join(directory, 'playersStatsflip.csv'))"
   ]
  },
  {
   "cell_type": "code",
   "execution_count": null,
   "metadata": {},
   "outputs": [],
   "source": []
  }
 ],
 "metadata": {
  "kernelspec": {
   "display_name": "eda",
   "language": "python",
   "name": "python3"
  },
  "language_info": {
   "codemirror_mode": {
    "name": "ipython",
    "version": 3
   },
   "file_extension": ".py",
   "mimetype": "text/x-python",
   "name": "python",
   "nbconvert_exporter": "python",
   "pygments_lexer": "ipython3",
   "version": "3.8.19"
  }
 },
 "nbformat": 4,
 "nbformat_minor": 2
}
