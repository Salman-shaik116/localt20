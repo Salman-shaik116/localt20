{
 "cells": [
  {
   "cell_type": "code",
   "execution_count": 1,
   "metadata": {},
   "outputs": [
    {
     "data": {
      "text/html": [
       "<div><style>\n",
       ".dataframe > thead > tr,\n",
       ".dataframe > tbody > tr {\n",
       "  text-align: right;\n",
       "  white-space: pre-wrap;\n",
       "}\n",
       "</style>\n",
       "<small>shape: (14_082, 15)</small><table border=\"1\" class=\"dataframe\"><thead><tr><th>Player</th><th>Mat</th><th>Inns</th><th>NO</th><th>Runs</th><th>HS</th><th>Ave</th><th>BF</th><th>SR</th><th>100</th><th>50</th><th>0</th><th>4s</th><th>6s</th><th>Season</th></tr><tr><td>str</td><td>i64</td><td>str</td><td>str</td><td>str</td><td>str</td><td>str</td><td>str</td><td>str</td><td>str</td><td>str</td><td>str</td><td>str</td><td>str</td><td>str</td></tr></thead><tbody><tr><td>&quot;Zulqarnain Haider (PAK)&quot;</td><td>2</td><td>&quot;2&quot;</td><td>&quot;0&quot;</td><td>&quot;18&quot;</td><td>&quot;17&quot;</td><td>&quot;9.00&quot;</td><td>&quot;21&quot;</td><td>&quot;85.71&quot;</td><td>&quot;0&quot;</td><td>&quot;0&quot;</td><td>&quot;0&quot;</td><td>&quot;1&quot;</td><td>&quot;0&quot;</td><td>&quot;2010/11&quot;</td></tr><tr><td>&quot;Zulqarnain Haider (PAK)&quot;</td><td>1</td><td>&quot;1&quot;</td><td>&quot;0&quot;</td><td>&quot;5&quot;</td><td>&quot;5&quot;</td><td>&quot;5.00&quot;</td><td>&quot;9&quot;</td><td>&quot;55.55&quot;</td><td>&quot;0&quot;</td><td>&quot;0&quot;</td><td>&quot;0&quot;</td><td>&quot;0&quot;</td><td>&quot;0&quot;</td><td>&quot;2006/07&quot;</td></tr><tr><td>&quot;Zulqarnain Haider (ESP)&quot;</td><td>1</td><td>&quot;-&quot;</td><td>&quot;-&quot;</td><td>&quot;-&quot;</td><td>&quot;-&quot;</td><td>&quot;-&quot;</td><td>&quot;-&quot;</td><td>&quot;-&quot;</td><td>&quot;-&quot;</td><td>&quot;-&quot;</td><td>&quot;-&quot;</td><td>&quot;-&quot;</td><td>&quot;-&quot;</td><td>&quot;2019/20&quot;</td></tr><tr><td>&quot;Zulqarnain Haider (ESP)&quot;</td><td>4</td><td>&quot;1&quot;</td><td>&quot;0&quot;</td><td>&quot;0&quot;</td><td>&quot;0&quot;</td><td>&quot;0.00&quot;</td><td>&quot;0&quot;</td><td>&quot;-&quot;</td><td>&quot;0&quot;</td><td>&quot;0&quot;</td><td>&quot;1&quot;</td><td>&quot;0&quot;</td><td>&quot;0&quot;</td><td>&quot;2019&quot;</td></tr><tr><td>&quot;Zulqarnain Haider (ESP)&quot;</td><td>6</td><td>&quot;3&quot;</td><td>&quot;1&quot;</td><td>&quot;8&quot;</td><td>&quot;4&quot;</td><td>&quot;4.00&quot;</td><td>&quot;12&quot;</td><td>&quot;66.66&quot;</td><td>&quot;0&quot;</td><td>&quot;0&quot;</td><td>&quot;0&quot;</td><td>&quot;0&quot;</td><td>&quot;0&quot;</td><td>&quot;2022&quot;</td></tr><tr><td>&hellip;</td><td>&hellip;</td><td>&hellip;</td><td>&hellip;</td><td>&hellip;</td><td>&hellip;</td><td>&hellip;</td><td>&hellip;</td><td>&hellip;</td><td>&hellip;</td><td>&hellip;</td><td>&hellip;</td><td>&hellip;</td><td>&hellip;</td><td>&hellip;</td></tr><tr><td>&quot;A Ahmadhel (BUL)&quot;</td><td>3</td><td>&quot;3&quot;</td><td>&quot;0&quot;</td><td>&quot;5&quot;</td><td>&quot;4&quot;</td><td>&quot;1.66&quot;</td><td>&quot;13&quot;</td><td>&quot;38.46&quot;</td><td>&quot;0&quot;</td><td>&quot;0&quot;</td><td>&quot;1&quot;</td><td>&quot;1&quot;</td><td>&quot;0&quot;</td><td>&quot;2021&quot;</td></tr><tr><td>&quot;A Ahmadhel (BUL)&quot;</td><td>2</td><td>&quot;1&quot;</td><td>&quot;0&quot;</td><td>&quot;2&quot;</td><td>&quot;2&quot;</td><td>&quot;2.00&quot;</td><td>&quot;7&quot;</td><td>&quot;28.57&quot;</td><td>&quot;0&quot;</td><td>&quot;0&quot;</td><td>&quot;0&quot;</td><td>&quot;0&quot;</td><td>&quot;0&quot;</td><td>&quot;2020/21&quot;</td></tr><tr><td>&quot;A Ahmadhel (BUL)&quot;</td><td>1</td><td>&quot;1&quot;</td><td>&quot;1&quot;</td><td>&quot;8&quot;</td><td>&quot;8*&quot;</td><td>&quot;-&quot;</td><td>&quot;8&quot;</td><td>&quot;100.00&quot;</td><td>&quot;0&quot;</td><td>&quot;0&quot;</td><td>&quot;0&quot;</td><td>&quot;0&quot;</td><td>&quot;0&quot;</td><td>&quot;2020&quot;</td></tr><tr><td>&quot;A Ahmadhel (BUL)&quot;</td><td>3</td><td>&quot;2&quot;</td><td>&quot;0&quot;</td><td>&quot;16&quot;</td><td>&quot;15&quot;</td><td>&quot;8.00&quot;</td><td>&quot;16&quot;</td><td>&quot;100.00&quot;</td><td>&quot;0&quot;</td><td>&quot;0&quot;</td><td>&quot;0&quot;</td><td>&quot;2&quot;</td><td>&quot;0&quot;</td><td>&quot;2019/20&quot;</td></tr><tr><td>&quot;A Ahmadhel (BUL)&quot;</td><td>2</td><td>&quot;-&quot;</td><td>&quot;-&quot;</td><td>&quot;-&quot;</td><td>&quot;-&quot;</td><td>&quot;-&quot;</td><td>&quot;-&quot;</td><td>&quot;-&quot;</td><td>&quot;-&quot;</td><td>&quot;-&quot;</td><td>&quot;-&quot;</td><td>&quot;-&quot;</td><td>&quot;-&quot;</td><td>&quot;2023&quot;</td></tr></tbody></table></div>"
      ],
      "text/plain": [
       "shape: (14_082, 15)\n",
       "┌─────────────────────────┬─────┬──────┬─────┬───┬─────┬─────┬─────┬─────────┐\n",
       "│ Player                  ┆ Mat ┆ Inns ┆ NO  ┆ … ┆ 0   ┆ 4s  ┆ 6s  ┆ Season  │\n",
       "│ ---                     ┆ --- ┆ ---  ┆ --- ┆   ┆ --- ┆ --- ┆ --- ┆ ---     │\n",
       "│ str                     ┆ i64 ┆ str  ┆ str ┆   ┆ str ┆ str ┆ str ┆ str     │\n",
       "╞═════════════════════════╪═════╪══════╪═════╪═══╪═════╪═════╪═════╪═════════╡\n",
       "│ Zulqarnain Haider (PAK) ┆ 2   ┆ 2    ┆ 0   ┆ … ┆ 0   ┆ 1   ┆ 0   ┆ 2010/11 │\n",
       "│ Zulqarnain Haider (PAK) ┆ 1   ┆ 1    ┆ 0   ┆ … ┆ 0   ┆ 0   ┆ 0   ┆ 2006/07 │\n",
       "│ Zulqarnain Haider (ESP) ┆ 1   ┆ -    ┆ -   ┆ … ┆ -   ┆ -   ┆ -   ┆ 2019/20 │\n",
       "│ Zulqarnain Haider (ESP) ┆ 4   ┆ 1    ┆ 0   ┆ … ┆ 1   ┆ 0   ┆ 0   ┆ 2019    │\n",
       "│ Zulqarnain Haider (ESP) ┆ 6   ┆ 3    ┆ 1   ┆ … ┆ 0   ┆ 0   ┆ 0   ┆ 2022    │\n",
       "│ …                       ┆ …   ┆ …    ┆ …   ┆ … ┆ …   ┆ …   ┆ …   ┆ …       │\n",
       "│ A Ahmadhel (BUL)        ┆ 3   ┆ 3    ┆ 0   ┆ … ┆ 1   ┆ 1   ┆ 0   ┆ 2021    │\n",
       "│ A Ahmadhel (BUL)        ┆ 2   ┆ 1    ┆ 0   ┆ … ┆ 0   ┆ 0   ┆ 0   ┆ 2020/21 │\n",
       "│ A Ahmadhel (BUL)        ┆ 1   ┆ 1    ┆ 1   ┆ … ┆ 0   ┆ 0   ┆ 0   ┆ 2020    │\n",
       "│ A Ahmadhel (BUL)        ┆ 3   ┆ 2    ┆ 0   ┆ … ┆ 0   ┆ 2   ┆ 0   ┆ 2019/20 │\n",
       "│ A Ahmadhel (BUL)        ┆ 2   ┆ -    ┆ -   ┆ … ┆ -   ┆ -   ┆ -   ┆ 2023    │\n",
       "└─────────────────────────┴─────┴──────┴─────┴───┴─────┴─────┴─────┴─────────┘"
      ]
     },
     "execution_count": 1,
     "metadata": {},
     "output_type": "execute_result"
    }
   ],
   "source": [
    "import os\n",
    "import polars as pl\n",
    "\n",
    "# Specify the directory where your CSV files are located\n",
    "directory = r'D:\\github\\localt20\\data'\n",
    "\n",
    "batting_data = pl.read_csv(os.path.join(directory, 't20_batting_stats.csv'))\n",
    "batting_data"
   ]
  },
  {
   "cell_type": "code",
   "execution_count": 2,
   "metadata": {},
   "outputs": [
    {
     "data": {
      "text/html": [
       "<div><style>\n",
       ".dataframe > thead > tr,\n",
       ".dataframe > tbody > tr {\n",
       "  text-align: right;\n",
       "  white-space: pre-wrap;\n",
       "}\n",
       "</style>\n",
       "<small>shape: (14_082, 7)</small><table border=\"1\" class=\"dataframe\"><thead><tr><th>Player</th><th>Season</th><th>Mat</th><th>Inns</th><th>Runs</th><th>SR</th><th>Ave</th></tr><tr><td>str</td><td>str</td><td>i64</td><td>str</td><td>str</td><td>str</td><td>str</td></tr></thead><tbody><tr><td>&quot;A Ahmadhel (BUL)&quot;</td><td>&quot;2019/20&quot;</td><td>3</td><td>&quot;2&quot;</td><td>&quot;16&quot;</td><td>&quot;100.00&quot;</td><td>&quot;8.00&quot;</td></tr><tr><td>&quot;A Ahmadhel (BUL)&quot;</td><td>&quot;2020&quot;</td><td>1</td><td>&quot;1&quot;</td><td>&quot;8&quot;</td><td>&quot;100.00&quot;</td><td>&quot;-&quot;</td></tr><tr><td>&quot;A Ahmadhel (BUL)&quot;</td><td>&quot;2020/21&quot;</td><td>2</td><td>&quot;1&quot;</td><td>&quot;2&quot;</td><td>&quot;28.57&quot;</td><td>&quot;2.00&quot;</td></tr><tr><td>&quot;A Ahmadhel (BUL)&quot;</td><td>&quot;2021&quot;</td><td>3</td><td>&quot;3&quot;</td><td>&quot;5&quot;</td><td>&quot;38.46&quot;</td><td>&quot;1.66&quot;</td></tr><tr><td>&quot;A Ahmadhel (BUL)&quot;</td><td>&quot;2023&quot;</td><td>2</td><td>&quot;-&quot;</td><td>&quot;-&quot;</td><td>&quot;-&quot;</td><td>&quot;-&quot;</td></tr><tr><td>&hellip;</td><td>&hellip;</td><td>&hellip;</td><td>&hellip;</td><td>&hellip;</td><td>&hellip;</td><td>&hellip;</td></tr><tr><td>&quot;Zulqarnain Haider (ESP)&quot;</td><td>&quot;2019&quot;</td><td>4</td><td>&quot;1&quot;</td><td>&quot;0&quot;</td><td>&quot;-&quot;</td><td>&quot;0.00&quot;</td></tr><tr><td>&quot;Zulqarnain Haider (ESP)&quot;</td><td>&quot;2019/20&quot;</td><td>1</td><td>&quot;-&quot;</td><td>&quot;-&quot;</td><td>&quot;-&quot;</td><td>&quot;-&quot;</td></tr><tr><td>&quot;Zulqarnain Haider (ESP)&quot;</td><td>&quot;2022&quot;</td><td>6</td><td>&quot;3&quot;</td><td>&quot;8&quot;</td><td>&quot;66.66&quot;</td><td>&quot;4.00&quot;</td></tr><tr><td>&quot;Zulqarnain Haider (PAK)&quot;</td><td>&quot;2006/07&quot;</td><td>1</td><td>&quot;1&quot;</td><td>&quot;5&quot;</td><td>&quot;55.55&quot;</td><td>&quot;5.00&quot;</td></tr><tr><td>&quot;Zulqarnain Haider (PAK)&quot;</td><td>&quot;2010/11&quot;</td><td>2</td><td>&quot;2&quot;</td><td>&quot;18&quot;</td><td>&quot;85.71&quot;</td><td>&quot;9.00&quot;</td></tr></tbody></table></div>"
      ],
      "text/plain": [
       "shape: (14_082, 7)\n",
       "┌─────────────────────────┬─────────┬─────┬──────┬──────┬────────┬──────┐\n",
       "│ Player                  ┆ Season  ┆ Mat ┆ Inns ┆ Runs ┆ SR     ┆ Ave  │\n",
       "│ ---                     ┆ ---     ┆ --- ┆ ---  ┆ ---  ┆ ---    ┆ ---  │\n",
       "│ str                     ┆ str     ┆ i64 ┆ str  ┆ str  ┆ str    ┆ str  │\n",
       "╞═════════════════════════╪═════════╪═════╪══════╪══════╪════════╪══════╡\n",
       "│ A Ahmadhel (BUL)        ┆ 2019/20 ┆ 3   ┆ 2    ┆ 16   ┆ 100.00 ┆ 8.00 │\n",
       "│ A Ahmadhel (BUL)        ┆ 2020    ┆ 1   ┆ 1    ┆ 8    ┆ 100.00 ┆ -    │\n",
       "│ A Ahmadhel (BUL)        ┆ 2020/21 ┆ 2   ┆ 1    ┆ 2    ┆ 28.57  ┆ 2.00 │\n",
       "│ A Ahmadhel (BUL)        ┆ 2021    ┆ 3   ┆ 3    ┆ 5    ┆ 38.46  ┆ 1.66 │\n",
       "│ A Ahmadhel (BUL)        ┆ 2023    ┆ 2   ┆ -    ┆ -    ┆ -      ┆ -    │\n",
       "│ …                       ┆ …       ┆ …   ┆ …    ┆ …    ┆ …      ┆ …    │\n",
       "│ Zulqarnain Haider (ESP) ┆ 2019    ┆ 4   ┆ 1    ┆ 0    ┆ -      ┆ 0.00 │\n",
       "│ Zulqarnain Haider (ESP) ┆ 2019/20 ┆ 1   ┆ -    ┆ -    ┆ -      ┆ -    │\n",
       "│ Zulqarnain Haider (ESP) ┆ 2022    ┆ 6   ┆ 3    ┆ 8    ┆ 66.66  ┆ 4.00 │\n",
       "│ Zulqarnain Haider (PAK) ┆ 2006/07 ┆ 1   ┆ 1    ┆ 5    ┆ 55.55  ┆ 5.00 │\n",
       "│ Zulqarnain Haider (PAK) ┆ 2010/11 ┆ 2   ┆ 2    ┆ 18   ┆ 85.71  ┆ 9.00 │\n",
       "└─────────────────────────┴─────────┴─────┴──────┴──────┴────────┴──────┘"
      ]
     },
     "execution_count": 2,
     "metadata": {},
     "output_type": "execute_result"
    }
   ],
   "source": [
    "batting_data = batting_data.select([\"Player\",\"Season\",\"Mat\",\"Inns\",\"Runs\",\"SR\",\"Ave\"]).sort([\"Player\",\"Season\"])\n",
    "batting_data"
   ]
  },
  {
   "cell_type": "code",
   "execution_count": 3,
   "metadata": {},
   "outputs": [
    {
     "data": {
      "text/html": [
       "<div><style>\n",
       ".dataframe > thead > tr,\n",
       ".dataframe > tbody > tr {\n",
       "  text-align: right;\n",
       "  white-space: pre-wrap;\n",
       "}\n",
       "</style>\n",
       "<small>shape: (14_082, 7)</small><table border=\"1\" class=\"dataframe\"><thead><tr><th>Player</th><th>Season</th><th>Mat</th><th>Inns</th><th>Runs</th><th>SR</th><th>Ave</th></tr><tr><td>str</td><td>str</td><td>i64</td><td>f64</td><td>f64</td><td>f64</td><td>f64</td></tr></thead><tbody><tr><td>&quot;A Ahmadhel (BUL)&quot;</td><td>&quot;2019/20&quot;</td><td>3</td><td>2.0</td><td>16.0</td><td>100.0</td><td>8.0</td></tr><tr><td>&quot;A Ahmadhel (BUL)&quot;</td><td>&quot;2020&quot;</td><td>1</td><td>1.0</td><td>8.0</td><td>100.0</td><td>8.0</td></tr><tr><td>&quot;A Ahmadhel (BUL)&quot;</td><td>&quot;2020/21&quot;</td><td>2</td><td>1.0</td><td>2.0</td><td>28.57</td><td>2.0</td></tr><tr><td>&quot;A Ahmadhel (BUL)&quot;</td><td>&quot;2021&quot;</td><td>3</td><td>3.0</td><td>5.0</td><td>38.46</td><td>1.66</td></tr><tr><td>&quot;A Ahmadhel (BUL)&quot;</td><td>&quot;2023&quot;</td><td>2</td><td>0.0</td><td>0.0</td><td>0.0</td><td>0.0</td></tr><tr><td>&hellip;</td><td>&hellip;</td><td>&hellip;</td><td>&hellip;</td><td>&hellip;</td><td>&hellip;</td><td>&hellip;</td></tr><tr><td>&quot;Zulqarnain Haider (ESP)&quot;</td><td>&quot;2019&quot;</td><td>4</td><td>1.0</td><td>0.0</td><td>0.0</td><td>0.0</td></tr><tr><td>&quot;Zulqarnain Haider (ESP)&quot;</td><td>&quot;2019/20&quot;</td><td>1</td><td>0.0</td><td>0.0</td><td>0.0</td><td>0.0</td></tr><tr><td>&quot;Zulqarnain Haider (ESP)&quot;</td><td>&quot;2022&quot;</td><td>6</td><td>3.0</td><td>8.0</td><td>66.66</td><td>4.0</td></tr><tr><td>&quot;Zulqarnain Haider (PAK)&quot;</td><td>&quot;2006/07&quot;</td><td>1</td><td>1.0</td><td>5.0</td><td>55.55</td><td>5.0</td></tr><tr><td>&quot;Zulqarnain Haider (PAK)&quot;</td><td>&quot;2010/11&quot;</td><td>2</td><td>2.0</td><td>18.0</td><td>85.71</td><td>9.0</td></tr></tbody></table></div>"
      ],
      "text/plain": [
       "shape: (14_082, 7)\n",
       "┌─────────────────────────┬─────────┬─────┬──────┬──────┬───────┬──────┐\n",
       "│ Player                  ┆ Season  ┆ Mat ┆ Inns ┆ Runs ┆ SR    ┆ Ave  │\n",
       "│ ---                     ┆ ---     ┆ --- ┆ ---  ┆ ---  ┆ ---   ┆ ---  │\n",
       "│ str                     ┆ str     ┆ i64 ┆ f64  ┆ f64  ┆ f64   ┆ f64  │\n",
       "╞═════════════════════════╪═════════╪═════╪══════╪══════╪═══════╪══════╡\n",
       "│ A Ahmadhel (BUL)        ┆ 2019/20 ┆ 3   ┆ 2.0  ┆ 16.0 ┆ 100.0 ┆ 8.0  │\n",
       "│ A Ahmadhel (BUL)        ┆ 2020    ┆ 1   ┆ 1.0  ┆ 8.0  ┆ 100.0 ┆ 8.0  │\n",
       "│ A Ahmadhel (BUL)        ┆ 2020/21 ┆ 2   ┆ 1.0  ┆ 2.0  ┆ 28.57 ┆ 2.0  │\n",
       "│ A Ahmadhel (BUL)        ┆ 2021    ┆ 3   ┆ 3.0  ┆ 5.0  ┆ 38.46 ┆ 1.66 │\n",
       "│ A Ahmadhel (BUL)        ┆ 2023    ┆ 2   ┆ 0.0  ┆ 0.0  ┆ 0.0   ┆ 0.0  │\n",
       "│ …                       ┆ …       ┆ …   ┆ …    ┆ …    ┆ …     ┆ …    │\n",
       "│ Zulqarnain Haider (ESP) ┆ 2019    ┆ 4   ┆ 1.0  ┆ 0.0  ┆ 0.0   ┆ 0.0  │\n",
       "│ Zulqarnain Haider (ESP) ┆ 2019/20 ┆ 1   ┆ 0.0  ┆ 0.0  ┆ 0.0   ┆ 0.0  │\n",
       "│ Zulqarnain Haider (ESP) ┆ 2022    ┆ 6   ┆ 3.0  ┆ 8.0  ┆ 66.66 ┆ 4.0  │\n",
       "│ Zulqarnain Haider (PAK) ┆ 2006/07 ┆ 1   ┆ 1.0  ┆ 5.0  ┆ 55.55 ┆ 5.0  │\n",
       "│ Zulqarnain Haider (PAK) ┆ 2010/11 ┆ 2   ┆ 2.0  ┆ 18.0 ┆ 85.71 ┆ 9.0  │\n",
       "└─────────────────────────┴─────────┴─────┴──────┴──────┴───────┴──────┘"
      ]
     },
     "execution_count": 3,
     "metadata": {},
     "output_type": "execute_result"
    }
   ],
   "source": [
    "batting_data = batting_data.with_columns(pl.col(\"SR\").str.replace(\"-\",pl.lit('0')).cast(pl.Float64))\n",
    "batting_data = batting_data.with_columns(pl.col(\"Inns\").str.replace(\"-\",pl.lit('0')).cast(pl.Float64))\n",
    "batting_data = batting_data.with_columns(pl.col(\"Runs\").str.replace(\"-\",pl.lit('0')).cast(pl.Float64))\n",
    "batting_data = batting_data.with_columns(pl.col(\"Ave\").str.replace(\"-\",pl.col('Runs')/pl.col(\"Inns\")).cast(pl.Float64).fill_nan(0).round(2))\n",
    "batting_data"
   ]
  },
  {
   "cell_type": "code",
   "execution_count": 4,
   "metadata": {},
   "outputs": [
    {
     "data": {
      "text/html": [
       "<div><style>\n",
       ".dataframe > thead > tr,\n",
       ".dataframe > tbody > tr {\n",
       "  text-align: right;\n",
       "  white-space: pre-wrap;\n",
       "}\n",
       "</style>\n",
       "<small>shape: (14_082, 8)</small><table border=\"1\" class=\"dataframe\"><thead><tr><th>Player</th><th>Season</th><th>Mat</th><th>Inns</th><th>Runs</th><th>SR</th><th>Ave</th><th>Country</th></tr><tr><td>str</td><td>str</td><td>i64</td><td>f64</td><td>f64</td><td>f64</td><td>f64</td><td>str</td></tr></thead><tbody><tr><td>&quot;A Ahmadhel&quot;</td><td>&quot;2019/20&quot;</td><td>3</td><td>2.0</td><td>16.0</td><td>100.0</td><td>8.0</td><td>&quot;BUL)&quot;</td></tr><tr><td>&quot;A Ahmadhel&quot;</td><td>&quot;2020&quot;</td><td>1</td><td>1.0</td><td>8.0</td><td>100.0</td><td>8.0</td><td>&quot;BUL)&quot;</td></tr><tr><td>&quot;A Ahmadhel&quot;</td><td>&quot;2020/21&quot;</td><td>2</td><td>1.0</td><td>2.0</td><td>28.57</td><td>2.0</td><td>&quot;BUL)&quot;</td></tr><tr><td>&quot;A Ahmadhel&quot;</td><td>&quot;2021&quot;</td><td>3</td><td>3.0</td><td>5.0</td><td>38.46</td><td>1.66</td><td>&quot;BUL)&quot;</td></tr><tr><td>&quot;A Ahmadhel&quot;</td><td>&quot;2023&quot;</td><td>2</td><td>0.0</td><td>0.0</td><td>0.0</td><td>0.0</td><td>&quot;BUL)&quot;</td></tr><tr><td>&hellip;</td><td>&hellip;</td><td>&hellip;</td><td>&hellip;</td><td>&hellip;</td><td>&hellip;</td><td>&hellip;</td><td>&hellip;</td></tr><tr><td>&quot;Zulqarnain Haider&quot;</td><td>&quot;2019&quot;</td><td>4</td><td>1.0</td><td>0.0</td><td>0.0</td><td>0.0</td><td>&quot;ESP)&quot;</td></tr><tr><td>&quot;Zulqarnain Haider&quot;</td><td>&quot;2019/20&quot;</td><td>1</td><td>0.0</td><td>0.0</td><td>0.0</td><td>0.0</td><td>&quot;ESP)&quot;</td></tr><tr><td>&quot;Zulqarnain Haider&quot;</td><td>&quot;2022&quot;</td><td>6</td><td>3.0</td><td>8.0</td><td>66.66</td><td>4.0</td><td>&quot;ESP)&quot;</td></tr><tr><td>&quot;Zulqarnain Haider&quot;</td><td>&quot;2006/07&quot;</td><td>1</td><td>1.0</td><td>5.0</td><td>55.55</td><td>5.0</td><td>&quot;PAK)&quot;</td></tr><tr><td>&quot;Zulqarnain Haider&quot;</td><td>&quot;2010/11&quot;</td><td>2</td><td>2.0</td><td>18.0</td><td>85.71</td><td>9.0</td><td>&quot;PAK)&quot;</td></tr></tbody></table></div>"
      ],
      "text/plain": [
       "shape: (14_082, 8)\n",
       "┌───────────────────┬─────────┬─────┬──────┬──────┬───────┬──────┬─────────┐\n",
       "│ Player            ┆ Season  ┆ Mat ┆ Inns ┆ Runs ┆ SR    ┆ Ave  ┆ Country │\n",
       "│ ---               ┆ ---     ┆ --- ┆ ---  ┆ ---  ┆ ---   ┆ ---  ┆ ---     │\n",
       "│ str               ┆ str     ┆ i64 ┆ f64  ┆ f64  ┆ f64   ┆ f64  ┆ str     │\n",
       "╞═══════════════════╪═════════╪═════╪══════╪══════╪═══════╪══════╪═════════╡\n",
       "│ A Ahmadhel        ┆ 2019/20 ┆ 3   ┆ 2.0  ┆ 16.0 ┆ 100.0 ┆ 8.0  ┆ BUL)    │\n",
       "│ A Ahmadhel        ┆ 2020    ┆ 1   ┆ 1.0  ┆ 8.0  ┆ 100.0 ┆ 8.0  ┆ BUL)    │\n",
       "│ A Ahmadhel        ┆ 2020/21 ┆ 2   ┆ 1.0  ┆ 2.0  ┆ 28.57 ┆ 2.0  ┆ BUL)    │\n",
       "│ A Ahmadhel        ┆ 2021    ┆ 3   ┆ 3.0  ┆ 5.0  ┆ 38.46 ┆ 1.66 ┆ BUL)    │\n",
       "│ A Ahmadhel        ┆ 2023    ┆ 2   ┆ 0.0  ┆ 0.0  ┆ 0.0   ┆ 0.0  ┆ BUL)    │\n",
       "│ …                 ┆ …       ┆ …   ┆ …    ┆ …    ┆ …     ┆ …    ┆ …       │\n",
       "│ Zulqarnain Haider ┆ 2019    ┆ 4   ┆ 1.0  ┆ 0.0  ┆ 0.0   ┆ 0.0  ┆ ESP)    │\n",
       "│ Zulqarnain Haider ┆ 2019/20 ┆ 1   ┆ 0.0  ┆ 0.0  ┆ 0.0   ┆ 0.0  ┆ ESP)    │\n",
       "│ Zulqarnain Haider ┆ 2022    ┆ 6   ┆ 3.0  ┆ 8.0  ┆ 66.66 ┆ 4.0  ┆ ESP)    │\n",
       "│ Zulqarnain Haider ┆ 2006/07 ┆ 1   ┆ 1.0  ┆ 5.0  ┆ 55.55 ┆ 5.0  ┆ PAK)    │\n",
       "│ Zulqarnain Haider ┆ 2010/11 ┆ 2   ┆ 2.0  ┆ 18.0 ┆ 85.71 ┆ 9.0  ┆ PAK)    │\n",
       "└───────────────────┴─────────┴─────┴──────┴──────┴───────┴──────┴─────────┘"
      ]
     },
     "execution_count": 4,
     "metadata": {},
     "output_type": "execute_result"
    }
   ],
   "source": [
    "batting_data = batting_data.with_columns(batting_data['Player'].str.split_exact(' (', n=1).struct.rename_fields(['Player', 'Country']).alias('Player').to_frame().unnest('Player'))\n",
    "batting_data"
   ]
  },
  {
   "cell_type": "code",
   "execution_count": 5,
   "metadata": {},
   "outputs": [
    {
     "data": {
      "text/html": [
       "<div><style>\n",
       ".dataframe > thead > tr,\n",
       ".dataframe > tbody > tr {\n",
       "  text-align: right;\n",
       "  white-space: pre-wrap;\n",
       "}\n",
       "</style>\n",
       "<small>shape: (14_082, 8)</small><table border=\"1\" class=\"dataframe\"><thead><tr><th>Player</th><th>Season</th><th>Mat</th><th>Inns</th><th>Runs</th><th>SR</th><th>Ave</th><th>Country</th></tr><tr><td>str</td><td>str</td><td>i64</td><td>f64</td><td>f64</td><td>f64</td><td>f64</td><td>str</td></tr></thead><tbody><tr><td>&quot;A Ahmadhel&quot;</td><td>&quot;2019/20&quot;</td><td>3</td><td>2.0</td><td>16.0</td><td>100.0</td><td>8.0</td><td>&quot;BUL&quot;</td></tr><tr><td>&quot;A Ahmadhel&quot;</td><td>&quot;2020&quot;</td><td>1</td><td>1.0</td><td>8.0</td><td>100.0</td><td>8.0</td><td>&quot;BUL&quot;</td></tr><tr><td>&quot;A Ahmadhel&quot;</td><td>&quot;2020/21&quot;</td><td>2</td><td>1.0</td><td>2.0</td><td>28.57</td><td>2.0</td><td>&quot;BUL&quot;</td></tr><tr><td>&quot;A Ahmadhel&quot;</td><td>&quot;2021&quot;</td><td>3</td><td>3.0</td><td>5.0</td><td>38.46</td><td>1.66</td><td>&quot;BUL&quot;</td></tr><tr><td>&quot;A Ahmadhel&quot;</td><td>&quot;2023&quot;</td><td>2</td><td>0.0</td><td>0.0</td><td>0.0</td><td>0.0</td><td>&quot;BUL&quot;</td></tr><tr><td>&hellip;</td><td>&hellip;</td><td>&hellip;</td><td>&hellip;</td><td>&hellip;</td><td>&hellip;</td><td>&hellip;</td><td>&hellip;</td></tr><tr><td>&quot;Zulqarnain Haider&quot;</td><td>&quot;2019&quot;</td><td>4</td><td>1.0</td><td>0.0</td><td>0.0</td><td>0.0</td><td>&quot;ESP&quot;</td></tr><tr><td>&quot;Zulqarnain Haider&quot;</td><td>&quot;2019/20&quot;</td><td>1</td><td>0.0</td><td>0.0</td><td>0.0</td><td>0.0</td><td>&quot;ESP&quot;</td></tr><tr><td>&quot;Zulqarnain Haider&quot;</td><td>&quot;2022&quot;</td><td>6</td><td>3.0</td><td>8.0</td><td>66.66</td><td>4.0</td><td>&quot;ESP&quot;</td></tr><tr><td>&quot;Zulqarnain Haider&quot;</td><td>&quot;2006/07&quot;</td><td>1</td><td>1.0</td><td>5.0</td><td>55.55</td><td>5.0</td><td>&quot;PAK&quot;</td></tr><tr><td>&quot;Zulqarnain Haider&quot;</td><td>&quot;2010/11&quot;</td><td>2</td><td>2.0</td><td>18.0</td><td>85.71</td><td>9.0</td><td>&quot;PAK&quot;</td></tr></tbody></table></div>"
      ],
      "text/plain": [
       "shape: (14_082, 8)\n",
       "┌───────────────────┬─────────┬─────┬──────┬──────┬───────┬──────┬─────────┐\n",
       "│ Player            ┆ Season  ┆ Mat ┆ Inns ┆ Runs ┆ SR    ┆ Ave  ┆ Country │\n",
       "│ ---               ┆ ---     ┆ --- ┆ ---  ┆ ---  ┆ ---   ┆ ---  ┆ ---     │\n",
       "│ str               ┆ str     ┆ i64 ┆ f64  ┆ f64  ┆ f64   ┆ f64  ┆ str     │\n",
       "╞═══════════════════╪═════════╪═════╪══════╪══════╪═══════╪══════╪═════════╡\n",
       "│ A Ahmadhel        ┆ 2019/20 ┆ 3   ┆ 2.0  ┆ 16.0 ┆ 100.0 ┆ 8.0  ┆ BUL     │\n",
       "│ A Ahmadhel        ┆ 2020    ┆ 1   ┆ 1.0  ┆ 8.0  ┆ 100.0 ┆ 8.0  ┆ BUL     │\n",
       "│ A Ahmadhel        ┆ 2020/21 ┆ 2   ┆ 1.0  ┆ 2.0  ┆ 28.57 ┆ 2.0  ┆ BUL     │\n",
       "│ A Ahmadhel        ┆ 2021    ┆ 3   ┆ 3.0  ┆ 5.0  ┆ 38.46 ┆ 1.66 ┆ BUL     │\n",
       "│ A Ahmadhel        ┆ 2023    ┆ 2   ┆ 0.0  ┆ 0.0  ┆ 0.0   ┆ 0.0  ┆ BUL     │\n",
       "│ …                 ┆ …       ┆ …   ┆ …    ┆ …    ┆ …     ┆ …    ┆ …       │\n",
       "│ Zulqarnain Haider ┆ 2019    ┆ 4   ┆ 1.0  ┆ 0.0  ┆ 0.0   ┆ 0.0  ┆ ESP     │\n",
       "│ Zulqarnain Haider ┆ 2019/20 ┆ 1   ┆ 0.0  ┆ 0.0  ┆ 0.0   ┆ 0.0  ┆ ESP     │\n",
       "│ Zulqarnain Haider ┆ 2022    ┆ 6   ┆ 3.0  ┆ 8.0  ┆ 66.66 ┆ 4.0  ┆ ESP     │\n",
       "│ Zulqarnain Haider ┆ 2006/07 ┆ 1   ┆ 1.0  ┆ 5.0  ┆ 55.55 ┆ 5.0  ┆ PAK     │\n",
       "│ Zulqarnain Haider ┆ 2010/11 ┆ 2   ┆ 2.0  ┆ 18.0 ┆ 85.71 ┆ 9.0  ┆ PAK     │\n",
       "└───────────────────┴─────────┴─────┴──────┴──────┴───────┴──────┴─────────┘"
      ]
     },
     "execution_count": 5,
     "metadata": {},
     "output_type": "execute_result"
    }
   ],
   "source": [
    "batting_data = batting_data.with_columns(batting_data['Country'].str.replace(r'\\)', ''))\n",
    "batting_data"
   ]
  },
  {
   "cell_type": "code",
   "execution_count": 6,
   "metadata": {},
   "outputs": [],
   "source": [
    "import polars as pl\n",
    "\n",
    "batting_data = batting_data.with_columns(\n",
    "    # Handle zero division in Cum Ave calculation\n",
    "    pl.when(pl.col(\"Inns\").cum_sum().over([\"Player\", \"Country\"]) != 0)\n",
    "      .then((pl.col(\"Inns\") * pl.col(\"Ave\")).cum_sum().over([\"Player\", \"Country\"]) / pl.col(\"Inns\").cum_sum().over([\"Player\", \"Country\"]))\n",
    "      .otherwise(0)  # or use 0 if preferred\n",
    "      .round(2)\n",
    "      .alias(\"Cum batting Ave\"),\n",
    "\n",
    "    # Cum Runs Total is safe from division issues as it's a straightforward cumulative sum\n",
    "    (pl.col(\"Runs\").cum_sum().over([\"Player\", \"Country\"])).alias(\"Cum battings Runs Total\"),\n",
    "\n",
    "    # Cum Inns Total is also safe\n",
    "    (pl.col(\"Inns\").cum_sum().over([\"Player\", \"Country\"])).alias(\"Cum Inns Total\"),\n",
    "\n",
    "    # Handle zero division in Cum SR calculation\n",
    "    pl.when(pl.col(\"Inns\").cum_count().over([\"Player\", \"Country\"]) != 0)\n",
    "      .then(pl.col(\"SR\").cum_sum().over([\"Player\", \"Country\"]) / pl.col(\"Inns\").cum_count().over([\"Player\", \"Country\"]))\n",
    "      .otherwise(0)  # or use 0 if preferred\n",
    "      .round(2)\n",
    "      .alias(\"Cum SR\")\n",
    ")\n"
   ]
  },
  {
   "cell_type": "code",
   "execution_count": 8,
   "metadata": {},
   "outputs": [
    {
     "data": {
      "text/html": [
       "<div><style>\n",
       ".dataframe > thead > tr,\n",
       ".dataframe > tbody > tr {\n",
       "  text-align: right;\n",
       "  white-space: pre-wrap;\n",
       "}\n",
       "</style>\n",
       "<small>shape: (23, 12)</small><table border=\"1\" class=\"dataframe\"><thead><tr><th>Player</th><th>Season</th><th>Mat</th><th>Inns</th><th>Runs</th><th>SR</th><th>Ave</th><th>Country</th><th>Cum batting Ave</th><th>Cum battings Runs Total</th><th>Cum Inns Total</th><th>Cum SR</th></tr><tr><td>str</td><td>str</td><td>i64</td><td>f64</td><td>f64</td><td>f64</td><td>f64</td><td>str</td><td>f64</td><td>f64</td><td>f64</td><td>f64</td></tr></thead><tbody><tr><td>&quot;V Kohli&quot;</td><td>&quot;2010&quot;</td><td>2</td><td>1.0</td><td>26.0</td><td>123.8</td><td>26.0</td><td>&quot;IND&quot;</td><td>26.0</td><td>26.0</td><td>1.0</td><td>123.8</td></tr><tr><td>&quot;V Kohli&quot;</td><td>&quot;2010/11&quot;</td><td>1</td><td>1.0</td><td>28.0</td><td>147.36</td><td>28.0</td><td>&quot;IND&quot;</td><td>27.0</td><td>54.0</td><td>2.0</td><td>135.58</td></tr><tr><td>&quot;V Kohli&quot;</td><td>&quot;2011&quot;</td><td>2</td><td>2.0</td><td>18.0</td><td>105.88</td><td>9.0</td><td>&quot;IND&quot;</td><td>18.0</td><td>72.0</td><td>4.0</td><td>125.68</td></tr><tr><td>&quot;V Kohli&quot;</td><td>&quot;2011/12&quot;</td><td>4</td><td>3.0</td><td>68.0</td><td>111.47</td><td>22.66</td><td>&quot;IND&quot;</td><td>20.0</td><td>140.0</td><td>7.0</td><td>122.13</td></tr><tr><td>&quot;V Kohli&quot;</td><td>&quot;2012&quot;</td><td>2</td><td>2.0</td><td>138.0</td><td>155.05</td><td>69.0</td><td>&quot;IND&quot;</td><td>30.89</td><td>278.0</td><td>9.0</td><td>128.71</td></tr><tr><td>&hellip;</td><td>&hellip;</td><td>&hellip;</td><td>&hellip;</td><td>&hellip;</td><td>&hellip;</td><td>&hellip;</td><td>&hellip;</td><td>&hellip;</td><td>&hellip;</td><td>&hellip;</td><td>&hellip;</td></tr><tr><td>&quot;V Kohli&quot;</td><td>&quot;2021/22&quot;</td><td>7</td><td>5.0</td><td>137.0</td><td>112.29</td><td>34.25</td><td>&quot;IND&quot;</td><td>56.28</td><td>3296.0</td><td>89.0</td><td>136.95</td></tr><tr><td>&quot;V Kohli&quot;</td><td>&quot;2022&quot;</td><td>10</td><td>10.0</td><td>364.0</td><td>141.63</td><td>45.5</td><td>&quot;IND&quot;</td><td>55.19</td><td>3660.0</td><td>99.0</td><td>137.18</td></tr><tr><td>&quot;V Kohli&quot;</td><td>&quot;2022/23&quot;</td><td>8</td><td>8.0</td><td>348.0</td><td>137.0</td><td>87.0</td><td>&quot;IND&quot;</td><td>57.57</td><td>4008.0</td><td>107.0</td><td>137.17</td></tr><tr><td>&quot;V Kohli&quot;</td><td>&quot;2023/24&quot;</td><td>2</td><td>2.0</td><td>29.0</td><td>170.58</td><td>14.5</td><td>&quot;IND&quot;</td><td>56.78</td><td>4037.0</td><td>109.0</td><td>138.69</td></tr><tr><td>&quot;V Kohli&quot;</td><td>&quot;2024&quot;</td><td>8</td><td>8.0</td><td>151.0</td><td>112.68</td><td>18.87</td><td>&quot;IND&quot;</td><td>54.19</td><td>4188.0</td><td>117.0</td><td>137.56</td></tr></tbody></table></div>"
      ],
      "text/plain": [
       "shape: (23, 12)\n",
       "┌─────────┬─────────┬─────┬──────┬───┬─────────────────┬──────────────┬────────────────┬────────┐\n",
       "│ Player  ┆ Season  ┆ Mat ┆ Inns ┆ … ┆ Cum batting Ave ┆ Cum battings ┆ Cum Inns Total ┆ Cum SR │\n",
       "│ ---     ┆ ---     ┆ --- ┆ ---  ┆   ┆ ---             ┆ Runs Total   ┆ ---            ┆ ---    │\n",
       "│ str     ┆ str     ┆ i64 ┆ f64  ┆   ┆ f64             ┆ ---          ┆ f64            ┆ f64    │\n",
       "│         ┆         ┆     ┆      ┆   ┆                 ┆ f64          ┆                ┆        │\n",
       "╞═════════╪═════════╪═════╪══════╪═══╪═════════════════╪══════════════╪════════════════╪════════╡\n",
       "│ V Kohli ┆ 2010    ┆ 2   ┆ 1.0  ┆ … ┆ 26.0            ┆ 26.0         ┆ 1.0            ┆ 123.8  │\n",
       "│ V Kohli ┆ 2010/11 ┆ 1   ┆ 1.0  ┆ … ┆ 27.0            ┆ 54.0         ┆ 2.0            ┆ 135.58 │\n",
       "│ V Kohli ┆ 2011    ┆ 2   ┆ 2.0  ┆ … ┆ 18.0            ┆ 72.0         ┆ 4.0            ┆ 125.68 │\n",
       "│ V Kohli ┆ 2011/12 ┆ 4   ┆ 3.0  ┆ … ┆ 20.0            ┆ 140.0        ┆ 7.0            ┆ 122.13 │\n",
       "│ V Kohli ┆ 2012    ┆ 2   ┆ 2.0  ┆ … ┆ 30.89           ┆ 278.0        ┆ 9.0            ┆ 128.71 │\n",
       "│ …       ┆ …       ┆ …   ┆ …    ┆ … ┆ …               ┆ …            ┆ …              ┆ …      │\n",
       "│ V Kohli ┆ 2021/22 ┆ 7   ┆ 5.0  ┆ … ┆ 56.28           ┆ 3296.0       ┆ 89.0           ┆ 136.95 │\n",
       "│ V Kohli ┆ 2022    ┆ 10  ┆ 10.0 ┆ … ┆ 55.19           ┆ 3660.0       ┆ 99.0           ┆ 137.18 │\n",
       "│ V Kohli ┆ 2022/23 ┆ 8   ┆ 8.0  ┆ … ┆ 57.57           ┆ 4008.0       ┆ 107.0          ┆ 137.17 │\n",
       "│ V Kohli ┆ 2023/24 ┆ 2   ┆ 2.0  ┆ … ┆ 56.78           ┆ 4037.0       ┆ 109.0          ┆ 138.69 │\n",
       "│ V Kohli ┆ 2024    ┆ 8   ┆ 8.0  ┆ … ┆ 54.19           ┆ 4188.0       ┆ 117.0          ┆ 137.56 │\n",
       "└─────────┴─────────┴─────┴──────┴───┴─────────────────┴──────────────┴────────────────┴────────┘"
      ]
     },
     "execution_count": 8,
     "metadata": {},
     "output_type": "execute_result"
    }
   ],
   "source": [
    "batting_data.filter(pl.col(\"Player\").str.contains(\"V Kohli\"))"
   ]
  },
  {
   "cell_type": "code",
   "execution_count": 21,
   "metadata": {},
   "outputs": [
    {
     "data": {
      "text/plain": [
       "(103, 11, 5, 103)"
      ]
     },
     "execution_count": 21,
     "metadata": {},
     "output_type": "execute_result"
    }
   ],
   "source": [
    "country_codes = {\n",
    "    'LES': 'Lesotho',\n",
    "    'BUL': 'Bulgaria',\n",
    "    'VAN': 'Vanuatu',\n",
    "    'ROM': 'Romania',\n",
    "    'Aut': 'Austria',\n",
    "    'COK': 'Cook Islands',\n",
    "    'Fran': 'France',\n",
    "    'SRB': 'Serbia',\n",
    "    'PAK': 'Pakistan',\n",
    "    'HUN': 'Hungary',\n",
    "    'CYP': 'Cyprus',\n",
    "    'Fiji': 'Fiji',\n",
    "    'FIN': 'Finland',\n",
    "    'EST': 'Estonia',\n",
    "    'CHN': 'China',\n",
    "    'GRC': 'Greece',\n",
    "    'CAM': 'Cambodia',\n",
    "    'GUE': 'Guernsey',\n",
    "    'SEY': 'Seychelles',\n",
    "    'JPN': 'Japan',\n",
    "    'TAN': 'Tanzania',\n",
    "    'JER': 'Jersey',\n",
    "    'QAT': 'Qatar',\n",
    "    'ENG': 'England',\n",
    "    'UGA': 'Uganda',\n",
    "    'BER': 'Bermuda',\n",
    "    'CZK-R': 'Czech Republic',\n",
    "    'CAY': 'Cayman Islands',\n",
    "    'IRE': 'Ireland',\n",
    "    'Mali': 'Mali',\n",
    "    'BRA': 'Brazil',\n",
    "    'SUI': 'Switzerland',\n",
    "    'Peru': 'Peru',\n",
    "    'Mex': 'Mexico',\n",
    "    'MOZ': 'Mozambique',\n",
    "    'Samoa': 'Samoa',\n",
    "    'HKG': 'Hong Kong',\n",
    "    'BAN': 'Bangladesh',\n",
    "    'SL': 'Sri Lanka',\n",
    "    'PNG': 'Papua New Guinea',\n",
    "    'ZIM': 'Zimbabwe',\n",
    "    'GHA': 'Ghana',\n",
    "    'SWZ': 'Eswatini',  # Swaziland's official name now is Eswatini\n",
    "    'MYAN': 'Myanmar',\n",
    "    'IND': 'India',\n",
    "    'USA': 'United States of America',\n",
    "    'NEP': 'Nepal',\n",
    "    'AFG': 'Afghanistan',\n",
    "    'PAN': 'Panama',\n",
    "    'NGA': 'Nigeria',\n",
    "    'SLE': 'Sierra Leone',\n",
    "    'ESP': 'Spain',\n",
    "    'Bhm': 'Bahamas',\n",
    "    'TKY': 'Turkey',\n",
    "    'MWI': 'Malawi',\n",
    "    'WI': 'West Indies',\n",
    "    'IOM': 'Isle of Man',\n",
    "    'THA': 'Thailand',\n",
    "    'SWA': 'Eswatini',  # another code for Eswatini\n",
    "    'SKOR': 'South Korea',\n",
    "    'GMB': 'Gambia',\n",
    "    'ISR': 'Israel',\n",
    "    'KUW': 'Kuwait',\n",
    "    'Belg': 'Belgium',\n",
    "    'GER': 'Germany',\n",
    "    'ITA': 'Italy',\n",
    "    'CAN': 'Canada',\n",
    "    'MDV': 'Maldives',\n",
    "    'Blz': 'Belize',\n",
    "    'DEN': 'Denmark',\n",
    "    'INA': 'Indonesia',\n",
    "    'KENYA': 'Kenya',\n",
    "    'LUX': 'Luxembourg',\n",
    "    'STHEL': 'Saint Helena',\n",
    "    'BHR': 'Bahrain',\n",
    "    'KSA': 'Saudi Arabia',\n",
    "    'MLT': 'Malta',\n",
    "    'Arg': 'Argentina',\n",
    "    'MNG': 'Mongolia',\n",
    "    'AUS': 'Australia',\n",
    "    'GIBR': 'Gibraltar',\n",
    "    'SGP': 'Singapore',\n",
    "    'Chile': 'Chile',\n",
    "    'UAE': 'United Arab Emirates',\n",
    "    'NZ': 'New Zealand',\n",
    "    'SCOT': 'Scotland',\n",
    "    'BHU': 'Bhutan',\n",
    "    'MAS': 'Malaysia',\n",
    "    'BOT': 'Botswana',\n",
    "    'CRC': 'Costa Rica',\n",
    "    'PHI': 'Philippines',\n",
    "    'NAM': 'Namibia',\n",
    "    'RWN': 'Rwanda',\n",
    "    'OMA': 'Oman',\n",
    "    'NOR': 'Norway',\n",
    "    'CRT': 'Croatia',\n",
    "    'SWE': 'Sweden',\n",
    "    'Iran': 'Iran',\n",
    "    'PORT': 'Portugal',\n",
    "    'NED': 'Netherlands',\n",
    "    'SA': 'South Africa',\n",
    "    'SVN': 'Slovenia',\n",
    "    'GUE': 'Guernsey',\n",
    "    'MDV': 'Maldives',\n",
    "    'BHM': 'Bahamas',\n",
    "    'SWE': 'Sweden',\n",
    "    'MLT': 'Malta',\n",
    "    'ITA': 'Italy',\n",
    "}\n",
    "\n",
    "# ICC and World teams\n",
    "icc_world = {\n",
    "    'ICC/PAK': 'Pakistan',\n",
    "    'ICC/SL': 'Sri Lanka',\n",
    "    'ICC/IND': 'India',\n",
    "    'ICC/NEP': 'Nepal',\n",
    "    'BAN/ICC': 'Bangladesh',\n",
    "    'AFG/ICC': 'Afghanistan',\n",
    "    'SL/World': 'Sri Lanka',\n",
    "    'SA/World': 'South Africa',\n",
    "    'AUS/World': 'Australia',\n",
    "    'BAN/World': 'Bangladesh',\n",
    "    'WI/World': 'West Indies',\n",
    "}\n",
    "\n",
    "# Outlier/Miscellaneous Countries\n",
    "outlier_countries = {\n",
    "    '1': 'Miscellaneous Country 1',\n",
    "    '2': 'Miscellaneous Country 2',\n",
    "    '3': 'Miscellaneous Country 3',\n",
    "    'ICC': 'International Cricket Council',\n",
    "    'World': 'World XI',\n",
    "}\n",
    "\n",
    "# Filtered country codes excluding ICC, World teams, and miscellaneous\n",
    "filtered_countries = {\n",
    "    code: country\n",
    "    for code, country in country_codes.items()\n",
    "    if code not in icc_world and code not in outlier_countries\n",
    "}\n",
    "len(country_codes), len(icc_world), len(outlier_countries), len(filtered_countries)"
   ]
  },
  {
   "cell_type": "code",
   "execution_count": 22,
   "metadata": {},
   "outputs": [
    {
     "data": {
      "text/html": [
       "<div><style>\n",
       ".dataframe > thead > tr,\n",
       ".dataframe > tbody > tr {\n",
       "  text-align: right;\n",
       "  white-space: pre-wrap;\n",
       "}\n",
       "</style>\n",
       "<small>shape: (14_035, 12)</small><table border=\"1\" class=\"dataframe\"><thead><tr><th>Player</th><th>Season</th><th>Mat</th><th>Inns</th><th>Runs</th><th>SR</th><th>Ave</th><th>Country</th><th>Cum batting Ave</th><th>Cum battings Runs Total</th><th>Cum Inns Total</th><th>Cum SR</th></tr><tr><td>str</td><td>str</td><td>i64</td><td>f64</td><td>f64</td><td>f64</td><td>f64</td><td>str</td><td>f64</td><td>f64</td><td>f64</td><td>f64</td></tr></thead><tbody><tr><td>&quot;A Ahmadhel&quot;</td><td>&quot;2019/20&quot;</td><td>3</td><td>2.0</td><td>16.0</td><td>100.0</td><td>8.0</td><td>&quot;BUL&quot;</td><td>8.0</td><td>16.0</td><td>2.0</td><td>100.0</td></tr><tr><td>&quot;A Ahmadhel&quot;</td><td>&quot;2020&quot;</td><td>1</td><td>1.0</td><td>8.0</td><td>100.0</td><td>8.0</td><td>&quot;BUL&quot;</td><td>8.0</td><td>24.0</td><td>3.0</td><td>100.0</td></tr><tr><td>&quot;A Ahmadhel&quot;</td><td>&quot;2020/21&quot;</td><td>2</td><td>1.0</td><td>2.0</td><td>28.57</td><td>2.0</td><td>&quot;BUL&quot;</td><td>6.5</td><td>26.0</td><td>4.0</td><td>76.19</td></tr><tr><td>&quot;A Ahmadhel&quot;</td><td>&quot;2021&quot;</td><td>3</td><td>3.0</td><td>5.0</td><td>38.46</td><td>1.66</td><td>&quot;BUL&quot;</td><td>4.43</td><td>31.0</td><td>7.0</td><td>66.76</td></tr><tr><td>&quot;A Ahmadhel&quot;</td><td>&quot;2023&quot;</td><td>2</td><td>0.0</td><td>0.0</td><td>0.0</td><td>0.0</td><td>&quot;BUL&quot;</td><td>4.43</td><td>31.0</td><td>7.0</td><td>53.41</td></tr><tr><td>&hellip;</td><td>&hellip;</td><td>&hellip;</td><td>&hellip;</td><td>&hellip;</td><td>&hellip;</td><td>&hellip;</td><td>&hellip;</td><td>&hellip;</td><td>&hellip;</td><td>&hellip;</td><td>&hellip;</td></tr><tr><td>&quot;Zulqarnain Haider&quot;</td><td>&quot;2019&quot;</td><td>4</td><td>1.0</td><td>0.0</td><td>0.0</td><td>0.0</td><td>&quot;ESP&quot;</td><td>0.0</td><td>0.0</td><td>1.0</td><td>0.0</td></tr><tr><td>&quot;Zulqarnain Haider&quot;</td><td>&quot;2019/20&quot;</td><td>1</td><td>0.0</td><td>0.0</td><td>0.0</td><td>0.0</td><td>&quot;ESP&quot;</td><td>0.0</td><td>0.0</td><td>1.0</td><td>0.0</td></tr><tr><td>&quot;Zulqarnain Haider&quot;</td><td>&quot;2022&quot;</td><td>6</td><td>3.0</td><td>8.0</td><td>66.66</td><td>4.0</td><td>&quot;ESP&quot;</td><td>3.0</td><td>8.0</td><td>4.0</td><td>22.22</td></tr><tr><td>&quot;Zulqarnain Haider&quot;</td><td>&quot;2006/07&quot;</td><td>1</td><td>1.0</td><td>5.0</td><td>55.55</td><td>5.0</td><td>&quot;PAK&quot;</td><td>5.0</td><td>5.0</td><td>1.0</td><td>55.55</td></tr><tr><td>&quot;Zulqarnain Haider&quot;</td><td>&quot;2010/11&quot;</td><td>2</td><td>2.0</td><td>18.0</td><td>85.71</td><td>9.0</td><td>&quot;PAK&quot;</td><td>7.67</td><td>23.0</td><td>3.0</td><td>70.63</td></tr></tbody></table></div>"
      ],
      "text/plain": [
       "shape: (14_035, 12)\n",
       "┌────────────┬─────────┬─────┬──────┬───┬─────────────────┬──────────────┬──────────┬────────┐\n",
       "│ Player     ┆ Season  ┆ Mat ┆ Inns ┆ … ┆ Cum batting Ave ┆ Cum battings ┆ Cum Inns ┆ Cum SR │\n",
       "│ ---        ┆ ---     ┆ --- ┆ ---  ┆   ┆ ---             ┆ Runs Total   ┆ Total    ┆ ---    │\n",
       "│ str        ┆ str     ┆ i64 ┆ f64  ┆   ┆ f64             ┆ ---          ┆ ---      ┆ f64    │\n",
       "│            ┆         ┆     ┆      ┆   ┆                 ┆ f64          ┆ f64      ┆        │\n",
       "╞════════════╪═════════╪═════╪══════╪═══╪═════════════════╪══════════════╪══════════╪════════╡\n",
       "│ A Ahmadhel ┆ 2019/20 ┆ 3   ┆ 2.0  ┆ … ┆ 8.0             ┆ 16.0         ┆ 2.0      ┆ 100.0  │\n",
       "│ A Ahmadhel ┆ 2020    ┆ 1   ┆ 1.0  ┆ … ┆ 8.0             ┆ 24.0         ┆ 3.0      ┆ 100.0  │\n",
       "│ A Ahmadhel ┆ 2020/21 ┆ 2   ┆ 1.0  ┆ … ┆ 6.5             ┆ 26.0         ┆ 4.0      ┆ 76.19  │\n",
       "│ A Ahmadhel ┆ 2021    ┆ 3   ┆ 3.0  ┆ … ┆ 4.43            ┆ 31.0         ┆ 7.0      ┆ 66.76  │\n",
       "│ A Ahmadhel ┆ 2023    ┆ 2   ┆ 0.0  ┆ … ┆ 4.43            ┆ 31.0         ┆ 7.0      ┆ 53.41  │\n",
       "│ …          ┆ …       ┆ …   ┆ …    ┆ … ┆ …               ┆ …            ┆ …        ┆ …      │\n",
       "│ Zulqarnain ┆ 2019    ┆ 4   ┆ 1.0  ┆ … ┆ 0.0             ┆ 0.0          ┆ 1.0      ┆ 0.0    │\n",
       "│ Haider     ┆         ┆     ┆      ┆   ┆                 ┆              ┆          ┆        │\n",
       "│ Zulqarnain ┆ 2019/20 ┆ 1   ┆ 0.0  ┆ … ┆ 0.0             ┆ 0.0          ┆ 1.0      ┆ 0.0    │\n",
       "│ Haider     ┆         ┆     ┆      ┆   ┆                 ┆              ┆          ┆        │\n",
       "│ Zulqarnain ┆ 2022    ┆ 6   ┆ 3.0  ┆ … ┆ 3.0             ┆ 8.0          ┆ 4.0      ┆ 22.22  │\n",
       "│ Haider     ┆         ┆     ┆      ┆   ┆                 ┆              ┆          ┆        │\n",
       "│ Zulqarnain ┆ 2006/07 ┆ 1   ┆ 1.0  ┆ … ┆ 5.0             ┆ 5.0          ┆ 1.0      ┆ 55.55  │\n",
       "│ Haider     ┆         ┆     ┆      ┆   ┆                 ┆              ┆          ┆        │\n",
       "│ Zulqarnain ┆ 2010/11 ┆ 2   ┆ 2.0  ┆ … ┆ 7.67            ┆ 23.0         ┆ 3.0      ┆ 70.63  │\n",
       "│ Haider     ┆         ┆     ┆      ┆   ┆                 ┆              ┆          ┆        │\n",
       "└────────────┴─────────┴─────┴──────┴───┴─────────────────┴──────────────┴──────────┴────────┘"
      ]
     },
     "execution_count": 22,
     "metadata": {},
     "output_type": "execute_result"
    }
   ],
   "source": [
    "batting_data = batting_data.filter(pl.col(\"Country\").is_in(list(filtered_countries.keys())))\n",
    "batting_data"
   ]
  },
  {
   "cell_type": "code",
   "execution_count": 23,
   "metadata": {},
   "outputs": [
    {
     "data": {
      "text/html": [
       "<div><style>\n",
       ".dataframe > thead > tr,\n",
       ".dataframe > tbody > tr {\n",
       "  text-align: right;\n",
       "  white-space: pre-wrap;\n",
       "}\n",
       "</style>\n",
       "<small>shape: (14_035, 12)</small><table border=\"1\" class=\"dataframe\"><thead><tr><th>Player</th><th>Season</th><th>Mat</th><th>Inns</th><th>Runs</th><th>SR</th><th>Ave</th><th>Country</th><th>Cum batting Ave</th><th>Cum battings Runs Total</th><th>Cum Inns Total</th><th>Cum SR</th></tr><tr><td>str</td><td>str</td><td>i64</td><td>f64</td><td>f64</td><td>f64</td><td>f64</td><td>str</td><td>f64</td><td>f64</td><td>f64</td><td>f64</td></tr></thead><tbody><tr><td>&quot;A Ahmadhel&quot;</td><td>&quot;2019/20&quot;</td><td>3</td><td>2.0</td><td>16.0</td><td>100.0</td><td>8.0</td><td>&quot;Bulgaria&quot;</td><td>8.0</td><td>16.0</td><td>2.0</td><td>100.0</td></tr><tr><td>&quot;A Ahmadhel&quot;</td><td>&quot;2020&quot;</td><td>1</td><td>1.0</td><td>8.0</td><td>100.0</td><td>8.0</td><td>&quot;Bulgaria&quot;</td><td>8.0</td><td>24.0</td><td>3.0</td><td>100.0</td></tr><tr><td>&quot;A Ahmadhel&quot;</td><td>&quot;2020/21&quot;</td><td>2</td><td>1.0</td><td>2.0</td><td>28.57</td><td>2.0</td><td>&quot;Bulgaria&quot;</td><td>6.5</td><td>26.0</td><td>4.0</td><td>76.19</td></tr><tr><td>&quot;A Ahmadhel&quot;</td><td>&quot;2021&quot;</td><td>3</td><td>3.0</td><td>5.0</td><td>38.46</td><td>1.66</td><td>&quot;Bulgaria&quot;</td><td>4.43</td><td>31.0</td><td>7.0</td><td>66.76</td></tr><tr><td>&quot;A Ahmadhel&quot;</td><td>&quot;2023&quot;</td><td>2</td><td>0.0</td><td>0.0</td><td>0.0</td><td>0.0</td><td>&quot;Bulgaria&quot;</td><td>4.43</td><td>31.0</td><td>7.0</td><td>53.41</td></tr><tr><td>&hellip;</td><td>&hellip;</td><td>&hellip;</td><td>&hellip;</td><td>&hellip;</td><td>&hellip;</td><td>&hellip;</td><td>&hellip;</td><td>&hellip;</td><td>&hellip;</td><td>&hellip;</td><td>&hellip;</td></tr><tr><td>&quot;Zulqarnain Haider&quot;</td><td>&quot;2019&quot;</td><td>4</td><td>1.0</td><td>0.0</td><td>0.0</td><td>0.0</td><td>&quot;Spain&quot;</td><td>0.0</td><td>0.0</td><td>1.0</td><td>0.0</td></tr><tr><td>&quot;Zulqarnain Haider&quot;</td><td>&quot;2019/20&quot;</td><td>1</td><td>0.0</td><td>0.0</td><td>0.0</td><td>0.0</td><td>&quot;Spain&quot;</td><td>0.0</td><td>0.0</td><td>1.0</td><td>0.0</td></tr><tr><td>&quot;Zulqarnain Haider&quot;</td><td>&quot;2022&quot;</td><td>6</td><td>3.0</td><td>8.0</td><td>66.66</td><td>4.0</td><td>&quot;Spain&quot;</td><td>3.0</td><td>8.0</td><td>4.0</td><td>22.22</td></tr><tr><td>&quot;Zulqarnain Haider&quot;</td><td>&quot;2006/07&quot;</td><td>1</td><td>1.0</td><td>5.0</td><td>55.55</td><td>5.0</td><td>&quot;Pakistan&quot;</td><td>5.0</td><td>5.0</td><td>1.0</td><td>55.55</td></tr><tr><td>&quot;Zulqarnain Haider&quot;</td><td>&quot;2010/11&quot;</td><td>2</td><td>2.0</td><td>18.0</td><td>85.71</td><td>9.0</td><td>&quot;Pakistan&quot;</td><td>7.67</td><td>23.0</td><td>3.0</td><td>70.63</td></tr></tbody></table></div>"
      ],
      "text/plain": [
       "shape: (14_035, 12)\n",
       "┌────────────┬─────────┬─────┬──────┬───┬─────────────────┬──────────────┬──────────┬────────┐\n",
       "│ Player     ┆ Season  ┆ Mat ┆ Inns ┆ … ┆ Cum batting Ave ┆ Cum battings ┆ Cum Inns ┆ Cum SR │\n",
       "│ ---        ┆ ---     ┆ --- ┆ ---  ┆   ┆ ---             ┆ Runs Total   ┆ Total    ┆ ---    │\n",
       "│ str        ┆ str     ┆ i64 ┆ f64  ┆   ┆ f64             ┆ ---          ┆ ---      ┆ f64    │\n",
       "│            ┆         ┆     ┆      ┆   ┆                 ┆ f64          ┆ f64      ┆        │\n",
       "╞════════════╪═════════╪═════╪══════╪═══╪═════════════════╪══════════════╪══════════╪════════╡\n",
       "│ A Ahmadhel ┆ 2019/20 ┆ 3   ┆ 2.0  ┆ … ┆ 8.0             ┆ 16.0         ┆ 2.0      ┆ 100.0  │\n",
       "│ A Ahmadhel ┆ 2020    ┆ 1   ┆ 1.0  ┆ … ┆ 8.0             ┆ 24.0         ┆ 3.0      ┆ 100.0  │\n",
       "│ A Ahmadhel ┆ 2020/21 ┆ 2   ┆ 1.0  ┆ … ┆ 6.5             ┆ 26.0         ┆ 4.0      ┆ 76.19  │\n",
       "│ A Ahmadhel ┆ 2021    ┆ 3   ┆ 3.0  ┆ … ┆ 4.43            ┆ 31.0         ┆ 7.0      ┆ 66.76  │\n",
       "│ A Ahmadhel ┆ 2023    ┆ 2   ┆ 0.0  ┆ … ┆ 4.43            ┆ 31.0         ┆ 7.0      ┆ 53.41  │\n",
       "│ …          ┆ …       ┆ …   ┆ …    ┆ … ┆ …               ┆ …            ┆ …        ┆ …      │\n",
       "│ Zulqarnain ┆ 2019    ┆ 4   ┆ 1.0  ┆ … ┆ 0.0             ┆ 0.0          ┆ 1.0      ┆ 0.0    │\n",
       "│ Haider     ┆         ┆     ┆      ┆   ┆                 ┆              ┆          ┆        │\n",
       "│ Zulqarnain ┆ 2019/20 ┆ 1   ┆ 0.0  ┆ … ┆ 0.0             ┆ 0.0          ┆ 1.0      ┆ 0.0    │\n",
       "│ Haider     ┆         ┆     ┆      ┆   ┆                 ┆              ┆          ┆        │\n",
       "│ Zulqarnain ┆ 2022    ┆ 6   ┆ 3.0  ┆ … ┆ 3.0             ┆ 8.0          ┆ 4.0      ┆ 22.22  │\n",
       "│ Haider     ┆         ┆     ┆      ┆   ┆                 ┆              ┆          ┆        │\n",
       "│ Zulqarnain ┆ 2006/07 ┆ 1   ┆ 1.0  ┆ … ┆ 5.0             ┆ 5.0          ┆ 1.0      ┆ 55.55  │\n",
       "│ Haider     ┆         ┆     ┆      ┆   ┆                 ┆              ┆          ┆        │\n",
       "│ Zulqarnain ┆ 2010/11 ┆ 2   ┆ 2.0  ┆ … ┆ 7.67            ┆ 23.0         ┆ 3.0      ┆ 70.63  │\n",
       "│ Haider     ┆         ┆     ┆      ┆   ┆                 ┆              ┆          ┆        │\n",
       "└────────────┴─────────┴─────┴──────┴───┴─────────────────┴──────────────┴──────────┴────────┘"
      ]
     },
     "execution_count": 23,
     "metadata": {},
     "output_type": "execute_result"
    }
   ],
   "source": [
    "batting_data = batting_data.with_columns(batting_data['Country'].replace(filtered_countries))\n",
    "batting_data"
   ]
  },
  {
   "cell_type": "code",
   "execution_count": 24,
   "metadata": {},
   "outputs": [
    {
     "data": {
      "text/plain": [
       "((4129, 2), (4074, 1), (14035, 12))"
      ]
     },
     "execution_count": 24,
     "metadata": {},
     "output_type": "execute_result"
    }
   ],
   "source": [
    "batting_data[['Player','Country']].unique().shape, batting_data[['Player']].unique().shape, batting_data.unique().shape"
   ]
  },
  {
   "cell_type": "code",
   "execution_count": 25,
   "metadata": {},
   "outputs": [
    {
     "data": {
      "text/html": [
       "<div><style>\n",
       ".dataframe > thead > tr,\n",
       ".dataframe > tbody > tr {\n",
       "  text-align: right;\n",
       "  white-space: pre-wrap;\n",
       "}\n",
       "</style>\n",
       "<small>shape: (0, 12)</small><table border=\"1\" class=\"dataframe\"><thead><tr><th>Player</th><th>Season</th><th>Mat</th><th>Inns</th><th>Runs</th><th>SR</th><th>Ave</th><th>Country</th><th>Cum batting Ave</th><th>Cum battings Runs Total</th><th>Cum Inns Total</th><th>Cum SR</th></tr><tr><td>str</td><td>str</td><td>i64</td><td>f64</td><td>f64</td><td>f64</td><td>f64</td><td>str</td><td>f64</td><td>f64</td><td>f64</td><td>f64</td></tr></thead><tbody></tbody></table></div>"
      ],
      "text/plain": [
       "shape: (0, 12)\n",
       "┌────────┬────────┬─────┬──────┬───┬─────────────────┬───────────────────┬────────────────┬────────┐\n",
       "│ Player ┆ Season ┆ Mat ┆ Inns ┆ … ┆ Cum batting Ave ┆ Cum battings Runs ┆ Cum Inns Total ┆ Cum SR │\n",
       "│ ---    ┆ ---    ┆ --- ┆ ---  ┆   ┆ ---             ┆ Total             ┆ ---            ┆ ---    │\n",
       "│ str    ┆ str    ┆ i64 ┆ f64  ┆   ┆ f64             ┆ ---               ┆ f64            ┆ f64    │\n",
       "│        ┆        ┆     ┆      ┆   ┆                 ┆ f64               ┆                ┆        │\n",
       "╞════════╪════════╪═════╪══════╪═══╪═════════════════╪═══════════════════╪════════════════╪════════╡\n",
       "└────────┴────────┴─────┴──────┴───┴─────────────────┴───────────────────┴────────────────┴────────┘"
      ]
     },
     "execution_count": 25,
     "metadata": {},
     "output_type": "execute_result"
    }
   ],
   "source": [
    "batting_data.filter(batting_data[['Player','Country','Season']].is_duplicated())"
   ]
  },
  {
   "cell_type": "code",
   "execution_count": 26,
   "metadata": {},
   "outputs": [
    {
     "data": {
      "text/html": [
       "<div><style>\n",
       ".dataframe > thead > tr,\n",
       ".dataframe > tbody > tr {\n",
       "  text-align: right;\n",
       "  white-space: pre-wrap;\n",
       "}\n",
       "</style>\n",
       "<small>shape: (5_902, 3)</small><table border=\"1\" class=\"dataframe\"><thead><tr><th>Player</th><th>Country</th><th>player_id</th></tr><tr><td>str</td><td>str</td><td>str</td></tr></thead><tbody><tr><td>&quot;PS Athavale&quot;</td><td>&quot;Oman&quot;</td><td>&quot;c2f12310&quot;</td></tr><tr><td>&quot;HV Mandhyan&quot;</td><td>&quot;Hungary&quot;</td><td>&quot;11f56b14&quot;</td></tr><tr><td>&quot;L Kooagile&quot;</td><td>&quot;Botswana&quot;</td><td>&quot;88c742fb&quot;</td></tr><tr><td>&quot;T Maruma&quot;</td><td>&quot;Zimbabwe&quot;</td><td>&quot;f55c526f&quot;</td></tr><tr><td>&quot;AA Obanda&quot;</td><td>&quot;Kenya&quot;</td><td>&quot;7081491e&quot;</td></tr><tr><td>&hellip;</td><td>&hellip;</td><td>&hellip;</td></tr><tr><td>&quot;DR Patankar&quot;</td><td>&quot;Malta&quot;</td><td>&quot;e661915c&quot;</td></tr><tr><td>&quot;B Kumar&quot;</td><td>&quot;India&quot;</td><td>&quot;2e81a32d&quot;</td></tr><tr><td>&quot;LMM Tahuhu&quot;</td><td>&quot;New Zealand&quot;</td><td>&quot;60471339&quot;</td></tr><tr><td>&quot;Abdul Wahid&quot;</td><td>&quot;Saudi Arabia&quot;</td><td>&quot;40aea524&quot;</td></tr><tr><td>&quot;HER Tyler&quot;</td><td>&quot;Philippines&quot;</td><td>&quot;0ba9de33&quot;</td></tr></tbody></table></div>"
      ],
      "text/plain": [
       "shape: (5_902, 3)\n",
       "┌─────────────┬──────────────┬───────────┐\n",
       "│ Player      ┆ Country      ┆ player_id │\n",
       "│ ---         ┆ ---          ┆ ---       │\n",
       "│ str         ┆ str          ┆ str       │\n",
       "╞═════════════╪══════════════╪═══════════╡\n",
       "│ PS Athavale ┆ Oman         ┆ c2f12310  │\n",
       "│ HV Mandhyan ┆ Hungary      ┆ 11f56b14  │\n",
       "│ L Kooagile  ┆ Botswana     ┆ 88c742fb  │\n",
       "│ T Maruma    ┆ Zimbabwe     ┆ f55c526f  │\n",
       "│ AA Obanda   ┆ Kenya        ┆ 7081491e  │\n",
       "│ …           ┆ …            ┆ …         │\n",
       "│ DR Patankar ┆ Malta        ┆ e661915c  │\n",
       "│ B Kumar     ┆ India        ┆ 2e81a32d  │\n",
       "│ LMM Tahuhu  ┆ New Zealand  ┆ 60471339  │\n",
       "│ Abdul Wahid ┆ Saudi Arabia ┆ 40aea524  │\n",
       "│ HER Tyler   ┆ Philippines  ┆ 0ba9de33  │\n",
       "└─────────────┴──────────────┴───────────┘"
      ]
     },
     "execution_count": 26,
     "metadata": {},
     "output_type": "execute_result"
    }
   ],
   "source": [
    "players_data = pl.read_csv(r'D:\\github\\localt20\\processedData\\Players.csv').rename({\"player\": \"Player\", \"country\": \"Country\"})\n",
    "players_data"
   ]
  },
  {
   "cell_type": "code",
   "execution_count": 27,
   "metadata": {},
   "outputs": [
    {
     "data": {
      "text/html": [
       "<div><style>\n",
       ".dataframe > thead > tr,\n",
       ".dataframe > tbody > tr {\n",
       "  text-align: right;\n",
       "  white-space: pre-wrap;\n",
       "}\n",
       "</style>\n",
       "<small>shape: (13_060, 13)</small><table border=\"1\" class=\"dataframe\"><thead><tr><th>Player</th><th>Season</th><th>Mat</th><th>Inns</th><th>Runs</th><th>SR</th><th>Ave</th><th>Country</th><th>Cum batting Ave</th><th>Cum battings Runs Total</th><th>Cum Inns Total</th><th>Cum SR</th><th>player_id</th></tr><tr><td>str</td><td>str</td><td>i64</td><td>f64</td><td>f64</td><td>f64</td><td>f64</td><td>str</td><td>f64</td><td>f64</td><td>f64</td><td>f64</td><td>str</td></tr></thead><tbody><tr><td>&quot;A Ahmadhel&quot;</td><td>&quot;2019/20&quot;</td><td>3</td><td>2.0</td><td>16.0</td><td>100.0</td><td>8.0</td><td>&quot;Bulgaria&quot;</td><td>8.0</td><td>16.0</td><td>2.0</td><td>100.0</td><td>&quot;55a5cffb&quot;</td></tr><tr><td>&quot;A Ahmadhel&quot;</td><td>&quot;2020&quot;</td><td>1</td><td>1.0</td><td>8.0</td><td>100.0</td><td>8.0</td><td>&quot;Bulgaria&quot;</td><td>8.0</td><td>24.0</td><td>3.0</td><td>100.0</td><td>&quot;55a5cffb&quot;</td></tr><tr><td>&quot;A Ahmadhel&quot;</td><td>&quot;2020/21&quot;</td><td>2</td><td>1.0</td><td>2.0</td><td>28.57</td><td>2.0</td><td>&quot;Bulgaria&quot;</td><td>6.5</td><td>26.0</td><td>4.0</td><td>76.19</td><td>&quot;55a5cffb&quot;</td></tr><tr><td>&quot;A Ahmadhel&quot;</td><td>&quot;2021&quot;</td><td>3</td><td>3.0</td><td>5.0</td><td>38.46</td><td>1.66</td><td>&quot;Bulgaria&quot;</td><td>4.43</td><td>31.0</td><td>7.0</td><td>66.76</td><td>&quot;55a5cffb&quot;</td></tr><tr><td>&quot;A Ahmadhel&quot;</td><td>&quot;2023&quot;</td><td>2</td><td>0.0</td><td>0.0</td><td>0.0</td><td>0.0</td><td>&quot;Bulgaria&quot;</td><td>4.43</td><td>31.0</td><td>7.0</td><td>53.41</td><td>&quot;55a5cffb&quot;</td></tr><tr><td>&hellip;</td><td>&hellip;</td><td>&hellip;</td><td>&hellip;</td><td>&hellip;</td><td>&hellip;</td><td>&hellip;</td><td>&hellip;</td><td>&hellip;</td><td>&hellip;</td><td>&hellip;</td><td>&hellip;</td><td>&hellip;</td></tr><tr><td>&quot;Zulqarnain Haider&quot;</td><td>&quot;2019&quot;</td><td>4</td><td>1.0</td><td>0.0</td><td>0.0</td><td>0.0</td><td>&quot;Spain&quot;</td><td>0.0</td><td>0.0</td><td>1.0</td><td>0.0</td><td>&quot;2d46e8ed&quot;</td></tr><tr><td>&quot;Zulqarnain Haider&quot;</td><td>&quot;2019/20&quot;</td><td>1</td><td>0.0</td><td>0.0</td><td>0.0</td><td>0.0</td><td>&quot;Spain&quot;</td><td>0.0</td><td>0.0</td><td>1.0</td><td>0.0</td><td>&quot;2d46e8ed&quot;</td></tr><tr><td>&quot;Zulqarnain Haider&quot;</td><td>&quot;2022&quot;</td><td>6</td><td>3.0</td><td>8.0</td><td>66.66</td><td>4.0</td><td>&quot;Spain&quot;</td><td>3.0</td><td>8.0</td><td>4.0</td><td>22.22</td><td>&quot;2d46e8ed&quot;</td></tr><tr><td>&quot;Zulqarnain Haider&quot;</td><td>&quot;2006/07&quot;</td><td>1</td><td>1.0</td><td>5.0</td><td>55.55</td><td>5.0</td><td>&quot;Pakistan&quot;</td><td>5.0</td><td>5.0</td><td>1.0</td><td>55.55</td><td>&quot;ee9bdbc8&quot;</td></tr><tr><td>&quot;Zulqarnain Haider&quot;</td><td>&quot;2010/11&quot;</td><td>2</td><td>2.0</td><td>18.0</td><td>85.71</td><td>9.0</td><td>&quot;Pakistan&quot;</td><td>7.67</td><td>23.0</td><td>3.0</td><td>70.63</td><td>&quot;ee9bdbc8&quot;</td></tr></tbody></table></div>"
      ],
      "text/plain": [
       "shape: (13_060, 13)\n",
       "┌────────────┬─────────┬─────┬──────┬───┬────────────────────┬────────────────┬────────┬───────────┐\n",
       "│ Player     ┆ Season  ┆ Mat ┆ Inns ┆ … ┆ Cum battings Runs  ┆ Cum Inns Total ┆ Cum SR ┆ player_id │\n",
       "│ ---        ┆ ---     ┆ --- ┆ ---  ┆   ┆ Total              ┆ ---            ┆ ---    ┆ ---       │\n",
       "│ str        ┆ str     ┆ i64 ┆ f64  ┆   ┆ ---                ┆ f64            ┆ f64    ┆ str       │\n",
       "│            ┆         ┆     ┆      ┆   ┆ f64                ┆                ┆        ┆           │\n",
       "╞════════════╪═════════╪═════╪══════╪═══╪════════════════════╪════════════════╪════════╪═══════════╡\n",
       "│ A Ahmadhel ┆ 2019/20 ┆ 3   ┆ 2.0  ┆ … ┆ 16.0               ┆ 2.0            ┆ 100.0  ┆ 55a5cffb  │\n",
       "│ A Ahmadhel ┆ 2020    ┆ 1   ┆ 1.0  ┆ … ┆ 24.0               ┆ 3.0            ┆ 100.0  ┆ 55a5cffb  │\n",
       "│ A Ahmadhel ┆ 2020/21 ┆ 2   ┆ 1.0  ┆ … ┆ 26.0               ┆ 4.0            ┆ 76.19  ┆ 55a5cffb  │\n",
       "│ A Ahmadhel ┆ 2021    ┆ 3   ┆ 3.0  ┆ … ┆ 31.0               ┆ 7.0            ┆ 66.76  ┆ 55a5cffb  │\n",
       "│ A Ahmadhel ┆ 2023    ┆ 2   ┆ 0.0  ┆ … ┆ 31.0               ┆ 7.0            ┆ 53.41  ┆ 55a5cffb  │\n",
       "│ …          ┆ …       ┆ …   ┆ …    ┆ … ┆ …                  ┆ …              ┆ …      ┆ …         │\n",
       "│ Zulqarnain ┆ 2019    ┆ 4   ┆ 1.0  ┆ … ┆ 0.0                ┆ 1.0            ┆ 0.0    ┆ 2d46e8ed  │\n",
       "│ Haider     ┆         ┆     ┆      ┆   ┆                    ┆                ┆        ┆           │\n",
       "│ Zulqarnain ┆ 2019/20 ┆ 1   ┆ 0.0  ┆ … ┆ 0.0                ┆ 1.0            ┆ 0.0    ┆ 2d46e8ed  │\n",
       "│ Haider     ┆         ┆     ┆      ┆   ┆                    ┆                ┆        ┆           │\n",
       "│ Zulqarnain ┆ 2022    ┆ 6   ┆ 3.0  ┆ … ┆ 8.0                ┆ 4.0            ┆ 22.22  ┆ 2d46e8ed  │\n",
       "│ Haider     ┆         ┆     ┆      ┆   ┆                    ┆                ┆        ┆           │\n",
       "│ Zulqarnain ┆ 2006/07 ┆ 1   ┆ 1.0  ┆ … ┆ 5.0                ┆ 1.0            ┆ 55.55  ┆ ee9bdbc8  │\n",
       "│ Haider     ┆         ┆     ┆      ┆   ┆                    ┆                ┆        ┆           │\n",
       "│ Zulqarnain ┆ 2010/11 ┆ 2   ┆ 2.0  ┆ … ┆ 23.0               ┆ 3.0            ┆ 70.63  ┆ ee9bdbc8  │\n",
       "│ Haider     ┆         ┆     ┆      ┆   ┆                    ┆                ┆        ┆           │\n",
       "└────────────┴─────────┴─────┴──────┴───┴────────────────────┴────────────────┴────────┴───────────┘"
      ]
     },
     "execution_count": 27,
     "metadata": {},
     "output_type": "execute_result"
    }
   ],
   "source": [
    "batting_data = batting_data.join(players_data, on=['Player','Country'], how='inner')\n",
    "batting_data"
   ]
  },
  {
   "cell_type": "code",
   "execution_count": 28,
   "metadata": {},
   "outputs": [],
   "source": [
    "batting_data = batting_data.rename({\"Runs\":\"Batting Runs\"})"
   ]
  },
  {
   "cell_type": "code",
   "execution_count": 29,
   "metadata": {},
   "outputs": [
    {
     "data": {
      "text/html": [
       "<div><style>\n",
       ".dataframe > thead > tr,\n",
       ".dataframe > tbody > tr {\n",
       "  text-align: right;\n",
       "  white-space: pre-wrap;\n",
       "}\n",
       "</style>\n",
       "<small>shape: (1, 13)</small><table border=\"1\" class=\"dataframe\"><thead><tr><th>Player</th><th>Season</th><th>Mat</th><th>Inns</th><th>Batting Runs</th><th>SR</th><th>Ave</th><th>Country</th><th>Cum batting Ave</th><th>Cum battings Runs Total</th><th>Cum Inns Total</th><th>Cum SR</th><th>player_id</th></tr><tr><td>u32</td><td>u32</td><td>u32</td><td>u32</td><td>u32</td><td>u32</td><td>u32</td><td>u32</td><td>u32</td><td>u32</td><td>u32</td><td>u32</td><td>u32</td></tr></thead><tbody><tr><td>0</td><td>0</td><td>0</td><td>0</td><td>0</td><td>0</td><td>0</td><td>0</td><td>0</td><td>0</td><td>0</td><td>0</td><td>0</td></tr></tbody></table></div>"
      ],
      "text/plain": [
       "shape: (1, 13)\n",
       "┌────────┬────────┬─────┬──────┬───┬─────────────────────────┬────────────────┬────────┬───────────┐\n",
       "│ Player ┆ Season ┆ Mat ┆ Inns ┆ … ┆ Cum battings Runs Total ┆ Cum Inns Total ┆ Cum SR ┆ player_id │\n",
       "│ ---    ┆ ---    ┆ --- ┆ ---  ┆   ┆ ---                     ┆ ---            ┆ ---    ┆ ---       │\n",
       "│ u32    ┆ u32    ┆ u32 ┆ u32  ┆   ┆ u32                     ┆ u32            ┆ u32    ┆ u32       │\n",
       "╞════════╪════════╪═════╪══════╪═══╪═════════════════════════╪════════════════╪════════╪═══════════╡\n",
       "│ 0      ┆ 0      ┆ 0   ┆ 0    ┆ … ┆ 0                       ┆ 0              ┆ 0      ┆ 0         │\n",
       "└────────┴────────┴─────┴──────┴───┴─────────────────────────┴────────────────┴────────┴───────────┘"
      ]
     },
     "execution_count": 29,
     "metadata": {},
     "output_type": "execute_result"
    }
   ],
   "source": [
    "batting_data.null_count()"
   ]
  },
  {
   "cell_type": "code",
   "execution_count": 30,
   "metadata": {},
   "outputs": [],
   "source": [
    "batting_data.write_csv(r'D:\\github\\localt20\\processedData\\batting.csv')"
   ]
  },
  {
   "cell_type": "code",
   "execution_count": null,
   "metadata": {},
   "outputs": [],
   "source": []
  }
 ],
 "metadata": {
  "kernelspec": {
   "display_name": "eda",
   "language": "python",
   "name": "python3"
  },
  "language_info": {
   "codemirror_mode": {
    "name": "ipython",
    "version": 3
   },
   "file_extension": ".py",
   "mimetype": "text/x-python",
   "name": "python",
   "nbconvert_exporter": "python",
   "pygments_lexer": "ipython3",
   "version": "3.8.19"
  }
 },
 "nbformat": 4,
 "nbformat_minor": 2
}
