{
 "cells": [
  {
   "cell_type": "code",
   "execution_count": 1,
   "metadata": {},
   "outputs": [
    {
     "data": {
      "text/html": [
       "<div><style>\n",
       ".dataframe > thead > tr,\n",
       ".dataframe > tbody > tr {\n",
       "  text-align: right;\n",
       "  white-space: pre-wrap;\n",
       "}\n",
       "</style>\n",
       "<small>shape: (13_060, 13)</small><table border=\"1\" class=\"dataframe\"><thead><tr><th>Player</th><th>Season</th><th>Mat</th><th>Inns</th><th>Batting Runs</th><th>SR</th><th>Ave</th><th>Country</th><th>Cum batting Ave</th><th>Cum battings Runs Total</th><th>Cum Inns Total</th><th>Cum SR</th><th>player_id</th></tr><tr><td>str</td><td>str</td><td>i64</td><td>f64</td><td>f64</td><td>f64</td><td>f64</td><td>str</td><td>f64</td><td>f64</td><td>f64</td><td>f64</td><td>str</td></tr></thead><tbody><tr><td>&quot;A Ahmadhel&quot;</td><td>&quot;2019/20&quot;</td><td>3</td><td>2.0</td><td>16.0</td><td>100.0</td><td>8.0</td><td>&quot;Bulgaria&quot;</td><td>8.0</td><td>16.0</td><td>2.0</td><td>100.0</td><td>&quot;55a5cffb&quot;</td></tr><tr><td>&quot;A Ahmadhel&quot;</td><td>&quot;2020&quot;</td><td>1</td><td>1.0</td><td>8.0</td><td>100.0</td><td>8.0</td><td>&quot;Bulgaria&quot;</td><td>8.0</td><td>24.0</td><td>3.0</td><td>100.0</td><td>&quot;55a5cffb&quot;</td></tr><tr><td>&quot;A Ahmadhel&quot;</td><td>&quot;2020/21&quot;</td><td>2</td><td>1.0</td><td>2.0</td><td>28.57</td><td>2.0</td><td>&quot;Bulgaria&quot;</td><td>6.5</td><td>26.0</td><td>4.0</td><td>76.19</td><td>&quot;55a5cffb&quot;</td></tr><tr><td>&quot;A Ahmadhel&quot;</td><td>&quot;2021&quot;</td><td>3</td><td>3.0</td><td>5.0</td><td>38.46</td><td>1.66</td><td>&quot;Bulgaria&quot;</td><td>4.43</td><td>31.0</td><td>7.0</td><td>66.76</td><td>&quot;55a5cffb&quot;</td></tr><tr><td>&quot;A Ahmadhel&quot;</td><td>&quot;2023&quot;</td><td>2</td><td>0.0</td><td>0.0</td><td>0.0</td><td>0.0</td><td>&quot;Bulgaria&quot;</td><td>4.43</td><td>31.0</td><td>7.0</td><td>53.41</td><td>&quot;55a5cffb&quot;</td></tr><tr><td>&hellip;</td><td>&hellip;</td><td>&hellip;</td><td>&hellip;</td><td>&hellip;</td><td>&hellip;</td><td>&hellip;</td><td>&hellip;</td><td>&hellip;</td><td>&hellip;</td><td>&hellip;</td><td>&hellip;</td><td>&hellip;</td></tr><tr><td>&quot;Zulqarnain Haider&quot;</td><td>&quot;2019&quot;</td><td>4</td><td>1.0</td><td>0.0</td><td>0.0</td><td>0.0</td><td>&quot;Spain&quot;</td><td>0.0</td><td>0.0</td><td>1.0</td><td>0.0</td><td>&quot;2d46e8ed&quot;</td></tr><tr><td>&quot;Zulqarnain Haider&quot;</td><td>&quot;2019/20&quot;</td><td>1</td><td>0.0</td><td>0.0</td><td>0.0</td><td>0.0</td><td>&quot;Spain&quot;</td><td>0.0</td><td>0.0</td><td>1.0</td><td>0.0</td><td>&quot;2d46e8ed&quot;</td></tr><tr><td>&quot;Zulqarnain Haider&quot;</td><td>&quot;2022&quot;</td><td>6</td><td>3.0</td><td>8.0</td><td>66.66</td><td>4.0</td><td>&quot;Spain&quot;</td><td>3.0</td><td>8.0</td><td>4.0</td><td>22.22</td><td>&quot;2d46e8ed&quot;</td></tr><tr><td>&quot;Zulqarnain Haider&quot;</td><td>&quot;2006/07&quot;</td><td>1</td><td>1.0</td><td>5.0</td><td>55.55</td><td>5.0</td><td>&quot;Pakistan&quot;</td><td>5.0</td><td>5.0</td><td>1.0</td><td>55.55</td><td>&quot;ee9bdbc8&quot;</td></tr><tr><td>&quot;Zulqarnain Haider&quot;</td><td>&quot;2010/11&quot;</td><td>2</td><td>2.0</td><td>18.0</td><td>85.71</td><td>9.0</td><td>&quot;Pakistan&quot;</td><td>7.67</td><td>23.0</td><td>3.0</td><td>70.63</td><td>&quot;ee9bdbc8&quot;</td></tr></tbody></table></div>"
      ],
      "text/plain": [
       "shape: (13_060, 13)\n",
       "┌────────────┬─────────┬─────┬──────┬───┬────────────────────┬────────────────┬────────┬───────────┐\n",
       "│ Player     ┆ Season  ┆ Mat ┆ Inns ┆ … ┆ Cum battings Runs  ┆ Cum Inns Total ┆ Cum SR ┆ player_id │\n",
       "│ ---        ┆ ---     ┆ --- ┆ ---  ┆   ┆ Total              ┆ ---            ┆ ---    ┆ ---       │\n",
       "│ str        ┆ str     ┆ i64 ┆ f64  ┆   ┆ ---                ┆ f64            ┆ f64    ┆ str       │\n",
       "│            ┆         ┆     ┆      ┆   ┆ f64                ┆                ┆        ┆           │\n",
       "╞════════════╪═════════╪═════╪══════╪═══╪════════════════════╪════════════════╪════════╪═══════════╡\n",
       "│ A Ahmadhel ┆ 2019/20 ┆ 3   ┆ 2.0  ┆ … ┆ 16.0               ┆ 2.0            ┆ 100.0  ┆ 55a5cffb  │\n",
       "│ A Ahmadhel ┆ 2020    ┆ 1   ┆ 1.0  ┆ … ┆ 24.0               ┆ 3.0            ┆ 100.0  ┆ 55a5cffb  │\n",
       "│ A Ahmadhel ┆ 2020/21 ┆ 2   ┆ 1.0  ┆ … ┆ 26.0               ┆ 4.0            ┆ 76.19  ┆ 55a5cffb  │\n",
       "│ A Ahmadhel ┆ 2021    ┆ 3   ┆ 3.0  ┆ … ┆ 31.0               ┆ 7.0            ┆ 66.76  ┆ 55a5cffb  │\n",
       "│ A Ahmadhel ┆ 2023    ┆ 2   ┆ 0.0  ┆ … ┆ 31.0               ┆ 7.0            ┆ 53.41  ┆ 55a5cffb  │\n",
       "│ …          ┆ …       ┆ …   ┆ …    ┆ … ┆ …                  ┆ …              ┆ …      ┆ …         │\n",
       "│ Zulqarnain ┆ 2019    ┆ 4   ┆ 1.0  ┆ … ┆ 0.0                ┆ 1.0            ┆ 0.0    ┆ 2d46e8ed  │\n",
       "│ Haider     ┆         ┆     ┆      ┆   ┆                    ┆                ┆        ┆           │\n",
       "│ Zulqarnain ┆ 2019/20 ┆ 1   ┆ 0.0  ┆ … ┆ 0.0                ┆ 1.0            ┆ 0.0    ┆ 2d46e8ed  │\n",
       "│ Haider     ┆         ┆     ┆      ┆   ┆                    ┆                ┆        ┆           │\n",
       "│ Zulqarnain ┆ 2022    ┆ 6   ┆ 3.0  ┆ … ┆ 8.0                ┆ 4.0            ┆ 22.22  ┆ 2d46e8ed  │\n",
       "│ Haider     ┆         ┆     ┆      ┆   ┆                    ┆                ┆        ┆           │\n",
       "│ Zulqarnain ┆ 2006/07 ┆ 1   ┆ 1.0  ┆ … ┆ 5.0                ┆ 1.0            ┆ 55.55  ┆ ee9bdbc8  │\n",
       "│ Haider     ┆         ┆     ┆      ┆   ┆                    ┆                ┆        ┆           │\n",
       "│ Zulqarnain ┆ 2010/11 ┆ 2   ┆ 2.0  ┆ … ┆ 23.0               ┆ 3.0            ┆ 70.63  ┆ ee9bdbc8  │\n",
       "│ Haider     ┆         ┆     ┆      ┆   ┆                    ┆                ┆        ┆           │\n",
       "└────────────┴─────────┴─────┴──────┴───┴────────────────────┴────────────────┴────────┴───────────┘"
      ]
     },
     "execution_count": 1,
     "metadata": {},
     "output_type": "execute_result"
    }
   ],
   "source": [
    "import os\n",
    "import glob\n",
    "import polars as pl\n",
    "\n",
    "# Specify the directory where your CSV files are located\n",
    "directory = r'D:\\github\\localt20\\processedData'\n",
    "\n",
    "batting_data = pl.read_csv(os.path.join(directory, 'batting.csv'))\n",
    "bowling_data = pl.read_csv(os.path.join(directory, 'bowling.csv'))\n",
    "fielding_data = pl.read_csv(os.path.join(directory, 'fielding.csv'))\n",
    "batting_data"
   ]
  },
  {
   "cell_type": "markdown",
   "metadata": {},
   "source": [
    "# Checking Nans"
   ]
  },
  {
   "cell_type": "code",
   "execution_count": 2,
   "metadata": {},
   "outputs": [
    {
     "name": "stdout",
     "output_type": "stream",
     "text": [
      "(13060, 13)\n",
      "shape: (0, 0)\n",
      "┌┐\n",
      "╞╡\n",
      "└┘\n",
      "(13060, 15)\n",
      "shape: (0, 0)\n",
      "┌┐\n",
      "╞╡\n",
      "└┘\n",
      "(13060, 10)\n",
      "shape: (0, 0)\n",
      "┌┐\n",
      "╞╡\n",
      "└┘\n"
     ]
    }
   ],
   "source": [
    "dfs = [batting_data, bowling_data, fielding_data]\n",
    "\n",
    "for df in dfs:\n",
    "    print(df.shape)\n",
    "    # Identify numeric columns\n",
    "    numeric_columns = df.select(pl.col(pl.Float32) | pl.col(pl.Float64)).columns\n",
    "\n",
    "    # Check for NaN values in numeric columns\n",
    "    nan_check = df.select([\n",
    "        pl.col(column).is_nan().any().alias(f\"{column}_has_nan\") for column in numeric_columns\n",
    "    ])\n",
    "\n",
    "    print(nan_check)"
   ]
  },
  {
   "cell_type": "code",
   "execution_count": 3,
   "metadata": {},
   "outputs": [
    {
     "data": {
      "text/html": [
       "<div><style>\n",
       ".dataframe > thead > tr,\n",
       ".dataframe > tbody > tr {\n",
       "  text-align: right;\n",
       "  white-space: pre-wrap;\n",
       "}\n",
       "</style>\n",
       "<small>shape: (13_060, 22)</small><table border=\"1\" class=\"dataframe\"><thead><tr><th>Player</th><th>Season</th><th>Mat</th><th>Inns</th><th>Batting Runs</th><th>SR</th><th>Ave</th><th>Country</th><th>Cum batting Ave</th><th>Cum battings Runs Total</th><th>Cum Inns Total</th><th>Cum SR</th><th>player_id</th><th>Overs</th><th>Bowling_Runs</th><th>Wkts</th><th>Econ</th><th>Cumulative Overs</th><th>Cumulative Wkts</th><th>Cumulative Runs</th><th>Cumulative Inns</th><th>Cumulative Econ</th></tr><tr><td>str</td><td>str</td><td>i64</td><td>f64</td><td>f64</td><td>f64</td><td>f64</td><td>str</td><td>f64</td><td>f64</td><td>f64</td><td>f64</td><td>str</td><td>f64</td><td>f64</td><td>f64</td><td>f64</td><td>f64</td><td>f64</td><td>f64</td><td>f64</td><td>f64</td></tr></thead><tbody><tr><td>&quot;A Ahmadhel&quot;</td><td>&quot;2019/20&quot;</td><td>3</td><td>2.0</td><td>16.0</td><td>100.0</td><td>8.0</td><td>&quot;Bulgaria&quot;</td><td>8.0</td><td>16.0</td><td>2.0</td><td>100.0</td><td>&quot;55a5cffb&quot;</td><td>10.0</td><td>75.0</td><td>3.0</td><td>7.5</td><td>10.0</td><td>3.0</td><td>75.0</td><td>3.0</td><td>25.0</td></tr><tr><td>&quot;A Ahmadhel&quot;</td><td>&quot;2020&quot;</td><td>1</td><td>1.0</td><td>8.0</td><td>100.0</td><td>8.0</td><td>&quot;Bulgaria&quot;</td><td>8.0</td><td>24.0</td><td>3.0</td><td>100.0</td><td>&quot;55a5cffb&quot;</td><td>2.0</td><td>22.0</td><td>1.0</td><td>11.0</td><td>12.0</td><td>4.0</td><td>97.0</td><td>4.0</td><td>24.25</td></tr><tr><td>&quot;A Ahmadhel&quot;</td><td>&quot;2020/21&quot;</td><td>2</td><td>1.0</td><td>2.0</td><td>28.57</td><td>2.0</td><td>&quot;Bulgaria&quot;</td><td>6.5</td><td>26.0</td><td>4.0</td><td>76.19</td><td>&quot;55a5cffb&quot;</td><td>2.4</td><td>27.0</td><td>2.0</td><td>10.12</td><td>14.4</td><td>6.0</td><td>124.0</td><td>6.0</td><td>20.666667</td></tr><tr><td>&quot;A Ahmadhel&quot;</td><td>&quot;2021&quot;</td><td>3</td><td>3.0</td><td>5.0</td><td>38.46</td><td>1.66</td><td>&quot;Bulgaria&quot;</td><td>4.43</td><td>31.0</td><td>7.0</td><td>66.76</td><td>&quot;55a5cffb&quot;</td><td>3.0</td><td>31.0</td><td>0.0</td><td>10.33</td><td>17.4</td><td>6.0</td><td>155.0</td><td>8.0</td><td>19.375</td></tr><tr><td>&quot;A Ahmadhel&quot;</td><td>&quot;2023&quot;</td><td>2</td><td>0.0</td><td>0.0</td><td>0.0</td><td>0.0</td><td>&quot;Bulgaria&quot;</td><td>4.43</td><td>31.0</td><td>7.0</td><td>53.41</td><td>&quot;55a5cffb&quot;</td><td>0.0</td><td>0.0</td><td>0.0</td><td>0.0</td><td>17.4</td><td>6.0</td><td>155.0</td><td>8.0</td><td>19.375</td></tr><tr><td>&hellip;</td><td>&hellip;</td><td>&hellip;</td><td>&hellip;</td><td>&hellip;</td><td>&hellip;</td><td>&hellip;</td><td>&hellip;</td><td>&hellip;</td><td>&hellip;</td><td>&hellip;</td><td>&hellip;</td><td>&hellip;</td><td>&hellip;</td><td>&hellip;</td><td>&hellip;</td><td>&hellip;</td><td>&hellip;</td><td>&hellip;</td><td>&hellip;</td><td>&hellip;</td><td>&hellip;</td></tr><tr><td>&quot;Zulqarnain Haider&quot;</td><td>&quot;2019&quot;</td><td>4</td><td>1.0</td><td>0.0</td><td>0.0</td><td>0.0</td><td>&quot;Spain&quot;</td><td>0.0</td><td>0.0</td><td>1.0</td><td>0.0</td><td>&quot;2d46e8ed&quot;</td><td>10.0</td><td>53.0</td><td>3.0</td><td>5.3</td><td>10.0</td><td>3.0</td><td>53.0</td><td>4.0</td><td>13.25</td></tr><tr><td>&quot;Zulqarnain Haider&quot;</td><td>&quot;2019/20&quot;</td><td>1</td><td>0.0</td><td>0.0</td><td>0.0</td><td>0.0</td><td>&quot;Spain&quot;</td><td>0.0</td><td>0.0</td><td>1.0</td><td>0.0</td><td>&quot;2d46e8ed&quot;</td><td>3.0</td><td>7.0</td><td>0.0</td><td>2.33</td><td>13.0</td><td>3.0</td><td>60.0</td><td>5.0</td><td>12.0</td></tr><tr><td>&quot;Zulqarnain Haider&quot;</td><td>&quot;2022&quot;</td><td>6</td><td>3.0</td><td>8.0</td><td>66.66</td><td>4.0</td><td>&quot;Spain&quot;</td><td>3.0</td><td>8.0</td><td>4.0</td><td>22.22</td><td>&quot;2d46e8ed&quot;</td><td>15.0</td><td>91.0</td><td>5.0</td><td>6.06</td><td>28.0</td><td>8.0</td><td>151.0</td><td>11.0</td><td>13.727273</td></tr><tr><td>&quot;Zulqarnain Haider&quot;</td><td>&quot;2006/07&quot;</td><td>1</td><td>1.0</td><td>5.0</td><td>55.55</td><td>5.0</td><td>&quot;Pakistan&quot;</td><td>5.0</td><td>5.0</td><td>1.0</td><td>55.55</td><td>&quot;ee9bdbc8&quot;</td><td>0.0</td><td>0.0</td><td>0.0</td><td>0.0</td><td>0.0</td><td>0.0</td><td>0.0</td><td>0.0</td><td>0.0</td></tr><tr><td>&quot;Zulqarnain Haider&quot;</td><td>&quot;2010/11&quot;</td><td>2</td><td>2.0</td><td>18.0</td><td>85.71</td><td>9.0</td><td>&quot;Pakistan&quot;</td><td>7.67</td><td>23.0</td><td>3.0</td><td>70.63</td><td>&quot;ee9bdbc8&quot;</td><td>0.0</td><td>0.0</td><td>0.0</td><td>0.0</td><td>0.0</td><td>0.0</td><td>0.0</td><td>0.0</td><td>0.0</td></tr></tbody></table></div>"
      ],
      "text/plain": [
       "shape: (13_060, 22)\n",
       "┌──────────────┬─────────┬─────┬──────┬───┬──────────────┬─────────────┬─────────────┬─────────────┐\n",
       "│ Player       ┆ Season  ┆ Mat ┆ Inns ┆ … ┆ Cumulative   ┆ Cumulative  ┆ Cumulative  ┆ Cumulative  │\n",
       "│ ---          ┆ ---     ┆ --- ┆ ---  ┆   ┆ Wkts         ┆ Runs        ┆ Inns        ┆ Econ        │\n",
       "│ str          ┆ str     ┆ i64 ┆ f64  ┆   ┆ ---          ┆ ---         ┆ ---         ┆ ---         │\n",
       "│              ┆         ┆     ┆      ┆   ┆ f64          ┆ f64         ┆ f64         ┆ f64         │\n",
       "╞══════════════╪═════════╪═════╪══════╪═══╪══════════════╪═════════════╪═════════════╪═════════════╡\n",
       "│ A Ahmadhel   ┆ 2019/20 ┆ 3   ┆ 2.0  ┆ … ┆ 3.0          ┆ 75.0        ┆ 3.0         ┆ 25.0        │\n",
       "│ A Ahmadhel   ┆ 2020    ┆ 1   ┆ 1.0  ┆ … ┆ 4.0          ┆ 97.0        ┆ 4.0         ┆ 24.25       │\n",
       "│ A Ahmadhel   ┆ 2020/21 ┆ 2   ┆ 1.0  ┆ … ┆ 6.0          ┆ 124.0       ┆ 6.0         ┆ 20.666667   │\n",
       "│ A Ahmadhel   ┆ 2021    ┆ 3   ┆ 3.0  ┆ … ┆ 6.0          ┆ 155.0       ┆ 8.0         ┆ 19.375      │\n",
       "│ A Ahmadhel   ┆ 2023    ┆ 2   ┆ 0.0  ┆ … ┆ 6.0          ┆ 155.0       ┆ 8.0         ┆ 19.375      │\n",
       "│ …            ┆ …       ┆ …   ┆ …    ┆ … ┆ …            ┆ …           ┆ …           ┆ …           │\n",
       "│ Zulqarnain   ┆ 2019    ┆ 4   ┆ 1.0  ┆ … ┆ 3.0          ┆ 53.0        ┆ 4.0         ┆ 13.25       │\n",
       "│ Haider       ┆         ┆     ┆      ┆   ┆              ┆             ┆             ┆             │\n",
       "│ Zulqarnain   ┆ 2019/20 ┆ 1   ┆ 0.0  ┆ … ┆ 3.0          ┆ 60.0        ┆ 5.0         ┆ 12.0        │\n",
       "│ Haider       ┆         ┆     ┆      ┆   ┆              ┆             ┆             ┆             │\n",
       "│ Zulqarnain   ┆ 2022    ┆ 6   ┆ 3.0  ┆ … ┆ 8.0          ┆ 151.0       ┆ 11.0        ┆ 13.727273   │\n",
       "│ Haider       ┆         ┆     ┆      ┆   ┆              ┆             ┆             ┆             │\n",
       "│ Zulqarnain   ┆ 2006/07 ┆ 1   ┆ 1.0  ┆ … ┆ 0.0          ┆ 0.0         ┆ 0.0         ┆ 0.0         │\n",
       "│ Haider       ┆         ┆     ┆      ┆   ┆              ┆             ┆             ┆             │\n",
       "│ Zulqarnain   ┆ 2010/11 ┆ 2   ┆ 2.0  ┆ … ┆ 0.0          ┆ 0.0         ┆ 0.0         ┆ 0.0         │\n",
       "│ Haider       ┆         ┆     ┆      ┆   ┆              ┆             ┆             ┆             │\n",
       "└──────────────┴─────────┴─────┴──────┴───┴──────────────┴─────────────┴─────────────┴─────────────┘"
      ]
     },
     "execution_count": 3,
     "metadata": {},
     "output_type": "execute_result"
    }
   ],
   "source": [
    "player_data = batting_data.join(bowling_data, on=['player_id','Player',\"Country\",\"Season\"], how='inner')\n",
    "player_data = player_data.drop(['Mat_right','Inns_right'])\n",
    "player_data"
   ]
  },
  {
   "cell_type": "code",
   "execution_count": 4,
   "metadata": {},
   "outputs": [
    {
     "data": {
      "text/html": [
       "<div><style>\n",
       ".dataframe > thead > tr,\n",
       ".dataframe > tbody > tr {\n",
       "  text-align: right;\n",
       "  white-space: pre-wrap;\n",
       "}\n",
       "</style>\n",
       "<small>shape: (13_060, 22)</small><table border=\"1\" class=\"dataframe\"><thead><tr><th>Player</th><th>Season</th><th>Mat</th><th>Inns</th><th>Batting Runs</th><th>SR</th><th>Ave</th><th>Country</th><th>Cum batting Ave</th><th>Cum battings Runs Total</th><th>Cum Inns Total</th><th>Cum SR</th><th>player_id</th><th>Overs</th><th>Bowling_Runs</th><th>Wkts</th><th>Econ</th><th>Cumulative Overs</th><th>Cumulative Wkts</th><th>Cumulative Runs</th><th>Cumulative Inns</th><th>Cumulative Econ</th></tr><tr><td>str</td><td>str</td><td>i64</td><td>f64</td><td>f64</td><td>f64</td><td>f64</td><td>str</td><td>f64</td><td>f64</td><td>f64</td><td>f64</td><td>str</td><td>f64</td><td>f64</td><td>f64</td><td>f64</td><td>f64</td><td>f64</td><td>f64</td><td>f64</td><td>f64</td></tr></thead><tbody><tr><td>&quot;A Ahmadhel&quot;</td><td>&quot;2019/20&quot;</td><td>3</td><td>2.0</td><td>16.0</td><td>100.0</td><td>8.0</td><td>&quot;Bulgaria&quot;</td><td>8.0</td><td>16.0</td><td>2.0</td><td>100.0</td><td>&quot;55a5cffb&quot;</td><td>10.0</td><td>75.0</td><td>3.0</td><td>7.5</td><td>10.0</td><td>3.0</td><td>75.0</td><td>3.0</td><td>25.0</td></tr><tr><td>&quot;A Ahmadhel&quot;</td><td>&quot;2020&quot;</td><td>1</td><td>1.0</td><td>8.0</td><td>100.0</td><td>8.0</td><td>&quot;Bulgaria&quot;</td><td>8.0</td><td>24.0</td><td>3.0</td><td>100.0</td><td>&quot;55a5cffb&quot;</td><td>2.0</td><td>22.0</td><td>1.0</td><td>11.0</td><td>12.0</td><td>4.0</td><td>97.0</td><td>4.0</td><td>24.25</td></tr><tr><td>&quot;A Ahmadhel&quot;</td><td>&quot;2020/21&quot;</td><td>2</td><td>1.0</td><td>2.0</td><td>28.57</td><td>2.0</td><td>&quot;Bulgaria&quot;</td><td>6.5</td><td>26.0</td><td>4.0</td><td>76.19</td><td>&quot;55a5cffb&quot;</td><td>2.4</td><td>27.0</td><td>2.0</td><td>10.12</td><td>14.4</td><td>6.0</td><td>124.0</td><td>6.0</td><td>20.666667</td></tr><tr><td>&quot;A Ahmadhel&quot;</td><td>&quot;2021&quot;</td><td>3</td><td>3.0</td><td>5.0</td><td>38.46</td><td>1.66</td><td>&quot;Bulgaria&quot;</td><td>4.43</td><td>31.0</td><td>7.0</td><td>66.76</td><td>&quot;55a5cffb&quot;</td><td>3.0</td><td>31.0</td><td>0.0</td><td>10.33</td><td>17.4</td><td>6.0</td><td>155.0</td><td>8.0</td><td>19.375</td></tr><tr><td>&quot;A Ahmadhel&quot;</td><td>&quot;2023&quot;</td><td>2</td><td>0.0</td><td>0.0</td><td>0.0</td><td>0.0</td><td>&quot;Bulgaria&quot;</td><td>4.43</td><td>31.0</td><td>7.0</td><td>53.41</td><td>&quot;55a5cffb&quot;</td><td>0.0</td><td>0.0</td><td>0.0</td><td>0.0</td><td>17.4</td><td>6.0</td><td>155.0</td><td>8.0</td><td>19.375</td></tr><tr><td>&hellip;</td><td>&hellip;</td><td>&hellip;</td><td>&hellip;</td><td>&hellip;</td><td>&hellip;</td><td>&hellip;</td><td>&hellip;</td><td>&hellip;</td><td>&hellip;</td><td>&hellip;</td><td>&hellip;</td><td>&hellip;</td><td>&hellip;</td><td>&hellip;</td><td>&hellip;</td><td>&hellip;</td><td>&hellip;</td><td>&hellip;</td><td>&hellip;</td><td>&hellip;</td><td>&hellip;</td></tr><tr><td>&quot;Zulqarnain Haider&quot;</td><td>&quot;2019&quot;</td><td>4</td><td>1.0</td><td>0.0</td><td>0.0</td><td>0.0</td><td>&quot;Spain&quot;</td><td>0.0</td><td>0.0</td><td>1.0</td><td>0.0</td><td>&quot;2d46e8ed&quot;</td><td>10.0</td><td>53.0</td><td>3.0</td><td>5.3</td><td>10.0</td><td>3.0</td><td>53.0</td><td>4.0</td><td>13.25</td></tr><tr><td>&quot;Zulqarnain Haider&quot;</td><td>&quot;2019/20&quot;</td><td>1</td><td>0.0</td><td>0.0</td><td>0.0</td><td>0.0</td><td>&quot;Spain&quot;</td><td>0.0</td><td>0.0</td><td>1.0</td><td>0.0</td><td>&quot;2d46e8ed&quot;</td><td>3.0</td><td>7.0</td><td>0.0</td><td>2.33</td><td>13.0</td><td>3.0</td><td>60.0</td><td>5.0</td><td>12.0</td></tr><tr><td>&quot;Zulqarnain Haider&quot;</td><td>&quot;2022&quot;</td><td>6</td><td>3.0</td><td>8.0</td><td>66.66</td><td>4.0</td><td>&quot;Spain&quot;</td><td>3.0</td><td>8.0</td><td>4.0</td><td>22.22</td><td>&quot;2d46e8ed&quot;</td><td>15.0</td><td>91.0</td><td>5.0</td><td>6.06</td><td>28.0</td><td>8.0</td><td>151.0</td><td>11.0</td><td>13.727273</td></tr><tr><td>&quot;Zulqarnain Haider&quot;</td><td>&quot;2006/07&quot;</td><td>1</td><td>1.0</td><td>5.0</td><td>55.55</td><td>5.0</td><td>&quot;Pakistan&quot;</td><td>5.0</td><td>5.0</td><td>1.0</td><td>55.55</td><td>&quot;ee9bdbc8&quot;</td><td>0.0</td><td>0.0</td><td>0.0</td><td>0.0</td><td>0.0</td><td>0.0</td><td>0.0</td><td>0.0</td><td>0.0</td></tr><tr><td>&quot;Zulqarnain Haider&quot;</td><td>&quot;2010/11&quot;</td><td>2</td><td>2.0</td><td>18.0</td><td>85.71</td><td>9.0</td><td>&quot;Pakistan&quot;</td><td>7.67</td><td>23.0</td><td>3.0</td><td>70.63</td><td>&quot;ee9bdbc8&quot;</td><td>0.0</td><td>0.0</td><td>0.0</td><td>0.0</td><td>0.0</td><td>0.0</td><td>0.0</td><td>0.0</td><td>0.0</td></tr></tbody></table></div>"
      ],
      "text/plain": [
       "shape: (13_060, 22)\n",
       "┌──────────────┬─────────┬─────┬──────┬───┬──────────────┬─────────────┬─────────────┬─────────────┐\n",
       "│ Player       ┆ Season  ┆ Mat ┆ Inns ┆ … ┆ Cumulative   ┆ Cumulative  ┆ Cumulative  ┆ Cumulative  │\n",
       "│ ---          ┆ ---     ┆ --- ┆ ---  ┆   ┆ Wkts         ┆ Runs        ┆ Inns        ┆ Econ        │\n",
       "│ str          ┆ str     ┆ i64 ┆ f64  ┆   ┆ ---          ┆ ---         ┆ ---         ┆ ---         │\n",
       "│              ┆         ┆     ┆      ┆   ┆ f64          ┆ f64         ┆ f64         ┆ f64         │\n",
       "╞══════════════╪═════════╪═════╪══════╪═══╪══════════════╪═════════════╪═════════════╪═════════════╡\n",
       "│ A Ahmadhel   ┆ 2019/20 ┆ 3   ┆ 2.0  ┆ … ┆ 3.0          ┆ 75.0        ┆ 3.0         ┆ 25.0        │\n",
       "│ A Ahmadhel   ┆ 2020    ┆ 1   ┆ 1.0  ┆ … ┆ 4.0          ┆ 97.0        ┆ 4.0         ┆ 24.25       │\n",
       "│ A Ahmadhel   ┆ 2020/21 ┆ 2   ┆ 1.0  ┆ … ┆ 6.0          ┆ 124.0       ┆ 6.0         ┆ 20.666667   │\n",
       "│ A Ahmadhel   ┆ 2021    ┆ 3   ┆ 3.0  ┆ … ┆ 6.0          ┆ 155.0       ┆ 8.0         ┆ 19.375      │\n",
       "│ A Ahmadhel   ┆ 2023    ┆ 2   ┆ 0.0  ┆ … ┆ 6.0          ┆ 155.0       ┆ 8.0         ┆ 19.375      │\n",
       "│ …            ┆ …       ┆ …   ┆ …    ┆ … ┆ …            ┆ …           ┆ …           ┆ …           │\n",
       "│ Zulqarnain   ┆ 2019    ┆ 4   ┆ 1.0  ┆ … ┆ 3.0          ┆ 53.0        ┆ 4.0         ┆ 13.25       │\n",
       "│ Haider       ┆         ┆     ┆      ┆   ┆              ┆             ┆             ┆             │\n",
       "│ Zulqarnain   ┆ 2019/20 ┆ 1   ┆ 0.0  ┆ … ┆ 3.0          ┆ 60.0        ┆ 5.0         ┆ 12.0        │\n",
       "│ Haider       ┆         ┆     ┆      ┆   ┆              ┆             ┆             ┆             │\n",
       "│ Zulqarnain   ┆ 2022    ┆ 6   ┆ 3.0  ┆ … ┆ 8.0          ┆ 151.0       ┆ 11.0        ┆ 13.727273   │\n",
       "│ Haider       ┆         ┆     ┆      ┆   ┆              ┆             ┆             ┆             │\n",
       "│ Zulqarnain   ┆ 2006/07 ┆ 1   ┆ 1.0  ┆ … ┆ 0.0          ┆ 0.0         ┆ 0.0         ┆ 0.0         │\n",
       "│ Haider       ┆         ┆     ┆      ┆   ┆              ┆             ┆             ┆             │\n",
       "│ Zulqarnain   ┆ 2010/11 ┆ 2   ┆ 2.0  ┆ … ┆ 0.0          ┆ 0.0         ┆ 0.0         ┆ 0.0         │\n",
       "│ Haider       ┆         ┆     ┆      ┆   ┆              ┆             ┆             ┆             │\n",
       "└──────────────┴─────────┴─────┴──────┴───┴──────────────┴─────────────┴─────────────┴─────────────┘"
      ]
     },
     "execution_count": 4,
     "metadata": {},
     "output_type": "execute_result"
    }
   ],
   "source": [
    "player_data"
   ]
  },
  {
   "cell_type": "code",
   "execution_count": 5,
   "metadata": {},
   "outputs": [
    {
     "data": {
      "text/html": [
       "<div><style>\n",
       ".dataframe > thead > tr,\n",
       ".dataframe > tbody > tr {\n",
       "  text-align: right;\n",
       "  white-space: pre-wrap;\n",
       "}\n",
       "</style>\n",
       "<small>shape: (13_060, 26)</small><table border=\"1\" class=\"dataframe\"><thead><tr><th>Player</th><th>Season</th><th>Mat</th><th>Inns</th><th>Batting Runs</th><th>SR</th><th>Ave</th><th>Country</th><th>Cum batting Ave</th><th>Cum battings Runs Total</th><th>Cum Inns Total</th><th>Cum SR</th><th>player_id</th><th>Overs</th><th>Bowling_Runs</th><th>Wkts</th><th>Econ</th><th>Cumulative Overs</th><th>Cumulative Wkts</th><th>Cumulative Runs</th><th>Cumulative Inns</th><th>Cumulative Econ</th><th>Dis</th><th>Ct</th><th>St</th><th>D/I</th></tr><tr><td>str</td><td>str</td><td>i64</td><td>f64</td><td>f64</td><td>f64</td><td>f64</td><td>str</td><td>f64</td><td>f64</td><td>f64</td><td>f64</td><td>str</td><td>f64</td><td>f64</td><td>f64</td><td>f64</td><td>f64</td><td>f64</td><td>f64</td><td>f64</td><td>f64</td><td>f64</td><td>f64</td><td>f64</td><td>f64</td></tr></thead><tbody><tr><td>&quot;A Ahmadhel&quot;</td><td>&quot;2019/20&quot;</td><td>3</td><td>2.0</td><td>16.0</td><td>100.0</td><td>8.0</td><td>&quot;Bulgaria&quot;</td><td>8.0</td><td>16.0</td><td>2.0</td><td>100.0</td><td>&quot;55a5cffb&quot;</td><td>10.0</td><td>75.0</td><td>3.0</td><td>7.5</td><td>10.0</td><td>3.0</td><td>75.0</td><td>3.0</td><td>25.0</td><td>0.0</td><td>0.0</td><td>0.0</td><td>0.0</td></tr><tr><td>&quot;A Ahmadhel&quot;</td><td>&quot;2020&quot;</td><td>1</td><td>1.0</td><td>8.0</td><td>100.0</td><td>8.0</td><td>&quot;Bulgaria&quot;</td><td>8.0</td><td>24.0</td><td>3.0</td><td>100.0</td><td>&quot;55a5cffb&quot;</td><td>2.0</td><td>22.0</td><td>1.0</td><td>11.0</td><td>12.0</td><td>4.0</td><td>97.0</td><td>4.0</td><td>24.25</td><td>0.0</td><td>0.0</td><td>0.0</td><td>0.0</td></tr><tr><td>&quot;A Ahmadhel&quot;</td><td>&quot;2020/21&quot;</td><td>2</td><td>1.0</td><td>2.0</td><td>28.57</td><td>2.0</td><td>&quot;Bulgaria&quot;</td><td>6.5</td><td>26.0</td><td>4.0</td><td>76.19</td><td>&quot;55a5cffb&quot;</td><td>2.4</td><td>27.0</td><td>2.0</td><td>10.12</td><td>14.4</td><td>6.0</td><td>124.0</td><td>6.0</td><td>20.666667</td><td>0.0</td><td>0.0</td><td>0.0</td><td>0.0</td></tr><tr><td>&quot;A Ahmadhel&quot;</td><td>&quot;2021&quot;</td><td>3</td><td>3.0</td><td>5.0</td><td>38.46</td><td>1.66</td><td>&quot;Bulgaria&quot;</td><td>4.43</td><td>31.0</td><td>7.0</td><td>66.76</td><td>&quot;55a5cffb&quot;</td><td>3.0</td><td>31.0</td><td>0.0</td><td>10.33</td><td>17.4</td><td>6.0</td><td>155.0</td><td>8.0</td><td>19.375</td><td>0.0</td><td>0.0</td><td>0.0</td><td>0.0</td></tr><tr><td>&quot;A Ahmadhel&quot;</td><td>&quot;2023&quot;</td><td>2</td><td>0.0</td><td>0.0</td><td>0.0</td><td>0.0</td><td>&quot;Bulgaria&quot;</td><td>4.43</td><td>31.0</td><td>7.0</td><td>53.41</td><td>&quot;55a5cffb&quot;</td><td>0.0</td><td>0.0</td><td>0.0</td><td>0.0</td><td>17.4</td><td>6.0</td><td>155.0</td><td>8.0</td><td>19.375</td><td>0.0</td><td>0.0</td><td>0.0</td><td>0.0</td></tr><tr><td>&hellip;</td><td>&hellip;</td><td>&hellip;</td><td>&hellip;</td><td>&hellip;</td><td>&hellip;</td><td>&hellip;</td><td>&hellip;</td><td>&hellip;</td><td>&hellip;</td><td>&hellip;</td><td>&hellip;</td><td>&hellip;</td><td>&hellip;</td><td>&hellip;</td><td>&hellip;</td><td>&hellip;</td><td>&hellip;</td><td>&hellip;</td><td>&hellip;</td><td>&hellip;</td><td>&hellip;</td><td>&hellip;</td><td>&hellip;</td><td>&hellip;</td><td>&hellip;</td></tr><tr><td>&quot;Zulqarnain Haider&quot;</td><td>&quot;2019&quot;</td><td>4</td><td>1.0</td><td>0.0</td><td>0.0</td><td>0.0</td><td>&quot;Spain&quot;</td><td>0.0</td><td>0.0</td><td>1.0</td><td>0.0</td><td>&quot;2d46e8ed&quot;</td><td>10.0</td><td>53.0</td><td>3.0</td><td>5.3</td><td>10.0</td><td>3.0</td><td>53.0</td><td>4.0</td><td>13.25</td><td>1.0</td><td>1.0</td><td>0.0</td><td>0.25</td></tr><tr><td>&quot;Zulqarnain Haider&quot;</td><td>&quot;2019/20&quot;</td><td>1</td><td>0.0</td><td>0.0</td><td>0.0</td><td>0.0</td><td>&quot;Spain&quot;</td><td>0.0</td><td>0.0</td><td>1.0</td><td>0.0</td><td>&quot;2d46e8ed&quot;</td><td>3.0</td><td>7.0</td><td>0.0</td><td>2.33</td><td>13.0</td><td>3.0</td><td>60.0</td><td>5.0</td><td>12.0</td><td>1.0</td><td>1.0</td><td>0.0</td><td>0.2</td></tr><tr><td>&quot;Zulqarnain Haider&quot;</td><td>&quot;2022&quot;</td><td>6</td><td>3.0</td><td>8.0</td><td>66.66</td><td>4.0</td><td>&quot;Spain&quot;</td><td>3.0</td><td>8.0</td><td>4.0</td><td>22.22</td><td>&quot;2d46e8ed&quot;</td><td>15.0</td><td>91.0</td><td>5.0</td><td>6.06</td><td>28.0</td><td>8.0</td><td>151.0</td><td>11.0</td><td>13.727273</td><td>1.0</td><td>1.0</td><td>0.0</td><td>0.090909</td></tr><tr><td>&quot;Zulqarnain Haider&quot;</td><td>&quot;2006/07&quot;</td><td>1</td><td>1.0</td><td>5.0</td><td>55.55</td><td>5.0</td><td>&quot;Pakistan&quot;</td><td>5.0</td><td>5.0</td><td>1.0</td><td>55.55</td><td>&quot;ee9bdbc8&quot;</td><td>0.0</td><td>0.0</td><td>0.0</td><td>0.0</td><td>0.0</td><td>0.0</td><td>0.0</td><td>0.0</td><td>0.0</td><td>0.0</td><td>0.0</td><td>0.0</td><td>0.0</td></tr><tr><td>&quot;Zulqarnain Haider&quot;</td><td>&quot;2010/11&quot;</td><td>2</td><td>2.0</td><td>18.0</td><td>85.71</td><td>9.0</td><td>&quot;Pakistan&quot;</td><td>7.67</td><td>23.0</td><td>3.0</td><td>70.63</td><td>&quot;ee9bdbc8&quot;</td><td>0.0</td><td>0.0</td><td>0.0</td><td>0.0</td><td>0.0</td><td>0.0</td><td>0.0</td><td>0.0</td><td>0.0</td><td>1.0</td><td>0.0</td><td>1.0</td><td>0.333333</td></tr></tbody></table></div>"
      ],
      "text/plain": [
       "shape: (13_060, 26)\n",
       "┌───────────────────┬─────────┬─────┬──────┬───┬─────┬─────┬─────┬──────────┐\n",
       "│ Player            ┆ Season  ┆ Mat ┆ Inns ┆ … ┆ Dis ┆ Ct  ┆ St  ┆ D/I      │\n",
       "│ ---               ┆ ---     ┆ --- ┆ ---  ┆   ┆ --- ┆ --- ┆ --- ┆ ---      │\n",
       "│ str               ┆ str     ┆ i64 ┆ f64  ┆   ┆ f64 ┆ f64 ┆ f64 ┆ f64      │\n",
       "╞═══════════════════╪═════════╪═════╪══════╪═══╪═════╪═════╪═════╪══════════╡\n",
       "│ A Ahmadhel        ┆ 2019/20 ┆ 3   ┆ 2.0  ┆ … ┆ 0.0 ┆ 0.0 ┆ 0.0 ┆ 0.0      │\n",
       "│ A Ahmadhel        ┆ 2020    ┆ 1   ┆ 1.0  ┆ … ┆ 0.0 ┆ 0.0 ┆ 0.0 ┆ 0.0      │\n",
       "│ A Ahmadhel        ┆ 2020/21 ┆ 2   ┆ 1.0  ┆ … ┆ 0.0 ┆ 0.0 ┆ 0.0 ┆ 0.0      │\n",
       "│ A Ahmadhel        ┆ 2021    ┆ 3   ┆ 3.0  ┆ … ┆ 0.0 ┆ 0.0 ┆ 0.0 ┆ 0.0      │\n",
       "│ A Ahmadhel        ┆ 2023    ┆ 2   ┆ 0.0  ┆ … ┆ 0.0 ┆ 0.0 ┆ 0.0 ┆ 0.0      │\n",
       "│ …                 ┆ …       ┆ …   ┆ …    ┆ … ┆ …   ┆ …   ┆ …   ┆ …        │\n",
       "│ Zulqarnain Haider ┆ 2019    ┆ 4   ┆ 1.0  ┆ … ┆ 1.0 ┆ 1.0 ┆ 0.0 ┆ 0.25     │\n",
       "│ Zulqarnain Haider ┆ 2019/20 ┆ 1   ┆ 0.0  ┆ … ┆ 1.0 ┆ 1.0 ┆ 0.0 ┆ 0.2      │\n",
       "│ Zulqarnain Haider ┆ 2022    ┆ 6   ┆ 3.0  ┆ … ┆ 1.0 ┆ 1.0 ┆ 0.0 ┆ 0.090909 │\n",
       "│ Zulqarnain Haider ┆ 2006/07 ┆ 1   ┆ 1.0  ┆ … ┆ 0.0 ┆ 0.0 ┆ 0.0 ┆ 0.0      │\n",
       "│ Zulqarnain Haider ┆ 2010/11 ┆ 2   ┆ 2.0  ┆ … ┆ 1.0 ┆ 0.0 ┆ 1.0 ┆ 0.333333 │\n",
       "└───────────────────┴─────────┴─────┴──────┴───┴─────┴─────┴─────┴──────────┘"
      ]
     },
     "execution_count": 5,
     "metadata": {},
     "output_type": "execute_result"
    }
   ],
   "source": [
    "player_data = player_data.join(fielding_data, on=['player_id','Player',\"Country\",\"Season\"], how='inner')\n",
    "player_data = player_data.drop(['Mat_right','Inns_right'])\n",
    "player_data\n"
   ]
  },
  {
   "cell_type": "code",
   "execution_count": 6,
   "metadata": {},
   "outputs": [],
   "source": [
    "for i in player_data.columns:\n",
    "    if player_data[i].dtype != pl.String:\n",
    "        if player_data[i].is_nan().sum()>0:\n",
    "            print(i,player_data[i].is_nan().sum())"
   ]
  },
  {
   "cell_type": "code",
   "execution_count": 7,
   "metadata": {},
   "outputs": [],
   "source": [
    "player_data.write_csv(r'D:\\github\\localt20\\processedData\\playerStats.csv')"
   ]
  },
  {
   "cell_type": "code",
   "execution_count": null,
   "metadata": {},
   "outputs": [],
   "source": []
  }
 ],
 "metadata": {
  "kernelspec": {
   "display_name": "eda",
   "language": "python",
   "name": "python3"
  },
  "language_info": {
   "codemirror_mode": {
    "name": "ipython",
    "version": 3
   },
   "file_extension": ".py",
   "mimetype": "text/x-python",
   "name": "python",
   "nbconvert_exporter": "python",
   "pygments_lexer": "ipython3",
   "version": "3.8.19"
  }
 },
 "nbformat": 4,
 "nbformat_minor": 2
}
