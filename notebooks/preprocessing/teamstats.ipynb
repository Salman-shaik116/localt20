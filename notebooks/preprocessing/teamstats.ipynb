{
 "cells": [
  {
   "cell_type": "code",
   "execution_count": 1,
   "metadata": {},
   "outputs": [
    {
     "data": {
      "text/html": [
       "<div><style>\n",
       ".dataframe > thead > tr,\n",
       ".dataframe > tbody > tr {\n",
       "  text-align: right;\n",
       "  white-space: pre-wrap;\n",
       "}\n",
       "</style>\n",
       "<small>shape: (907, 13)</small><table border=\"1\" class=\"dataframe\"><thead><tr><th>Team</th><th>Mat</th><th>Won</th><th>Lost</th><th>Tied</th><th>NR</th><th>W/L</th><th>Ave</th><th>RPO</th><th>Inns</th><th>HS</th><th>LS</th><th>Season</th></tr><tr><td>str</td><td>i64</td><td>i64</td><td>i64</td><td>i64</td><td>i64</td><td>str</td><td>str</td><td>str</td><td>i64</td><td>i64</td><td>str</td><td>str</td></tr></thead><tbody><tr><td>&quot;Zimbabwe&quot;</td><td>5</td><td>5</td><td>0</td><td>0</td><td>0</td><td>&quot;-&quot;</td><td>&quot;43.6&quot;</td><td>&quot;12.82&quot;</td><td>5</td><td>344</td><td>&quot;-&quot;</td><td>&quot;2024/25&quot;</td></tr><tr><td>&quot;Zimbabwe&quot;</td><td>10</td><td>2</td><td>8</td><td>0</td><td>0</td><td>&quot;0.250&quot;</td><td>&quot;17.48&quot;</td><td>&quot;7.16&quot;</td><td>10</td><td>159</td><td>&quot;124&quot;</td><td>&quot;2024&quot;</td></tr><tr><td>&quot;Zimbabwe&quot;</td><td>17</td><td>8</td><td>9</td><td>0</td><td>0</td><td>&quot;0.888&quot;</td><td>&quot;24.03&quot;</td><td>&quot;7.81&quot;</td><td>17</td><td>217</td><td>&quot;82&quot;</td><td>&quot;2023/24&quot;</td></tr><tr><td>&quot;Zimbabwe&quot;</td><td>11</td><td>5</td><td>5</td><td>0</td><td>1</td><td>&quot;1.000&quot;</td><td>&quot;16.94&quot;</td><td>&quot;7.13&quot;</td><td>11</td><td>174</td><td>&quot;115&quot;</td><td>&quot;2022/23&quot;</td></tr><tr><td>&quot;Zimbabwe&quot;</td><td>16</td><td>9</td><td>7</td><td>0</td><td>0</td><td>&quot;1.285&quot;</td><td>&quot;22.45&quot;</td><td>&quot;7.75&quot;</td><td>16</td><td>236</td><td>&quot;95&quot;</td><td>&quot;2022&quot;</td></tr><tr><td>&hellip;</td><td>&hellip;</td><td>&hellip;</td><td>&hellip;</td><td>&hellip;</td><td>&hellip;</td><td>&hellip;</td><td>&hellip;</td><td>&hellip;</td><td>&hellip;</td><td>&hellip;</td><td>&hellip;</td><td>&hellip;</td></tr><tr><td>&quot;Afghanistan&quot;</td><td>10</td><td>4</td><td>6</td><td>0</td><td>0</td><td>&quot;0.666&quot;</td><td>&quot;17.15&quot;</td><td>&quot;6.92&quot;</td><td>10</td><td>171</td><td>&quot;72&quot;</td><td>&quot;2013/14&quot;</td></tr><tr><td>&quot;Afghanistan&quot;</td><td>4</td><td>2</td><td>2</td><td>0</td><td>0</td><td>&quot;1.000&quot;</td><td>&quot;16.26&quot;</td><td>&quot;6.56&quot;</td><td>4</td><td>140</td><td>&quot;80&quot;</td><td>&quot;2012/13&quot;</td></tr><tr><td>&quot;Afghanistan&quot;</td><td>3</td><td>2</td><td>1</td><td>0</td><td>0</td><td>&quot;2.000&quot;</td><td>&quot;22.66&quot;</td><td>&quot;7.97&quot;</td><td>3</td><td>174</td><td>&quot;-&quot;</td><td>&quot;2011/12&quot;</td></tr><tr><td>&quot;Afghanistan&quot;</td><td>2</td><td>0</td><td>2</td><td>0</td><td>0</td><td>&quot;0.000&quot;</td><td>&quot;10.83&quot;</td><td>&quot;5.41&quot;</td><td>2</td><td>115</td><td>&quot;80&quot;</td><td>&quot;2010&quot;</td></tr><tr><td>&quot;Afghanistan&quot;</td><td>6</td><td>4</td><td>2</td><td>0</td><td>0</td><td>&quot;2.000&quot;</td><td>&quot;20.22&quot;</td><td>&quot;6.89&quot;</td><td>6</td><td>147</td><td>&quot;-&quot;</td><td>&quot;2009/10&quot;</td></tr></tbody></table></div>"
      ],
      "text/plain": [
       "shape: (907, 13)\n",
       "┌─────────────┬─────┬─────┬──────┬───┬──────┬─────┬─────┬─────────┐\n",
       "│ Team        ┆ Mat ┆ Won ┆ Lost ┆ … ┆ Inns ┆ HS  ┆ LS  ┆ Season  │\n",
       "│ ---         ┆ --- ┆ --- ┆ ---  ┆   ┆ ---  ┆ --- ┆ --- ┆ ---     │\n",
       "│ str         ┆ i64 ┆ i64 ┆ i64  ┆   ┆ i64  ┆ i64 ┆ str ┆ str     │\n",
       "╞═════════════╪═════╪═════╪══════╪═══╪══════╪═════╪═════╪═════════╡\n",
       "│ Zimbabwe    ┆ 5   ┆ 5   ┆ 0    ┆ … ┆ 5    ┆ 344 ┆ -   ┆ 2024/25 │\n",
       "│ Zimbabwe    ┆ 10  ┆ 2   ┆ 8    ┆ … ┆ 10   ┆ 159 ┆ 124 ┆ 2024    │\n",
       "│ Zimbabwe    ┆ 17  ┆ 8   ┆ 9    ┆ … ┆ 17   ┆ 217 ┆ 82  ┆ 2023/24 │\n",
       "│ Zimbabwe    ┆ 11  ┆ 5   ┆ 5    ┆ … ┆ 11   ┆ 174 ┆ 115 ┆ 2022/23 │\n",
       "│ Zimbabwe    ┆ 16  ┆ 9   ┆ 7    ┆ … ┆ 16   ┆ 236 ┆ 95  ┆ 2022    │\n",
       "│ …           ┆ …   ┆ …   ┆ …    ┆ … ┆ …    ┆ …   ┆ …   ┆ …       │\n",
       "│ Afghanistan ┆ 10  ┆ 4   ┆ 6    ┆ … ┆ 10   ┆ 171 ┆ 72  ┆ 2013/14 │\n",
       "│ Afghanistan ┆ 4   ┆ 2   ┆ 2    ┆ … ┆ 4    ┆ 140 ┆ 80  ┆ 2012/13 │\n",
       "│ Afghanistan ┆ 3   ┆ 2   ┆ 1    ┆ … ┆ 3    ┆ 174 ┆ -   ┆ 2011/12 │\n",
       "│ Afghanistan ┆ 2   ┆ 0   ┆ 2    ┆ … ┆ 2    ┆ 115 ┆ 80  ┆ 2010    │\n",
       "│ Afghanistan ┆ 6   ┆ 4   ┆ 2    ┆ … ┆ 6    ┆ 147 ┆ -   ┆ 2009/10 │\n",
       "└─────────────┴─────┴─────┴──────┴───┴──────┴─────┴─────┴─────────┘"
      ]
     },
     "execution_count": 1,
     "metadata": {},
     "output_type": "execute_result"
    }
   ],
   "source": [
    "import os\n",
    "import polars as pl\n",
    "\n",
    "# Specify the directory where your CSV files are located\n",
    "directory = r'D:\\github\\localt20\\data\\rawData'\n",
    "\n",
    "team_data = pl.read_csv(os.path.join(directory, 't20_team_stats.csv'),infer_schema_length=800)\n",
    "team_data"
   ]
  },
  {
   "cell_type": "code",
   "execution_count": 2,
   "metadata": {},
   "outputs": [
    {
     "data": {
      "text/html": [
       "<div><style>\n",
       ".dataframe > thead > tr,\n",
       ".dataframe > tbody > tr {\n",
       "  text-align: right;\n",
       "  white-space: pre-wrap;\n",
       "}\n",
       "</style>\n",
       "<small>shape: (9, 14)</small><table border=\"1\" class=\"dataframe\"><thead><tr><th>statistic</th><th>Team</th><th>Mat</th><th>Won</th><th>Lost</th><th>Tied</th><th>NR</th><th>W/L</th><th>Ave</th><th>RPO</th><th>Inns</th><th>HS</th><th>LS</th><th>Season</th></tr><tr><td>str</td><td>str</td><td>f64</td><td>f64</td><td>f64</td><td>f64</td><td>f64</td><td>str</td><td>str</td><td>str</td><td>f64</td><td>f64</td><td>str</td><td>str</td></tr></thead><tbody><tr><td>&quot;count&quot;</td><td>&quot;907&quot;</td><td>907.0</td><td>907.0</td><td>907.0</td><td>907.0</td><td>907.0</td><td>&quot;907&quot;</td><td>&quot;907&quot;</td><td>&quot;907&quot;</td><td>907.0</td><td>907.0</td><td>&quot;907&quot;</td><td>&quot;907&quot;</td></tr><tr><td>&quot;null_count&quot;</td><td>&quot;0&quot;</td><td>0.0</td><td>0.0</td><td>0.0</td><td>0.0</td><td>0.0</td><td>&quot;0&quot;</td><td>&quot;0&quot;</td><td>&quot;0&quot;</td><td>0.0</td><td>0.0</td><td>&quot;0&quot;</td><td>&quot;0&quot;</td></tr><tr><td>&quot;mean&quot;</td><td>null</td><td>6.476295</td><td>3.120176</td><td>3.120176</td><td>0.085998</td><td>0.149945</td><td>null</td><td>null</td><td>null</td><td>6.406836</td><td>173.011025</td><td>null</td><td>null</td></tr><tr><td>&quot;std&quot;</td><td>null</td><td>4.200841</td><td>2.874087</td><td>2.442699</td><td>0.303206</td><td>0.417085</td><td>null</td><td>null</td><td>null</td><td>4.169277</td><td>39.316145</td><td>null</td><td>null</td></tr><tr><td>&quot;min&quot;</td><td>&quot;Afghanistan&quot;</td><td>1.0</td><td>0.0</td><td>0.0</td><td>0.0</td><td>0.0</td><td>&quot;-&quot;</td><td>&quot;-&quot;</td><td>&quot;-&quot;</td><td>0.0</td><td>0.0</td><td>&quot;-&quot;</td><td>&quot;2004/05&quot;</td></tr><tr><td>&quot;25%&quot;</td><td>null</td><td>3.0</td><td>1.0</td><td>1.0</td><td>0.0</td><td>0.0</td><td>null</td><td>null</td><td>null</td><td>3.0</td><td>148.0</td><td>null</td><td>null</td></tr><tr><td>&quot;50%&quot;</td><td>null</td><td>5.0</td><td>2.0</td><td>3.0</td><td>0.0</td><td>0.0</td><td>null</td><td>null</td><td>null</td><td>5.0</td><td>175.0</td><td>null</td><td>null</td></tr><tr><td>&quot;75%&quot;</td><td>null</td><td>9.0</td><td>5.0</td><td>4.0</td><td>0.0</td><td>0.0</td><td>null</td><td>null</td><td>null</td><td>9.0</td><td>198.0</td><td>null</td><td>null</td></tr><tr><td>&quot;max&quot;</td><td>&quot;Zimbabwe&quot;</td><td>24.0</td><td>20.0</td><td>18.0</td><td>3.0</td><td>3.0</td><td>&quot;9.000&quot;</td><td>&quot;9.94&quot;</td><td>&quot;9.97&quot;</td><td>24.0</td><td>344.0</td><td>&quot;99&quot;</td><td>&quot;2024/25&quot;</td></tr></tbody></table></div>"
      ],
      "text/plain": [
       "shape: (9, 14)\n",
       "┌────────────┬─────────────┬──────────┬──────────┬───┬──────────┬────────────┬──────┬─────────┐\n",
       "│ statistic  ┆ Team        ┆ Mat      ┆ Won      ┆ … ┆ Inns     ┆ HS         ┆ LS   ┆ Season  │\n",
       "│ ---        ┆ ---         ┆ ---      ┆ ---      ┆   ┆ ---      ┆ ---        ┆ ---  ┆ ---     │\n",
       "│ str        ┆ str         ┆ f64      ┆ f64      ┆   ┆ f64      ┆ f64        ┆ str  ┆ str     │\n",
       "╞════════════╪═════════════╪══════════╪══════════╪═══╪══════════╪════════════╪══════╪═════════╡\n",
       "│ count      ┆ 907         ┆ 907.0    ┆ 907.0    ┆ … ┆ 907.0    ┆ 907.0      ┆ 907  ┆ 907     │\n",
       "│ null_count ┆ 0           ┆ 0.0      ┆ 0.0      ┆ … ┆ 0.0      ┆ 0.0        ┆ 0    ┆ 0       │\n",
       "│ mean       ┆ null        ┆ 6.476295 ┆ 3.120176 ┆ … ┆ 6.406836 ┆ 173.011025 ┆ null ┆ null    │\n",
       "│ std        ┆ null        ┆ 4.200841 ┆ 2.874087 ┆ … ┆ 4.169277 ┆ 39.316145  ┆ null ┆ null    │\n",
       "│ min        ┆ Afghanistan ┆ 1.0      ┆ 0.0      ┆ … ┆ 0.0      ┆ 0.0        ┆ -    ┆ 2004/05 │\n",
       "│ 25%        ┆ null        ┆ 3.0      ┆ 1.0      ┆ … ┆ 3.0      ┆ 148.0      ┆ null ┆ null    │\n",
       "│ 50%        ┆ null        ┆ 5.0      ┆ 2.0      ┆ … ┆ 5.0      ┆ 175.0      ┆ null ┆ null    │\n",
       "│ 75%        ┆ null        ┆ 9.0      ┆ 5.0      ┆ … ┆ 9.0      ┆ 198.0      ┆ null ┆ null    │\n",
       "│ max        ┆ Zimbabwe    ┆ 24.0     ┆ 20.0     ┆ … ┆ 24.0     ┆ 344.0      ┆ 99   ┆ 2024/25 │\n",
       "└────────────┴─────────────┴──────────┴──────────┴───┴──────────┴────────────┴──────┴─────────┘"
      ]
     },
     "execution_count": 2,
     "metadata": {},
     "output_type": "execute_result"
    }
   ],
   "source": [
    "team_data.describe()"
   ]
  },
  {
   "cell_type": "code",
   "execution_count": 3,
   "metadata": {},
   "outputs": [
    {
     "data": {
      "text/html": [
       "<div><style>\n",
       ".dataframe > thead > tr,\n",
       ".dataframe > tbody > tr {\n",
       "  text-align: right;\n",
       "  white-space: pre-wrap;\n",
       "}\n",
       "</style>\n",
       "<small>shape: (907, 13)</small><table border=\"1\" class=\"dataframe\"><thead><tr><th>Team</th><th>Mat</th><th>Won</th><th>Lost</th><th>Tied</th><th>NR</th><th>W/L</th><th>Inns</th><th>HS</th><th>LS</th><th>Season</th><th>AveRPW</th><th>AveRPO</th></tr><tr><td>str</td><td>i64</td><td>i64</td><td>i64</td><td>i64</td><td>i64</td><td>f64</td><td>i64</td><td>i64</td><td>f64</td><td>str</td><td>f64</td><td>f64</td></tr></thead><tbody><tr><td>&quot;Zimbabwe&quot;</td><td>5</td><td>5</td><td>0</td><td>0</td><td>0</td><td>5.0</td><td>5</td><td>344</td><td>0.0</td><td>&quot;2024/25&quot;</td><td>43.6</td><td>12.82</td></tr><tr><td>&quot;Zimbabwe&quot;</td><td>10</td><td>2</td><td>8</td><td>0</td><td>0</td><td>0.25</td><td>10</td><td>159</td><td>124.0</td><td>&quot;2024&quot;</td><td>17.48</td><td>7.16</td></tr><tr><td>&quot;Zimbabwe&quot;</td><td>17</td><td>8</td><td>9</td><td>0</td><td>0</td><td>0.888889</td><td>17</td><td>217</td><td>82.0</td><td>&quot;2023/24&quot;</td><td>24.03</td><td>7.81</td></tr><tr><td>&quot;Zimbabwe&quot;</td><td>11</td><td>5</td><td>5</td><td>0</td><td>1</td><td>1.0</td><td>11</td><td>174</td><td>115.0</td><td>&quot;2022/23&quot;</td><td>16.94</td><td>7.13</td></tr><tr><td>&quot;Zimbabwe&quot;</td><td>16</td><td>9</td><td>7</td><td>0</td><td>0</td><td>1.285714</td><td>16</td><td>236</td><td>95.0</td><td>&quot;2022&quot;</td><td>22.45</td><td>7.75</td></tr><tr><td>&hellip;</td><td>&hellip;</td><td>&hellip;</td><td>&hellip;</td><td>&hellip;</td><td>&hellip;</td><td>&hellip;</td><td>&hellip;</td><td>&hellip;</td><td>&hellip;</td><td>&hellip;</td><td>&hellip;</td><td>&hellip;</td></tr><tr><td>&quot;Afghanistan&quot;</td><td>10</td><td>4</td><td>6</td><td>0</td><td>0</td><td>0.666667</td><td>10</td><td>171</td><td>72.0</td><td>&quot;2013/14&quot;</td><td>17.15</td><td>6.92</td></tr><tr><td>&quot;Afghanistan&quot;</td><td>4</td><td>2</td><td>2</td><td>0</td><td>0</td><td>1.0</td><td>4</td><td>140</td><td>80.0</td><td>&quot;2012/13&quot;</td><td>16.26</td><td>6.56</td></tr><tr><td>&quot;Afghanistan&quot;</td><td>3</td><td>2</td><td>1</td><td>0</td><td>0</td><td>2.0</td><td>3</td><td>174</td><td>0.0</td><td>&quot;2011/12&quot;</td><td>22.66</td><td>7.97</td></tr><tr><td>&quot;Afghanistan&quot;</td><td>2</td><td>0</td><td>2</td><td>0</td><td>0</td><td>0.0</td><td>2</td><td>115</td><td>80.0</td><td>&quot;2010&quot;</td><td>10.83</td><td>5.41</td></tr><tr><td>&quot;Afghanistan&quot;</td><td>6</td><td>4</td><td>2</td><td>0</td><td>0</td><td>2.0</td><td>6</td><td>147</td><td>0.0</td><td>&quot;2009/10&quot;</td><td>20.22</td><td>6.89</td></tr></tbody></table></div>"
      ],
      "text/plain": [
       "shape: (907, 13)\n",
       "┌─────────────┬─────┬─────┬──────┬───┬───────┬─────────┬────────┬────────┐\n",
       "│ Team        ┆ Mat ┆ Won ┆ Lost ┆ … ┆ LS    ┆ Season  ┆ AveRPW ┆ AveRPO │\n",
       "│ ---         ┆ --- ┆ --- ┆ ---  ┆   ┆ ---   ┆ ---     ┆ ---    ┆ ---    │\n",
       "│ str         ┆ i64 ┆ i64 ┆ i64  ┆   ┆ f64   ┆ str     ┆ f64    ┆ f64    │\n",
       "╞═════════════╪═════╪═════╪══════╪═══╪═══════╪═════════╪════════╪════════╡\n",
       "│ Zimbabwe    ┆ 5   ┆ 5   ┆ 0    ┆ … ┆ 0.0   ┆ 2024/25 ┆ 43.6   ┆ 12.82  │\n",
       "│ Zimbabwe    ┆ 10  ┆ 2   ┆ 8    ┆ … ┆ 124.0 ┆ 2024    ┆ 17.48  ┆ 7.16   │\n",
       "│ Zimbabwe    ┆ 17  ┆ 8   ┆ 9    ┆ … ┆ 82.0  ┆ 2023/24 ┆ 24.03  ┆ 7.81   │\n",
       "│ Zimbabwe    ┆ 11  ┆ 5   ┆ 5    ┆ … ┆ 115.0 ┆ 2022/23 ┆ 16.94  ┆ 7.13   │\n",
       "│ Zimbabwe    ┆ 16  ┆ 9   ┆ 7    ┆ … ┆ 95.0  ┆ 2022    ┆ 22.45  ┆ 7.75   │\n",
       "│ …           ┆ …   ┆ …   ┆ …    ┆ … ┆ …     ┆ …       ┆ …      ┆ …      │\n",
       "│ Afghanistan ┆ 10  ┆ 4   ┆ 6    ┆ … ┆ 72.0  ┆ 2013/14 ┆ 17.15  ┆ 6.92   │\n",
       "│ Afghanistan ┆ 4   ┆ 2   ┆ 2    ┆ … ┆ 80.0  ┆ 2012/13 ┆ 16.26  ┆ 6.56   │\n",
       "│ Afghanistan ┆ 3   ┆ 2   ┆ 1    ┆ … ┆ 0.0   ┆ 2011/12 ┆ 22.66  ┆ 7.97   │\n",
       "│ Afghanistan ┆ 2   ┆ 0   ┆ 2    ┆ … ┆ 80.0  ┆ 2010    ┆ 10.83  ┆ 5.41   │\n",
       "│ Afghanistan ┆ 6   ┆ 4   ┆ 2    ┆ … ┆ 0.0   ┆ 2009/10 ┆ 20.22  ┆ 6.89   │\n",
       "└─────────────┴─────┴─────┴──────┴───┴───────┴─────────┴────────┴────────┘"
      ]
     },
     "execution_count": 3,
     "metadata": {},
     "output_type": "execute_result"
    }
   ],
   "source": [
    "team_data = team_data.with_columns((pl.when(pl.col(\"Lost\")==0).then(pl.col(\"Won\")).otherwise(pl.col(\"Won\")/pl.col(\"Lost\"))).alias(\"W/L\"))\n",
    "team_data = team_data.with_columns(pl.col(\"LS\").str.replace(\"-\",\"0\").alias(\"LS\").cast(pl.Float64))\n",
    "# team_data = team_data.with_columns(pl.col(\"HS\").str.replace(\"-\",0).alias(\"HS\").cast(pl.Float64))\n",
    "team_data = team_data.with_columns(pl.col(\"Ave\").str.replace(\"-\",\"0\").alias(\"AveRPW\").cast(pl.Float64)).drop(\"Ave\")\n",
    "team_data = team_data.with_columns(pl.col(\"RPO\").str.replace(\"-\",\"0\").alias(\"AveRPO\").cast(pl.Float64)).drop(\"RPO\")\n",
    "team_data"
   ]
  },
  {
   "cell_type": "code",
   "execution_count": 4,
   "metadata": {},
   "outputs": [
    {
     "data": {
      "text/html": [
       "<div><style>\n",
       ".dataframe > thead > tr,\n",
       ".dataframe > tbody > tr {\n",
       "  text-align: right;\n",
       "  white-space: pre-wrap;\n",
       "}\n",
       "</style>\n",
       "<small>shape: (9, 14)</small><table border=\"1\" class=\"dataframe\"><thead><tr><th>statistic</th><th>Team</th><th>Mat</th><th>Won</th><th>Lost</th><th>Tied</th><th>NR</th><th>W/L</th><th>Inns</th><th>HS</th><th>LS</th><th>Season</th><th>AveRPW</th><th>AveRPO</th></tr><tr><td>str</td><td>str</td><td>f64</td><td>f64</td><td>f64</td><td>f64</td><td>f64</td><td>f64</td><td>f64</td><td>f64</td><td>f64</td><td>str</td><td>f64</td><td>f64</td></tr></thead><tbody><tr><td>&quot;count&quot;</td><td>&quot;907&quot;</td><td>907.0</td><td>907.0</td><td>907.0</td><td>907.0</td><td>907.0</td><td>907.0</td><td>907.0</td><td>907.0</td><td>907.0</td><td>&quot;907&quot;</td><td>907.0</td><td>907.0</td></tr><tr><td>&quot;null_count&quot;</td><td>&quot;0&quot;</td><td>0.0</td><td>0.0</td><td>0.0</td><td>0.0</td><td>0.0</td><td>0.0</td><td>0.0</td><td>0.0</td><td>0.0</td><td>&quot;0&quot;</td><td>0.0</td><td>0.0</td></tr><tr><td>&quot;mean&quot;</td><td>null</td><td>6.476295</td><td>3.120176</td><td>3.120176</td><td>0.085998</td><td>0.149945</td><td>1.463647</td><td>6.406836</td><td>173.011025</td><td>64.244763</td><td>null</td><td>22.092966</td><td>7.358776</td></tr><tr><td>&quot;std&quot;</td><td>null</td><td>4.200841</td><td>2.874087</td><td>2.442699</td><td>0.303206</td><td>0.417085</td><td>1.83101</td><td>4.169277</td><td>39.316145</td><td>54.467679</td><td>null</td><td>9.882032</td><td>1.432449</td></tr><tr><td>&quot;min&quot;</td><td>&quot;Afghanistan&quot;</td><td>1.0</td><td>0.0</td><td>0.0</td><td>0.0</td><td>0.0</td><td>0.0</td><td>0.0</td><td>0.0</td><td>0.0</td><td>&quot;2004/05&quot;</td><td>0.0</td><td>0.0</td></tr><tr><td>&quot;25%&quot;</td><td>null</td><td>3.0</td><td>1.0</td><td>1.0</td><td>0.0</td><td>0.0</td><td>0.333333</td><td>3.0</td><td>148.0</td><td>0.0</td><td>null</td><td>16.4</td><td>6.55</td></tr><tr><td>&quot;50%&quot;</td><td>null</td><td>5.0</td><td>2.0</td><td>3.0</td><td>0.0</td><td>0.0</td><td>1.0</td><td>5.0</td><td>175.0</td><td>76.0</td><td>null</td><td>21.18</td><td>7.5</td></tr><tr><td>&quot;75%&quot;</td><td>null</td><td>9.0</td><td>5.0</td><td>4.0</td><td>0.0</td><td>0.0</td><td>2.0</td><td>9.0</td><td>198.0</td><td>109.0</td><td>null</td><td>25.98</td><td>8.25</td></tr><tr><td>&quot;max&quot;</td><td>&quot;Zimbabwe&quot;</td><td>24.0</td><td>20.0</td><td>18.0</td><td>3.0</td><td>3.0</td><td>14.0</td><td>24.0</td><td>344.0</td><td>200.0</td><td>&quot;2024/25&quot;</td><td>139.0</td><td>13.43</td></tr></tbody></table></div>"
      ],
      "text/plain": [
       "shape: (9, 14)\n",
       "┌────────────┬─────────────┬──────────┬──────────┬───┬───────────┬─────────┬───────────┬──────────┐\n",
       "│ statistic  ┆ Team        ┆ Mat      ┆ Won      ┆ … ┆ LS        ┆ Season  ┆ AveRPW    ┆ AveRPO   │\n",
       "│ ---        ┆ ---         ┆ ---      ┆ ---      ┆   ┆ ---       ┆ ---     ┆ ---       ┆ ---      │\n",
       "│ str        ┆ str         ┆ f64      ┆ f64      ┆   ┆ f64       ┆ str     ┆ f64       ┆ f64      │\n",
       "╞════════════╪═════════════╪══════════╪══════════╪═══╪═══════════╪═════════╪═══════════╪══════════╡\n",
       "│ count      ┆ 907         ┆ 907.0    ┆ 907.0    ┆ … ┆ 907.0     ┆ 907     ┆ 907.0     ┆ 907.0    │\n",
       "│ null_count ┆ 0           ┆ 0.0      ┆ 0.0      ┆ … ┆ 0.0       ┆ 0       ┆ 0.0       ┆ 0.0      │\n",
       "│ mean       ┆ null        ┆ 6.476295 ┆ 3.120176 ┆ … ┆ 64.244763 ┆ null    ┆ 22.092966 ┆ 7.358776 │\n",
       "│ std        ┆ null        ┆ 4.200841 ┆ 2.874087 ┆ … ┆ 54.467679 ┆ null    ┆ 9.882032  ┆ 1.432449 │\n",
       "│ min        ┆ Afghanistan ┆ 1.0      ┆ 0.0      ┆ … ┆ 0.0       ┆ 2004/05 ┆ 0.0       ┆ 0.0      │\n",
       "│ 25%        ┆ null        ┆ 3.0      ┆ 1.0      ┆ … ┆ 0.0       ┆ null    ┆ 16.4      ┆ 6.55     │\n",
       "│ 50%        ┆ null        ┆ 5.0      ┆ 2.0      ┆ … ┆ 76.0      ┆ null    ┆ 21.18     ┆ 7.5      │\n",
       "│ 75%        ┆ null        ┆ 9.0      ┆ 5.0      ┆ … ┆ 109.0     ┆ null    ┆ 25.98     ┆ 8.25     │\n",
       "│ max        ┆ Zimbabwe    ┆ 24.0     ┆ 20.0     ┆ … ┆ 200.0     ┆ 2024/25 ┆ 139.0     ┆ 13.43    │\n",
       "└────────────┴─────────────┴──────────┴──────────┴───┴───────────┴─────────┴───────────┴──────────┘"
      ]
     },
     "execution_count": 4,
     "metadata": {},
     "output_type": "execute_result"
    }
   ],
   "source": [
    "team_data.describe()    "
   ]
  },
  {
   "cell_type": "code",
   "execution_count": 5,
   "metadata": {},
   "outputs": [
    {
     "data": {
      "text/html": [
       "<div><style>\n",
       ".dataframe > thead > tr,\n",
       ".dataframe > tbody > tr {\n",
       "  text-align: right;\n",
       "  white-space: pre-wrap;\n",
       "}\n",
       "</style>\n",
       "<small>shape: (907, 13)</small><table border=\"1\" class=\"dataframe\"><thead><tr><th>Team</th><th>Mat</th><th>Won</th><th>Lost</th><th>Tied</th><th>NR</th><th>W/L</th><th>Inns</th><th>HS</th><th>LS</th><th>Season</th><th>AveRPW</th><th>AveRPO</th></tr><tr><td>str</td><td>i64</td><td>i64</td><td>i64</td><td>i64</td><td>i64</td><td>f64</td><td>i64</td><td>i64</td><td>f64</td><td>str</td><td>f64</td><td>f64</td></tr></thead><tbody><tr><td>&quot;Zimbabwe&quot;</td><td>5</td><td>5</td><td>0</td><td>0</td><td>0</td><td>5.0</td><td>5</td><td>344</td><td>0.0</td><td>&quot;2024/25&quot;</td><td>43.6</td><td>12.82</td></tr><tr><td>&quot;Zimbabwe&quot;</td><td>10</td><td>2</td><td>8</td><td>0</td><td>0</td><td>0.25</td><td>10</td><td>159</td><td>124.0</td><td>&quot;2024&quot;</td><td>17.48</td><td>7.16</td></tr><tr><td>&quot;Zimbabwe&quot;</td><td>17</td><td>8</td><td>9</td><td>0</td><td>0</td><td>0.888889</td><td>17</td><td>217</td><td>82.0</td><td>&quot;2023/24&quot;</td><td>24.03</td><td>7.81</td></tr><tr><td>&quot;Zimbabwe&quot;</td><td>11</td><td>5</td><td>5</td><td>0</td><td>1</td><td>1.0</td><td>11</td><td>174</td><td>115.0</td><td>&quot;2022/23&quot;</td><td>16.94</td><td>7.13</td></tr><tr><td>&quot;Zimbabwe&quot;</td><td>16</td><td>9</td><td>7</td><td>0</td><td>0</td><td>1.285714</td><td>16</td><td>236</td><td>95.0</td><td>&quot;2022&quot;</td><td>22.45</td><td>7.75</td></tr><tr><td>&hellip;</td><td>&hellip;</td><td>&hellip;</td><td>&hellip;</td><td>&hellip;</td><td>&hellip;</td><td>&hellip;</td><td>&hellip;</td><td>&hellip;</td><td>&hellip;</td><td>&hellip;</td><td>&hellip;</td><td>&hellip;</td></tr><tr><td>&quot;Afghanistan&quot;</td><td>10</td><td>4</td><td>6</td><td>0</td><td>0</td><td>0.666667</td><td>10</td><td>171</td><td>72.0</td><td>&quot;2013/14&quot;</td><td>17.15</td><td>6.92</td></tr><tr><td>&quot;Afghanistan&quot;</td><td>4</td><td>2</td><td>2</td><td>0</td><td>0</td><td>1.0</td><td>4</td><td>140</td><td>80.0</td><td>&quot;2012/13&quot;</td><td>16.26</td><td>6.56</td></tr><tr><td>&quot;Afghanistan&quot;</td><td>3</td><td>2</td><td>1</td><td>0</td><td>0</td><td>2.0</td><td>3</td><td>174</td><td>0.0</td><td>&quot;2011/12&quot;</td><td>22.66</td><td>7.97</td></tr><tr><td>&quot;Afghanistan&quot;</td><td>2</td><td>0</td><td>2</td><td>0</td><td>0</td><td>0.0</td><td>2</td><td>115</td><td>80.0</td><td>&quot;2010&quot;</td><td>10.83</td><td>5.41</td></tr><tr><td>&quot;Afghanistan&quot;</td><td>6</td><td>4</td><td>2</td><td>0</td><td>0</td><td>2.0</td><td>6</td><td>147</td><td>0.0</td><td>&quot;2009/10&quot;</td><td>20.22</td><td>6.89</td></tr></tbody></table></div>"
      ],
      "text/plain": [
       "shape: (907, 13)\n",
       "┌─────────────┬─────┬─────┬──────┬───┬───────┬─────────┬────────┬────────┐\n",
       "│ Team        ┆ Mat ┆ Won ┆ Lost ┆ … ┆ LS    ┆ Season  ┆ AveRPW ┆ AveRPO │\n",
       "│ ---         ┆ --- ┆ --- ┆ ---  ┆   ┆ ---   ┆ ---     ┆ ---    ┆ ---    │\n",
       "│ str         ┆ i64 ┆ i64 ┆ i64  ┆   ┆ f64   ┆ str     ┆ f64    ┆ f64    │\n",
       "╞═════════════╪═════╪═════╪══════╪═══╪═══════╪═════════╪════════╪════════╡\n",
       "│ Zimbabwe    ┆ 5   ┆ 5   ┆ 0    ┆ … ┆ 0.0   ┆ 2024/25 ┆ 43.6   ┆ 12.82  │\n",
       "│ Zimbabwe    ┆ 10  ┆ 2   ┆ 8    ┆ … ┆ 124.0 ┆ 2024    ┆ 17.48  ┆ 7.16   │\n",
       "│ Zimbabwe    ┆ 17  ┆ 8   ┆ 9    ┆ … ┆ 82.0  ┆ 2023/24 ┆ 24.03  ┆ 7.81   │\n",
       "│ Zimbabwe    ┆ 11  ┆ 5   ┆ 5    ┆ … ┆ 115.0 ┆ 2022/23 ┆ 16.94  ┆ 7.13   │\n",
       "│ Zimbabwe    ┆ 16  ┆ 9   ┆ 7    ┆ … ┆ 95.0  ┆ 2022    ┆ 22.45  ┆ 7.75   │\n",
       "│ …           ┆ …   ┆ …   ┆ …    ┆ … ┆ …     ┆ …       ┆ …      ┆ …      │\n",
       "│ Afghanistan ┆ 10  ┆ 4   ┆ 6    ┆ … ┆ 72.0  ┆ 2013/14 ┆ 17.15  ┆ 6.92   │\n",
       "│ Afghanistan ┆ 4   ┆ 2   ┆ 2    ┆ … ┆ 80.0  ┆ 2012/13 ┆ 16.26  ┆ 6.56   │\n",
       "│ Afghanistan ┆ 3   ┆ 2   ┆ 1    ┆ … ┆ 0.0   ┆ 2011/12 ┆ 22.66  ┆ 7.97   │\n",
       "│ Afghanistan ┆ 2   ┆ 0   ┆ 2    ┆ … ┆ 80.0  ┆ 2010    ┆ 10.83  ┆ 5.41   │\n",
       "│ Afghanistan ┆ 6   ┆ 4   ┆ 2    ┆ … ┆ 0.0   ┆ 2009/10 ┆ 20.22  ┆ 6.89   │\n",
       "└─────────────┴─────┴─────┴──────┴───┴───────┴─────────┴────────┴────────┘"
      ]
     },
     "execution_count": 5,
     "metadata": {},
     "output_type": "execute_result"
    }
   ],
   "source": [
    "team_data"
   ]
  },
  {
   "cell_type": "code",
   "execution_count": 6,
   "metadata": {},
   "outputs": [],
   "source": [
    "team_data.write_csv(r'D:\\github\\localt20\\data\\processedData\\teamStats.csv')"
   ]
  },
  {
   "cell_type": "code",
   "execution_count": null,
   "metadata": {},
   "outputs": [],
   "source": []
  }
 ],
 "metadata": {
  "kernelspec": {
   "display_name": "eda",
   "language": "python",
   "name": "python3"
  },
  "language_info": {
   "codemirror_mode": {
    "name": "ipython",
    "version": 3
   },
   "file_extension": ".py",
   "mimetype": "text/x-python",
   "name": "python",
   "nbconvert_exporter": "python",
   "pygments_lexer": "ipython3",
   "version": "3.8.19"
  }
 },
 "nbformat": 4,
 "nbformat_minor": 2
}
