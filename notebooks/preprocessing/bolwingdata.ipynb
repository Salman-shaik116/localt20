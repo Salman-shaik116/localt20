{
 "cells": [
  {
   "cell_type": "code",
   "execution_count": 1,
   "metadata": {},
   "outputs": [
    {
     "data": {
      "text/html": [
       "<div><style>\n",
       ".dataframe > thead > tr,\n",
       ".dataframe > tbody > tr {\n",
       "  text-align: right;\n",
       "  white-space: pre-wrap;\n",
       "}\n",
       "</style>\n",
       "<small>shape: (14_082, 14)</small><table border=\"1\" class=\"dataframe\"><thead><tr><th>Player</th><th>Mat</th><th>Inns</th><th>Overs</th><th>Mdns</th><th>Runs</th><th>Wkts</th><th>BBI</th><th>Ave</th><th>Econ</th><th>SR</th><th>4</th><th>5</th><th>Season</th></tr><tr><td>str</td><td>i64</td><td>str</td><td>str</td><td>str</td><td>str</td><td>str</td><td>str</td><td>str</td><td>str</td><td>str</td><td>str</td><td>str</td><td>str</td></tr></thead><tbody><tr><td>&quot;Zulqarnain Haider (PAK)&quot;</td><td>2</td><td>&quot;-&quot;</td><td>&quot;-&quot;</td><td>&quot;-&quot;</td><td>&quot;-&quot;</td><td>&quot;-&quot;</td><td>&quot;-&quot;</td><td>&quot;-&quot;</td><td>&quot;-&quot;</td><td>&quot;-&quot;</td><td>&quot;-&quot;</td><td>&quot;-&quot;</td><td>&quot;2010/11&quot;</td></tr><tr><td>&quot;Zulqarnain Haider (PAK)&quot;</td><td>1</td><td>&quot;-&quot;</td><td>&quot;-&quot;</td><td>&quot;-&quot;</td><td>&quot;-&quot;</td><td>&quot;-&quot;</td><td>&quot;-&quot;</td><td>&quot;-&quot;</td><td>&quot;-&quot;</td><td>&quot;-&quot;</td><td>&quot;-&quot;</td><td>&quot;-&quot;</td><td>&quot;2006/07&quot;</td></tr><tr><td>&quot;Zulqarnain Haider (ESP)&quot;</td><td>1</td><td>&quot;1&quot;</td><td>&quot;3.0&quot;</td><td>&quot;0&quot;</td><td>&quot;7&quot;</td><td>&quot;0&quot;</td><td>&quot;-&quot;</td><td>&quot;-&quot;</td><td>&quot;2.33&quot;</td><td>&quot;-&quot;</td><td>&quot;0&quot;</td><td>&quot;0&quot;</td><td>&quot;2019/20&quot;</td></tr><tr><td>&quot;Zulqarnain Haider (ESP)&quot;</td><td>6</td><td>&quot;6&quot;</td><td>&quot;15.0&quot;</td><td>&quot;0&quot;</td><td>&quot;91&quot;</td><td>&quot;5&quot;</td><td>&quot;2/26&quot;</td><td>&quot;18.20&quot;</td><td>&quot;6.06&quot;</td><td>&quot;18.0&quot;</td><td>&quot;0&quot;</td><td>&quot;0&quot;</td><td>&quot;2022&quot;</td></tr><tr><td>&quot;Zulqarnain Haider (ESP)&quot;</td><td>4</td><td>&quot;4&quot;</td><td>&quot;10.0&quot;</td><td>&quot;0&quot;</td><td>&quot;53&quot;</td><td>&quot;3&quot;</td><td>&quot;1/7&quot;</td><td>&quot;17.66&quot;</td><td>&quot;5.30&quot;</td><td>&quot;20.0&quot;</td><td>&quot;0&quot;</td><td>&quot;0&quot;</td><td>&quot;2019&quot;</td></tr><tr><td>&hellip;</td><td>&hellip;</td><td>&hellip;</td><td>&hellip;</td><td>&hellip;</td><td>&hellip;</td><td>&hellip;</td><td>&hellip;</td><td>&hellip;</td><td>&hellip;</td><td>&hellip;</td><td>&hellip;</td><td>&hellip;</td><td>&hellip;</td></tr><tr><td>&quot;A Ahmadhel (BUL)&quot;</td><td>2</td><td>&quot;2&quot;</td><td>&quot;2.4&quot;</td><td>&quot;0&quot;</td><td>&quot;27&quot;</td><td>&quot;2&quot;</td><td>&quot;1/6&quot;</td><td>&quot;13.50&quot;</td><td>&quot;10.12&quot;</td><td>&quot;8.0&quot;</td><td>&quot;0&quot;</td><td>&quot;0&quot;</td><td>&quot;2020/21&quot;</td></tr><tr><td>&quot;A Ahmadhel (BUL)&quot;</td><td>1</td><td>&quot;1&quot;</td><td>&quot;2.0&quot;</td><td>&quot;0&quot;</td><td>&quot;22&quot;</td><td>&quot;1&quot;</td><td>&quot;1/22&quot;</td><td>&quot;22.00&quot;</td><td>&quot;11.00&quot;</td><td>&quot;12.0&quot;</td><td>&quot;0&quot;</td><td>&quot;0&quot;</td><td>&quot;2020&quot;</td></tr><tr><td>&quot;A Ahmadhel (BUL)&quot;</td><td>3</td><td>&quot;3&quot;</td><td>&quot;10.0&quot;</td><td>&quot;0&quot;</td><td>&quot;75&quot;</td><td>&quot;3&quot;</td><td>&quot;2/16&quot;</td><td>&quot;25.00&quot;</td><td>&quot;7.5&quot;</td><td>&quot;20.0&quot;</td><td>&quot;0&quot;</td><td>&quot;0&quot;</td><td>&quot;2019/20&quot;</td></tr><tr><td>&quot;A Ahmadhel (BUL)&quot;</td><td>1</td><td>&quot;-&quot;</td><td>&quot;-&quot;</td><td>&quot;-&quot;</td><td>&quot;-&quot;</td><td>&quot;-&quot;</td><td>&quot;-&quot;</td><td>&quot;-&quot;</td><td>&quot;-&quot;</td><td>&quot;-&quot;</td><td>&quot;-&quot;</td><td>&quot;-&quot;</td><td>&quot;2024&quot;</td></tr><tr><td>&quot;A Ahmadhel (BUL)&quot;</td><td>2</td><td>&quot;-&quot;</td><td>&quot;-&quot;</td><td>&quot;-&quot;</td><td>&quot;-&quot;</td><td>&quot;-&quot;</td><td>&quot;-&quot;</td><td>&quot;-&quot;</td><td>&quot;-&quot;</td><td>&quot;-&quot;</td><td>&quot;-&quot;</td><td>&quot;-&quot;</td><td>&quot;2023&quot;</td></tr></tbody></table></div>"
      ],
      "text/plain": [
       "shape: (14_082, 14)\n",
       "┌─────────────────────────┬─────┬──────┬───────┬───┬──────┬─────┬─────┬─────────┐\n",
       "│ Player                  ┆ Mat ┆ Inns ┆ Overs ┆ … ┆ SR   ┆ 4   ┆ 5   ┆ Season  │\n",
       "│ ---                     ┆ --- ┆ ---  ┆ ---   ┆   ┆ ---  ┆ --- ┆ --- ┆ ---     │\n",
       "│ str                     ┆ i64 ┆ str  ┆ str   ┆   ┆ str  ┆ str ┆ str ┆ str     │\n",
       "╞═════════════════════════╪═════╪══════╪═══════╪═══╪══════╪═════╪═════╪═════════╡\n",
       "│ Zulqarnain Haider (PAK) ┆ 2   ┆ -    ┆ -     ┆ … ┆ -    ┆ -   ┆ -   ┆ 2010/11 │\n",
       "│ Zulqarnain Haider (PAK) ┆ 1   ┆ -    ┆ -     ┆ … ┆ -    ┆ -   ┆ -   ┆ 2006/07 │\n",
       "│ Zulqarnain Haider (ESP) ┆ 1   ┆ 1    ┆ 3.0   ┆ … ┆ -    ┆ 0   ┆ 0   ┆ 2019/20 │\n",
       "│ Zulqarnain Haider (ESP) ┆ 6   ┆ 6    ┆ 15.0  ┆ … ┆ 18.0 ┆ 0   ┆ 0   ┆ 2022    │\n",
       "│ Zulqarnain Haider (ESP) ┆ 4   ┆ 4    ┆ 10.0  ┆ … ┆ 20.0 ┆ 0   ┆ 0   ┆ 2019    │\n",
       "│ …                       ┆ …   ┆ …    ┆ …     ┆ … ┆ …    ┆ …   ┆ …   ┆ …       │\n",
       "│ A Ahmadhel (BUL)        ┆ 2   ┆ 2    ┆ 2.4   ┆ … ┆ 8.0  ┆ 0   ┆ 0   ┆ 2020/21 │\n",
       "│ A Ahmadhel (BUL)        ┆ 1   ┆ 1    ┆ 2.0   ┆ … ┆ 12.0 ┆ 0   ┆ 0   ┆ 2020    │\n",
       "│ A Ahmadhel (BUL)        ┆ 3   ┆ 3    ┆ 10.0  ┆ … ┆ 20.0 ┆ 0   ┆ 0   ┆ 2019/20 │\n",
       "│ A Ahmadhel (BUL)        ┆ 1   ┆ -    ┆ -     ┆ … ┆ -    ┆ -   ┆ -   ┆ 2024    │\n",
       "│ A Ahmadhel (BUL)        ┆ 2   ┆ -    ┆ -     ┆ … ┆ -    ┆ -   ┆ -   ┆ 2023    │\n",
       "└─────────────────────────┴─────┴──────┴───────┴───┴──────┴─────┴─────┴─────────┘"
      ]
     },
     "execution_count": 1,
     "metadata": {},
     "output_type": "execute_result"
    }
   ],
   "source": [
    "import os\n",
    "import glob\n",
    "import polars as pl\n",
    "import pandas as pd\n",
    "\n",
    "# Specify the directory where your CSV files are located\n",
    "directory = r'D:\\github\\localt20\\data'\n",
    "\n",
    "bowling_data = pl.read_csv(os.path.join(directory, 't20_bowling_stats.csv'))\n",
    "bowling_data"
   ]
  },
  {
   "cell_type": "code",
   "execution_count": 2,
   "metadata": {},
   "outputs": [
    {
     "data": {
      "text/html": [
       "<div><style>\n",
       ".dataframe > thead > tr,\n",
       ".dataframe > tbody > tr {\n",
       "  text-align: right;\n",
       "  white-space: pre-wrap;\n",
       "}\n",
       "</style>\n",
       "<small>shape: (14_082, 8)</small><table border=\"1\" class=\"dataframe\"><thead><tr><th>Player</th><th>Season</th><th>Mat</th><th>Inns</th><th>Overs</th><th>Runs</th><th>Wkts</th><th>Econ</th></tr><tr><td>str</td><td>str</td><td>i64</td><td>str</td><td>str</td><td>str</td><td>str</td><td>str</td></tr></thead><tbody><tr><td>&quot;A Ahmadhel (BUL)&quot;</td><td>&quot;2019/20&quot;</td><td>3</td><td>&quot;3&quot;</td><td>&quot;10.0&quot;</td><td>&quot;75&quot;</td><td>&quot;3&quot;</td><td>&quot;7.5&quot;</td></tr><tr><td>&quot;A Ahmadhel (BUL)&quot;</td><td>&quot;2020&quot;</td><td>1</td><td>&quot;1&quot;</td><td>&quot;2.0&quot;</td><td>&quot;22&quot;</td><td>&quot;1&quot;</td><td>&quot;11.00&quot;</td></tr><tr><td>&quot;A Ahmadhel (BUL)&quot;</td><td>&quot;2020/21&quot;</td><td>2</td><td>&quot;2&quot;</td><td>&quot;2.4&quot;</td><td>&quot;27&quot;</td><td>&quot;2&quot;</td><td>&quot;10.12&quot;</td></tr><tr><td>&quot;A Ahmadhel (BUL)&quot;</td><td>&quot;2021&quot;</td><td>3</td><td>&quot;2&quot;</td><td>&quot;3.0&quot;</td><td>&quot;31&quot;</td><td>&quot;0&quot;</td><td>&quot;10.33&quot;</td></tr><tr><td>&quot;A Ahmadhel (BUL)&quot;</td><td>&quot;2023&quot;</td><td>2</td><td>&quot;-&quot;</td><td>&quot;-&quot;</td><td>&quot;-&quot;</td><td>&quot;-&quot;</td><td>&quot;-&quot;</td></tr><tr><td>&hellip;</td><td>&hellip;</td><td>&hellip;</td><td>&hellip;</td><td>&hellip;</td><td>&hellip;</td><td>&hellip;</td><td>&hellip;</td></tr><tr><td>&quot;Zulqarnain Haider (ESP)&quot;</td><td>&quot;2019&quot;</td><td>4</td><td>&quot;4&quot;</td><td>&quot;10.0&quot;</td><td>&quot;53&quot;</td><td>&quot;3&quot;</td><td>&quot;5.30&quot;</td></tr><tr><td>&quot;Zulqarnain Haider (ESP)&quot;</td><td>&quot;2019/20&quot;</td><td>1</td><td>&quot;1&quot;</td><td>&quot;3.0&quot;</td><td>&quot;7&quot;</td><td>&quot;0&quot;</td><td>&quot;2.33&quot;</td></tr><tr><td>&quot;Zulqarnain Haider (ESP)&quot;</td><td>&quot;2022&quot;</td><td>6</td><td>&quot;6&quot;</td><td>&quot;15.0&quot;</td><td>&quot;91&quot;</td><td>&quot;5&quot;</td><td>&quot;6.06&quot;</td></tr><tr><td>&quot;Zulqarnain Haider (PAK)&quot;</td><td>&quot;2006/07&quot;</td><td>1</td><td>&quot;-&quot;</td><td>&quot;-&quot;</td><td>&quot;-&quot;</td><td>&quot;-&quot;</td><td>&quot;-&quot;</td></tr><tr><td>&quot;Zulqarnain Haider (PAK)&quot;</td><td>&quot;2010/11&quot;</td><td>2</td><td>&quot;-&quot;</td><td>&quot;-&quot;</td><td>&quot;-&quot;</td><td>&quot;-&quot;</td><td>&quot;-&quot;</td></tr></tbody></table></div>"
      ],
      "text/plain": [
       "shape: (14_082, 8)\n",
       "┌─────────────────────────┬─────────┬─────┬──────┬───────┬──────┬──────┬───────┐\n",
       "│ Player                  ┆ Season  ┆ Mat ┆ Inns ┆ Overs ┆ Runs ┆ Wkts ┆ Econ  │\n",
       "│ ---                     ┆ ---     ┆ --- ┆ ---  ┆ ---   ┆ ---  ┆ ---  ┆ ---   │\n",
       "│ str                     ┆ str     ┆ i64 ┆ str  ┆ str   ┆ str  ┆ str  ┆ str   │\n",
       "╞═════════════════════════╪═════════╪═════╪══════╪═══════╪══════╪══════╪═══════╡\n",
       "│ A Ahmadhel (BUL)        ┆ 2019/20 ┆ 3   ┆ 3    ┆ 10.0  ┆ 75   ┆ 3    ┆ 7.5   │\n",
       "│ A Ahmadhel (BUL)        ┆ 2020    ┆ 1   ┆ 1    ┆ 2.0   ┆ 22   ┆ 1    ┆ 11.00 │\n",
       "│ A Ahmadhel (BUL)        ┆ 2020/21 ┆ 2   ┆ 2    ┆ 2.4   ┆ 27   ┆ 2    ┆ 10.12 │\n",
       "│ A Ahmadhel (BUL)        ┆ 2021    ┆ 3   ┆ 2    ┆ 3.0   ┆ 31   ┆ 0    ┆ 10.33 │\n",
       "│ A Ahmadhel (BUL)        ┆ 2023    ┆ 2   ┆ -    ┆ -     ┆ -    ┆ -    ┆ -     │\n",
       "│ …                       ┆ …       ┆ …   ┆ …    ┆ …     ┆ …    ┆ …    ┆ …     │\n",
       "│ Zulqarnain Haider (ESP) ┆ 2019    ┆ 4   ┆ 4    ┆ 10.0  ┆ 53   ┆ 3    ┆ 5.30  │\n",
       "│ Zulqarnain Haider (ESP) ┆ 2019/20 ┆ 1   ┆ 1    ┆ 3.0   ┆ 7    ┆ 0    ┆ 2.33  │\n",
       "│ Zulqarnain Haider (ESP) ┆ 2022    ┆ 6   ┆ 6    ┆ 15.0  ┆ 91   ┆ 5    ┆ 6.06  │\n",
       "│ Zulqarnain Haider (PAK) ┆ 2006/07 ┆ 1   ┆ -    ┆ -     ┆ -    ┆ -    ┆ -     │\n",
       "│ Zulqarnain Haider (PAK) ┆ 2010/11 ┆ 2   ┆ -    ┆ -     ┆ -    ┆ -    ┆ -     │\n",
       "└─────────────────────────┴─────────┴─────┴──────┴───────┴──────┴──────┴───────┘"
      ]
     },
     "execution_count": 2,
     "metadata": {},
     "output_type": "execute_result"
    }
   ],
   "source": [
    "bowling_data = bowling_data.select([\"Player\",\"Season\",\"Mat\",\"Inns\",'Overs',\"Runs\",\"Wkts\",\"Econ\"]).sort([\"Player\",\"Season\"])\n",
    "bowling_data"
   ]
  },
  {
   "cell_type": "code",
   "execution_count": 3,
   "metadata": {},
   "outputs": [
    {
     "data": {
      "text/html": [
       "<div><style>\n",
       ".dataframe > thead > tr,\n",
       ".dataframe > tbody > tr {\n",
       "  text-align: right;\n",
       "  white-space: pre-wrap;\n",
       "}\n",
       "</style>\n",
       "<small>shape: (10, 8)</small><table border=\"1\" class=\"dataframe\"><thead><tr><th>Player</th><th>Season</th><th>Mat</th><th>Inns</th><th>Overs</th><th>Runs</th><th>Wkts</th><th>Econ</th></tr><tr><td>str</td><td>str</td><td>i64</td><td>f64</td><td>f64</td><td>f64</td><td>f64</td><td>f64</td></tr></thead><tbody><tr><td>&quot;A Ahmadhel (BUL)&quot;</td><td>&quot;2019/20&quot;</td><td>3</td><td>3.0</td><td>10.0</td><td>75.0</td><td>3.0</td><td>7.5</td></tr><tr><td>&quot;A Ahmadhel (BUL)&quot;</td><td>&quot;2020&quot;</td><td>1</td><td>1.0</td><td>2.0</td><td>22.0</td><td>1.0</td><td>11.0</td></tr><tr><td>&quot;A Ahmadhel (BUL)&quot;</td><td>&quot;2020/21&quot;</td><td>2</td><td>2.0</td><td>2.4</td><td>27.0</td><td>2.0</td><td>10.12</td></tr><tr><td>&quot;A Ahmadhel (BUL)&quot;</td><td>&quot;2021&quot;</td><td>3</td><td>2.0</td><td>3.0</td><td>31.0</td><td>0.0</td><td>10.33</td></tr><tr><td>&quot;A Ahmadhel (BUL)&quot;</td><td>&quot;2023&quot;</td><td>2</td><td>0.0</td><td>0.0</td><td>0.0</td><td>0.0</td><td>0.0</td></tr><tr><td>&quot;A Ahmadhel (BUL)&quot;</td><td>&quot;2024&quot;</td><td>1</td><td>0.0</td><td>0.0</td><td>0.0</td><td>0.0</td><td>0.0</td></tr><tr><td>&quot;A Alexander (INA)&quot;</td><td>&quot;2024/25&quot;</td><td>1</td><td>1.0</td><td>3.3</td><td>19.0</td><td>2.0</td><td>5.42</td></tr><tr><td>&quot;A Amado (ISR)&quot;</td><td>&quot;2022&quot;</td><td>3</td><td>3.0</td><td>6.0</td><td>58.0</td><td>3.0</td><td>9.66</td></tr><tr><td>&quot;A Andrews (SUI)&quot;</td><td>&quot;2021/22&quot;</td><td>3</td><td>3.0</td><td>10.0</td><td>61.0</td><td>4.0</td><td>6.1</td></tr><tr><td>&quot;A Andrews (SUI)&quot;</td><td>&quot;2022&quot;</td><td>4</td><td>1.0</td><td>1.0</td><td>21.0</td><td>0.0</td><td>21.0</td></tr></tbody></table></div>"
      ],
      "text/plain": [
       "shape: (10, 8)\n",
       "┌───────────────────┬─────────┬─────┬──────┬───────┬──────┬──────┬───────┐\n",
       "│ Player            ┆ Season  ┆ Mat ┆ Inns ┆ Overs ┆ Runs ┆ Wkts ┆ Econ  │\n",
       "│ ---               ┆ ---     ┆ --- ┆ ---  ┆ ---   ┆ ---  ┆ ---  ┆ ---   │\n",
       "│ str               ┆ str     ┆ i64 ┆ f64  ┆ f64   ┆ f64  ┆ f64  ┆ f64   │\n",
       "╞═══════════════════╪═════════╪═════╪══════╪═══════╪══════╪══════╪═══════╡\n",
       "│ A Ahmadhel (BUL)  ┆ 2019/20 ┆ 3   ┆ 3.0  ┆ 10.0  ┆ 75.0 ┆ 3.0  ┆ 7.5   │\n",
       "│ A Ahmadhel (BUL)  ┆ 2020    ┆ 1   ┆ 1.0  ┆ 2.0   ┆ 22.0 ┆ 1.0  ┆ 11.0  │\n",
       "│ A Ahmadhel (BUL)  ┆ 2020/21 ┆ 2   ┆ 2.0  ┆ 2.4   ┆ 27.0 ┆ 2.0  ┆ 10.12 │\n",
       "│ A Ahmadhel (BUL)  ┆ 2021    ┆ 3   ┆ 2.0  ┆ 3.0   ┆ 31.0 ┆ 0.0  ┆ 10.33 │\n",
       "│ A Ahmadhel (BUL)  ┆ 2023    ┆ 2   ┆ 0.0  ┆ 0.0   ┆ 0.0  ┆ 0.0  ┆ 0.0   │\n",
       "│ A Ahmadhel (BUL)  ┆ 2024    ┆ 1   ┆ 0.0  ┆ 0.0   ┆ 0.0  ┆ 0.0  ┆ 0.0   │\n",
       "│ A Alexander (INA) ┆ 2024/25 ┆ 1   ┆ 1.0  ┆ 3.3   ┆ 19.0 ┆ 2.0  ┆ 5.42  │\n",
       "│ A Amado (ISR)     ┆ 2022    ┆ 3   ┆ 3.0  ┆ 6.0   ┆ 58.0 ┆ 3.0  ┆ 9.66  │\n",
       "│ A Andrews (SUI)   ┆ 2021/22 ┆ 3   ┆ 3.0  ┆ 10.0  ┆ 61.0 ┆ 4.0  ┆ 6.1   │\n",
       "│ A Andrews (SUI)   ┆ 2022    ┆ 4   ┆ 1.0  ┆ 1.0   ┆ 21.0 ┆ 0.0  ┆ 21.0  │\n",
       "└───────────────────┴─────────┴─────┴──────┴───────┴──────┴──────┴───────┘"
      ]
     },
     "execution_count": 3,
     "metadata": {},
     "output_type": "execute_result"
    }
   ],
   "source": [
    "bowling_data = bowling_data.with_columns(pl.col(\"Overs\").str.replace(\"-\",pl.lit('0')).cast(pl.Float64))\n",
    "bowling_data = bowling_data.with_columns(pl.col(\"Wkts\").str.replace(\"-\",pl.lit('0')).cast(pl.Float64))\n",
    "bowling_data = bowling_data.with_columns(pl.col(\"Inns\").str.replace(\"-\",pl.lit('0')).cast(pl.Float64))\n",
    "bowling_data = bowling_data.with_columns(pl.col(\"Runs\").str.replace(\"-\",pl.lit('0')).cast(pl.Float64))\n",
    "bowling_data = bowling_data.with_columns(pl.col(\"Econ\").str.replace(\"-\",pl.col('Runs')/pl.col(\"Inns\")).cast(pl.Float64).fill_nan(0).round(2))\n",
    "bowling_data.head(10)"
   ]
  },
  {
   "cell_type": "code",
   "execution_count": 4,
   "metadata": {},
   "outputs": [
    {
     "data": {
      "text/html": [
       "<div><style>\n",
       ".dataframe > thead > tr,\n",
       ".dataframe > tbody > tr {\n",
       "  text-align: right;\n",
       "  white-space: pre-wrap;\n",
       "}\n",
       "</style>\n",
       "<small>shape: (14_082, 9)</small><table border=\"1\" class=\"dataframe\"><thead><tr><th>Player</th><th>Season</th><th>Mat</th><th>Inns</th><th>Overs</th><th>Runs</th><th>Wkts</th><th>Econ</th><th>Country</th></tr><tr><td>str</td><td>str</td><td>i64</td><td>f64</td><td>f64</td><td>f64</td><td>f64</td><td>f64</td><td>str</td></tr></thead><tbody><tr><td>&quot;A Ahmadhel&quot;</td><td>&quot;2019/20&quot;</td><td>3</td><td>3.0</td><td>10.0</td><td>75.0</td><td>3.0</td><td>7.5</td><td>&quot;BUL)&quot;</td></tr><tr><td>&quot;A Ahmadhel&quot;</td><td>&quot;2020&quot;</td><td>1</td><td>1.0</td><td>2.0</td><td>22.0</td><td>1.0</td><td>11.0</td><td>&quot;BUL)&quot;</td></tr><tr><td>&quot;A Ahmadhel&quot;</td><td>&quot;2020/21&quot;</td><td>2</td><td>2.0</td><td>2.4</td><td>27.0</td><td>2.0</td><td>10.12</td><td>&quot;BUL)&quot;</td></tr><tr><td>&quot;A Ahmadhel&quot;</td><td>&quot;2021&quot;</td><td>3</td><td>2.0</td><td>3.0</td><td>31.0</td><td>0.0</td><td>10.33</td><td>&quot;BUL)&quot;</td></tr><tr><td>&quot;A Ahmadhel&quot;</td><td>&quot;2023&quot;</td><td>2</td><td>0.0</td><td>0.0</td><td>0.0</td><td>0.0</td><td>0.0</td><td>&quot;BUL)&quot;</td></tr><tr><td>&hellip;</td><td>&hellip;</td><td>&hellip;</td><td>&hellip;</td><td>&hellip;</td><td>&hellip;</td><td>&hellip;</td><td>&hellip;</td><td>&hellip;</td></tr><tr><td>&quot;Zulqarnain Haider&quot;</td><td>&quot;2019&quot;</td><td>4</td><td>4.0</td><td>10.0</td><td>53.0</td><td>3.0</td><td>5.3</td><td>&quot;ESP)&quot;</td></tr><tr><td>&quot;Zulqarnain Haider&quot;</td><td>&quot;2019/20&quot;</td><td>1</td><td>1.0</td><td>3.0</td><td>7.0</td><td>0.0</td><td>2.33</td><td>&quot;ESP)&quot;</td></tr><tr><td>&quot;Zulqarnain Haider&quot;</td><td>&quot;2022&quot;</td><td>6</td><td>6.0</td><td>15.0</td><td>91.0</td><td>5.0</td><td>6.06</td><td>&quot;ESP)&quot;</td></tr><tr><td>&quot;Zulqarnain Haider&quot;</td><td>&quot;2006/07&quot;</td><td>1</td><td>0.0</td><td>0.0</td><td>0.0</td><td>0.0</td><td>0.0</td><td>&quot;PAK)&quot;</td></tr><tr><td>&quot;Zulqarnain Haider&quot;</td><td>&quot;2010/11&quot;</td><td>2</td><td>0.0</td><td>0.0</td><td>0.0</td><td>0.0</td><td>0.0</td><td>&quot;PAK)&quot;</td></tr></tbody></table></div>"
      ],
      "text/plain": [
       "shape: (14_082, 9)\n",
       "┌───────────────────┬─────────┬─────┬──────┬───┬──────┬──────┬───────┬─────────┐\n",
       "│ Player            ┆ Season  ┆ Mat ┆ Inns ┆ … ┆ Runs ┆ Wkts ┆ Econ  ┆ Country │\n",
       "│ ---               ┆ ---     ┆ --- ┆ ---  ┆   ┆ ---  ┆ ---  ┆ ---   ┆ ---     │\n",
       "│ str               ┆ str     ┆ i64 ┆ f64  ┆   ┆ f64  ┆ f64  ┆ f64   ┆ str     │\n",
       "╞═══════════════════╪═════════╪═════╪══════╪═══╪══════╪══════╪═══════╪═════════╡\n",
       "│ A Ahmadhel        ┆ 2019/20 ┆ 3   ┆ 3.0  ┆ … ┆ 75.0 ┆ 3.0  ┆ 7.5   ┆ BUL)    │\n",
       "│ A Ahmadhel        ┆ 2020    ┆ 1   ┆ 1.0  ┆ … ┆ 22.0 ┆ 1.0  ┆ 11.0  ┆ BUL)    │\n",
       "│ A Ahmadhel        ┆ 2020/21 ┆ 2   ┆ 2.0  ┆ … ┆ 27.0 ┆ 2.0  ┆ 10.12 ┆ BUL)    │\n",
       "│ A Ahmadhel        ┆ 2021    ┆ 3   ┆ 2.0  ┆ … ┆ 31.0 ┆ 0.0  ┆ 10.33 ┆ BUL)    │\n",
       "│ A Ahmadhel        ┆ 2023    ┆ 2   ┆ 0.0  ┆ … ┆ 0.0  ┆ 0.0  ┆ 0.0   ┆ BUL)    │\n",
       "│ …                 ┆ …       ┆ …   ┆ …    ┆ … ┆ …    ┆ …    ┆ …     ┆ …       │\n",
       "│ Zulqarnain Haider ┆ 2019    ┆ 4   ┆ 4.0  ┆ … ┆ 53.0 ┆ 3.0  ┆ 5.3   ┆ ESP)    │\n",
       "│ Zulqarnain Haider ┆ 2019/20 ┆ 1   ┆ 1.0  ┆ … ┆ 7.0  ┆ 0.0  ┆ 2.33  ┆ ESP)    │\n",
       "│ Zulqarnain Haider ┆ 2022    ┆ 6   ┆ 6.0  ┆ … ┆ 91.0 ┆ 5.0  ┆ 6.06  ┆ ESP)    │\n",
       "│ Zulqarnain Haider ┆ 2006/07 ┆ 1   ┆ 0.0  ┆ … ┆ 0.0  ┆ 0.0  ┆ 0.0   ┆ PAK)    │\n",
       "│ Zulqarnain Haider ┆ 2010/11 ┆ 2   ┆ 0.0  ┆ … ┆ 0.0  ┆ 0.0  ┆ 0.0   ┆ PAK)    │\n",
       "└───────────────────┴─────────┴─────┴──────┴───┴──────┴──────┴───────┴─────────┘"
      ]
     },
     "execution_count": 4,
     "metadata": {},
     "output_type": "execute_result"
    }
   ],
   "source": [
    "bowling_data = bowling_data.with_columns(bowling_data['Player'].str.split_exact(' (', n=1).struct.rename_fields(['Player', 'Country']).alias('Player').to_frame().unnest('Player'))\n",
    "bowling_data"
   ]
  },
  {
   "cell_type": "code",
   "execution_count": 5,
   "metadata": {},
   "outputs": [
    {
     "data": {
      "text/html": [
       "<div><style>\n",
       ".dataframe > thead > tr,\n",
       ".dataframe > tbody > tr {\n",
       "  text-align: right;\n",
       "  white-space: pre-wrap;\n",
       "}\n",
       "</style>\n",
       "<small>shape: (14_082, 9)</small><table border=\"1\" class=\"dataframe\"><thead><tr><th>Player</th><th>Season</th><th>Mat</th><th>Inns</th><th>Overs</th><th>Runs</th><th>Wkts</th><th>Econ</th><th>Country</th></tr><tr><td>str</td><td>str</td><td>i64</td><td>f64</td><td>f64</td><td>f64</td><td>f64</td><td>f64</td><td>str</td></tr></thead><tbody><tr><td>&quot;A Ahmadhel&quot;</td><td>&quot;2019/20&quot;</td><td>3</td><td>3.0</td><td>10.0</td><td>75.0</td><td>3.0</td><td>7.5</td><td>&quot;BUL&quot;</td></tr><tr><td>&quot;A Ahmadhel&quot;</td><td>&quot;2020&quot;</td><td>1</td><td>1.0</td><td>2.0</td><td>22.0</td><td>1.0</td><td>11.0</td><td>&quot;BUL&quot;</td></tr><tr><td>&quot;A Ahmadhel&quot;</td><td>&quot;2020/21&quot;</td><td>2</td><td>2.0</td><td>2.4</td><td>27.0</td><td>2.0</td><td>10.12</td><td>&quot;BUL&quot;</td></tr><tr><td>&quot;A Ahmadhel&quot;</td><td>&quot;2021&quot;</td><td>3</td><td>2.0</td><td>3.0</td><td>31.0</td><td>0.0</td><td>10.33</td><td>&quot;BUL&quot;</td></tr><tr><td>&quot;A Ahmadhel&quot;</td><td>&quot;2023&quot;</td><td>2</td><td>0.0</td><td>0.0</td><td>0.0</td><td>0.0</td><td>0.0</td><td>&quot;BUL&quot;</td></tr><tr><td>&hellip;</td><td>&hellip;</td><td>&hellip;</td><td>&hellip;</td><td>&hellip;</td><td>&hellip;</td><td>&hellip;</td><td>&hellip;</td><td>&hellip;</td></tr><tr><td>&quot;Zulqarnain Haider&quot;</td><td>&quot;2019&quot;</td><td>4</td><td>4.0</td><td>10.0</td><td>53.0</td><td>3.0</td><td>5.3</td><td>&quot;ESP&quot;</td></tr><tr><td>&quot;Zulqarnain Haider&quot;</td><td>&quot;2019/20&quot;</td><td>1</td><td>1.0</td><td>3.0</td><td>7.0</td><td>0.0</td><td>2.33</td><td>&quot;ESP&quot;</td></tr><tr><td>&quot;Zulqarnain Haider&quot;</td><td>&quot;2022&quot;</td><td>6</td><td>6.0</td><td>15.0</td><td>91.0</td><td>5.0</td><td>6.06</td><td>&quot;ESP&quot;</td></tr><tr><td>&quot;Zulqarnain Haider&quot;</td><td>&quot;2006/07&quot;</td><td>1</td><td>0.0</td><td>0.0</td><td>0.0</td><td>0.0</td><td>0.0</td><td>&quot;PAK&quot;</td></tr><tr><td>&quot;Zulqarnain Haider&quot;</td><td>&quot;2010/11&quot;</td><td>2</td><td>0.0</td><td>0.0</td><td>0.0</td><td>0.0</td><td>0.0</td><td>&quot;PAK&quot;</td></tr></tbody></table></div>"
      ],
      "text/plain": [
       "shape: (14_082, 9)\n",
       "┌───────────────────┬─────────┬─────┬──────┬───┬──────┬──────┬───────┬─────────┐\n",
       "│ Player            ┆ Season  ┆ Mat ┆ Inns ┆ … ┆ Runs ┆ Wkts ┆ Econ  ┆ Country │\n",
       "│ ---               ┆ ---     ┆ --- ┆ ---  ┆   ┆ ---  ┆ ---  ┆ ---   ┆ ---     │\n",
       "│ str               ┆ str     ┆ i64 ┆ f64  ┆   ┆ f64  ┆ f64  ┆ f64   ┆ str     │\n",
       "╞═══════════════════╪═════════╪═════╪══════╪═══╪══════╪══════╪═══════╪═════════╡\n",
       "│ A Ahmadhel        ┆ 2019/20 ┆ 3   ┆ 3.0  ┆ … ┆ 75.0 ┆ 3.0  ┆ 7.5   ┆ BUL     │\n",
       "│ A Ahmadhel        ┆ 2020    ┆ 1   ┆ 1.0  ┆ … ┆ 22.0 ┆ 1.0  ┆ 11.0  ┆ BUL     │\n",
       "│ A Ahmadhel        ┆ 2020/21 ┆ 2   ┆ 2.0  ┆ … ┆ 27.0 ┆ 2.0  ┆ 10.12 ┆ BUL     │\n",
       "│ A Ahmadhel        ┆ 2021    ┆ 3   ┆ 2.0  ┆ … ┆ 31.0 ┆ 0.0  ┆ 10.33 ┆ BUL     │\n",
       "│ A Ahmadhel        ┆ 2023    ┆ 2   ┆ 0.0  ┆ … ┆ 0.0  ┆ 0.0  ┆ 0.0   ┆ BUL     │\n",
       "│ …                 ┆ …       ┆ …   ┆ …    ┆ … ┆ …    ┆ …    ┆ …     ┆ …       │\n",
       "│ Zulqarnain Haider ┆ 2019    ┆ 4   ┆ 4.0  ┆ … ┆ 53.0 ┆ 3.0  ┆ 5.3   ┆ ESP     │\n",
       "│ Zulqarnain Haider ┆ 2019/20 ┆ 1   ┆ 1.0  ┆ … ┆ 7.0  ┆ 0.0  ┆ 2.33  ┆ ESP     │\n",
       "│ Zulqarnain Haider ┆ 2022    ┆ 6   ┆ 6.0  ┆ … ┆ 91.0 ┆ 5.0  ┆ 6.06  ┆ ESP     │\n",
       "│ Zulqarnain Haider ┆ 2006/07 ┆ 1   ┆ 0.0  ┆ … ┆ 0.0  ┆ 0.0  ┆ 0.0   ┆ PAK     │\n",
       "│ Zulqarnain Haider ┆ 2010/11 ┆ 2   ┆ 0.0  ┆ … ┆ 0.0  ┆ 0.0  ┆ 0.0   ┆ PAK     │\n",
       "└───────────────────┴─────────┴─────┴──────┴───┴──────┴──────┴───────┴─────────┘"
      ]
     },
     "execution_count": 5,
     "metadata": {},
     "output_type": "execute_result"
    }
   ],
   "source": [
    "bowling_data = bowling_data.with_columns(bowling_data['Country'].str.replace(r'\\)', ''))\n",
    "bowling_data"
   ]
  },
  {
   "cell_type": "code",
   "execution_count": 6,
   "metadata": {},
   "outputs": [
    {
     "data": {
      "text/html": [
       "<div><style>\n",
       ".dataframe > thead > tr,\n",
       ".dataframe > tbody > tr {\n",
       "  text-align: right;\n",
       "  white-space: pre-wrap;\n",
       "}\n",
       "</style>\n",
       "<small>shape: (14_082, 14)</small><table border=\"1\" class=\"dataframe\"><thead><tr><th>Player</th><th>Season</th><th>Mat</th><th>Inns</th><th>Overs</th><th>Runs</th><th>Wkts</th><th>Econ</th><th>Country</th><th>Cumulative Overs</th><th>Cumulative Wkts</th><th>Cumulative Runs</th><th>Cumulative Inns</th><th>Cumulative Econ</th></tr><tr><td>str</td><td>str</td><td>i64</td><td>f64</td><td>f64</td><td>f64</td><td>f64</td><td>f64</td><td>str</td><td>f64</td><td>f64</td><td>f64</td><td>f64</td><td>f64</td></tr></thead><tbody><tr><td>&quot;A Ahmadhel&quot;</td><td>&quot;2019/20&quot;</td><td>3</td><td>3.0</td><td>10.0</td><td>75.0</td><td>3.0</td><td>7.5</td><td>&quot;BUL&quot;</td><td>10.0</td><td>3.0</td><td>75.0</td><td>3.0</td><td>25.0</td></tr><tr><td>&quot;A Ahmadhel&quot;</td><td>&quot;2020&quot;</td><td>1</td><td>1.0</td><td>2.0</td><td>22.0</td><td>1.0</td><td>11.0</td><td>&quot;BUL&quot;</td><td>12.0</td><td>4.0</td><td>97.0</td><td>4.0</td><td>24.25</td></tr><tr><td>&quot;A Ahmadhel&quot;</td><td>&quot;2020/21&quot;</td><td>2</td><td>2.0</td><td>2.4</td><td>27.0</td><td>2.0</td><td>10.12</td><td>&quot;BUL&quot;</td><td>14.4</td><td>6.0</td><td>124.0</td><td>6.0</td><td>20.666667</td></tr><tr><td>&quot;A Ahmadhel&quot;</td><td>&quot;2021&quot;</td><td>3</td><td>2.0</td><td>3.0</td><td>31.0</td><td>0.0</td><td>10.33</td><td>&quot;BUL&quot;</td><td>17.4</td><td>6.0</td><td>155.0</td><td>8.0</td><td>19.375</td></tr><tr><td>&quot;A Ahmadhel&quot;</td><td>&quot;2023&quot;</td><td>2</td><td>0.0</td><td>0.0</td><td>0.0</td><td>0.0</td><td>0.0</td><td>&quot;BUL&quot;</td><td>17.4</td><td>6.0</td><td>155.0</td><td>8.0</td><td>19.375</td></tr><tr><td>&hellip;</td><td>&hellip;</td><td>&hellip;</td><td>&hellip;</td><td>&hellip;</td><td>&hellip;</td><td>&hellip;</td><td>&hellip;</td><td>&hellip;</td><td>&hellip;</td><td>&hellip;</td><td>&hellip;</td><td>&hellip;</td><td>&hellip;</td></tr><tr><td>&quot;Zulqarnain Haider&quot;</td><td>&quot;2019&quot;</td><td>4</td><td>4.0</td><td>10.0</td><td>53.0</td><td>3.0</td><td>5.3</td><td>&quot;ESP&quot;</td><td>10.0</td><td>3.0</td><td>53.0</td><td>4.0</td><td>13.25</td></tr><tr><td>&quot;Zulqarnain Haider&quot;</td><td>&quot;2019/20&quot;</td><td>1</td><td>1.0</td><td>3.0</td><td>7.0</td><td>0.0</td><td>2.33</td><td>&quot;ESP&quot;</td><td>13.0</td><td>3.0</td><td>60.0</td><td>5.0</td><td>12.0</td></tr><tr><td>&quot;Zulqarnain Haider&quot;</td><td>&quot;2022&quot;</td><td>6</td><td>6.0</td><td>15.0</td><td>91.0</td><td>5.0</td><td>6.06</td><td>&quot;ESP&quot;</td><td>28.0</td><td>8.0</td><td>151.0</td><td>11.0</td><td>13.727273</td></tr><tr><td>&quot;Zulqarnain Haider&quot;</td><td>&quot;2006/07&quot;</td><td>1</td><td>0.0</td><td>0.0</td><td>0.0</td><td>0.0</td><td>0.0</td><td>&quot;PAK&quot;</td><td>0.0</td><td>0.0</td><td>0.0</td><td>0.0</td><td>0.0</td></tr><tr><td>&quot;Zulqarnain Haider&quot;</td><td>&quot;2010/11&quot;</td><td>2</td><td>0.0</td><td>0.0</td><td>0.0</td><td>0.0</td><td>0.0</td><td>&quot;PAK&quot;</td><td>0.0</td><td>0.0</td><td>0.0</td><td>0.0</td><td>0.0</td></tr></tbody></table></div>"
      ],
      "text/plain": [
       "shape: (14_082, 14)\n",
       "┌──────────────┬─────────┬─────┬──────┬───┬──────────────┬─────────────┬─────────────┬─────────────┐\n",
       "│ Player       ┆ Season  ┆ Mat ┆ Inns ┆ … ┆ Cumulative   ┆ Cumulative  ┆ Cumulative  ┆ Cumulative  │\n",
       "│ ---          ┆ ---     ┆ --- ┆ ---  ┆   ┆ Wkts         ┆ Runs        ┆ Inns        ┆ Econ        │\n",
       "│ str          ┆ str     ┆ i64 ┆ f64  ┆   ┆ ---          ┆ ---         ┆ ---         ┆ ---         │\n",
       "│              ┆         ┆     ┆      ┆   ┆ f64          ┆ f64         ┆ f64         ┆ f64         │\n",
       "╞══════════════╪═════════╪═════╪══════╪═══╪══════════════╪═════════════╪═════════════╪═════════════╡\n",
       "│ A Ahmadhel   ┆ 2019/20 ┆ 3   ┆ 3.0  ┆ … ┆ 3.0          ┆ 75.0        ┆ 3.0         ┆ 25.0        │\n",
       "│ A Ahmadhel   ┆ 2020    ┆ 1   ┆ 1.0  ┆ … ┆ 4.0          ┆ 97.0        ┆ 4.0         ┆ 24.25       │\n",
       "│ A Ahmadhel   ┆ 2020/21 ┆ 2   ┆ 2.0  ┆ … ┆ 6.0          ┆ 124.0       ┆ 6.0         ┆ 20.666667   │\n",
       "│ A Ahmadhel   ┆ 2021    ┆ 3   ┆ 2.0  ┆ … ┆ 6.0          ┆ 155.0       ┆ 8.0         ┆ 19.375      │\n",
       "│ A Ahmadhel   ┆ 2023    ┆ 2   ┆ 0.0  ┆ … ┆ 6.0          ┆ 155.0       ┆ 8.0         ┆ 19.375      │\n",
       "│ …            ┆ …       ┆ …   ┆ …    ┆ … ┆ …            ┆ …           ┆ …           ┆ …           │\n",
       "│ Zulqarnain   ┆ 2019    ┆ 4   ┆ 4.0  ┆ … ┆ 3.0          ┆ 53.0        ┆ 4.0         ┆ 13.25       │\n",
       "│ Haider       ┆         ┆     ┆      ┆   ┆              ┆             ┆             ┆             │\n",
       "│ Zulqarnain   ┆ 2019/20 ┆ 1   ┆ 1.0  ┆ … ┆ 3.0          ┆ 60.0        ┆ 5.0         ┆ 12.0        │\n",
       "│ Haider       ┆         ┆     ┆      ┆   ┆              ┆             ┆             ┆             │\n",
       "│ Zulqarnain   ┆ 2022    ┆ 6   ┆ 6.0  ┆ … ┆ 8.0          ┆ 151.0       ┆ 11.0        ┆ 13.727273   │\n",
       "│ Haider       ┆         ┆     ┆      ┆   ┆              ┆             ┆             ┆             │\n",
       "│ Zulqarnain   ┆ 2006/07 ┆ 1   ┆ 0.0  ┆ … ┆ 0.0          ┆ 0.0         ┆ 0.0         ┆ 0.0         │\n",
       "│ Haider       ┆         ┆     ┆      ┆   ┆              ┆             ┆             ┆             │\n",
       "│ Zulqarnain   ┆ 2010/11 ┆ 2   ┆ 0.0  ┆ … ┆ 0.0          ┆ 0.0         ┆ 0.0         ┆ 0.0         │\n",
       "│ Haider       ┆         ┆     ┆      ┆   ┆              ┆             ┆             ┆             │\n",
       "└──────────────┴─────────┴─────┴──────┴───┴──────────────┴─────────────┴─────────────┴─────────────┘"
      ]
     },
     "execution_count": 6,
     "metadata": {},
     "output_type": "execute_result"
    }
   ],
   "source": [
    "bowling_data = bowling_data.with_columns(\n",
    "    pl.col(\"Overs\").cum_sum().over([\"Player\", \"Country\"]).alias(\"Cumulative Overs\"),\n",
    "    pl.col(\"Wkts\").cum_sum().over([\"Player\", \"Country\"]).alias(\"Cumulative Wkts\"),\n",
    "    pl.col(\"Runs\").cum_sum().over([\"Player\", \"Country\"]).alias(\"Cumulative Runs\"),\n",
    "    pl.col(\"Inns\").cum_sum().over([\"Player\", \"Country\"]).alias(\"Cumulative Inns\"),\n",
    "    pl.when(pl.col(\"Inns\").cum_sum().over([\"Player\", \"Country\"]) != 0)\n",
    "      .then(pl.col(\"Runs\").cum_sum().over([\"Player\", \"Country\"]) / pl.col(\"Inns\").cum_sum().over([\"Player\", \"Country\"]))\n",
    "      .otherwise(0)  # or 0 if preferred\n",
    "      .alias(\"Cumulative Econ\")\n",
    ")\n",
    "bowling_data"
   ]
  },
  {
   "cell_type": "code",
   "execution_count": 7,
   "metadata": {},
   "outputs": [
    {
     "data": {
      "text/plain": [
       "(103, 11, 5, 103)"
      ]
     },
     "execution_count": 7,
     "metadata": {},
     "output_type": "execute_result"
    }
   ],
   "source": [
    "country_codes = {\n",
    "    'LES': 'Lesotho',\n",
    "    'BUL': 'Bulgaria',\n",
    "    'VAN': 'Vanuatu',\n",
    "    'ROM': 'Romania',\n",
    "    'Aut': 'Austria',\n",
    "    'COK': 'Cook Islands',\n",
    "    'Fran': 'France',\n",
    "    'SRB': 'Serbia',\n",
    "    'PAK': 'Pakistan',\n",
    "    'HUN': 'Hungary',\n",
    "    'CYP': 'Cyprus',\n",
    "    'Fiji': 'Fiji',\n",
    "    'FIN': 'Finland',\n",
    "    'EST': 'Estonia',\n",
    "    'CHN': 'China',\n",
    "    'GRC': 'Greece',\n",
    "    'CAM': 'Cambodia',\n",
    "    'GUE': 'Guernsey',\n",
    "    'SEY': 'Seychelles',\n",
    "    'JPN': 'Japan',\n",
    "    'TAN': 'Tanzania',\n",
    "    'JER': 'Jersey',\n",
    "    'QAT': 'Qatar',\n",
    "    'ENG': 'England',\n",
    "    'UGA': 'Uganda',\n",
    "    'BER': 'Bermuda',\n",
    "    'CZK-R': 'Czech Republic',\n",
    "    'CAY': 'Cayman Islands',\n",
    "    'IRE': 'Ireland',\n",
    "    'Mali': 'Mali',\n",
    "    'BRA': 'Brazil',\n",
    "    'SUI': 'Switzerland',\n",
    "    'Peru': 'Peru',\n",
    "    'Mex': 'Mexico',\n",
    "    'MOZ': 'Mozambique',\n",
    "    'Samoa': 'Samoa',\n",
    "    'HKG': 'Hong Kong',\n",
    "    'BAN': 'Bangladesh',\n",
    "    'SL': 'Sri Lanka',\n",
    "    'PNG': 'Papua New Guinea',\n",
    "    'ZIM': 'Zimbabwe',\n",
    "    'GHA': 'Ghana',\n",
    "    'SWZ': 'Eswatini',  # Swaziland's official name now is Eswatini\n",
    "    'MYAN': 'Myanmar',\n",
    "    'IND': 'India',\n",
    "    'USA': 'United States of America',\n",
    "    'NEP': 'Nepal',\n",
    "    'AFG': 'Afghanistan',\n",
    "    'PAN': 'Panama',\n",
    "    'NGA': 'Nigeria',\n",
    "    'SLE': 'Sierra Leone',\n",
    "    'ESP': 'Spain',\n",
    "    'Bhm': 'Bahamas',\n",
    "    'TKY': 'Turkey',\n",
    "    'MWI': 'Malawi',\n",
    "    'WI': 'West Indies',\n",
    "    'IOM': 'Isle of Man',\n",
    "    'THA': 'Thailand',\n",
    "    'SWA': 'Eswatini',  # another code for Eswatini\n",
    "    'SKOR': 'South Korea',\n",
    "    'GMB': 'Gambia',\n",
    "    'ISR': 'Israel',\n",
    "    'KUW': 'Kuwait',\n",
    "    'Belg': 'Belgium',\n",
    "    'GER': 'Germany',\n",
    "    'ITA': 'Italy',\n",
    "    'CAN': 'Canada',\n",
    "    'MDV': 'Maldives',\n",
    "    'Blz': 'Belize',\n",
    "    'DEN': 'Denmark',\n",
    "    'INA': 'Indonesia',\n",
    "    'KENYA': 'Kenya',\n",
    "    'LUX': 'Luxembourg',\n",
    "    'STHEL': 'Saint Helena',\n",
    "    'BHR': 'Bahrain',\n",
    "    'KSA': 'Saudi Arabia',\n",
    "    'MLT': 'Malta',\n",
    "    'Arg': 'Argentina',\n",
    "    'MNG': 'Mongolia',\n",
    "    'AUS': 'Australia',\n",
    "    'GIBR': 'Gibraltar',\n",
    "    'SGP': 'Singapore',\n",
    "    'Chile': 'Chile',\n",
    "    'UAE': 'United Arab Emirates',\n",
    "    'NZ': 'New Zealand',\n",
    "    'SCOT': 'Scotland',\n",
    "    'BHU': 'Bhutan',\n",
    "    'MAS': 'Malaysia',\n",
    "    'BOT': 'Botswana',\n",
    "    'CRC': 'Costa Rica',\n",
    "    'PHI': 'Philippines',\n",
    "    'NAM': 'Namibia',\n",
    "    'RWN': 'Rwanda',\n",
    "    'OMA': 'Oman',\n",
    "    'NOR': 'Norway',\n",
    "    'CRT': 'Croatia',\n",
    "    'SWE': 'Sweden',\n",
    "    'Iran': 'Iran',\n",
    "    'PORT': 'Portugal',\n",
    "    'NED': 'Netherlands',\n",
    "    'SA': 'South Africa',\n",
    "    'SVN': 'Slovenia',\n",
    "    'GUE': 'Guernsey',\n",
    "    'MDV': 'Maldives',\n",
    "    'BHM': 'Bahamas',\n",
    "    'SWE': 'Sweden',\n",
    "    'MLT': 'Malta',\n",
    "    'ITA': 'Italy',\n",
    "}\n",
    "\n",
    "# ICC and World teams\n",
    "icc_world = {\n",
    "    'ICC/PAK': 'Pakistan',\n",
    "    'ICC/SL': 'Sri Lanka',\n",
    "    'ICC/IND': 'India',\n",
    "    'ICC/NEP': 'Nepal',\n",
    "    'BAN/ICC': 'Bangladesh',\n",
    "    'AFG/ICC': 'Afghanistan',\n",
    "    'SL/World': 'Sri Lanka',\n",
    "    'SA/World': 'South Africa',\n",
    "    'AUS/World': 'Australia',\n",
    "    'BAN/World': 'Bangladesh',\n",
    "    'WI/World': 'West Indies',\n",
    "}\n",
    "\n",
    "# Outlier/Miscellaneous Countries\n",
    "outlier_countries = {\n",
    "    '1': 'Miscellaneous Country 1',\n",
    "    '2': 'Miscellaneous Country 2',\n",
    "    '3': 'Miscellaneous Country 3',\n",
    "    'ICC': 'International Cricket Council',\n",
    "    'World': 'World XI',\n",
    "}\n",
    "\n",
    "# Filtered country codes excluding ICC, World teams, and miscellaneous\n",
    "filtered_countries = {\n",
    "    code: country\n",
    "    for code, country in country_codes.items()\n",
    "    if code not in icc_world and code not in outlier_countries\n",
    "}\n",
    "len(country_codes), len(icc_world), len(outlier_countries), len(filtered_countries)"
   ]
  },
  {
   "cell_type": "code",
   "execution_count": 8,
   "metadata": {},
   "outputs": [
    {
     "data": {
      "text/html": [
       "<div><style>\n",
       ".dataframe > thead > tr,\n",
       ".dataframe > tbody > tr {\n",
       "  text-align: right;\n",
       "  white-space: pre-wrap;\n",
       "}\n",
       "</style>\n",
       "<small>shape: (14_035, 14)</small><table border=\"1\" class=\"dataframe\"><thead><tr><th>Player</th><th>Season</th><th>Mat</th><th>Inns</th><th>Overs</th><th>Runs</th><th>Wkts</th><th>Econ</th><th>Country</th><th>Cumulative Overs</th><th>Cumulative Wkts</th><th>Cumulative Runs</th><th>Cumulative Inns</th><th>Cumulative Econ</th></tr><tr><td>str</td><td>str</td><td>i64</td><td>f64</td><td>f64</td><td>f64</td><td>f64</td><td>f64</td><td>str</td><td>f64</td><td>f64</td><td>f64</td><td>f64</td><td>f64</td></tr></thead><tbody><tr><td>&quot;A Ahmadhel&quot;</td><td>&quot;2019/20&quot;</td><td>3</td><td>3.0</td><td>10.0</td><td>75.0</td><td>3.0</td><td>7.5</td><td>&quot;BUL&quot;</td><td>10.0</td><td>3.0</td><td>75.0</td><td>3.0</td><td>25.0</td></tr><tr><td>&quot;A Ahmadhel&quot;</td><td>&quot;2020&quot;</td><td>1</td><td>1.0</td><td>2.0</td><td>22.0</td><td>1.0</td><td>11.0</td><td>&quot;BUL&quot;</td><td>12.0</td><td>4.0</td><td>97.0</td><td>4.0</td><td>24.25</td></tr><tr><td>&quot;A Ahmadhel&quot;</td><td>&quot;2020/21&quot;</td><td>2</td><td>2.0</td><td>2.4</td><td>27.0</td><td>2.0</td><td>10.12</td><td>&quot;BUL&quot;</td><td>14.4</td><td>6.0</td><td>124.0</td><td>6.0</td><td>20.666667</td></tr><tr><td>&quot;A Ahmadhel&quot;</td><td>&quot;2021&quot;</td><td>3</td><td>2.0</td><td>3.0</td><td>31.0</td><td>0.0</td><td>10.33</td><td>&quot;BUL&quot;</td><td>17.4</td><td>6.0</td><td>155.0</td><td>8.0</td><td>19.375</td></tr><tr><td>&quot;A Ahmadhel&quot;</td><td>&quot;2023&quot;</td><td>2</td><td>0.0</td><td>0.0</td><td>0.0</td><td>0.0</td><td>0.0</td><td>&quot;BUL&quot;</td><td>17.4</td><td>6.0</td><td>155.0</td><td>8.0</td><td>19.375</td></tr><tr><td>&hellip;</td><td>&hellip;</td><td>&hellip;</td><td>&hellip;</td><td>&hellip;</td><td>&hellip;</td><td>&hellip;</td><td>&hellip;</td><td>&hellip;</td><td>&hellip;</td><td>&hellip;</td><td>&hellip;</td><td>&hellip;</td><td>&hellip;</td></tr><tr><td>&quot;Zulqarnain Haider&quot;</td><td>&quot;2019&quot;</td><td>4</td><td>4.0</td><td>10.0</td><td>53.0</td><td>3.0</td><td>5.3</td><td>&quot;ESP&quot;</td><td>10.0</td><td>3.0</td><td>53.0</td><td>4.0</td><td>13.25</td></tr><tr><td>&quot;Zulqarnain Haider&quot;</td><td>&quot;2019/20&quot;</td><td>1</td><td>1.0</td><td>3.0</td><td>7.0</td><td>0.0</td><td>2.33</td><td>&quot;ESP&quot;</td><td>13.0</td><td>3.0</td><td>60.0</td><td>5.0</td><td>12.0</td></tr><tr><td>&quot;Zulqarnain Haider&quot;</td><td>&quot;2022&quot;</td><td>6</td><td>6.0</td><td>15.0</td><td>91.0</td><td>5.0</td><td>6.06</td><td>&quot;ESP&quot;</td><td>28.0</td><td>8.0</td><td>151.0</td><td>11.0</td><td>13.727273</td></tr><tr><td>&quot;Zulqarnain Haider&quot;</td><td>&quot;2006/07&quot;</td><td>1</td><td>0.0</td><td>0.0</td><td>0.0</td><td>0.0</td><td>0.0</td><td>&quot;PAK&quot;</td><td>0.0</td><td>0.0</td><td>0.0</td><td>0.0</td><td>0.0</td></tr><tr><td>&quot;Zulqarnain Haider&quot;</td><td>&quot;2010/11&quot;</td><td>2</td><td>0.0</td><td>0.0</td><td>0.0</td><td>0.0</td><td>0.0</td><td>&quot;PAK&quot;</td><td>0.0</td><td>0.0</td><td>0.0</td><td>0.0</td><td>0.0</td></tr></tbody></table></div>"
      ],
      "text/plain": [
       "shape: (14_035, 14)\n",
       "┌──────────────┬─────────┬─────┬──────┬───┬──────────────┬─────────────┬─────────────┬─────────────┐\n",
       "│ Player       ┆ Season  ┆ Mat ┆ Inns ┆ … ┆ Cumulative   ┆ Cumulative  ┆ Cumulative  ┆ Cumulative  │\n",
       "│ ---          ┆ ---     ┆ --- ┆ ---  ┆   ┆ Wkts         ┆ Runs        ┆ Inns        ┆ Econ        │\n",
       "│ str          ┆ str     ┆ i64 ┆ f64  ┆   ┆ ---          ┆ ---         ┆ ---         ┆ ---         │\n",
       "│              ┆         ┆     ┆      ┆   ┆ f64          ┆ f64         ┆ f64         ┆ f64         │\n",
       "╞══════════════╪═════════╪═════╪══════╪═══╪══════════════╪═════════════╪═════════════╪═════════════╡\n",
       "│ A Ahmadhel   ┆ 2019/20 ┆ 3   ┆ 3.0  ┆ … ┆ 3.0          ┆ 75.0        ┆ 3.0         ┆ 25.0        │\n",
       "│ A Ahmadhel   ┆ 2020    ┆ 1   ┆ 1.0  ┆ … ┆ 4.0          ┆ 97.0        ┆ 4.0         ┆ 24.25       │\n",
       "│ A Ahmadhel   ┆ 2020/21 ┆ 2   ┆ 2.0  ┆ … ┆ 6.0          ┆ 124.0       ┆ 6.0         ┆ 20.666667   │\n",
       "│ A Ahmadhel   ┆ 2021    ┆ 3   ┆ 2.0  ┆ … ┆ 6.0          ┆ 155.0       ┆ 8.0         ┆ 19.375      │\n",
       "│ A Ahmadhel   ┆ 2023    ┆ 2   ┆ 0.0  ┆ … ┆ 6.0          ┆ 155.0       ┆ 8.0         ┆ 19.375      │\n",
       "│ …            ┆ …       ┆ …   ┆ …    ┆ … ┆ …            ┆ …           ┆ …           ┆ …           │\n",
       "│ Zulqarnain   ┆ 2019    ┆ 4   ┆ 4.0  ┆ … ┆ 3.0          ┆ 53.0        ┆ 4.0         ┆ 13.25       │\n",
       "│ Haider       ┆         ┆     ┆      ┆   ┆              ┆             ┆             ┆             │\n",
       "│ Zulqarnain   ┆ 2019/20 ┆ 1   ┆ 1.0  ┆ … ┆ 3.0          ┆ 60.0        ┆ 5.0         ┆ 12.0        │\n",
       "│ Haider       ┆         ┆     ┆      ┆   ┆              ┆             ┆             ┆             │\n",
       "│ Zulqarnain   ┆ 2022    ┆ 6   ┆ 6.0  ┆ … ┆ 8.0          ┆ 151.0       ┆ 11.0        ┆ 13.727273   │\n",
       "│ Haider       ┆         ┆     ┆      ┆   ┆              ┆             ┆             ┆             │\n",
       "│ Zulqarnain   ┆ 2006/07 ┆ 1   ┆ 0.0  ┆ … ┆ 0.0          ┆ 0.0         ┆ 0.0         ┆ 0.0         │\n",
       "│ Haider       ┆         ┆     ┆      ┆   ┆              ┆             ┆             ┆             │\n",
       "│ Zulqarnain   ┆ 2010/11 ┆ 2   ┆ 0.0  ┆ … ┆ 0.0          ┆ 0.0         ┆ 0.0         ┆ 0.0         │\n",
       "│ Haider       ┆         ┆     ┆      ┆   ┆              ┆             ┆             ┆             │\n",
       "└──────────────┴─────────┴─────┴──────┴───┴──────────────┴─────────────┴─────────────┴─────────────┘"
      ]
     },
     "execution_count": 8,
     "metadata": {},
     "output_type": "execute_result"
    }
   ],
   "source": [
    "bowling_data = bowling_data.filter(pl.col(\"Country\").is_in(list(filtered_countries.keys())))\n",
    "bowling_data"
   ]
  },
  {
   "cell_type": "code",
   "execution_count": 9,
   "metadata": {},
   "outputs": [
    {
     "data": {
      "text/html": [
       "<div><style>\n",
       ".dataframe > thead > tr,\n",
       ".dataframe > tbody > tr {\n",
       "  text-align: right;\n",
       "  white-space: pre-wrap;\n",
       "}\n",
       "</style>\n",
       "<small>shape: (14_035, 14)</small><table border=\"1\" class=\"dataframe\"><thead><tr><th>Player</th><th>Season</th><th>Mat</th><th>Inns</th><th>Overs</th><th>Runs</th><th>Wkts</th><th>Econ</th><th>Country</th><th>Cumulative Overs</th><th>Cumulative Wkts</th><th>Cumulative Runs</th><th>Cumulative Inns</th><th>Cumulative Econ</th></tr><tr><td>str</td><td>str</td><td>i64</td><td>f64</td><td>f64</td><td>f64</td><td>f64</td><td>f64</td><td>str</td><td>f64</td><td>f64</td><td>f64</td><td>f64</td><td>f64</td></tr></thead><tbody><tr><td>&quot;A Ahmadhel&quot;</td><td>&quot;2019/20&quot;</td><td>3</td><td>3.0</td><td>10.0</td><td>75.0</td><td>3.0</td><td>7.5</td><td>&quot;Bulgaria&quot;</td><td>10.0</td><td>3.0</td><td>75.0</td><td>3.0</td><td>25.0</td></tr><tr><td>&quot;A Ahmadhel&quot;</td><td>&quot;2020&quot;</td><td>1</td><td>1.0</td><td>2.0</td><td>22.0</td><td>1.0</td><td>11.0</td><td>&quot;Bulgaria&quot;</td><td>12.0</td><td>4.0</td><td>97.0</td><td>4.0</td><td>24.25</td></tr><tr><td>&quot;A Ahmadhel&quot;</td><td>&quot;2020/21&quot;</td><td>2</td><td>2.0</td><td>2.4</td><td>27.0</td><td>2.0</td><td>10.12</td><td>&quot;Bulgaria&quot;</td><td>14.4</td><td>6.0</td><td>124.0</td><td>6.0</td><td>20.666667</td></tr><tr><td>&quot;A Ahmadhel&quot;</td><td>&quot;2021&quot;</td><td>3</td><td>2.0</td><td>3.0</td><td>31.0</td><td>0.0</td><td>10.33</td><td>&quot;Bulgaria&quot;</td><td>17.4</td><td>6.0</td><td>155.0</td><td>8.0</td><td>19.375</td></tr><tr><td>&quot;A Ahmadhel&quot;</td><td>&quot;2023&quot;</td><td>2</td><td>0.0</td><td>0.0</td><td>0.0</td><td>0.0</td><td>0.0</td><td>&quot;Bulgaria&quot;</td><td>17.4</td><td>6.0</td><td>155.0</td><td>8.0</td><td>19.375</td></tr><tr><td>&hellip;</td><td>&hellip;</td><td>&hellip;</td><td>&hellip;</td><td>&hellip;</td><td>&hellip;</td><td>&hellip;</td><td>&hellip;</td><td>&hellip;</td><td>&hellip;</td><td>&hellip;</td><td>&hellip;</td><td>&hellip;</td><td>&hellip;</td></tr><tr><td>&quot;Zulqarnain Haider&quot;</td><td>&quot;2019&quot;</td><td>4</td><td>4.0</td><td>10.0</td><td>53.0</td><td>3.0</td><td>5.3</td><td>&quot;Spain&quot;</td><td>10.0</td><td>3.0</td><td>53.0</td><td>4.0</td><td>13.25</td></tr><tr><td>&quot;Zulqarnain Haider&quot;</td><td>&quot;2019/20&quot;</td><td>1</td><td>1.0</td><td>3.0</td><td>7.0</td><td>0.0</td><td>2.33</td><td>&quot;Spain&quot;</td><td>13.0</td><td>3.0</td><td>60.0</td><td>5.0</td><td>12.0</td></tr><tr><td>&quot;Zulqarnain Haider&quot;</td><td>&quot;2022&quot;</td><td>6</td><td>6.0</td><td>15.0</td><td>91.0</td><td>5.0</td><td>6.06</td><td>&quot;Spain&quot;</td><td>28.0</td><td>8.0</td><td>151.0</td><td>11.0</td><td>13.727273</td></tr><tr><td>&quot;Zulqarnain Haider&quot;</td><td>&quot;2006/07&quot;</td><td>1</td><td>0.0</td><td>0.0</td><td>0.0</td><td>0.0</td><td>0.0</td><td>&quot;Pakistan&quot;</td><td>0.0</td><td>0.0</td><td>0.0</td><td>0.0</td><td>0.0</td></tr><tr><td>&quot;Zulqarnain Haider&quot;</td><td>&quot;2010/11&quot;</td><td>2</td><td>0.0</td><td>0.0</td><td>0.0</td><td>0.0</td><td>0.0</td><td>&quot;Pakistan&quot;</td><td>0.0</td><td>0.0</td><td>0.0</td><td>0.0</td><td>0.0</td></tr></tbody></table></div>"
      ],
      "text/plain": [
       "shape: (14_035, 14)\n",
       "┌──────────────┬─────────┬─────┬──────┬───┬──────────────┬─────────────┬─────────────┬─────────────┐\n",
       "│ Player       ┆ Season  ┆ Mat ┆ Inns ┆ … ┆ Cumulative   ┆ Cumulative  ┆ Cumulative  ┆ Cumulative  │\n",
       "│ ---          ┆ ---     ┆ --- ┆ ---  ┆   ┆ Wkts         ┆ Runs        ┆ Inns        ┆ Econ        │\n",
       "│ str          ┆ str     ┆ i64 ┆ f64  ┆   ┆ ---          ┆ ---         ┆ ---         ┆ ---         │\n",
       "│              ┆         ┆     ┆      ┆   ┆ f64          ┆ f64         ┆ f64         ┆ f64         │\n",
       "╞══════════════╪═════════╪═════╪══════╪═══╪══════════════╪═════════════╪═════════════╪═════════════╡\n",
       "│ A Ahmadhel   ┆ 2019/20 ┆ 3   ┆ 3.0  ┆ … ┆ 3.0          ┆ 75.0        ┆ 3.0         ┆ 25.0        │\n",
       "│ A Ahmadhel   ┆ 2020    ┆ 1   ┆ 1.0  ┆ … ┆ 4.0          ┆ 97.0        ┆ 4.0         ┆ 24.25       │\n",
       "│ A Ahmadhel   ┆ 2020/21 ┆ 2   ┆ 2.0  ┆ … ┆ 6.0          ┆ 124.0       ┆ 6.0         ┆ 20.666667   │\n",
       "│ A Ahmadhel   ┆ 2021    ┆ 3   ┆ 2.0  ┆ … ┆ 6.0          ┆ 155.0       ┆ 8.0         ┆ 19.375      │\n",
       "│ A Ahmadhel   ┆ 2023    ┆ 2   ┆ 0.0  ┆ … ┆ 6.0          ┆ 155.0       ┆ 8.0         ┆ 19.375      │\n",
       "│ …            ┆ …       ┆ …   ┆ …    ┆ … ┆ …            ┆ …           ┆ …           ┆ …           │\n",
       "│ Zulqarnain   ┆ 2019    ┆ 4   ┆ 4.0  ┆ … ┆ 3.0          ┆ 53.0        ┆ 4.0         ┆ 13.25       │\n",
       "│ Haider       ┆         ┆     ┆      ┆   ┆              ┆             ┆             ┆             │\n",
       "│ Zulqarnain   ┆ 2019/20 ┆ 1   ┆ 1.0  ┆ … ┆ 3.0          ┆ 60.0        ┆ 5.0         ┆ 12.0        │\n",
       "│ Haider       ┆         ┆     ┆      ┆   ┆              ┆             ┆             ┆             │\n",
       "│ Zulqarnain   ┆ 2022    ┆ 6   ┆ 6.0  ┆ … ┆ 8.0          ┆ 151.0       ┆ 11.0        ┆ 13.727273   │\n",
       "│ Haider       ┆         ┆     ┆      ┆   ┆              ┆             ┆             ┆             │\n",
       "│ Zulqarnain   ┆ 2006/07 ┆ 1   ┆ 0.0  ┆ … ┆ 0.0          ┆ 0.0         ┆ 0.0         ┆ 0.0         │\n",
       "│ Haider       ┆         ┆     ┆      ┆   ┆              ┆             ┆             ┆             │\n",
       "│ Zulqarnain   ┆ 2010/11 ┆ 2   ┆ 0.0  ┆ … ┆ 0.0          ┆ 0.0         ┆ 0.0         ┆ 0.0         │\n",
       "│ Haider       ┆         ┆     ┆      ┆   ┆              ┆             ┆             ┆             │\n",
       "└──────────────┴─────────┴─────┴──────┴───┴──────────────┴─────────────┴─────────────┴─────────────┘"
      ]
     },
     "execution_count": 9,
     "metadata": {},
     "output_type": "execute_result"
    }
   ],
   "source": [
    "bowling_data = bowling_data.with_columns(bowling_data['Country'].replace(filtered_countries))\n",
    "bowling_data"
   ]
  },
  {
   "cell_type": "code",
   "execution_count": 10,
   "metadata": {},
   "outputs": [
    {
     "data": {
      "text/html": [
       "<div><style>\n",
       ".dataframe > thead > tr,\n",
       ".dataframe > tbody > tr {\n",
       "  text-align: right;\n",
       "  white-space: pre-wrap;\n",
       "}\n",
       "</style>\n",
       "<small>shape: (5_902, 3)</small><table border=\"1\" class=\"dataframe\"><thead><tr><th>Player</th><th>Country</th><th>player_id</th></tr><tr><td>str</td><td>str</td><td>str</td></tr></thead><tbody><tr><td>&quot;PS Athavale&quot;</td><td>&quot;Oman&quot;</td><td>&quot;c2f12310&quot;</td></tr><tr><td>&quot;HV Mandhyan&quot;</td><td>&quot;Hungary&quot;</td><td>&quot;11f56b14&quot;</td></tr><tr><td>&quot;L Kooagile&quot;</td><td>&quot;Botswana&quot;</td><td>&quot;88c742fb&quot;</td></tr><tr><td>&quot;T Maruma&quot;</td><td>&quot;Zimbabwe&quot;</td><td>&quot;f55c526f&quot;</td></tr><tr><td>&quot;AA Obanda&quot;</td><td>&quot;Kenya&quot;</td><td>&quot;7081491e&quot;</td></tr><tr><td>&hellip;</td><td>&hellip;</td><td>&hellip;</td></tr><tr><td>&quot;DR Patankar&quot;</td><td>&quot;Malta&quot;</td><td>&quot;e661915c&quot;</td></tr><tr><td>&quot;B Kumar&quot;</td><td>&quot;India&quot;</td><td>&quot;2e81a32d&quot;</td></tr><tr><td>&quot;LMM Tahuhu&quot;</td><td>&quot;New Zealand&quot;</td><td>&quot;60471339&quot;</td></tr><tr><td>&quot;Abdul Wahid&quot;</td><td>&quot;Saudi Arabia&quot;</td><td>&quot;40aea524&quot;</td></tr><tr><td>&quot;HER Tyler&quot;</td><td>&quot;Philippines&quot;</td><td>&quot;0ba9de33&quot;</td></tr></tbody></table></div>"
      ],
      "text/plain": [
       "shape: (5_902, 3)\n",
       "┌─────────────┬──────────────┬───────────┐\n",
       "│ Player      ┆ Country      ┆ player_id │\n",
       "│ ---         ┆ ---          ┆ ---       │\n",
       "│ str         ┆ str          ┆ str       │\n",
       "╞═════════════╪══════════════╪═══════════╡\n",
       "│ PS Athavale ┆ Oman         ┆ c2f12310  │\n",
       "│ HV Mandhyan ┆ Hungary      ┆ 11f56b14  │\n",
       "│ L Kooagile  ┆ Botswana     ┆ 88c742fb  │\n",
       "│ T Maruma    ┆ Zimbabwe     ┆ f55c526f  │\n",
       "│ AA Obanda   ┆ Kenya        ┆ 7081491e  │\n",
       "│ …           ┆ …            ┆ …         │\n",
       "│ DR Patankar ┆ Malta        ┆ e661915c  │\n",
       "│ B Kumar     ┆ India        ┆ 2e81a32d  │\n",
       "│ LMM Tahuhu  ┆ New Zealand  ┆ 60471339  │\n",
       "│ Abdul Wahid ┆ Saudi Arabia ┆ 40aea524  │\n",
       "│ HER Tyler   ┆ Philippines  ┆ 0ba9de33  │\n",
       "└─────────────┴──────────────┴───────────┘"
      ]
     },
     "execution_count": 10,
     "metadata": {},
     "output_type": "execute_result"
    }
   ],
   "source": [
    "players_data = pl.read_csv(r'D:\\github\\localt20\\processedData\\Players.csv').rename({\"player\": \"Player\",\"country\":\"Country\"})\n",
    "players_data"
   ]
  },
  {
   "cell_type": "code",
   "execution_count": 11,
   "metadata": {},
   "outputs": [
    {
     "data": {
      "text/html": [
       "<div><style>\n",
       ".dataframe > thead > tr,\n",
       ".dataframe > tbody > tr {\n",
       "  text-align: right;\n",
       "  white-space: pre-wrap;\n",
       "}\n",
       "</style>\n",
       "<small>shape: (13_060, 15)</small><table border=\"1\" class=\"dataframe\"><thead><tr><th>Player</th><th>Season</th><th>Mat</th><th>Inns</th><th>Overs</th><th>Runs</th><th>Wkts</th><th>Econ</th><th>Country</th><th>Cumulative Overs</th><th>Cumulative Wkts</th><th>Cumulative Runs</th><th>Cumulative Inns</th><th>Cumulative Econ</th><th>player_id</th></tr><tr><td>str</td><td>str</td><td>i64</td><td>f64</td><td>f64</td><td>f64</td><td>f64</td><td>f64</td><td>str</td><td>f64</td><td>f64</td><td>f64</td><td>f64</td><td>f64</td><td>str</td></tr></thead><tbody><tr><td>&quot;A Ahmadhel&quot;</td><td>&quot;2019/20&quot;</td><td>3</td><td>3.0</td><td>10.0</td><td>75.0</td><td>3.0</td><td>7.5</td><td>&quot;Bulgaria&quot;</td><td>10.0</td><td>3.0</td><td>75.0</td><td>3.0</td><td>25.0</td><td>&quot;55a5cffb&quot;</td></tr><tr><td>&quot;A Ahmadhel&quot;</td><td>&quot;2020&quot;</td><td>1</td><td>1.0</td><td>2.0</td><td>22.0</td><td>1.0</td><td>11.0</td><td>&quot;Bulgaria&quot;</td><td>12.0</td><td>4.0</td><td>97.0</td><td>4.0</td><td>24.25</td><td>&quot;55a5cffb&quot;</td></tr><tr><td>&quot;A Ahmadhel&quot;</td><td>&quot;2020/21&quot;</td><td>2</td><td>2.0</td><td>2.4</td><td>27.0</td><td>2.0</td><td>10.12</td><td>&quot;Bulgaria&quot;</td><td>14.4</td><td>6.0</td><td>124.0</td><td>6.0</td><td>20.666667</td><td>&quot;55a5cffb&quot;</td></tr><tr><td>&quot;A Ahmadhel&quot;</td><td>&quot;2021&quot;</td><td>3</td><td>2.0</td><td>3.0</td><td>31.0</td><td>0.0</td><td>10.33</td><td>&quot;Bulgaria&quot;</td><td>17.4</td><td>6.0</td><td>155.0</td><td>8.0</td><td>19.375</td><td>&quot;55a5cffb&quot;</td></tr><tr><td>&quot;A Ahmadhel&quot;</td><td>&quot;2023&quot;</td><td>2</td><td>0.0</td><td>0.0</td><td>0.0</td><td>0.0</td><td>0.0</td><td>&quot;Bulgaria&quot;</td><td>17.4</td><td>6.0</td><td>155.0</td><td>8.0</td><td>19.375</td><td>&quot;55a5cffb&quot;</td></tr><tr><td>&hellip;</td><td>&hellip;</td><td>&hellip;</td><td>&hellip;</td><td>&hellip;</td><td>&hellip;</td><td>&hellip;</td><td>&hellip;</td><td>&hellip;</td><td>&hellip;</td><td>&hellip;</td><td>&hellip;</td><td>&hellip;</td><td>&hellip;</td><td>&hellip;</td></tr><tr><td>&quot;Zulqarnain Haider&quot;</td><td>&quot;2019&quot;</td><td>4</td><td>4.0</td><td>10.0</td><td>53.0</td><td>3.0</td><td>5.3</td><td>&quot;Spain&quot;</td><td>10.0</td><td>3.0</td><td>53.0</td><td>4.0</td><td>13.25</td><td>&quot;2d46e8ed&quot;</td></tr><tr><td>&quot;Zulqarnain Haider&quot;</td><td>&quot;2019/20&quot;</td><td>1</td><td>1.0</td><td>3.0</td><td>7.0</td><td>0.0</td><td>2.33</td><td>&quot;Spain&quot;</td><td>13.0</td><td>3.0</td><td>60.0</td><td>5.0</td><td>12.0</td><td>&quot;2d46e8ed&quot;</td></tr><tr><td>&quot;Zulqarnain Haider&quot;</td><td>&quot;2022&quot;</td><td>6</td><td>6.0</td><td>15.0</td><td>91.0</td><td>5.0</td><td>6.06</td><td>&quot;Spain&quot;</td><td>28.0</td><td>8.0</td><td>151.0</td><td>11.0</td><td>13.727273</td><td>&quot;2d46e8ed&quot;</td></tr><tr><td>&quot;Zulqarnain Haider&quot;</td><td>&quot;2006/07&quot;</td><td>1</td><td>0.0</td><td>0.0</td><td>0.0</td><td>0.0</td><td>0.0</td><td>&quot;Pakistan&quot;</td><td>0.0</td><td>0.0</td><td>0.0</td><td>0.0</td><td>0.0</td><td>&quot;ee9bdbc8&quot;</td></tr><tr><td>&quot;Zulqarnain Haider&quot;</td><td>&quot;2010/11&quot;</td><td>2</td><td>0.0</td><td>0.0</td><td>0.0</td><td>0.0</td><td>0.0</td><td>&quot;Pakistan&quot;</td><td>0.0</td><td>0.0</td><td>0.0</td><td>0.0</td><td>0.0</td><td>&quot;ee9bdbc8&quot;</td></tr></tbody></table></div>"
      ],
      "text/plain": [
       "shape: (13_060, 15)\n",
       "┌──────────────┬─────────┬─────┬──────┬───┬──────────────┬──────────────┬──────────────┬───────────┐\n",
       "│ Player       ┆ Season  ┆ Mat ┆ Inns ┆ … ┆ Cumulative   ┆ Cumulative   ┆ Cumulative   ┆ player_id │\n",
       "│ ---          ┆ ---     ┆ --- ┆ ---  ┆   ┆ Runs         ┆ Inns         ┆ Econ         ┆ ---       │\n",
       "│ str          ┆ str     ┆ i64 ┆ f64  ┆   ┆ ---          ┆ ---          ┆ ---          ┆ str       │\n",
       "│              ┆         ┆     ┆      ┆   ┆ f64          ┆ f64          ┆ f64          ┆           │\n",
       "╞══════════════╪═════════╪═════╪══════╪═══╪══════════════╪══════════════╪══════════════╪═══════════╡\n",
       "│ A Ahmadhel   ┆ 2019/20 ┆ 3   ┆ 3.0  ┆ … ┆ 75.0         ┆ 3.0          ┆ 25.0         ┆ 55a5cffb  │\n",
       "│ A Ahmadhel   ┆ 2020    ┆ 1   ┆ 1.0  ┆ … ┆ 97.0         ┆ 4.0          ┆ 24.25        ┆ 55a5cffb  │\n",
       "│ A Ahmadhel   ┆ 2020/21 ┆ 2   ┆ 2.0  ┆ … ┆ 124.0        ┆ 6.0          ┆ 20.666667    ┆ 55a5cffb  │\n",
       "│ A Ahmadhel   ┆ 2021    ┆ 3   ┆ 2.0  ┆ … ┆ 155.0        ┆ 8.0          ┆ 19.375       ┆ 55a5cffb  │\n",
       "│ A Ahmadhel   ┆ 2023    ┆ 2   ┆ 0.0  ┆ … ┆ 155.0        ┆ 8.0          ┆ 19.375       ┆ 55a5cffb  │\n",
       "│ …            ┆ …       ┆ …   ┆ …    ┆ … ┆ …            ┆ …            ┆ …            ┆ …         │\n",
       "│ Zulqarnain   ┆ 2019    ┆ 4   ┆ 4.0  ┆ … ┆ 53.0         ┆ 4.0          ┆ 13.25        ┆ 2d46e8ed  │\n",
       "│ Haider       ┆         ┆     ┆      ┆   ┆              ┆              ┆              ┆           │\n",
       "│ Zulqarnain   ┆ 2019/20 ┆ 1   ┆ 1.0  ┆ … ┆ 60.0         ┆ 5.0          ┆ 12.0         ┆ 2d46e8ed  │\n",
       "│ Haider       ┆         ┆     ┆      ┆   ┆              ┆              ┆              ┆           │\n",
       "│ Zulqarnain   ┆ 2022    ┆ 6   ┆ 6.0  ┆ … ┆ 151.0        ┆ 11.0         ┆ 13.727273    ┆ 2d46e8ed  │\n",
       "│ Haider       ┆         ┆     ┆      ┆   ┆              ┆              ┆              ┆           │\n",
       "│ Zulqarnain   ┆ 2006/07 ┆ 1   ┆ 0.0  ┆ … ┆ 0.0          ┆ 0.0          ┆ 0.0          ┆ ee9bdbc8  │\n",
       "│ Haider       ┆         ┆     ┆      ┆   ┆              ┆              ┆              ┆           │\n",
       "│ Zulqarnain   ┆ 2010/11 ┆ 2   ┆ 0.0  ┆ … ┆ 0.0          ┆ 0.0          ┆ 0.0          ┆ ee9bdbc8  │\n",
       "│ Haider       ┆         ┆     ┆      ┆   ┆              ┆              ┆              ┆           │\n",
       "└──────────────┴─────────┴─────┴──────┴───┴──────────────┴──────────────┴──────────────┴───────────┘"
      ]
     },
     "execution_count": 11,
     "metadata": {},
     "output_type": "execute_result"
    }
   ],
   "source": [
    "bowling_data = bowling_data.join(players_data, on=['Player','Country'], how='inner')\n",
    "bowling_data"
   ]
  },
  {
   "cell_type": "code",
   "execution_count": 12,
   "metadata": {},
   "outputs": [],
   "source": [
    "bowling_data = bowling_data.rename({\"Runs\":\"Bowling_Runs\"})"
   ]
  },
  {
   "cell_type": "code",
   "execution_count": 13,
   "metadata": {},
   "outputs": [
    {
     "data": {
      "text/html": [
       "<div><style>\n",
       ".dataframe > thead > tr,\n",
       ".dataframe > tbody > tr {\n",
       "  text-align: right;\n",
       "  white-space: pre-wrap;\n",
       "}\n",
       "</style>\n",
       "<small>shape: (1, 15)</small><table border=\"1\" class=\"dataframe\"><thead><tr><th>Player</th><th>Season</th><th>Mat</th><th>Inns</th><th>Overs</th><th>Bowling_Runs</th><th>Wkts</th><th>Econ</th><th>Country</th><th>Cumulative Overs</th><th>Cumulative Wkts</th><th>Cumulative Runs</th><th>Cumulative Inns</th><th>Cumulative Econ</th><th>player_id</th></tr><tr><td>u32</td><td>u32</td><td>u32</td><td>u32</td><td>u32</td><td>u32</td><td>u32</td><td>u32</td><td>u32</td><td>u32</td><td>u32</td><td>u32</td><td>u32</td><td>u32</td><td>u32</td></tr></thead><tbody><tr><td>0</td><td>0</td><td>0</td><td>0</td><td>0</td><td>0</td><td>0</td><td>0</td><td>0</td><td>0</td><td>0</td><td>0</td><td>0</td><td>0</td><td>0</td></tr></tbody></table></div>"
      ],
      "text/plain": [
       "shape: (1, 15)\n",
       "┌────────┬────────┬─────┬──────┬───┬────────────┬───────────────────┬──────────────────┬───────────┐\n",
       "│ Player ┆ Season ┆ Mat ┆ Inns ┆ … ┆ Cumulative ┆ Cumulative Inns   ┆ Cumulative Econ  ┆ player_id │\n",
       "│ ---    ┆ ---    ┆ --- ┆ ---  ┆   ┆ Runs       ┆ ---               ┆ ---              ┆ ---       │\n",
       "│ u32    ┆ u32    ┆ u32 ┆ u32  ┆   ┆ ---        ┆ u32               ┆ u32              ┆ u32       │\n",
       "│        ┆        ┆     ┆      ┆   ┆ u32        ┆                   ┆                  ┆           │\n",
       "╞════════╪════════╪═════╪══════╪═══╪════════════╪═══════════════════╪══════════════════╪═══════════╡\n",
       "│ 0      ┆ 0      ┆ 0   ┆ 0    ┆ … ┆ 0          ┆ 0                 ┆ 0                ┆ 0         │\n",
       "└────────┴────────┴─────┴──────┴───┴────────────┴───────────────────┴──────────────────┴───────────┘"
      ]
     },
     "execution_count": 13,
     "metadata": {},
     "output_type": "execute_result"
    }
   ],
   "source": [
    "bowling_data.null_count()"
   ]
  },
  {
   "cell_type": "code",
   "execution_count": 14,
   "metadata": {},
   "outputs": [],
   "source": [
    "bowling_data.write_csv(r'D:\\github\\localt20\\processedData\\bowling.csv')"
   ]
  },
  {
   "cell_type": "code",
   "execution_count": null,
   "metadata": {},
   "outputs": [],
   "source": []
  }
 ],
 "metadata": {
  "kernelspec": {
   "display_name": "eda",
   "language": "python",
   "name": "python3"
  },
  "language_info": {
   "codemirror_mode": {
    "name": "ipython",
    "version": 3
   },
   "file_extension": ".py",
   "mimetype": "text/x-python",
   "name": "python",
   "nbconvert_exporter": "python",
   "pygments_lexer": "ipython3",
   "version": "3.8.19"
  }
 },
 "nbformat": 4,
 "nbformat_minor": 2
}
