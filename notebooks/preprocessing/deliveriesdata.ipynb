{
 "cells": [
  {
   "cell_type": "code",
   "execution_count": 1,
   "metadata": {},
   "outputs": [],
   "source": [
    "import os\n",
    "import glob\n",
    "import polars as pl\n",
    "\n",
    "# Specify the directory where your CSV files are located\n",
    "directory = r'D:\\github\\localt20\\data\\rawData\\t20s_csv2'\n",
    "\n",
    "# Use glob to find all CSV files in the specified directory\n",
    "info_files = glob.glob(os.path.join(directory, '*_info.csv'))\n",
    "all_files = glob.glob(os.path.join(directory,'*.csv'))\n",
    "delivery_files = [file for file in all_files if '_info' not in file]\n",
    "\n",
    "matches=[]\n",
    "deliveries=[]\n",
    "# Print the list of CSV files\n",
    "for info_file in info_files:\n",
    "    matches.append(info_file.split('\\\\')[-1])\n",
    "for delivery in delivery_files:\n",
    "    if '_info' not in delivery:\n",
    "        deliveries.append(delivery.split('\\\\')[-1])"
   ]
  },
  {
   "cell_type": "code",
   "execution_count": 11,
   "metadata": {},
   "outputs": [
    {
     "data": {
      "text/html": [
       "<div><style>\n",
       ".dataframe > thead > tr,\n",
       ".dataframe > tbody > tr {\n",
       "  text-align: right;\n",
       "  white-space: pre-wrap;\n",
       "}\n",
       "</style>\n",
       "<small>shape: (860_172, 22)</small><table border=\"1\" class=\"dataframe\"><thead><tr><th>match_id</th><th>season</th><th>start_date</th><th>venue</th><th>innings</th><th>ball</th><th>batting_team</th><th>bowling_team</th><th>striker</th><th>non_striker</th><th>bowler</th><th>runs_off_bat</th><th>extras</th><th>wides</th><th>noballs</th><th>byes</th><th>legbyes</th><th>penalty</th><th>wicket_type</th><th>player_dismissed</th><th>other_wicket_type</th><th>other_player_dismissed</th></tr><tr><td>i64</td><td>str</td><td>str</td><td>str</td><td>i64</td><td>f64</td><td>str</td><td>str</td><td>str</td><td>str</td><td>str</td><td>i64</td><td>i64</td><td>i64</td><td>str</td><td>i64</td><td>i64</td><td>str</td><td>str</td><td>str</td><td>str</td><td>str</td></tr></thead><tbody><tr><td>1001349</td><td>&quot;2016/17&quot;</td><td>&quot;2017-02-17&quot;</td><td>&quot;Melbourne Cricket Ground&quot;</td><td>1</td><td>0.1</td><td>&quot;Australia&quot;</td><td>&quot;Sri Lanka&quot;</td><td>&quot;AJ Finch&quot;</td><td>&quot;M Klinger&quot;</td><td>&quot;SL Malinga&quot;</td><td>0</td><td>0</td><td>null</td><td>null</td><td>null</td><td>null</td><td>null</td><td>null</td><td>null</td><td>null</td><td>null</td></tr><tr><td>1001349</td><td>&quot;2016/17&quot;</td><td>&quot;2017-02-17&quot;</td><td>&quot;Melbourne Cricket Ground&quot;</td><td>1</td><td>0.2</td><td>&quot;Australia&quot;</td><td>&quot;Sri Lanka&quot;</td><td>&quot;AJ Finch&quot;</td><td>&quot;M Klinger&quot;</td><td>&quot;SL Malinga&quot;</td><td>0</td><td>0</td><td>null</td><td>null</td><td>null</td><td>null</td><td>null</td><td>null</td><td>null</td><td>null</td><td>null</td></tr><tr><td>1001349</td><td>&quot;2016/17&quot;</td><td>&quot;2017-02-17&quot;</td><td>&quot;Melbourne Cricket Ground&quot;</td><td>1</td><td>0.3</td><td>&quot;Australia&quot;</td><td>&quot;Sri Lanka&quot;</td><td>&quot;AJ Finch&quot;</td><td>&quot;M Klinger&quot;</td><td>&quot;SL Malinga&quot;</td><td>1</td><td>0</td><td>null</td><td>null</td><td>null</td><td>null</td><td>null</td><td>null</td><td>null</td><td>null</td><td>null</td></tr><tr><td>1001349</td><td>&quot;2016/17&quot;</td><td>&quot;2017-02-17&quot;</td><td>&quot;Melbourne Cricket Ground&quot;</td><td>1</td><td>0.4</td><td>&quot;Australia&quot;</td><td>&quot;Sri Lanka&quot;</td><td>&quot;M Klinger&quot;</td><td>&quot;AJ Finch&quot;</td><td>&quot;SL Malinga&quot;</td><td>2</td><td>0</td><td>null</td><td>null</td><td>null</td><td>null</td><td>null</td><td>null</td><td>null</td><td>null</td><td>null</td></tr><tr><td>1001349</td><td>&quot;2016/17&quot;</td><td>&quot;2017-02-17&quot;</td><td>&quot;Melbourne Cricket Ground&quot;</td><td>1</td><td>0.5</td><td>&quot;Australia&quot;</td><td>&quot;Sri Lanka&quot;</td><td>&quot;M Klinger&quot;</td><td>&quot;AJ Finch&quot;</td><td>&quot;SL Malinga&quot;</td><td>0</td><td>0</td><td>null</td><td>null</td><td>null</td><td>null</td><td>null</td><td>null</td><td>null</td><td>null</td><td>null</td></tr><tr><td>&hellip;</td><td>&hellip;</td><td>&hellip;</td><td>&hellip;</td><td>&hellip;</td><td>&hellip;</td><td>&hellip;</td><td>&hellip;</td><td>&hellip;</td><td>&hellip;</td><td>&hellip;</td><td>&hellip;</td><td>&hellip;</td><td>&hellip;</td><td>&hellip;</td><td>&hellip;</td><td>&hellip;</td><td>&hellip;</td><td>&hellip;</td><td>&hellip;</td><td>&hellip;</td><td>&hellip;</td></tr><tr><td>995469</td><td>&quot;2016&quot;</td><td>&quot;2016-09-09&quot;</td><td>&quot;R Premadasa Stadium&quot;</td><td>2</td><td>17.1</td><td>&quot;Australia&quot;</td><td>&quot;Sri Lanka&quot;</td><td>&quot;TM Head&quot;</td><td>&quot;PM Nevill&quot;</td><td>&quot;SS Pathirana&quot;</td><td>1</td><td>0</td><td>null</td><td>null</td><td>null</td><td>null</td><td>null</td><td>null</td><td>null</td><td>null</td><td>null</td></tr><tr><td>995469</td><td>&quot;2016&quot;</td><td>&quot;2016-09-09&quot;</td><td>&quot;R Premadasa Stadium&quot;</td><td>2</td><td>17.2</td><td>&quot;Australia&quot;</td><td>&quot;Sri Lanka&quot;</td><td>&quot;PM Nevill&quot;</td><td>&quot;TM Head&quot;</td><td>&quot;SS Pathirana&quot;</td><td>3</td><td>0</td><td>null</td><td>null</td><td>null</td><td>null</td><td>null</td><td>null</td><td>null</td><td>null</td><td>null</td></tr><tr><td>995469</td><td>&quot;2016&quot;</td><td>&quot;2016-09-09&quot;</td><td>&quot;R Premadasa Stadium&quot;</td><td>2</td><td>17.3</td><td>&quot;Australia&quot;</td><td>&quot;Sri Lanka&quot;</td><td>&quot;TM Head&quot;</td><td>&quot;PM Nevill&quot;</td><td>&quot;SS Pathirana&quot;</td><td>0</td><td>0</td><td>null</td><td>null</td><td>null</td><td>null</td><td>null</td><td>null</td><td>null</td><td>null</td><td>null</td></tr><tr><td>995469</td><td>&quot;2016&quot;</td><td>&quot;2016-09-09&quot;</td><td>&quot;R Premadasa Stadium&quot;</td><td>2</td><td>17.4</td><td>&quot;Australia&quot;</td><td>&quot;Sri Lanka&quot;</td><td>&quot;TM Head&quot;</td><td>&quot;PM Nevill&quot;</td><td>&quot;SS Pathirana&quot;</td><td>0</td><td>0</td><td>null</td><td>null</td><td>null</td><td>null</td><td>null</td><td>null</td><td>null</td><td>null</td><td>null</td></tr><tr><td>995469</td><td>&quot;2016&quot;</td><td>&quot;2016-09-09&quot;</td><td>&quot;R Premadasa Stadium&quot;</td><td>2</td><td>17.5</td><td>&quot;Australia&quot;</td><td>&quot;Sri Lanka&quot;</td><td>&quot;TM Head&quot;</td><td>&quot;PM Nevill&quot;</td><td>&quot;SS Pathirana&quot;</td><td>6</td><td>0</td><td>null</td><td>null</td><td>null</td><td>null</td><td>null</td><td>null</td><td>null</td><td>null</td><td>null</td></tr></tbody></table></div>"
      ],
      "text/plain": [
       "shape: (860_172, 22)\n",
       "┌──────────┬─────────┬────────────┬────────────┬───┬───────────┬───────────┬───────────┬───────────┐\n",
       "│ match_id ┆ season  ┆ start_date ┆ venue      ┆ … ┆ wicket_ty ┆ player_di ┆ other_wic ┆ other_pla │\n",
       "│ ---      ┆ ---     ┆ ---        ┆ ---        ┆   ┆ pe        ┆ smissed   ┆ ket_type  ┆ yer_dismi │\n",
       "│ i64      ┆ str     ┆ str        ┆ str        ┆   ┆ ---       ┆ ---       ┆ ---       ┆ ssed      │\n",
       "│          ┆         ┆            ┆            ┆   ┆ str       ┆ str       ┆ str       ┆ ---       │\n",
       "│          ┆         ┆            ┆            ┆   ┆           ┆           ┆           ┆ str       │\n",
       "╞══════════╪═════════╪════════════╪════════════╪═══╪═══════════╪═══════════╪═══════════╪═══════════╡\n",
       "│ 1001349  ┆ 2016/17 ┆ 2017-02-17 ┆ Melbourne  ┆ … ┆ null      ┆ null      ┆ null      ┆ null      │\n",
       "│          ┆         ┆            ┆ Cricket    ┆   ┆           ┆           ┆           ┆           │\n",
       "│          ┆         ┆            ┆ Ground     ┆   ┆           ┆           ┆           ┆           │\n",
       "│ 1001349  ┆ 2016/17 ┆ 2017-02-17 ┆ Melbourne  ┆ … ┆ null      ┆ null      ┆ null      ┆ null      │\n",
       "│          ┆         ┆            ┆ Cricket    ┆   ┆           ┆           ┆           ┆           │\n",
       "│          ┆         ┆            ┆ Ground     ┆   ┆           ┆           ┆           ┆           │\n",
       "│ 1001349  ┆ 2016/17 ┆ 2017-02-17 ┆ Melbourne  ┆ … ┆ null      ┆ null      ┆ null      ┆ null      │\n",
       "│          ┆         ┆            ┆ Cricket    ┆   ┆           ┆           ┆           ┆           │\n",
       "│          ┆         ┆            ┆ Ground     ┆   ┆           ┆           ┆           ┆           │\n",
       "│ 1001349  ┆ 2016/17 ┆ 2017-02-17 ┆ Melbourne  ┆ … ┆ null      ┆ null      ┆ null      ┆ null      │\n",
       "│          ┆         ┆            ┆ Cricket    ┆   ┆           ┆           ┆           ┆           │\n",
       "│          ┆         ┆            ┆ Ground     ┆   ┆           ┆           ┆           ┆           │\n",
       "│ 1001349  ┆ 2016/17 ┆ 2017-02-17 ┆ Melbourne  ┆ … ┆ null      ┆ null      ┆ null      ┆ null      │\n",
       "│          ┆         ┆            ┆ Cricket    ┆   ┆           ┆           ┆           ┆           │\n",
       "│          ┆         ┆            ┆ Ground     ┆   ┆           ┆           ┆           ┆           │\n",
       "│ …        ┆ …       ┆ …          ┆ …          ┆ … ┆ …         ┆ …         ┆ …         ┆ …         │\n",
       "│ 995469   ┆ 2016    ┆ 2016-09-09 ┆ R          ┆ … ┆ null      ┆ null      ┆ null      ┆ null      │\n",
       "│          ┆         ┆            ┆ Premadasa  ┆   ┆           ┆           ┆           ┆           │\n",
       "│          ┆         ┆            ┆ Stadium    ┆   ┆           ┆           ┆           ┆           │\n",
       "│ 995469   ┆ 2016    ┆ 2016-09-09 ┆ R          ┆ … ┆ null      ┆ null      ┆ null      ┆ null      │\n",
       "│          ┆         ┆            ┆ Premadasa  ┆   ┆           ┆           ┆           ┆           │\n",
       "│          ┆         ┆            ┆ Stadium    ┆   ┆           ┆           ┆           ┆           │\n",
       "│ 995469   ┆ 2016    ┆ 2016-09-09 ┆ R          ┆ … ┆ null      ┆ null      ┆ null      ┆ null      │\n",
       "│          ┆         ┆            ┆ Premadasa  ┆   ┆           ┆           ┆           ┆           │\n",
       "│          ┆         ┆            ┆ Stadium    ┆   ┆           ┆           ┆           ┆           │\n",
       "│ 995469   ┆ 2016    ┆ 2016-09-09 ┆ R          ┆ … ┆ null      ┆ null      ┆ null      ┆ null      │\n",
       "│          ┆         ┆            ┆ Premadasa  ┆   ┆           ┆           ┆           ┆           │\n",
       "│          ┆         ┆            ┆ Stadium    ┆   ┆           ┆           ┆           ┆           │\n",
       "│ 995469   ┆ 2016    ┆ 2016-09-09 ┆ R          ┆ … ┆ null      ┆ null      ┆ null      ┆ null      │\n",
       "│          ┆         ┆            ┆ Premadasa  ┆   ┆           ┆           ┆           ┆           │\n",
       "│          ┆         ┆            ┆ Stadium    ┆   ┆           ┆           ┆           ┆           │\n",
       "└──────────┴─────────┴────────────┴────────────┴───┴───────────┴───────────┴───────────┴───────────┘"
      ]
     },
     "execution_count": 11,
     "metadata": {},
     "output_type": "execute_result"
    }
   ],
   "source": [
    "delivery_schema=([('match_id', pl.Int64),\n",
    "                ('season', pl.String),\n",
    "                ('start_date', pl.String),\n",
    "                ('venue', pl.String),\n",
    "                ('innings', pl.Int64),\n",
    "                ('ball', pl.Float64),\n",
    "                ('batting_team', pl.String),\n",
    "                ('bowling_team', pl.String),\n",
    "                ('striker', pl.String),\n",
    "                ('non_striker', pl.String),\n",
    "                ('bowler', pl.String),\n",
    "                ('runs_off_bat', pl.Int64),\n",
    "                ('extras', pl.Int64),\n",
    "                ('wides', pl.Int64),\n",
    "                ('noballs', pl.String),\n",
    "                ('byes', pl.Int64),\n",
    "                ('legbyes', pl.Int64),\n",
    "                ('penalty', pl.String),\n",
    "                ('wicket_type', pl.String),\n",
    "                ('player_dismissed', pl.String),\n",
    "                ('other_wicket_type', pl.String),\n",
    "                ('other_player_dismissed', pl.String)])\n",
    "delivery_schema_dict = {key : value for key,value in delivery_schema}\n",
    "deliveries_data = pl.DataFrame(schema=delivery_schema_dict)\n",
    "for delivery in deliveries:\n",
    "    delivery=pl.read_csv(os.path.join(directory,delivery),schema=delivery_schema_dict)\n",
    "    deliveries_data=deliveries_data.vstack(delivery)\n",
    "\n",
    "deliveries_data"
   ]
  },
  {
   "cell_type": "code",
   "execution_count": 12,
   "metadata": {},
   "outputs": [
    {
     "data": {
      "text/html": [
       "<div><style>\n",
       ".dataframe > thead > tr,\n",
       ".dataframe > tbody > tr {\n",
       "  text-align: right;\n",
       "  white-space: pre-wrap;\n",
       "}\n",
       "</style>\n",
       "<small>shape: (1, 22)</small><table border=\"1\" class=\"dataframe\"><thead><tr><th>match_id</th><th>season</th><th>start_date</th><th>venue</th><th>innings</th><th>ball</th><th>batting_team</th><th>bowling_team</th><th>striker</th><th>non_striker</th><th>bowler</th><th>runs_off_bat</th><th>extras</th><th>wides</th><th>noballs</th><th>byes</th><th>legbyes</th><th>penalty</th><th>wicket_type</th><th>player_dismissed</th><th>other_wicket_type</th><th>other_player_dismissed</th></tr><tr><td>u32</td><td>u32</td><td>u32</td><td>u32</td><td>u32</td><td>u32</td><td>u32</td><td>u32</td><td>u32</td><td>u32</td><td>u32</td><td>u32</td><td>u32</td><td>u32</td><td>u32</td><td>u32</td><td>u32</td><td>u32</td><td>u32</td><td>u32</td><td>u32</td><td>u32</td></tr></thead><tbody><tr><td>0</td><td>0</td><td>0</td><td>0</td><td>0</td><td>0</td><td>0</td><td>0</td><td>0</td><td>0</td><td>0</td><td>0</td><td>0</td><td>824549</td><td>855592</td><td>856452</td><td>848973</td><td>860157</td><td>812599</td><td>812599</td><td>860171</td><td>860171</td></tr></tbody></table></div>"
      ],
      "text/plain": [
       "shape: (1, 22)\n",
       "┌──────────┬────────┬────────────┬───────┬───┬─────────────┬─────────────┬────────────┬────────────┐\n",
       "│ match_id ┆ season ┆ start_date ┆ venue ┆ … ┆ wicket_type ┆ player_dism ┆ other_wick ┆ other_play │\n",
       "│ ---      ┆ ---    ┆ ---        ┆ ---   ┆   ┆ ---         ┆ issed       ┆ et_type    ┆ er_dismiss │\n",
       "│ u32      ┆ u32    ┆ u32        ┆ u32   ┆   ┆ u32         ┆ ---         ┆ ---        ┆ ed         │\n",
       "│          ┆        ┆            ┆       ┆   ┆             ┆ u32         ┆ u32        ┆ ---        │\n",
       "│          ┆        ┆            ┆       ┆   ┆             ┆             ┆            ┆ u32        │\n",
       "╞══════════╪════════╪════════════╪═══════╪═══╪═════════════╪═════════════╪════════════╪════════════╡\n",
       "│ 0        ┆ 0      ┆ 0          ┆ 0     ┆ … ┆ 812599      ┆ 812599      ┆ 860171     ┆ 860171     │\n",
       "└──────────┴────────┴────────────┴───────┴───┴─────────────┴─────────────┴────────────┴────────────┘"
      ]
     },
     "execution_count": 12,
     "metadata": {},
     "output_type": "execute_result"
    }
   ],
   "source": [
    "deliveries_data.null_count()"
   ]
  },
  {
   "cell_type": "code",
   "execution_count": 13,
   "metadata": {},
   "outputs": [
    {
     "data": {
      "text/html": [
       "<div><style>\n",
       ".dataframe > thead > tr,\n",
       ".dataframe > tbody > tr {\n",
       "  text-align: right;\n",
       "  white-space: pre-wrap;\n",
       "}\n",
       "</style>\n",
       "<small>shape: (1, 22)</small><table border=\"1\" class=\"dataframe\"><thead><tr><th>match_id</th><th>season</th><th>start_date</th><th>venue</th><th>innings</th><th>ball</th><th>batting_team</th><th>bowling_team</th><th>striker</th><th>non_striker</th><th>bowler</th><th>runs_off_bat</th><th>extras</th><th>wides</th><th>noballs</th><th>byes</th><th>legbyes</th><th>penalty</th><th>wicket_type</th><th>player_dismissed</th><th>other_wicket_type</th><th>other_player_dismissed</th></tr><tr><td>u32</td><td>u32</td><td>u32</td><td>u32</td><td>u32</td><td>u32</td><td>u32</td><td>u32</td><td>u32</td><td>u32</td><td>u32</td><td>u32</td><td>u32</td><td>u32</td><td>u32</td><td>u32</td><td>u32</td><td>u32</td><td>u32</td><td>u32</td><td>u32</td><td>u32</td></tr></thead><tbody><tr><td>0</td><td>0</td><td>0</td><td>0</td><td>0</td><td>0</td><td>0</td><td>0</td><td>0</td><td>0</td><td>0</td><td>0</td><td>0</td><td>0</td><td>855592</td><td>0</td><td>0</td><td>860157</td><td>812599</td><td>812599</td><td>860171</td><td>860171</td></tr></tbody></table></div>"
      ],
      "text/plain": [
       "shape: (1, 22)\n",
       "┌──────────┬────────┬────────────┬───────┬───┬─────────────┬─────────────┬────────────┬────────────┐\n",
       "│ match_id ┆ season ┆ start_date ┆ venue ┆ … ┆ wicket_type ┆ player_dism ┆ other_wick ┆ other_play │\n",
       "│ ---      ┆ ---    ┆ ---        ┆ ---   ┆   ┆ ---         ┆ issed       ┆ et_type    ┆ er_dismiss │\n",
       "│ u32      ┆ u32    ┆ u32        ┆ u32   ┆   ┆ u32         ┆ ---         ┆ ---        ┆ ed         │\n",
       "│          ┆        ┆            ┆       ┆   ┆             ┆ u32         ┆ u32        ┆ ---        │\n",
       "│          ┆        ┆            ┆       ┆   ┆             ┆             ┆            ┆ u32        │\n",
       "╞══════════╪════════╪════════════╪═══════╪═══╪═════════════╪═════════════╪════════════╪════════════╡\n",
       "│ 0        ┆ 0      ┆ 0          ┆ 0     ┆ … ┆ 812599      ┆ 812599      ┆ 860171     ┆ 860171     │\n",
       "└──────────┴────────┴────────────┴───────┴───┴─────────────┴─────────────┴────────────┴────────────┘"
      ]
     },
     "execution_count": 13,
     "metadata": {},
     "output_type": "execute_result"
    }
   ],
   "source": [
    "deliveries_data = deliveries_data.fill_null(0)\n",
    "deliveries_data.null_count()"
   ]
  },
  {
   "cell_type": "code",
   "execution_count": 14,
   "metadata": {},
   "outputs": [
    {
     "data": {
      "text/html": [
       "<div><style>\n",
       ".dataframe > thead > tr,\n",
       ".dataframe > tbody > tr {\n",
       "  text-align: right;\n",
       "  white-space: pre-wrap;\n",
       "}\n",
       "</style>\n",
       "<small>shape: (5, 22)</small><table border=\"1\" class=\"dataframe\"><thead><tr><th>match_id</th><th>season</th><th>start_date</th><th>venue</th><th>innings</th><th>ball</th><th>batting_team</th><th>bowling_team</th><th>striker</th><th>non_striker</th><th>bowler</th><th>runs_off_bat</th><th>extras</th><th>wides</th><th>noballs</th><th>byes</th><th>legbyes</th><th>penalty</th><th>wicket_type</th><th>player_dismissed</th><th>other_wicket_type</th><th>other_player_dismissed</th></tr><tr><td>i64</td><td>str</td><td>str</td><td>str</td><td>i64</td><td>f64</td><td>str</td><td>str</td><td>str</td><td>str</td><td>str</td><td>i64</td><td>i64</td><td>i64</td><td>i64</td><td>i64</td><td>i64</td><td>i64</td><td>i64</td><td>i64</td><td>i64</td><td>i64</td></tr></thead><tbody><tr><td>1001349</td><td>&quot;2016/17&quot;</td><td>&quot;2017-02-17&quot;</td><td>&quot;Melbourne Cricket Ground&quot;</td><td>1</td><td>0.1</td><td>&quot;Australia&quot;</td><td>&quot;Sri Lanka&quot;</td><td>&quot;AJ Finch&quot;</td><td>&quot;M Klinger&quot;</td><td>&quot;SL Malinga&quot;</td><td>0</td><td>0</td><td>0</td><td>0</td><td>0</td><td>0</td><td>0</td><td>0</td><td>0</td><td>0</td><td>0</td></tr><tr><td>1001349</td><td>&quot;2016/17&quot;</td><td>&quot;2017-02-17&quot;</td><td>&quot;Melbourne Cricket Ground&quot;</td><td>1</td><td>0.2</td><td>&quot;Australia&quot;</td><td>&quot;Sri Lanka&quot;</td><td>&quot;AJ Finch&quot;</td><td>&quot;M Klinger&quot;</td><td>&quot;SL Malinga&quot;</td><td>0</td><td>0</td><td>0</td><td>0</td><td>0</td><td>0</td><td>0</td><td>0</td><td>0</td><td>0</td><td>0</td></tr><tr><td>1001349</td><td>&quot;2016/17&quot;</td><td>&quot;2017-02-17&quot;</td><td>&quot;Melbourne Cricket Ground&quot;</td><td>1</td><td>0.3</td><td>&quot;Australia&quot;</td><td>&quot;Sri Lanka&quot;</td><td>&quot;AJ Finch&quot;</td><td>&quot;M Klinger&quot;</td><td>&quot;SL Malinga&quot;</td><td>1</td><td>0</td><td>0</td><td>0</td><td>0</td><td>0</td><td>0</td><td>0</td><td>0</td><td>0</td><td>0</td></tr><tr><td>1001349</td><td>&quot;2016/17&quot;</td><td>&quot;2017-02-17&quot;</td><td>&quot;Melbourne Cricket Ground&quot;</td><td>1</td><td>0.4</td><td>&quot;Australia&quot;</td><td>&quot;Sri Lanka&quot;</td><td>&quot;M Klinger&quot;</td><td>&quot;AJ Finch&quot;</td><td>&quot;SL Malinga&quot;</td><td>2</td><td>0</td><td>0</td><td>0</td><td>0</td><td>0</td><td>0</td><td>0</td><td>0</td><td>0</td><td>0</td></tr><tr><td>1001349</td><td>&quot;2016/17&quot;</td><td>&quot;2017-02-17&quot;</td><td>&quot;Melbourne Cricket Ground&quot;</td><td>1</td><td>0.5</td><td>&quot;Australia&quot;</td><td>&quot;Sri Lanka&quot;</td><td>&quot;M Klinger&quot;</td><td>&quot;AJ Finch&quot;</td><td>&quot;SL Malinga&quot;</td><td>0</td><td>0</td><td>0</td><td>0</td><td>0</td><td>0</td><td>0</td><td>0</td><td>0</td><td>0</td><td>0</td></tr></tbody></table></div>"
      ],
      "text/plain": [
       "shape: (5, 22)\n",
       "┌──────────┬─────────┬────────────┬────────────┬───┬───────────┬───────────┬───────────┬───────────┐\n",
       "│ match_id ┆ season  ┆ start_date ┆ venue      ┆ … ┆ wicket_ty ┆ player_di ┆ other_wic ┆ other_pla │\n",
       "│ ---      ┆ ---     ┆ ---        ┆ ---        ┆   ┆ pe        ┆ smissed   ┆ ket_type  ┆ yer_dismi │\n",
       "│ i64      ┆ str     ┆ str        ┆ str        ┆   ┆ ---       ┆ ---       ┆ ---       ┆ ssed      │\n",
       "│          ┆         ┆            ┆            ┆   ┆ i64       ┆ i64       ┆ i64       ┆ ---       │\n",
       "│          ┆         ┆            ┆            ┆   ┆           ┆           ┆           ┆ i64       │\n",
       "╞══════════╪═════════╪════════════╪════════════╪═══╪═══════════╪═══════════╪═══════════╪═══════════╡\n",
       "│ 1001349  ┆ 2016/17 ┆ 2017-02-17 ┆ Melbourne  ┆ … ┆ 0         ┆ 0         ┆ 0         ┆ 0         │\n",
       "│          ┆         ┆            ┆ Cricket    ┆   ┆           ┆           ┆           ┆           │\n",
       "│          ┆         ┆            ┆ Ground     ┆   ┆           ┆           ┆           ┆           │\n",
       "│ 1001349  ┆ 2016/17 ┆ 2017-02-17 ┆ Melbourne  ┆ … ┆ 0         ┆ 0         ┆ 0         ┆ 0         │\n",
       "│          ┆         ┆            ┆ Cricket    ┆   ┆           ┆           ┆           ┆           │\n",
       "│          ┆         ┆            ┆ Ground     ┆   ┆           ┆           ┆           ┆           │\n",
       "│ 1001349  ┆ 2016/17 ┆ 2017-02-17 ┆ Melbourne  ┆ … ┆ 0         ┆ 0         ┆ 0         ┆ 0         │\n",
       "│          ┆         ┆            ┆ Cricket    ┆   ┆           ┆           ┆           ┆           │\n",
       "│          ┆         ┆            ┆ Ground     ┆   ┆           ┆           ┆           ┆           │\n",
       "│ 1001349  ┆ 2016/17 ┆ 2017-02-17 ┆ Melbourne  ┆ … ┆ 0         ┆ 0         ┆ 0         ┆ 0         │\n",
       "│          ┆         ┆            ┆ Cricket    ┆   ┆           ┆           ┆           ┆           │\n",
       "│          ┆         ┆            ┆ Ground     ┆   ┆           ┆           ┆           ┆           │\n",
       "│ 1001349  ┆ 2016/17 ┆ 2017-02-17 ┆ Melbourne  ┆ … ┆ 0         ┆ 0         ┆ 0         ┆ 0         │\n",
       "│          ┆         ┆            ┆ Cricket    ┆   ┆           ┆           ┆           ┆           │\n",
       "│          ┆         ┆            ┆ Ground     ┆   ┆           ┆           ┆           ┆           │\n",
       "└──────────┴─────────┴────────────┴────────────┴───┴───────────┴───────────┴───────────┴───────────┘"
      ]
     },
     "execution_count": 14,
     "metadata": {},
     "output_type": "execute_result"
    }
   ],
   "source": [
    "columns = ['noballs','penalty','wicket_type','player_dismissed','other_wicket_type','other_player_dismissed']\n",
    "for column in columns:\n",
    "    deliveries_data = deliveries_data.with_columns(\n",
    "                                            pl.when(pl.col(column).is_null())\n",
    "                                            .then(pl.lit('0'))\n",
    "                                            .otherwise(pl.lit('1')).alias(column).cast(pl.Int64)\n",
    "                                        )\n",
    "deliveries_data.head(5)"
   ]
  },
  {
   "cell_type": "code",
   "execution_count": 15,
   "metadata": {},
   "outputs": [
    {
     "data": {
      "text/html": [
       "<div><style>\n",
       ".dataframe > thead > tr,\n",
       ".dataframe > tbody > tr {\n",
       "  text-align: right;\n",
       "  white-space: pre-wrap;\n",
       "}\n",
       "</style>\n",
       "<small>shape: (1, 22)</small><table border=\"1\" class=\"dataframe\"><thead><tr><th>match_id</th><th>season</th><th>start_date</th><th>venue</th><th>innings</th><th>ball</th><th>batting_team</th><th>bowling_team</th><th>striker</th><th>non_striker</th><th>bowler</th><th>runs_off_bat</th><th>extras</th><th>wides</th><th>noballs</th><th>byes</th><th>legbyes</th><th>penalty</th><th>wicket_type</th><th>player_dismissed</th><th>other_wicket_type</th><th>other_player_dismissed</th></tr><tr><td>u32</td><td>u32</td><td>u32</td><td>u32</td><td>u32</td><td>u32</td><td>u32</td><td>u32</td><td>u32</td><td>u32</td><td>u32</td><td>u32</td><td>u32</td><td>u32</td><td>u32</td><td>u32</td><td>u32</td><td>u32</td><td>u32</td><td>u32</td><td>u32</td><td>u32</td></tr></thead><tbody><tr><td>0</td><td>0</td><td>0</td><td>0</td><td>0</td><td>0</td><td>0</td><td>0</td><td>0</td><td>0</td><td>0</td><td>0</td><td>0</td><td>0</td><td>0</td><td>0</td><td>0</td><td>0</td><td>0</td><td>0</td><td>0</td><td>0</td></tr></tbody></table></div>"
      ],
      "text/plain": [
       "shape: (1, 22)\n",
       "┌──────────┬────────┬────────────┬───────┬───┬─────────────┬─────────────┬────────────┬────────────┐\n",
       "│ match_id ┆ season ┆ start_date ┆ venue ┆ … ┆ wicket_type ┆ player_dism ┆ other_wick ┆ other_play │\n",
       "│ ---      ┆ ---    ┆ ---        ┆ ---   ┆   ┆ ---         ┆ issed       ┆ et_type    ┆ er_dismiss │\n",
       "│ u32      ┆ u32    ┆ u32        ┆ u32   ┆   ┆ u32         ┆ ---         ┆ ---        ┆ ed         │\n",
       "│          ┆        ┆            ┆       ┆   ┆             ┆ u32         ┆ u32        ┆ ---        │\n",
       "│          ┆        ┆            ┆       ┆   ┆             ┆             ┆            ┆ u32        │\n",
       "╞══════════╪════════╪════════════╪═══════╪═══╪═════════════╪═════════════╪════════════╪════════════╡\n",
       "│ 0        ┆ 0      ┆ 0          ┆ 0     ┆ … ┆ 0           ┆ 0           ┆ 0          ┆ 0          │\n",
       "└──────────┴────────┴────────────┴───────┴───┴─────────────┴─────────────┴────────────┴────────────┘"
      ]
     },
     "execution_count": 15,
     "metadata": {},
     "output_type": "execute_result"
    }
   ],
   "source": [
    "deliveries_data.null_count()"
   ]
  },
  {
   "cell_type": "code",
   "execution_count": 16,
   "metadata": {},
   "outputs": [],
   "source": [
    "deliveries_data.write_parquet(os.path.join(r'D:\\github\\localt20\\data\\processedData','deliveries.parquet'))"
   ]
  },
  {
   "cell_type": "code",
   "execution_count": null,
   "metadata": {},
   "outputs": [],
   "source": []
  }
 ],
 "metadata": {
  "kernelspec": {
   "display_name": "eda",
   "language": "python",
   "name": "python3"
  },
  "language_info": {
   "codemirror_mode": {
    "name": "ipython",
    "version": 3
   },
   "file_extension": ".py",
   "mimetype": "text/x-python",
   "name": "python",
   "nbconvert_exporter": "python",
   "pygments_lexer": "ipython3",
   "version": "3.8.19"
  }
 },
 "nbformat": 4,
 "nbformat_minor": 2
}
