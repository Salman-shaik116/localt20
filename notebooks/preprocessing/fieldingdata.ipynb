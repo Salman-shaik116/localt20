{
 "cells": [
  {
   "cell_type": "code",
   "execution_count": 1,
   "metadata": {},
   "outputs": [
    {
     "data": {
      "text/html": [
       "<div><style>\n",
       ".dataframe > thead > tr,\n",
       ".dataframe > tbody > tr {\n",
       "  text-align: right;\n",
       "  white-space: pre-wrap;\n",
       "}\n",
       "</style>\n",
       "<small>shape: (14_082, 11)</small><table border=\"1\" class=\"dataframe\"><thead><tr><th>Player</th><th>Mat</th><th>Inns</th><th>Dis</th><th>Ct</th><th>St</th><th>Ct Wk</th><th>Ct Fi</th><th>MD</th><th>D/I</th><th>Season</th></tr><tr><td>str</td><td>i64</td><td>str</td><td>str</td><td>str</td><td>str</td><td>str</td><td>str</td><td>str</td><td>str</td><td>str</td></tr></thead><tbody><tr><td>&quot;Zulqarnain Haider (PAK)&quot;</td><td>2</td><td>&quot;2&quot;</td><td>&quot;1&quot;</td><td>&quot;0&quot;</td><td>&quot;1&quot;</td><td>&quot;0&quot;</td><td>&quot;0&quot;</td><td>&quot;1 (0ct 1st)&quot;</td><td>&quot;0.5&quot;</td><td>&quot;2010/11&quot;</td></tr><tr><td>&quot;Zulqarnain Haider (PAK)&quot;</td><td>1</td><td>&quot;1&quot;</td><td>&quot;0&quot;</td><td>&quot;0&quot;</td><td>&quot;0&quot;</td><td>&quot;0&quot;</td><td>&quot;0&quot;</td><td>&quot;0&quot;</td><td>&quot;0.0&quot;</td><td>&quot;2006/07&quot;</td></tr><tr><td>&quot;Zulqarnain Haider (ESP)&quot;</td><td>6</td><td>&quot;6&quot;</td><td>&quot;0&quot;</td><td>&quot;0&quot;</td><td>&quot;0&quot;</td><td>&quot;0&quot;</td><td>&quot;0&quot;</td><td>&quot;0&quot;</td><td>&quot;0.0&quot;</td><td>&quot;2022&quot;</td></tr><tr><td>&quot;Zulqarnain Haider (ESP)&quot;</td><td>1</td><td>&quot;1&quot;</td><td>&quot;0&quot;</td><td>&quot;0&quot;</td><td>&quot;0&quot;</td><td>&quot;0&quot;</td><td>&quot;0&quot;</td><td>&quot;0&quot;</td><td>&quot;0.000&quot;</td><td>&quot;2019/20&quot;</td></tr><tr><td>&quot;Zulqarnain Haider (ESP)&quot;</td><td>4</td><td>&quot;4&quot;</td><td>&quot;1&quot;</td><td>&quot;1&quot;</td><td>&quot;0&quot;</td><td>&quot;0&quot;</td><td>&quot;1&quot;</td><td>&quot;1 (1ct 0st)&quot;</td><td>&quot;0.25&quot;</td><td>&quot;2019&quot;</td></tr><tr><td>&hellip;</td><td>&hellip;</td><td>&hellip;</td><td>&hellip;</td><td>&hellip;</td><td>&hellip;</td><td>&hellip;</td><td>&hellip;</td><td>&hellip;</td><td>&hellip;</td><td>&hellip;</td></tr><tr><td>&quot;A Ahmadhel (BUL)&quot;</td><td>2</td><td>&quot;2&quot;</td><td>&quot;0&quot;</td><td>&quot;0&quot;</td><td>&quot;0&quot;</td><td>&quot;0&quot;</td><td>&quot;0&quot;</td><td>&quot;0&quot;</td><td>&quot;0.000&quot;</td><td>&quot;2020/21&quot;</td></tr><tr><td>&quot;A Ahmadhel (BUL)&quot;</td><td>1</td><td>&quot;1&quot;</td><td>&quot;0&quot;</td><td>&quot;0&quot;</td><td>&quot;0&quot;</td><td>&quot;0&quot;</td><td>&quot;0&quot;</td><td>&quot;0&quot;</td><td>&quot;0.000&quot;</td><td>&quot;2020&quot;</td></tr><tr><td>&quot;A Ahmadhel (BUL)&quot;</td><td>3</td><td>&quot;3&quot;</td><td>&quot;0&quot;</td><td>&quot;0&quot;</td><td>&quot;0&quot;</td><td>&quot;0&quot;</td><td>&quot;0&quot;</td><td>&quot;0&quot;</td><td>&quot;0.0&quot;</td><td>&quot;2019/20&quot;</td></tr><tr><td>&quot;A Ahmadhel (BUL)&quot;</td><td>2</td><td>&quot;1&quot;</td><td>&quot;0&quot;</td><td>&quot;0&quot;</td><td>&quot;0&quot;</td><td>&quot;0&quot;</td><td>&quot;0&quot;</td><td>&quot;0&quot;</td><td>&quot;0.0&quot;</td><td>&quot;2023&quot;</td></tr><tr><td>&quot;A Ahmadhel (BUL)&quot;</td><td>3</td><td>&quot;3&quot;</td><td>&quot;0&quot;</td><td>&quot;0&quot;</td><td>&quot;0&quot;</td><td>&quot;0&quot;</td><td>&quot;0&quot;</td><td>&quot;0&quot;</td><td>&quot;0.0&quot;</td><td>&quot;2021&quot;</td></tr></tbody></table></div>"
      ],
      "text/plain": [
       "shape: (14_082, 11)\n",
       "┌─────────────────────────┬─────┬──────┬─────┬───┬───────┬─────────────┬───────┬─────────┐\n",
       "│ Player                  ┆ Mat ┆ Inns ┆ Dis ┆ … ┆ Ct Fi ┆ MD          ┆ D/I   ┆ Season  │\n",
       "│ ---                     ┆ --- ┆ ---  ┆ --- ┆   ┆ ---   ┆ ---         ┆ ---   ┆ ---     │\n",
       "│ str                     ┆ i64 ┆ str  ┆ str ┆   ┆ str   ┆ str         ┆ str   ┆ str     │\n",
       "╞═════════════════════════╪═════╪══════╪═════╪═══╪═══════╪═════════════╪═══════╪═════════╡\n",
       "│ Zulqarnain Haider (PAK) ┆ 2   ┆ 2    ┆ 1   ┆ … ┆ 0     ┆ 1 (0ct 1st) ┆ 0.5   ┆ 2010/11 │\n",
       "│ Zulqarnain Haider (PAK) ┆ 1   ┆ 1    ┆ 0   ┆ … ┆ 0     ┆ 0           ┆ 0.0   ┆ 2006/07 │\n",
       "│ Zulqarnain Haider (ESP) ┆ 6   ┆ 6    ┆ 0   ┆ … ┆ 0     ┆ 0           ┆ 0.0   ┆ 2022    │\n",
       "│ Zulqarnain Haider (ESP) ┆ 1   ┆ 1    ┆ 0   ┆ … ┆ 0     ┆ 0           ┆ 0.000 ┆ 2019/20 │\n",
       "│ Zulqarnain Haider (ESP) ┆ 4   ┆ 4    ┆ 1   ┆ … ┆ 1     ┆ 1 (1ct 0st) ┆ 0.25  ┆ 2019    │\n",
       "│ …                       ┆ …   ┆ …    ┆ …   ┆ … ┆ …     ┆ …           ┆ …     ┆ …       │\n",
       "│ A Ahmadhel (BUL)        ┆ 2   ┆ 2    ┆ 0   ┆ … ┆ 0     ┆ 0           ┆ 0.000 ┆ 2020/21 │\n",
       "│ A Ahmadhel (BUL)        ┆ 1   ┆ 1    ┆ 0   ┆ … ┆ 0     ┆ 0           ┆ 0.000 ┆ 2020    │\n",
       "│ A Ahmadhel (BUL)        ┆ 3   ┆ 3    ┆ 0   ┆ … ┆ 0     ┆ 0           ┆ 0.0   ┆ 2019/20 │\n",
       "│ A Ahmadhel (BUL)        ┆ 2   ┆ 1    ┆ 0   ┆ … ┆ 0     ┆ 0           ┆ 0.0   ┆ 2023    │\n",
       "│ A Ahmadhel (BUL)        ┆ 3   ┆ 3    ┆ 0   ┆ … ┆ 0     ┆ 0           ┆ 0.0   ┆ 2021    │\n",
       "└─────────────────────────┴─────┴──────┴─────┴───┴───────┴─────────────┴───────┴─────────┘"
      ]
     },
     "execution_count": 1,
     "metadata": {},
     "output_type": "execute_result"
    }
   ],
   "source": [
    "import os\n",
    "import glob\n",
    "import polars as pl\n",
    "import pandas as pd\n",
    "\n",
    "# Specify the directory where your CSV files are located\n",
    "directory = r'D:\\github\\localt20\\data'\n",
    "\n",
    "fielding_data = pl.read_csv(os.path.join(directory, 't20_fielding_stats.csv'),infer_schema_length=4000)\n",
    "fielding_data"
   ]
  },
  {
   "cell_type": "code",
   "execution_count": 2,
   "metadata": {},
   "outputs": [
    {
     "data": {
      "text/html": [
       "<div><style>\n",
       ".dataframe > thead > tr,\n",
       ".dataframe > tbody > tr {\n",
       "  text-align: right;\n",
       "  white-space: pre-wrap;\n",
       "}\n",
       "</style>\n",
       "<small>shape: (14_082, 8)</small><table border=\"1\" class=\"dataframe\"><thead><tr><th>Player</th><th>Mat</th><th>Inns</th><th>Dis</th><th>Ct</th><th>St</th><th>D/I</th><th>Season</th></tr><tr><td>str</td><td>i64</td><td>str</td><td>str</td><td>str</td><td>str</td><td>str</td><td>str</td></tr></thead><tbody><tr><td>&quot;A Ahmadhel (BUL)&quot;</td><td>3</td><td>&quot;3&quot;</td><td>&quot;0&quot;</td><td>&quot;0&quot;</td><td>&quot;0&quot;</td><td>&quot;0.0&quot;</td><td>&quot;2019/20&quot;</td></tr><tr><td>&quot;A Ahmadhel (BUL)&quot;</td><td>1</td><td>&quot;1&quot;</td><td>&quot;0&quot;</td><td>&quot;0&quot;</td><td>&quot;0&quot;</td><td>&quot;0.000&quot;</td><td>&quot;2020&quot;</td></tr><tr><td>&quot;A Ahmadhel (BUL)&quot;</td><td>2</td><td>&quot;2&quot;</td><td>&quot;0&quot;</td><td>&quot;0&quot;</td><td>&quot;0&quot;</td><td>&quot;0.000&quot;</td><td>&quot;2020/21&quot;</td></tr><tr><td>&quot;A Ahmadhel (BUL)&quot;</td><td>3</td><td>&quot;3&quot;</td><td>&quot;0&quot;</td><td>&quot;0&quot;</td><td>&quot;0&quot;</td><td>&quot;0.0&quot;</td><td>&quot;2021&quot;</td></tr><tr><td>&quot;A Ahmadhel (BUL)&quot;</td><td>2</td><td>&quot;1&quot;</td><td>&quot;0&quot;</td><td>&quot;0&quot;</td><td>&quot;0&quot;</td><td>&quot;0.0&quot;</td><td>&quot;2023&quot;</td></tr><tr><td>&hellip;</td><td>&hellip;</td><td>&hellip;</td><td>&hellip;</td><td>&hellip;</td><td>&hellip;</td><td>&hellip;</td><td>&hellip;</td></tr><tr><td>&quot;Zulqarnain Haider (ESP)&quot;</td><td>4</td><td>&quot;4&quot;</td><td>&quot;1&quot;</td><td>&quot;1&quot;</td><td>&quot;0&quot;</td><td>&quot;0.25&quot;</td><td>&quot;2019&quot;</td></tr><tr><td>&quot;Zulqarnain Haider (ESP)&quot;</td><td>1</td><td>&quot;1&quot;</td><td>&quot;0&quot;</td><td>&quot;0&quot;</td><td>&quot;0&quot;</td><td>&quot;0.000&quot;</td><td>&quot;2019/20&quot;</td></tr><tr><td>&quot;Zulqarnain Haider (ESP)&quot;</td><td>6</td><td>&quot;6&quot;</td><td>&quot;0&quot;</td><td>&quot;0&quot;</td><td>&quot;0&quot;</td><td>&quot;0.0&quot;</td><td>&quot;2022&quot;</td></tr><tr><td>&quot;Zulqarnain Haider (PAK)&quot;</td><td>1</td><td>&quot;1&quot;</td><td>&quot;0&quot;</td><td>&quot;0&quot;</td><td>&quot;0&quot;</td><td>&quot;0.0&quot;</td><td>&quot;2006/07&quot;</td></tr><tr><td>&quot;Zulqarnain Haider (PAK)&quot;</td><td>2</td><td>&quot;2&quot;</td><td>&quot;1&quot;</td><td>&quot;0&quot;</td><td>&quot;1&quot;</td><td>&quot;0.5&quot;</td><td>&quot;2010/11&quot;</td></tr></tbody></table></div>"
      ],
      "text/plain": [
       "shape: (14_082, 8)\n",
       "┌─────────────────────────┬─────┬──────┬─────┬─────┬─────┬───────┬─────────┐\n",
       "│ Player                  ┆ Mat ┆ Inns ┆ Dis ┆ Ct  ┆ St  ┆ D/I   ┆ Season  │\n",
       "│ ---                     ┆ --- ┆ ---  ┆ --- ┆ --- ┆ --- ┆ ---   ┆ ---     │\n",
       "│ str                     ┆ i64 ┆ str  ┆ str ┆ str ┆ str ┆ str   ┆ str     │\n",
       "╞═════════════════════════╪═════╪══════╪═════╪═════╪═════╪═══════╪═════════╡\n",
       "│ A Ahmadhel (BUL)        ┆ 3   ┆ 3    ┆ 0   ┆ 0   ┆ 0   ┆ 0.0   ┆ 2019/20 │\n",
       "│ A Ahmadhel (BUL)        ┆ 1   ┆ 1    ┆ 0   ┆ 0   ┆ 0   ┆ 0.000 ┆ 2020    │\n",
       "│ A Ahmadhel (BUL)        ┆ 2   ┆ 2    ┆ 0   ┆ 0   ┆ 0   ┆ 0.000 ┆ 2020/21 │\n",
       "│ A Ahmadhel (BUL)        ┆ 3   ┆ 3    ┆ 0   ┆ 0   ┆ 0   ┆ 0.0   ┆ 2021    │\n",
       "│ A Ahmadhel (BUL)        ┆ 2   ┆ 1    ┆ 0   ┆ 0   ┆ 0   ┆ 0.0   ┆ 2023    │\n",
       "│ …                       ┆ …   ┆ …    ┆ …   ┆ …   ┆ …   ┆ …     ┆ …       │\n",
       "│ Zulqarnain Haider (ESP) ┆ 4   ┆ 4    ┆ 1   ┆ 1   ┆ 0   ┆ 0.25  ┆ 2019    │\n",
       "│ Zulqarnain Haider (ESP) ┆ 1   ┆ 1    ┆ 0   ┆ 0   ┆ 0   ┆ 0.000 ┆ 2019/20 │\n",
       "│ Zulqarnain Haider (ESP) ┆ 6   ┆ 6    ┆ 0   ┆ 0   ┆ 0   ┆ 0.0   ┆ 2022    │\n",
       "│ Zulqarnain Haider (PAK) ┆ 1   ┆ 1    ┆ 0   ┆ 0   ┆ 0   ┆ 0.0   ┆ 2006/07 │\n",
       "│ Zulqarnain Haider (PAK) ┆ 2   ┆ 2    ┆ 1   ┆ 0   ┆ 1   ┆ 0.5   ┆ 2010/11 │\n",
       "└─────────────────────────┴─────┴──────┴─────┴─────┴─────┴───────┴─────────┘"
      ]
     },
     "execution_count": 2,
     "metadata": {},
     "output_type": "execute_result"
    }
   ],
   "source": [
    "fielding_data = fielding_data.select(['Player',\"Mat\",\"Inns\",\"Dis\",\"Ct\",\"St\",\"D/I\",\"Season\"]).sort([\"Player\",\"Season\"])\n",
    "fielding_data"
   ]
  },
  {
   "cell_type": "code",
   "execution_count": 3,
   "metadata": {},
   "outputs": [
    {
     "data": {
      "text/html": [
       "<div><style>\n",
       ".dataframe > thead > tr,\n",
       ".dataframe > tbody > tr {\n",
       "  text-align: right;\n",
       "  white-space: pre-wrap;\n",
       "}\n",
       "</style>\n",
       "<small>shape: (14_082, 8)</small><table border=\"1\" class=\"dataframe\"><thead><tr><th>Player</th><th>Mat</th><th>Inns</th><th>Dis</th><th>Ct</th><th>St</th><th>D/I</th><th>Season</th></tr><tr><td>str</td><td>i64</td><td>f64</td><td>f64</td><td>f64</td><td>f64</td><td>f64</td><td>str</td></tr></thead><tbody><tr><td>&quot;A Ahmadhel (BUL)&quot;</td><td>3</td><td>3.0</td><td>0.0</td><td>0.0</td><td>0.0</td><td>0.0</td><td>&quot;2019/20&quot;</td></tr><tr><td>&quot;A Ahmadhel (BUL)&quot;</td><td>1</td><td>1.0</td><td>0.0</td><td>0.0</td><td>0.0</td><td>0.0</td><td>&quot;2020&quot;</td></tr><tr><td>&quot;A Ahmadhel (BUL)&quot;</td><td>2</td><td>2.0</td><td>0.0</td><td>0.0</td><td>0.0</td><td>0.0</td><td>&quot;2020/21&quot;</td></tr><tr><td>&quot;A Ahmadhel (BUL)&quot;</td><td>3</td><td>3.0</td><td>0.0</td><td>0.0</td><td>0.0</td><td>0.0</td><td>&quot;2021&quot;</td></tr><tr><td>&quot;A Ahmadhel (BUL)&quot;</td><td>2</td><td>1.0</td><td>0.0</td><td>0.0</td><td>0.0</td><td>0.0</td><td>&quot;2023&quot;</td></tr><tr><td>&hellip;</td><td>&hellip;</td><td>&hellip;</td><td>&hellip;</td><td>&hellip;</td><td>&hellip;</td><td>&hellip;</td><td>&hellip;</td></tr><tr><td>&quot;Zulqarnain Haider (ESP)&quot;</td><td>4</td><td>4.0</td><td>1.0</td><td>1.0</td><td>0.0</td><td>0.25</td><td>&quot;2019&quot;</td></tr><tr><td>&quot;Zulqarnain Haider (ESP)&quot;</td><td>1</td><td>1.0</td><td>0.0</td><td>0.0</td><td>0.0</td><td>0.0</td><td>&quot;2019/20&quot;</td></tr><tr><td>&quot;Zulqarnain Haider (ESP)&quot;</td><td>6</td><td>6.0</td><td>0.0</td><td>0.0</td><td>0.0</td><td>0.0</td><td>&quot;2022&quot;</td></tr><tr><td>&quot;Zulqarnain Haider (PAK)&quot;</td><td>1</td><td>1.0</td><td>0.0</td><td>0.0</td><td>0.0</td><td>0.0</td><td>&quot;2006/07&quot;</td></tr><tr><td>&quot;Zulqarnain Haider (PAK)&quot;</td><td>2</td><td>2.0</td><td>1.0</td><td>0.0</td><td>1.0</td><td>0.5</td><td>&quot;2010/11&quot;</td></tr></tbody></table></div>"
      ],
      "text/plain": [
       "shape: (14_082, 8)\n",
       "┌─────────────────────────┬─────┬──────┬─────┬─────┬─────┬──────┬─────────┐\n",
       "│ Player                  ┆ Mat ┆ Inns ┆ Dis ┆ Ct  ┆ St  ┆ D/I  ┆ Season  │\n",
       "│ ---                     ┆ --- ┆ ---  ┆ --- ┆ --- ┆ --- ┆ ---  ┆ ---     │\n",
       "│ str                     ┆ i64 ┆ f64  ┆ f64 ┆ f64 ┆ f64 ┆ f64  ┆ str     │\n",
       "╞═════════════════════════╪═════╪══════╪═════╪═════╪═════╪══════╪═════════╡\n",
       "│ A Ahmadhel (BUL)        ┆ 3   ┆ 3.0  ┆ 0.0 ┆ 0.0 ┆ 0.0 ┆ 0.0  ┆ 2019/20 │\n",
       "│ A Ahmadhel (BUL)        ┆ 1   ┆ 1.0  ┆ 0.0 ┆ 0.0 ┆ 0.0 ┆ 0.0  ┆ 2020    │\n",
       "│ A Ahmadhel (BUL)        ┆ 2   ┆ 2.0  ┆ 0.0 ┆ 0.0 ┆ 0.0 ┆ 0.0  ┆ 2020/21 │\n",
       "│ A Ahmadhel (BUL)        ┆ 3   ┆ 3.0  ┆ 0.0 ┆ 0.0 ┆ 0.0 ┆ 0.0  ┆ 2021    │\n",
       "│ A Ahmadhel (BUL)        ┆ 2   ┆ 1.0  ┆ 0.0 ┆ 0.0 ┆ 0.0 ┆ 0.0  ┆ 2023    │\n",
       "│ …                       ┆ …   ┆ …    ┆ …   ┆ …   ┆ …   ┆ …    ┆ …       │\n",
       "│ Zulqarnain Haider (ESP) ┆ 4   ┆ 4.0  ┆ 1.0 ┆ 1.0 ┆ 0.0 ┆ 0.25 ┆ 2019    │\n",
       "│ Zulqarnain Haider (ESP) ┆ 1   ┆ 1.0  ┆ 0.0 ┆ 0.0 ┆ 0.0 ┆ 0.0  ┆ 2019/20 │\n",
       "│ Zulqarnain Haider (ESP) ┆ 6   ┆ 6.0  ┆ 0.0 ┆ 0.0 ┆ 0.0 ┆ 0.0  ┆ 2022    │\n",
       "│ Zulqarnain Haider (PAK) ┆ 1   ┆ 1.0  ┆ 0.0 ┆ 0.0 ┆ 0.0 ┆ 0.0  ┆ 2006/07 │\n",
       "│ Zulqarnain Haider (PAK) ┆ 2   ┆ 2.0  ┆ 1.0 ┆ 0.0 ┆ 1.0 ┆ 0.5  ┆ 2010/11 │\n",
       "└─────────────────────────┴─────┴──────┴─────┴─────┴─────┴──────┴─────────┘"
      ]
     },
     "execution_count": 3,
     "metadata": {},
     "output_type": "execute_result"
    }
   ],
   "source": [
    "fielding_data = fielding_data.with_columns(pl.col(\"Inns\").str.replace('-',pl.lit(\"0\")).cast(pl.Float64))\n",
    "fielding_data = fielding_data.with_columns(pl.col(\"Dis\").str.replace('-',pl.lit(\"0\")).cast(pl.Float64))\n",
    "fielding_data = fielding_data.with_columns(pl.col(\"Ct\").str.replace('-',pl.lit(\"0\")).cast(pl.Float64))\n",
    "fielding_data = fielding_data.with_columns(pl.col(\"St\").str.replace('-',pl.lit(\"0\")).cast(pl.Float64))\n",
    "fielding_data = fielding_data.with_columns(pl.col(\"D/I\").str.replace(\"-\",pl.col('Dis')/pl.col(\"Inns\")).cast(pl.Float64).fill_nan(0).round(2))\n",
    "fielding_data"
   ]
  },
  {
   "cell_type": "code",
   "execution_count": 4,
   "metadata": {},
   "outputs": [
    {
     "data": {
      "text/html": [
       "<div><style>\n",
       ".dataframe > thead > tr,\n",
       ".dataframe > tbody > tr {\n",
       "  text-align: right;\n",
       "  white-space: pre-wrap;\n",
       "}\n",
       "</style>\n",
       "<small>shape: (14_082, 9)</small><table border=\"1\" class=\"dataframe\"><thead><tr><th>Player</th><th>Mat</th><th>Inns</th><th>Dis</th><th>Ct</th><th>St</th><th>D/I</th><th>Season</th><th>Country</th></tr><tr><td>str</td><td>i64</td><td>f64</td><td>f64</td><td>f64</td><td>f64</td><td>f64</td><td>str</td><td>str</td></tr></thead><tbody><tr><td>&quot;A Ahmadhel&quot;</td><td>3</td><td>3.0</td><td>0.0</td><td>0.0</td><td>0.0</td><td>0.0</td><td>&quot;2019/20&quot;</td><td>&quot;BUL)&quot;</td></tr><tr><td>&quot;A Ahmadhel&quot;</td><td>1</td><td>1.0</td><td>0.0</td><td>0.0</td><td>0.0</td><td>0.0</td><td>&quot;2020&quot;</td><td>&quot;BUL)&quot;</td></tr><tr><td>&quot;A Ahmadhel&quot;</td><td>2</td><td>2.0</td><td>0.0</td><td>0.0</td><td>0.0</td><td>0.0</td><td>&quot;2020/21&quot;</td><td>&quot;BUL)&quot;</td></tr><tr><td>&quot;A Ahmadhel&quot;</td><td>3</td><td>3.0</td><td>0.0</td><td>0.0</td><td>0.0</td><td>0.0</td><td>&quot;2021&quot;</td><td>&quot;BUL)&quot;</td></tr><tr><td>&quot;A Ahmadhel&quot;</td><td>2</td><td>1.0</td><td>0.0</td><td>0.0</td><td>0.0</td><td>0.0</td><td>&quot;2023&quot;</td><td>&quot;BUL)&quot;</td></tr><tr><td>&hellip;</td><td>&hellip;</td><td>&hellip;</td><td>&hellip;</td><td>&hellip;</td><td>&hellip;</td><td>&hellip;</td><td>&hellip;</td><td>&hellip;</td></tr><tr><td>&quot;Zulqarnain Haider&quot;</td><td>4</td><td>4.0</td><td>1.0</td><td>1.0</td><td>0.0</td><td>0.25</td><td>&quot;2019&quot;</td><td>&quot;ESP)&quot;</td></tr><tr><td>&quot;Zulqarnain Haider&quot;</td><td>1</td><td>1.0</td><td>0.0</td><td>0.0</td><td>0.0</td><td>0.0</td><td>&quot;2019/20&quot;</td><td>&quot;ESP)&quot;</td></tr><tr><td>&quot;Zulqarnain Haider&quot;</td><td>6</td><td>6.0</td><td>0.0</td><td>0.0</td><td>0.0</td><td>0.0</td><td>&quot;2022&quot;</td><td>&quot;ESP)&quot;</td></tr><tr><td>&quot;Zulqarnain Haider&quot;</td><td>1</td><td>1.0</td><td>0.0</td><td>0.0</td><td>0.0</td><td>0.0</td><td>&quot;2006/07&quot;</td><td>&quot;PAK)&quot;</td></tr><tr><td>&quot;Zulqarnain Haider&quot;</td><td>2</td><td>2.0</td><td>1.0</td><td>0.0</td><td>1.0</td><td>0.5</td><td>&quot;2010/11&quot;</td><td>&quot;PAK)&quot;</td></tr></tbody></table></div>"
      ],
      "text/plain": [
       "shape: (14_082, 9)\n",
       "┌───────────────────┬─────┬──────┬─────┬───┬─────┬──────┬─────────┬─────────┐\n",
       "│ Player            ┆ Mat ┆ Inns ┆ Dis ┆ … ┆ St  ┆ D/I  ┆ Season  ┆ Country │\n",
       "│ ---               ┆ --- ┆ ---  ┆ --- ┆   ┆ --- ┆ ---  ┆ ---     ┆ ---     │\n",
       "│ str               ┆ i64 ┆ f64  ┆ f64 ┆   ┆ f64 ┆ f64  ┆ str     ┆ str     │\n",
       "╞═══════════════════╪═════╪══════╪═════╪═══╪═════╪══════╪═════════╪═════════╡\n",
       "│ A Ahmadhel        ┆ 3   ┆ 3.0  ┆ 0.0 ┆ … ┆ 0.0 ┆ 0.0  ┆ 2019/20 ┆ BUL)    │\n",
       "│ A Ahmadhel        ┆ 1   ┆ 1.0  ┆ 0.0 ┆ … ┆ 0.0 ┆ 0.0  ┆ 2020    ┆ BUL)    │\n",
       "│ A Ahmadhel        ┆ 2   ┆ 2.0  ┆ 0.0 ┆ … ┆ 0.0 ┆ 0.0  ┆ 2020/21 ┆ BUL)    │\n",
       "│ A Ahmadhel        ┆ 3   ┆ 3.0  ┆ 0.0 ┆ … ┆ 0.0 ┆ 0.0  ┆ 2021    ┆ BUL)    │\n",
       "│ A Ahmadhel        ┆ 2   ┆ 1.0  ┆ 0.0 ┆ … ┆ 0.0 ┆ 0.0  ┆ 2023    ┆ BUL)    │\n",
       "│ …                 ┆ …   ┆ …    ┆ …   ┆ … ┆ …   ┆ …    ┆ …       ┆ …       │\n",
       "│ Zulqarnain Haider ┆ 4   ┆ 4.0  ┆ 1.0 ┆ … ┆ 0.0 ┆ 0.25 ┆ 2019    ┆ ESP)    │\n",
       "│ Zulqarnain Haider ┆ 1   ┆ 1.0  ┆ 0.0 ┆ … ┆ 0.0 ┆ 0.0  ┆ 2019/20 ┆ ESP)    │\n",
       "│ Zulqarnain Haider ┆ 6   ┆ 6.0  ┆ 0.0 ┆ … ┆ 0.0 ┆ 0.0  ┆ 2022    ┆ ESP)    │\n",
       "│ Zulqarnain Haider ┆ 1   ┆ 1.0  ┆ 0.0 ┆ … ┆ 0.0 ┆ 0.0  ┆ 2006/07 ┆ PAK)    │\n",
       "│ Zulqarnain Haider ┆ 2   ┆ 2.0  ┆ 1.0 ┆ … ┆ 1.0 ┆ 0.5  ┆ 2010/11 ┆ PAK)    │\n",
       "└───────────────────┴─────┴──────┴─────┴───┴─────┴──────┴─────────┴─────────┘"
      ]
     },
     "execution_count": 4,
     "metadata": {},
     "output_type": "execute_result"
    }
   ],
   "source": [
    "fielding_data = fielding_data.with_columns(fielding_data['Player'].str.split_exact(' (', n=1).struct.rename_fields(['Player', 'Country']).alias('Player').to_frame().unnest('Player'))\n",
    "fielding_data"
   ]
  },
  {
   "cell_type": "code",
   "execution_count": 5,
   "metadata": {},
   "outputs": [
    {
     "data": {
      "text/html": [
       "<div><style>\n",
       ".dataframe > thead > tr,\n",
       ".dataframe > tbody > tr {\n",
       "  text-align: right;\n",
       "  white-space: pre-wrap;\n",
       "}\n",
       "</style>\n",
       "<small>shape: (14_082, 9)</small><table border=\"1\" class=\"dataframe\"><thead><tr><th>Player</th><th>Mat</th><th>Inns</th><th>Dis</th><th>Ct</th><th>St</th><th>D/I</th><th>Season</th><th>Country</th></tr><tr><td>str</td><td>i64</td><td>f64</td><td>f64</td><td>f64</td><td>f64</td><td>f64</td><td>str</td><td>str</td></tr></thead><tbody><tr><td>&quot;A Ahmadhel&quot;</td><td>3</td><td>3.0</td><td>0.0</td><td>0.0</td><td>0.0</td><td>0.0</td><td>&quot;2019/20&quot;</td><td>&quot;BUL&quot;</td></tr><tr><td>&quot;A Ahmadhel&quot;</td><td>1</td><td>1.0</td><td>0.0</td><td>0.0</td><td>0.0</td><td>0.0</td><td>&quot;2020&quot;</td><td>&quot;BUL&quot;</td></tr><tr><td>&quot;A Ahmadhel&quot;</td><td>2</td><td>2.0</td><td>0.0</td><td>0.0</td><td>0.0</td><td>0.0</td><td>&quot;2020/21&quot;</td><td>&quot;BUL&quot;</td></tr><tr><td>&quot;A Ahmadhel&quot;</td><td>3</td><td>3.0</td><td>0.0</td><td>0.0</td><td>0.0</td><td>0.0</td><td>&quot;2021&quot;</td><td>&quot;BUL&quot;</td></tr><tr><td>&quot;A Ahmadhel&quot;</td><td>2</td><td>1.0</td><td>0.0</td><td>0.0</td><td>0.0</td><td>0.0</td><td>&quot;2023&quot;</td><td>&quot;BUL&quot;</td></tr><tr><td>&hellip;</td><td>&hellip;</td><td>&hellip;</td><td>&hellip;</td><td>&hellip;</td><td>&hellip;</td><td>&hellip;</td><td>&hellip;</td><td>&hellip;</td></tr><tr><td>&quot;Zulqarnain Haider&quot;</td><td>4</td><td>4.0</td><td>1.0</td><td>1.0</td><td>0.0</td><td>0.25</td><td>&quot;2019&quot;</td><td>&quot;ESP&quot;</td></tr><tr><td>&quot;Zulqarnain Haider&quot;</td><td>1</td><td>1.0</td><td>0.0</td><td>0.0</td><td>0.0</td><td>0.0</td><td>&quot;2019/20&quot;</td><td>&quot;ESP&quot;</td></tr><tr><td>&quot;Zulqarnain Haider&quot;</td><td>6</td><td>6.0</td><td>0.0</td><td>0.0</td><td>0.0</td><td>0.0</td><td>&quot;2022&quot;</td><td>&quot;ESP&quot;</td></tr><tr><td>&quot;Zulqarnain Haider&quot;</td><td>1</td><td>1.0</td><td>0.0</td><td>0.0</td><td>0.0</td><td>0.0</td><td>&quot;2006/07&quot;</td><td>&quot;PAK&quot;</td></tr><tr><td>&quot;Zulqarnain Haider&quot;</td><td>2</td><td>2.0</td><td>1.0</td><td>0.0</td><td>1.0</td><td>0.5</td><td>&quot;2010/11&quot;</td><td>&quot;PAK&quot;</td></tr></tbody></table></div>"
      ],
      "text/plain": [
       "shape: (14_082, 9)\n",
       "┌───────────────────┬─────┬──────┬─────┬───┬─────┬──────┬─────────┬─────────┐\n",
       "│ Player            ┆ Mat ┆ Inns ┆ Dis ┆ … ┆ St  ┆ D/I  ┆ Season  ┆ Country │\n",
       "│ ---               ┆ --- ┆ ---  ┆ --- ┆   ┆ --- ┆ ---  ┆ ---     ┆ ---     │\n",
       "│ str               ┆ i64 ┆ f64  ┆ f64 ┆   ┆ f64 ┆ f64  ┆ str     ┆ str     │\n",
       "╞═══════════════════╪═════╪══════╪═════╪═══╪═════╪══════╪═════════╪═════════╡\n",
       "│ A Ahmadhel        ┆ 3   ┆ 3.0  ┆ 0.0 ┆ … ┆ 0.0 ┆ 0.0  ┆ 2019/20 ┆ BUL     │\n",
       "│ A Ahmadhel        ┆ 1   ┆ 1.0  ┆ 0.0 ┆ … ┆ 0.0 ┆ 0.0  ┆ 2020    ┆ BUL     │\n",
       "│ A Ahmadhel        ┆ 2   ┆ 2.0  ┆ 0.0 ┆ … ┆ 0.0 ┆ 0.0  ┆ 2020/21 ┆ BUL     │\n",
       "│ A Ahmadhel        ┆ 3   ┆ 3.0  ┆ 0.0 ┆ … ┆ 0.0 ┆ 0.0  ┆ 2021    ┆ BUL     │\n",
       "│ A Ahmadhel        ┆ 2   ┆ 1.0  ┆ 0.0 ┆ … ┆ 0.0 ┆ 0.0  ┆ 2023    ┆ BUL     │\n",
       "│ …                 ┆ …   ┆ …    ┆ …   ┆ … ┆ …   ┆ …    ┆ …       ┆ …       │\n",
       "│ Zulqarnain Haider ┆ 4   ┆ 4.0  ┆ 1.0 ┆ … ┆ 0.0 ┆ 0.25 ┆ 2019    ┆ ESP     │\n",
       "│ Zulqarnain Haider ┆ 1   ┆ 1.0  ┆ 0.0 ┆ … ┆ 0.0 ┆ 0.0  ┆ 2019/20 ┆ ESP     │\n",
       "│ Zulqarnain Haider ┆ 6   ┆ 6.0  ┆ 0.0 ┆ … ┆ 0.0 ┆ 0.0  ┆ 2022    ┆ ESP     │\n",
       "│ Zulqarnain Haider ┆ 1   ┆ 1.0  ┆ 0.0 ┆ … ┆ 0.0 ┆ 0.0  ┆ 2006/07 ┆ PAK     │\n",
       "│ Zulqarnain Haider ┆ 2   ┆ 2.0  ┆ 1.0 ┆ … ┆ 1.0 ┆ 0.5  ┆ 2010/11 ┆ PAK     │\n",
       "└───────────────────┴─────┴──────┴─────┴───┴─────┴──────┴─────────┴─────────┘"
      ]
     },
     "execution_count": 5,
     "metadata": {},
     "output_type": "execute_result"
    }
   ],
   "source": [
    "fielding_data = fielding_data.with_columns(fielding_data['Country'].str.replace(r'\\)', ''))\n",
    "fielding_data"
   ]
  },
  {
   "cell_type": "code",
   "execution_count": 6,
   "metadata": {},
   "outputs": [
    {
     "data": {
      "text/html": [
       "<div><style>\n",
       ".dataframe > thead > tr,\n",
       ".dataframe > tbody > tr {\n",
       "  text-align: right;\n",
       "  white-space: pre-wrap;\n",
       "}\n",
       "</style>\n",
       "<small>shape: (10, 9)</small><table border=\"1\" class=\"dataframe\"><thead><tr><th>Player</th><th>Mat</th><th>Inns</th><th>Dis</th><th>Ct</th><th>St</th><th>D/I</th><th>Season</th><th>Country</th></tr><tr><td>str</td><td>i64</td><td>f64</td><td>f64</td><td>f64</td><td>f64</td><td>f64</td><td>str</td><td>str</td></tr></thead><tbody><tr><td>&quot;A Ahmadhel&quot;</td><td>3</td><td>3.0</td><td>0.0</td><td>0.0</td><td>0.0</td><td>0.0</td><td>&quot;2019/20&quot;</td><td>&quot;BUL&quot;</td></tr><tr><td>&quot;A Ahmadhel&quot;</td><td>1</td><td>1.0</td><td>0.0</td><td>0.0</td><td>0.0</td><td>0.0</td><td>&quot;2020&quot;</td><td>&quot;BUL&quot;</td></tr><tr><td>&quot;A Ahmadhel&quot;</td><td>2</td><td>2.0</td><td>0.0</td><td>0.0</td><td>0.0</td><td>0.0</td><td>&quot;2020/21&quot;</td><td>&quot;BUL&quot;</td></tr><tr><td>&quot;A Ahmadhel&quot;</td><td>3</td><td>3.0</td><td>0.0</td><td>0.0</td><td>0.0</td><td>0.0</td><td>&quot;2021&quot;</td><td>&quot;BUL&quot;</td></tr><tr><td>&quot;A Ahmadhel&quot;</td><td>2</td><td>1.0</td><td>0.0</td><td>0.0</td><td>0.0</td><td>0.0</td><td>&quot;2023&quot;</td><td>&quot;BUL&quot;</td></tr><tr><td>&quot;A Ahmadhel&quot;</td><td>1</td><td>1.0</td><td>1.0</td><td>1.0</td><td>0.0</td><td>0.090909</td><td>&quot;2024&quot;</td><td>&quot;BUL&quot;</td></tr><tr><td>&quot;A Alexander&quot;</td><td>1</td><td>1.0</td><td>0.0</td><td>0.0</td><td>0.0</td><td>0.0</td><td>&quot;2024/25&quot;</td><td>&quot;INA&quot;</td></tr><tr><td>&quot;A Amado&quot;</td><td>3</td><td>3.0</td><td>2.0</td><td>2.0</td><td>0.0</td><td>0.666667</td><td>&quot;2022&quot;</td><td>&quot;ISR&quot;</td></tr><tr><td>&quot;A Andrews&quot;</td><td>3</td><td>3.0</td><td>4.0</td><td>4.0</td><td>0.0</td><td>1.333333</td><td>&quot;2021/22&quot;</td><td>&quot;SUI&quot;</td></tr><tr><td>&quot;A Andrews&quot;</td><td>4</td><td>4.0</td><td>7.0</td><td>7.0</td><td>0.0</td><td>1.0</td><td>&quot;2022&quot;</td><td>&quot;SUI&quot;</td></tr></tbody></table></div>"
      ],
      "text/plain": [
       "shape: (10, 9)\n",
       "┌─────────────┬─────┬──────┬─────┬───┬─────┬──────────┬─────────┬─────────┐\n",
       "│ Player      ┆ Mat ┆ Inns ┆ Dis ┆ … ┆ St  ┆ D/I      ┆ Season  ┆ Country │\n",
       "│ ---         ┆ --- ┆ ---  ┆ --- ┆   ┆ --- ┆ ---      ┆ ---     ┆ ---     │\n",
       "│ str         ┆ i64 ┆ f64  ┆ f64 ┆   ┆ f64 ┆ f64      ┆ str     ┆ str     │\n",
       "╞═════════════╪═════╪══════╪═════╪═══╪═════╪══════════╪═════════╪═════════╡\n",
       "│ A Ahmadhel  ┆ 3   ┆ 3.0  ┆ 0.0 ┆ … ┆ 0.0 ┆ 0.0      ┆ 2019/20 ┆ BUL     │\n",
       "│ A Ahmadhel  ┆ 1   ┆ 1.0  ┆ 0.0 ┆ … ┆ 0.0 ┆ 0.0      ┆ 2020    ┆ BUL     │\n",
       "│ A Ahmadhel  ┆ 2   ┆ 2.0  ┆ 0.0 ┆ … ┆ 0.0 ┆ 0.0      ┆ 2020/21 ┆ BUL     │\n",
       "│ A Ahmadhel  ┆ 3   ┆ 3.0  ┆ 0.0 ┆ … ┆ 0.0 ┆ 0.0      ┆ 2021    ┆ BUL     │\n",
       "│ A Ahmadhel  ┆ 2   ┆ 1.0  ┆ 0.0 ┆ … ┆ 0.0 ┆ 0.0      ┆ 2023    ┆ BUL     │\n",
       "│ A Ahmadhel  ┆ 1   ┆ 1.0  ┆ 1.0 ┆ … ┆ 0.0 ┆ 0.090909 ┆ 2024    ┆ BUL     │\n",
       "│ A Alexander ┆ 1   ┆ 1.0  ┆ 0.0 ┆ … ┆ 0.0 ┆ 0.0      ┆ 2024/25 ┆ INA     │\n",
       "│ A Amado     ┆ 3   ┆ 3.0  ┆ 2.0 ┆ … ┆ 0.0 ┆ 0.666667 ┆ 2022    ┆ ISR     │\n",
       "│ A Andrews   ┆ 3   ┆ 3.0  ┆ 4.0 ┆ … ┆ 0.0 ┆ 1.333333 ┆ 2021/22 ┆ SUI     │\n",
       "│ A Andrews   ┆ 4   ┆ 4.0  ┆ 7.0 ┆ … ┆ 0.0 ┆ 1.0      ┆ 2022    ┆ SUI     │\n",
       "└─────────────┴─────┴──────┴─────┴───┴─────┴──────────┴─────────┴─────────┘"
      ]
     },
     "execution_count": 6,
     "metadata": {},
     "output_type": "execute_result"
    }
   ],
   "source": [
    "fielding_data = fielding_data.with_columns(\n",
    "    pl.col(\"Dis\").cum_sum().over([\"Player\",\"Country\"]),\n",
    "    pl.col(\"Ct\").cum_sum().over([\"Player\",\"Country\"]),\n",
    "    pl.col(\"St\").cum_sum().over([\"Player\",\"Country\"]),\n",
    "    (pl.col(\"Dis\").cum_sum().over([\"Player\",\"Country\"])/pl.col(\"Inns\").cum_sum().over([\"Player\",\"Country\"])).alias(\"D/I\")\n",
    ")\n",
    "fielding_data.head(10)"
   ]
  },
  {
   "cell_type": "code",
   "execution_count": 7,
   "metadata": {},
   "outputs": [
    {
     "data": {
      "text/html": [
       "<div><style>\n",
       ".dataframe > thead > tr,\n",
       ".dataframe > tbody > tr {\n",
       "  text-align: right;\n",
       "  white-space: pre-wrap;\n",
       "}\n",
       "</style>\n",
       "<small>shape: (6, 9)</small><table border=\"1\" class=\"dataframe\"><thead><tr><th>Player</th><th>Mat</th><th>Inns</th><th>Dis</th><th>Ct</th><th>St</th><th>D/I</th><th>Season</th><th>Country</th></tr><tr><td>str</td><td>i64</td><td>f64</td><td>f64</td><td>f64</td><td>f64</td><td>f64</td><td>str</td><td>str</td></tr></thead><tbody><tr><td>&quot;Fayaz Mohammad&quot;</td><td>1</td><td>0.0</td><td>0.0</td><td>0.0</td><td>0.0</td><td>NaN</td><td>&quot;2020&quot;</td><td>&quot;BUL&quot;</td></tr><tr><td>&quot;GMC Mol&quot;</td><td>1</td><td>0.0</td><td>0.0</td><td>0.0</td><td>0.0</td><td>NaN</td><td>&quot;2008&quot;</td><td>&quot;NED&quot;</td></tr><tr><td>&quot;HC Overdijk&quot;</td><td>1</td><td>0.0</td><td>0.0</td><td>0.0</td><td>0.0</td><td>NaN</td><td>&quot;2018&quot;</td><td>&quot;NED&quot;</td></tr><tr><td>&quot;JD Schoonheim&quot;</td><td>1</td><td>0.0</td><td>0.0</td><td>0.0</td><td>0.0</td><td>NaN</td><td>&quot;2008&quot;</td><td>&quot;NED&quot;</td></tr><tr><td>&quot;Yousif Wali&quot;</td><td>1</td><td>0.0</td><td>0.0</td><td>0.0</td><td>0.0</td><td>NaN</td><td>&quot;2022/23&quot;</td><td>&quot;BHR&quot;</td></tr><tr><td>&quot;Zubaid Akbari&quot;</td><td>1</td><td>0.0</td><td>0.0</td><td>0.0</td><td>0.0</td><td>NaN</td><td>&quot;2023&quot;</td><td>&quot;AFG&quot;</td></tr></tbody></table></div>"
      ],
      "text/plain": [
       "shape: (6, 9)\n",
       "┌────────────────┬─────┬──────┬─────┬───┬─────┬─────┬─────────┬─────────┐\n",
       "│ Player         ┆ Mat ┆ Inns ┆ Dis ┆ … ┆ St  ┆ D/I ┆ Season  ┆ Country │\n",
       "│ ---            ┆ --- ┆ ---  ┆ --- ┆   ┆ --- ┆ --- ┆ ---     ┆ ---     │\n",
       "│ str            ┆ i64 ┆ f64  ┆ f64 ┆   ┆ f64 ┆ f64 ┆ str     ┆ str     │\n",
       "╞════════════════╪═════╪══════╪═════╪═══╪═════╪═════╪═════════╪═════════╡\n",
       "│ Fayaz Mohammad ┆ 1   ┆ 0.0  ┆ 0.0 ┆ … ┆ 0.0 ┆ NaN ┆ 2020    ┆ BUL     │\n",
       "│ GMC Mol        ┆ 1   ┆ 0.0  ┆ 0.0 ┆ … ┆ 0.0 ┆ NaN ┆ 2008    ┆ NED     │\n",
       "│ HC Overdijk    ┆ 1   ┆ 0.0  ┆ 0.0 ┆ … ┆ 0.0 ┆ NaN ┆ 2018    ┆ NED     │\n",
       "│ JD Schoonheim  ┆ 1   ┆ 0.0  ┆ 0.0 ┆ … ┆ 0.0 ┆ NaN ┆ 2008    ┆ NED     │\n",
       "│ Yousif Wali    ┆ 1   ┆ 0.0  ┆ 0.0 ┆ … ┆ 0.0 ┆ NaN ┆ 2022/23 ┆ BHR     │\n",
       "│ Zubaid Akbari  ┆ 1   ┆ 0.0  ┆ 0.0 ┆ … ┆ 0.0 ┆ NaN ┆ 2023    ┆ AFG     │\n",
       "└────────────────┴─────┴──────┴─────┴───┴─────┴─────┴─────────┴─────────┘"
      ]
     },
     "execution_count": 7,
     "metadata": {},
     "output_type": "execute_result"
    }
   ],
   "source": [
    "fielding_data.filter(fielding_data['D/I'].is_nan())"
   ]
  },
  {
   "cell_type": "code",
   "execution_count": 8,
   "metadata": {},
   "outputs": [],
   "source": [
    "fielding_data = fielding_data.fill_nan(0)"
   ]
  },
  {
   "cell_type": "code",
   "execution_count": 9,
   "metadata": {},
   "outputs": [
    {
     "data": {
      "text/plain": [
       "(103, 11, 5, 103)"
      ]
     },
     "execution_count": 9,
     "metadata": {},
     "output_type": "execute_result"
    }
   ],
   "source": [
    "country_codes = {\n",
    "    'LES': 'Lesotho',\n",
    "    'BUL': 'Bulgaria',\n",
    "    'VAN': 'Vanuatu',\n",
    "    'ROM': 'Romania',\n",
    "    'Aut': 'Austria',\n",
    "    'COK': 'Cook Islands',\n",
    "    'Fran': 'France',\n",
    "    'SRB': 'Serbia',\n",
    "    'PAK': 'Pakistan',\n",
    "    'HUN': 'Hungary',\n",
    "    'CYP': 'Cyprus',\n",
    "    'Fiji': 'Fiji',\n",
    "    'FIN': 'Finland',\n",
    "    'EST': 'Estonia',\n",
    "    'CHN': 'China',\n",
    "    'GRC': 'Greece',\n",
    "    'CAM': 'Cambodia',\n",
    "    'GUE': 'Guernsey',\n",
    "    'SEY': 'Seychelles',\n",
    "    'JPN': 'Japan',\n",
    "    'TAN': 'Tanzania',\n",
    "    'JER': 'Jersey',\n",
    "    'QAT': 'Qatar',\n",
    "    'ENG': 'England',\n",
    "    'UGA': 'Uganda',\n",
    "    'BER': 'Bermuda',\n",
    "    'CZK-R': 'Czech Republic',\n",
    "    'CAY': 'Cayman Islands',\n",
    "    'IRE': 'Ireland',\n",
    "    'Mali': 'Mali',\n",
    "    'BRA': 'Brazil',\n",
    "    'SUI': 'Switzerland',\n",
    "    'Peru': 'Peru',\n",
    "    'Mex': 'Mexico',\n",
    "    'MOZ': 'Mozambique',\n",
    "    'Samoa': 'Samoa',\n",
    "    'HKG': 'Hong Kong',\n",
    "    'BAN': 'Bangladesh',\n",
    "    'SL': 'Sri Lanka',\n",
    "    'PNG': 'Papua New Guinea',\n",
    "    'ZIM': 'Zimbabwe',\n",
    "    'GHA': 'Ghana',\n",
    "    'SWZ': 'Eswatini',  # Swaziland's official name now is Eswatini\n",
    "    'MYAN': 'Myanmar',\n",
    "    'IND': 'India',\n",
    "    'USA': 'United States of America',\n",
    "    'NEP': 'Nepal',\n",
    "    'AFG': 'Afghanistan',\n",
    "    'PAN': 'Panama',\n",
    "    'NGA': 'Nigeria',\n",
    "    'SLE': 'Sierra Leone',\n",
    "    'ESP': 'Spain',\n",
    "    'Bhm': 'Bahamas',\n",
    "    'TKY': 'Turkey',\n",
    "    'MWI': 'Malawi',\n",
    "    'WI': 'West Indies',\n",
    "    'IOM': 'Isle of Man',\n",
    "    'THA': 'Thailand',\n",
    "    'SWA': 'Eswatini',  # another code for Eswatini\n",
    "    'SKOR': 'South Korea',\n",
    "    'GMB': 'Gambia',\n",
    "    'ISR': 'Israel',\n",
    "    'KUW': 'Kuwait',\n",
    "    'Belg': 'Belgium',\n",
    "    'GER': 'Germany',\n",
    "    'ITA': 'Italy',\n",
    "    'CAN': 'Canada',\n",
    "    'MDV': 'Maldives',\n",
    "    'Blz': 'Belize',\n",
    "    'DEN': 'Denmark',\n",
    "    'INA': 'Indonesia',\n",
    "    'KENYA': 'Kenya',\n",
    "    'LUX': 'Luxembourg',\n",
    "    'STHEL': 'Saint Helena',\n",
    "    'BHR': 'Bahrain',\n",
    "    'KSA': 'Saudi Arabia',\n",
    "    'MLT': 'Malta',\n",
    "    'Arg': 'Argentina',\n",
    "    'MNG': 'Mongolia',\n",
    "    'AUS': 'Australia',\n",
    "    'GIBR': 'Gibraltar',\n",
    "    'SGP': 'Singapore',\n",
    "    'Chile': 'Chile',\n",
    "    'UAE': 'United Arab Emirates',\n",
    "    'NZ': 'New Zealand',\n",
    "    'SCOT': 'Scotland',\n",
    "    'BHU': 'Bhutan',\n",
    "    'MAS': 'Malaysia',\n",
    "    'BOT': 'Botswana',\n",
    "    'CRC': 'Costa Rica',\n",
    "    'PHI': 'Philippines',\n",
    "    'NAM': 'Namibia',\n",
    "    'RWN': 'Rwanda',\n",
    "    'OMA': 'Oman',\n",
    "    'NOR': 'Norway',\n",
    "    'CRT': 'Croatia',\n",
    "    'SWE': 'Sweden',\n",
    "    'Iran': 'Iran',\n",
    "    'PORT': 'Portugal',\n",
    "    'NED': 'Netherlands',\n",
    "    'SA': 'South Africa',\n",
    "    'SVN': 'Slovenia',\n",
    "    'GUE': 'Guernsey',\n",
    "    'MDV': 'Maldives',\n",
    "    'BHM': 'Bahamas',\n",
    "    'SWE': 'Sweden',\n",
    "    'MLT': 'Malta',\n",
    "    'ITA': 'Italy',\n",
    "}\n",
    "\n",
    "# ICC and World teams\n",
    "icc_world = {\n",
    "    'ICC/PAK': 'Pakistan',\n",
    "    'ICC/SL': 'Sri Lanka',\n",
    "    'ICC/IND': 'India',\n",
    "    'ICC/NEP': 'Nepal',\n",
    "    'BAN/ICC': 'Bangladesh',\n",
    "    'AFG/ICC': 'Afghanistan',\n",
    "    'SL/World': 'Sri Lanka',\n",
    "    'SA/World': 'South Africa',\n",
    "    'AUS/World': 'Australia',\n",
    "    'BAN/World': 'Bangladesh',\n",
    "    'WI/World': 'West Indies',\n",
    "}\n",
    "\n",
    "# Outlier/Miscellaneous Countries\n",
    "outlier_countries = {\n",
    "    '1': 'Miscellaneous Country 1',\n",
    "    '2': 'Miscellaneous Country 2',\n",
    "    '3': 'Miscellaneous Country 3',\n",
    "    'ICC': 'International Cricket Council',\n",
    "    'World': 'World XI',\n",
    "}\n",
    "\n",
    "# Filtered country codes excluding ICC, World teams, and miscellaneous\n",
    "filtered_countries = {\n",
    "    code: country\n",
    "    for code, country in country_codes.items()\n",
    "    if code not in icc_world and code not in outlier_countries\n",
    "}\n",
    "len(country_codes), len(icc_world), len(outlier_countries), len(filtered_countries)"
   ]
  },
  {
   "cell_type": "code",
   "execution_count": 10,
   "metadata": {},
   "outputs": [
    {
     "data": {
      "text/html": [
       "<div><style>\n",
       ".dataframe > thead > tr,\n",
       ".dataframe > tbody > tr {\n",
       "  text-align: right;\n",
       "  white-space: pre-wrap;\n",
       "}\n",
       "</style>\n",
       "<small>shape: (14_035, 9)</small><table border=\"1\" class=\"dataframe\"><thead><tr><th>Player</th><th>Mat</th><th>Inns</th><th>Dis</th><th>Ct</th><th>St</th><th>D/I</th><th>Season</th><th>Country</th></tr><tr><td>str</td><td>i64</td><td>f64</td><td>f64</td><td>f64</td><td>f64</td><td>f64</td><td>str</td><td>str</td></tr></thead><tbody><tr><td>&quot;A Ahmadhel&quot;</td><td>3</td><td>3.0</td><td>0.0</td><td>0.0</td><td>0.0</td><td>0.0</td><td>&quot;2019/20&quot;</td><td>&quot;BUL&quot;</td></tr><tr><td>&quot;A Ahmadhel&quot;</td><td>1</td><td>1.0</td><td>0.0</td><td>0.0</td><td>0.0</td><td>0.0</td><td>&quot;2020&quot;</td><td>&quot;BUL&quot;</td></tr><tr><td>&quot;A Ahmadhel&quot;</td><td>2</td><td>2.0</td><td>0.0</td><td>0.0</td><td>0.0</td><td>0.0</td><td>&quot;2020/21&quot;</td><td>&quot;BUL&quot;</td></tr><tr><td>&quot;A Ahmadhel&quot;</td><td>3</td><td>3.0</td><td>0.0</td><td>0.0</td><td>0.0</td><td>0.0</td><td>&quot;2021&quot;</td><td>&quot;BUL&quot;</td></tr><tr><td>&quot;A Ahmadhel&quot;</td><td>2</td><td>1.0</td><td>0.0</td><td>0.0</td><td>0.0</td><td>0.0</td><td>&quot;2023&quot;</td><td>&quot;BUL&quot;</td></tr><tr><td>&hellip;</td><td>&hellip;</td><td>&hellip;</td><td>&hellip;</td><td>&hellip;</td><td>&hellip;</td><td>&hellip;</td><td>&hellip;</td><td>&hellip;</td></tr><tr><td>&quot;Zulqarnain Haider&quot;</td><td>4</td><td>4.0</td><td>1.0</td><td>1.0</td><td>0.0</td><td>0.25</td><td>&quot;2019&quot;</td><td>&quot;ESP&quot;</td></tr><tr><td>&quot;Zulqarnain Haider&quot;</td><td>1</td><td>1.0</td><td>1.0</td><td>1.0</td><td>0.0</td><td>0.2</td><td>&quot;2019/20&quot;</td><td>&quot;ESP&quot;</td></tr><tr><td>&quot;Zulqarnain Haider&quot;</td><td>6</td><td>6.0</td><td>1.0</td><td>1.0</td><td>0.0</td><td>0.090909</td><td>&quot;2022&quot;</td><td>&quot;ESP&quot;</td></tr><tr><td>&quot;Zulqarnain Haider&quot;</td><td>1</td><td>1.0</td><td>0.0</td><td>0.0</td><td>0.0</td><td>0.0</td><td>&quot;2006/07&quot;</td><td>&quot;PAK&quot;</td></tr><tr><td>&quot;Zulqarnain Haider&quot;</td><td>2</td><td>2.0</td><td>1.0</td><td>0.0</td><td>1.0</td><td>0.333333</td><td>&quot;2010/11&quot;</td><td>&quot;PAK&quot;</td></tr></tbody></table></div>"
      ],
      "text/plain": [
       "shape: (14_035, 9)\n",
       "┌───────────────────┬─────┬──────┬─────┬───┬─────┬──────────┬─────────┬─────────┐\n",
       "│ Player            ┆ Mat ┆ Inns ┆ Dis ┆ … ┆ St  ┆ D/I      ┆ Season  ┆ Country │\n",
       "│ ---               ┆ --- ┆ ---  ┆ --- ┆   ┆ --- ┆ ---      ┆ ---     ┆ ---     │\n",
       "│ str               ┆ i64 ┆ f64  ┆ f64 ┆   ┆ f64 ┆ f64      ┆ str     ┆ str     │\n",
       "╞═══════════════════╪═════╪══════╪═════╪═══╪═════╪══════════╪═════════╪═════════╡\n",
       "│ A Ahmadhel        ┆ 3   ┆ 3.0  ┆ 0.0 ┆ … ┆ 0.0 ┆ 0.0      ┆ 2019/20 ┆ BUL     │\n",
       "│ A Ahmadhel        ┆ 1   ┆ 1.0  ┆ 0.0 ┆ … ┆ 0.0 ┆ 0.0      ┆ 2020    ┆ BUL     │\n",
       "│ A Ahmadhel        ┆ 2   ┆ 2.0  ┆ 0.0 ┆ … ┆ 0.0 ┆ 0.0      ┆ 2020/21 ┆ BUL     │\n",
       "│ A Ahmadhel        ┆ 3   ┆ 3.0  ┆ 0.0 ┆ … ┆ 0.0 ┆ 0.0      ┆ 2021    ┆ BUL     │\n",
       "│ A Ahmadhel        ┆ 2   ┆ 1.0  ┆ 0.0 ┆ … ┆ 0.0 ┆ 0.0      ┆ 2023    ┆ BUL     │\n",
       "│ …                 ┆ …   ┆ …    ┆ …   ┆ … ┆ …   ┆ …        ┆ …       ┆ …       │\n",
       "│ Zulqarnain Haider ┆ 4   ┆ 4.0  ┆ 1.0 ┆ … ┆ 0.0 ┆ 0.25     ┆ 2019    ┆ ESP     │\n",
       "│ Zulqarnain Haider ┆ 1   ┆ 1.0  ┆ 1.0 ┆ … ┆ 0.0 ┆ 0.2      ┆ 2019/20 ┆ ESP     │\n",
       "│ Zulqarnain Haider ┆ 6   ┆ 6.0  ┆ 1.0 ┆ … ┆ 0.0 ┆ 0.090909 ┆ 2022    ┆ ESP     │\n",
       "│ Zulqarnain Haider ┆ 1   ┆ 1.0  ┆ 0.0 ┆ … ┆ 0.0 ┆ 0.0      ┆ 2006/07 ┆ PAK     │\n",
       "│ Zulqarnain Haider ┆ 2   ┆ 2.0  ┆ 1.0 ┆ … ┆ 1.0 ┆ 0.333333 ┆ 2010/11 ┆ PAK     │\n",
       "└───────────────────┴─────┴──────┴─────┴───┴─────┴──────────┴─────────┴─────────┘"
      ]
     },
     "execution_count": 10,
     "metadata": {},
     "output_type": "execute_result"
    }
   ],
   "source": [
    "fielding_data = fielding_data.filter(pl.col(\"Country\").is_in(list(filtered_countries.keys())))\n",
    "fielding_data"
   ]
  },
  {
   "cell_type": "code",
   "execution_count": 11,
   "metadata": {},
   "outputs": [
    {
     "data": {
      "text/html": [
       "<div><style>\n",
       ".dataframe > thead > tr,\n",
       ".dataframe > tbody > tr {\n",
       "  text-align: right;\n",
       "  white-space: pre-wrap;\n",
       "}\n",
       "</style>\n",
       "<small>shape: (14_035, 9)</small><table border=\"1\" class=\"dataframe\"><thead><tr><th>Player</th><th>Mat</th><th>Inns</th><th>Dis</th><th>Ct</th><th>St</th><th>D/I</th><th>Season</th><th>Country</th></tr><tr><td>str</td><td>i64</td><td>f64</td><td>f64</td><td>f64</td><td>f64</td><td>f64</td><td>str</td><td>str</td></tr></thead><tbody><tr><td>&quot;A Ahmadhel&quot;</td><td>3</td><td>3.0</td><td>0.0</td><td>0.0</td><td>0.0</td><td>0.0</td><td>&quot;2019/20&quot;</td><td>&quot;Bulgaria&quot;</td></tr><tr><td>&quot;A Ahmadhel&quot;</td><td>1</td><td>1.0</td><td>0.0</td><td>0.0</td><td>0.0</td><td>0.0</td><td>&quot;2020&quot;</td><td>&quot;Bulgaria&quot;</td></tr><tr><td>&quot;A Ahmadhel&quot;</td><td>2</td><td>2.0</td><td>0.0</td><td>0.0</td><td>0.0</td><td>0.0</td><td>&quot;2020/21&quot;</td><td>&quot;Bulgaria&quot;</td></tr><tr><td>&quot;A Ahmadhel&quot;</td><td>3</td><td>3.0</td><td>0.0</td><td>0.0</td><td>0.0</td><td>0.0</td><td>&quot;2021&quot;</td><td>&quot;Bulgaria&quot;</td></tr><tr><td>&quot;A Ahmadhel&quot;</td><td>2</td><td>1.0</td><td>0.0</td><td>0.0</td><td>0.0</td><td>0.0</td><td>&quot;2023&quot;</td><td>&quot;Bulgaria&quot;</td></tr><tr><td>&hellip;</td><td>&hellip;</td><td>&hellip;</td><td>&hellip;</td><td>&hellip;</td><td>&hellip;</td><td>&hellip;</td><td>&hellip;</td><td>&hellip;</td></tr><tr><td>&quot;Zulqarnain Haider&quot;</td><td>4</td><td>4.0</td><td>1.0</td><td>1.0</td><td>0.0</td><td>0.25</td><td>&quot;2019&quot;</td><td>&quot;Spain&quot;</td></tr><tr><td>&quot;Zulqarnain Haider&quot;</td><td>1</td><td>1.0</td><td>1.0</td><td>1.0</td><td>0.0</td><td>0.2</td><td>&quot;2019/20&quot;</td><td>&quot;Spain&quot;</td></tr><tr><td>&quot;Zulqarnain Haider&quot;</td><td>6</td><td>6.0</td><td>1.0</td><td>1.0</td><td>0.0</td><td>0.090909</td><td>&quot;2022&quot;</td><td>&quot;Spain&quot;</td></tr><tr><td>&quot;Zulqarnain Haider&quot;</td><td>1</td><td>1.0</td><td>0.0</td><td>0.0</td><td>0.0</td><td>0.0</td><td>&quot;2006/07&quot;</td><td>&quot;Pakistan&quot;</td></tr><tr><td>&quot;Zulqarnain Haider&quot;</td><td>2</td><td>2.0</td><td>1.0</td><td>0.0</td><td>1.0</td><td>0.333333</td><td>&quot;2010/11&quot;</td><td>&quot;Pakistan&quot;</td></tr></tbody></table></div>"
      ],
      "text/plain": [
       "shape: (14_035, 9)\n",
       "┌───────────────────┬─────┬──────┬─────┬───┬─────┬──────────┬─────────┬──────────┐\n",
       "│ Player            ┆ Mat ┆ Inns ┆ Dis ┆ … ┆ St  ┆ D/I      ┆ Season  ┆ Country  │\n",
       "│ ---               ┆ --- ┆ ---  ┆ --- ┆   ┆ --- ┆ ---      ┆ ---     ┆ ---      │\n",
       "│ str               ┆ i64 ┆ f64  ┆ f64 ┆   ┆ f64 ┆ f64      ┆ str     ┆ str      │\n",
       "╞═══════════════════╪═════╪══════╪═════╪═══╪═════╪══════════╪═════════╪══════════╡\n",
       "│ A Ahmadhel        ┆ 3   ┆ 3.0  ┆ 0.0 ┆ … ┆ 0.0 ┆ 0.0      ┆ 2019/20 ┆ Bulgaria │\n",
       "│ A Ahmadhel        ┆ 1   ┆ 1.0  ┆ 0.0 ┆ … ┆ 0.0 ┆ 0.0      ┆ 2020    ┆ Bulgaria │\n",
       "│ A Ahmadhel        ┆ 2   ┆ 2.0  ┆ 0.0 ┆ … ┆ 0.0 ┆ 0.0      ┆ 2020/21 ┆ Bulgaria │\n",
       "│ A Ahmadhel        ┆ 3   ┆ 3.0  ┆ 0.0 ┆ … ┆ 0.0 ┆ 0.0      ┆ 2021    ┆ Bulgaria │\n",
       "│ A Ahmadhel        ┆ 2   ┆ 1.0  ┆ 0.0 ┆ … ┆ 0.0 ┆ 0.0      ┆ 2023    ┆ Bulgaria │\n",
       "│ …                 ┆ …   ┆ …    ┆ …   ┆ … ┆ …   ┆ …        ┆ …       ┆ …        │\n",
       "│ Zulqarnain Haider ┆ 4   ┆ 4.0  ┆ 1.0 ┆ … ┆ 0.0 ┆ 0.25     ┆ 2019    ┆ Spain    │\n",
       "│ Zulqarnain Haider ┆ 1   ┆ 1.0  ┆ 1.0 ┆ … ┆ 0.0 ┆ 0.2      ┆ 2019/20 ┆ Spain    │\n",
       "│ Zulqarnain Haider ┆ 6   ┆ 6.0  ┆ 1.0 ┆ … ┆ 0.0 ┆ 0.090909 ┆ 2022    ┆ Spain    │\n",
       "│ Zulqarnain Haider ┆ 1   ┆ 1.0  ┆ 0.0 ┆ … ┆ 0.0 ┆ 0.0      ┆ 2006/07 ┆ Pakistan │\n",
       "│ Zulqarnain Haider ┆ 2   ┆ 2.0  ┆ 1.0 ┆ … ┆ 1.0 ┆ 0.333333 ┆ 2010/11 ┆ Pakistan │\n",
       "└───────────────────┴─────┴──────┴─────┴───┴─────┴──────────┴─────────┴──────────┘"
      ]
     },
     "execution_count": 11,
     "metadata": {},
     "output_type": "execute_result"
    }
   ],
   "source": [
    "fielding_data = fielding_data.with_columns(fielding_data['Country'].replace(filtered_countries))\n",
    "fielding_data"
   ]
  },
  {
   "cell_type": "code",
   "execution_count": 12,
   "metadata": {},
   "outputs": [
    {
     "data": {
      "text/html": [
       "<div><style>\n",
       ".dataframe > thead > tr,\n",
       ".dataframe > tbody > tr {\n",
       "  text-align: right;\n",
       "  white-space: pre-wrap;\n",
       "}\n",
       "</style>\n",
       "<small>shape: (5_902, 3)</small><table border=\"1\" class=\"dataframe\"><thead><tr><th>Player</th><th>Country</th><th>player_id</th></tr><tr><td>str</td><td>str</td><td>str</td></tr></thead><tbody><tr><td>&quot;PS Athavale&quot;</td><td>&quot;Oman&quot;</td><td>&quot;c2f12310&quot;</td></tr><tr><td>&quot;HV Mandhyan&quot;</td><td>&quot;Hungary&quot;</td><td>&quot;11f56b14&quot;</td></tr><tr><td>&quot;L Kooagile&quot;</td><td>&quot;Botswana&quot;</td><td>&quot;88c742fb&quot;</td></tr><tr><td>&quot;T Maruma&quot;</td><td>&quot;Zimbabwe&quot;</td><td>&quot;f55c526f&quot;</td></tr><tr><td>&quot;AA Obanda&quot;</td><td>&quot;Kenya&quot;</td><td>&quot;7081491e&quot;</td></tr><tr><td>&hellip;</td><td>&hellip;</td><td>&hellip;</td></tr><tr><td>&quot;DR Patankar&quot;</td><td>&quot;Malta&quot;</td><td>&quot;e661915c&quot;</td></tr><tr><td>&quot;B Kumar&quot;</td><td>&quot;India&quot;</td><td>&quot;2e81a32d&quot;</td></tr><tr><td>&quot;LMM Tahuhu&quot;</td><td>&quot;New Zealand&quot;</td><td>&quot;60471339&quot;</td></tr><tr><td>&quot;Abdul Wahid&quot;</td><td>&quot;Saudi Arabia&quot;</td><td>&quot;40aea524&quot;</td></tr><tr><td>&quot;HER Tyler&quot;</td><td>&quot;Philippines&quot;</td><td>&quot;0ba9de33&quot;</td></tr></tbody></table></div>"
      ],
      "text/plain": [
       "shape: (5_902, 3)\n",
       "┌─────────────┬──────────────┬───────────┐\n",
       "│ Player      ┆ Country      ┆ player_id │\n",
       "│ ---         ┆ ---          ┆ ---       │\n",
       "│ str         ┆ str          ┆ str       │\n",
       "╞═════════════╪══════════════╪═══════════╡\n",
       "│ PS Athavale ┆ Oman         ┆ c2f12310  │\n",
       "│ HV Mandhyan ┆ Hungary      ┆ 11f56b14  │\n",
       "│ L Kooagile  ┆ Botswana     ┆ 88c742fb  │\n",
       "│ T Maruma    ┆ Zimbabwe     ┆ f55c526f  │\n",
       "│ AA Obanda   ┆ Kenya        ┆ 7081491e  │\n",
       "│ …           ┆ …            ┆ …         │\n",
       "│ DR Patankar ┆ Malta        ┆ e661915c  │\n",
       "│ B Kumar     ┆ India        ┆ 2e81a32d  │\n",
       "│ LMM Tahuhu  ┆ New Zealand  ┆ 60471339  │\n",
       "│ Abdul Wahid ┆ Saudi Arabia ┆ 40aea524  │\n",
       "│ HER Tyler   ┆ Philippines  ┆ 0ba9de33  │\n",
       "└─────────────┴──────────────┴───────────┘"
      ]
     },
     "execution_count": 12,
     "metadata": {},
     "output_type": "execute_result"
    }
   ],
   "source": [
    "players_data = pl.read_csv(r'D:\\github\\localt20\\processedData\\Players.csv').rename({\"player\": \"Player\",\"country\":\"Country\"})\n",
    "players_data"
   ]
  },
  {
   "cell_type": "code",
   "execution_count": 13,
   "metadata": {},
   "outputs": [
    {
     "data": {
      "text/html": [
       "<div><style>\n",
       ".dataframe > thead > tr,\n",
       ".dataframe > tbody > tr {\n",
       "  text-align: right;\n",
       "  white-space: pre-wrap;\n",
       "}\n",
       "</style>\n",
       "<small>shape: (13_060, 10)</small><table border=\"1\" class=\"dataframe\"><thead><tr><th>Player</th><th>Mat</th><th>Inns</th><th>Dis</th><th>Ct</th><th>St</th><th>D/I</th><th>Season</th><th>Country</th><th>player_id</th></tr><tr><td>str</td><td>i64</td><td>f64</td><td>f64</td><td>f64</td><td>f64</td><td>f64</td><td>str</td><td>str</td><td>str</td></tr></thead><tbody><tr><td>&quot;A Ahmadhel&quot;</td><td>3</td><td>3.0</td><td>0.0</td><td>0.0</td><td>0.0</td><td>0.0</td><td>&quot;2019/20&quot;</td><td>&quot;Bulgaria&quot;</td><td>&quot;55a5cffb&quot;</td></tr><tr><td>&quot;A Ahmadhel&quot;</td><td>1</td><td>1.0</td><td>0.0</td><td>0.0</td><td>0.0</td><td>0.0</td><td>&quot;2020&quot;</td><td>&quot;Bulgaria&quot;</td><td>&quot;55a5cffb&quot;</td></tr><tr><td>&quot;A Ahmadhel&quot;</td><td>2</td><td>2.0</td><td>0.0</td><td>0.0</td><td>0.0</td><td>0.0</td><td>&quot;2020/21&quot;</td><td>&quot;Bulgaria&quot;</td><td>&quot;55a5cffb&quot;</td></tr><tr><td>&quot;A Ahmadhel&quot;</td><td>3</td><td>3.0</td><td>0.0</td><td>0.0</td><td>0.0</td><td>0.0</td><td>&quot;2021&quot;</td><td>&quot;Bulgaria&quot;</td><td>&quot;55a5cffb&quot;</td></tr><tr><td>&quot;A Ahmadhel&quot;</td><td>2</td><td>1.0</td><td>0.0</td><td>0.0</td><td>0.0</td><td>0.0</td><td>&quot;2023&quot;</td><td>&quot;Bulgaria&quot;</td><td>&quot;55a5cffb&quot;</td></tr><tr><td>&hellip;</td><td>&hellip;</td><td>&hellip;</td><td>&hellip;</td><td>&hellip;</td><td>&hellip;</td><td>&hellip;</td><td>&hellip;</td><td>&hellip;</td><td>&hellip;</td></tr><tr><td>&quot;Zulqarnain Haider&quot;</td><td>4</td><td>4.0</td><td>1.0</td><td>1.0</td><td>0.0</td><td>0.25</td><td>&quot;2019&quot;</td><td>&quot;Spain&quot;</td><td>&quot;2d46e8ed&quot;</td></tr><tr><td>&quot;Zulqarnain Haider&quot;</td><td>1</td><td>1.0</td><td>1.0</td><td>1.0</td><td>0.0</td><td>0.2</td><td>&quot;2019/20&quot;</td><td>&quot;Spain&quot;</td><td>&quot;2d46e8ed&quot;</td></tr><tr><td>&quot;Zulqarnain Haider&quot;</td><td>6</td><td>6.0</td><td>1.0</td><td>1.0</td><td>0.0</td><td>0.090909</td><td>&quot;2022&quot;</td><td>&quot;Spain&quot;</td><td>&quot;2d46e8ed&quot;</td></tr><tr><td>&quot;Zulqarnain Haider&quot;</td><td>1</td><td>1.0</td><td>0.0</td><td>0.0</td><td>0.0</td><td>0.0</td><td>&quot;2006/07&quot;</td><td>&quot;Pakistan&quot;</td><td>&quot;ee9bdbc8&quot;</td></tr><tr><td>&quot;Zulqarnain Haider&quot;</td><td>2</td><td>2.0</td><td>1.0</td><td>0.0</td><td>1.0</td><td>0.333333</td><td>&quot;2010/11&quot;</td><td>&quot;Pakistan&quot;</td><td>&quot;ee9bdbc8&quot;</td></tr></tbody></table></div>"
      ],
      "text/plain": [
       "shape: (13_060, 10)\n",
       "┌───────────────────┬─────┬──────┬─────┬───┬──────────┬─────────┬──────────┬───────────┐\n",
       "│ Player            ┆ Mat ┆ Inns ┆ Dis ┆ … ┆ D/I      ┆ Season  ┆ Country  ┆ player_id │\n",
       "│ ---               ┆ --- ┆ ---  ┆ --- ┆   ┆ ---      ┆ ---     ┆ ---      ┆ ---       │\n",
       "│ str               ┆ i64 ┆ f64  ┆ f64 ┆   ┆ f64      ┆ str     ┆ str      ┆ str       │\n",
       "╞═══════════════════╪═════╪══════╪═════╪═══╪══════════╪═════════╪══════════╪═══════════╡\n",
       "│ A Ahmadhel        ┆ 3   ┆ 3.0  ┆ 0.0 ┆ … ┆ 0.0      ┆ 2019/20 ┆ Bulgaria ┆ 55a5cffb  │\n",
       "│ A Ahmadhel        ┆ 1   ┆ 1.0  ┆ 0.0 ┆ … ┆ 0.0      ┆ 2020    ┆ Bulgaria ┆ 55a5cffb  │\n",
       "│ A Ahmadhel        ┆ 2   ┆ 2.0  ┆ 0.0 ┆ … ┆ 0.0      ┆ 2020/21 ┆ Bulgaria ┆ 55a5cffb  │\n",
       "│ A Ahmadhel        ┆ 3   ┆ 3.0  ┆ 0.0 ┆ … ┆ 0.0      ┆ 2021    ┆ Bulgaria ┆ 55a5cffb  │\n",
       "│ A Ahmadhel        ┆ 2   ┆ 1.0  ┆ 0.0 ┆ … ┆ 0.0      ┆ 2023    ┆ Bulgaria ┆ 55a5cffb  │\n",
       "│ …                 ┆ …   ┆ …    ┆ …   ┆ … ┆ …        ┆ …       ┆ …        ┆ …         │\n",
       "│ Zulqarnain Haider ┆ 4   ┆ 4.0  ┆ 1.0 ┆ … ┆ 0.25     ┆ 2019    ┆ Spain    ┆ 2d46e8ed  │\n",
       "│ Zulqarnain Haider ┆ 1   ┆ 1.0  ┆ 1.0 ┆ … ┆ 0.2      ┆ 2019/20 ┆ Spain    ┆ 2d46e8ed  │\n",
       "│ Zulqarnain Haider ┆ 6   ┆ 6.0  ┆ 1.0 ┆ … ┆ 0.090909 ┆ 2022    ┆ Spain    ┆ 2d46e8ed  │\n",
       "│ Zulqarnain Haider ┆ 1   ┆ 1.0  ┆ 0.0 ┆ … ┆ 0.0      ┆ 2006/07 ┆ Pakistan ┆ ee9bdbc8  │\n",
       "│ Zulqarnain Haider ┆ 2   ┆ 2.0  ┆ 1.0 ┆ … ┆ 0.333333 ┆ 2010/11 ┆ Pakistan ┆ ee9bdbc8  │\n",
       "└───────────────────┴─────┴──────┴─────┴───┴──────────┴─────────┴──────────┴───────────┘"
      ]
     },
     "execution_count": 13,
     "metadata": {},
     "output_type": "execute_result"
    }
   ],
   "source": [
    "fielding_data = fielding_data.join(players_data, on=[\"Player\",\"Country\"], how=\"inner\")\n",
    "fielding_data"
   ]
  },
  {
   "cell_type": "code",
   "execution_count": 14,
   "metadata": {},
   "outputs": [
    {
     "data": {
      "text/html": [
       "<div><style>\n",
       ".dataframe > thead > tr,\n",
       ".dataframe > tbody > tr {\n",
       "  text-align: right;\n",
       "  white-space: pre-wrap;\n",
       "}\n",
       "</style>\n",
       "<small>shape: (1, 10)</small><table border=\"1\" class=\"dataframe\"><thead><tr><th>Player</th><th>Mat</th><th>Inns</th><th>Dis</th><th>Ct</th><th>St</th><th>D/I</th><th>Season</th><th>Country</th><th>player_id</th></tr><tr><td>u32</td><td>u32</td><td>u32</td><td>u32</td><td>u32</td><td>u32</td><td>u32</td><td>u32</td><td>u32</td><td>u32</td></tr></thead><tbody><tr><td>0</td><td>0</td><td>0</td><td>0</td><td>0</td><td>0</td><td>0</td><td>0</td><td>0</td><td>0</td></tr></tbody></table></div>"
      ],
      "text/plain": [
       "shape: (1, 10)\n",
       "┌────────┬─────┬──────┬─────┬───┬─────┬────────┬─────────┬───────────┐\n",
       "│ Player ┆ Mat ┆ Inns ┆ Dis ┆ … ┆ D/I ┆ Season ┆ Country ┆ player_id │\n",
       "│ ---    ┆ --- ┆ ---  ┆ --- ┆   ┆ --- ┆ ---    ┆ ---     ┆ ---       │\n",
       "│ u32    ┆ u32 ┆ u32  ┆ u32 ┆   ┆ u32 ┆ u32    ┆ u32     ┆ u32       │\n",
       "╞════════╪═════╪══════╪═════╪═══╪═════╪════════╪═════════╪═══════════╡\n",
       "│ 0      ┆ 0   ┆ 0    ┆ 0   ┆ … ┆ 0   ┆ 0      ┆ 0       ┆ 0         │\n",
       "└────────┴─────┴──────┴─────┴───┴─────┴────────┴─────────┴───────────┘"
      ]
     },
     "execution_count": 14,
     "metadata": {},
     "output_type": "execute_result"
    }
   ],
   "source": [
    "fielding_data.null_count()"
   ]
  },
  {
   "cell_type": "code",
   "execution_count": 15,
   "metadata": {},
   "outputs": [],
   "source": [
    "fielding_data.write_csv(r'D:\\github\\localt20\\processedData\\fielding.csv')"
   ]
  },
  {
   "cell_type": "code",
   "execution_count": null,
   "metadata": {},
   "outputs": [],
   "source": []
  }
 ],
 "metadata": {
  "kernelspec": {
   "display_name": "eda",
   "language": "python",
   "name": "python3"
  },
  "language_info": {
   "codemirror_mode": {
    "name": "ipython",
    "version": 3
   },
   "file_extension": ".py",
   "mimetype": "text/x-python",
   "name": "python",
   "nbconvert_exporter": "python",
   "pygments_lexer": "ipython3",
   "version": "3.8.19"
  }
 },
 "nbformat": 4,
 "nbformat_minor": 2
}
